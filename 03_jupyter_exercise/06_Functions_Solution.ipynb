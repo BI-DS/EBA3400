{
 "cells": [
  {
   "cell_type": "markdown",
   "metadata": {},
   "source": [
    "**(1) Write a program that takes the temperature in Celsius (c) as a parameter. The function should convert the temperature to Fahrenheit and print the result. Test your function with  (1) <code>c = 20</code> (2) <code>c = 35</code>.**<br> \n",
    "Hint: Fahrenheit = ( Celsius $\\times 9 $ ) $\\div 5 + 32$<br>"
   ]
  },
  {
   "cell_type": "code",
   "execution_count": 1,
   "metadata": {},
   "outputs": [],
   "source": [
    "# define\n",
    "def convert(c):\n",
    "    print (c*9/5+32)"
   ]
  },
  {
   "cell_type": "code",
   "execution_count": 2,
   "metadata": {},
   "outputs": [
    {
     "name": "stdout",
     "output_type": "stream",
     "text": [
      "68.0\n"
     ]
    }
   ],
   "source": [
    "# call\n",
    "convert(20)"
   ]
  },
  {
   "cell_type": "code",
   "execution_count": 3,
   "metadata": {},
   "outputs": [
    {
     "name": "stdout",
     "output_type": "stream",
     "text": [
      "95.0\n"
     ]
    }
   ],
   "source": [
    "# call\n",
    "convert(35)"
   ]
  },
  {
   "cell_type": "markdown",
   "metadata": {},
   "source": [
    "**(2) The Body mass index (BMI) is a value derived from a person's weight (kg) and height (m) and can be calculated using the following formula. Write a function that takes weight and height as parameters and prints the BMI. Round the number to two decimal places. Test your function with  (1) <code>weight = 70, height = 1.68 </code> (2) <code>weight = 85, height = 1.76</code>.**<br>\n",
    "\n",
    "<center>$BMI = \\frac{weight}{(height)^2}$</center>"
   ]
  },
  {
   "cell_type": "code",
   "execution_count": 4,
   "metadata": {},
   "outputs": [],
   "source": [
    "# define\n",
    "def bmi(w, h):\n",
    "    print(round(w/h**2,2))"
   ]
  },
  {
   "cell_type": "code",
   "execution_count": 5,
   "metadata": {},
   "outputs": [
    {
     "name": "stdout",
     "output_type": "stream",
     "text": [
      "21.26\n"
     ]
    }
   ],
   "source": [
    "# call\n",
    "bmi(60, 1.68)"
   ]
  },
  {
   "cell_type": "code",
   "execution_count": 6,
   "metadata": {},
   "outputs": [
    {
     "name": "stdout",
     "output_type": "stream",
     "text": [
      "27.44\n"
     ]
    }
   ],
   "source": [
    "# call\n",
    "bmi(85, 1.76)"
   ]
  },
  {
   "cell_type": "markdown",
   "metadata": {},
   "source": [
    "**(3) Write a function with a parameter <code>option</code> and print out the message according to the following table. Test your function by passing  (1)<code>option = 1</code> (2) <code>option = 9</code>.**"
   ]
  },
  {
   "cell_type": "markdown",
   "metadata": {},
   "source": [
    "| test | print out |\n",
    "|:-:|:-:|\n",
    "|option = 1|Can I call you later?|\n",
    "|option = 2|I'm on my way.|\n",
    "|None of the above expression are true|Sorry, I can't talk right now.|"
   ]
  },
  {
   "cell_type": "code",
   "execution_count": 7,
   "metadata": {},
   "outputs": [],
   "source": [
    "# define\n",
    "def auto_reply_sms(option):\n",
    "    if option == 1:\n",
    "        print(\"Can I call you later?\")\n",
    "    elif option == 2:\n",
    "        print(\"I'm on my way.\")\n",
    "    else:\n",
    "        print(\"Sorry, I can't talk right now.\")"
   ]
  },
  {
   "cell_type": "code",
   "execution_count": 8,
   "metadata": {},
   "outputs": [
    {
     "name": "stdout",
     "output_type": "stream",
     "text": [
      "Can I call you later?\n"
     ]
    }
   ],
   "source": [
    "# call\n",
    "auto_reply_sms(1)"
   ]
  },
  {
   "cell_type": "code",
   "execution_count": 9,
   "metadata": {},
   "outputs": [
    {
     "name": "stdout",
     "output_type": "stream",
     "text": [
      "Sorry, I can't talk right now.\n"
     ]
    }
   ],
   "source": [
    "# call\n",
    "auto_reply_sms(9)"
   ]
  },
  {
   "cell_type": "markdown",
   "metadata": {},
   "source": [
    "**(4) The table below shows the cost of riding a scooter, depending on the ride time and the user's membership. Write a function to calculate the user's ride cost and print the cost.**   \n"
   ]
  },
  {
   "cell_type": "markdown",
   "metadata": {},
   "source": [
    "|cost|non-member|member|\n",
    "|:-:|:-:|:-:|\n",
    "|ride time $ \\le 5$ mins|20 kr |15 kr |\n",
    "|ride time $ > 5$ mins| The first 5 minutes is 20 kr. <br>After 5 minutes, it will cost 2.5 kr per minute|The first 5 minutes is 15 kr. <br>After 5 minutes, it will cost 2 kr per minute|"
   ]
  },
  {
   "cell_type": "markdown",
   "metadata": {},
   "source": [
    "Use the function to calculate the ride cost of these two users:<br>\n",
    "(1) User-A: non-member, ride time is 10 mins<br>\n",
    "(2) User-B: member, ride time is 8 mins<br>"
   ]
  },
  {
   "cell_type": "code",
   "execution_count": 10,
   "metadata": {},
   "outputs": [],
   "source": [
    "# define\n",
    "def compute_cost(t, member):\n",
    "    if member == False:\n",
    "        if t <= 5:\n",
    "            print(\"Cost: 20 kr\")\n",
    "        else:\n",
    "            print(\"Cost:\", 20+(t-5)*2.5, \"kr\")\n",
    "    else:\n",
    "        if t <= 5:\n",
    "            print(\"Cost: 15 kr\")\n",
    "        else:\n",
    "            print(\"Cost:\", 15+(t-5)*2, \"kr\")"
   ]
  },
  {
   "cell_type": "code",
   "execution_count": 11,
   "metadata": {},
   "outputs": [
    {
     "name": "stdout",
     "output_type": "stream",
     "text": [
      "Cost: 32.5 kr\n"
     ]
    }
   ],
   "source": [
    "# call\n",
    "compute_cost(10, False)"
   ]
  },
  {
   "cell_type": "code",
   "execution_count": 12,
   "metadata": {},
   "outputs": [
    {
     "name": "stdout",
     "output_type": "stream",
     "text": [
      "Cost: 21 kr\n"
     ]
    }
   ],
   "source": [
    "# call\n",
    "compute_cost(8, True)"
   ]
  },
  {
   "cell_type": "markdown",
   "metadata": {},
   "source": [
    "**(5) Write a function that takes a string as an argument. If the string contains at least 8 characters, the function should return \"valid password\", otherwise, the function returns \"invalid password\".\" Test your function by passing (1)<code>\"python123\" </code>(2)<code>\"abc123\"</code>. Print out the returned values.**"
   ]
  },
  {
   "cell_type": "code",
   "execution_count": 13,
   "metadata": {},
   "outputs": [],
   "source": [
    "# define \n",
    "def password_check(pw):\n",
    "    if len(pw)>=8:\n",
    "        return \"valid password\"\n",
    "    else:\n",
    "        return \"invalid password\""
   ]
  },
  {
   "cell_type": "code",
   "execution_count": 14,
   "metadata": {},
   "outputs": [
    {
     "name": "stdout",
     "output_type": "stream",
     "text": [
      "valid password\n"
     ]
    }
   ],
   "source": [
    "# call and print\n",
    "print(password_check(\"python123\"))"
   ]
  },
  {
   "cell_type": "code",
   "execution_count": 15,
   "metadata": {},
   "outputs": [
    {
     "name": "stdout",
     "output_type": "stream",
     "text": [
      "invalid password\n"
     ]
    }
   ],
   "source": [
    "# call and print\n",
    "print(password_check(\"abc123\"))"
   ]
  },
  {
   "cell_type": "markdown",
   "metadata": {},
   "source": [
    "**(6) Suppose you go to a restaurant and the amount spent is <code>a</code>. You want to tip <code>p*a</code> (usually <code>p</code> is a number between 5% and 25%). Write a function that takes <code>a</code> and <code>p</code> as parameters and <code>returns</code> the final amount including the tip. Note that the final amount should be rounded to the nearest whole number. Test your functon with (1)<code>a=1000, p=0.1</code> (2) <code>a=585, p=0.05</code>**"
   ]
  },
  {
   "cell_type": "code",
   "execution_count": 16,
   "metadata": {},
   "outputs": [],
   "source": [
    "# define \n",
    "def amount (a, p):\n",
    "    t = round(a*(1+p))\n",
    "    return t"
   ]
  },
  {
   "cell_type": "code",
   "execution_count": 17,
   "metadata": {},
   "outputs": [
    {
     "data": {
      "text/plain": [
       "1100"
      ]
     },
     "execution_count": 17,
     "metadata": {},
     "output_type": "execute_result"
    }
   ],
   "source": [
    "# call \n",
    "amount(1000, 0.1)"
   ]
  },
  {
   "cell_type": "code",
   "execution_count": 18,
   "metadata": {},
   "outputs": [
    {
     "data": {
      "text/plain": [
       "614"
      ]
     },
     "execution_count": 18,
     "metadata": {},
     "output_type": "execute_result"
    }
   ],
   "source": [
    "# call \n",
    "amount(585,0.05)"
   ]
  },
  {
   "cell_type": "markdown",
   "metadata": {},
   "source": [
    "**(7) Write a function that takes a list of numbers as an argument. The function should calculate the sum of positive numbers and return the result.**<br>\n",
    "\n",
    "For example:<br>\n",
    "Given a list <code>[15, 10, -9, -32]</code>, the function should return <code>25</code>. \n",
    "\n",
    "Test your function by passing:<br>\n",
    "(1) <code>[-6, -45, -30, 14, 44, -3, 43, -17]</code><br>\n",
    "(2) <code>[-26, 25, 40, 31, -37, 3, 11, -54, -57, -56, 35, 6]</code><br>\n",
    "\n",
    "Store the returned values to the variables <code>x</code> and <code>y</code>, check if <code>x</code> is greater than <code>y</code>. "
   ]
  },
  {
   "cell_type": "code",
   "execution_count": 19,
   "metadata": {},
   "outputs": [],
   "source": [
    "# define\n",
    "def get_sum(num_list):\n",
    "    pos_sum = 0\n",
    "    for n in num_list:\n",
    "        if n>0:\n",
    "            pos_sum+=n\n",
    "    return pos_sum"
   ]
  },
  {
   "cell_type": "code",
   "execution_count": 20,
   "metadata": {},
   "outputs": [],
   "source": [
    "# call\n",
    "x = get_sum([-6, -45, -30, 14, 44, -3, 43, -17])\n",
    "y = get_sum([-26, 25, 40, 31, -37, 3, 11, -54, -57, -56, 35, 6])"
   ]
  },
  {
   "cell_type": "code",
   "execution_count": 21,
   "metadata": {},
   "outputs": [
    {
     "data": {
      "text/plain": [
       "False"
      ]
     },
     "execution_count": 21,
     "metadata": {},
     "output_type": "execute_result"
    }
   ],
   "source": [
    "# compare\n",
    "x>y"
   ]
  },
  {
   "cell_type": "markdown",
   "metadata": {},
   "source": [
    "**(8) Write a function to calculate taxes based on income.**  "
   ]
  },
  {
   "cell_type": "markdown",
   "metadata": {},
   "source": [
    "|income| tax rate | \n",
    "|:-:|:-:|\n",
    "|income $<$ 300000 | 25%  |\n",
    "|300000 $\\le $ income $<$ 600000  | 30% |\n",
    "|income $\\ge$ 600000 | 35% |"
   ]
  },
  {
   "cell_type": "markdown",
   "metadata": {},
   "source": [
    "The following list stores the income of 8 residents. Help them calculate the taxes they need to pay and store the results in a list."
   ]
  },
  {
   "cell_type": "code",
   "execution_count": 22,
   "metadata": {},
   "outputs": [],
   "source": [
    "income_list = [550000, 750000, 480000, 320000, 270000, 640000, 250000, 590000]"
   ]
  },
  {
   "cell_type": "code",
   "execution_count": 23,
   "metadata": {},
   "outputs": [],
   "source": [
    "# define\n",
    "def compute_taxes(income):\n",
    "    if income<300000:\n",
    "        return income*0.25\n",
    "    elif income<600000:\n",
    "        return income*0.3\n",
    "    else:\n",
    "        return income*0.35\n"
   ]
  },
  {
   "cell_type": "code",
   "execution_count": 24,
   "metadata": {},
   "outputs": [
    {
     "name": "stdout",
     "output_type": "stream",
     "text": [
      "[165000.0, 262500.0, 144000.0, 96000.0, 67500.0, 224000.0, 62500.0, 177000.0]\n"
     ]
    }
   ],
   "source": [
    "# call\n",
    "taxes_list = []\n",
    "for i in income_list:\n",
    "    taxes_list.append(compute_taxes(i))\n",
    "    \n",
    "print(taxes_list)"
   ]
  },
  {
   "cell_type": "markdown",
   "metadata": {},
   "source": [
    "**(9) The Strawberry Company makes a smartphone. The profit from selling <code>q</code> smartphones can be calculated by the following function. What is the profit of selling 150 smartphones?**"
   ]
  },
  {
   "cell_type": "code",
   "execution_count": 25,
   "metadata": {},
   "outputs": [],
   "source": [
    "def compute_profit(q):\n",
    "    \n",
    "    profit = (9500-4000)*q-1000000\n",
    "    \n",
    "    return profit"
   ]
  },
  {
   "cell_type": "code",
   "execution_count": 26,
   "metadata": {},
   "outputs": [
    {
     "data": {
      "text/plain": [
       "-175000"
      ]
     },
     "execution_count": 26,
     "metadata": {},
     "output_type": "execute_result"
    }
   ],
   "source": [
    "compute_profit(150)"
   ]
  },
  {
   "cell_type": "markdown",
   "metadata": {},
   "source": [
    "**(10) Use the function defined in (9) and write a loop to determine the minimum number of phones\n",
    "that Strawberry AS can sell and still avoid losing money, i.e. the profit should be greater than zero.**"
   ]
  },
  {
   "cell_type": "code",
   "execution_count": 27,
   "metadata": {},
   "outputs": [
    {
     "name": "stdout",
     "output_type": "stream",
     "text": [
      "182\n"
     ]
    }
   ],
   "source": [
    "min_q = 0                   # Number of phones sold\n",
    "p = compute_profit(min_q)   # Profit from q phones\n",
    "\n",
    "while p<0:\n",
    "    min_q +=1\n",
    "    p = compute_profit(min_q)\n",
    "    \n",
    "print(min_q)"
   ]
  }
 ],
 "metadata": {
  "kernelspec": {
   "display_name": "Python 3 (ipykernel)",
   "language": "python",
   "name": "python3"
  },
  "language_info": {
   "codemirror_mode": {
    "name": "ipython",
    "version": 3
   },
   "file_extension": ".py",
   "mimetype": "text/x-python",
   "name": "python",
   "nbconvert_exporter": "python",
   "pygments_lexer": "ipython3",
   "version": "3.9.7"
  }
 },
 "nbformat": 4,
 "nbformat_minor": 4
}
