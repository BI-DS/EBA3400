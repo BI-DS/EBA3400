{
 "cells": [
  {
   "cell_type": "markdown",
   "metadata": {},
   "source": [
    "**(1) Write a program that takes the temperature in Celsius (c) as a parameter. The function should convert the temperature to Fahrenheit and print the result. Test your function with  (1) <code>c = 20</code> (2) <code>c = 35</code>.**<br> \n",
    "Hint: Fahrenheit = ( Celsius $\\times 9 $ ) $\\div 5 + 32$<br>"
   ]
  },
  {
   "cell_type": "code",
   "execution_count": null,
   "metadata": {},
   "outputs": [],
   "source": [
    "# define"
   ]
  },
  {
   "cell_type": "code",
   "execution_count": null,
   "metadata": {},
   "outputs": [],
   "source": [
    "# call"
   ]
  },
  {
   "cell_type": "code",
   "execution_count": null,
   "metadata": {},
   "outputs": [],
   "source": [
    "# call"
   ]
  },
  {
   "cell_type": "markdown",
   "metadata": {},
   "source": [
    "**(2) The Body mass index (BMI) is a value derived from a person's weight (kg) and height (m) and can be calculated using the following formula. Write a function that takes weight and height as parameters and prints the BMI. Round the number to two decimal places.** \n",
    "\n",
    "<center>$BMI = \\frac{weight}{(height)^2}$</center>\n",
    "\n",
    "**Test your function with: <br>\n",
    "(1) <code>weight = 70, height = 1.68 </code><br>\n",
    "(2) <code>weight = 85, height = 1.76</code>.**"
   ]
  },
  {
   "cell_type": "code",
   "execution_count": null,
   "metadata": {},
   "outputs": [],
   "source": [
    "# define"
   ]
  },
  {
   "cell_type": "code",
   "execution_count": null,
   "metadata": {},
   "outputs": [],
   "source": [
    "# call"
   ]
  },
  {
   "cell_type": "code",
   "execution_count": null,
   "metadata": {},
   "outputs": [],
   "source": [
    "# call"
   ]
  },
  {
   "cell_type": "markdown",
   "metadata": {},
   "source": [
    "**(3) Write a function named <code>count_vowels</code> that takes a string as an argument.  This function should count and print the number of vowels in the string (A, E, I, O, U, case insensitive). Test your function by passing  (1)<code>\"hello world\"</code> (2) <code>\"PYTHON\"</code>.**"
   ]
  },
  {
   "cell_type": "code",
   "execution_count": null,
   "metadata": {},
   "outputs": [],
   "source": [
    "# define"
   ]
  },
  {
   "cell_type": "code",
   "execution_count": null,
   "metadata": {},
   "outputs": [],
   "source": [
    "# call"
   ]
  },
  {
   "cell_type": "code",
   "execution_count": null,
   "metadata": {},
   "outputs": [],
   "source": [
    "# call"
   ]
  },
  {
   "cell_type": "markdown",
   "metadata": {},
   "source": [
    "**(4) The table below shows the cost of riding a scooter, depending on the ride time and the user's membership. Write a function to calculate and print the user's ride cost.**   \n"
   ]
  },
  {
   "cell_type": "markdown",
   "metadata": {},
   "source": [
    "|cost|non-member|member|\n",
    "|:-:|:-:|:-:|\n",
    "|ride time $ \\le 5$ mins|20 kr |15 kr |\n",
    "|ride time $ > 5$ mins| The first 5 minutes is 20 kr. <br>After 5 minutes, it will cost 2.5 kr per minute|The first 5 minutes is 15 kr. <br>After 5 minutes, it will cost 2 kr per minute|"
   ]
  },
  {
   "cell_type": "markdown",
   "metadata": {},
   "source": [
    "**Use the function to calculate the ride cost of the following two users:**<br>\n",
    "(1) User-A: non-member, ride time is 10 mins<br>\n",
    "(2) User-B: member, ride time is 8 mins<br>"
   ]
  },
  {
   "cell_type": "code",
   "execution_count": null,
   "metadata": {},
   "outputs": [],
   "source": [
    "# define"
   ]
  },
  {
   "cell_type": "code",
   "execution_count": null,
   "metadata": {},
   "outputs": [],
   "source": [
    "# call"
   ]
  },
  {
   "cell_type": "code",
   "execution_count": null,
   "metadata": {},
   "outputs": [],
   "source": [
    "# call"
   ]
  },
  {
   "cell_type": "markdown",
   "metadata": {},
   "source": [
    "**(5) Write a function that takes a string as an argument. If the string contains at least 8 characters, the function should return \"valid password\", otherwise, the function returns \"invalid password\".\" Test your function by passing (1)<code>\"python123\" </code>(2)<code>\"abc123\"</code>. Print out the returned values.**"
   ]
  },
  {
   "cell_type": "code",
   "execution_count": null,
   "metadata": {},
   "outputs": [],
   "source": [
    "# define "
   ]
  },
  {
   "cell_type": "code",
   "execution_count": null,
   "metadata": {},
   "outputs": [],
   "source": [
    "# call and print"
   ]
  },
  {
   "cell_type": "code",
   "execution_count": null,
   "metadata": {},
   "outputs": [],
   "source": [
    "# call and print"
   ]
  },
  {
   "cell_type": "markdown",
   "metadata": {},
   "source": [
    "**(6) Suppose you go to a restaurant and the amount spent is <code>a</code>. You want to tip <code>p*a</code> (usually <code>p</code> is a number between 5% and 25%). Write a function that takes <code>a</code> and <code>p</code> as parameters and returns the final amount including the tip. Note that the final amount should be rounded to the nearest whole number. Test your functon with (1)<code>a = 1000, p = 0.1</code> (2) <code>a = 585, p = 0.05</code>**"
   ]
  },
  {
   "cell_type": "code",
   "execution_count": null,
   "metadata": {},
   "outputs": [],
   "source": [
    "# define "
   ]
  },
  {
   "cell_type": "code",
   "execution_count": null,
   "metadata": {},
   "outputs": [],
   "source": [
    "# call "
   ]
  },
  {
   "cell_type": "code",
   "execution_count": null,
   "metadata": {},
   "outputs": [],
   "source": [
    "# call "
   ]
  },
  {
   "cell_type": "markdown",
   "metadata": {},
   "source": [
    "**(7) The weighted average is a statistical metric that considers the importance of each data point. Write a function called <code>get_weighted_mean</code> that takes a list of sublists as a parameter. Each sublist contains two elements $[x_i, w_i]$, where $x_i$ represents individual data values and $w_i$ represents the corresponding weights for each data value.\n",
    "The function should calculate and return the weighted mean using the following formula. Round the result to one decimal place.** \n",
    "\n",
    "$$\n",
    "\\bar{x} = \\frac{\\sum_{i=1}^{n} (x_i \\cdot w_i)}{\\sum_{i=1}^{n} w_i}\n",
    "$$\n",
    "**where:**\n",
    "- $n$ is is the number of data points.\n",
    "- $\\sum_{i=1}^{n} (x_i \\cdot w_i)$ is the sum of the products of data values and their corresponding weights.\n",
    "- $\\sum_{i=1}^{n} w_i$ is the sum of all the weights.\n",
    "\n",
    "**For example, if you have taken three quizzes with scores are 80, 75, 85, and the weights are 0.5, 0.3, 0.2 respectively, the function should calculate the weighted mean as follows: <br>**\n",
    "$$\\bar{x} = \\frac{(80 \\times 0.5) + (75 \\times 0.3) + (85 \\times 0.2) }{0.5+0.3+0.2} = 79.5$$\n"
   ]
  },
  {
   "cell_type": "code",
   "execution_count": null,
   "metadata": {},
   "outputs": [],
   "source": [
    "# define"
   ]
  },
  {
   "cell_type": "code",
   "execution_count": null,
   "metadata": {},
   "outputs": [],
   "source": [
    "# call\n",
    "data_1 = [[80, 0.5], [75, 0.3], [85, 0.2]]\n",
    "get_weighted_mean(data_1)"
   ]
  },
  {
   "cell_type": "code",
   "execution_count": null,
   "metadata": {},
   "outputs": [],
   "source": [
    "# call\n",
    "data_2 = [[60, 0.3], [70, 0.3], [65, 0.3], [80, 0.2], [75, 0.2]]\n",
    "get_weighted_mean(data_2)"
   ]
  },
  {
   "cell_type": "markdown",
   "metadata": {},
   "source": [
    "**(8) Modify the following function  by adding a conditional statement to check the data type of the input argument for \"text\". If the argument is not of string data type, the function should print \"Please pass a valid string variable.\" Otherwise, it should count and print the number of words in the text. Test your functon with (1) <code>text = \"hello world\"</code> (2) <code>text = 123</code>.** <br>\n",
    "\n",
    "Hint: Search online 'How to check if a value is of a certain type in python'.<br>"
   ]
  },
  {
   "cell_type": "code",
   "execution_count": null,
   "metadata": {},
   "outputs": [],
   "source": [
    "# define \n",
    "def word_counter(text):\n",
    "    word_list = text.split()\n",
    "    print(\"number of words: \", len(word_list))"
   ]
  },
  {
   "cell_type": "code",
   "execution_count": null,
   "metadata": {},
   "outputs": [],
   "source": [
    "# call "
   ]
  },
  {
   "cell_type": "code",
   "execution_count": null,
   "metadata": {},
   "outputs": [],
   "source": [
    "# call "
   ]
  },
  {
   "cell_type": "markdown",
   "metadata": {},
   "source": [
    "**(9) Write a function called <code>count_passing_students</code> that takes two parameters:**\n",
    "\n",
    "- **scores** (a list of numbers) represents student scores.\n",
    "- **h** (an integer) represents the minimum threshold to pass the course, and the default value is 6.\n",
    "\n",
    "**The function should count and return the number of students who passed the course (i.e., whose scores are greater than or equal to the threshold h). Use the following list <code>exam_scores</code> to test your function and see how many students passed the course. If the threshold is 5 instead, see how many students passed the course.**"
   ]
  },
  {
   "cell_type": "code",
   "execution_count": null,
   "metadata": {},
   "outputs": [],
   "source": [
    "# define"
   ]
  },
  {
   "cell_type": "code",
   "execution_count": null,
   "metadata": {},
   "outputs": [],
   "source": [
    "exam_scores = [6, 10, 5, 8, 8.5, 4.5, 9, 7.5, 6.5, 9, 4, 6.5, 5.5, 9.5]"
   ]
  },
  {
   "cell_type": "code",
   "execution_count": null,
   "metadata": {},
   "outputs": [],
   "source": [
    "# call "
   ]
  },
  {
   "cell_type": "code",
   "execution_count": null,
   "metadata": {},
   "outputs": [],
   "source": [
    "# call "
   ]
  },
  {
   "cell_type": "markdown",
   "metadata": {},
   "source": [
    "**(10) The table below shows tax rates based on income range. For example, if your income is 400000, the tax payable is 400000*0.3 = 120000.**"
   ]
  },
  {
   "cell_type": "markdown",
   "metadata": {},
   "source": [
    "|income| tax rate | \n",
    "|:-:|:-:|\n",
    "|income $<$ 300000 | 25%  |\n",
    "|300000 $\\le $ income $<$ 600000  | 30% |\n",
    "|income $\\ge$ 600000 | 35% |"
   ]
  },
  {
   "cell_type": "markdown",
   "metadata": {},
   "source": [
    "**The list <code>income_list</code> records the income of 8 residents. Help them calculate the taxes they need to pay and store the results in a new list. Print out the new list.** "
   ]
  },
  {
   "cell_type": "code",
   "execution_count": null,
   "metadata": {},
   "outputs": [],
   "source": [
    "income_list = [550000, 750000, 480000, 320000, 270000, 640000, 250000, 590000]"
   ]
  },
  {
   "cell_type": "code",
   "execution_count": null,
   "metadata": {},
   "outputs": [],
   "source": [
    "# define"
   ]
  },
  {
   "cell_type": "code",
   "execution_count": null,
   "metadata": {},
   "outputs": [],
   "source": [
    "# call"
   ]
  },
  {
   "cell_type": "markdown",
   "metadata": {},
   "source": [
    "**(11) The Strawberry Company makes a smartphone. The profit from selling <code>q</code> smartphones can be calculated by the following function. What is the profit of selling 150 smartphones?**"
   ]
  },
  {
   "cell_type": "code",
   "execution_count": null,
   "metadata": {},
   "outputs": [],
   "source": [
    "def compute_profit(q):\n",
    "    \n",
    "    profit = (9500-4000)*q-1000000\n",
    "    \n",
    "    return profit"
   ]
  },
  {
   "cell_type": "code",
   "execution_count": null,
   "metadata": {},
   "outputs": [],
   "source": []
  },
  {
   "cell_type": "markdown",
   "metadata": {},
   "source": [
    "**(12) Use the function defined in (11) and write a loop to determine the minimum number of phones\n",
    "that Strawberry AS can sell and still avoid losing money, i.e. the profit should be greater than zero.**"
   ]
  },
  {
   "cell_type": "code",
   "execution_count": null,
   "metadata": {},
   "outputs": [],
   "source": []
  }
 ],
 "metadata": {
  "kernelspec": {
   "display_name": "Python 3 (ipykernel)",
   "language": "python",
   "name": "python3"
  },
  "language_info": {
   "codemirror_mode": {
    "name": "ipython",
    "version": 3
   },
   "file_extension": ".py",
   "mimetype": "text/x-python",
   "name": "python",
   "nbconvert_exporter": "python",
   "pygments_lexer": "ipython3",
   "version": "3.11.4"
  }
 },
 "nbformat": 4,
 "nbformat_minor": 4
}
