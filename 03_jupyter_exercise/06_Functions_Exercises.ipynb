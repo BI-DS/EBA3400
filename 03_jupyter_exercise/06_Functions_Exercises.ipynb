{
 "cells": [
  {
   "cell_type": "markdown",
   "metadata": {},
   "source": [
    "# Functions"
   ]
  },
  {
   "cell_type": "markdown",
   "metadata": {},
   "source": [
    "## (1) Define and call"
   ]
  },
  {
   "cell_type": "markdown",
   "metadata": {},
   "source": [
    "**(1.1) Define a function named <code>auto_reply</code>. Inside the function, print out the message \"Thank you for contacting us. We will get back to you within 24 hours.\" Call this function.**<br>\n",
    "Expected result:\n",
    "<code>\n",
    "Thank you for contacing us. We will get back to you within 24 hours.   \n",
    "</code>"
   ]
  },
  {
   "cell_type": "code",
   "execution_count": null,
   "metadata": {},
   "outputs": [],
   "source": [
    "# put your code here"
   ]
  },
  {
   "cell_type": "code",
   "execution_count": null,
   "metadata": {},
   "outputs": [],
   "source": [
    "# call your function "
   ]
  },
  {
   "cell_type": "markdown",
   "metadata": {},
   "source": [
    "## (2) Arguments"
   ]
  },
  {
   "cell_type": "markdown",
   "metadata": {},
   "source": [
    "**(2.1) Write a function to print out a personalized message based on the argument <code>name</code>. Test your function by passing <code>name = \"Sam\"</code>.**<br>\n",
    "Format: <br>\n",
    "Hi, **[name]**! Welcome to our store.\n",
    "\n",
    "Expected result:\n",
    "<code>\n",
    "Hi, Sam! Welcome to our store.    \n",
    "</code>"
   ]
  },
  {
   "cell_type": "code",
   "execution_count": null,
   "metadata": {},
   "outputs": [],
   "source": [
    "# put your code here"
   ]
  },
  {
   "cell_type": "code",
   "execution_count": null,
   "metadata": {},
   "outputs": [],
   "source": [
    "# test your function"
   ]
  },
  {
   "cell_type": "markdown",
   "metadata": {},
   "source": [
    "**(2.2) Write a function with an argument <code>option</code> and print out the message according to the following table. Test your function by passing <code>option = 2</code> .**"
   ]
  },
  {
   "cell_type": "markdown",
   "metadata": {},
   "source": [
    "| test | print out |\n",
    "|:-:|:-:|\n",
    "|option = 1|Can I call you later?|\n",
    "|option = 2|I'm on my way.|\n",
    "|None of the above expression are true|Sorry, I can't talk right now.|"
   ]
  },
  {
   "cell_type": "code",
   "execution_count": null,
   "metadata": {},
   "outputs": [],
   "source": [
    "# put your code here"
   ]
  },
  {
   "cell_type": "code",
   "execution_count": null,
   "metadata": {},
   "outputs": [],
   "source": [
    "# test your function"
   ]
  },
  {
   "cell_type": "markdown",
   "metadata": {},
   "source": [
    "**(2.3) Write a function according to the following table and print out the cost of riding a scooter.**   \n"
   ]
  },
  {
   "cell_type": "markdown",
   "metadata": {},
   "source": [
    "|cost|non-member|member|\n",
    "|:-:|:-:|:-:|\n",
    "|time $ \\le 5$ mins|20 kr |15 kr |\n",
    "|time $ > 5$ mins| The first 5 minutes is 20 kr. <br>After 5 minutes, it will cost 2.5 kr per minute|The first 5 minutes is 15 kr. <br>After 5 minutes, it will cost 2 kr per minute|"
   ]
  },
  {
   "cell_type": "markdown",
   "metadata": {},
   "source": [
    "Calculate the ride cost of these two users:<br>\n",
    "(1) User-A: non-member, ride time is 10 mins<br>\n",
    "(2) User-B: member, ride time is 8 mins<br>"
   ]
  },
  {
   "cell_type": "code",
   "execution_count": null,
   "metadata": {},
   "outputs": [],
   "source": [
    "# put your code here"
   ]
  },
  {
   "cell_type": "code",
   "execution_count": null,
   "metadata": {},
   "outputs": [],
   "source": [
    "# test your function"
   ]
  },
  {
   "cell_type": "markdown",
   "metadata": {},
   "source": [
    "## (3) Return "
   ]
  },
  {
   "cell_type": "markdown",
   "metadata": {},
   "source": [
    "**(3.1) Write a function with two arguments: <code>mylist</code> and <code>letter</code>, and calculate the frequency of <code>letter</code> in the list. Return the frequency.**<br>\n",
    "\n",
    "Test your function by passing:<br>\n",
    "(1) mylist = ABC_list, letter = A'<br>\n",
    "(2) mylist = ABC_list, letter = B'<br>\n",
    "(3) mylist = ABC_list, letter = C'<br>\n",
    "Assign the returned values to three different variables. "
   ]
  },
  {
   "cell_type": "code",
   "execution_count": null,
   "metadata": {},
   "outputs": [],
   "source": [
    "# put your code here"
   ]
  },
  {
   "cell_type": "code",
   "execution_count": null,
   "metadata": {},
   "outputs": [],
   "source": [
    "# test your function\n",
    "ABC_list = ['A','B','B','A','C','C','A','B','C','B','A','C','A','B','A','B','A','C','A','C']"
   ]
  },
  {
   "cell_type": "markdown",
   "metadata": {},
   "source": [
    "**(3.2) The company Strawberry AS produces a specifc smartphone at a cost of 4000. The phone can be sold for 9500 in the Norwegian market. In addition, Strawberry AS pays a\n",
    "fixed cost of 1 million, regardless of how many phones that are sold. Create a function that returns the profit for Strawberry for a given number of sold smartphones (i.e. use the number of phones as the argument of the function).**<br>\n",
    "Calculate the profit of selling:<br>\n",
    "(1) 10 smartphones <br>\n",
    "(2) 100 smartphones<br>\n",
    "(3) 250 smartphones<br>"
   ]
  },
  {
   "cell_type": "code",
   "execution_count": null,
   "metadata": {},
   "outputs": [],
   "source": [
    "# put your code here"
   ]
  },
  {
   "cell_type": "markdown",
   "metadata": {},
   "source": [
    "**(3.3) Use the function defined in (3.2) and write a loop to determine the minimum number of phones\n",
    "that Strawberry AS can sell and still avoid losing money.**"
   ]
  },
  {
   "cell_type": "code",
   "execution_count": null,
   "metadata": {},
   "outputs": [],
   "source": [
    "# put your code here"
   ]
  },
  {
   "cell_type": "markdown",
   "metadata": {},
   "source": [
    "**(3.4) Write a function to calculate taxes based on income.**  "
   ]
  },
  {
   "cell_type": "markdown",
   "metadata": {},
   "source": [
    "|income| tax rate | \n",
    "|:-:|:-:|\n",
    "|income $<$ 300000 | 25%  |\n",
    "|300000 $\\le $ income $<$ 600000  | 30% |\n",
    "|income $\\ge$ 600000 | 35% |"
   ]
  },
  {
   "cell_type": "markdown",
   "metadata": {},
   "source": [
    "The following list stores the income of each resident. Help them calculate the taxes they need to pay and store the results in a list."
   ]
  },
  {
   "cell_type": "code",
   "execution_count": null,
   "metadata": {},
   "outputs": [],
   "source": [
    "income_list = [550000, 750000, 480000, 320000, 270000, 640000, 250000, 590000]"
   ]
  },
  {
   "cell_type": "code",
   "execution_count": null,
   "metadata": {},
   "outputs": [],
   "source": [
    "# put your code here"
   ]
  }
 ],
 "metadata": {
  "kernelspec": {
   "display_name": "Python 3",
   "language": "python",
   "name": "python3"
  },
  "language_info": {
   "codemirror_mode": {
    "name": "ipython",
    "version": 3
   },
   "file_extension": ".py",
   "mimetype": "text/x-python",
   "name": "python",
   "nbconvert_exporter": "python",
   "pygments_lexer": "ipython3",
   "version": "3.8.8"
  }
 },
 "nbformat": 4,
 "nbformat_minor": 4
}
