{
 "cells": [
  {
   "cell_type": "markdown",
   "metadata": {},
   "source": [
    "## (1) While loop"
   ]
  },
  {
   "cell_type": "markdown",
   "metadata": {},
   "source": [
    "**(1.1) Write a while loop to print out the following sequence of numbers in one line.**<br>\n",
    "Expected result:<br>\n",
    "<code>3 6 9 12 15 18 21 24 27 30 </code>"
   ]
  },
  {
   "cell_type": "code",
   "execution_count": null,
   "metadata": {},
   "outputs": [],
   "source": []
  },
  {
   "cell_type": "markdown",
   "metadata": {},
   "source": [
    "**(1.2) Write a program that requires the user to enter a range. Use a while loop to print all even numbers in this range.**\n",
    "<br>\n",
    "Example:<br>\n",
    "From: <code>18</code><br>\n",
    "To: <code>30</code><br>\n",
    "**18** 20 22 24 26 28 **30** \n"
   ]
  },
  {
   "cell_type": "code",
   "execution_count": null,
   "metadata": {},
   "outputs": [],
   "source": []
  },
  {
   "cell_type": "markdown",
   "metadata": {},
   "source": [
    "**(1.3) Suppose you deposit $10,000 in a bank account with an annual interest rate of 5%. Print out the annual balance every year until your balance reaches 15,000.** (Round the number to two decimal places.)<br>\n",
    "Hint: interest = balance*0.05<br>\n",
    "\n",
    "Expected result:\n",
    "<code>\n",
    "10500.00\n",
    "11025.00\n",
    "11576.25\n",
    "12155.06\n",
    "12762.82\n",
    "13400.96\n",
    "14071.00\n",
    "14774.55\n",
    "15513.28\n",
    "</code>"
   ]
  },
  {
   "cell_type": "code",
   "execution_count": null,
   "metadata": {},
   "outputs": [],
   "source": []
  },
  {
   "cell_type": "markdown",
   "metadata": {},
   "source": [
    "**(1.4) Write a program that asks the user to enter a password. If the entered password is <code>python123</code>, print <code>'Successful login'</code>, otherwise, print <code>'Wrong password'</code> and ask again.**<br>\n",
    "Hint: Put the input box in the while loop.<br>\n",
    "\n",
    "Example:<br>\n",
    "\n",
    "Enter your password: <code>test</code><br>\n",
    "Wrong password<br>\n",
    "Enter your password: <code>1234</code><br>\n",
    "Wrong password<br>\n",
    "Enter your password:<code>python123</code><br>\n",
    "Successful login<br>\n"
   ]
  },
  {
   "cell_type": "code",
   "execution_count": null,
   "metadata": {},
   "outputs": [],
   "source": []
  },
  {
   "cell_type": "markdown",
   "metadata": {},
   "source": [
    "## (2) For loop"
   ]
  },
  {
   "cell_type": "markdown",
   "metadata": {},
   "source": [
    "**(2.1) Write a for loop to print out the following result.<br>**\n",
    "Expected result:\n",
    "<code>    \n",
    "Happy New Year 2021!\n",
    "Happy New Year 2022!\n",
    "Happy New Year 2023!\n",
    "Happy New Year 2024!\n",
    "</code>"
   ]
  },
  {
   "cell_type": "code",
   "execution_count": null,
   "metadata": {},
   "outputs": [],
   "source": []
  },
  {
   "cell_type": "markdown",
   "metadata": {},
   "source": [
    "**(2.2) Write a program that asks the user to enter a positive number. Calculate the factorial of this number.**<br> \n",
    "Hint: The factorial of $n$ is the product of all the integers from $1$ to $n$. It is denoted by an exclamation sign (!). For example, the factorial of 6 is $6! = 1\\times2\\times3\\times 4\\times5\\times6 = 720$.<br> \n",
    "\n",
    "\n",
    "Expected result:<br> \n",
    "Enter a positive number:<code>6</code>   \n",
    "720\n"
   ]
  },
  {
   "cell_type": "code",
   "execution_count": null,
   "metadata": {},
   "outputs": [],
   "source": []
  },
  {
   "cell_type": "markdown",
   "metadata": {},
   "source": [
    "**(2.3) Write a program that requires the user to enter a range. Use a for loop to print all numbers in this range that are divisible by 5.**\n",
    "\n",
    "<br>\n",
    "Example:<br>\n",
    "From: <code>20</code><br>\n",
    "To: <code>55</code><br>\n",
    "20 25 30 35 40 45 50 55"
   ]
  },
  {
   "cell_type": "code",
   "execution_count": null,
   "metadata": {},
   "outputs": [],
   "source": []
  },
  {
   "cell_type": "markdown",
   "metadata": {},
   "source": [
    "**(2.4) Suppose you deposit $10,000 in a bank account with an annual interest rate of 5%. Print out the annual balance for the next five years and round the number to two decimal places.**<br>\n",
    "Hint: interest = balance*0.05<br>\n",
    "\n",
    "Expected result:\n",
    "<code>\n",
    "Year-1: 10500.00\n",
    "Year-2: 11025.00\n",
    "Year-3: 11576.25\n",
    "Year-4: 12155.06\n",
    "Year-5: 12762.82\n",
    "</code>"
   ]
  },
  {
   "cell_type": "code",
   "execution_count": null,
   "metadata": {},
   "outputs": [],
   "source": []
  },
  {
   "cell_type": "markdown",
   "metadata": {},
   "source": [
    "**(2.5) Given the list below that represents your daily spend for 10 days. Assuming you have a balance of 3000 on day 0, print the balance for each day from day 1 to day 10.** The balance at the end of day 1 is 3000-340 = 2660.<br>\n",
    "\n",
    "Expected result:<br>\n",
    "2660<br>\n",
    "2430<br>\n",
    "...<br>\n",
    "...<br>\n",
    "560"
   ]
  },
  {
   "cell_type": "code",
   "execution_count": null,
   "metadata": {},
   "outputs": [],
   "source": [
    "spend = [340, 230, 150, 180, 350, 110, 490, 210, 260, 120]"
   ]
  },
  {
   "cell_type": "code",
   "execution_count": null,
   "metadata": {},
   "outputs": [],
   "source": []
  },
  {
   "cell_type": "markdown",
   "metadata": {},
   "source": [
    "**(2.6) Considering the list below. How many elements in the list are greater than 100?**"
   ]
  },
  {
   "cell_type": "code",
   "execution_count": null,
   "metadata": {},
   "outputs": [],
   "source": [
    "numbers = [10, 40, 199, 20, 344, 300, 4, 55, 1, 4000, 99, 320, 32, 300, 22,\n",
    "           12, 99, 111, 23, 93, 44, 93, 2, 3, 9, 100, 399, 33, 99, 555, 43]"
   ]
  },
  {
   "cell_type": "code",
   "execution_count": null,
   "metadata": {},
   "outputs": [],
   "source": []
  },
  {
   "cell_type": "markdown",
   "metadata": {},
   "source": [
    "**(2.7) Given the following list of sublists, where the first element in the sublist is \"customer name\" and the second element is \"age\". Count the number of customers between the ages of 20 and 25 (inclusive).**"
   ]
  },
  {
   "cell_type": "code",
   "execution_count": null,
   "metadata": {},
   "outputs": [],
   "source": [
    "customer_list = [[\"Henry\",28],[\"Victoria\",33], [\"Issac\",19],[\"Maya\",20],[\"Zoe\",25],\n",
    "                [\"Nora\",21],[\"Madelyn\",29], [\"Michael\",35],[\"Mathew\",23],[\"Sophia\", 18]]"
   ]
  },
  {
   "cell_type": "code",
   "execution_count": null,
   "metadata": {},
   "outputs": [],
   "source": []
  },
  {
   "cell_type": "markdown",
   "metadata": {},
   "source": [
    "**(2.8) Find the shortest company name in <code>company_list</code> and print that company name.**"
   ]
  },
  {
   "cell_type": "code",
   "execution_count": null,
   "metadata": {},
   "outputs": [],
   "source": [
    "company_list = [\"AirGarage\",\"Airtable\", \"DoorDash\",\"Dave\",\"Bloomscape\",\"Robinhood\"]"
   ]
  },
  {
   "cell_type": "code",
   "execution_count": null,
   "metadata": {},
   "outputs": [],
   "source": []
  },
  {
   "cell_type": "markdown",
   "metadata": {},
   "source": [
    "**(2.9) Suppose you are rolling a pair of dice. Print out all possible results.**<br>\n",
    "Expected result:<br>\n",
    "1&1 1&2 1&3 1&4 1&5 1&6 <br>\n",
    "2&1 2&2 2&3 2&4 2&5 2&6 <br>\n",
    "3&1 3&2 3&3 3&4 3&5 3&6 <br>\n",
    "4&1 4&2 4&3 4&4 4&5 4&6 <br>\n",
    "5&1 5&2 5&3 5&4 5&5 5&6 <br>\n",
    "6&1 6&2 6&3 6&4 6&5 6&6"
   ]
  },
  {
   "cell_type": "code",
   "execution_count": null,
   "metadata": {},
   "outputs": [],
   "source": []
  },
  {
   "cell_type": "markdown",
   "metadata": {},
   "source": [
    "**(2.10) Write a nested for loop to print out the following pyramid pattern.**<br>\n",
    "1 <br>\n",
    "2 2 <br>\n",
    "3 3 3 <br>\n",
    "4 4 4 4 <br>\n",
    "5 5 5 5 5 <br>\n",
    "6 6 6 6 6 6 <br>"
   ]
  },
  {
   "cell_type": "code",
   "execution_count": null,
   "metadata": {},
   "outputs": [],
   "source": []
  },
  {
   "cell_type": "markdown",
   "metadata": {},
   "source": [
    "**(2.11) The profit of selling a unit of product A is 10, and the profit of selling a unit of product B is 15. Let $q_A$ and $q_B$ be the sales units of product A and product B, respectively. Calculate profit with sales $q_A$ ranging from 3 to 5 and sales $q_B$ ranging from 5 to 10.**<br>\n",
    "\n",
    "Expected result:<br>\n",
    "The profit of selling 3 units of product A and 5 units of product B is 105.<br>\n",
    "The profit of selling 3 units of product A and 6 units of product B is 120.<br>\n",
    "...  \n",
    "The profit of selling 3 units of product A and 10 units of product B is 180.<br>\n",
    "...<br> \n",
    "...<br> \n",
    "The profit of selling 5 units of product A and 9 units of product B is 185.  \n",
    "The profit of selling 5 units of product A and 10 units of product B is 200.<br>"
   ]
  },
  {
   "cell_type": "code",
   "execution_count": null,
   "metadata": {},
   "outputs": [],
   "source": []
  },
  {
   "cell_type": "markdown",
   "metadata": {},
   "source": [
    "**(2.12) Write a program that asks user to enter a password. Given the following rules, check if the entered password is valid. If yes, print \"Valid password\", if not, print \"Invalid password\".**<br>\n",
    "- Contains at least one number. (Hint: use string method <code>isdigit()</code>)\n",
    "- Contains at least one uppercase letter. (Hint: use string method <code>isupper()</code>)\n",
    "\n",
    "Example-1:<br>\n",
    "Enter your password: <code>python_@!</code><br>\n",
    "Invalid password<br>\n",
    "\n",
    "Example-2:<br>\n",
    "Enter your password: <code>Python123</code><br>\n",
    "Valid password<br>"
   ]
  },
  {
   "cell_type": "code",
   "execution_count": null,
   "metadata": {},
   "outputs": [],
   "source": []
  }
 ],
 "metadata": {
  "kernelspec": {
   "display_name": "Python 3 (ipykernel)",
   "language": "python",
   "name": "python3"
  },
  "language_info": {
   "codemirror_mode": {
    "name": "ipython",
    "version": 3
   },
   "file_extension": ".py",
   "mimetype": "text/x-python",
   "name": "python",
   "nbconvert_exporter": "python",
   "pygments_lexer": "ipython3",
   "version": "3.9.12"
  }
 },
 "nbformat": 4,
 "nbformat_minor": 4
}
