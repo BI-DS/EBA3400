{
 "cells": [
  {
   "cell_type": "markdown",
   "metadata": {},
   "source": [
    "# Loop Statements"
   ]
  },
  {
   "cell_type": "markdown",
   "metadata": {},
   "source": [
    "## (1) While loop"
   ]
  },
  {
   "cell_type": "markdown",
   "metadata": {},
   "source": [
    "**(1.1) Write a while loop to print out the following sequence of numbers.**<br>\n",
    "Hint: To print all numbers in one line, you can use the argument <code>end = \" \".</code><br>\n",
    "Expected result:<br>\n",
    "<code>3 6 9 12 15 18 21 24 27 30 </code>"
   ]
  },
  {
   "cell_type": "code",
   "execution_count": null,
   "metadata": {},
   "outputs": [],
   "source": [
    "# put your code here"
   ]
  },
  {
   "cell_type": "markdown",
   "metadata": {},
   "source": [
    "**(1.2) Write a program that requires the user to enter a range. Use a while loop to print all even numbers in this range.**\n",
    "<br>\n",
    "Expected result:\n",
    "<code>\n",
    "from: 18\n",
    "to: 30\n",
    "18 20 22 24 26 28 30 \n",
    "</code>"
   ]
  },
  {
   "cell_type": "code",
   "execution_count": null,
   "metadata": {},
   "outputs": [],
   "source": [
    "# put your code here"
   ]
  },
  {
   "cell_type": "markdown",
   "metadata": {},
   "source": [
    "**(1.3) Suppose you deposit $10,000 in a bank account with an annual interest rate of 5%. Print out the annual balance every year until your balance reaches 15,000. (Round the number to two decimal places)**<br>\n",
    "Hint: interest = balance*0.05<br>\n",
    "Expected result:\n",
    "<code>\n",
    "10500.0\n",
    "11025.0\n",
    "11576.25\n",
    "12155.06\n",
    "12762.82\n",
    "13400.96\n",
    "14071.0\n",
    "14774.55\n",
    "15513.28\n",
    "</code>"
   ]
  },
  {
   "cell_type": "code",
   "execution_count": null,
   "metadata": {},
   "outputs": [],
   "source": [
    "# put your code here"
   ]
  },
  {
   "cell_type": "markdown",
   "metadata": {},
   "source": [
    "**(1.4) Define an input box named <code>pw</code> to require the user to enter a password. If pw is 'python2021', print 'Successful login'; if not, print 'Wrong password' and ask again.**<br>\n",
    "Hint: Put the input box in the while loop.<br>\n",
    "Expected result:\n",
    "<code>\n",
    "Enter your password: test\n",
    "Wrong password\n",
    "Enter your password: 1234\n",
    "Wrong password\n",
    "Enter your password: python2021\n",
    "Successful login\n",
    "</code>   "
   ]
  },
  {
   "cell_type": "code",
   "execution_count": null,
   "metadata": {},
   "outputs": [],
   "source": [
    "# put your code here"
   ]
  },
  {
   "cell_type": "markdown",
   "metadata": {},
   "source": [
    "## (2) For loop"
   ]
  },
  {
   "cell_type": "markdown",
   "metadata": {},
   "source": [
    "**(2.1) Write a for loop to print out the following result.<br>**\n",
    "Expected result:\n",
    "<code>    \n",
    "Happy New Year 2021\n",
    "Happy New Year 2022\n",
    "Happy New Year 2023\n",
    "Happy New Year 2024\n",
    "</code>"
   ]
  },
  {
   "cell_type": "code",
   "execution_count": null,
   "metadata": {},
   "outputs": [],
   "source": [
    "# put your code here"
   ]
  },
  {
   "cell_type": "markdown",
   "metadata": {},
   "source": [
    "**(2.2) Write a program that asks the user to enter a positive number. Calculate the factorial of this number.**<br> \n",
    "Hint: The factorial of n is the product of all the integers from 1 to n. It is denoted by an exclamation sign (!).<br> \n",
    "For example, the factorial of 6 is $6! = 1\\times2\\times3\\times 4\\times5\\times6 = 720$.<br> \n",
    "Expected result:\n",
    "<code>    \n",
    "Enter a positive number: 6\n",
    "720\n",
    "</code>"
   ]
  },
  {
   "cell_type": "code",
   "execution_count": null,
   "metadata": {},
   "outputs": [],
   "source": [
    "# put your code here"
   ]
  },
  {
   "cell_type": "markdown",
   "metadata": {},
   "source": [
    "**(2.3) Write a program that requires the user to enter a range. Use a for loop to print all even numbers in this range.**\n",
    "<br>\n",
    "Expected result:\n",
    "<code>\n",
    "from: 18\n",
    "to: 30\n",
    "18 20 22 24 26 28 30 \n",
    "</code>"
   ]
  },
  {
   "cell_type": "code",
   "execution_count": null,
   "metadata": {},
   "outputs": [],
   "source": [
    "# put your code here"
   ]
  },
  {
   "cell_type": "markdown",
   "metadata": {},
   "source": [
    "**(2.4) Suppose you deposit $10,000 in a bank account with an annual interest rate of 5%. Print out the annual balance for the next five years.**<br>\n",
    "Hint: interest = balance*0.05<br>\n",
    "Expected result:\n",
    "<code>\n",
    "Year-1: 10500.00\n",
    "Year-2: 11025.00\n",
    "Year-3: 11576.25\n",
    "Year-4: 12155.06\n",
    "Year-5: 12762.82\n",
    "</code>"
   ]
  },
  {
   "cell_type": "code",
   "execution_count": null,
   "metadata": {},
   "outputs": [],
   "source": [
    "# put your code here"
   ]
  },
  {
   "cell_type": "markdown",
   "metadata": {},
   "source": [
    "**(2.5) Considering the following list. Use a for loop to print all names starting with 'S'.**"
   ]
  },
  {
   "cell_type": "code",
   "execution_count": null,
   "metadata": {},
   "outputs": [],
   "source": [
    "friend_list = [\"Henry\", \"Victoria\",\"Isaac\", \"Sara\", \"Zoe\",\"Isabelle\", \"Nora\", \"Madelyn\", \"Sophia\",\n",
    "             \"Charlotte\", \"Michael\",\"Sebastian\",\"Leah\", \"Ryan\", 'Matthew', \"Mila\"]"
   ]
  },
  {
   "cell_type": "code",
   "execution_count": null,
   "metadata": {},
   "outputs": [],
   "source": [
    "# put your code here"
   ]
  },
  {
   "cell_type": "markdown",
   "metadata": {},
   "source": [
    "**(2.6) Considering the list below. Calculate the number of elements in the list are above 100.**"
   ]
  },
  {
   "cell_type": "code",
   "execution_count": null,
   "metadata": {},
   "outputs": [],
   "source": [
    "numbers = [10, 40, 199, 20, 344, 300, 4, 55, 1, 4000, 99, 320, 32, 300, 22,\n",
    "           12, 99, 111, 23, 93, 44, 93, 2, 3, 9, 100, 399, 33, 99, 555, 43]"
   ]
  },
  {
   "cell_type": "code",
   "execution_count": null,
   "metadata": {},
   "outputs": [],
   "source": [
    "# put your code here"
   ]
  },
  {
   "cell_type": "markdown",
   "metadata": {},
   "source": [
    "**(2.7) Count the number of uppercase letters in <code>mystr</code>.**<br>\n",
    "Hint: Try <code>str.isupper?</code> to see how to check if a letter is uppercase."
   ]
  },
  {
   "cell_type": "code",
   "execution_count": null,
   "metadata": {},
   "outputs": [],
   "source": [
    "mystr = \"Tesla started deliveries of the Model Y in Europe last month, and within a week it became the best-selling vehicle in Norway.\""
   ]
  },
  {
   "cell_type": "code",
   "execution_count": null,
   "metadata": {},
   "outputs": [],
   "source": [
    "# put your code here"
   ]
  },
  {
   "cell_type": "markdown",
   "metadata": {},
   "source": [
    "**(2.8) In statisitcs, SSE (Sum of Squared Error) is used to see the difference between each observation and its group mean. It can be used as a measure of variation within a group. If all numbers within a group are identical the SSE would then be equal to 0.**<br> \n",
    "The formula for SSE is:\n",
    "\n",
    "<center>$SSE = \\sum_{i=1}^{n}(X_{i} -\\bar{X})^{2}$, where $X_{i}$ is the $i$th observation and $\\bar{X}$ is the group's mean.</center><br>\n",
    "\n",
    "\n",
    "Suppose you have a list of numbers, <code>1, 2, 3, 4, 5</code>.<br>\n",
    "The group mean  $\\bar{X}=\\dfrac{(1+2+3+4+5)}{5}=3$ <br> \n",
    "The Sum of Squared Error $SSE =(1-3)^{2} + (2-3)^{2}+ (3-3)^{2}+ (4-3)^{2}+ (5-3)^{2} = 10 $<br>\n",
    "\n",
    "**(step1) Calculate the group mean of <code>mylist</code>.<br>\n",
    "(step2) Use a for loop to calculate the SSE of the numbers in <code>mylist</code>.**"
   ]
  },
  {
   "cell_type": "code",
   "execution_count": null,
   "metadata": {},
   "outputs": [],
   "source": [
    "mylist = [1,2,3,4,5]"
   ]
  },
  {
   "cell_type": "code",
   "execution_count": null,
   "metadata": {},
   "outputs": [],
   "source": [
    "# put your code here"
   ]
  },
  {
   "cell_type": "markdown",
   "metadata": {},
   "source": [
    "**(2.9) Suppose you are rolling a pair of dice. Print out all possible results.**<br>\n",
    "Example:<br>\n",
    "1&1 1&2 ... 1&6 <br>\n",
    "2&1 2&2 ... 2&6  <br>\n",
    "...<br>\n",
    "...<br>\n",
    "...<br>\n",
    "6&1 6&2 ... 6&6"
   ]
  },
  {
   "cell_type": "code",
   "execution_count": null,
   "metadata": {},
   "outputs": [],
   "source": [
    "# put your code here"
   ]
  },
  {
   "cell_type": "markdown",
   "metadata": {},
   "source": [
    "**(2.10) The profit of selling a unit of product A is 10, and the profit of selling a unit of product B is 15. Let <code>q_a</code> and <code>q_b</code> be the sales units of product A and product B, respectively. Calculate profit with sales <code>q_a</code> ranging from 5 to 15 and sales <code>q_b</code> ranging from 5 to 10.**<br>\n",
    "Expected result:\n",
    "<code>\n",
    "The profit of selling 5 units of product A and 5 units of product B is 125.\n",
    "The profit of selling 5 units of product A and 6 units of product B is 140.\n",
    "The profit of selling 5 units of product A and 7 units of product B is 155.   \n",
    "...\n",
    "The profit of selling 15 units of product A and 10 units of product B is 300.\n",
    "</code>"
   ]
  },
  {
   "cell_type": "code",
   "execution_count": null,
   "metadata": {},
   "outputs": [],
   "source": [
    "# put your code here"
   ]
  }
 ],
 "metadata": {
  "kernelspec": {
   "display_name": "Python 3",
   "language": "python",
   "name": "python3"
  },
  "language_info": {
   "codemirror_mode": {
    "name": "ipython",
    "version": 3
   },
   "file_extension": ".py",
   "mimetype": "text/x-python",
   "name": "python",
   "nbconvert_exporter": "python",
   "pygments_lexer": "ipython3",
   "version": "3.8.8"
  }
 },
 "nbformat": 4,
 "nbformat_minor": 4
}
