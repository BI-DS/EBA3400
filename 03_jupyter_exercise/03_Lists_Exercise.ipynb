{
 "cells": [
  {
   "cell_type": "markdown",
   "metadata": {},
   "source": [
    "# Lists"
   ]
  },
  {
   "cell_type": "markdown",
   "metadata": {},
   "source": [
    "## (1)\n",
    "**(1.1) Define a list named <code>numbers</code>, which contains the following elements: <code>10, 20, 30, 40, 50, 60</code>. Print out the list.**"
   ]
  },
  {
   "cell_type": "code",
   "execution_count": null,
   "metadata": {},
   "outputs": [],
   "source": []
  },
  {
   "cell_type": "markdown",
   "metadata": {},
   "source": [
    "**(1.2) Use <code>numbers</code> defined in (1.1). Print the first three elements of the list.**"
   ]
  },
  {
   "cell_type": "code",
   "execution_count": null,
   "metadata": {},
   "outputs": [],
   "source": []
  },
  {
   "cell_type": "markdown",
   "metadata": {},
   "source": [
    "**(1.3) Use <code>numbers</code> defined in (1.1). Print the last two element in the list.**"
   ]
  },
  {
   "cell_type": "code",
   "execution_count": null,
   "metadata": {},
   "outputs": [],
   "source": []
  },
  {
   "cell_type": "markdown",
   "metadata": {},
   "source": [
    "**(1.4) Print the sum of all elements in <code>numbers</code>.**"
   ]
  },
  {
   "cell_type": "code",
   "execution_count": null,
   "metadata": {},
   "outputs": [],
   "source": []
  },
  {
   "cell_type": "markdown",
   "metadata": {},
   "source": [
    "**(1.5) Print the sum of the last three elements in <code>numbers</code>.**"
   ]
  },
  {
   "cell_type": "code",
   "execution_count": null,
   "metadata": {},
   "outputs": [],
   "source": []
  },
  {
   "cell_type": "markdown",
   "metadata": {},
   "source": [
    "## (2)\n",
    "**(2.1) Considering the list below. Add an element <code>Sunday</code> to the end of the list and print out the updated list.**<br>"
   ]
  },
  {
   "cell_type": "code",
   "execution_count": null,
   "metadata": {},
   "outputs": [],
   "source": [
    "days = ['Monday','Tuesday','Wednesday','Thursday','Friday']"
   ]
  },
  {
   "cell_type": "code",
   "execution_count": null,
   "metadata": {},
   "outputs": [],
   "source": []
  },
  {
   "cell_type": "markdown",
   "metadata": {},
   "source": [
    "**(2.2) Use <code>days</code> defined in (2.1). Insert an element <code>Saturday</code> between Friday and Sunday. Print out the updated list.**"
   ]
  },
  {
   "cell_type": "code",
   "execution_count": null,
   "metadata": {},
   "outputs": [],
   "source": []
  },
  {
   "cell_type": "markdown",
   "metadata": {},
   "source": [
    "**(2.3) Use <code>days</code> defined in (2.1). Print the first three letters of the last element.**"
   ]
  },
  {
   "cell_type": "code",
   "execution_count": null,
   "metadata": {},
   "outputs": [],
   "source": []
  },
  {
   "cell_type": "markdown",
   "metadata": {},
   "source": [
    "**(2.4) Find and print the index of the element \"Thursday\" in the list <code>days</code>.**<br>\n",
    "Hint: https://www.w3schools.com/python/ref_list_index.asp"
   ]
  },
  {
   "cell_type": "code",
   "execution_count": null,
   "metadata": {},
   "outputs": [],
   "source": []
  },
  {
   "cell_type": "markdown",
   "metadata": {},
   "source": [
    "## (3)\n",
    "**(3.1) A store sells four products and the product information is stored in the following variable <code>item_list</code>. Print out the price of salmon.**<br>\n",
    "| Product_ID | Product_Price |Product_Name|\n",
    "|:-:|:-:|:-:|\n",
    "|1|10kr|apple|\n",
    "|2|30kr|bread|\n",
    "|3|70kr|salmon|\n",
    "|4|40kr|juice|\n"
   ]
  },
  {
   "cell_type": "code",
   "execution_count": null,
   "metadata": {},
   "outputs": [],
   "source": [
    "item_list = [[1,'10kr','apple'],[2,'30kr','bread'],[3,'70kr','salmon'],[4,'40kr','juice']]"
   ]
  },
  {
   "cell_type": "code",
   "execution_count": null,
   "metadata": {},
   "outputs": [],
   "source": []
  },
  {
   "cell_type": "markdown",
   "metadata": {},
   "source": [
    "**(3.2) Use the list defined in (3.1). Print out the first product name.**"
   ]
  },
  {
   "cell_type": "code",
   "execution_count": null,
   "metadata": {},
   "outputs": [],
   "source": []
  },
  {
   "cell_type": "markdown",
   "metadata": {},
   "source": [
    "**(3.3) Use the list defined in (3.1). Replace the fourth product with <code>['35kr', 'yogurt']</code>. Print out the updated list.**<br>\n",
    "Expected result:\n",
    "<code>\n",
    "[[1,'10kr','apple'],\n",
    " [2,'30kr','bread'],\n",
    " [3,'70kr','salmon'],\n",
    " [4,'35kr','yogurt']]\n",
    "</code>    "
   ]
  },
  {
   "cell_type": "code",
   "execution_count": null,
   "metadata": {},
   "outputs": [],
   "source": []
  },
  {
   "cell_type": "markdown",
   "metadata": {},
   "source": [
    "## (4)\n",
    "**(4.1) Define two lists: <code>list_A</code> containing the elements <code>10, 4, 6</code>, and <code>list_B</code> containing the elements <code>8, 5, 12, 9</code>. Print out the number of elements in each of the two lists.**\n"
   ]
  },
  {
   "cell_type": "code",
   "execution_count": null,
   "metadata": {},
   "outputs": [],
   "source": []
  },
  {
   "cell_type": "markdown",
   "metadata": {},
   "source": [
    "**(4.2) Append all elements in <code>list_B</code> to <code>list_A</code>. Print out the updated <code>list_A</code>.**\n",
    "<br>\n",
    "Expected result:<br>\n",
    "[10, 4, 6, 8, 5, 12, 9]"
   ]
  },
  {
   "cell_type": "code",
   "execution_count": null,
   "metadata": {},
   "outputs": [],
   "source": []
  },
  {
   "cell_type": "markdown",
   "metadata": {},
   "source": [
    "**(4.3) Sort the elements of <code>list_A</code> in descending order.**<br>"
   ]
  },
  {
   "cell_type": "code",
   "execution_count": null,
   "metadata": {},
   "outputs": [],
   "source": []
  },
  {
   "cell_type": "markdown",
   "metadata": {},
   "source": [
    "**(4.4) Use <code>pop</code> function to remove the second element of <code>list_A</code>. Print out both the updated list and the removed element.**"
   ]
  },
  {
   "cell_type": "code",
   "execution_count": null,
   "metadata": {},
   "outputs": [],
   "source": []
  },
  {
   "cell_type": "markdown",
   "metadata": {},
   "source": [
    "**(4.5) Remove the last two elements of <code>list_A</code>. Print the updated list.**<br>"
   ]
  },
  {
   "cell_type": "code",
   "execution_count": null,
   "metadata": {},
   "outputs": [],
   "source": []
  },
  {
   "cell_type": "markdown",
   "metadata": {},
   "source": [
    "## (5)\n",
    "**(5.1) Given the daily reported COVID-19 cases over the past two weeks (14 days):<br>\n",
    "<code> 207, 111, 129, 154, 202, 207, 215, 203, 150, 145, 262, 282, 276, 251</code>.\n",
    "Store these values in a list and find the highest number of cases reported during this period. Display the highest number of cases.**\n",
    "\n",
    "\n"
   ]
  },
  {
   "cell_type": "code",
   "execution_count": null,
   "metadata": {},
   "outputs": [],
   "source": []
  },
  {
   "cell_type": "markdown",
   "metadata": {},
   "source": [
    "**(5.2) Calculate the average daily number of reported cases for the first week (day1-day7).**"
   ]
  },
  {
   "cell_type": "code",
   "execution_count": null,
   "metadata": {},
   "outputs": [],
   "source": []
  },
  {
   "cell_type": "markdown",
   "metadata": {},
   "source": [
    "**(5.3) Use the list defined in (5.1). Reverse the order of elements in the list to arrange the data from newest to oldest. In the updated list, the first element should represent the reported cases on day 14, and the last element should represent the cases on day 1. Display the updated list.**<br>\n",
    "Hint: Search for a list method to solve this task https://www.geeksforgeeks.org/list-methods-in-python-set-2-del-remove-sort-insert-pop-extend/<br><br>\n",
    "\n",
    "Expected result:<br>\n",
    "[**251**, 276, 282, 262, 145, 150, 203, 215, 207, 202, 154, 129, 111, **207**]"
   ]
  },
  {
   "cell_type": "code",
   "execution_count": null,
   "metadata": {},
   "outputs": [],
   "source": []
  },
  {
   "cell_type": "markdown",
   "metadata": {},
   "source": [
    "## (6) "
   ]
  },
  {
   "cell_type": "markdown",
   "metadata": {},
   "source": [
    "**(6.1) Define a string variable with the following value. Get the length of this string variable.**<br>\n",
    "'Wind energy is expected by groups including the International Energy Agency and the International Renewables Energy Agency to form the backbone of global electricity generation by 2050.'"
   ]
  },
  {
   "cell_type": "code",
   "execution_count": null,
   "metadata": {},
   "outputs": [],
   "source": []
  },
  {
   "cell_type": "markdown",
   "metadata": {},
   "source": [
    "**(6.2) Use the variable defined in (6.1). Calculate the frequency of the word \"energy\" in this variable, ignoring the case. This means that occurrences of \"energy\" in different letter cases (e.g., \"Energy\", \"ENERGY\", \"energy\") should all be counted together.**"
   ]
  },
  {
   "cell_type": "code",
   "execution_count": null,
   "metadata": {},
   "outputs": [],
   "source": []
  }
 ],
 "metadata": {
  "kernelspec": {
   "display_name": "Python 3 (ipykernel)",
   "language": "python",
   "name": "python3"
  },
  "language_info": {
   "codemirror_mode": {
    "name": "ipython",
    "version": 3
   },
   "file_extension": ".py",
   "mimetype": "text/x-python",
   "name": "python",
   "nbconvert_exporter": "python",
   "pygments_lexer": "ipython3",
   "version": "3.9.17"
  }
 },
 "nbformat": 4,
 "nbformat_minor": 4
}
