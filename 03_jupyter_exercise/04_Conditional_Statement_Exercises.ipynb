{
 "cells": [
  {
   "cell_type": "markdown",
   "metadata": {},
   "source": [
    "# Conditional Statements"
   ]
  },
  {
   "cell_type": "markdown",
   "metadata": {},
   "source": [
    "**(1) Write a program that asks the user to enter their email.  If the email entered contains <code>@gmail.com</code>, print out <code>This is a Gmail address.</code>**<br>\n",
    "Example:<br>\n",
    "Enter email: <code>python_bi@gmail.com</code><br>\n",
    "This is a Gmail address."
   ]
  },
  {
   "cell_type": "code",
   "execution_count": null,
   "metadata": {},
   "outputs": [],
   "source": []
  },
  {
   "cell_type": "markdown",
   "metadata": {},
   "source": [
    "**(2) Write a program that asks the user to enter an integer, defined as <code>x</code>. If <code>x</code> mod 2 is eqaul to 0, print out <code>Even number</code>; otherwise, print <code>Odd number</code>.**<br>\n",
    "Hint: Given two numbers $a$ and $b$, $a$ modulo $b$ (abbreviated as $a$ mod $b$) is the remainder of the division of $a$ by $b$."
   ]
  },
  {
   "cell_type": "code",
   "execution_count": null,
   "metadata": {},
   "outputs": [],
   "source": []
  },
  {
   "cell_type": "markdown",
   "metadata": {},
   "source": [
    "**(3) Write a program to ask the user for their scooter ride time (minutes). Use the table below to calculate their cost based on ride time.** <br>  "
   ]
  },
  {
   "cell_type": "markdown",
   "metadata": {},
   "source": [
    "|condition|cost|\n",
    "|:-:|:-:|\n",
    "|ride time $ \\le 5$ mins|15 kr |\n",
    "|ride time $ > 5$ mins| The first 5 minutes is 15 kr. <br>After 5 minutes, it will cost 2.5 kr per minute|"
   ]
  },
  {
   "cell_type": "markdown",
   "metadata": {},
   "source": [
    "Example:<br>\n",
    "Ride time (minutes): <code>8</code> <br>\n",
    "Cost: 22.5 kr\n",
    "  "
   ]
  },
  {
   "cell_type": "code",
   "execution_count": null,
   "metadata": {},
   "outputs": [],
   "source": []
  },
  {
   "cell_type": "markdown",
   "metadata": {},
   "source": [
    "**(4) Write a program that asks user to enter the grade (A~F) and print out the description based on the grade.**"
   ]
  },
  {
   "cell_type": "markdown",
   "metadata": {},
   "source": [
    "| test | print out |\n",
    "|:-:|:-:|\n",
    "|grade is A|Excellent|\n",
    "|grade is B|Very good|\n",
    "|grade is C|Good|\n",
    "|grade is D|Satisfactory|\n",
    "|grade is E|Sufficient|\n",
    "|grade is F|Fail|\n",
    "|None of the above expression are true|Please enter a valid grade (A~F)|"
   ]
  },
  {
   "cell_type": "markdown",
   "metadata": {},
   "source": [
    "Example:<br>\n",
    "Enter your grade: <code>C</code><br>\n",
    "Good\n"
   ]
  },
  {
   "cell_type": "code",
   "execution_count": null,
   "metadata": {},
   "outputs": [],
   "source": []
  },
  {
   "cell_type": "markdown",
   "metadata": {},
   "source": [
    "**(5) Write a program that asks the user to enter a package weight and print out the shipping cost according to the following table.**<br>"
   ]
  },
  {
   "cell_type": "markdown",
   "metadata": {},
   "source": [
    "| Weight (w) | Shipping Rate (per kg) |\n",
    "|:-:|:-:|\n",
    "|w $\\le$ 10kg|30|\n",
    "|10kg $<$ w $\\le$ 20kg |35|\n",
    "| w $>$ 20kg|40|"
   ]
  },
  {
   "cell_type": "markdown",
   "metadata": {},
   "source": [
    "Example:<br>\n",
    "Enter package weight (kg): <code>11.9</code><br>\n",
    "The shipping cost is 416.5 kr."
   ]
  },
  {
   "cell_type": "code",
   "execution_count": null,
   "metadata": {},
   "outputs": [],
   "source": []
  },
  {
   "cell_type": "markdown",
   "metadata": {},
   "source": [
    "**(6) Calculate the cost of renting a workspace. Write a program that asks the user to enter the number of rental hours and whether it is a weekday. Print out cost according to the following rules.** (Use nested conditionals.)<br>\n",
    "\n",
    "cost = (hours) $\\times$ (hourly rate)\n",
    "- Weekday\n",
    "    - 200kr per hour if the rental period is less than or equal to 5 hours.\n",
    "    - 150kr per hour if rental period exceeds 5 hours.\n",
    "- Weekend\n",
    "    - 300kr per hour if the rental period is less than or equal to 5 hours.\n",
    "    - 250kr per hour if rental period exceeds 5 hours.\n",
    "    \n",
    "    \n",
    "Examle:<br>\n",
    "Rental hours (1~24): <code>7</code><br>\n",
    "Weekday(yes/no): <code>yes</code><br>\n",
    "Cost: 1050 kr<br>"
   ]
  },
  {
   "cell_type": "code",
   "execution_count": null,
   "metadata": {},
   "outputs": [],
   "source": []
  },
  {
   "cell_type": "markdown",
   "metadata": {},
   "source": [
    "**(7) Write a program that asks user to enter a 4-digit zip code. Print messages according to the following rules.**<br>\n",
    "- Check if the entered value consists only of digits (Hint: use string method <code>isdigit()</code>). If yes, then check the first two numbers. If they are in the <code>oslo_zipcode</code>, then print \"Oslo\", otherwise print \"Others\".\n",
    "- If the entered value contains other characters, print \"Please enter a valid zip code\".<br>\n",
    "\n",
    "Example:<br>\n",
    "Enter zip code:<code>0484</code><br>\n",
    "Oslo"
   ]
  },
  {
   "cell_type": "code",
   "execution_count": null,
   "metadata": {},
   "outputs": [],
   "source": [
    "oslo_zipcode = [\"00\",\"01\",\"02\",\"03\",\"04\",\"05\",\"06\",\"07\",\"08\",\"09\",\"10\",\"11\",\"12\"]"
   ]
  },
  {
   "cell_type": "code",
   "execution_count": null,
   "metadata": {},
   "outputs": [],
   "source": []
  },
  {
   "cell_type": "markdown",
   "metadata": {},
   "source": [
    "**(8) Write a program that asks the user to enter the type of room and whether breakfast is included. Print out the price based on the following table.**"
   ]
  },
  {
   "cell_type": "markdown",
   "metadata": {},
   "source": [
    "|| breakfast = no | breakfast = yes |\n",
    "|:-:|:-:|:-:|\n",
    "|<b>room = single</b>|1000 NOK|1200 NOK|\n",
    "|<b>room = double</b>|1300 NOK|1600 NOK|"
   ]
  },
  {
   "cell_type": "markdown",
   "metadata": {},
   "source": [
    "Example:<br>\n",
    "\n",
    "Type of room (single/double): <code>double</code><br>\n",
    "Breakfast included (yes/no): <code>no</code><br>\n",
    "1300 NOK\n"
   ]
  },
  {
   "cell_type": "code",
   "execution_count": null,
   "metadata": {},
   "outputs": [],
   "source": []
  },
  {
   "cell_type": "markdown",
   "metadata": {},
   "source": [
    "**(9) Write a program that asks the user to enter a number. If the number is divisible by 3, print <code>Fizz</code>. If the number is divisible by 5, print <code>Buzz</code>. If the number is divisible by both 3 and 5, print <code>FizzBuzz</code>. If the number is not divisible by 3 or 5, print <code>skip</code>.**<br>\n",
    "\n",
    "Example-1:<br>\n",
    "Enter a number: <code>15</code><br>\n",
    "FizzBuzz<br>\n",
    "\n",
    "Example-2:<br>\n",
    "Enter a number: <code>20</code><br>\n",
    "Buzz<br>"
   ]
  },
  {
   "cell_type": "code",
   "execution_count": null,
   "metadata": {},
   "outputs": [],
   "source": []
  }
 ],
 "metadata": {
  "kernelspec": {
   "display_name": "Python 3 (ipykernel)",
   "language": "python",
   "name": "python3"
  },
  "language_info": {
   "codemirror_mode": {
    "name": "ipython",
    "version": 3
   },
   "file_extension": ".py",
   "mimetype": "text/x-python",
   "name": "python",
   "nbconvert_exporter": "python",
   "pygments_lexer": "ipython3",
   "version": "3.9.12"
  }
 },
 "nbformat": 4,
 "nbformat_minor": 4
}
