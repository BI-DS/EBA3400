{
 "cells": [
  {
   "cell_type": "markdown",
   "metadata": {},
   "source": [
    "# Conditional Statements"
   ]
  },
  {
   "cell_type": "markdown",
   "metadata": {},
   "source": [
    "## (1) Conditional execution"
   ]
  },
  {
   "cell_type": "markdown",
   "metadata": {},
   "source": [
    "**(1.1) Write a program that asks the user’s grade (A~F). Print out \"fail\" if the grade is equal to 'F'.**<br>\n",
    "Expected result:\n",
    "<code>\n",
    "Enter your grade:F\n",
    "fail\n",
    "</code>    "
   ]
  },
  {
   "cell_type": "code",
   "execution_count": null,
   "metadata": {},
   "outputs": [],
   "source": [
    "#put your code here"
   ]
  },
  {
   "cell_type": "markdown",
   "metadata": {},
   "source": [
    "**(1.2) Write a program that asks the user’s email. Print out \"This is a Gmail address.\" if the email contains \"@gmail.com\".**<br>\n",
    "Expected result:\n",
    "<code>\n",
    "Enter email: pythoncourse@gmail.com\n",
    "This is a Gmail address.\n",
    "</code>"
   ]
  },
  {
   "cell_type": "code",
   "execution_count": null,
   "metadata": {},
   "outputs": [],
   "source": [
    "#put your code here"
   ]
  },
  {
   "cell_type": "markdown",
   "metadata": {},
   "source": [
    "## (2) Alternative execution"
   ]
  },
  {
   "cell_type": "markdown",
   "metadata": {},
   "source": [
    "**(2.1) Define an input box named <code>CT</code>. Write a program check if CT <= 40. If yes, print out \"PCR result: Positive\"; if not, print out \"PCR result: Negative\"** <br>\n",
    "Expected result:\n",
    "<code>\n",
    "Enter cycle threshold (CT): 28\n",
    "PCR result: Positive\n",
    "</code>    "
   ]
  },
  {
   "cell_type": "code",
   "execution_count": null,
   "metadata": {},
   "outputs": [],
   "source": [
    "#put your code here"
   ]
  },
  {
   "cell_type": "markdown",
   "metadata": {},
   "source": [
    "**(2.2) Define an input box named <code>x</code>. Write a program to check if x mod 2 is eqaul to 0. If yes, print out \"Even number\"; if not, print out \"Odd number\".**<br>\n",
    "Hint: Given two numbers $a$ and $b$, $a$ modulo $b$ (abbreviated as $a$ mod $b$) is the remainder of the division of $a$ by $b$."
   ]
  },
  {
   "cell_type": "code",
   "execution_count": null,
   "metadata": {},
   "outputs": [],
   "source": [
    "#put your code here"
   ]
  },
  {
   "cell_type": "markdown",
   "metadata": {},
   "source": [
    "**(2.3) Write a program to ask the user for the time (minutes) to ride the scooter. Print the cost according to the following table.** <br>  "
   ]
  },
  {
   "cell_type": "markdown",
   "metadata": {},
   "source": [
    "|boolean expression|cost|\n",
    "|:-:|:-:|\n",
    "|time $ \\le 5$ mins|15 kr |\n",
    "|time $ > 5$ mins| The first 5 minutes is 15 kr. <br>After 5 minutes, it will cost 2.5 kr per minute|"
   ]
  },
  {
   "cell_type": "markdown",
   "metadata": {},
   "source": [
    "Expected result:\n",
    "<code>\n",
    "Time: 8\n",
    "Cost: 22.5 kr\n",
    "</code>    "
   ]
  },
  {
   "cell_type": "code",
   "execution_count": null,
   "metadata": {},
   "outputs": [],
   "source": [
    "#put your code here"
   ]
  },
  {
   "cell_type": "markdown",
   "metadata": {},
   "source": [
    "## (3) Chained conditionals"
   ]
  },
  {
   "cell_type": "markdown",
   "metadata": {},
   "source": [
    "**(3.1) Write a program that asks the user's age and prints the group and fare based on their age.**"
   ]
  },
  {
   "cell_type": "markdown",
   "metadata": {},
   "source": [
    "| test | print out |\n",
    "|:-:|:-:|\n",
    "|age $\\ge$ 67|Senior (100 NOK)|\n",
    "|age $\\le$ 15|Children (Free)|\n",
    "|None of the above expression are true|Adults (140 NOK)|"
   ]
  },
  {
   "cell_type": "markdown",
   "metadata": {},
   "source": [
    "Expected result:\n",
    "<code>\n",
    "Enter your age: 25\n",
    "Adults (140 NOK)\n",
    "</code>"
   ]
  },
  {
   "cell_type": "code",
   "execution_count": null,
   "metadata": {},
   "outputs": [],
   "source": [
    "#put your code here"
   ]
  },
  {
   "cell_type": "markdown",
   "metadata": {},
   "source": [
    "**(3.2) Define an input box named <code>grade</code>. Write a conditional statement and print out the description based on the grade.**"
   ]
  },
  {
   "cell_type": "markdown",
   "metadata": {},
   "source": [
    "| test | print out |\n",
    "|:-:|:-:|\n",
    "|grade is A|Excellent|\n",
    "|grade is B|Very good|\n",
    "|grade is C|Good|\n",
    "|grade is D|Satisfactory|\n",
    "|grade is E|Sufficient|\n",
    "|grade is F|Fail|\n",
    "|None of the above expression are true|Please enter a valid grade (A~F)|"
   ]
  },
  {
   "cell_type": "markdown",
   "metadata": {},
   "source": [
    "Expected result:\n",
    "<code>\n",
    "Enter your grade: C\n",
    "Good\n",
    "</code>"
   ]
  },
  {
   "cell_type": "code",
   "execution_count": null,
   "metadata": {},
   "outputs": [],
   "source": [
    "#put your code here"
   ]
  },
  {
   "cell_type": "markdown",
   "metadata": {},
   "source": [
    "## (4) Nested conditionals\n"
   ]
  },
  {
   "cell_type": "markdown",
   "metadata": {},
   "source": [
    "**(4.1) Write a program that asks the user's age. If age < 0, print the message \"Please enter a postive number\". If age >=0, print the group based on the following table.**"
   ]
  },
  {
   "cell_type": "markdown",
   "metadata": {},
   "source": [
    "| test | print out |\n",
    "|:-:|:-:|\n",
    "|age $\\ge$ 67|Senior|\n",
    "|age $\\le$ 15|Children|\n",
    "|None of the above expression are true|Adults|"
   ]
  },
  {
   "cell_type": "markdown",
   "metadata": {},
   "source": [
    "Expected result:\n",
    "<code>\n",
    "Enter your age: -1\n",
    "Please enter a positive number\n",
    "</code>"
   ]
  },
  {
   "cell_type": "code",
   "execution_count": null,
   "metadata": {},
   "outputs": [],
   "source": [
    "#put your code here"
   ]
  },
  {
   "cell_type": "markdown",
   "metadata": {},
   "source": [
    "**(4.2) Calculate the cost of renting a workspace. Define two input boxes <code>hours</code> and <code>weekday</code>. Write a nested conditionals and print out the cost based on the following rules.**<br>\n",
    "Hint: cost = (hours) $\\times$ (hourly rate)\n",
    "- weekday\n",
    "    - if it is less than or equal to 5 hours, the hourly rate is 200 kr\n",
    "    - if exceeds 5 hours, the hourly rate is 150 kr\n",
    "- weekend\n",
    "    - if less than or equal to 5 hours, the hourly rate is 300 kr\n",
    "    - if exceeds 5 hours, the hourly rate is 250 kr\n",
    "    \n",
    "Expected result:\n",
    "<code>\n",
    "Hours: 7\n",
    "Weekday(yes/no): yes\n",
    "Cost: 1050 kr\n",
    "</code>"
   ]
  },
  {
   "cell_type": "code",
   "execution_count": null,
   "metadata": {},
   "outputs": [],
   "source": [
    "#put your code here"
   ]
  },
  {
   "cell_type": "markdown",
   "metadata": {},
   "source": [
    "## (5) Conditional statements with logical operators"
   ]
  },
  {
   "cell_type": "markdown",
   "metadata": {},
   "source": [
    "**(5.1) Define two input boxes <code>room</code> and <code>breakfast</code>. Print out the price based on the following table.**"
   ]
  },
  {
   "cell_type": "markdown",
   "metadata": {},
   "source": [
    "|| breakfast = no | breakfast = yes |\n",
    "|:-:|:-:|:-:|\n",
    "|<b>room = single</b>|1000 NOK|1200 NOK|\n",
    "|<b>room = double</b>|1300 NOK|1600 NOK|"
   ]
  },
  {
   "cell_type": "markdown",
   "metadata": {},
   "source": [
    "Expected result:\n",
    "<code>\n",
    "Type of room (single/double): double\n",
    "Breakfast included (yes/no): no\n",
    "1300 NOK\n",
    "</code>"
   ]
  },
  {
   "cell_type": "code",
   "execution_count": null,
   "metadata": {},
   "outputs": [],
   "source": [
    "#put your code here"
   ]
  },
  {
   "cell_type": "markdown",
   "metadata": {},
   "source": [
    "**(5.2) Write a program that asks the user the color of the country where he/she is traveling from. Print out the quarantine requirements according to the entered color.**\n",
    "- **green**: You do not need to enter a travel quarantine.\n",
    "- **orange/red**: You can implement your travel quarantine period at home.    \n",
    "- **dark red**: You must implement your travel quarantine period at the quarantined hotel.   \n",
    "- **others**: See https://www.helsenorge.no/en/coronavirus/international-travels"
   ]
  },
  {
   "cell_type": "code",
   "execution_count": null,
   "metadata": {},
   "outputs": [],
   "source": [
    "#put your code here"
   ]
  },
  {
   "cell_type": "markdown",
   "metadata": {},
   "source": [
    "**(5.3) Write a program that asks the user to enter a number. If the number is divisible by 3, print \"Fizz\". If the number is divisible by 5, print \"Buzz\". If the number is divisible by both 3 and 5, print \"FizzBuzz\". If the number is not divisible by 3 or 5, print \"skip\"**"
   ]
  },
  {
   "cell_type": "code",
   "execution_count": null,
   "metadata": {},
   "outputs": [],
   "source": [
    "#put your code here"
   ]
  }
 ],
 "metadata": {
  "kernelspec": {
   "display_name": "Python 3",
   "language": "python",
   "name": "python3"
  },
  "language_info": {
   "codemirror_mode": {
    "name": "ipython",
    "version": 3
   },
   "file_extension": ".py",
   "mimetype": "text/x-python",
   "name": "python",
   "nbconvert_exporter": "python",
   "pygments_lexer": "ipython3",
   "version": "3.8.8"
  }
 },
 "nbformat": 4,
 "nbformat_minor": 4
}
