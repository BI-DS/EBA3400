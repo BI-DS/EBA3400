{
 "cells": [
  {
   "cell_type": "markdown",
   "id": "8ee20f9b",
   "metadata": {},
   "source": [
    "# Pandas4 - Visualization"
   ]
  },
  {
   "cell_type": "code",
   "execution_count": 1,
   "id": "0053c86f",
   "metadata": {},
   "outputs": [],
   "source": [
    "# import package\n",
    "import pandas as pd"
   ]
  },
  {
   "cell_type": "markdown",
   "id": "be320b1b",
   "metadata": {},
   "source": [
    "## (1) Oslo city bike"
   ]
  },
  {
   "cell_type": "markdown",
   "id": "6d5f3dc9",
   "metadata": {},
   "source": [
    "**(1.1) Download the August 2021 city bike data here https://oslobysykkel.no/en/open-data/historical. Import the dataset.**<br> \n",
    "(The description of each column can be found on the same page.)"
   ]
  },
  {
   "cell_type": "code",
   "execution_count": 2,
   "id": "be932e80",
   "metadata": {},
   "outputs": [
    {
     "data": {
      "text/html": [
       "<div>\n",
       "<style scoped>\n",
       "    .dataframe tbody tr th:only-of-type {\n",
       "        vertical-align: middle;\n",
       "    }\n",
       "\n",
       "    .dataframe tbody tr th {\n",
       "        vertical-align: top;\n",
       "    }\n",
       "\n",
       "    .dataframe thead th {\n",
       "        text-align: right;\n",
       "    }\n",
       "</style>\n",
       "<table border=\"1\" class=\"dataframe\">\n",
       "  <thead>\n",
       "    <tr style=\"text-align: right;\">\n",
       "      <th></th>\n",
       "      <th>started_at</th>\n",
       "      <th>ended_at</th>\n",
       "      <th>duration</th>\n",
       "      <th>start_station_id</th>\n",
       "      <th>start_station_name</th>\n",
       "      <th>start_station_description</th>\n",
       "      <th>start_station_latitude</th>\n",
       "      <th>start_station_longitude</th>\n",
       "      <th>end_station_id</th>\n",
       "      <th>end_station_name</th>\n",
       "      <th>end_station_description</th>\n",
       "      <th>end_station_latitude</th>\n",
       "      <th>end_station_longitude</th>\n",
       "    </tr>\n",
       "  </thead>\n",
       "  <tbody>\n",
       "    <tr>\n",
       "      <th>0</th>\n",
       "      <td>2021-08-01 03:02:57.720000+00:00</td>\n",
       "      <td>2021-08-01 03:12:52.597000+00:00</td>\n",
       "      <td>594</td>\n",
       "      <td>446</td>\n",
       "      <td>Bislett Stadion</td>\n",
       "      <td>ved rundkjøringen</td>\n",
       "      <td>59.925471</td>\n",
       "      <td>10.731219</td>\n",
       "      <td>459</td>\n",
       "      <td>Valkyrieplassen</td>\n",
       "      <td>ved Bogstadveien</td>\n",
       "      <td>59.928132</td>\n",
       "      <td>10.718420</td>\n",
       "    </tr>\n",
       "    <tr>\n",
       "      <th>1</th>\n",
       "      <td>2021-08-01 03:10:11.182000+00:00</td>\n",
       "      <td>2021-08-01 03:27:21.284000+00:00</td>\n",
       "      <td>1030</td>\n",
       "      <td>462</td>\n",
       "      <td>Stensparken</td>\n",
       "      <td>ved Sporveisgata</td>\n",
       "      <td>59.927140</td>\n",
       "      <td>10.730981</td>\n",
       "      <td>735</td>\n",
       "      <td>Oslo Hospital</td>\n",
       "      <td>ved trikkestoppet</td>\n",
       "      <td>59.903213</td>\n",
       "      <td>10.767344</td>\n",
       "    </tr>\n",
       "    <tr>\n",
       "      <th>2</th>\n",
       "      <td>2021-08-01 03:11:51.662000+00:00</td>\n",
       "      <td>2021-08-01 03:22:59.895000+00:00</td>\n",
       "      <td>668</td>\n",
       "      <td>624</td>\n",
       "      <td>Dælenenggata</td>\n",
       "      <td>ved Fagerheimgata</td>\n",
       "      <td>59.928750</td>\n",
       "      <td>10.767546</td>\n",
       "      <td>581</td>\n",
       "      <td>Jordalgata</td>\n",
       "      <td>ved Galgeberg busstopp</td>\n",
       "      <td>59.908227</td>\n",
       "      <td>10.781088</td>\n",
       "    </tr>\n",
       "    <tr>\n",
       "      <th>3</th>\n",
       "      <td>2021-08-01 03:19:27.151000+00:00</td>\n",
       "      <td>2021-08-01 03:42:37.826000+00:00</td>\n",
       "      <td>1390</td>\n",
       "      <td>391</td>\n",
       "      <td>St. Hanshaugen park vest</td>\n",
       "      <td>ved busstoppet Colletts gate</td>\n",
       "      <td>59.926871</td>\n",
       "      <td>10.738463</td>\n",
       "      <td>737</td>\n",
       "      <td>Munkegata</td>\n",
       "      <td>langs Oslo gate</td>\n",
       "      <td>59.908255</td>\n",
       "      <td>10.767800</td>\n",
       "    </tr>\n",
       "    <tr>\n",
       "      <th>4</th>\n",
       "      <td>2021-08-01 03:21:52.994000+00:00</td>\n",
       "      <td>2021-08-01 03:30:01.358000+00:00</td>\n",
       "      <td>488</td>\n",
       "      <td>499</td>\n",
       "      <td>Bjerregaards gate</td>\n",
       "      <td>ovenfor Fredrikke Qvams gate</td>\n",
       "      <td>59.925488</td>\n",
       "      <td>10.746058</td>\n",
       "      <td>475</td>\n",
       "      <td>Hausmanns bru</td>\n",
       "      <td>langs Nylandsveien</td>\n",
       "      <td>59.914651</td>\n",
       "      <td>10.759872</td>\n",
       "    </tr>\n",
       "  </tbody>\n",
       "</table>\n",
       "</div>"
      ],
      "text/plain": [
       "                         started_at                          ended_at  \\\n",
       "0  2021-08-01 03:02:57.720000+00:00  2021-08-01 03:12:52.597000+00:00   \n",
       "1  2021-08-01 03:10:11.182000+00:00  2021-08-01 03:27:21.284000+00:00   \n",
       "2  2021-08-01 03:11:51.662000+00:00  2021-08-01 03:22:59.895000+00:00   \n",
       "3  2021-08-01 03:19:27.151000+00:00  2021-08-01 03:42:37.826000+00:00   \n",
       "4  2021-08-01 03:21:52.994000+00:00  2021-08-01 03:30:01.358000+00:00   \n",
       "\n",
       "   duration  start_station_id        start_station_name  \\\n",
       "0       594               446           Bislett Stadion   \n",
       "1      1030               462               Stensparken   \n",
       "2       668               624              Dælenenggata   \n",
       "3      1390               391  St. Hanshaugen park vest   \n",
       "4       488               499         Bjerregaards gate   \n",
       "\n",
       "      start_station_description  start_station_latitude  \\\n",
       "0             ved rundkjøringen               59.925471   \n",
       "1              ved Sporveisgata               59.927140   \n",
       "2             ved Fagerheimgata               59.928750   \n",
       "3  ved busstoppet Colletts gate               59.926871   \n",
       "4  ovenfor Fredrikke Qvams gate               59.925488   \n",
       "\n",
       "   start_station_longitude  end_station_id end_station_name  \\\n",
       "0                10.731219             459  Valkyrieplassen   \n",
       "1                10.730981             735    Oslo Hospital   \n",
       "2                10.767546             581       Jordalgata   \n",
       "3                10.738463             737        Munkegata   \n",
       "4                10.746058             475    Hausmanns bru   \n",
       "\n",
       "  end_station_description  end_station_latitude  end_station_longitude  \n",
       "0        ved Bogstadveien             59.928132              10.718420  \n",
       "1       ved trikkestoppet             59.903213              10.767344  \n",
       "2  ved Galgeberg busstopp             59.908227              10.781088  \n",
       "3         langs Oslo gate             59.908255              10.767800  \n",
       "4      langs Nylandsveien             59.914651              10.759872  "
      ]
     },
     "execution_count": 2,
     "metadata": {},
     "output_type": "execute_result"
    }
   ],
   "source": [
    "#put your code here\n",
    "bikes_df = pd.read_csv(\"../dataset/oslo_bike.csv\")\n",
    "bikes_df.head(5)"
   ]
  },
  {
   "cell_type": "markdown",
   "id": "9ae656fd",
   "metadata": {},
   "source": [
    "**(1.2) Extract the date (month-date) from the column <code>started_at</code> and add it to a new column named <code>date</code>.**"
   ]
  },
  {
   "cell_type": "code",
   "execution_count": 3,
   "id": "e42a5dd1",
   "metadata": {},
   "outputs": [
    {
     "data": {
      "text/html": [
       "<div>\n",
       "<style scoped>\n",
       "    .dataframe tbody tr th:only-of-type {\n",
       "        vertical-align: middle;\n",
       "    }\n",
       "\n",
       "    .dataframe tbody tr th {\n",
       "        vertical-align: top;\n",
       "    }\n",
       "\n",
       "    .dataframe thead th {\n",
       "        text-align: right;\n",
       "    }\n",
       "</style>\n",
       "<table border=\"1\" class=\"dataframe\">\n",
       "  <thead>\n",
       "    <tr style=\"text-align: right;\">\n",
       "      <th></th>\n",
       "      <th>started_at</th>\n",
       "      <th>ended_at</th>\n",
       "      <th>duration</th>\n",
       "      <th>start_station_id</th>\n",
       "      <th>start_station_name</th>\n",
       "      <th>start_station_description</th>\n",
       "      <th>start_station_latitude</th>\n",
       "      <th>start_station_longitude</th>\n",
       "      <th>end_station_id</th>\n",
       "      <th>end_station_name</th>\n",
       "      <th>end_station_description</th>\n",
       "      <th>end_station_latitude</th>\n",
       "      <th>end_station_longitude</th>\n",
       "      <th>date</th>\n",
       "    </tr>\n",
       "  </thead>\n",
       "  <tbody>\n",
       "    <tr>\n",
       "      <th>0</th>\n",
       "      <td>2021-08-01 03:02:57.720000+00:00</td>\n",
       "      <td>2021-08-01 03:12:52.597000+00:00</td>\n",
       "      <td>594</td>\n",
       "      <td>446</td>\n",
       "      <td>Bislett Stadion</td>\n",
       "      <td>ved rundkjøringen</td>\n",
       "      <td>59.925471</td>\n",
       "      <td>10.731219</td>\n",
       "      <td>459</td>\n",
       "      <td>Valkyrieplassen</td>\n",
       "      <td>ved Bogstadveien</td>\n",
       "      <td>59.928132</td>\n",
       "      <td>10.718420</td>\n",
       "      <td>08-01</td>\n",
       "    </tr>\n",
       "    <tr>\n",
       "      <th>1</th>\n",
       "      <td>2021-08-01 03:10:11.182000+00:00</td>\n",
       "      <td>2021-08-01 03:27:21.284000+00:00</td>\n",
       "      <td>1030</td>\n",
       "      <td>462</td>\n",
       "      <td>Stensparken</td>\n",
       "      <td>ved Sporveisgata</td>\n",
       "      <td>59.927140</td>\n",
       "      <td>10.730981</td>\n",
       "      <td>735</td>\n",
       "      <td>Oslo Hospital</td>\n",
       "      <td>ved trikkestoppet</td>\n",
       "      <td>59.903213</td>\n",
       "      <td>10.767344</td>\n",
       "      <td>08-01</td>\n",
       "    </tr>\n",
       "    <tr>\n",
       "      <th>2</th>\n",
       "      <td>2021-08-01 03:11:51.662000+00:00</td>\n",
       "      <td>2021-08-01 03:22:59.895000+00:00</td>\n",
       "      <td>668</td>\n",
       "      <td>624</td>\n",
       "      <td>Dælenenggata</td>\n",
       "      <td>ved Fagerheimgata</td>\n",
       "      <td>59.928750</td>\n",
       "      <td>10.767546</td>\n",
       "      <td>581</td>\n",
       "      <td>Jordalgata</td>\n",
       "      <td>ved Galgeberg busstopp</td>\n",
       "      <td>59.908227</td>\n",
       "      <td>10.781088</td>\n",
       "      <td>08-01</td>\n",
       "    </tr>\n",
       "    <tr>\n",
       "      <th>3</th>\n",
       "      <td>2021-08-01 03:19:27.151000+00:00</td>\n",
       "      <td>2021-08-01 03:42:37.826000+00:00</td>\n",
       "      <td>1390</td>\n",
       "      <td>391</td>\n",
       "      <td>St. Hanshaugen park vest</td>\n",
       "      <td>ved busstoppet Colletts gate</td>\n",
       "      <td>59.926871</td>\n",
       "      <td>10.738463</td>\n",
       "      <td>737</td>\n",
       "      <td>Munkegata</td>\n",
       "      <td>langs Oslo gate</td>\n",
       "      <td>59.908255</td>\n",
       "      <td>10.767800</td>\n",
       "      <td>08-01</td>\n",
       "    </tr>\n",
       "    <tr>\n",
       "      <th>4</th>\n",
       "      <td>2021-08-01 03:21:52.994000+00:00</td>\n",
       "      <td>2021-08-01 03:30:01.358000+00:00</td>\n",
       "      <td>488</td>\n",
       "      <td>499</td>\n",
       "      <td>Bjerregaards gate</td>\n",
       "      <td>ovenfor Fredrikke Qvams gate</td>\n",
       "      <td>59.925488</td>\n",
       "      <td>10.746058</td>\n",
       "      <td>475</td>\n",
       "      <td>Hausmanns bru</td>\n",
       "      <td>langs Nylandsveien</td>\n",
       "      <td>59.914651</td>\n",
       "      <td>10.759872</td>\n",
       "      <td>08-01</td>\n",
       "    </tr>\n",
       "  </tbody>\n",
       "</table>\n",
       "</div>"
      ],
      "text/plain": [
       "                         started_at                          ended_at  \\\n",
       "0  2021-08-01 03:02:57.720000+00:00  2021-08-01 03:12:52.597000+00:00   \n",
       "1  2021-08-01 03:10:11.182000+00:00  2021-08-01 03:27:21.284000+00:00   \n",
       "2  2021-08-01 03:11:51.662000+00:00  2021-08-01 03:22:59.895000+00:00   \n",
       "3  2021-08-01 03:19:27.151000+00:00  2021-08-01 03:42:37.826000+00:00   \n",
       "4  2021-08-01 03:21:52.994000+00:00  2021-08-01 03:30:01.358000+00:00   \n",
       "\n",
       "   duration  start_station_id        start_station_name  \\\n",
       "0       594               446           Bislett Stadion   \n",
       "1      1030               462               Stensparken   \n",
       "2       668               624              Dælenenggata   \n",
       "3      1390               391  St. Hanshaugen park vest   \n",
       "4       488               499         Bjerregaards gate   \n",
       "\n",
       "      start_station_description  start_station_latitude  \\\n",
       "0             ved rundkjøringen               59.925471   \n",
       "1              ved Sporveisgata               59.927140   \n",
       "2             ved Fagerheimgata               59.928750   \n",
       "3  ved busstoppet Colletts gate               59.926871   \n",
       "4  ovenfor Fredrikke Qvams gate               59.925488   \n",
       "\n",
       "   start_station_longitude  end_station_id end_station_name  \\\n",
       "0                10.731219             459  Valkyrieplassen   \n",
       "1                10.730981             735    Oslo Hospital   \n",
       "2                10.767546             581       Jordalgata   \n",
       "3                10.738463             737        Munkegata   \n",
       "4                10.746058             475    Hausmanns bru   \n",
       "\n",
       "  end_station_description  end_station_latitude  end_station_longitude   date  \n",
       "0        ved Bogstadveien             59.928132              10.718420  08-01  \n",
       "1       ved trikkestoppet             59.903213              10.767344  08-01  \n",
       "2  ved Galgeberg busstopp             59.908227              10.781088  08-01  \n",
       "3         langs Oslo gate             59.908255              10.767800  08-01  \n",
       "4      langs Nylandsveien             59.914651              10.759872  08-01  "
      ]
     },
     "execution_count": 3,
     "metadata": {},
     "output_type": "execute_result"
    }
   ],
   "source": [
    "#put your code here\n",
    "bikes_df[\"date\"] = bikes_df.started_at.str[5:10]\n",
    "bikes_df.head(5)"
   ]
  },
  {
   "cell_type": "markdown",
   "id": "9b007409",
   "metadata": {},
   "source": [
    "**(1.3) Group the data by the column <code>date</code>. Calculate the total riding time for all trips each day.**<br>\n",
    "Hint: Use column <code>duration</code>."
   ]
  },
  {
   "cell_type": "code",
   "execution_count": 4,
   "id": "fbdb7ed0",
   "metadata": {},
   "outputs": [
    {
     "data": {
      "text/plain": [
       "date\n",
       "08-01    2496649\n",
       "08-02    4749408\n",
       "08-03    4776903\n",
       "08-04    4736471\n",
       "08-05    5047260\n",
       "08-06    4283318\n",
       "08-07    3909087\n",
       "08-08    3989905\n",
       "08-09    4926320\n",
       "08-10    5923996\n",
       "08-11    5883490\n",
       "08-12    5568256\n",
       "08-13    4569092\n",
       "08-14    4560004\n",
       "08-15    3484711\n",
       "08-16    4828216\n",
       "08-17    5481214\n",
       "08-18    5320426\n",
       "08-19    5518876\n",
       "08-20    5530959\n",
       "08-21    4835860\n",
       "08-22    4245287\n",
       "08-23    6137775\n",
       "08-24    5420130\n",
       "08-25    5498948\n",
       "08-26    4840478\n",
       "08-27    4785098\n",
       "08-28    4991493\n",
       "08-29    4679582\n",
       "08-30    5695781\n",
       "08-31    5924140\n",
       "Name: duration, dtype: int64"
      ]
     },
     "execution_count": 4,
     "metadata": {},
     "output_type": "execute_result"
    }
   ],
   "source": [
    "#put your code here\n",
    "bikes_df.groupby(\"date\").duration.sum()"
   ]
  },
  {
   "cell_type": "markdown",
   "id": "7ea0c51b",
   "metadata": {},
   "source": [
    "**(1.4) Use a line chart to display the result obtained in (1.3).**<br>\n",
    "Setting: Use marker = \"o\" and figsize = (12,4)."
   ]
  },
  {
   "cell_type": "code",
   "execution_count": 5,
   "id": "bbf3ebce",
   "metadata": {},
   "outputs": [
    {
     "data": {
      "text/plain": [
       "<AxesSubplot:xlabel='date'>"
      ]
     },
     "execution_count": 5,
     "metadata": {},
     "output_type": "execute_result"
    },
    {
     "data": {
      "image/png": "[encoded data removed]",
      "text/plain": [
       "<Figure size 864x288 with 1 Axes>"
      ]
     },
     "metadata": {
      "needs_background": "light"
     },
     "output_type": "display_data"
    }
   ],
   "source": [
    "#put your code here\n",
    "bikes_df.groupby(\"date\").duration.sum().plot(marker = \"o\", figsize = (12,4))"
   ]
  },
  {
   "cell_type": "markdown",
   "id": "1a8d38a8",
   "metadata": {},
   "source": [
    "## (2) Customer profile analysis\n",
    "A mall has gathered data on their customers through a loyalty program. They have information about age, gender, annual income and spending score. Spending Score is a measure from 0 to 100, created for each customer based on customer behavior and purchasing data."
   ]
  },
  {
   "cell_type": "markdown",
   "id": "bc695cf4",
   "metadata": {},
   "source": [
    "**(2.1) Import dataset <code>customers.csv</code> and use the column <code>CustomerID</code> as the index. Display the first five rows.**<br>\n",
    "Hint: index_col = \"CustomerID\"."
   ]
  },
  {
   "cell_type": "code",
   "execution_count": 6,
   "id": "789f33ef",
   "metadata": {},
   "outputs": [
    {
     "data": {
      "text/html": [
       "<div>\n",
       "<style scoped>\n",
       "    .dataframe tbody tr th:only-of-type {\n",
       "        vertical-align: middle;\n",
       "    }\n",
       "\n",
       "    .dataframe tbody tr th {\n",
       "        vertical-align: top;\n",
       "    }\n",
       "\n",
       "    .dataframe thead th {\n",
       "        text-align: right;\n",
       "    }\n",
       "</style>\n",
       "<table border=\"1\" class=\"dataframe\">\n",
       "  <thead>\n",
       "    <tr style=\"text-align: right;\">\n",
       "      <th></th>\n",
       "      <th>Gender</th>\n",
       "      <th>Age</th>\n",
       "      <th>Annual Income (k$)</th>\n",
       "      <th>Spending Score (1-100)</th>\n",
       "    </tr>\n",
       "    <tr>\n",
       "      <th>CustomerID</th>\n",
       "      <th></th>\n",
       "      <th></th>\n",
       "      <th></th>\n",
       "      <th></th>\n",
       "    </tr>\n",
       "  </thead>\n",
       "  <tbody>\n",
       "    <tr>\n",
       "      <th>1</th>\n",
       "      <td>Male</td>\n",
       "      <td>19</td>\n",
       "      <td>15</td>\n",
       "      <td>39</td>\n",
       "    </tr>\n",
       "    <tr>\n",
       "      <th>2</th>\n",
       "      <td>Male</td>\n",
       "      <td>21</td>\n",
       "      <td>15</td>\n",
       "      <td>81</td>\n",
       "    </tr>\n",
       "    <tr>\n",
       "      <th>3</th>\n",
       "      <td>Female</td>\n",
       "      <td>20</td>\n",
       "      <td>16</td>\n",
       "      <td>6</td>\n",
       "    </tr>\n",
       "    <tr>\n",
       "      <th>4</th>\n",
       "      <td>Female</td>\n",
       "      <td>23</td>\n",
       "      <td>16</td>\n",
       "      <td>77</td>\n",
       "    </tr>\n",
       "    <tr>\n",
       "      <th>5</th>\n",
       "      <td>Female</td>\n",
       "      <td>31</td>\n",
       "      <td>17</td>\n",
       "      <td>40</td>\n",
       "    </tr>\n",
       "  </tbody>\n",
       "</table>\n",
       "</div>"
      ],
      "text/plain": [
       "            Gender  Age  Annual Income (k$)  Spending Score (1-100)\n",
       "CustomerID                                                         \n",
       "1             Male   19                  15                      39\n",
       "2             Male   21                  15                      81\n",
       "3           Female   20                  16                       6\n",
       "4           Female   23                  16                      77\n",
       "5           Female   31                  17                      40"
      ]
     },
     "execution_count": 6,
     "metadata": {},
     "output_type": "execute_result"
    }
   ],
   "source": [
    "#put your code here\n",
    "customer_df = pd.read_csv(\"../dataset/customers.csv\", index_col = \"CustomerID\")\n",
    "customer_df.head(5)"
   ]
  },
  {
   "cell_type": "markdown",
   "id": "065a3444",
   "metadata": {},
   "source": [
    "**(2.2) Rename the columns according to the table below.**<br>\n",
    "Hint: <code>DataFrame.columns = ['gender', 'age', 'income', 'spending_score']</code>"
   ]
  },
  {
   "cell_type": "markdown",
   "id": "89942048",
   "metadata": {},
   "source": [
    "|column name| new column name|\n",
    "|:-:|:-:|\n",
    "|Gender|gender|\n",
    "|Age|age|\n",
    "|Annual Income (k$)|income|\n",
    "|Spending Score (1-100)|spending_score|"
   ]
  },
  {
   "cell_type": "code",
   "execution_count": 7,
   "id": "7a5a42df",
   "metadata": {},
   "outputs": [],
   "source": [
    "#put your code here\n",
    "customer_df.columns = ['gender', 'age', 'income', 'spending_score']"
   ]
  },
  {
   "cell_type": "markdown",
   "id": "a40e9f0c",
   "metadata": {},
   "source": [
    "**(2.3) Use a histogram to show the income distribution.**"
   ]
  },
  {
   "cell_type": "code",
   "execution_count": 8,
   "id": "d54e4624",
   "metadata": {},
   "outputs": [
    {
     "data": {
      "text/plain": [
       "<AxesSubplot:ylabel='Frequency'>"
      ]
     },
     "execution_count": 8,
     "metadata": {},
     "output_type": "execute_result"
    },
    {
     "data": {
      "image/png": "[encoded data removed]",
      "text/plain": [
       "<Figure size 432x288 with 1 Axes>"
      ]
     },
     "metadata": {
      "needs_background": "light"
     },
     "output_type": "display_data"
    }
   ],
   "source": [
    "#put your code here\n",
    "customer_df.plot(kind = \"hist\", y = \"income\")"
   ]
  },
  {
   "cell_type": "markdown",
   "id": "68fbe43b",
   "metadata": {},
   "source": [
    "**(2.4) Use a scatter plot to show the relationship between income and spending_score.**"
   ]
  },
  {
   "cell_type": "code",
   "execution_count": 9,
   "id": "66b59e36",
   "metadata": {},
   "outputs": [
    {
     "data": {
      "text/plain": [
       "<AxesSubplot:xlabel='income', ylabel='spending_score'>"
      ]
     },
     "execution_count": 9,
     "metadata": {},
     "output_type": "execute_result"
    },
    {
     "data": {
      "image/png": "[encoded data removed]",
      "text/plain": [
       "<Figure size 432x288 with 1 Axes>"
      ]
     },
     "metadata": {
      "needs_background": "light"
     },
     "output_type": "display_data"
    }
   ],
   "source": [
    "#put your code here\n",
    "customer_df.plot(kind = \"scatter\", x= \"income\", y = \"spending_score\")"
   ]
  },
  {
   "cell_type": "markdown",
   "id": "dec72b4c",
   "metadata": {},
   "source": [
    "**(2.5) Use a scatter plot to show the relationship between income and spending_score. Color the points based on the column <code>age</code>.**"
   ]
  },
  {
   "cell_type": "code",
   "execution_count": 10,
   "id": "1cb86295",
   "metadata": {},
   "outputs": [
    {
     "data": {
      "text/plain": [
       "<AxesSubplot:xlabel='income', ylabel='spending_score'>"
      ]
     },
     "execution_count": 10,
     "metadata": {},
     "output_type": "execute_result"
    },
    {
     "data": {
      "image/png": "[encoded data removed]",
      "text/plain": [
       "<Figure size 432x288 with 2 Axes>"
      ]
     },
     "metadata": {
      "needs_background": "light"
     },
     "output_type": "display_data"
    }
   ],
   "source": [
    "#put your code here\n",
    "customer_df.plot(kind = \"scatter\", x= \"income\", y = \"spending_score\", c = \"age\", colormap = \"Spectral\", sharex = False)"
   ]
  },
  {
   "cell_type": "markdown",
   "id": "dfc5e120",
   "metadata": {},
   "source": [
    "**(2.6) Convert the age to age group according to the table below. Store the result in a new column named <code>age_group</code>.**<br>\n",
    "Hint: <code>pd.cut()</code>"
   ]
  },
  {
   "cell_type": "markdown",
   "id": "b0da1c89",
   "metadata": {},
   "source": [
    "|range| label|\n",
    "|:-:|:-:|\n",
    "|18-35| young adults|\n",
    "|36-55| middle-aged adults|\n",
    "|56-75| older adults |"
   ]
  },
  {
   "cell_type": "code",
   "execution_count": 11,
   "id": "720f8157",
   "metadata": {},
   "outputs": [],
   "source": [
    "#put your code here\n",
    "customer_df[\"age_group\"] = pd.cut(customer_df.age, \n",
    "                                  bins = [18,35,55,75],\n",
    "                                  labels = [\"young adults\",\"middle-aged adults\",\"older adults\"], \n",
    "                                  include_lowest = True)"
   ]
  },
  {
   "cell_type": "markdown",
   "id": "474e1656",
   "metadata": {},
   "source": [
    "**(2.7) Count the number of customers in each age group. Display the results with a horizontal bar graph.**"
   ]
  },
  {
   "cell_type": "code",
   "execution_count": 12,
   "id": "9710c9a0",
   "metadata": {},
   "outputs": [
    {
     "data": {
      "text/plain": [
       "<AxesSubplot:>"
      ]
     },
     "execution_count": 12,
     "metadata": {},
     "output_type": "execute_result"
    },
    {
     "data": {
      "image/png": "[encoded data removed]",
      "text/plain": [
       "<Figure size 432x288 with 1 Axes>"
      ]
     },
     "metadata": {
      "needs_background": "light"
     },
     "output_type": "display_data"
    }
   ],
   "source": [
    "#put your code here\n",
    "#solution-1\n",
    "customer_df.age_group.value_counts().plot(kind = \"barh\")"
   ]
  },
  {
   "cell_type": "code",
   "execution_count": 13,
   "id": "344368ac",
   "metadata": {},
   "outputs": [
    {
     "data": {
      "text/plain": [
       "<AxesSubplot:ylabel='age_group'>"
      ]
     },
     "execution_count": 13,
     "metadata": {},
     "output_type": "execute_result"
    },
    {
     "data": {
      "image/png": "[encoded data removed]",
      "text/plain": [
       "<Figure size 432x288 with 1 Axes>"
      ]
     },
     "metadata": {
      "needs_background": "light"
     },
     "output_type": "display_data"
    }
   ],
   "source": [
    "#solution-2\n",
    "customer_df.groupby(\"age_group\").size().plot(kind = \"barh\")"
   ]
  },
  {
   "cell_type": "markdown",
   "id": "b336d228",
   "metadata": {},
   "source": [
    "**(2.8) Group the data by columns <code>age_group</code> and <code>gender</code>. Count the number of customer in each group.**"
   ]
  },
  {
   "cell_type": "code",
   "execution_count": 14,
   "id": "efa50989",
   "metadata": {},
   "outputs": [
    {
     "data": {
      "text/plain": [
       "age_group           gender\n",
       "young adults        Female    57\n",
       "                    Male      41\n",
       "middle-aged adults  Female    44\n",
       "                    Male      29\n",
       "older adults        Female    11\n",
       "                    Male      18\n",
       "dtype: int64"
      ]
     },
     "execution_count": 14,
     "metadata": {},
     "output_type": "execute_result"
    }
   ],
   "source": [
    "#put your code here\n",
    "#solution-1\n",
    "customer_gb = customer_df.groupby([\"age_group\",\"gender\"])\n",
    "customer_gb.size()"
   ]
  },
  {
   "cell_type": "code",
   "execution_count": 15,
   "id": "99afe126",
   "metadata": {},
   "outputs": [
    {
     "data": {
      "text/html": [
       "<div>\n",
       "<style scoped>\n",
       "    .dataframe tbody tr th:only-of-type {\n",
       "        vertical-align: middle;\n",
       "    }\n",
       "\n",
       "    .dataframe tbody tr th {\n",
       "        vertical-align: top;\n",
       "    }\n",
       "\n",
       "    .dataframe thead th {\n",
       "        text-align: right;\n",
       "    }\n",
       "</style>\n",
       "<table border=\"1\" class=\"dataframe\">\n",
       "  <thead>\n",
       "    <tr style=\"text-align: right;\">\n",
       "      <th>gender</th>\n",
       "      <th>Female</th>\n",
       "      <th>Male</th>\n",
       "    </tr>\n",
       "    <tr>\n",
       "      <th>age_group</th>\n",
       "      <th></th>\n",
       "      <th></th>\n",
       "    </tr>\n",
       "  </thead>\n",
       "  <tbody>\n",
       "    <tr>\n",
       "      <th>young adults</th>\n",
       "      <td>57</td>\n",
       "      <td>41</td>\n",
       "    </tr>\n",
       "    <tr>\n",
       "      <th>middle-aged adults</th>\n",
       "      <td>44</td>\n",
       "      <td>29</td>\n",
       "    </tr>\n",
       "    <tr>\n",
       "      <th>older adults</th>\n",
       "      <td>11</td>\n",
       "      <td>18</td>\n",
       "    </tr>\n",
       "  </tbody>\n",
       "</table>\n",
       "</div>"
      ],
      "text/plain": [
       "gender              Female  Male\n",
       "age_group                       \n",
       "young adults            57    41\n",
       "middle-aged adults      44    29\n",
       "older adults            11    18"
      ]
     },
     "execution_count": 15,
     "metadata": {},
     "output_type": "execute_result"
    }
   ],
   "source": [
    "#solution-2\n",
    "pd.crosstab(customer_df[\"age_group\"], customer_df[\"gender\"])"
   ]
  },
  {
   "cell_type": "markdown",
   "id": "f277ca3b",
   "metadata": {},
   "source": [
    "**(2.9) Convert the result obtained in (2.8) to the following format. Store the new dataframe in a variable named <code>customer_df_wide</code>.**"
   ]
  },
  {
   "cell_type": "markdown",
   "id": "30d48c06",
   "metadata": {},
   "source": [
    "||Female|Male|\n",
    "|:-:|:-:|:-:|\n",
    "|**young adults**|57|...|\n",
    "|**middle-aged adults**|...|...|\n",
    "|**older adults**|...|...|"
   ]
  },
  {
   "cell_type": "code",
   "execution_count": 16,
   "id": "6cb0945e",
   "metadata": {},
   "outputs": [
    {
     "data": {
      "text/html": [
       "<div>\n",
       "<style scoped>\n",
       "    .dataframe tbody tr th:only-of-type {\n",
       "        vertical-align: middle;\n",
       "    }\n",
       "\n",
       "    .dataframe tbody tr th {\n",
       "        vertical-align: top;\n",
       "    }\n",
       "\n",
       "    .dataframe thead th {\n",
       "        text-align: right;\n",
       "    }\n",
       "</style>\n",
       "<table border=\"1\" class=\"dataframe\">\n",
       "  <thead>\n",
       "    <tr style=\"text-align: right;\">\n",
       "      <th>gender</th>\n",
       "      <th>Female</th>\n",
       "      <th>Male</th>\n",
       "    </tr>\n",
       "    <tr>\n",
       "      <th>age_group</th>\n",
       "      <th></th>\n",
       "      <th></th>\n",
       "    </tr>\n",
       "  </thead>\n",
       "  <tbody>\n",
       "    <tr>\n",
       "      <th>young adults</th>\n",
       "      <td>57</td>\n",
       "      <td>41</td>\n",
       "    </tr>\n",
       "    <tr>\n",
       "      <th>middle-aged adults</th>\n",
       "      <td>44</td>\n",
       "      <td>29</td>\n",
       "    </tr>\n",
       "    <tr>\n",
       "      <th>older adults</th>\n",
       "      <td>11</td>\n",
       "      <td>18</td>\n",
       "    </tr>\n",
       "  </tbody>\n",
       "</table>\n",
       "</div>"
      ],
      "text/plain": [
       "gender              Female  Male\n",
       "age_group                       \n",
       "young adults            57    41\n",
       "middle-aged adults      44    29\n",
       "older adults            11    18"
      ]
     },
     "execution_count": 16,
     "metadata": {},
     "output_type": "execute_result"
    }
   ],
   "source": [
    "#put your code here\n",
    "#solution-1\n",
    "customer_df_tmp = customer_gb.size().to_frame(name = \"number_of_customer\")\n",
    "customer_df_tmp.reset_index(inplace = True)\n",
    "customer_df_wide = customer_df_tmp.pivot(index = \"age_group\", columns = \"gender\", values = \"number_of_customer\")\n",
    "customer_df_wide"
   ]
  },
  {
   "cell_type": "code",
   "execution_count": 17,
   "id": "4f23ca68",
   "metadata": {},
   "outputs": [
    {
     "data": {
      "text/html": [
       "<div>\n",
       "<style scoped>\n",
       "    .dataframe tbody tr th:only-of-type {\n",
       "        vertical-align: middle;\n",
       "    }\n",
       "\n",
       "    .dataframe tbody tr th {\n",
       "        vertical-align: top;\n",
       "    }\n",
       "\n",
       "    .dataframe thead th {\n",
       "        text-align: right;\n",
       "    }\n",
       "</style>\n",
       "<table border=\"1\" class=\"dataframe\">\n",
       "  <thead>\n",
       "    <tr style=\"text-align: right;\">\n",
       "      <th>gender</th>\n",
       "      <th>Female</th>\n",
       "      <th>Male</th>\n",
       "    </tr>\n",
       "    <tr>\n",
       "      <th>age_group</th>\n",
       "      <th></th>\n",
       "      <th></th>\n",
       "    </tr>\n",
       "  </thead>\n",
       "  <tbody>\n",
       "    <tr>\n",
       "      <th>young adults</th>\n",
       "      <td>57</td>\n",
       "      <td>41</td>\n",
       "    </tr>\n",
       "    <tr>\n",
       "      <th>middle-aged adults</th>\n",
       "      <td>44</td>\n",
       "      <td>29</td>\n",
       "    </tr>\n",
       "    <tr>\n",
       "      <th>older adults</th>\n",
       "      <td>11</td>\n",
       "      <td>18</td>\n",
       "    </tr>\n",
       "  </tbody>\n",
       "</table>\n",
       "</div>"
      ],
      "text/plain": [
       "gender              Female  Male\n",
       "age_group                       \n",
       "young adults            57    41\n",
       "middle-aged adults      44    29\n",
       "older adults            11    18"
      ]
     },
     "execution_count": 17,
     "metadata": {},
     "output_type": "execute_result"
    }
   ],
   "source": [
    "#solution-2\n",
    "customer_df_wide = pd.crosstab(customer_df[\"age_group\"], customer_df[\"gender\"])\n",
    "customer_df_wide"
   ]
  },
  {
   "cell_type": "markdown",
   "id": "d763206c",
   "metadata": {},
   "source": [
    "**(2.10) Draw a stacked bar chart to show the number of customers in each age group. Each bar is stacked by two sub-bars: the number of male customers and the number of female customers.** "
   ]
  },
  {
   "cell_type": "code",
   "execution_count": 18,
   "id": "1fc05b97",
   "metadata": {},
   "outputs": [
    {
     "data": {
      "text/plain": [
       "<AxesSubplot:xlabel='age_group'>"
      ]
     },
     "execution_count": 18,
     "metadata": {},
     "output_type": "execute_result"
    },
    {
     "data": {
      "image/png": "[encoded data removed]",
      "text/plain": [
       "<Figure size 432x288 with 1 Axes>"
      ]
     },
     "metadata": {
      "needs_background": "light"
     },
     "output_type": "display_data"
    }
   ],
   "source": [
    "#put your code here\n",
    "customer_df_wide.plot(kind = \"bar\", stacked = True)"
   ]
  },
  {
   "cell_type": "markdown",
   "id": "b09b74e1",
   "metadata": {},
   "source": [
    "## (3) Wine dataset\n",
    "Description of each column\n",
    "- **country**: The country that the wine is from\n",
    "- **description**: A few sentences from a sommelier describing the wine's taste, smell, look, feel, etc.\n",
    "- **designation**: The vineyard within the winery where the grapes that made the wine are from\n",
    "- **points**: The number of points WineEnthusiast rated the wine on a scale of 1-100\n",
    "- **price**: The cost for a bottle of the wine\n",
    "- **province**: The province or state that the wine is from\n",
    "- **region_1**: The wine growing area in a province or state\n",
    "- **region_2**: Sometimes there are more specific regions specified within a wine growing area, but this value can sometimes be blank\n",
    "- **variety**: The type of grapes used to make the wine\n",
    "- **winery**: The winery that made the wine"
   ]
  },
  {
   "cell_type": "markdown",
   "id": "e9620a87",
   "metadata": {},
   "source": [
    "**(3.1) Import dataset <code>wine.csv</code> and set the first column as the index.** "
   ]
  },
  {
   "cell_type": "code",
   "execution_count": 19,
   "id": "0b2d8d4c",
   "metadata": {},
   "outputs": [],
   "source": [
    "#put your code here\n",
    "wine_raw_df = pd.read_csv(\"../dataset/wine.csv\", index_col = [0])"
   ]
  },
  {
   "cell_type": "markdown",
   "id": "31e7effe",
   "metadata": {},
   "source": [
    "**(3.2) Shows the top five grape types most commonly used to produce wine.**<br>\n",
    "Hint: Use column <code>variety</code>."
   ]
  },
  {
   "cell_type": "code",
   "execution_count": 20,
   "id": "83edf2b5",
   "metadata": {},
   "outputs": [
    {
     "data": {
      "text/plain": [
       "Chardonnay                  14482\n",
       "Pinot Noir                  14291\n",
       "Cabernet Sauvignon          12800\n",
       "Red Blend                   10062\n",
       "Bordeaux-style Red Blend     7347\n",
       "Name: variety, dtype: int64"
      ]
     },
     "execution_count": 20,
     "metadata": {},
     "output_type": "execute_result"
    }
   ],
   "source": [
    "#put your code here\n",
    "wine_raw_df.variety.value_counts().head(5)"
   ]
  },
  {
   "cell_type": "markdown",
   "id": "727c67a9",
   "metadata": {},
   "source": [
    "**(3.3) Display the result obtained in (3.2) with a pie chart.**"
   ]
  },
  {
   "cell_type": "code",
   "execution_count": 21,
   "id": "bfe87f42",
   "metadata": {},
   "outputs": [
    {
     "data": {
      "text/plain": [
       "<AxesSubplot:ylabel='variety'>"
      ]
     },
     "execution_count": 21,
     "metadata": {},
     "output_type": "execute_result"
    },
    {
     "data": {
      "image/png": "[encoded data removed]",
      "text/plain": [
       "<Figure size 432x288 with 1 Axes>"
      ]
     },
     "metadata": {},
     "output_type": "display_data"
    }
   ],
   "source": [
    "#put your code here\n",
    "wine_raw_df.variety.value_counts().head(5).plot(kind = \"pie\")"
   ]
  },
  {
   "cell_type": "markdown",
   "id": "acba35dd",
   "metadata": {},
   "source": [
    "**(3.4) Select a subset that meets all of the following criteria. Use this subset to solve the following tasks.**<br>\n",
    "- Produced in Spain, Italy or France.\n",
    "- The price is less than 200.\n",
    "- Made from the following grape varieties: Chardonnay, Pinot Noir, Cabernet Sauvignon."
   ]
  },
  {
   "cell_type": "code",
   "execution_count": 22,
   "id": "e0604501",
   "metadata": {},
   "outputs": [
    {
     "data": {
      "text/html": [
       "<div>\n",
       "<style scoped>\n",
       "    .dataframe tbody tr th:only-of-type {\n",
       "        vertical-align: middle;\n",
       "    }\n",
       "\n",
       "    .dataframe tbody tr th {\n",
       "        vertical-align: top;\n",
       "    }\n",
       "\n",
       "    .dataframe thead th {\n",
       "        text-align: right;\n",
       "    }\n",
       "</style>\n",
       "<table border=\"1\" class=\"dataframe\">\n",
       "  <thead>\n",
       "    <tr style=\"text-align: right;\">\n",
       "      <th></th>\n",
       "      <th>country</th>\n",
       "      <th>description</th>\n",
       "      <th>designation</th>\n",
       "      <th>points</th>\n",
       "      <th>price</th>\n",
       "      <th>province</th>\n",
       "      <th>region_1</th>\n",
       "      <th>region_2</th>\n",
       "      <th>variety</th>\n",
       "      <th>winery</th>\n",
       "    </tr>\n",
       "  </thead>\n",
       "  <tbody>\n",
       "    <tr>\n",
       "      <th>51</th>\n",
       "      <td>France</td>\n",
       "      <td>This structured, complex Chardonnay is packed ...</td>\n",
       "      <td>NaN</td>\n",
       "      <td>90</td>\n",
       "      <td>68.0</td>\n",
       "      <td>Burgundy</td>\n",
       "      <td>Chassagne-Montrachet</td>\n",
       "      <td>NaN</td>\n",
       "      <td>Chardonnay</td>\n",
       "      <td>Chartron et Trébuchet</td>\n",
       "    </tr>\n",
       "    <tr>\n",
       "      <th>53</th>\n",
       "      <td>France</td>\n",
       "      <td>With its light color and cool feel, this well-...</td>\n",
       "      <td>L'Inédit</td>\n",
       "      <td>90</td>\n",
       "      <td>28.0</td>\n",
       "      <td>Loire Valley</td>\n",
       "      <td>Coteaux du Giennois</td>\n",
       "      <td>NaN</td>\n",
       "      <td>Pinot Noir</td>\n",
       "      <td>Clement et Florian Berthier</td>\n",
       "    </tr>\n",
       "    <tr>\n",
       "      <th>63</th>\n",
       "      <td>France</td>\n",
       "      <td>L'Homme Mort is a northern extension of the Fo...</td>\n",
       "      <td>L'Homme Mort Premier Cru</td>\n",
       "      <td>91</td>\n",
       "      <td>45.0</td>\n",
       "      <td>Burgundy</td>\n",
       "      <td>Chablis</td>\n",
       "      <td>NaN</td>\n",
       "      <td>Chardonnay</td>\n",
       "      <td>Domaine Chenevières</td>\n",
       "    </tr>\n",
       "    <tr>\n",
       "      <th>66</th>\n",
       "      <td>France</td>\n",
       "      <td>The steely character of a young Chablis is ver...</td>\n",
       "      <td>Fourchaume Premier Cru</td>\n",
       "      <td>91</td>\n",
       "      <td>38.0</td>\n",
       "      <td>Burgundy</td>\n",
       "      <td>Chablis</td>\n",
       "      <td>NaN</td>\n",
       "      <td>Chardonnay</td>\n",
       "      <td>Louis Max</td>\n",
       "    </tr>\n",
       "    <tr>\n",
       "      <th>76</th>\n",
       "      <td>France</td>\n",
       "      <td>This wine is bone-dry, although with some age ...</td>\n",
       "      <td>Le Nombre d'Or Brut Nature</td>\n",
       "      <td>91</td>\n",
       "      <td>85.0</td>\n",
       "      <td>Champagne</td>\n",
       "      <td>Champagne</td>\n",
       "      <td>NaN</td>\n",
       "      <td>Chardonnay</td>\n",
       "      <td>Aubry</td>\n",
       "    </tr>\n",
       "  </tbody>\n",
       "</table>\n",
       "</div>"
      ],
      "text/plain": [
       "   country                                        description  \\\n",
       "51  France  This structured, complex Chardonnay is packed ...   \n",
       "53  France  With its light color and cool feel, this well-...   \n",
       "63  France  L'Homme Mort is a northern extension of the Fo...   \n",
       "66  France  The steely character of a young Chablis is ver...   \n",
       "76  France  This wine is bone-dry, although with some age ...   \n",
       "\n",
       "                   designation  points  price      province  \\\n",
       "51                         NaN      90   68.0      Burgundy   \n",
       "53                    L'Inédit      90   28.0  Loire Valley   \n",
       "63    L'Homme Mort Premier Cru      91   45.0      Burgundy   \n",
       "66      Fourchaume Premier Cru      91   38.0      Burgundy   \n",
       "76  Le Nombre d'Or Brut Nature      91   85.0     Champagne   \n",
       "\n",
       "                region_1 region_2     variety                       winery  \n",
       "51  Chassagne-Montrachet      NaN  Chardonnay        Chartron et Trébuchet  \n",
       "53   Coteaux du Giennois      NaN  Pinot Noir  Clement et Florian Berthier  \n",
       "63               Chablis      NaN  Chardonnay          Domaine Chenevières  \n",
       "66               Chablis      NaN  Chardonnay                    Louis Max  \n",
       "76             Champagne      NaN  Chardonnay                        Aubry  "
      ]
     },
     "execution_count": 22,
     "metadata": {},
     "output_type": "execute_result"
    }
   ],
   "source": [
    "#put your code here\n",
    "wine_df = wine_raw_df[(wine_raw_df.country.isin([\"Spain\",\"Italy\",\"France\"])&(wine_raw_df.price<200)&(wine_raw_df.variety.isin([\"Chardonnay\", \"Pinot Noir\", \"Cabernet Sauvignon\"])))]\n",
    "wine_df.head(5)"
   ]
  },
  {
   "cell_type": "markdown",
   "id": "95b1e2d8",
   "metadata": {},
   "source": [
    "**(3.5) Use a histogram to show the <code>point</code> distribution of the grape variety Pinot Noir.**"
   ]
  },
  {
   "cell_type": "code",
   "execution_count": 23,
   "id": "ec1eed34",
   "metadata": {},
   "outputs": [
    {
     "data": {
      "text/plain": [
       "<AxesSubplot:ylabel='Frequency'>"
      ]
     },
     "execution_count": 23,
     "metadata": {},
     "output_type": "execute_result"
    },
    {
     "data": {
      "image/png": "[encoded data removed]",
      "text/plain": [
       "<Figure size 432x288 with 1 Axes>"
      ]
     },
     "metadata": {
      "needs_background": "light"
     },
     "output_type": "display_data"
    }
   ],
   "source": [
    "#put your code here\n",
    "wine_df[wine_df.variety == \"Pinot Noir\"].points.plot(kind = \"hist\")"
   ]
  },
  {
   "cell_type": "markdown",
   "id": "2724c304",
   "metadata": {},
   "source": [
    "**(3.6) Use a horizontal bar chart to display the average price for each grape variety.**"
   ]
  },
  {
   "cell_type": "code",
   "execution_count": 24,
   "id": "a3a967b2",
   "metadata": {},
   "outputs": [
    {
     "data": {
      "text/plain": [
       "<AxesSubplot:ylabel='variety'>"
      ]
     },
     "execution_count": 24,
     "metadata": {},
     "output_type": "execute_result"
    },
    {
     "data": {
      "image/png": "[encoded data removed]",
      "text/plain": [
       "<Figure size 432x288 with 1 Axes>"
      ]
     },
     "metadata": {
      "needs_background": "light"
     },
     "output_type": "display_data"
    }
   ],
   "source": [
    "#put your code here\n",
    "#solution-1\n",
    "wine_df.groupby(\"variety\").price.mean().plot(kind = \"barh\")"
   ]
  },
  {
   "cell_type": "code",
   "execution_count": 25,
   "id": "6876eebc",
   "metadata": {},
   "outputs": [
    {
     "data": {
      "text/plain": [
       "<AxesSubplot:ylabel='variety'>"
      ]
     },
     "execution_count": 25,
     "metadata": {},
     "output_type": "execute_result"
    },
    {
     "data": {
      "image/png": "[encoded data removed]",
      "text/plain": [
       "<Figure size 432x288 with 1 Axes>"
      ]
     },
     "metadata": {
      "needs_background": "light"
     },
     "output_type": "display_data"
    }
   ],
   "source": [
    "#solution-2\n",
    "wine_df.pivot_table(index = \"variety\", values = \"price\", aggfunc = \"mean\").plot(kind = \"barh\", y = \"price\")"
   ]
  },
  {
   "cell_type": "markdown",
   "id": "deb28059",
   "metadata": {},
   "source": [
    "**(3.7) Calculate the average price of each grape variety by country.**"
   ]
  },
  {
   "cell_type": "code",
   "execution_count": 26,
   "id": "dd6a3e2c",
   "metadata": {},
   "outputs": [
    {
     "data": {
      "text/plain": [
       "country  variety           \n",
       "France   Cabernet Sauvignon    11.477273\n",
       "         Chardonnay            50.222074\n",
       "         Pinot Noir            59.107192\n",
       "Italy    Cabernet Sauvignon    48.612150\n",
       "         Chardonnay            32.188889\n",
       "         Pinot Noir            15.714286\n",
       "Spain    Cabernet Sauvignon    29.770270\n",
       "         Chardonnay            15.626866\n",
       "         Pinot Noir            18.483871\n",
       "Name: price, dtype: float64"
      ]
     },
     "execution_count": 26,
     "metadata": {},
     "output_type": "execute_result"
    }
   ],
   "source": [
    "#put your code here\n",
    "#solution-1\n",
    "wine_df.groupby([\"country\", \"variety\"]).price.mean()"
   ]
  },
  {
   "cell_type": "code",
   "execution_count": 27,
   "id": "ae72bb68",
   "metadata": {},
   "outputs": [
    {
     "data": {
      "text/html": [
       "<div>\n",
       "<style scoped>\n",
       "    .dataframe tbody tr th:only-of-type {\n",
       "        vertical-align: middle;\n",
       "    }\n",
       "\n",
       "    .dataframe tbody tr th {\n",
       "        vertical-align: top;\n",
       "    }\n",
       "\n",
       "    .dataframe thead th {\n",
       "        text-align: right;\n",
       "    }\n",
       "</style>\n",
       "<table border=\"1\" class=\"dataframe\">\n",
       "  <thead>\n",
       "    <tr style=\"text-align: right;\">\n",
       "      <th>variety</th>\n",
       "      <th>Cabernet Sauvignon</th>\n",
       "      <th>Chardonnay</th>\n",
       "      <th>Pinot Noir</th>\n",
       "    </tr>\n",
       "    <tr>\n",
       "      <th>country</th>\n",
       "      <th></th>\n",
       "      <th></th>\n",
       "      <th></th>\n",
       "    </tr>\n",
       "  </thead>\n",
       "  <tbody>\n",
       "    <tr>\n",
       "      <th>France</th>\n",
       "      <td>11.477273</td>\n",
       "      <td>50.222074</td>\n",
       "      <td>59.107192</td>\n",
       "    </tr>\n",
       "    <tr>\n",
       "      <th>Italy</th>\n",
       "      <td>48.612150</td>\n",
       "      <td>32.188889</td>\n",
       "      <td>15.714286</td>\n",
       "    </tr>\n",
       "    <tr>\n",
       "      <th>Spain</th>\n",
       "      <td>29.770270</td>\n",
       "      <td>15.626866</td>\n",
       "      <td>18.483871</td>\n",
       "    </tr>\n",
       "  </tbody>\n",
       "</table>\n",
       "</div>"
      ],
      "text/plain": [
       "variety  Cabernet Sauvignon  Chardonnay  Pinot Noir\n",
       "country                                            \n",
       "France            11.477273   50.222074   59.107192\n",
       "Italy             48.612150   32.188889   15.714286\n",
       "Spain             29.770270   15.626866   18.483871"
      ]
     },
     "execution_count": 27,
     "metadata": {},
     "output_type": "execute_result"
    }
   ],
   "source": [
    "#solution-2\n",
    "wine_df.pivot_table(index = \"country\", columns =\"variety\", values = \"price\", aggfunc = \"mean\")"
   ]
  },
  {
   "cell_type": "markdown",
   "id": "65727782",
   "metadata": {},
   "source": [
    "**(3.8) Use a horizontal bar chart to display the result obtained in (3.7).**"
   ]
  },
  {
   "cell_type": "code",
   "execution_count": 28,
   "id": "083fcfd5",
   "metadata": {},
   "outputs": [
    {
     "data": {
      "text/plain": [
       "<AxesSubplot:ylabel='country,variety'>"
      ]
     },
     "execution_count": 28,
     "metadata": {},
     "output_type": "execute_result"
    },
    {
     "data": {
      "image/png": "[encoded data removed]",
      "text/plain": [
       "<Figure size 432x288 with 1 Axes>"
      ]
     },
     "metadata": {
      "needs_background": "light"
     },
     "output_type": "display_data"
    }
   ],
   "source": [
    "#put your code here\n",
    "wine_df.groupby([\"country\", \"variety\"]).price.mean().plot(kind = \"barh\")"
   ]
  }
 ],
 "metadata": {
  "kernelspec": {
   "display_name": "Python 3",
   "language": "python",
   "name": "python3"
  },
  "language_info": {
   "codemirror_mode": {
    "name": "ipython",
    "version": 3
   },
   "file_extension": ".py",
   "mimetype": "text/x-python",
   "name": "python",
   "nbconvert_exporter": "python",
   "pygments_lexer": "ipython3",
   "version": "3.8.8"
  }
 },
 "nbformat": 4,
 "nbformat_minor": 5
}
