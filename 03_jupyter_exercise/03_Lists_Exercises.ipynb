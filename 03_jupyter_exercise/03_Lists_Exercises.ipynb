{
 "cells": [
  {
   "cell_type": "markdown",
   "metadata": {},
   "source": [
    "# Lists"
   ]
  },
  {
   "cell_type": "markdown",
   "metadata": {},
   "source": [
    "## (1)\n",
    "**(1.1) Define a list named <code>num_list</code>, which contains the following elements: <code>10,20,30,40,50,60</code>. Print out the list.**"
   ]
  },
  {
   "cell_type": "code",
   "execution_count": null,
   "metadata": {},
   "outputs": [],
   "source": []
  },
  {
   "cell_type": "markdown",
   "metadata": {},
   "source": [
    "**(1.2) Use <code>num_list</code> defined in (1.1). Print the first three elements of the list.**"
   ]
  },
  {
   "cell_type": "code",
   "execution_count": null,
   "metadata": {},
   "outputs": [],
   "source": []
  },
  {
   "cell_type": "markdown",
   "metadata": {},
   "source": [
    "**(1.3) Use <code>num_list</code> defined in (1.1). Print the last two element in the list.**"
   ]
  },
  {
   "cell_type": "code",
   "execution_count": null,
   "metadata": {},
   "outputs": [],
   "source": []
  },
  {
   "cell_type": "markdown",
   "metadata": {},
   "source": [
    "**(1.4) Print the sum of all elements in <code>num_list</code>.**"
   ]
  },
  {
   "cell_type": "code",
   "execution_count": null,
   "metadata": {},
   "outputs": [],
   "source": []
  },
  {
   "cell_type": "markdown",
   "metadata": {},
   "source": [
    "**(1.5) Print the sum of the last three elements in <code>num_list</code>.**"
   ]
  },
  {
   "cell_type": "code",
   "execution_count": null,
   "metadata": {},
   "outputs": [],
   "source": []
  },
  {
   "cell_type": "markdown",
   "metadata": {},
   "source": [
    "## (2)\n",
    "**(2.1) Considering the list below. Add an element <code>Sunday</code> to the end of the list and print out the updated list.**<br>"
   ]
  },
  {
   "cell_type": "code",
   "execution_count": null,
   "metadata": {},
   "outputs": [],
   "source": [
    "day_list = ['Monday','Tuesday','Wednesday','Thursday','Friday']"
   ]
  },
  {
   "cell_type": "code",
   "execution_count": null,
   "metadata": {},
   "outputs": [],
   "source": []
  },
  {
   "cell_type": "markdown",
   "metadata": {},
   "source": [
    "**(2.2) Instert an element <code>Saturday</code> between Friday and Sunday. Print out the updated list.**"
   ]
  },
  {
   "cell_type": "code",
   "execution_count": null,
   "metadata": {},
   "outputs": [],
   "source": []
  },
  {
   "cell_type": "markdown",
   "metadata": {},
   "source": [
    "**(2.3) Print the first three letters of the last element.**"
   ]
  },
  {
   "cell_type": "code",
   "execution_count": null,
   "metadata": {},
   "outputs": [],
   "source": []
  },
  {
   "cell_type": "markdown",
   "metadata": {},
   "source": [
    "## (3)\n",
    "**(3.1) A store sells four products and the product information is stored in the following format. Print out the price of salmon.**<br>\n",
    "<code>[Product_ID, Product_Price, Product_Name]</code>\n"
   ]
  },
  {
   "cell_type": "code",
   "execution_count": null,
   "metadata": {},
   "outputs": [],
   "source": [
    "item_list = [[1,'10kr','apple'],[2,'30kr','bread'],[3,'70kr','salmon'],[4,'40kr','juice']]"
   ]
  },
  {
   "cell_type": "code",
   "execution_count": null,
   "metadata": {},
   "outputs": [],
   "source": []
  },
  {
   "cell_type": "markdown",
   "metadata": {},
   "source": [
    "**(3.2) Use the list in (3.1). Replace the fourth product with <code>['35kr', 'yogurt']</code>.**<br>\n",
    "Expected result:\n",
    "<code>\n",
    "[[1,'10kr','apple'],\n",
    " [2,'30kr','bread'],\n",
    " [3,'70kr','salmon'],\n",
    " [4,'35kr','yogurt']]\n",
    "</code>    "
   ]
  },
  {
   "cell_type": "code",
   "execution_count": null,
   "metadata": {},
   "outputs": [],
   "source": []
  },
  {
   "cell_type": "markdown",
   "metadata": {},
   "source": [
    "## (4)\n",
    "**(4.1) Define two lists: <code>list_A</code> contains the elements <code>10, 4, 6</code>, and <code>list_B</code> contains the elements <code>8, 5, 12, 9</code>. Print out the number of elements in each of the two lists.**\n"
   ]
  },
  {
   "cell_type": "code",
   "execution_count": null,
   "metadata": {},
   "outputs": [],
   "source": []
  },
  {
   "cell_type": "markdown",
   "metadata": {},
   "source": [
    "**(4.2) Append all elements in <code>list_B</code> to <code>list_A</code>. Print out the updated <code>list_A</code>.**\n",
    "<br>\n",
    "Expected result:<br>\n",
    "[10, 4, 6, 8, 5, 12, 9]"
   ]
  },
  {
   "cell_type": "code",
   "execution_count": null,
   "metadata": {},
   "outputs": [],
   "source": []
  },
  {
   "cell_type": "markdown",
   "metadata": {},
   "source": [
    "**(4.3) Sort the elements of <code>list_A</code> in descending order.**<br>"
   ]
  },
  {
   "cell_type": "code",
   "execution_count": null,
   "metadata": {},
   "outputs": [],
   "source": []
  },
  {
   "cell_type": "markdown",
   "metadata": {},
   "source": [
    "**(4.4) Use <code>pop</code> function to remove the second element of <code>list_A</code>. Print the updated list and the removed element.**"
   ]
  },
  {
   "cell_type": "code",
   "execution_count": null,
   "metadata": {},
   "outputs": [],
   "source": []
  },
  {
   "cell_type": "markdown",
   "metadata": {},
   "source": [
    "**(4.5) Remove the last two elements of <code>list_A</code>. Print the updated list.**<br>\n",
    "Hint: Use <code>del</code>"
   ]
  },
  {
   "cell_type": "code",
   "execution_count": null,
   "metadata": {},
   "outputs": [],
   "source": []
  },
  {
   "cell_type": "markdown",
   "metadata": {},
   "source": [
    "## (5)\n",
    "**(5.1) Below are the daily reported COVID-19 cases in the past two weeks (14 days). For example, 207 cases were reported on day 1 and 271 cases were reported on day 14. Use a list to store these values. Print the highest number of cases reported during this period.**\n",
    "- 207,111,129,154,202,207,215,203,150,145,262,282,276,271\n"
   ]
  },
  {
   "cell_type": "code",
   "execution_count": null,
   "metadata": {},
   "outputs": [],
   "source": []
  },
  {
   "cell_type": "markdown",
   "metadata": {},
   "source": [
    "**(5.2) Calculate the average daily number of reported cases for the first week (day1-day7).**"
   ]
  },
  {
   "cell_type": "code",
   "execution_count": null,
   "metadata": {},
   "outputs": [],
   "source": []
  },
  {
   "cell_type": "markdown",
   "metadata": {},
   "source": [
    "**(5.3) Reverse the elements in the list defined in (5.1), making the data newest to oldest. For example, the first element of the updated list should be the reported cases on day 14 and the last element should be the reported cases on day 1. Print out the updated list.**<br>\n",
    "Hint: Search the list method to solve this task https://www.geeksforgeeks.org/list-methods-in-python-set-2-del-remove-sort-insert-pop-extend/<br>\n",
    "Expected result:<br>\n",
    "[**271**, 276, 282, 262, 145, 150, 203, 215, 207, 202, 154, 129, 111, **207**]"
   ]
  },
  {
   "cell_type": "code",
   "execution_count": null,
   "metadata": {},
   "outputs": [],
   "source": []
  },
  {
   "cell_type": "markdown",
   "metadata": {},
   "source": [
    "## (6) "
   ]
  },
  {
   "cell_type": "markdown",
   "metadata": {},
   "source": [
    "**(6.1) Define a string variable with the following value. Get the length of this string variable.**<br>\n",
    "'Wind energy is expected by groups including the International Energy Agency and the International Renewables Energy Agency to form the backbone of global electricity generation by 2050.'"
   ]
  },
  {
   "cell_type": "code",
   "execution_count": null,
   "metadata": {},
   "outputs": [],
   "source": []
  },
  {
   "cell_type": "markdown",
   "metadata": {},
   "source": [
    "**(6.2) Print out the frequency of the word \"energy\". (Note: Ignore case when calculating frequency.)**"
   ]
  },
  {
   "cell_type": "code",
   "execution_count": null,
   "metadata": {},
   "outputs": [],
   "source": []
  }
 ],
 "metadata": {
  "kernelspec": {
   "display_name": "Python 3 (ipykernel)",
   "language": "python",
   "name": "python3"
  },
  "language_info": {
   "codemirror_mode": {
    "name": "ipython",
    "version": 3
   },
   "file_extension": ".py",
   "mimetype": "text/x-python",
   "name": "python",
   "nbconvert_exporter": "python",
   "pygments_lexer": "ipython3",
   "version": "3.9.7"
  }
 },
 "nbformat": 4,
 "nbformat_minor": 4
}
