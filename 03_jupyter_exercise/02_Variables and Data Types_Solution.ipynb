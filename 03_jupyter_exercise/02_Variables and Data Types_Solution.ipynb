{
 "cells": [
  {
   "cell_type": "markdown",
   "metadata": {},
   "source": [
    "# Variables and Data Types"
   ]
  },
  {
   "cell_type": "markdown",
   "metadata": {},
   "source": [
    "## (1) Types of variables"
   ]
  },
  {
   "cell_type": "markdown",
   "metadata": {},
   "source": [
    "**(1.1) Define a variable with the name \"year\" and assign the string value 2021 to the variable.**"
   ]
  },
  {
   "cell_type": "code",
   "execution_count": 1,
   "metadata": {},
   "outputs": [],
   "source": [
    "# put your code here\n",
    "year = '2021'"
   ]
  },
  {
   "cell_type": "markdown",
   "metadata": {},
   "source": [
    "**(1.2) Print the type of each of the following values: 10, 0.5, '100', 'Yes', True.**"
   ]
  },
  {
   "cell_type": "code",
   "execution_count": 2,
   "metadata": {},
   "outputs": [
    {
     "name": "stdout",
     "output_type": "stream",
     "text": [
      "<class 'int'>\n",
      "<class 'float'>\n",
      "<class 'str'>\n",
      "<class 'str'>\n",
      "<class 'bool'>\n"
     ]
    }
   ],
   "source": [
    "# put your code here\n",
    "print(type(10))\n",
    "print(type(0.5))\n",
    "print(type('100'))\n",
    "print(type('Yes'))\n",
    "print(type(True))"
   ]
  },
  {
   "cell_type": "markdown",
   "metadata": {},
   "source": [
    "## (2) String"
   ]
  },
  {
   "cell_type": "markdown",
   "metadata": {},
   "source": [
    "**(2.1) Define a variable with the name \"mycourse\" and assign the string value \"Introduction to Python\" to the variable.**"
   ]
  },
  {
   "cell_type": "code",
   "execution_count": 3,
   "metadata": {},
   "outputs": [],
   "source": [
    "# put your code here\n",
    "mycourse = 'Introduction to Python' "
   ]
  },
  {
   "cell_type": "markdown",
   "metadata": {},
   "source": [
    "**(2.2) Get the length of the string 'mycourse'**"
   ]
  },
  {
   "cell_type": "code",
   "execution_count": 4,
   "metadata": {},
   "outputs": [
    {
     "data": {
      "text/plain": [
       "22"
      ]
     },
     "execution_count": 4,
     "metadata": {},
     "output_type": "execute_result"
    }
   ],
   "source": [
    "# put your code here\n",
    "len(mycourse)"
   ]
  },
  {
   "cell_type": "markdown",
   "metadata": {},
   "source": [
    "**(2.3) Get the first five characters in 'mycourse'**"
   ]
  },
  {
   "cell_type": "code",
   "execution_count": 5,
   "metadata": {},
   "outputs": [
    {
     "data": {
      "text/plain": [
       "'Intro'"
      ]
     },
     "execution_count": 5,
     "metadata": {},
     "output_type": "execute_result"
    }
   ],
   "source": [
    "# put your code here\n",
    "mycourse[0:5]"
   ]
  },
  {
   "cell_type": "markdown",
   "metadata": {},
   "source": [
    "**(2.4) Get the last two characters in 'mycourse'.**<br>\n",
    "https://docs.python.org/3/tutorial/introduction.html#strings"
   ]
  },
  {
   "cell_type": "code",
   "execution_count": 6,
   "metadata": {},
   "outputs": [
    {
     "data": {
      "text/plain": [
       "'on'"
      ]
     },
     "execution_count": 6,
     "metadata": {},
     "output_type": "execute_result"
    }
   ],
   "source": [
    "# put your code here\n",
    "mycourse[-2:]"
   ]
  },
  {
   "cell_type": "markdown",
   "metadata": {},
   "source": [
    "**(2.5) Convert 'mycourse' to uppercase.**"
   ]
  },
  {
   "cell_type": "code",
   "execution_count": 7,
   "metadata": {},
   "outputs": [
    {
     "data": {
      "text/plain": [
       "'INTRODUCTION TO PYTHON'"
      ]
     },
     "execution_count": 7,
     "metadata": {},
     "output_type": "execute_result"
    }
   ],
   "source": [
    "# put your code here\n",
    "mycourse.upper()"
   ]
  },
  {
   "cell_type": "markdown",
   "metadata": {},
   "source": [
    "**(2.6) Replace \"Python\" with \"Programming\".**"
   ]
  },
  {
   "cell_type": "code",
   "execution_count": 8,
   "metadata": {},
   "outputs": [
    {
     "data": {
      "text/plain": [
       "'Introduction to Programming'"
      ]
     },
     "execution_count": 8,
     "metadata": {},
     "output_type": "execute_result"
    }
   ],
   "source": [
    "# put your code here\n",
    "mycourse.replace(\"Python\", \"Programming\")"
   ]
  },
  {
   "cell_type": "markdown",
   "metadata": {},
   "source": [
    "**(2.7) Find the index position of the substring \"to\".** "
   ]
  },
  {
   "cell_type": "code",
   "execution_count": 9,
   "metadata": {},
   "outputs": [
    {
     "data": {
      "text/plain": [
       "13"
      ]
     },
     "execution_count": 9,
     "metadata": {},
     "output_type": "execute_result"
    }
   ],
   "source": [
    "# put your code here\n",
    "mycourse.find(\"to\")"
   ]
  },
  {
   "cell_type": "markdown",
   "metadata": {},
   "source": [
    "**(2.8) Check if \"mycourse\" contains the word \"computer\".**"
   ]
  },
  {
   "cell_type": "code",
   "execution_count": 10,
   "metadata": {},
   "outputs": [
    {
     "data": {
      "text/plain": [
       "False"
      ]
     },
     "execution_count": 10,
     "metadata": {},
     "output_type": "execute_result"
    }
   ],
   "source": [
    "# put your code here\n",
    "\"computer\" in mycourse"
   ]
  },
  {
   "cell_type": "markdown",
   "metadata": {},
   "source": [
    "## (3) Numbers"
   ]
  },
  {
   "cell_type": "markdown",
   "metadata": {},
   "source": [
    "**(3.1) Define a variable $x=6$. Print the type of $x$.** "
   ]
  },
  {
   "cell_type": "code",
   "execution_count": 11,
   "metadata": {},
   "outputs": [
    {
     "name": "stdout",
     "output_type": "stream",
     "text": [
      "<class 'int'>\n"
     ]
    }
   ],
   "source": [
    "# put your code here\n",
    "x = 6\n",
    "print(type(x))"
   ]
  },
  {
   "cell_type": "markdown",
   "metadata": {},
   "source": [
    "**(3.2) Define a variable $y=-0.15$. Get the absolute value of $y$.**"
   ]
  },
  {
   "cell_type": "code",
   "execution_count": 12,
   "metadata": {},
   "outputs": [
    {
     "data": {
      "text/plain": [
       "0.15"
      ]
     },
     "execution_count": 12,
     "metadata": {},
     "output_type": "execute_result"
    }
   ],
   "source": [
    "# put your code here\n",
    "y = -0.15\n",
    "abs(y)"
   ]
  },
  {
   "cell_type": "markdown",
   "metadata": {},
   "source": [
    "**(3.3) Define a variable $z = 3.14159$. Round $z$ to only two decimals.**"
   ]
  },
  {
   "cell_type": "code",
   "execution_count": 13,
   "metadata": {},
   "outputs": [
    {
     "data": {
      "text/plain": [
       "3.14"
      ]
     },
     "execution_count": 13,
     "metadata": {},
     "output_type": "execute_result"
    }
   ],
   "source": [
    "# put your code here\n",
    "z = 3.14159 \n",
    "round(z,2)"
   ]
  },
  {
   "cell_type": "markdown",
   "metadata": {},
   "source": [
    "## (4) Operators"
   ]
  },
  {
   "cell_type": "markdown",
   "metadata": {},
   "source": [
    "**(4.1) Use the variables defined in (3), multiply $x$ with $z$ and round the number to four decimals.**"
   ]
  },
  {
   "cell_type": "code",
   "execution_count": 14,
   "metadata": {},
   "outputs": [
    {
     "data": {
      "text/plain": [
       "18.8495"
      ]
     },
     "execution_count": 14,
     "metadata": {},
     "output_type": "execute_result"
    }
   ],
   "source": [
    "# put your code here\n",
    "round(x*z,4)"
   ]
  },
  {
   "cell_type": "markdown",
   "metadata": {},
   "source": [
    "**(4.2) Calcualte the remainder after dividing $5$ by $2$.**  "
   ]
  },
  {
   "cell_type": "code",
   "execution_count": 15,
   "metadata": {},
   "outputs": [
    {
     "data": {
      "text/plain": [
       "1"
      ]
     },
     "execution_count": 15,
     "metadata": {},
     "output_type": "execute_result"
    }
   ],
   "source": [
    "# put your code here\n",
    "5%2"
   ]
  },
  {
   "cell_type": "markdown",
   "metadata": {},
   "source": [
    "**(4.3) Calculate $\\frac{1000+24}{64\\times2}.$**"
   ]
  },
  {
   "cell_type": "code",
   "execution_count": 16,
   "metadata": {},
   "outputs": [
    {
     "data": {
      "text/plain": [
       "8.0"
      ]
     },
     "execution_count": 16,
     "metadata": {},
     "output_type": "execute_result"
    }
   ],
   "source": [
    "# put your code here\n",
    "(1000+24)/(64*2)"
   ]
  },
  {
   "cell_type": "markdown",
   "metadata": {},
   "source": [
    "**(4.4) Define two variables, $a = 12$, $b = 9$, calculate the value of $c$, where $c = \\sqrt{a^2+b^2}.$**"
   ]
  },
  {
   "cell_type": "code",
   "execution_count": 17,
   "metadata": {},
   "outputs": [
    {
     "name": "stdout",
     "output_type": "stream",
     "text": [
      "15.0\n"
     ]
    }
   ],
   "source": [
    "# put your code here\n",
    "a = 12\n",
    "b = 9\n",
    "c = (a**2 + b**2)**0.5\n",
    "print(c)"
   ]
  },
  {
   "cell_type": "markdown",
   "metadata": {},
   "source": [
    "**(4.5) Use comparison operator to check if $a\\le b$.**"
   ]
  },
  {
   "cell_type": "code",
   "execution_count": 18,
   "metadata": {},
   "outputs": [
    {
     "data": {
      "text/plain": [
       "False"
      ]
     },
     "execution_count": 18,
     "metadata": {},
     "output_type": "execute_result"
    }
   ],
   "source": [
    "# put your code here\n",
    "a <= b"
   ]
  },
  {
   "cell_type": "markdown",
   "metadata": {},
   "source": [
    "**(4.6) Use comparison operator to check if $a\\ne b$.**"
   ]
  },
  {
   "cell_type": "code",
   "execution_count": 19,
   "metadata": {},
   "outputs": [
    {
     "data": {
      "text/plain": [
       "True"
      ]
     },
     "execution_count": 19,
     "metadata": {},
     "output_type": "execute_result"
    }
   ],
   "source": [
    "# put your code here\n",
    "a != b"
   ]
  },
  {
   "cell_type": "markdown",
   "metadata": {},
   "source": [
    "**(4.7) Define three string variables, dd = '01', mm = '07', yyyy = '2021', and use math operator to concatenate these strings.**<br>\n",
    "Expected result:<br> <code>'01072021'</code> "
   ]
  },
  {
   "cell_type": "code",
   "execution_count": 20,
   "metadata": {},
   "outputs": [
    {
     "data": {
      "text/plain": [
       "'01072021'"
      ]
     },
     "execution_count": 20,
     "metadata": {},
     "output_type": "execute_result"
    }
   ],
   "source": [
    "# put your code here\n",
    "dd = '01'\n",
    "mm = '07'\n",
    "yyyy = '2021'\n",
    "dd+mm+yyyy"
   ]
  },
  {
   "cell_type": "markdown",
   "metadata": {},
   "source": [
    "## (5) Input & Ouput"
   ]
  },
  {
   "cell_type": "markdown",
   "metadata": {},
   "source": [
    "**(5.1) Define an input box named city and print out the greeting message.**<br>\n",
    "Expected result:\n",
    "<code>\n",
    "Input a city name: Oslo\n",
    "Welcome to Oslo\n",
    "</code>    "
   ]
  },
  {
   "cell_type": "code",
   "execution_count": 21,
   "metadata": {},
   "outputs": [
    {
     "name": "stdout",
     "output_type": "stream",
     "text": [
      "Input a city name:Oslo\n",
      "Welcome to Oslo\n"
     ]
    }
   ],
   "source": [
    "# put your code here\n",
    "city = input (\"Input a city name:\")\n",
    "print(\"Welcome to\" , city)"
   ]
  },
  {
   "cell_type": "markdown",
   "metadata": {},
   "source": [
    "**(5.2) Define two input boxes, number1 and number2, and print out the product of these two numbers.**<br> \n",
    "Hint: Remember that the variables you declare with the input function will be classified as strings. In order to perform mathematical operations on them, remember to convert them to the appropriate type.<br>\n",
    "[Expected result]:\n",
    "<code>\n",
    "number1: 7\n",
    "number2: 3\n",
    "The product is 21\n",
    "</code>"
   ]
  },
  {
   "cell_type": "code",
   "execution_count": 22,
   "metadata": {},
   "outputs": [
    {
     "name": "stdout",
     "output_type": "stream",
     "text": [
      "number1: 7\n",
      "number2: 3\n",
      "The product is 21\n"
     ]
    }
   ],
   "source": [
    "# put your code here\n",
    "number1 = int(input(\"number1: \"))\n",
    "number2 = int(input(\"number2: \"))\n",
    "print(\"The product is\", number1*number2)"
   ]
  },
  {
   "cell_type": "markdown",
   "metadata": {},
   "source": [
    "**(5.3) Use an input box which prompts the user for a Celsius temperature, convert the temperature to Fahrenheit, and print out the converted temperature.**<br>\n",
    "Hint: ${ Fahrenheit = ( Celsius \\times 9 ) \\div 5 + 32}$<br>\n",
    "Expected result:\n",
    "<code>\n",
    "Enter Celsius Temperature: 20\n",
    "Fahrenheit Temperature: 68.0</code>"
   ]
  },
  {
   "cell_type": "code",
   "execution_count": 25,
   "metadata": {},
   "outputs": [
    {
     "name": "stdout",
     "output_type": "stream",
     "text": [
      "Enter Celsius Temperature: 20\n",
      "Fahrenheit Temperature: 68.0\n"
     ]
    }
   ],
   "source": [
    "# put your code here\n",
    "c = float(input(\"Enter Celsius Temperature: \"))\n",
    "f = (c*9)/5+32\n",
    "print(\"Fahrenheit Temperature:\", f)"
   ]
  },
  {
   "cell_type": "markdown",
   "metadata": {},
   "source": [
    "**(5.4) Define four variables, city1 = \"Oslo\", city2 = \"Bergen\", city3 = \"Stavanger\", city4 = \"Trondheim\", and print these cities in one line.**<br>\n",
    "Expected result:<br>\n",
    "<code>Oslo Bergen Stavanger Trondheim</code>"
   ]
  },
  {
   "cell_type": "code",
   "execution_count": 26,
   "metadata": {},
   "outputs": [
    {
     "name": "stdout",
     "output_type": "stream",
     "text": [
      "Oslo Bergen Stavanger Trondheim\n"
     ]
    }
   ],
   "source": [
    "# put your code here\n",
    "city1 = \"Oslo\"\n",
    "city2 = \"Bergen\"\n",
    "city3 = \"Stavanger\"\n",
    "city4 = \"Trondheim\"\n",
    "print(city1, city2, city3, city4)"
   ]
  },
  {
   "cell_type": "markdown",
   "metadata": {},
   "source": [
    "**(5.5) Print these cities in one line and seperate them by \\&.**<br>\n",
    "Expected result:<br>\n",
    "<code>Oslo\\&Bergen&Stavanger&Trondheim</code>"
   ]
  },
  {
   "cell_type": "code",
   "execution_count": 27,
   "metadata": {},
   "outputs": [
    {
     "name": "stdout",
     "output_type": "stream",
     "text": [
      "Oslo&Bergen&Stavanger&Trondheim\n"
     ]
    }
   ],
   "source": [
    "# put your code here\n",
    "print(city1, city2, city3, city4, sep = \"&\")"
   ]
  },
  {
   "cell_type": "markdown",
   "metadata": {},
   "source": [
    "**(5.6) Print these cities on different lines.**<br>\n",
    "Expected result:\n",
    "<code>\n",
    "Oslo\n",
    "Bergen\n",
    "Stavanger\n",
    "Trondheim</code>"
   ]
  },
  {
   "cell_type": "code",
   "execution_count": 28,
   "metadata": {},
   "outputs": [
    {
     "name": "stdout",
     "output_type": "stream",
     "text": [
      "Oslo\n",
      "Bergen\n",
      "Stavanger\n",
      "Trondheim\n"
     ]
    }
   ],
   "source": [
    "# put your code here\n",
    "print(city1, city2, city3, city4, sep = \"\\n\")"
   ]
  },
  {
   "cell_type": "markdown",
   "metadata": {},
   "source": [
    "**(5.7) Define a variable pop1 = 1000467. Use format() to print out the population of Oslo.**<br>\n",
    "Expected result:<br>\n",
    "<code>The population of Oslo is 1000467.</code>"
   ]
  },
  {
   "cell_type": "code",
   "execution_count": 1,
   "metadata": {},
   "outputs": [
    {
     "name": "stdout",
     "output_type": "stream",
     "text": [
      "The population of Oslo is 10000467.\n"
     ]
    }
   ],
   "source": [
    "# put your code here\n",
    "pop1 = 10000467\n",
    "print(\"The population of Oslo is {}.\".format(pop1))"
   ]
  },
  {
   "cell_type": "markdown",
   "metadata": {},
   "source": [
    "**(5.8) Define two input boxes, number1 and number2. Use format() to print out the following text.**<br>\n",
    "Format:<br>\n",
    "The product of **[number1]** and **[number2]** is **[number1*number2]**.<br>\n",
    "\n",
    "Expected result:\n",
    "<code>\n",
    "number1: 7\n",
    "number2: 3\n",
    "The product of 7 and 3 is 21.</code>"
   ]
  },
  {
   "cell_type": "code",
   "execution_count": 2,
   "metadata": {},
   "outputs": [
    {
     "name": "stdout",
     "output_type": "stream",
     "text": [
      "number1: 7\n",
      "number2: 3\n",
      "The product of 7 and 3 is 21.\n"
     ]
    }
   ],
   "source": [
    "# put your code here\n",
    "number1 = int(input(\"number1: \"))\n",
    "number2 = int(input(\"number2: \"))\n",
    "print(\"The product of {} and {} is {}.\".format(number1, number2, number1*number2))"
   ]
  }
 ],
 "metadata": {
  "kernelspec": {
   "display_name": "Python 3",
   "language": "python",
   "name": "python3"
  },
  "language_info": {
   "codemirror_mode": {
    "name": "ipython",
    "version": 3
   },
   "file_extension": ".py",
   "mimetype": "text/x-python",
   "name": "python",
   "nbconvert_exporter": "python",
   "pygments_lexer": "ipython3",
   "version": "3.8.8"
  }
 },
 "nbformat": 4,
 "nbformat_minor": 4
}
