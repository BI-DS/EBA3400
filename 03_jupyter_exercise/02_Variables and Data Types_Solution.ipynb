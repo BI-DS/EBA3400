{
 "cells": [
  {
   "cell_type": "markdown",
   "metadata": {},
   "source": [
    "# Variables and Data Types"
   ]
  },
  {
   "cell_type": "markdown",
   "metadata": {},
   "source": [
    "## (1) Types of variables"
   ]
  },
  {
   "cell_type": "markdown",
   "metadata": {},
   "source": [
    "**(1.1) Define a variable with the name <code>year</code> and assign the string value <code>2023</code> to the variable.**"
   ]
  },
  {
   "cell_type": "code",
   "execution_count": 1,
   "metadata": {},
   "outputs": [],
   "source": [
    "year = '2023'"
   ]
  },
  {
   "cell_type": "markdown",
   "metadata": {},
   "source": [
    "**(1.2) Print the type of each of the following variables.**"
   ]
  },
  {
   "cell_type": "code",
   "execution_count": 2,
   "metadata": {},
   "outputs": [],
   "source": [
    "x = 10\n",
    "y = 0.5\n",
    "z = '100'"
   ]
  },
  {
   "cell_type": "code",
   "execution_count": 3,
   "metadata": {},
   "outputs": [
    {
     "name": "stdout",
     "output_type": "stream",
     "text": [
      "<class 'int'>\n",
      "<class 'float'>\n",
      "<class 'str'>\n"
     ]
    }
   ],
   "source": [
    "print(type(x))\n",
    "print(type(y))\n",
    "print(type(z))"
   ]
  },
  {
   "cell_type": "markdown",
   "metadata": {},
   "source": [
    "## (2) String"
   ]
  },
  {
   "cell_type": "markdown",
   "metadata": {},
   "source": [
    "**(2.1) Define a variable named <code>mycourse</code> and assign the string value <code>Introduction to Python</code> to the variable.**"
   ]
  },
  {
   "cell_type": "code",
   "execution_count": 4,
   "metadata": {},
   "outputs": [],
   "source": [
    "mycourse = 'Introduction to Python' "
   ]
  },
  {
   "cell_type": "markdown",
   "metadata": {},
   "source": [
    "**(2.2) Get the length of the string variable <code>mycourse</code>.**"
   ]
  },
  {
   "cell_type": "code",
   "execution_count": 5,
   "metadata": {},
   "outputs": [
    {
     "data": {
      "text/plain": [
       "22"
      ]
     },
     "execution_count": 5,
     "metadata": {},
     "output_type": "execute_result"
    }
   ],
   "source": [
    "len(mycourse)"
   ]
  },
  {
   "cell_type": "markdown",
   "metadata": {},
   "source": [
    "**(2.3) Get the first five characters in <code>mycourse</code>.**"
   ]
  },
  {
   "cell_type": "code",
   "execution_count": 6,
   "metadata": {},
   "outputs": [
    {
     "data": {
      "text/plain": [
       "'Intro'"
      ]
     },
     "execution_count": 6,
     "metadata": {},
     "output_type": "execute_result"
    }
   ],
   "source": [
    "mycourse[0:5]"
   ]
  },
  {
   "cell_type": "markdown",
   "metadata": {},
   "source": [
    "**(2.4) Read the following documentation and try to get the second last character in variable <code>mycourse</code> using negative indexing.**<br>\n",
    "https://www.geeksforgeeks.org/how-to-index-and-slice-strings-in-python/"
   ]
  },
  {
   "cell_type": "code",
   "execution_count": 7,
   "metadata": {},
   "outputs": [
    {
     "data": {
      "text/plain": [
       "'o'"
      ]
     },
     "execution_count": 7,
     "metadata": {},
     "output_type": "execute_result"
    }
   ],
   "source": [
    "mycourse[-2]"
   ]
  },
  {
   "cell_type": "markdown",
   "metadata": {},
   "source": [
    "**(2.5) Convert all characters in the variable <code>mycourse</code> to lowercase.**<br>\n",
    "Hint: https://www.w3schools.com/python/python_ref_string.asp"
   ]
  },
  {
   "cell_type": "code",
   "execution_count": 8,
   "metadata": {},
   "outputs": [
    {
     "data": {
      "text/plain": [
       "'introduction to python'"
      ]
     },
     "execution_count": 8,
     "metadata": {},
     "output_type": "execute_result"
    }
   ],
   "source": [
    "mycourse.lower()"
   ]
  },
  {
   "cell_type": "markdown",
   "metadata": {},
   "source": [
    "**(2.6) Find the index position of the substring \"Python\".** "
   ]
  },
  {
   "cell_type": "code",
   "execution_count": 9,
   "metadata": {},
   "outputs": [
    {
     "data": {
      "text/plain": [
       "16"
      ]
     },
     "execution_count": 9,
     "metadata": {},
     "output_type": "execute_result"
    }
   ],
   "source": [
    "mycourse.find(\"Python\")"
   ]
  },
  {
   "cell_type": "markdown",
   "metadata": {},
   "source": [
    "**(2.7) From the given variable <code>text</code>, extract the substring \"high-level programming language\".**"
   ]
  },
  {
   "cell_type": "code",
   "execution_count": 10,
   "metadata": {},
   "outputs": [],
   "source": [
    "text = \"Python is a versatile and high-level programming language known for its simplicity and readability.\""
   ]
  },
  {
   "cell_type": "code",
   "execution_count": 11,
   "metadata": {},
   "outputs": [
    {
     "data": {
      "text/plain": [
       "'high-level programming language'"
      ]
     },
     "execution_count": 11,
     "metadata": {},
     "output_type": "execute_result"
    }
   ],
   "source": [
    "text[text.find(\"high\"): text.find(\"known\")-1]"
   ]
  },
  {
   "cell_type": "markdown",
   "metadata": {},
   "source": [
    "**(2.8) Converts the first character of each word in the variable <code>text</code> to uppercase.**<br>\n",
    "Hint: https://www.w3schools.com/python/python_ref_string.asp"
   ]
  },
  {
   "cell_type": "code",
   "execution_count": 12,
   "metadata": {},
   "outputs": [
    {
     "data": {
      "text/plain": [
       "'Python Is A Versatile And High-Level Programming Language Known For Its Simplicity And Readability.'"
      ]
     },
     "execution_count": 12,
     "metadata": {},
     "output_type": "execute_result"
    }
   ],
   "source": [
    "text.title()"
   ]
  },
  {
   "cell_type": "markdown",
   "metadata": {},
   "source": [
    "## (3) Numbers"
   ]
  },
  {
   "cell_type": "markdown",
   "metadata": {},
   "source": [
    "**(3.1) Define a variable $x=6$. Print the type of $x$.** "
   ]
  },
  {
   "cell_type": "code",
   "execution_count": 13,
   "metadata": {},
   "outputs": [
    {
     "name": "stdout",
     "output_type": "stream",
     "text": [
      "<class 'int'>\n"
     ]
    }
   ],
   "source": [
    "x = 6\n",
    "print(type(x))"
   ]
  },
  {
   "cell_type": "markdown",
   "metadata": {},
   "source": [
    "**(3.2) Define a variable $y=-0.15$. Get the absolute value of $y$.**"
   ]
  },
  {
   "cell_type": "code",
   "execution_count": 14,
   "metadata": {},
   "outputs": [
    {
     "data": {
      "text/plain": [
       "0.15"
      ]
     },
     "execution_count": 14,
     "metadata": {},
     "output_type": "execute_result"
    }
   ],
   "source": [
    "y = -0.15\n",
    "abs(y)"
   ]
  },
  {
   "cell_type": "markdown",
   "metadata": {},
   "source": [
    "**(3.3) Define a variable $z = 3.14159$. Round $z$ to only two decimal places.**"
   ]
  },
  {
   "cell_type": "code",
   "execution_count": 15,
   "metadata": {},
   "outputs": [
    {
     "data": {
      "text/plain": [
       "3.14"
      ]
     },
     "execution_count": 15,
     "metadata": {},
     "output_type": "execute_result"
    }
   ],
   "source": [
    "z = 3.14159 \n",
    "round(z,2)"
   ]
  },
  {
   "cell_type": "markdown",
   "metadata": {},
   "source": [
    "**(3.4) Use the variables defined above, multiply $x$ with $z$ and round the number to four decimal places.**"
   ]
  },
  {
   "cell_type": "code",
   "execution_count": 16,
   "metadata": {},
   "outputs": [
    {
     "data": {
      "text/plain": [
       "18.8495"
      ]
     },
     "execution_count": 16,
     "metadata": {},
     "output_type": "execute_result"
    }
   ],
   "source": [
    "round(x*z, 4)"
   ]
  },
  {
   "cell_type": "markdown",
   "metadata": {},
   "source": [
    "**(3.5) Calcualte the remainder after dividing $5$ by $2$.**  "
   ]
  },
  {
   "cell_type": "code",
   "execution_count": 17,
   "metadata": {},
   "outputs": [
    {
     "data": {
      "text/plain": [
       "1"
      ]
     },
     "execution_count": 17,
     "metadata": {},
     "output_type": "execute_result"
    }
   ],
   "source": [
    "5%2"
   ]
  },
  {
   "cell_type": "markdown",
   "metadata": {},
   "source": [
    "**(3.6) Calculate $\\frac{1000+24}{64\\times2}.$**"
   ]
  },
  {
   "cell_type": "code",
   "execution_count": 18,
   "metadata": {},
   "outputs": [
    {
     "data": {
      "text/plain": [
       "8.0"
      ]
     },
     "execution_count": 18,
     "metadata": {},
     "output_type": "execute_result"
    }
   ],
   "source": [
    "(1000+24)/(64*2)"
   ]
  },
  {
   "cell_type": "markdown",
   "metadata": {},
   "source": [
    "**(3.7) Define two variables, $a = 12$, $b = 9$, calculate the value of $c$, where $c = \\sqrt{a^2+b^2}.$**"
   ]
  },
  {
   "cell_type": "code",
   "execution_count": 19,
   "metadata": {},
   "outputs": [
    {
     "name": "stdout",
     "output_type": "stream",
     "text": [
      "15.0\n"
     ]
    }
   ],
   "source": [
    "a = 12\n",
    "b = 9\n",
    "c = (a**2 + b**2)**0.5\n",
    "print(c)"
   ]
  },
  {
   "cell_type": "markdown",
   "metadata": {},
   "source": [
    "## (4) Input & Ouput"
   ]
  },
  {
   "cell_type": "markdown",
   "metadata": {},
   "source": [
    "**(4.1) Write a program that asks the user to enter two numbers. Prints out the product of these variable in the following format.**<br>\n",
    "The product of __ and __ is ___.<br>\n",
    "\n",
    "First number: <code>10</code><br>\n",
    "Second number: <code>5</code><br>\n",
    "The product of 10 and 5 is 50."
   ]
  },
  {
   "cell_type": "code",
   "execution_count": 20,
   "metadata": {},
   "outputs": [
    {
     "name": "stdout",
     "output_type": "stream",
     "text": [
      "First number: 10\n",
      "First number: 5\n",
      "The product of 10 and 5 is 50.\n"
     ]
    }
   ],
   "source": [
    "n1 = int(input(\"First number: \"))\n",
    "n2 = int(input(\"First number: \"))\n",
    "print(f\"The product of {n1} and {n2} is {n1*n2}.\")"
   ]
  },
  {
   "cell_type": "markdown",
   "metadata": {},
   "source": [
    "**(4.2) Write a program that asks the user to enter a temperature in Celsius. Convert the temperature to Fahrenheit and print the result.**<br>\n",
    "Hint: ${ Fahrenheit = ( Celsius \\times 9 ) \\div 5 + 32}$<br>\n",
    "\n",
    "Expected result:<br>\n",
    "Enter Celsius Temperature: <code>20</code><br>\n",
    "Fahrenheit Temperature: 68.0"
   ]
  },
  {
   "cell_type": "code",
   "execution_count": 21,
   "metadata": {},
   "outputs": [
    {
     "name": "stdout",
     "output_type": "stream",
     "text": [
      "Enter Celsius Temperature: 20\n",
      "Fahrenheit Temperature: 68.0\n"
     ]
    }
   ],
   "source": [
    "c = float(input(\"Enter Celsius Temperature: \"))\n",
    "print(f\"Fahrenheit Temperature: {c * 9/5 + 32}\")"
   ]
  },
  {
   "cell_type": "markdown",
   "metadata": {},
   "source": [
    "**(4.3) Define four variables, city1 = \"Oslo\", city2 = \"Bergen\", city3 = \"Stavanger\", city4 = \"Trondheim\". Print these cities in one line and connect them by <code>&</code>.**<br>\n",
    "Expected result:<br>\n",
    "<code>Oslo \\& Bergen & Stavanger & Trondheim</code>"
   ]
  },
  {
   "cell_type": "code",
   "execution_count": 22,
   "metadata": {},
   "outputs": [
    {
     "name": "stdout",
     "output_type": "stream",
     "text": [
      "Oslo & Bergen & Stavanger & Trondheim\n"
     ]
    }
   ],
   "source": [
    "# solution-1\n",
    "city1 = \"Oslo\"\n",
    "city2 = \"Bergen\"\n",
    "city3 = \"Stavanger\"\n",
    "city4 = \"Trondheim\"\n",
    "print(city1, city2, city3, city4, sep = \" & \")"
   ]
  },
  {
   "cell_type": "code",
   "execution_count": 23,
   "metadata": {},
   "outputs": [
    {
     "name": "stdout",
     "output_type": "stream",
     "text": [
      "Oslo & Bergen & Stavanger & Trondheim\n"
     ]
    }
   ],
   "source": [
    "# solution-2\n",
    "city1 = \"Oslo\"\n",
    "city2 = \"Bergen\"\n",
    "city3 = \"Stavanger\"\n",
    "city4 = \"Trondheim\"\n",
    "print(f\"{city1} & {city2} & {city3} & {city4}\")"
   ]
  },
  {
   "cell_type": "markdown",
   "metadata": {},
   "source": [
    "**(4.4) Try modifying the following code to print these sentences line by line.**<br>\n",
    "Expected result:\n",
    "<code>\n",
    "Solve complex business problems with analytical thinking.\n",
    "Work alongside data scientists to find new insights.\n",
    "Become part of a promising new field aiming to disrupt traditional banks and financial institutions.\n",
    "</code>  "
   ]
  },
  {
   "cell_type": "code",
   "execution_count": 24,
   "metadata": {},
   "outputs": [
    {
     "name": "stdout",
     "output_type": "stream",
     "text": [
      "Solve complex business problems with analytical thinking. Work alongside data scientists to find new insights. Become part of a promising new field aiming to disrupt traditional banks and financial institutions.\n"
     ]
    }
   ],
   "source": [
    "print(\"Solve complex business problems with analytical thinking. Work alongside data scientists to find new insights. Become part of a promising new field aiming to disrupt traditional banks and financial institutions.\")"
   ]
  },
  {
   "cell_type": "code",
   "execution_count": 25,
   "metadata": {},
   "outputs": [
    {
     "name": "stdout",
     "output_type": "stream",
     "text": [
      "Solve complex business problems with analytical thinking. \n",
      "Work alongside data scientists to find new insights. \n",
      "Become part of a promising new field aiming to disrupt traditional banks and financial institutions.\n"
     ]
    }
   ],
   "source": [
    "print(\"Solve complex business problems with analytical thinking. \\nWork alongside data scientists to find new insights. \\nBecome part of a promising new field aiming to disrupt traditional banks and financial institutions.\")"
   ]
  },
  {
   "cell_type": "markdown",
   "metadata": {},
   "source": [
    "**(4.5) Write a program that asks the user to enter their birthday in the format <code>yyyymmdd</code>. The program should then print out their birthday in the new format  <code>dd-mm-yyyy</code>.** (<code>dd</code> is the day, <code>mm</code> is the month, and <code>yyyy</code> is the year.)<br>\n",
    "Example:\n",
    "\n",
    "When is your birthday (yyyymmdd)? <code>20021025</code><br>\n",
    "25-10-2002<br>"
   ]
  },
  {
   "cell_type": "code",
   "execution_count": 26,
   "metadata": {},
   "outputs": [
    {
     "name": "stdout",
     "output_type": "stream",
     "text": [
      "When is your birthday (yyyymmdd)? 20021025\n",
      "25-10-2002\n"
     ]
    }
   ],
   "source": [
    "date = input(\"When is your birthday (yyyymmdd)? \")\n",
    "print(f\"{date[6:8]}-{date[4:6]}-{date[0:4]}\")"
   ]
  },
  {
   "cell_type": "markdown",
   "metadata": {},
   "source": [
    "**(4.6) Write a program that prompts the user to input their email address and then prints out the domain part of the email.**<br>\n",
    "Example-1:<br>\n",
    "Enter your email: <code>S123456@bi.no</code><br>\n",
    "Domain: bi.no\n",
    "\n",
    "Example-1:<br>\n",
    "Enter your email: <code>S56789@gmail.com</code><br>\n",
    "Domain: gmail.com"
   ]
  },
  {
   "cell_type": "code",
   "execution_count": 27,
   "metadata": {},
   "outputs": [
    {
     "name": "stdout",
     "output_type": "stream",
     "text": [
      "Enter your email: S123456@bi.no\n",
      "Domain: bi.no\n"
     ]
    }
   ],
   "source": [
    "# solution-1\n",
    "email = input(\"Enter your email: \")\n",
    "domain = email[email.find(\"@\") + 1: len(email)]\n",
    "print(f\"Domain: {domain}\")"
   ]
  },
  {
   "cell_type": "code",
   "execution_count": 28,
   "metadata": {},
   "outputs": [
    {
     "name": "stdout",
     "output_type": "stream",
     "text": [
      "Enter your email: S123456@bi.no\n",
      "Domain: bi.no\n"
     ]
    }
   ],
   "source": [
    "# solution-2\n",
    "email = input(\"Enter your email: \")\n",
    "print(\"Domain:\", email[email.find(\"@\") + 1:])"
   ]
  }
 ],
 "metadata": {
  "kernelspec": {
   "display_name": "Python 3 (ipykernel)",
   "language": "python",
   "name": "python3"
  },
  "language_info": {
   "codemirror_mode": {
    "name": "ipython",
    "version": 3
   },
   "file_extension": ".py",
   "mimetype": "text/x-python",
   "name": "python",
   "nbconvert_exporter": "python",
   "pygments_lexer": "ipython3",
   "version": "3.11.4"
  }
 },
 "nbformat": 4,
 "nbformat_minor": 4
}
