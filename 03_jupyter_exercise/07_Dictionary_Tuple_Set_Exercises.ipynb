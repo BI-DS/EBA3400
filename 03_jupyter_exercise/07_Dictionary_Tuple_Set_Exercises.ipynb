{
 "cells": [
  {
   "cell_type": "markdown",
   "id": "3fc2f85c",
   "metadata": {},
   "source": [
    "# Dictionary,Tuple and Set"
   ]
  },
  {
   "cell_type": "markdown",
   "id": "e1c8b201",
   "metadata": {},
   "source": [
    "## (1) Tuple"
   ]
  },
  {
   "cell_type": "markdown",
   "id": "533e27a3",
   "metadata": {},
   "source": [
    "**(1.1) Define a tuple containing the following elements: <code>10,20,30,40,50,60</code>. Print out the tuple.**"
   ]
  },
  {
   "cell_type": "code",
   "execution_count": null,
   "id": "f83763e6",
   "metadata": {},
   "outputs": [],
   "source": []
  },
  {
   "cell_type": "markdown",
   "id": "9a37dcfe",
   "metadata": {},
   "source": [
    "**(1.2) Use the tuple defined in (1.1). Print the last two elements.**"
   ]
  },
  {
   "cell_type": "code",
   "execution_count": null,
   "id": "36026c1e",
   "metadata": {},
   "outputs": [],
   "source": []
  },
  {
   "cell_type": "markdown",
   "id": "c40aef36",
   "metadata": {},
   "source": [
    "**(1.3) Store the following information in a tuple of sub-tuples. Each sub-tuple represents information about the company, <code>(company name, profit, assets)</code>. Print out the tuple.**"
   ]
  },
  {
   "cell_type": "markdown",
   "id": "21badc45",
   "metadata": {},
   "source": [
    "| company name | profit (\\$B) | assets (\\$B)| \n",
    "|:-:|:-:|:-:|\n",
    "|JPMorgan Chase|40.4|3689.3|\n",
    "|Apple|63.9|354.1|\n",
    "|Bank of America|17.9|2832.2|\n",
    "|Amazon|21.3|321.2|\n",
    "|Microsoft|51.3|304.1|"
   ]
  },
  {
   "cell_type": "markdown",
   "id": "68cfe31a",
   "metadata": {},
   "source": [
    "Expected reuslt:<br>\n",
    "<code>(('JPMorgan Chase', 40.4, 3689.3), ('Apple', 63.9, 354.1), ('Bank of America', 17.9, 2832.2), ('Amazon', 21.3, 321.2), ('Microsoft', 51.3, 304.1))</code>"
   ]
  },
  {
   "cell_type": "code",
   "execution_count": null,
   "id": "10161621",
   "metadata": {},
   "outputs": [],
   "source": []
  },
  {
   "cell_type": "markdown",
   "id": "bc4829b5",
   "metadata": {},
   "source": [
    "**(1.4) Use the tuple defined in (1.3). Print out Bank of America's profits.**<br>\n",
    "Hint: Get the element by index"
   ]
  },
  {
   "cell_type": "code",
   "execution_count": null,
   "id": "50ce8dc0",
   "metadata": {},
   "outputs": [],
   "source": []
  },
  {
   "cell_type": "markdown",
   "id": "10d15164",
   "metadata": {},
   "source": [
    "**(1.5) Use the tuple defined in (1.3). Find companies with assets over 1000(\\$B) and store their information in a list. Print out the list.**<br>\n",
    "Expected result:<br>\n",
    "<code>[('JPMorgan Chase', 40.4, 3689.3), ('Bank of America', 17.9, 2832.2)]</code>"
   ]
  },
  {
   "cell_type": "code",
   "execution_count": null,
   "id": "690b9caa",
   "metadata": {},
   "outputs": [],
   "source": []
  },
  {
   "cell_type": "markdown",
   "id": "3c2a712e",
   "metadata": {},
   "source": [
    "## (2) Set"
   ]
  },
  {
   "cell_type": "markdown",
   "id": "d53498c4",
   "metadata": {},
   "source": [
    "**(2.1) Find the unique words in list1 and list2 and store them in variables named <code>set1</code> and <code>set2</code> respectively. Print out <code>set1</code> and <code>set2</code>.**"
   ]
  },
  {
   "cell_type": "code",
   "execution_count": null,
   "id": "6f1672a2",
   "metadata": {},
   "outputs": [],
   "source": [
    "list1 = ['google', 'collects', 'data', 'to', 'be', 'used', 'for', 'targeted', 'advertising', 'purposes']\n",
    "list2 = ['advertising', 'services', 'are', 'at', 'the', 'heart', 'of', 'how', 'google', 'and', 'publishers', 'monetize', 'their', 'online', 'services']"
   ]
  },
  {
   "cell_type": "code",
   "execution_count": null,
   "id": "1099d8d0",
   "metadata": {},
   "outputs": [],
   "source": []
  },
  {
   "cell_type": "markdown",
   "id": "2944fe48",
   "metadata": {},
   "source": [
    "**(2.2) Which words appear in both <code>set1</code> and <code>set2</code>?**"
   ]
  },
  {
   "cell_type": "code",
   "execution_count": null,
   "id": "91cb1253",
   "metadata": {},
   "outputs": [],
   "source": []
  },
  {
   "cell_type": "markdown",
   "id": "1562a13e",
   "metadata": {},
   "source": [
    "**(2.3) Get all the unique letters from the following list and store them in a variable named <code>myset</code>.**"
   ]
  },
  {
   "cell_type": "code",
   "execution_count": null,
   "id": "5d1d1097",
   "metadata": {},
   "outputs": [],
   "source": [
    "mylist = ['a','c','e','b','c','b','a','e','d','e','d','a','e','d','b','c','d']"
   ]
  },
  {
   "cell_type": "code",
   "execution_count": null,
   "id": "93b89739",
   "metadata": {},
   "outputs": [],
   "source": []
  },
  {
   "cell_type": "markdown",
   "id": "7e569adc",
   "metadata": {},
   "source": [
    "**(2.4) Calculate the frequency of each letter in <code>mylist</code>.**<br>\n",
    "Expected result:<br>\n",
    "b:3 <br>\n",
    "d:4 <br>\n",
    "e:4 <br>\n",
    "..."
   ]
  },
  {
   "cell_type": "code",
   "execution_count": null,
   "id": "78b47c41",
   "metadata": {},
   "outputs": [],
   "source": []
  },
  {
   "cell_type": "markdown",
   "id": "ca6f6b1f",
   "metadata": {},
   "source": [
    "## (3) Dictionary"
   ]
  },
  {
   "cell_type": "markdown",
   "id": "f5fbdff6",
   "metadata": {},
   "source": [
    "**(3.1) Given the following table. Define a dictionary using \"course_ID\" as keys and \"number_of_students\" as value. Print out the dictionary.**"
   ]
  },
  {
   "cell_type": "markdown",
   "id": "860df954",
   "metadata": {},
   "source": [
    "| course_ID |number_of_students |\n",
    "|:-:|:-:|\n",
    "|EBA3400|79|\n",
    "|EBA3420|82|\n",
    "|EBA3500|64|"
   ]
  },
  {
   "cell_type": "code",
   "execution_count": null,
   "id": "9d16caad",
   "metadata": {},
   "outputs": [],
   "source": []
  },
  {
   "cell_type": "markdown",
   "id": "b3236dae",
   "metadata": {},
   "source": [
    "**(3.2) Print out the number of students enrolled in the \"EBA3420\" course.**"
   ]
  },
  {
   "cell_type": "code",
   "execution_count": null,
   "id": "604ba799",
   "metadata": {},
   "outputs": [],
   "source": []
  },
  {
   "cell_type": "markdown",
   "id": "a6217fb0",
   "metadata": {},
   "source": [
    "**(3.3) Given the sales of different products in each quarter as follows, use a dictionary to store this data. Print out the dictionary.**<br>\n",
    "Hint: Use product names as keys and lists of sales as values."
   ]
  },
  {
   "cell_type": "markdown",
   "id": "8988b895",
   "metadata": {},
   "source": [
    "| product name | Q1 | Q2 | Q3 | Q4 |\n",
    "|:-:|:-:|:-:|:-:|:-:|\n",
    "|A|150|180|200|190|\n",
    "|B|140|160|150|155|\n",
    "|C|180|130|125|--|"
   ]
  },
  {
   "cell_type": "markdown",
   "id": "fcaf0518",
   "metadata": {},
   "source": [
    "Expected result:<br>\n",
    "<code>{'A': [150, 180, 200, 190], 'B': [140, 160, 150, 155], 'C': [175, 130, 120]}</code>"
   ]
  },
  {
   "cell_type": "code",
   "execution_count": null,
   "id": "20c09687",
   "metadata": {},
   "outputs": [],
   "source": []
  },
  {
   "cell_type": "markdown",
   "id": "6010a620",
   "metadata": {},
   "source": [
    "**(3.4) Calculate the average sales of the first three quarters of product-C and store the result in a variable named <code>c_avg</code>.**"
   ]
  },
  {
   "cell_type": "code",
   "execution_count": null,
   "id": "eee64d5f",
   "metadata": {},
   "outputs": [],
   "source": []
  },
  {
   "cell_type": "markdown",
   "id": "cb6329f1",
   "metadata": {},
   "source": [
    "**(3.5) Fill in the missing Q4 sales data for product C with <code>c_avg</code>. Print out the updated dictionary.**<br>\n",
    "Hint: Use list.append()"
   ]
  },
  {
   "cell_type": "code",
   "execution_count": null,
   "id": "f4d98c53",
   "metadata": {},
   "outputs": [],
   "source": []
  },
  {
   "cell_type": "markdown",
   "id": "aad2bee1",
   "metadata": {},
   "source": [
    "## (4) Zip"
   ]
  },
  {
   "cell_type": "markdown",
   "id": "05e698a3",
   "metadata": {},
   "source": [
    "**(4.1) Use the following lists to create a zip object, and then convert the zip object to a list named <code>sales_list</code>. Print out the list.**<br>\n",
    "Expected result:<br>\n",
    "<code>[('A', 150, 180, 200, 190), ('B', 140, 160, 150, 155), ('C', 180, 130, 125, 145)]</code>"
   ]
  },
  {
   "cell_type": "code",
   "execution_count": null,
   "id": "84f5009e",
   "metadata": {},
   "outputs": [],
   "source": [
    "product_name = ['A', 'B', 'C']\n",
    "Q1_sales = [150, 140, 180]\n",
    "Q2_sales = [180, 160, 130]\n",
    "Q3_sales = [200, 150, 125]\n",
    "Q4_sales = [190, 155, 145]"
   ]
  },
  {
   "cell_type": "code",
   "execution_count": null,
   "id": "81783f55",
   "metadata": {},
   "outputs": [],
   "source": []
  },
  {
   "cell_type": "markdown",
   "id": "d77a25bf",
   "metadata": {},
   "source": [
    "**(4.2) Print out first half sales for each product, i.e. Q1 + Q2.**<br>\n",
    "Expected result:<br>\n",
    "A: 330<br>\n",
    "B: 300<br>\n",
    "C: 310"
   ]
  },
  {
   "cell_type": "code",
   "execution_count": null,
   "id": "407fbd9f",
   "metadata": {},
   "outputs": [],
   "source": []
  },
  {
   "cell_type": "markdown",
   "id": "75e69872",
   "metadata": {},
   "source": [
    "**(4.3) Given the following two lists. Create a dictionary using \"course_ID\" as keys and \"number_of_students\" as value. Print out the dictionary.**<br>"
   ]
  },
  {
   "cell_type": "code",
   "execution_count": null,
   "id": "cbfcc603",
   "metadata": {},
   "outputs": [],
   "source": [
    "course_id = [\"EBA3400\", \"EBA3420\", \"EBA3500\"]\n",
    "num_students = [79, 85, 64]"
   ]
  },
  {
   "cell_type": "code",
   "execution_count": null,
   "id": "c74a5616",
   "metadata": {},
   "outputs": [],
   "source": []
  },
  {
   "cell_type": "markdown",
   "id": "f04db645",
   "metadata": {},
   "source": [
    "**(4.4) Use the dictionary obtaind in (4.3). Print out all the keys.**"
   ]
  },
  {
   "cell_type": "code",
   "execution_count": null,
   "id": "655b0ac2",
   "metadata": {},
   "outputs": [],
   "source": []
  }
 ],
 "metadata": {
  "kernelspec": {
   "display_name": "Python 3 (ipykernel)",
   "language": "python",
   "name": "python3"
  },
  "language_info": {
   "codemirror_mode": {
    "name": "ipython",
    "version": 3
   },
   "file_extension": ".py",
   "mimetype": "text/x-python",
   "name": "python",
   "nbconvert_exporter": "python",
   "pygments_lexer": "ipython3",
   "version": "3.9.12"
  }
 },
 "nbformat": 4,
 "nbformat_minor": 5
}
