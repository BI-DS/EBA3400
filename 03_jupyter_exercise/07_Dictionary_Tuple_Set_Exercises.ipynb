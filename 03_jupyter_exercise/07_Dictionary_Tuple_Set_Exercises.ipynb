{
 "cells": [
  {
   "cell_type": "markdown",
   "id": "3fc2f85c",
   "metadata": {},
   "source": [
    "# Dictionary,Tuple and Set"
   ]
  },
  {
   "cell_type": "markdown",
   "id": "e1c8b201",
   "metadata": {},
   "source": [
    "## (1) Tuple"
   ]
  },
  {
   "cell_type": "markdown",
   "id": "c40aef36",
   "metadata": {},
   "source": [
    "**(1.1) Store the following information in a list of tuples, each tuple contains information about a company. Print out the list.**"
   ]
  },
  {
   "cell_type": "markdown",
   "id": "21badc45",
   "metadata": {},
   "source": [
    "| company name | profit (\\$B) | assets (\\$B)| \n",
    "|:-:|:-:|:-:|\n",
    "|JPMorgan Chase|40.4|3689.3|\n",
    "|Apple|63.9|354.1|\n",
    "|Bank of America|17.9|2832.2|\n",
    "|Amazon|21.3|321.2|\n",
    "|Microsoft|51.3|304.1|"
   ]
  },
  {
   "cell_type": "markdown",
   "id": "68cfe31a",
   "metadata": {},
   "source": [
    "Expected reuslt:\n",
    "<code>\n",
    "[('JPMorgan Chase', 40.4, 3689.3), ('Apple', 63.9, 354.1), ('Bank of America', 17.9, 2832.2), ('Amazon', 21.3, 321.2), ('Microsoft', 51.3, 304.1)]\n",
    "</code>"
   ]
  },
  {
   "cell_type": "code",
   "execution_count": 1,
   "id": "10161621",
   "metadata": {},
   "outputs": [],
   "source": [
    "# put your code here"
   ]
  },
  {
   "cell_type": "markdown",
   "id": "bc4829b5",
   "metadata": {},
   "source": [
    "**(1.2) Print out the profit of Bank of America.**<br>\n",
    "Hint: Get the element by index"
   ]
  },
  {
   "cell_type": "code",
   "execution_count": 2,
   "id": "50ce8dc0",
   "metadata": {},
   "outputs": [],
   "source": [
    "# put your code here"
   ]
  },
  {
   "cell_type": "markdown",
   "id": "10d15164",
   "metadata": {},
   "source": [
    "**(1.3) Find companies with assets over 1000(\\$B) and store their information in a new list. Print out the new list.**<br>\n",
    "Hint: Use list comprehension"
   ]
  },
  {
   "cell_type": "code",
   "execution_count": 3,
   "id": "79080e38",
   "metadata": {},
   "outputs": [],
   "source": [
    "# put your code here"
   ]
  },
  {
   "cell_type": "markdown",
   "id": "3c2a712e",
   "metadata": {},
   "source": [
    "## (2) Set"
   ]
  },
  {
   "cell_type": "markdown",
   "id": "d53498c4",
   "metadata": {},
   "source": [
    "**(2.1) Find the unique words in list1 and list2 and store them in <code>set1</code> and <code>set2</code> respectively.**"
   ]
  },
  {
   "cell_type": "code",
   "execution_count": 4,
   "id": "6f1672a2",
   "metadata": {},
   "outputs": [],
   "source": [
    "list1 = ['google', 'collects', 'data', 'to', 'be', 'used', 'for', 'targeted', 'advertising', 'purposes']\n",
    "list2 = ['advertising', 'services', 'are', 'at', 'the', 'heart', 'of', 'how', 'google', 'and', 'publishers', 'monetize', 'their', 'online', 'services']"
   ]
  },
  {
   "cell_type": "code",
   "execution_count": 5,
   "id": "1099d8d0",
   "metadata": {},
   "outputs": [],
   "source": [
    "# put your code here"
   ]
  },
  {
   "cell_type": "markdown",
   "id": "2944fe48",
   "metadata": {},
   "source": [
    "**(2.2) Find the common words in <code>set1</code> and <code>set2</code>.**"
   ]
  },
  {
   "cell_type": "code",
   "execution_count": 6,
   "id": "91cb1253",
   "metadata": {},
   "outputs": [],
   "source": [
    "# put your code here"
   ]
  },
  {
   "cell_type": "markdown",
   "id": "ca6f6b1f",
   "metadata": {},
   "source": [
    "## (3) Dictionary"
   ]
  },
  {
   "cell_type": "markdown",
   "id": "74fa1530",
   "metadata": {},
   "source": [
    "**(3.1) Use the same information in (1.1). Create a dictionary using company names as keys and tuples (profits, assets) as values. Print out the dictionary**<br>\n",
    "Expected result:\n",
    "<code>\n",
    "{'JPMorgan Chase': (40.4, 3689.3), 'Apple': (63.9, 354.1), 'Bank of America': (17.9, 2832.2), 'Amazon': (21.3, 321.2), 'Microsoft': (51.3, 304.1)}</code>"
   ]
  },
  {
   "cell_type": "code",
   "execution_count": 7,
   "id": "519fe279",
   "metadata": {},
   "outputs": [],
   "source": [
    "# put your code here"
   ]
  },
  {
   "cell_type": "markdown",
   "id": "3f592cf9",
   "metadata": {},
   "source": [
    "**(3.2) Print out the profit of Bank of America.**"
   ]
  },
  {
   "cell_type": "code",
   "execution_count": 8,
   "id": "31300302",
   "metadata": {},
   "outputs": [],
   "source": [
    "# put your code here"
   ]
  },
  {
   "cell_type": "markdown",
   "id": "a6217fb0",
   "metadata": {},
   "source": [
    "**(3.3) Given the sales of different products as follows, use a dictionary to store this data. Print out the dictionary.**<br>\n",
    "Hint: Use product names as keys and lists of sales as values."
   ]
  },
  {
   "cell_type": "markdown",
   "id": "8988b895",
   "metadata": {},
   "source": [
    "| product name | Q1 | Q2 | Q3 | Q4 |\n",
    "|:-:|:-:|:-:|:-:|:-:|\n",
    "|A|150|180|200|190|\n",
    "|B|140|160|150|155|\n",
    "|C|180|130|125|--|"
   ]
  },
  {
   "cell_type": "markdown",
   "id": "fcaf0518",
   "metadata": {},
   "source": [
    "Expected result:\n",
    "<code>\n",
    "{'A': [150, 180, 200, 190], 'B': [140, 160, 150, 155], 'C': [175, 130, 120]}\n",
    "</code>"
   ]
  },
  {
   "cell_type": "code",
   "execution_count": 9,
   "id": "20c09687",
   "metadata": {},
   "outputs": [],
   "source": [
    "# put your code here"
   ]
  },
  {
   "cell_type": "markdown",
   "id": "6010a620",
   "metadata": {},
   "source": [
    "**(3.4) Calculate the average sales of the first three quarters of product-C and store the value in variable <code>c_avg</code>.**"
   ]
  },
  {
   "cell_type": "code",
   "execution_count": 10,
   "id": "eee64d5f",
   "metadata": {},
   "outputs": [],
   "source": [
    "# put your code here"
   ]
  },
  {
   "cell_type": "markdown",
   "id": "cb6329f1",
   "metadata": {},
   "source": [
    "**(3.5) Fill in the missing product sales data with <code>c_avg</code>. Print out the updated dictionary.**<br>\n",
    "Hint: Use list.append()"
   ]
  },
  {
   "cell_type": "code",
   "execution_count": 11,
   "id": "f4d98c53",
   "metadata": {},
   "outputs": [],
   "source": [
    "# put your code here"
   ]
  },
  {
   "cell_type": "markdown",
   "id": "aad2bee1",
   "metadata": {},
   "source": [
    "## (4) Zip"
   ]
  },
  {
   "cell_type": "markdown",
   "id": "05e698a3",
   "metadata": {},
   "source": [
    "**(4.1) Use the following lists to create a zip object.**<br>"
   ]
  },
  {
   "cell_type": "code",
   "execution_count": 12,
   "id": "84f5009e",
   "metadata": {},
   "outputs": [],
   "source": [
    "product_name = ['A', 'B', 'C']\n",
    "annual_sales = [720, 605, 580]"
   ]
  },
  {
   "cell_type": "code",
   "execution_count": 13,
   "id": "b1569881",
   "metadata": {},
   "outputs": [],
   "source": [
    "# put your code here"
   ]
  },
  {
   "cell_type": "markdown",
   "id": "139d07ce",
   "metadata": {},
   "source": [
    "**(4.2) Use the zip object obtained in (4.1) to create a dictionary. Print out the dictionary.**"
   ]
  },
  {
   "cell_type": "code",
   "execution_count": 14,
   "id": "7c148fc4",
   "metadata": {},
   "outputs": [],
   "source": [
    "# put your code here"
   ]
  },
  {
   "cell_type": "markdown",
   "id": "cab25e5b",
   "metadata": {},
   "source": [
    "**(4.3) Use the following list to create a list of tuples, each tuple contains information about the company. Print out the list.**<br>\n",
    "Hint: Use zip()<br>\n",
    "Expected reuslt:\n",
    "<code>\n",
    "[('JPMorgan Chase', 40.4, 3689.3), ('Apple', 63.9, 354.1), ('Bank of America', 17.9, 2832.2), ('Amazon', 21.3, 321.2), ('Microsoft', 51.3, 304.1)]\n",
    "</code>"
   ]
  },
  {
   "cell_type": "code",
   "execution_count": 15,
   "id": "b3fe5f14",
   "metadata": {},
   "outputs": [],
   "source": [
    "company_list = ['JPMorgan Chase','Apple','Bank of America','Amazon','Microsoft']\n",
    "profit_list = [40.4, 63.9, 17.9, 21.3, 51.3]\n",
    "assets_list = [3689.3, 354.1, 2832.2, 321.2, 304.1]"
   ]
  },
  {
   "cell_type": "code",
   "execution_count": 16,
   "id": "4582e5a6",
   "metadata": {},
   "outputs": [],
   "source": [
    "# put your code here"
   ]
  },
  {
   "cell_type": "markdown",
   "id": "34916f39",
   "metadata": {},
   "source": [
    "## (5) List comprehension"
   ]
  },
  {
   "cell_type": "markdown",
   "id": "98b7d4bf",
   "metadata": {},
   "source": [
    "**(5.1) Add 2 to each element in the list.**<br>\n",
    "Expected result:\n",
    "<code>\n",
    "[16, 25, 64, 41, 60, 73]\n",
    "</code>"
   ]
  },
  {
   "cell_type": "code",
   "execution_count": 17,
   "id": "6edfb7e0",
   "metadata": {},
   "outputs": [],
   "source": [
    "num_list = [14, 23, 62, 39, 58, 71]"
   ]
  },
  {
   "cell_type": "code",
   "execution_count": 24,
   "id": "340957a7",
   "metadata": {},
   "outputs": [
    {
     "data": {
      "text/plain": [
       "[16, 25, 64, 41, 60, 73]"
      ]
     },
     "execution_count": 24,
     "metadata": {},
     "output_type": "execute_result"
    }
   ],
   "source": [
    "# put your code here\n",
    "new_list = [i+2 for i in num_list]\n",
    "new_list\n"
   ]
  },
  {
   "cell_type": "markdown",
   "id": "ecfda896",
   "metadata": {},
   "source": [
    "**(5.2) Convert all words to uppercase.**<br>\n",
    "Expected result:\n",
    "<code>\n",
    "['JPMORGAN CHASE', 'APPLE', 'BANK OF AMERICA', 'AMAZON', 'MICROSOFT']\n",
    "</code>"
   ]
  },
  {
   "cell_type": "code",
   "execution_count": 25,
   "id": "332eb440",
   "metadata": {},
   "outputs": [],
   "source": [
    "company_list = ['JPMorgan Chase','Apple','Bank of America','Amazon','Microsoft']"
   ]
  },
  {
   "cell_type": "code",
   "execution_count": 26,
   "id": "edd9378d",
   "metadata": {},
   "outputs": [
    {
     "data": {
      "text/plain": [
       "['JPMORGAN CHASE', 'APPLE', 'BANK OF AMERICA', 'AMAZON', 'MICROSOFT']"
      ]
     },
     "execution_count": 26,
     "metadata": {},
     "output_type": "execute_result"
    }
   ],
   "source": [
    "# put your code here\n",
    "new_list = [s.upper() for s in company_list]\n",
    "new_list"
   ]
  },
  {
   "cell_type": "markdown",
   "id": "c94a622f",
   "metadata": {},
   "source": [
    "**(5.3) Select all names beginning with \"S\".**"
   ]
  },
  {
   "cell_type": "code",
   "execution_count": 21,
   "id": "63b6c589",
   "metadata": {},
   "outputs": [],
   "source": [
    "friend_list = [\"Henry\", \"Victoria\",\"Isaac\", \"Sara\", \"Zoe\",\"Isabelle\", \"Nora\", \"Madelyn\", \"Sophia\",\n",
    "             \"Charlotte\", \"Michael\",\"Sebastian\",\"Leah\", \"Ryan\", 'Matthew', \"Mila\"]"
   ]
  },
  {
   "cell_type": "code",
   "execution_count": 22,
   "id": "47c8c37a",
   "metadata": {},
   "outputs": [],
   "source": [
    "# put your code here"
   ]
  },
  {
   "cell_type": "markdown",
   "id": "7f4a8417",
   "metadata": {},
   "source": [
    "**(5.4) Select all products belonging to the \"meat\" category.**"
   ]
  },
  {
   "cell_type": "code",
   "execution_count": 23,
   "id": "c1a3d6d9",
   "metadata": {},
   "outputs": [],
   "source": [
    "#[product category, product name]\n",
    "product_list = [[\"beverage\",\"coffee\"],[\"dairy\",\"cheeses\"],[\"meat\",\"beef\"],[\"meat\",\"pork\"],[\"beverage\", \"tea\"],[\"dairy\",\"yogurt\"],[\"beverage\", \"soda\"],[\"dairy\",\"milk\"]]"
   ]
  },
  {
   "cell_type": "code",
   "execution_count": null,
   "id": "7fdb2560",
   "metadata": {},
   "outputs": [],
   "source": []
  }
 ],
 "metadata": {
  "kernelspec": {
   "display_name": "Python 3",
   "language": "python",
   "name": "python3"
  },
  "language_info": {
   "codemirror_mode": {
    "name": "ipython",
    "version": 3
   },
   "file_extension": ".py",
   "mimetype": "text/x-python",
   "name": "python",
   "nbconvert_exporter": "python",
   "pygments_lexer": "ipython3",
   "version": "3.8.8"
  }
 },
 "nbformat": 4,
 "nbformat_minor": 5
}
