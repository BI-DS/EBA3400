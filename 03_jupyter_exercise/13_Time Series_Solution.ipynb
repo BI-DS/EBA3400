{
 "cells": [
  {
   "cell_type": "markdown",
   "id": "11ca5efe",
   "metadata": {},
   "source": [
    "# Time Series"
   ]
  },
  {
   "cell_type": "code",
   "execution_count": 1,
   "id": "fcd6d2b2",
   "metadata": {},
   "outputs": [],
   "source": [
    "import pandas as pd\n",
    "import seaborn as sns"
   ]
  },
  {
   "cell_type": "markdown",
   "id": "a7043fd8",
   "metadata": {},
   "source": [
    "## (1) Oslo city bike"
   ]
  },
  {
   "cell_type": "markdown",
   "id": "65071582",
   "metadata": {},
   "source": [
    "**(1.1) Download the September 2022 city bike data here https://oslobysykkel.no/en/open-data/historical. Import the dataset and set the column <code>started_at</code> as DatetimeIndex.**<br> \n",
    "(The description of each column can be found on the same page.)"
   ]
  },
  {
   "cell_type": "code",
   "execution_count": 2,
   "id": "c159e444",
   "metadata": {},
   "outputs": [
    {
     "data": {
      "text/html": [
       "<div>\n",
       "<style scoped>\n",
       "    .dataframe tbody tr th:only-of-type {\n",
       "        vertical-align: middle;\n",
       "    }\n",
       "\n",
       "    .dataframe tbody tr th {\n",
       "        vertical-align: top;\n",
       "    }\n",
       "\n",
       "    .dataframe thead th {\n",
       "        text-align: right;\n",
       "    }\n",
       "</style>\n",
       "<table border=\"1\" class=\"dataframe\">\n",
       "  <thead>\n",
       "    <tr style=\"text-align: right;\">\n",
       "      <th></th>\n",
       "      <th>ended_at</th>\n",
       "      <th>duration</th>\n",
       "      <th>start_station_id</th>\n",
       "      <th>start_station_name</th>\n",
       "      <th>start_station_description</th>\n",
       "      <th>start_station_latitude</th>\n",
       "      <th>start_station_longitude</th>\n",
       "      <th>end_station_id</th>\n",
       "      <th>end_station_name</th>\n",
       "      <th>end_station_description</th>\n",
       "      <th>end_station_latitude</th>\n",
       "      <th>end_station_longitude</th>\n",
       "    </tr>\n",
       "    <tr>\n",
       "      <th>started_at</th>\n",
       "      <th></th>\n",
       "      <th></th>\n",
       "      <th></th>\n",
       "      <th></th>\n",
       "      <th></th>\n",
       "      <th></th>\n",
       "      <th></th>\n",
       "      <th></th>\n",
       "      <th></th>\n",
       "      <th></th>\n",
       "      <th></th>\n",
       "      <th></th>\n",
       "    </tr>\n",
       "  </thead>\n",
       "  <tbody>\n",
       "    <tr>\n",
       "      <th>2022-09-01 03:04:31.178000+00:00</th>\n",
       "      <td>2022-09-01 03:13:01.298000+00:00</td>\n",
       "      <td>510</td>\n",
       "      <td>437</td>\n",
       "      <td>Sentrum Scene</td>\n",
       "      <td>ved Arbeidersamfunnets plass</td>\n",
       "      <td>59.915468</td>\n",
       "      <td>10.751141</td>\n",
       "      <td>583</td>\n",
       "      <td>Galgeberg</td>\n",
       "      <td>langs St. Halvards gate</td>\n",
       "      <td>59.907076</td>\n",
       "      <td>10.779164</td>\n",
       "    </tr>\n",
       "    <tr>\n",
       "      <th>2022-09-01 03:11:09.104000+00:00</th>\n",
       "      <td>2022-09-01 03:14:52.506000+00:00</td>\n",
       "      <td>223</td>\n",
       "      <td>578</td>\n",
       "      <td>Hallings gate</td>\n",
       "      <td>langs Dalsbergstien</td>\n",
       "      <td>59.922777</td>\n",
       "      <td>10.738655</td>\n",
       "      <td>499</td>\n",
       "      <td>Bjerregaards gate</td>\n",
       "      <td>ovenfor Fredrikke Qvams gate</td>\n",
       "      <td>59.925488</td>\n",
       "      <td>10.746058</td>\n",
       "    </tr>\n",
       "    <tr>\n",
       "      <th>2022-09-01 03:11:37.861000+00:00</th>\n",
       "      <td>2022-09-01 03:23:23.939000+00:00</td>\n",
       "      <td>706</td>\n",
       "      <td>421</td>\n",
       "      <td>Alexander Kiellands Plass</td>\n",
       "      <td>langs Maridalsveien</td>\n",
       "      <td>59.928067</td>\n",
       "      <td>10.751203</td>\n",
       "      <td>390</td>\n",
       "      <td>Saga Kino</td>\n",
       "      <td>langs Olav Vs gate</td>\n",
       "      <td>59.914240</td>\n",
       "      <td>10.732771</td>\n",
       "    </tr>\n",
       "    <tr>\n",
       "      <th>2022-09-01 03:13:00.843000+00:00</th>\n",
       "      <td>2022-09-01 03:17:17.639000+00:00</td>\n",
       "      <td>256</td>\n",
       "      <td>735</td>\n",
       "      <td>Oslo Hospital</td>\n",
       "      <td>ved trikkestoppet</td>\n",
       "      <td>59.903213</td>\n",
       "      <td>10.767344</td>\n",
       "      <td>465</td>\n",
       "      <td>Bjørvika</td>\n",
       "      <td>under broen Nylandsveien</td>\n",
       "      <td>59.909006</td>\n",
       "      <td>10.756180</td>\n",
       "    </tr>\n",
       "    <tr>\n",
       "      <th>2022-09-01 03:13:13.330000+00:00</th>\n",
       "      <td>2022-09-01 03:24:15.758000+00:00</td>\n",
       "      <td>662</td>\n",
       "      <td>525</td>\n",
       "      <td>Myraløkka Øst</td>\n",
       "      <td>ved Bentsenbrua</td>\n",
       "      <td>59.937205</td>\n",
       "      <td>10.760581</td>\n",
       "      <td>443</td>\n",
       "      <td>Sjøsiden ved trappen</td>\n",
       "      <td>Oslo S</td>\n",
       "      <td>59.910154</td>\n",
       "      <td>10.751981</td>\n",
       "    </tr>\n",
       "  </tbody>\n",
       "</table>\n",
       "</div>"
      ],
      "text/plain": [
       "                                                          ended_at  duration  \\\n",
       "started_at                                                                     \n",
       "2022-09-01 03:04:31.178000+00:00  2022-09-01 03:13:01.298000+00:00       510   \n",
       "2022-09-01 03:11:09.104000+00:00  2022-09-01 03:14:52.506000+00:00       223   \n",
       "2022-09-01 03:11:37.861000+00:00  2022-09-01 03:23:23.939000+00:00       706   \n",
       "2022-09-01 03:13:00.843000+00:00  2022-09-01 03:17:17.639000+00:00       256   \n",
       "2022-09-01 03:13:13.330000+00:00  2022-09-01 03:24:15.758000+00:00       662   \n",
       "\n",
       "                                  start_station_id         start_station_name  \\\n",
       "started_at                                                                      \n",
       "2022-09-01 03:04:31.178000+00:00               437              Sentrum Scene   \n",
       "2022-09-01 03:11:09.104000+00:00               578              Hallings gate   \n",
       "2022-09-01 03:11:37.861000+00:00               421  Alexander Kiellands Plass   \n",
       "2022-09-01 03:13:00.843000+00:00               735              Oslo Hospital   \n",
       "2022-09-01 03:13:13.330000+00:00               525              Myraløkka Øst   \n",
       "\n",
       "                                     start_station_description  \\\n",
       "started_at                                                       \n",
       "2022-09-01 03:04:31.178000+00:00  ved Arbeidersamfunnets plass   \n",
       "2022-09-01 03:11:09.104000+00:00           langs Dalsbergstien   \n",
       "2022-09-01 03:11:37.861000+00:00           langs Maridalsveien   \n",
       "2022-09-01 03:13:00.843000+00:00             ved trikkestoppet   \n",
       "2022-09-01 03:13:13.330000+00:00               ved Bentsenbrua   \n",
       "\n",
       "                                  start_station_latitude  \\\n",
       "started_at                                                 \n",
       "2022-09-01 03:04:31.178000+00:00               59.915468   \n",
       "2022-09-01 03:11:09.104000+00:00               59.922777   \n",
       "2022-09-01 03:11:37.861000+00:00               59.928067   \n",
       "2022-09-01 03:13:00.843000+00:00               59.903213   \n",
       "2022-09-01 03:13:13.330000+00:00               59.937205   \n",
       "\n",
       "                                  start_station_longitude  end_station_id  \\\n",
       "started_at                                                                  \n",
       "2022-09-01 03:04:31.178000+00:00                10.751141             583   \n",
       "2022-09-01 03:11:09.104000+00:00                10.738655             499   \n",
       "2022-09-01 03:11:37.861000+00:00                10.751203             390   \n",
       "2022-09-01 03:13:00.843000+00:00                10.767344             465   \n",
       "2022-09-01 03:13:13.330000+00:00                10.760581             443   \n",
       "\n",
       "                                      end_station_name  \\\n",
       "started_at                                               \n",
       "2022-09-01 03:04:31.178000+00:00             Galgeberg   \n",
       "2022-09-01 03:11:09.104000+00:00     Bjerregaards gate   \n",
       "2022-09-01 03:11:37.861000+00:00             Saga Kino   \n",
       "2022-09-01 03:13:00.843000+00:00              Bjørvika   \n",
       "2022-09-01 03:13:13.330000+00:00  Sjøsiden ved trappen   \n",
       "\n",
       "                                       end_station_description  \\\n",
       "started_at                                                       \n",
       "2022-09-01 03:04:31.178000+00:00       langs St. Halvards gate   \n",
       "2022-09-01 03:11:09.104000+00:00  ovenfor Fredrikke Qvams gate   \n",
       "2022-09-01 03:11:37.861000+00:00            langs Olav Vs gate   \n",
       "2022-09-01 03:13:00.843000+00:00      under broen Nylandsveien   \n",
       "2022-09-01 03:13:13.330000+00:00                        Oslo S   \n",
       "\n",
       "                                  end_station_latitude  end_station_longitude  \n",
       "started_at                                                                     \n",
       "2022-09-01 03:04:31.178000+00:00             59.907076              10.779164  \n",
       "2022-09-01 03:11:09.104000+00:00             59.925488              10.746058  \n",
       "2022-09-01 03:11:37.861000+00:00             59.914240              10.732771  \n",
       "2022-09-01 03:13:00.843000+00:00             59.909006              10.756180  \n",
       "2022-09-01 03:13:13.330000+00:00             59.910154              10.751981  "
      ]
     },
     "execution_count": 2,
     "metadata": {},
     "output_type": "execute_result"
    }
   ],
   "source": [
    "bike_raw_df = pd.read_csv(\"../dataset/oslo_bike.csv\", parse_dates = [\"started_at\"], index_col  = [0])\n",
    "bike_raw_df.head(5)"
   ]
  },
  {
   "cell_type": "markdown",
   "id": "84630c37",
   "metadata": {},
   "source": [
    "**(1.2) Select a subset with two columns: <code>duration</code> and <code>start_station_name</code>. Use this subset to solve the following tasks.**<br>\n",
    "Hint: <code>copy()</code>"
   ]
  },
  {
   "cell_type": "code",
   "execution_count": 3,
   "id": "de964714",
   "metadata": {},
   "outputs": [
    {
     "data": {
      "text/html": [
       "<div>\n",
       "<style scoped>\n",
       "    .dataframe tbody tr th:only-of-type {\n",
       "        vertical-align: middle;\n",
       "    }\n",
       "\n",
       "    .dataframe tbody tr th {\n",
       "        vertical-align: top;\n",
       "    }\n",
       "\n",
       "    .dataframe thead th {\n",
       "        text-align: right;\n",
       "    }\n",
       "</style>\n",
       "<table border=\"1\" class=\"dataframe\">\n",
       "  <thead>\n",
       "    <tr style=\"text-align: right;\">\n",
       "      <th></th>\n",
       "      <th>duration</th>\n",
       "      <th>start_station_name</th>\n",
       "    </tr>\n",
       "    <tr>\n",
       "      <th>started_at</th>\n",
       "      <th></th>\n",
       "      <th></th>\n",
       "    </tr>\n",
       "  </thead>\n",
       "  <tbody>\n",
       "    <tr>\n",
       "      <th>2022-09-01 03:04:31.178000+00:00</th>\n",
       "      <td>510</td>\n",
       "      <td>Sentrum Scene</td>\n",
       "    </tr>\n",
       "    <tr>\n",
       "      <th>2022-09-01 03:11:09.104000+00:00</th>\n",
       "      <td>223</td>\n",
       "      <td>Hallings gate</td>\n",
       "    </tr>\n",
       "    <tr>\n",
       "      <th>2022-09-01 03:11:37.861000+00:00</th>\n",
       "      <td>706</td>\n",
       "      <td>Alexander Kiellands Plass</td>\n",
       "    </tr>\n",
       "    <tr>\n",
       "      <th>2022-09-01 03:13:00.843000+00:00</th>\n",
       "      <td>256</td>\n",
       "      <td>Oslo Hospital</td>\n",
       "    </tr>\n",
       "    <tr>\n",
       "      <th>2022-09-01 03:13:13.330000+00:00</th>\n",
       "      <td>662</td>\n",
       "      <td>Myraløkka Øst</td>\n",
       "    </tr>\n",
       "  </tbody>\n",
       "</table>\n",
       "</div>"
      ],
      "text/plain": [
       "                                  duration         start_station_name\n",
       "started_at                                                           \n",
       "2022-09-01 03:04:31.178000+00:00       510              Sentrum Scene\n",
       "2022-09-01 03:11:09.104000+00:00       223              Hallings gate\n",
       "2022-09-01 03:11:37.861000+00:00       706  Alexander Kiellands Plass\n",
       "2022-09-01 03:13:00.843000+00:00       256              Oslo Hospital\n",
       "2022-09-01 03:13:13.330000+00:00       662              Myraløkka Øst"
      ]
     },
     "execution_count": 3,
     "metadata": {},
     "output_type": "execute_result"
    }
   ],
   "source": [
    "bike_df = bike_raw_df[[\"duration\", \"start_station_name\"]].copy()\n",
    "bike_df.head(5)"
   ]
  },
  {
   "cell_type": "markdown",
   "id": "737a1a56",
   "metadata": {},
   "source": [
    "**(1.3) Use a line chart to show the riding time for each trip between 8 a.m. and 11 a.m. on September 10.**<br>\n",
    "Hint: Use column <code>duration</code><br>\n",
    "Setting: figsize = (18,3)"
   ]
  },
  {
   "cell_type": "code",
   "execution_count": 4,
   "id": "a334bcce",
   "metadata": {},
   "outputs": [
    {
     "data": {
      "text/plain": [
       "<AxesSubplot:xlabel='started_at'>"
      ]
     },
     "execution_count": 4,
     "metadata": {},
     "output_type": "execute_result"
    },
    {
     "data": {
      "image/png": "[encoded data removed]",
      "text/plain": [
       "<Figure size 1296x216 with 1 Axes>"
      ]
     },
     "metadata": {
      "needs_background": "light"
     },
     "output_type": "display_data"
    }
   ],
   "source": [
    "bike_df.loc[\"2022-09-10 08:00\":\"2022-09-10 11:00\",\"duration\"].plot(figsize = (18,3))"
   ]
  },
  {
   "cell_type": "markdown",
   "id": "b0bf3248",
   "metadata": {},
   "source": [
    "**(1.4) How many trips departed from <code>Olaf Ryes plass</code> Station on September 10?**"
   ]
  },
  {
   "cell_type": "code",
   "execution_count": 5,
   "id": "e319680a",
   "metadata": {},
   "outputs": [
    {
     "data": {
      "text/plain": [
       "68"
      ]
     },
     "execution_count": 5,
     "metadata": {},
     "output_type": "execute_result"
    }
   ],
   "source": [
    "bike_df[bike_df.start_station_name == \"Olaf Ryes plass\"].loc[\"2022-09-10\",:].shape[0]"
   ]
  },
  {
   "cell_type": "markdown",
   "id": "7e5c5cce",
   "metadata": {},
   "source": [
    "**(1.5) Calculate the total riding time per day and use a horizontal bar chart to display the result.**<br>\n",
    "Hint: Use <code>resample()</code><br>"
   ]
  },
  {
   "cell_type": "code",
   "execution_count": 6,
   "id": "65caee8d",
   "metadata": {},
   "outputs": [
    {
     "data": {
      "image/png": "[encoded data removed]",
      "text/plain": [
       "<Figure size 432x288 with 1 Axes>"
      ]
     },
     "metadata": {
      "needs_background": "light"
     },
     "output_type": "display_data"
    }
   ],
   "source": [
    "bike_daily = bike_df.resample(\"D\").sum().plot(kind = \"barh\")"
   ]
  },
  {
   "cell_type": "markdown",
   "id": "4588231e",
   "metadata": {},
   "source": [
    "**(1.6) Extract the day of the week from the DatetimeIndex and add it a as new column named <code>day_of_week</code>.**"
   ]
  },
  {
   "cell_type": "code",
   "execution_count": 7,
   "id": "d1a212a0",
   "metadata": {},
   "outputs": [
    {
     "data": {
      "text/html": [
       "<div>\n",
       "<style scoped>\n",
       "    .dataframe tbody tr th:only-of-type {\n",
       "        vertical-align: middle;\n",
       "    }\n",
       "\n",
       "    .dataframe tbody tr th {\n",
       "        vertical-align: top;\n",
       "    }\n",
       "\n",
       "    .dataframe thead th {\n",
       "        text-align: right;\n",
       "    }\n",
       "</style>\n",
       "<table border=\"1\" class=\"dataframe\">\n",
       "  <thead>\n",
       "    <tr style=\"text-align: right;\">\n",
       "      <th></th>\n",
       "      <th>duration</th>\n",
       "      <th>start_station_name</th>\n",
       "      <th>day_of_week</th>\n",
       "    </tr>\n",
       "    <tr>\n",
       "      <th>started_at</th>\n",
       "      <th></th>\n",
       "      <th></th>\n",
       "      <th></th>\n",
       "    </tr>\n",
       "  </thead>\n",
       "  <tbody>\n",
       "    <tr>\n",
       "      <th>2022-09-01 03:04:31.178000+00:00</th>\n",
       "      <td>510</td>\n",
       "      <td>Sentrum Scene</td>\n",
       "      <td>Thursday</td>\n",
       "    </tr>\n",
       "    <tr>\n",
       "      <th>2022-09-01 03:11:09.104000+00:00</th>\n",
       "      <td>223</td>\n",
       "      <td>Hallings gate</td>\n",
       "      <td>Thursday</td>\n",
       "    </tr>\n",
       "    <tr>\n",
       "      <th>2022-09-01 03:11:37.861000+00:00</th>\n",
       "      <td>706</td>\n",
       "      <td>Alexander Kiellands Plass</td>\n",
       "      <td>Thursday</td>\n",
       "    </tr>\n",
       "    <tr>\n",
       "      <th>2022-09-01 03:13:00.843000+00:00</th>\n",
       "      <td>256</td>\n",
       "      <td>Oslo Hospital</td>\n",
       "      <td>Thursday</td>\n",
       "    </tr>\n",
       "    <tr>\n",
       "      <th>2022-09-01 03:13:13.330000+00:00</th>\n",
       "      <td>662</td>\n",
       "      <td>Myraløkka Øst</td>\n",
       "      <td>Thursday</td>\n",
       "    </tr>\n",
       "  </tbody>\n",
       "</table>\n",
       "</div>"
      ],
      "text/plain": [
       "                                  duration         start_station_name  \\\n",
       "started_at                                                              \n",
       "2022-09-01 03:04:31.178000+00:00       510              Sentrum Scene   \n",
       "2022-09-01 03:11:09.104000+00:00       223              Hallings gate   \n",
       "2022-09-01 03:11:37.861000+00:00       706  Alexander Kiellands Plass   \n",
       "2022-09-01 03:13:00.843000+00:00       256              Oslo Hospital   \n",
       "2022-09-01 03:13:13.330000+00:00       662              Myraløkka Øst   \n",
       "\n",
       "                                 day_of_week  \n",
       "started_at                                    \n",
       "2022-09-01 03:04:31.178000+00:00    Thursday  \n",
       "2022-09-01 03:11:09.104000+00:00    Thursday  \n",
       "2022-09-01 03:11:37.861000+00:00    Thursday  \n",
       "2022-09-01 03:13:00.843000+00:00    Thursday  \n",
       "2022-09-01 03:13:13.330000+00:00    Thursday  "
      ]
     },
     "execution_count": 7,
     "metadata": {},
     "output_type": "execute_result"
    }
   ],
   "source": [
    "bike_df[\"day_of_week\"] = bike_df.index.day_name()\n",
    "bike_df.head(5)"
   ]
  },
  {
   "cell_type": "markdown",
   "id": "94fc2dcb",
   "metadata": {},
   "source": [
    "**(1.7) Group the data from September 3 to 30 by the column <code>day_of_week</code>. Calcuate the number of trips for each group. Which day of the week has the most trips?**"
   ]
  },
  {
   "cell_type": "code",
   "execution_count": 8,
   "id": "39a0f8d5",
   "metadata": {},
   "outputs": [
    {
     "data": {
      "text/plain": [
       "day_of_week\n",
       "Friday       20294\n",
       "Monday       21929\n",
       "Saturday     18172\n",
       "Sunday       14376\n",
       "Thursday     25217\n",
       "Tuesday      25568\n",
       "Wednesday    26297\n",
       "dtype: int64"
      ]
     },
     "execution_count": 8,
     "metadata": {},
     "output_type": "execute_result"
    }
   ],
   "source": [
    "bike_df.loc[\"2022-09-03\":\"2022-09-30\",:].groupby(\"day_of_week\").size()"
   ]
  },
  {
   "cell_type": "markdown",
   "id": "c41321c2",
   "metadata": {},
   "source": [
    "**Write you answer here:** Wednesday \n",
    "    "
   ]
  },
  {
   "cell_type": "markdown",
   "id": "5ec7d816",
   "metadata": {},
   "source": [
    "**(1.8) Which day of the week has the longest average riding time?**<br>\n",
    "Hint: Use the data from September 3 to 30."
   ]
  },
  {
   "cell_type": "code",
   "execution_count": 9,
   "id": "b40f2bf6",
   "metadata": {},
   "outputs": [
    {
     "data": {
      "text/html": [
       "<div>\n",
       "<style scoped>\n",
       "    .dataframe tbody tr th:only-of-type {\n",
       "        vertical-align: middle;\n",
       "    }\n",
       "\n",
       "    .dataframe tbody tr th {\n",
       "        vertical-align: top;\n",
       "    }\n",
       "\n",
       "    .dataframe thead th {\n",
       "        text-align: right;\n",
       "    }\n",
       "</style>\n",
       "<table border=\"1\" class=\"dataframe\">\n",
       "  <thead>\n",
       "    <tr style=\"text-align: right;\">\n",
       "      <th></th>\n",
       "      <th>duration</th>\n",
       "    </tr>\n",
       "    <tr>\n",
       "      <th>day_of_week</th>\n",
       "      <th></th>\n",
       "    </tr>\n",
       "  </thead>\n",
       "  <tbody>\n",
       "    <tr>\n",
       "      <th>Friday</th>\n",
       "      <td>652.981669</td>\n",
       "    </tr>\n",
       "    <tr>\n",
       "      <th>Monday</th>\n",
       "      <td>651.336860</td>\n",
       "    </tr>\n",
       "    <tr>\n",
       "      <th>Saturday</th>\n",
       "      <td>772.778560</td>\n",
       "    </tr>\n",
       "    <tr>\n",
       "      <th>Sunday</th>\n",
       "      <td>824.168753</td>\n",
       "    </tr>\n",
       "    <tr>\n",
       "      <th>Thursday</th>\n",
       "      <td>637.660546</td>\n",
       "    </tr>\n",
       "    <tr>\n",
       "      <th>Tuesday</th>\n",
       "      <td>654.414385</td>\n",
       "    </tr>\n",
       "    <tr>\n",
       "      <th>Wednesday</th>\n",
       "      <td>651.366011</td>\n",
       "    </tr>\n",
       "  </tbody>\n",
       "</table>\n",
       "</div>"
      ],
      "text/plain": [
       "               duration\n",
       "day_of_week            \n",
       "Friday       652.981669\n",
       "Monday       651.336860\n",
       "Saturday     772.778560\n",
       "Sunday       824.168753\n",
       "Thursday     637.660546\n",
       "Tuesday      654.414385\n",
       "Wednesday    651.366011"
      ]
     },
     "execution_count": 9,
     "metadata": {},
     "output_type": "execute_result"
    }
   ],
   "source": [
    "bike_df.loc[\"2022-09-03\":\"2022-09-30\",:].groupby(\"day_of_week\").mean()"
   ]
  },
  {
   "cell_type": "markdown",
   "id": "a9768dcd",
   "metadata": {},
   "source": [
    "**Write you answer here:** Sunday\n",
    "    "
   ]
  },
  {
   "cell_type": "markdown",
   "id": "d638c724",
   "metadata": {},
   "source": [
    "**(1.9) Count the number of departures from the following stations on each day of the week in September.**<br>\n",
    "<code>Alexander Kiellands Plass, Ringnes Park, Olaf Ryes plass, Tøyen skole, Bislett Stadion, Jernbanetorget, BI Nydalen.</code>   \n",
    "Expected result:"
   ]
  },
  {
   "cell_type": "markdown",
   "id": "57cdd731",
   "metadata": {},
   "source": [
    "||Monday|Tuesday|Wednesday|Thursday|Friday|Saturday|Sunday|\n",
    "|-:-|-:-|-:-|-:-|-:-|-:-|-:-|-:-|\n",
    "|**Alexander Kiellands Plass**|234|298|...|...|...|...|...|   \n",
    "|**BI Nydalen**|117|...|...|...|...|...|...|   \n",
    "|**Bislett Stadion**|...|...|...|...|...|...|     \n",
    "|**Jernbanetorget**|...|...|...|...|...|...|     \n",
    "|**Olaf Ryes plass**|...|...|...|...|...|...|    \n",
    "|**Ringnes Park**|...|...|...|...|...|...|    \n",
    "|**Tøyen skole**|...|...|...|...|...|...|    "
   ]
  },
  {
   "cell_type": "code",
   "execution_count": 10,
   "id": "c276b0e1",
   "metadata": {},
   "outputs": [
    {
     "data": {
      "text/html": [
       "<div>\n",
       "<style scoped>\n",
       "    .dataframe tbody tr th:only-of-type {\n",
       "        vertical-align: middle;\n",
       "    }\n",
       "\n",
       "    .dataframe tbody tr th {\n",
       "        vertical-align: top;\n",
       "    }\n",
       "\n",
       "    .dataframe thead th {\n",
       "        text-align: right;\n",
       "    }\n",
       "</style>\n",
       "<table border=\"1\" class=\"dataframe\">\n",
       "  <thead>\n",
       "    <tr style=\"text-align: right;\">\n",
       "      <th>day_of_week</th>\n",
       "      <th>Monday</th>\n",
       "      <th>Tuesday</th>\n",
       "      <th>Wednesday</th>\n",
       "      <th>Thursday</th>\n",
       "      <th>Friday</th>\n",
       "      <th>Saturday</th>\n",
       "      <th>Sunday</th>\n",
       "    </tr>\n",
       "    <tr>\n",
       "      <th>start_station_name</th>\n",
       "      <th></th>\n",
       "      <th></th>\n",
       "      <th></th>\n",
       "      <th></th>\n",
       "      <th></th>\n",
       "      <th></th>\n",
       "      <th></th>\n",
       "    </tr>\n",
       "  </thead>\n",
       "  <tbody>\n",
       "    <tr>\n",
       "      <th>Alexander Kiellands Plass</th>\n",
       "      <td>234</td>\n",
       "      <td>298</td>\n",
       "      <td>313</td>\n",
       "      <td>439</td>\n",
       "      <td>409</td>\n",
       "      <td>246</td>\n",
       "      <td>194</td>\n",
       "    </tr>\n",
       "    <tr>\n",
       "      <th>BI Nydalen</th>\n",
       "      <td>117</td>\n",
       "      <td>126</td>\n",
       "      <td>128</td>\n",
       "      <td>109</td>\n",
       "      <td>63</td>\n",
       "      <td>82</td>\n",
       "      <td>111</td>\n",
       "    </tr>\n",
       "    <tr>\n",
       "      <th>Bislett Stadion</th>\n",
       "      <td>252</td>\n",
       "      <td>251</td>\n",
       "      <td>286</td>\n",
       "      <td>370</td>\n",
       "      <td>295</td>\n",
       "      <td>178</td>\n",
       "      <td>136</td>\n",
       "    </tr>\n",
       "    <tr>\n",
       "      <th>Jernbanetorget</th>\n",
       "      <td>146</td>\n",
       "      <td>165</td>\n",
       "      <td>170</td>\n",
       "      <td>240</td>\n",
       "      <td>198</td>\n",
       "      <td>80</td>\n",
       "      <td>100</td>\n",
       "    </tr>\n",
       "    <tr>\n",
       "      <th>Olaf Ryes plass</th>\n",
       "      <td>213</td>\n",
       "      <td>274</td>\n",
       "      <td>274</td>\n",
       "      <td>404</td>\n",
       "      <td>343</td>\n",
       "      <td>231</td>\n",
       "      <td>179</td>\n",
       "    </tr>\n",
       "    <tr>\n",
       "      <th>Ringnes Park</th>\n",
       "      <td>211</td>\n",
       "      <td>331</td>\n",
       "      <td>303</td>\n",
       "      <td>354</td>\n",
       "      <td>336</td>\n",
       "      <td>253</td>\n",
       "      <td>182</td>\n",
       "    </tr>\n",
       "    <tr>\n",
       "      <th>Tøyen skole</th>\n",
       "      <td>236</td>\n",
       "      <td>264</td>\n",
       "      <td>295</td>\n",
       "      <td>367</td>\n",
       "      <td>249</td>\n",
       "      <td>160</td>\n",
       "      <td>159</td>\n",
       "    </tr>\n",
       "  </tbody>\n",
       "</table>\n",
       "</div>"
      ],
      "text/plain": [
       "day_of_week                Monday  Tuesday  Wednesday  Thursday  Friday  \\\n",
       "start_station_name                                                        \n",
       "Alexander Kiellands Plass     234      298        313       439     409   \n",
       "BI Nydalen                    117      126        128       109      63   \n",
       "Bislett Stadion               252      251        286       370     295   \n",
       "Jernbanetorget                146      165        170       240     198   \n",
       "Olaf Ryes plass               213      274        274       404     343   \n",
       "Ringnes Park                  211      331        303       354     336   \n",
       "Tøyen skole                   236      264        295       367     249   \n",
       "\n",
       "day_of_week                Saturday  Sunday  \n",
       "start_station_name                           \n",
       "Alexander Kiellands Plass       246     194  \n",
       "BI Nydalen                       82     111  \n",
       "Bislett Stadion                 178     136  \n",
       "Jernbanetorget                   80     100  \n",
       "Olaf Ryes plass                 231     179  \n",
       "Ringnes Park                    253     182  \n",
       "Tøyen skole                     160     159  "
      ]
     },
     "execution_count": 10,
     "metadata": {},
     "output_type": "execute_result"
    }
   ],
   "source": [
    "bike_df_sub = bike_df[bike_df.start_station_name.isin([\"Alexander Kiellands Plass\", \"Ringnes Park\", \"Olaf Ryes plass\", \"Tøyen skole\", \"Bislett Stadion\", \"Jernbanetorget\", \"BI Nydalen\"])]\n",
    "bike_ct = pd.crosstab(bike_df_sub[\"start_station_name\"], bike_df_sub[\"day_of_week\"])\n",
    "bike_ct = bike_ct[[\"Monday\",\"Tuesday\",\"Wednesday\",\"Thursday\",\"Friday\",\"Saturday\",\"Sunday\"]] #rearrange column order\n",
    "bike_ct"
   ]
  },
  {
   "cell_type": "markdown",
   "id": "a7a16116",
   "metadata": {},
   "source": [
    "**(1.10) Use a heatmap to display the result obtained in (1.8). List the two stations with the most trips on Thursday.**"
   ]
  },
  {
   "cell_type": "code",
   "execution_count": 11,
   "id": "75b489db",
   "metadata": {},
   "outputs": [
    {
     "data": {
      "text/plain": [
       "<AxesSubplot:xlabel='day_of_week', ylabel='start_station_name'>"
      ]
     },
     "execution_count": 11,
     "metadata": {},
     "output_type": "execute_result"
    },
    {
     "data": {
      "image/png": "[encoded data removed]",
      "text/plain": [
       "<Figure size 432x288 with 2 Axes>"
      ]
     },
     "metadata": {
      "needs_background": "light"
     },
     "output_type": "display_data"
    }
   ],
   "source": [
    "sns.heatmap(bike_ct)"
   ]
  },
  {
   "cell_type": "markdown",
   "id": "936bc89c",
   "metadata": {},
   "source": [
    "**Write you answer here:** \"Alexander Kiellands Plass\" and \"Olaf Ryes plass\"\n",
    "    "
   ]
  },
  {
   "cell_type": "markdown",
   "id": "cfb5daed",
   "metadata": {},
   "source": [
    "**(1.11) Calculate the number of trips in each hour on September 10.**"
   ]
  },
  {
   "cell_type": "code",
   "execution_count": 12,
   "id": "ce188ee2",
   "metadata": {},
   "outputs": [
    {
     "data": {
      "text/plain": [
       "started_at\n",
       "2022-09-10 03:00:00+00:00     11\n",
       "2022-09-10 04:00:00+00:00     34\n",
       "2022-09-10 05:00:00+00:00     57\n",
       "2022-09-10 06:00:00+00:00     85\n",
       "2022-09-10 07:00:00+00:00    174\n",
       "2022-09-10 08:00:00+00:00    211\n",
       "2022-09-10 09:00:00+00:00    266\n",
       "2022-09-10 10:00:00+00:00    385\n",
       "2022-09-10 11:00:00+00:00    369\n",
       "2022-09-10 12:00:00+00:00    337\n",
       "2022-09-10 13:00:00+00:00    376\n",
       "2022-09-10 14:00:00+00:00    343\n",
       "2022-09-10 15:00:00+00:00    381\n",
       "2022-09-10 16:00:00+00:00    342\n",
       "2022-09-10 17:00:00+00:00    253\n",
       "2022-09-10 18:00:00+00:00    155\n",
       "2022-09-10 19:00:00+00:00    120\n",
       "2022-09-10 20:00:00+00:00    102\n",
       "2022-09-10 21:00:00+00:00    122\n",
       "2022-09-10 22:00:00+00:00    120\n",
       "2022-09-10 23:00:00+00:00      1\n",
       "Freq: H, dtype: int64"
      ]
     },
     "execution_count": 12,
     "metadata": {},
     "output_type": "execute_result"
    }
   ],
   "source": [
    "bike_df.loc[\"2022-09-10\"].resample(\"H\").size()"
   ]
  },
  {
   "cell_type": "markdown",
   "id": "9bda7b47",
   "metadata": {},
   "source": [
    "**(1.12) Use a horizontal bar chart to display the result obtained in (1.11).**"
   ]
  },
  {
   "cell_type": "code",
   "execution_count": 13,
   "id": "b293ba16",
   "metadata": {},
   "outputs": [
    {
     "data": {
      "text/plain": [
       "<AxesSubplot:ylabel='started_at'>"
      ]
     },
     "execution_count": 13,
     "metadata": {},
     "output_type": "execute_result"
    },
    {
     "data": {
      "image/png": "[encoded data removed]",
      "text/plain": [
       "<Figure size 432x288 with 1 Axes>"
      ]
     },
     "metadata": {
      "needs_background": "light"
     },
     "output_type": "display_data"
    }
   ],
   "source": [
    "bike_df.loc[\"2022-09-10\"].resample(\"H\").size().plot(kind=\"barh\")"
   ]
  },
  {
   "cell_type": "markdown",
   "id": "3862d386",
   "metadata": {},
   "source": [
    "## (2) Complains\n",
    "In the US, 311 is a non-emergency phone number that people can call in many cities to find information about services, make complaints, or report problems like graffiti or road damage.\n"
   ]
  },
  {
   "cell_type": "markdown",
   "id": "1c48312c",
   "metadata": {},
   "source": [
    "**(2.1) Import the dataset <code>complaints.csv</code>. Set the column <code>Created Date</code> as DatetimeIndex.**<br>"
   ]
  },
  {
   "cell_type": "code",
   "execution_count": 14,
   "id": "62b015ba",
   "metadata": {},
   "outputs": [
    {
     "data": {
      "text/html": [
       "<div>\n",
       "<style scoped>\n",
       "    .dataframe tbody tr th:only-of-type {\n",
       "        vertical-align: middle;\n",
       "    }\n",
       "\n",
       "    .dataframe tbody tr th {\n",
       "        vertical-align: top;\n",
       "    }\n",
       "\n",
       "    .dataframe thead th {\n",
       "        text-align: right;\n",
       "    }\n",
       "</style>\n",
       "<table border=\"1\" class=\"dataframe\">\n",
       "  <thead>\n",
       "    <tr style=\"text-align: right;\">\n",
       "      <th></th>\n",
       "      <th>Unique Key</th>\n",
       "      <th>Closed Date</th>\n",
       "      <th>Agency</th>\n",
       "      <th>Agency Name</th>\n",
       "      <th>Complaint Type</th>\n",
       "      <th>Descriptor</th>\n",
       "      <th>Location Type</th>\n",
       "      <th>Incident Zip</th>\n",
       "      <th>Incident Address</th>\n",
       "      <th>Street Name</th>\n",
       "      <th>...</th>\n",
       "      <th>Bridge Highway Name</th>\n",
       "      <th>Bridge Highway Direction</th>\n",
       "      <th>Road Ramp</th>\n",
       "      <th>Bridge Highway Segment</th>\n",
       "      <th>Garage Lot Name</th>\n",
       "      <th>Ferry Direction</th>\n",
       "      <th>Ferry Terminal Name</th>\n",
       "      <th>Latitude</th>\n",
       "      <th>Longitude</th>\n",
       "      <th>Location</th>\n",
       "    </tr>\n",
       "    <tr>\n",
       "      <th>Created Date</th>\n",
       "      <th></th>\n",
       "      <th></th>\n",
       "      <th></th>\n",
       "      <th></th>\n",
       "      <th></th>\n",
       "      <th></th>\n",
       "      <th></th>\n",
       "      <th></th>\n",
       "      <th></th>\n",
       "      <th></th>\n",
       "      <th></th>\n",
       "      <th></th>\n",
       "      <th></th>\n",
       "      <th></th>\n",
       "      <th></th>\n",
       "      <th></th>\n",
       "      <th></th>\n",
       "      <th></th>\n",
       "      <th></th>\n",
       "      <th></th>\n",
       "      <th></th>\n",
       "    </tr>\n",
       "  </thead>\n",
       "  <tbody>\n",
       "    <tr>\n",
       "      <th>2013-10-31 02:08:41</th>\n",
       "      <td>26589651</td>\n",
       "      <td>NaN</td>\n",
       "      <td>NYPD</td>\n",
       "      <td>New York City Police Department</td>\n",
       "      <td>Noise - Street/Sidewalk</td>\n",
       "      <td>Loud Talking</td>\n",
       "      <td>Street/Sidewalk</td>\n",
       "      <td>11432</td>\n",
       "      <td>90-03 169 STREET</td>\n",
       "      <td>169 STREET</td>\n",
       "      <td>...</td>\n",
       "      <td>NaN</td>\n",
       "      <td>NaN</td>\n",
       "      <td>NaN</td>\n",
       "      <td>NaN</td>\n",
       "      <td>NaN</td>\n",
       "      <td>NaN</td>\n",
       "      <td>NaN</td>\n",
       "      <td>40.708275</td>\n",
       "      <td>-73.791604</td>\n",
       "      <td>(40.70827532593202, -73.79160395779721)</td>\n",
       "    </tr>\n",
       "    <tr>\n",
       "      <th>2013-10-31 02:01:04</th>\n",
       "      <td>26593698</td>\n",
       "      <td>NaN</td>\n",
       "      <td>NYPD</td>\n",
       "      <td>New York City Police Department</td>\n",
       "      <td>Illegal Parking</td>\n",
       "      <td>Commercial Overnight Parking</td>\n",
       "      <td>Street/Sidewalk</td>\n",
       "      <td>11378</td>\n",
       "      <td>58 AVENUE</td>\n",
       "      <td>58 AVENUE</td>\n",
       "      <td>...</td>\n",
       "      <td>NaN</td>\n",
       "      <td>NaN</td>\n",
       "      <td>NaN</td>\n",
       "      <td>NaN</td>\n",
       "      <td>NaN</td>\n",
       "      <td>NaN</td>\n",
       "      <td>NaN</td>\n",
       "      <td>40.721041</td>\n",
       "      <td>-73.909453</td>\n",
       "      <td>(40.721040535628305, -73.90945306791765)</td>\n",
       "    </tr>\n",
       "    <tr>\n",
       "      <th>2013-10-31 02:00:24</th>\n",
       "      <td>26594139</td>\n",
       "      <td>10/31/2013 02:40:32 AM</td>\n",
       "      <td>NYPD</td>\n",
       "      <td>New York City Police Department</td>\n",
       "      <td>Noise - Commercial</td>\n",
       "      <td>Loud Music/Party</td>\n",
       "      <td>Club/Bar/Restaurant</td>\n",
       "      <td>10032</td>\n",
       "      <td>4060 BROADWAY</td>\n",
       "      <td>BROADWAY</td>\n",
       "      <td>...</td>\n",
       "      <td>NaN</td>\n",
       "      <td>NaN</td>\n",
       "      <td>NaN</td>\n",
       "      <td>NaN</td>\n",
       "      <td>NaN</td>\n",
       "      <td>NaN</td>\n",
       "      <td>NaN</td>\n",
       "      <td>40.843330</td>\n",
       "      <td>-73.939144</td>\n",
       "      <td>(40.84332975466513, -73.93914371913482)</td>\n",
       "    </tr>\n",
       "    <tr>\n",
       "      <th>2013-10-31 01:56:23</th>\n",
       "      <td>26595721</td>\n",
       "      <td>10/31/2013 02:21:48 AM</td>\n",
       "      <td>NYPD</td>\n",
       "      <td>New York City Police Department</td>\n",
       "      <td>Noise - Vehicle</td>\n",
       "      <td>Car/Truck Horn</td>\n",
       "      <td>Street/Sidewalk</td>\n",
       "      <td>10023</td>\n",
       "      <td>WEST 72 STREET</td>\n",
       "      <td>WEST 72 STREET</td>\n",
       "      <td>...</td>\n",
       "      <td>NaN</td>\n",
       "      <td>NaN</td>\n",
       "      <td>NaN</td>\n",
       "      <td>NaN</td>\n",
       "      <td>NaN</td>\n",
       "      <td>NaN</td>\n",
       "      <td>NaN</td>\n",
       "      <td>40.778009</td>\n",
       "      <td>-73.980213</td>\n",
       "      <td>(40.7780087446372, -73.98021349023975)</td>\n",
       "    </tr>\n",
       "    <tr>\n",
       "      <th>2013-10-31 01:53:44</th>\n",
       "      <td>26590930</td>\n",
       "      <td>NaN</td>\n",
       "      <td>DOHMH</td>\n",
       "      <td>Department of Health and Mental Hygiene</td>\n",
       "      <td>Rodent</td>\n",
       "      <td>Condition Attracting Rodents</td>\n",
       "      <td>Vacant Lot</td>\n",
       "      <td>10027</td>\n",
       "      <td>WEST 124 STREET</td>\n",
       "      <td>WEST 124 STREET</td>\n",
       "      <td>...</td>\n",
       "      <td>NaN</td>\n",
       "      <td>NaN</td>\n",
       "      <td>NaN</td>\n",
       "      <td>NaN</td>\n",
       "      <td>NaN</td>\n",
       "      <td>NaN</td>\n",
       "      <td>NaN</td>\n",
       "      <td>40.807691</td>\n",
       "      <td>-73.947387</td>\n",
       "      <td>(40.80769092704951, -73.94738703491433)</td>\n",
       "    </tr>\n",
       "  </tbody>\n",
       "</table>\n",
       "<p>5 rows × 51 columns</p>\n",
       "</div>"
      ],
      "text/plain": [
       "                     Unique Key             Closed Date Agency  \\\n",
       "Created Date                                                     \n",
       "2013-10-31 02:08:41    26589651                     NaN   NYPD   \n",
       "2013-10-31 02:01:04    26593698                     NaN   NYPD   \n",
       "2013-10-31 02:00:24    26594139  10/31/2013 02:40:32 AM   NYPD   \n",
       "2013-10-31 01:56:23    26595721  10/31/2013 02:21:48 AM   NYPD   \n",
       "2013-10-31 01:53:44    26590930                     NaN  DOHMH   \n",
       "\n",
       "                                                 Agency Name  \\\n",
       "Created Date                                                   \n",
       "2013-10-31 02:08:41          New York City Police Department   \n",
       "2013-10-31 02:01:04          New York City Police Department   \n",
       "2013-10-31 02:00:24          New York City Police Department   \n",
       "2013-10-31 01:56:23          New York City Police Department   \n",
       "2013-10-31 01:53:44  Department of Health and Mental Hygiene   \n",
       "\n",
       "                              Complaint Type                    Descriptor  \\\n",
       "Created Date                                                                 \n",
       "2013-10-31 02:08:41  Noise - Street/Sidewalk                  Loud Talking   \n",
       "2013-10-31 02:01:04          Illegal Parking  Commercial Overnight Parking   \n",
       "2013-10-31 02:00:24       Noise - Commercial              Loud Music/Party   \n",
       "2013-10-31 01:56:23          Noise - Vehicle                Car/Truck Horn   \n",
       "2013-10-31 01:53:44                   Rodent  Condition Attracting Rodents   \n",
       "\n",
       "                           Location Type Incident Zip  Incident Address  \\\n",
       "Created Date                                                              \n",
       "2013-10-31 02:08:41      Street/Sidewalk        11432  90-03 169 STREET   \n",
       "2013-10-31 02:01:04      Street/Sidewalk        11378         58 AVENUE   \n",
       "2013-10-31 02:00:24  Club/Bar/Restaurant        10032     4060 BROADWAY   \n",
       "2013-10-31 01:56:23      Street/Sidewalk        10023    WEST 72 STREET   \n",
       "2013-10-31 01:53:44           Vacant Lot        10027   WEST 124 STREET   \n",
       "\n",
       "                         Street Name  ... Bridge Highway Name  \\\n",
       "Created Date                          ...                       \n",
       "2013-10-31 02:08:41       169 STREET  ...                 NaN   \n",
       "2013-10-31 02:01:04        58 AVENUE  ...                 NaN   \n",
       "2013-10-31 02:00:24         BROADWAY  ...                 NaN   \n",
       "2013-10-31 01:56:23   WEST 72 STREET  ...                 NaN   \n",
       "2013-10-31 01:53:44  WEST 124 STREET  ...                 NaN   \n",
       "\n",
       "                    Bridge Highway Direction Road Ramp Bridge Highway Segment  \\\n",
       "Created Date                                                                    \n",
       "2013-10-31 02:08:41                      NaN       NaN                    NaN   \n",
       "2013-10-31 02:01:04                      NaN       NaN                    NaN   \n",
       "2013-10-31 02:00:24                      NaN       NaN                    NaN   \n",
       "2013-10-31 01:56:23                      NaN       NaN                    NaN   \n",
       "2013-10-31 01:53:44                      NaN       NaN                    NaN   \n",
       "\n",
       "                    Garage Lot Name Ferry Direction Ferry Terminal Name  \\\n",
       "Created Date                                                              \n",
       "2013-10-31 02:08:41             NaN             NaN                 NaN   \n",
       "2013-10-31 02:01:04             NaN             NaN                 NaN   \n",
       "2013-10-31 02:00:24             NaN             NaN                 NaN   \n",
       "2013-10-31 01:56:23             NaN             NaN                 NaN   \n",
       "2013-10-31 01:53:44             NaN             NaN                 NaN   \n",
       "\n",
       "                      Latitude  Longitude  \\\n",
       "Created Date                                \n",
       "2013-10-31 02:08:41  40.708275 -73.791604   \n",
       "2013-10-31 02:01:04  40.721041 -73.909453   \n",
       "2013-10-31 02:00:24  40.843330 -73.939144   \n",
       "2013-10-31 01:56:23  40.778009 -73.980213   \n",
       "2013-10-31 01:53:44  40.807691 -73.947387   \n",
       "\n",
       "                                                     Location  \n",
       "Created Date                                                   \n",
       "2013-10-31 02:08:41   (40.70827532593202, -73.79160395779721)  \n",
       "2013-10-31 02:01:04  (40.721040535628305, -73.90945306791765)  \n",
       "2013-10-31 02:00:24   (40.84332975466513, -73.93914371913482)  \n",
       "2013-10-31 01:56:23    (40.7780087446372, -73.98021349023975)  \n",
       "2013-10-31 01:53:44   (40.80769092704951, -73.94738703491433)  \n",
       "\n",
       "[5 rows x 51 columns]"
      ]
     },
     "execution_count": 14,
     "metadata": {},
     "output_type": "execute_result"
    }
   ],
   "source": [
    "# You may see a warning message: Columns (8) have mixed types. \n",
    "# This is because pandas will try to guess the dtype, and if there is confusion, you will see a warning message.\n",
    "# You can specify the type to avoid seeing this warning message.\n",
    "complaint_df = pd.read_csv(\"../dataset/complaints.csv\", parse_dates = [\"Created Date\"], index_col = [1], dtype = {\"Incident Zip\":object})\n",
    "complaint_df.head(5)"
   ]
  },
  {
   "cell_type": "markdown",
   "id": "72efd6d0",
   "metadata": {},
   "source": [
    "**(2.2) Sort the dataframe from oldest to newest.**<br>\n",
    "Hint: <code>DataFrame.sort_index(inplace = True)</code>"
   ]
  },
  {
   "cell_type": "code",
   "execution_count": 15,
   "id": "40f9c4cc",
   "metadata": {},
   "outputs": [
    {
     "data": {
      "text/html": [
       "<div>\n",
       "<style scoped>\n",
       "    .dataframe tbody tr th:only-of-type {\n",
       "        vertical-align: middle;\n",
       "    }\n",
       "\n",
       "    .dataframe tbody tr th {\n",
       "        vertical-align: top;\n",
       "    }\n",
       "\n",
       "    .dataframe thead th {\n",
       "        text-align: right;\n",
       "    }\n",
       "</style>\n",
       "<table border=\"1\" class=\"dataframe\">\n",
       "  <thead>\n",
       "    <tr style=\"text-align: right;\">\n",
       "      <th></th>\n",
       "      <th>Unique Key</th>\n",
       "      <th>Closed Date</th>\n",
       "      <th>Agency</th>\n",
       "      <th>Agency Name</th>\n",
       "      <th>Complaint Type</th>\n",
       "      <th>Descriptor</th>\n",
       "      <th>Location Type</th>\n",
       "      <th>Incident Zip</th>\n",
       "      <th>Incident Address</th>\n",
       "      <th>Street Name</th>\n",
       "      <th>...</th>\n",
       "      <th>Bridge Highway Name</th>\n",
       "      <th>Bridge Highway Direction</th>\n",
       "      <th>Road Ramp</th>\n",
       "      <th>Bridge Highway Segment</th>\n",
       "      <th>Garage Lot Name</th>\n",
       "      <th>Ferry Direction</th>\n",
       "      <th>Ferry Terminal Name</th>\n",
       "      <th>Latitude</th>\n",
       "      <th>Longitude</th>\n",
       "      <th>Location</th>\n",
       "    </tr>\n",
       "    <tr>\n",
       "      <th>Created Date</th>\n",
       "      <th></th>\n",
       "      <th></th>\n",
       "      <th></th>\n",
       "      <th></th>\n",
       "      <th></th>\n",
       "      <th></th>\n",
       "      <th></th>\n",
       "      <th></th>\n",
       "      <th></th>\n",
       "      <th></th>\n",
       "      <th></th>\n",
       "      <th></th>\n",
       "      <th></th>\n",
       "      <th></th>\n",
       "      <th></th>\n",
       "      <th></th>\n",
       "      <th></th>\n",
       "      <th></th>\n",
       "      <th></th>\n",
       "      <th></th>\n",
       "      <th></th>\n",
       "    </tr>\n",
       "  </thead>\n",
       "  <tbody>\n",
       "    <tr>\n",
       "      <th>2013-10-04 00:00:10</th>\n",
       "      <td>26428033</td>\n",
       "      <td>10/04/2013 01:20:52 AM</td>\n",
       "      <td>NYPD</td>\n",
       "      <td>New York City Police Department</td>\n",
       "      <td>Blocked Driveway</td>\n",
       "      <td>Partial Access</td>\n",
       "      <td>Street/Sidewalk</td>\n",
       "      <td>11236</td>\n",
       "      <td>1259 EAST 94 STREET</td>\n",
       "      <td>EAST 94 STREET</td>\n",
       "      <td>...</td>\n",
       "      <td>NaN</td>\n",
       "      <td>NaN</td>\n",
       "      <td>NaN</td>\n",
       "      <td>NaN</td>\n",
       "      <td>NaN</td>\n",
       "      <td>NaN</td>\n",
       "      <td>NaN</td>\n",
       "      <td>40.640024</td>\n",
       "      <td>-73.900717</td>\n",
       "      <td>(40.640024057399216, -73.90071711703163)</td>\n",
       "    </tr>\n",
       "    <tr>\n",
       "      <th>2013-10-04 00:00:28</th>\n",
       "      <td>26426115</td>\n",
       "      <td>10/04/2013 04:17:32 AM</td>\n",
       "      <td>NYPD</td>\n",
       "      <td>New York City Police Department</td>\n",
       "      <td>Noise - Commercial</td>\n",
       "      <td>Loud Talking</td>\n",
       "      <td>Club/Bar/Restaurant</td>\n",
       "      <td>11226</td>\n",
       "      <td>1233 FLATBUSH AVENUE</td>\n",
       "      <td>FLATBUSH AVENUE</td>\n",
       "      <td>...</td>\n",
       "      <td>NaN</td>\n",
       "      <td>NaN</td>\n",
       "      <td>NaN</td>\n",
       "      <td>NaN</td>\n",
       "      <td>NaN</td>\n",
       "      <td>NaN</td>\n",
       "      <td>NaN</td>\n",
       "      <td>40.640182</td>\n",
       "      <td>-73.955306</td>\n",
       "      <td>(40.64018174662485, -73.95530566958138)</td>\n",
       "    </tr>\n",
       "    <tr>\n",
       "      <th>2013-10-04 00:00:45</th>\n",
       "      <td>26428987</td>\n",
       "      <td>10/04/2013 01:25:01 AM</td>\n",
       "      <td>NYPD</td>\n",
       "      <td>New York City Police Department</td>\n",
       "      <td>Noise - Street/Sidewalk</td>\n",
       "      <td>Loud Talking</td>\n",
       "      <td>Street/Sidewalk</td>\n",
       "      <td>10016</td>\n",
       "      <td>344 EAST 28 STREET</td>\n",
       "      <td>EAST 28 STREET</td>\n",
       "      <td>...</td>\n",
       "      <td>NaN</td>\n",
       "      <td>NaN</td>\n",
       "      <td>NaN</td>\n",
       "      <td>NaN</td>\n",
       "      <td>NaN</td>\n",
       "      <td>NaN</td>\n",
       "      <td>NaN</td>\n",
       "      <td>40.740295</td>\n",
       "      <td>-73.976952</td>\n",
       "      <td>(40.740295354643706, -73.97695165980414)</td>\n",
       "    </tr>\n",
       "    <tr>\n",
       "      <th>2013-10-04 00:01:05</th>\n",
       "      <td>26428083</td>\n",
       "      <td>10/04/2013 02:13:50 AM</td>\n",
       "      <td>NYPD</td>\n",
       "      <td>New York City Police Department</td>\n",
       "      <td>Illegal Parking</td>\n",
       "      <td>Posted Parking Sign Violation</td>\n",
       "      <td>Street/Sidewalk</td>\n",
       "      <td>11434</td>\n",
       "      <td>NaN</td>\n",
       "      <td>NaN</td>\n",
       "      <td>...</td>\n",
       "      <td>NaN</td>\n",
       "      <td>NaN</td>\n",
       "      <td>NaN</td>\n",
       "      <td>NaN</td>\n",
       "      <td>NaN</td>\n",
       "      <td>NaN</td>\n",
       "      <td>NaN</td>\n",
       "      <td>40.656160</td>\n",
       "      <td>-73.767353</td>\n",
       "      <td>(40.656160351546845, -73.76735262738222)</td>\n",
       "    </tr>\n",
       "    <tr>\n",
       "      <th>2013-10-04 00:01:13</th>\n",
       "      <td>26426013</td>\n",
       "      <td>10/07/2013 04:07:16 PM</td>\n",
       "      <td>DPR</td>\n",
       "      <td>Department of Parks and Recreation</td>\n",
       "      <td>Maintenance or Facility</td>\n",
       "      <td>Structure - Outdoors</td>\n",
       "      <td>Park</td>\n",
       "      <td>11213</td>\n",
       "      <td>NaN</td>\n",
       "      <td>NaN</td>\n",
       "      <td>...</td>\n",
       "      <td>NaN</td>\n",
       "      <td>NaN</td>\n",
       "      <td>NaN</td>\n",
       "      <td>NaN</td>\n",
       "      <td>NaN</td>\n",
       "      <td>NaN</td>\n",
       "      <td>NaN</td>\n",
       "      <td>NaN</td>\n",
       "      <td>NaN</td>\n",
       "      <td>NaN</td>\n",
       "    </tr>\n",
       "  </tbody>\n",
       "</table>\n",
       "<p>5 rows × 51 columns</p>\n",
       "</div>"
      ],
      "text/plain": [
       "                     Unique Key             Closed Date Agency  \\\n",
       "Created Date                                                     \n",
       "2013-10-04 00:00:10    26428033  10/04/2013 01:20:52 AM   NYPD   \n",
       "2013-10-04 00:00:28    26426115  10/04/2013 04:17:32 AM   NYPD   \n",
       "2013-10-04 00:00:45    26428987  10/04/2013 01:25:01 AM   NYPD   \n",
       "2013-10-04 00:01:05    26428083  10/04/2013 02:13:50 AM   NYPD   \n",
       "2013-10-04 00:01:13    26426013  10/07/2013 04:07:16 PM    DPR   \n",
       "\n",
       "                                            Agency Name  \\\n",
       "Created Date                                              \n",
       "2013-10-04 00:00:10     New York City Police Department   \n",
       "2013-10-04 00:00:28     New York City Police Department   \n",
       "2013-10-04 00:00:45     New York City Police Department   \n",
       "2013-10-04 00:01:05     New York City Police Department   \n",
       "2013-10-04 00:01:13  Department of Parks and Recreation   \n",
       "\n",
       "                              Complaint Type                     Descriptor  \\\n",
       "Created Date                                                                  \n",
       "2013-10-04 00:00:10         Blocked Driveway                 Partial Access   \n",
       "2013-10-04 00:00:28       Noise - Commercial                   Loud Talking   \n",
       "2013-10-04 00:00:45  Noise - Street/Sidewalk                   Loud Talking   \n",
       "2013-10-04 00:01:05          Illegal Parking  Posted Parking Sign Violation   \n",
       "2013-10-04 00:01:13  Maintenance or Facility           Structure - Outdoors   \n",
       "\n",
       "                           Location Type Incident Zip      Incident Address  \\\n",
       "Created Date                                                                  \n",
       "2013-10-04 00:00:10      Street/Sidewalk        11236   1259 EAST 94 STREET   \n",
       "2013-10-04 00:00:28  Club/Bar/Restaurant        11226  1233 FLATBUSH AVENUE   \n",
       "2013-10-04 00:00:45      Street/Sidewalk        10016    344 EAST 28 STREET   \n",
       "2013-10-04 00:01:05      Street/Sidewalk        11434                   NaN   \n",
       "2013-10-04 00:01:13                 Park        11213                   NaN   \n",
       "\n",
       "                         Street Name  ... Bridge Highway Name  \\\n",
       "Created Date                          ...                       \n",
       "2013-10-04 00:00:10   EAST 94 STREET  ...                 NaN   \n",
       "2013-10-04 00:00:28  FLATBUSH AVENUE  ...                 NaN   \n",
       "2013-10-04 00:00:45   EAST 28 STREET  ...                 NaN   \n",
       "2013-10-04 00:01:05              NaN  ...                 NaN   \n",
       "2013-10-04 00:01:13              NaN  ...                 NaN   \n",
       "\n",
       "                    Bridge Highway Direction Road Ramp Bridge Highway Segment  \\\n",
       "Created Date                                                                    \n",
       "2013-10-04 00:00:10                      NaN       NaN                    NaN   \n",
       "2013-10-04 00:00:28                      NaN       NaN                    NaN   \n",
       "2013-10-04 00:00:45                      NaN       NaN                    NaN   \n",
       "2013-10-04 00:01:05                      NaN       NaN                    NaN   \n",
       "2013-10-04 00:01:13                      NaN       NaN                    NaN   \n",
       "\n",
       "                    Garage Lot Name Ferry Direction Ferry Terminal Name  \\\n",
       "Created Date                                                              \n",
       "2013-10-04 00:00:10             NaN             NaN                 NaN   \n",
       "2013-10-04 00:00:28             NaN             NaN                 NaN   \n",
       "2013-10-04 00:00:45             NaN             NaN                 NaN   \n",
       "2013-10-04 00:01:05             NaN             NaN                 NaN   \n",
       "2013-10-04 00:01:13             NaN             NaN                 NaN   \n",
       "\n",
       "                      Latitude  Longitude  \\\n",
       "Created Date                                \n",
       "2013-10-04 00:00:10  40.640024 -73.900717   \n",
       "2013-10-04 00:00:28  40.640182 -73.955306   \n",
       "2013-10-04 00:00:45  40.740295 -73.976952   \n",
       "2013-10-04 00:01:05  40.656160 -73.767353   \n",
       "2013-10-04 00:01:13        NaN        NaN   \n",
       "\n",
       "                                                     Location  \n",
       "Created Date                                                   \n",
       "2013-10-04 00:00:10  (40.640024057399216, -73.90071711703163)  \n",
       "2013-10-04 00:00:28   (40.64018174662485, -73.95530566958138)  \n",
       "2013-10-04 00:00:45  (40.740295354643706, -73.97695165980414)  \n",
       "2013-10-04 00:01:05  (40.656160351546845, -73.76735262738222)  \n",
       "2013-10-04 00:01:13                                       NaN  \n",
       "\n",
       "[5 rows x 51 columns]"
      ]
     },
     "execution_count": 15,
     "metadata": {},
     "output_type": "execute_result"
    }
   ],
   "source": [
    "complaint_df.sort_index(inplace = True)\n",
    "complaint_df.head(5)"
   ]
  },
  {
   "cell_type": "markdown",
   "id": "927ef75f",
   "metadata": {},
   "source": [
    "**(2.3) Select the complaint data handled by <code>NYPD</code> with two columns: <code>Closed Date, Complaint Type</code>. Use this subset to solve the following tasks.**<br>\n",
    "Hint: Use column <code>Agency</code> and make a copy."
   ]
  },
  {
   "cell_type": "code",
   "execution_count": 16,
   "id": "57bea78c",
   "metadata": {},
   "outputs": [
    {
     "data": {
      "text/html": [
       "<div>\n",
       "<style scoped>\n",
       "    .dataframe tbody tr th:only-of-type {\n",
       "        vertical-align: middle;\n",
       "    }\n",
       "\n",
       "    .dataframe tbody tr th {\n",
       "        vertical-align: top;\n",
       "    }\n",
       "\n",
       "    .dataframe thead th {\n",
       "        text-align: right;\n",
       "    }\n",
       "</style>\n",
       "<table border=\"1\" class=\"dataframe\">\n",
       "  <thead>\n",
       "    <tr style=\"text-align: right;\">\n",
       "      <th></th>\n",
       "      <th>Closed Date</th>\n",
       "      <th>Complaint Type</th>\n",
       "    </tr>\n",
       "    <tr>\n",
       "      <th>Created Date</th>\n",
       "      <th></th>\n",
       "      <th></th>\n",
       "    </tr>\n",
       "  </thead>\n",
       "  <tbody>\n",
       "    <tr>\n",
       "      <th>2013-10-04 00:00:10</th>\n",
       "      <td>10/04/2013 01:20:52 AM</td>\n",
       "      <td>Blocked Driveway</td>\n",
       "    </tr>\n",
       "    <tr>\n",
       "      <th>2013-10-04 00:00:28</th>\n",
       "      <td>10/04/2013 04:17:32 AM</td>\n",
       "      <td>Noise - Commercial</td>\n",
       "    </tr>\n",
       "    <tr>\n",
       "      <th>2013-10-04 00:00:45</th>\n",
       "      <td>10/04/2013 01:25:01 AM</td>\n",
       "      <td>Noise - Street/Sidewalk</td>\n",
       "    </tr>\n",
       "    <tr>\n",
       "      <th>2013-10-04 00:01:05</th>\n",
       "      <td>10/04/2013 02:13:50 AM</td>\n",
       "      <td>Illegal Parking</td>\n",
       "    </tr>\n",
       "    <tr>\n",
       "      <th>2013-10-04 00:03:00</th>\n",
       "      <td>10/04/2013 02:14:57 AM</td>\n",
       "      <td>Noise - Commercial</td>\n",
       "    </tr>\n",
       "  </tbody>\n",
       "</table>\n",
       "</div>"
      ],
      "text/plain": [
       "                                Closed Date           Complaint Type\n",
       "Created Date                                                        \n",
       "2013-10-04 00:00:10  10/04/2013 01:20:52 AM         Blocked Driveway\n",
       "2013-10-04 00:00:28  10/04/2013 04:17:32 AM       Noise - Commercial\n",
       "2013-10-04 00:00:45  10/04/2013 01:25:01 AM  Noise - Street/Sidewalk\n",
       "2013-10-04 00:01:05  10/04/2013 02:13:50 AM          Illegal Parking\n",
       "2013-10-04 00:03:00  10/04/2013 02:14:57 AM       Noise - Commercial"
      ]
     },
     "execution_count": 16,
     "metadata": {},
     "output_type": "execute_result"
    }
   ],
   "source": [
    "nypd_df = complaint_df[complaint_df.Agency == \"NYPD\"].loc[:,[\"Closed Date\", \"Complaint Type\"]].copy()\n",
    "nypd_df.head(5)"
   ]
  },
  {
   "cell_type": "markdown",
   "id": "1251c2d0",
   "metadata": {},
   "source": [
    "**(2.4) Calculate the number of complaints in each day and display the result with a line chart.**<br>\n",
    "Setting: figsize = (15,3), marker = \"o\""
   ]
  },
  {
   "cell_type": "code",
   "execution_count": 17,
   "id": "1e0e5455",
   "metadata": {},
   "outputs": [
    {
     "data": {
      "text/plain": [
       "<AxesSubplot:xlabel='Created Date'>"
      ]
     },
     "execution_count": 17,
     "metadata": {},
     "output_type": "execute_result"
    },
    {
     "data": {
      "image/png": "[encoded data removed]",
      "text/plain": [
       "<Figure size 1080x216 with 1 Axes>"
      ]
     },
     "metadata": {
      "needs_background": "light"
     },
     "output_type": "display_data"
    }
   ],
   "source": [
    "nypd_df.resample(\"D\").size().plot(figsize = (15,3), marker = \"o\")"
   ]
  },
  {
   "cell_type": "markdown",
   "id": "8ad706c2",
   "metadata": {},
   "source": [
    "**(2.5) What are the top five types of complaints?**"
   ]
  },
  {
   "cell_type": "code",
   "execution_count": 18,
   "id": "3afedc8a",
   "metadata": {},
   "outputs": [
    {
     "data": {
      "text/plain": [
       "Blocked Driveway           4590\n",
       "Illegal Parking            3343\n",
       "Noise - Commercial         2578\n",
       "Noise - Street/Sidewalk    1928\n",
       "Derelict Vehicle            803\n",
       "Name: Complaint Type, dtype: int64"
      ]
     },
     "execution_count": 18,
     "metadata": {},
     "output_type": "execute_result"
    }
   ],
   "source": [
    "nypd_df[\"Complaint Type\"].value_counts().head(5)"
   ]
  },
  {
   "cell_type": "markdown",
   "id": "e43f9c8a",
   "metadata": {},
   "source": [
    "**(2.6) Extract the hour from DatetimeIndex and add it as a new column named <code>Hour</code>.**"
   ]
  },
  {
   "cell_type": "code",
   "execution_count": 19,
   "id": "9c400d09",
   "metadata": {},
   "outputs": [
    {
     "data": {
      "text/html": [
       "<div>\n",
       "<style scoped>\n",
       "    .dataframe tbody tr th:only-of-type {\n",
       "        vertical-align: middle;\n",
       "    }\n",
       "\n",
       "    .dataframe tbody tr th {\n",
       "        vertical-align: top;\n",
       "    }\n",
       "\n",
       "    .dataframe thead th {\n",
       "        text-align: right;\n",
       "    }\n",
       "</style>\n",
       "<table border=\"1\" class=\"dataframe\">\n",
       "  <thead>\n",
       "    <tr style=\"text-align: right;\">\n",
       "      <th></th>\n",
       "      <th>Closed Date</th>\n",
       "      <th>Complaint Type</th>\n",
       "      <th>Hour</th>\n",
       "    </tr>\n",
       "    <tr>\n",
       "      <th>Created Date</th>\n",
       "      <th></th>\n",
       "      <th></th>\n",
       "      <th></th>\n",
       "    </tr>\n",
       "  </thead>\n",
       "  <tbody>\n",
       "    <tr>\n",
       "      <th>2013-10-04 00:00:10</th>\n",
       "      <td>10/04/2013 01:20:52 AM</td>\n",
       "      <td>Blocked Driveway</td>\n",
       "      <td>0</td>\n",
       "    </tr>\n",
       "    <tr>\n",
       "      <th>2013-10-04 00:00:28</th>\n",
       "      <td>10/04/2013 04:17:32 AM</td>\n",
       "      <td>Noise - Commercial</td>\n",
       "      <td>0</td>\n",
       "    </tr>\n",
       "    <tr>\n",
       "      <th>2013-10-04 00:00:45</th>\n",
       "      <td>10/04/2013 01:25:01 AM</td>\n",
       "      <td>Noise - Street/Sidewalk</td>\n",
       "      <td>0</td>\n",
       "    </tr>\n",
       "    <tr>\n",
       "      <th>2013-10-04 00:01:05</th>\n",
       "      <td>10/04/2013 02:13:50 AM</td>\n",
       "      <td>Illegal Parking</td>\n",
       "      <td>0</td>\n",
       "    </tr>\n",
       "    <tr>\n",
       "      <th>2013-10-04 00:03:00</th>\n",
       "      <td>10/04/2013 02:14:57 AM</td>\n",
       "      <td>Noise - Commercial</td>\n",
       "      <td>0</td>\n",
       "    </tr>\n",
       "  </tbody>\n",
       "</table>\n",
       "</div>"
      ],
      "text/plain": [
       "                                Closed Date           Complaint Type  Hour\n",
       "Created Date                                                              \n",
       "2013-10-04 00:00:10  10/04/2013 01:20:52 AM         Blocked Driveway     0\n",
       "2013-10-04 00:00:28  10/04/2013 04:17:32 AM       Noise - Commercial     0\n",
       "2013-10-04 00:00:45  10/04/2013 01:25:01 AM  Noise - Street/Sidewalk     0\n",
       "2013-10-04 00:01:05  10/04/2013 02:13:50 AM          Illegal Parking     0\n",
       "2013-10-04 00:03:00  10/04/2013 02:14:57 AM       Noise - Commercial     0"
      ]
     },
     "execution_count": 19,
     "metadata": {},
     "output_type": "execute_result"
    }
   ],
   "source": [
    "nypd_df[\"Hour\"] = nypd_df.index.hour\n",
    "nypd_df.head(5)"
   ]
  },
  {
   "cell_type": "markdown",
   "id": "ec594fc9",
   "metadata": {},
   "source": [
    "**(2.7) Use a heatmap to show the number of complaints of each complaint type at different times. What types of complaints are reported most at midnight?**"
   ]
  },
  {
   "cell_type": "code",
   "execution_count": 20,
   "id": "8492279c",
   "metadata": {},
   "outputs": [
    {
     "data": {
      "text/plain": [
       "<AxesSubplot:xlabel='Hour', ylabel='Complaint Type'>"
      ]
     },
     "execution_count": 20,
     "metadata": {},
     "output_type": "execute_result"
    },
    {
     "data": {
      "image/png": "[encoded data removed]",
      "text/plain": [
       "<Figure size 432x288 with 2 Axes>"
      ]
     },
     "metadata": {
      "needs_background": "light"
     },
     "output_type": "display_data"
    }
   ],
   "source": [
    "type_hr_ct = pd.crosstab(nypd_df[\"Complaint Type\"], nypd_df[\"Hour\"])\n",
    "sns.heatmap(type_hr_ct)"
   ]
  },
  {
   "cell_type": "markdown",
   "id": "213fc1b2",
   "metadata": {},
   "source": [
    "**Write you answer here:** Noise - Commercial\n",
    "    "
   ]
  }
 ],
 "metadata": {
  "kernelspec": {
   "display_name": "Python 3 (ipykernel)",
   "language": "python",
   "name": "python3"
  },
  "language_info": {
   "codemirror_mode": {
    "name": "ipython",
    "version": 3
   },
   "file_extension": ".py",
   "mimetype": "text/x-python",
   "name": "python",
   "nbconvert_exporter": "python",
   "pygments_lexer": "ipython3",
   "version": "3.9.7"
  }
 },
 "nbformat": 4,
 "nbformat_minor": 5
}
