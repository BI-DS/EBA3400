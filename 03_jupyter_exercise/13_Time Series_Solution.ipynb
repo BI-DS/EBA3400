{
 "cells": [
  {
   "cell_type": "markdown",
   "id": "11ca5efe",
   "metadata": {},
   "source": [
    "# Time Series"
   ]
  },
  {
   "cell_type": "code",
   "execution_count": 1,
   "id": "fcd6d2b2",
   "metadata": {},
   "outputs": [],
   "source": [
    "# import package\n",
    "import pandas as pd\n",
    "import seaborn as sns"
   ]
  },
  {
   "cell_type": "markdown",
   "id": "a7043fd8",
   "metadata": {},
   "source": [
    "## (1) Oslo city bike"
   ]
  },
  {
   "cell_type": "markdown",
   "id": "65071582",
   "metadata": {},
   "source": [
    "**(1.1) Download the August 2021 city bike data here https://oslobysykkel.no/en/open-data/historical. Import the dataset and set the column <code>started_at</code> as DatetimeIndex.**<br> \n",
    "(The description of each column can be found on the same page.)"
   ]
  },
  {
   "cell_type": "code",
   "execution_count": 2,
   "id": "c159e444",
   "metadata": {},
   "outputs": [
    {
     "data": {
      "text/html": [
       "<div>\n",
       "<style scoped>\n",
       "    .dataframe tbody tr th:only-of-type {\n",
       "        vertical-align: middle;\n",
       "    }\n",
       "\n",
       "    .dataframe tbody tr th {\n",
       "        vertical-align: top;\n",
       "    }\n",
       "\n",
       "    .dataframe thead th {\n",
       "        text-align: right;\n",
       "    }\n",
       "</style>\n",
       "<table border=\"1\" class=\"dataframe\">\n",
       "  <thead>\n",
       "    <tr style=\"text-align: right;\">\n",
       "      <th></th>\n",
       "      <th>ended_at</th>\n",
       "      <th>duration</th>\n",
       "      <th>start_station_id</th>\n",
       "      <th>start_station_name</th>\n",
       "      <th>start_station_description</th>\n",
       "      <th>start_station_latitude</th>\n",
       "      <th>start_station_longitude</th>\n",
       "      <th>end_station_id</th>\n",
       "      <th>end_station_name</th>\n",
       "      <th>end_station_description</th>\n",
       "      <th>end_station_latitude</th>\n",
       "      <th>end_station_longitude</th>\n",
       "    </tr>\n",
       "    <tr>\n",
       "      <th>started_at</th>\n",
       "      <th></th>\n",
       "      <th></th>\n",
       "      <th></th>\n",
       "      <th></th>\n",
       "      <th></th>\n",
       "      <th></th>\n",
       "      <th></th>\n",
       "      <th></th>\n",
       "      <th></th>\n",
       "      <th></th>\n",
       "      <th></th>\n",
       "      <th></th>\n",
       "    </tr>\n",
       "  </thead>\n",
       "  <tbody>\n",
       "    <tr>\n",
       "      <th>2021-08-01 03:02:57.720000+00:00</th>\n",
       "      <td>2021-08-01 03:12:52.597000+00:00</td>\n",
       "      <td>594</td>\n",
       "      <td>446</td>\n",
       "      <td>Bislett Stadion</td>\n",
       "      <td>ved rundkjøringen</td>\n",
       "      <td>59.925471</td>\n",
       "      <td>10.731219</td>\n",
       "      <td>459</td>\n",
       "      <td>Valkyrieplassen</td>\n",
       "      <td>ved Bogstadveien</td>\n",
       "      <td>59.928132</td>\n",
       "      <td>10.718420</td>\n",
       "    </tr>\n",
       "    <tr>\n",
       "      <th>2021-08-01 03:10:11.182000+00:00</th>\n",
       "      <td>2021-08-01 03:27:21.284000+00:00</td>\n",
       "      <td>1030</td>\n",
       "      <td>462</td>\n",
       "      <td>Stensparken</td>\n",
       "      <td>ved Sporveisgata</td>\n",
       "      <td>59.927140</td>\n",
       "      <td>10.730981</td>\n",
       "      <td>735</td>\n",
       "      <td>Oslo Hospital</td>\n",
       "      <td>ved trikkestoppet</td>\n",
       "      <td>59.903213</td>\n",
       "      <td>10.767344</td>\n",
       "    </tr>\n",
       "    <tr>\n",
       "      <th>2021-08-01 03:11:51.662000+00:00</th>\n",
       "      <td>2021-08-01 03:22:59.895000+00:00</td>\n",
       "      <td>668</td>\n",
       "      <td>624</td>\n",
       "      <td>Dælenenggata</td>\n",
       "      <td>ved Fagerheimgata</td>\n",
       "      <td>59.928750</td>\n",
       "      <td>10.767546</td>\n",
       "      <td>581</td>\n",
       "      <td>Jordalgata</td>\n",
       "      <td>ved Galgeberg busstopp</td>\n",
       "      <td>59.908227</td>\n",
       "      <td>10.781088</td>\n",
       "    </tr>\n",
       "    <tr>\n",
       "      <th>2021-08-01 03:19:27.151000+00:00</th>\n",
       "      <td>2021-08-01 03:42:37.826000+00:00</td>\n",
       "      <td>1390</td>\n",
       "      <td>391</td>\n",
       "      <td>St. Hanshaugen park vest</td>\n",
       "      <td>ved busstoppet Colletts gate</td>\n",
       "      <td>59.926871</td>\n",
       "      <td>10.738463</td>\n",
       "      <td>737</td>\n",
       "      <td>Munkegata</td>\n",
       "      <td>langs Oslo gate</td>\n",
       "      <td>59.908255</td>\n",
       "      <td>10.767800</td>\n",
       "    </tr>\n",
       "    <tr>\n",
       "      <th>2021-08-01 03:21:52.994000+00:00</th>\n",
       "      <td>2021-08-01 03:30:01.358000+00:00</td>\n",
       "      <td>488</td>\n",
       "      <td>499</td>\n",
       "      <td>Bjerregaards gate</td>\n",
       "      <td>ovenfor Fredrikke Qvams gate</td>\n",
       "      <td>59.925488</td>\n",
       "      <td>10.746058</td>\n",
       "      <td>475</td>\n",
       "      <td>Hausmanns bru</td>\n",
       "      <td>langs Nylandsveien</td>\n",
       "      <td>59.914651</td>\n",
       "      <td>10.759872</td>\n",
       "    </tr>\n",
       "  </tbody>\n",
       "</table>\n",
       "</div>"
      ],
      "text/plain": [
       "                                                          ended_at  duration  \\\n",
       "started_at                                                                     \n",
       "2021-08-01 03:02:57.720000+00:00  2021-08-01 03:12:52.597000+00:00       594   \n",
       "2021-08-01 03:10:11.182000+00:00  2021-08-01 03:27:21.284000+00:00      1030   \n",
       "2021-08-01 03:11:51.662000+00:00  2021-08-01 03:22:59.895000+00:00       668   \n",
       "2021-08-01 03:19:27.151000+00:00  2021-08-01 03:42:37.826000+00:00      1390   \n",
       "2021-08-01 03:21:52.994000+00:00  2021-08-01 03:30:01.358000+00:00       488   \n",
       "\n",
       "                                  start_station_id        start_station_name  \\\n",
       "started_at                                                                     \n",
       "2021-08-01 03:02:57.720000+00:00               446           Bislett Stadion   \n",
       "2021-08-01 03:10:11.182000+00:00               462               Stensparken   \n",
       "2021-08-01 03:11:51.662000+00:00               624              Dælenenggata   \n",
       "2021-08-01 03:19:27.151000+00:00               391  St. Hanshaugen park vest   \n",
       "2021-08-01 03:21:52.994000+00:00               499         Bjerregaards gate   \n",
       "\n",
       "                                     start_station_description  \\\n",
       "started_at                                                       \n",
       "2021-08-01 03:02:57.720000+00:00             ved rundkjøringen   \n",
       "2021-08-01 03:10:11.182000+00:00              ved Sporveisgata   \n",
       "2021-08-01 03:11:51.662000+00:00             ved Fagerheimgata   \n",
       "2021-08-01 03:19:27.151000+00:00  ved busstoppet Colletts gate   \n",
       "2021-08-01 03:21:52.994000+00:00  ovenfor Fredrikke Qvams gate   \n",
       "\n",
       "                                  start_station_latitude  \\\n",
       "started_at                                                 \n",
       "2021-08-01 03:02:57.720000+00:00               59.925471   \n",
       "2021-08-01 03:10:11.182000+00:00               59.927140   \n",
       "2021-08-01 03:11:51.662000+00:00               59.928750   \n",
       "2021-08-01 03:19:27.151000+00:00               59.926871   \n",
       "2021-08-01 03:21:52.994000+00:00               59.925488   \n",
       "\n",
       "                                  start_station_longitude  end_station_id  \\\n",
       "started_at                                                                  \n",
       "2021-08-01 03:02:57.720000+00:00                10.731219             459   \n",
       "2021-08-01 03:10:11.182000+00:00                10.730981             735   \n",
       "2021-08-01 03:11:51.662000+00:00                10.767546             581   \n",
       "2021-08-01 03:19:27.151000+00:00                10.738463             737   \n",
       "2021-08-01 03:21:52.994000+00:00                10.746058             475   \n",
       "\n",
       "                                 end_station_name end_station_description  \\\n",
       "started_at                                                                  \n",
       "2021-08-01 03:02:57.720000+00:00  Valkyrieplassen        ved Bogstadveien   \n",
       "2021-08-01 03:10:11.182000+00:00    Oslo Hospital       ved trikkestoppet   \n",
       "2021-08-01 03:11:51.662000+00:00       Jordalgata  ved Galgeberg busstopp   \n",
       "2021-08-01 03:19:27.151000+00:00        Munkegata         langs Oslo gate   \n",
       "2021-08-01 03:21:52.994000+00:00    Hausmanns bru      langs Nylandsveien   \n",
       "\n",
       "                                  end_station_latitude  end_station_longitude  \n",
       "started_at                                                                     \n",
       "2021-08-01 03:02:57.720000+00:00             59.928132              10.718420  \n",
       "2021-08-01 03:10:11.182000+00:00             59.903213              10.767344  \n",
       "2021-08-01 03:11:51.662000+00:00             59.908227              10.781088  \n",
       "2021-08-01 03:19:27.151000+00:00             59.908255              10.767800  \n",
       "2021-08-01 03:21:52.994000+00:00             59.914651              10.759872  "
      ]
     },
     "execution_count": 2,
     "metadata": {},
     "output_type": "execute_result"
    }
   ],
   "source": [
    "# put your code here\n",
    "bike_raw_df = pd.read_csv(\"../dataset/oslo_bike.csv\", parse_dates = [\"started_at\"], index_col  = [0])\n",
    "bike_raw_df.head(5)"
   ]
  },
  {
   "cell_type": "markdown",
   "id": "84630c37",
   "metadata": {},
   "source": [
    "**(1.2) Select a subset with two columns: <code>duration</code> and <code>start_station_name</code>. Use this subset to solve the following tasks.**<br>\n",
    "Hint: <code>copy()</code>"
   ]
  },
  {
   "cell_type": "code",
   "execution_count": 3,
   "id": "de964714",
   "metadata": {},
   "outputs": [
    {
     "data": {
      "text/html": [
       "<div>\n",
       "<style scoped>\n",
       "    .dataframe tbody tr th:only-of-type {\n",
       "        vertical-align: middle;\n",
       "    }\n",
       "\n",
       "    .dataframe tbody tr th {\n",
       "        vertical-align: top;\n",
       "    }\n",
       "\n",
       "    .dataframe thead th {\n",
       "        text-align: right;\n",
       "    }\n",
       "</style>\n",
       "<table border=\"1\" class=\"dataframe\">\n",
       "  <thead>\n",
       "    <tr style=\"text-align: right;\">\n",
       "      <th></th>\n",
       "      <th>duration</th>\n",
       "      <th>start_station_name</th>\n",
       "    </tr>\n",
       "    <tr>\n",
       "      <th>started_at</th>\n",
       "      <th></th>\n",
       "      <th></th>\n",
       "    </tr>\n",
       "  </thead>\n",
       "  <tbody>\n",
       "    <tr>\n",
       "      <th>2021-08-01 03:02:57.720000+00:00</th>\n",
       "      <td>594</td>\n",
       "      <td>Bislett Stadion</td>\n",
       "    </tr>\n",
       "    <tr>\n",
       "      <th>2021-08-01 03:10:11.182000+00:00</th>\n",
       "      <td>1030</td>\n",
       "      <td>Stensparken</td>\n",
       "    </tr>\n",
       "    <tr>\n",
       "      <th>2021-08-01 03:11:51.662000+00:00</th>\n",
       "      <td>668</td>\n",
       "      <td>Dælenenggata</td>\n",
       "    </tr>\n",
       "    <tr>\n",
       "      <th>2021-08-01 03:19:27.151000+00:00</th>\n",
       "      <td>1390</td>\n",
       "      <td>St. Hanshaugen park vest</td>\n",
       "    </tr>\n",
       "    <tr>\n",
       "      <th>2021-08-01 03:21:52.994000+00:00</th>\n",
       "      <td>488</td>\n",
       "      <td>Bjerregaards gate</td>\n",
       "    </tr>\n",
       "  </tbody>\n",
       "</table>\n",
       "</div>"
      ],
      "text/plain": [
       "                                  duration        start_station_name\n",
       "started_at                                                          \n",
       "2021-08-01 03:02:57.720000+00:00       594           Bislett Stadion\n",
       "2021-08-01 03:10:11.182000+00:00      1030               Stensparken\n",
       "2021-08-01 03:11:51.662000+00:00       668              Dælenenggata\n",
       "2021-08-01 03:19:27.151000+00:00      1390  St. Hanshaugen park vest\n",
       "2021-08-01 03:21:52.994000+00:00       488         Bjerregaards gate"
      ]
     },
     "execution_count": 3,
     "metadata": {},
     "output_type": "execute_result"
    }
   ],
   "source": [
    "# put your code here\n",
    "bike_df = bike_raw_df[[\"duration\", \"start_station_name\"]].copy()\n",
    "bike_df.head(5)"
   ]
  },
  {
   "cell_type": "markdown",
   "id": "737a1a56",
   "metadata": {},
   "source": [
    "**(1.3) Show the riding time for each trip between 8 a.m. and 11 a.m. on August 10.**<br>\n",
    "Hint: Use column <code>duration</code><br>\n",
    "Setting: figsize = (18,3)"
   ]
  },
  {
   "cell_type": "code",
   "execution_count": 4,
   "id": "a334bcce",
   "metadata": {},
   "outputs": [
    {
     "data": {
      "text/plain": [
       "<AxesSubplot:xlabel='started_at'>"
      ]
     },
     "execution_count": 4,
     "metadata": {},
     "output_type": "execute_result"
    },
    {
     "data": {
      "image/png": "[encoded data removed]",
      "text/plain": [
       "<Figure size 1296x216 with 1 Axes>"
      ]
     },
     "metadata": {
      "needs_background": "light"
     },
     "output_type": "display_data"
    }
   ],
   "source": [
    "# put your code here\n",
    "bike_df.loc[\"2021-08-10 08:00\":\"2021-08-10 11:00\",\"duration\"].plot(figsize = (18,3))"
   ]
  },
  {
   "cell_type": "markdown",
   "id": "b0bf3248",
   "metadata": {},
   "source": [
    "**(1.4) How many trips departed from <code>Olaf Ryes plass</code> Station on August 10?**"
   ]
  },
  {
   "cell_type": "code",
   "execution_count": 5,
   "id": "e319680a",
   "metadata": {},
   "outputs": [
    {
     "data": {
      "text/plain": [
       "80"
      ]
     },
     "execution_count": 5,
     "metadata": {},
     "output_type": "execute_result"
    }
   ],
   "source": [
    "# put your code here\n",
    "bike_df[bike_df.start_station_name == \"Olaf Ryes plass\"].loc[\"2021-08-10\",:].shape[0]"
   ]
  },
  {
   "cell_type": "markdown",
   "id": "7e5c5cce",
   "metadata": {},
   "source": [
    "**(1.5) Calculate the total riding time per day. Use a horizontal bar chart to display the result.**"
   ]
  },
  {
   "cell_type": "code",
   "execution_count": 6,
   "id": "4cdbcc23",
   "metadata": {},
   "outputs": [
    {
     "data": {
      "text/plain": [
       "<AxesSubplot:ylabel='started_at'>"
      ]
     },
     "execution_count": 6,
     "metadata": {},
     "output_type": "execute_result"
    },
    {
     "data": {
      "image/png": "[encoded data removed]",
      "text/plain": [
       "<Figure size 432x288 with 1 Axes>"
      ]
     },
     "metadata": {
      "needs_background": "light"
     },
     "output_type": "display_data"
    }
   ],
   "source": [
    "# put your code here\n",
    "bike_df.resample(\"D\").sum().plot(kind = \"barh\")"
   ]
  },
  {
   "cell_type": "markdown",
   "id": "4588231e",
   "metadata": {},
   "source": [
    "**(1.5) Extract the day of the week from the DatetimeIndex and add it a as new column named <code>weekday</code>.**"
   ]
  },
  {
   "cell_type": "code",
   "execution_count": 7,
   "id": "d1a212a0",
   "metadata": {},
   "outputs": [
    {
     "data": {
      "text/html": [
       "<div>\n",
       "<style scoped>\n",
       "    .dataframe tbody tr th:only-of-type {\n",
       "        vertical-align: middle;\n",
       "    }\n",
       "\n",
       "    .dataframe tbody tr th {\n",
       "        vertical-align: top;\n",
       "    }\n",
       "\n",
       "    .dataframe thead th {\n",
       "        text-align: right;\n",
       "    }\n",
       "</style>\n",
       "<table border=\"1\" class=\"dataframe\">\n",
       "  <thead>\n",
       "    <tr style=\"text-align: right;\">\n",
       "      <th></th>\n",
       "      <th>duration</th>\n",
       "      <th>start_station_name</th>\n",
       "      <th>weekday</th>\n",
       "    </tr>\n",
       "    <tr>\n",
       "      <th>started_at</th>\n",
       "      <th></th>\n",
       "      <th></th>\n",
       "      <th></th>\n",
       "    </tr>\n",
       "  </thead>\n",
       "  <tbody>\n",
       "    <tr>\n",
       "      <th>2021-08-01 03:02:57.720000+00:00</th>\n",
       "      <td>594</td>\n",
       "      <td>Bislett Stadion</td>\n",
       "      <td>Sunday</td>\n",
       "    </tr>\n",
       "    <tr>\n",
       "      <th>2021-08-01 03:10:11.182000+00:00</th>\n",
       "      <td>1030</td>\n",
       "      <td>Stensparken</td>\n",
       "      <td>Sunday</td>\n",
       "    </tr>\n",
       "    <tr>\n",
       "      <th>2021-08-01 03:11:51.662000+00:00</th>\n",
       "      <td>668</td>\n",
       "      <td>Dælenenggata</td>\n",
       "      <td>Sunday</td>\n",
       "    </tr>\n",
       "    <tr>\n",
       "      <th>2021-08-01 03:19:27.151000+00:00</th>\n",
       "      <td>1390</td>\n",
       "      <td>St. Hanshaugen park vest</td>\n",
       "      <td>Sunday</td>\n",
       "    </tr>\n",
       "    <tr>\n",
       "      <th>2021-08-01 03:21:52.994000+00:00</th>\n",
       "      <td>488</td>\n",
       "      <td>Bjerregaards gate</td>\n",
       "      <td>Sunday</td>\n",
       "    </tr>\n",
       "  </tbody>\n",
       "</table>\n",
       "</div>"
      ],
      "text/plain": [
       "                                  duration        start_station_name weekday\n",
       "started_at                                                                  \n",
       "2021-08-01 03:02:57.720000+00:00       594           Bislett Stadion  Sunday\n",
       "2021-08-01 03:10:11.182000+00:00      1030               Stensparken  Sunday\n",
       "2021-08-01 03:11:51.662000+00:00       668              Dælenenggata  Sunday\n",
       "2021-08-01 03:19:27.151000+00:00      1390  St. Hanshaugen park vest  Sunday\n",
       "2021-08-01 03:21:52.994000+00:00       488         Bjerregaards gate  Sunday"
      ]
     },
     "execution_count": 7,
     "metadata": {},
     "output_type": "execute_result"
    }
   ],
   "source": [
    "# put your code here\n",
    "bike_df[\"weekday\"] = bike_df.index.day_name()\n",
    "bike_df.head(5)"
   ]
  },
  {
   "cell_type": "markdown",
   "id": "94fc2dcb",
   "metadata": {},
   "source": [
    "**(1.6) Group the data from Auguest 1 to 28 by the column <code>weekday</code>. Calcuate the number of trips for each group. Which day of the week has the most trips?**"
   ]
  },
  {
   "cell_type": "code",
   "execution_count": 8,
   "id": "39a0f8d5",
   "metadata": {},
   "outputs": [
    {
     "data": {
      "text/plain": [
       "weekday\n",
       "Friday       26194\n",
       "Monday       27157\n",
       "Saturday     20297\n",
       "Sunday       15411\n",
       "Thursday     28360\n",
       "Tuesday      28598\n",
       "Wednesday    28433\n",
       "dtype: int64"
      ]
     },
     "execution_count": 8,
     "metadata": {},
     "output_type": "execute_result"
    }
   ],
   "source": [
    "# put your code here\n",
    "bike_df.loc[\"2021-08-01\":\"2021-08-28\",:].groupby(\"weekday\").size()"
   ]
  },
  {
   "cell_type": "markdown",
   "id": "c41321c2",
   "metadata": {},
   "source": [
    "**Write you answer here:** Tuesday \n",
    "    "
   ]
  },
  {
   "cell_type": "markdown",
   "id": "5ec7d816",
   "metadata": {},
   "source": [
    "**(1.7) Which day of the week has the longest average riding time?**<br>\n",
    "Hint: Use the data from Auguest 1 to 28."
   ]
  },
  {
   "cell_type": "code",
   "execution_count": 9,
   "id": "b40f2bf6",
   "metadata": {},
   "outputs": [
    {
     "data": {
      "text/html": [
       "<div>\n",
       "<style scoped>\n",
       "    .dataframe tbody tr th:only-of-type {\n",
       "        vertical-align: middle;\n",
       "    }\n",
       "\n",
       "    .dataframe tbody tr th {\n",
       "        vertical-align: top;\n",
       "    }\n",
       "\n",
       "    .dataframe thead th {\n",
       "        text-align: right;\n",
       "    }\n",
       "</style>\n",
       "<table border=\"1\" class=\"dataframe\">\n",
       "  <thead>\n",
       "    <tr style=\"text-align: right;\">\n",
       "      <th></th>\n",
       "      <th>duration</th>\n",
       "    </tr>\n",
       "    <tr>\n",
       "      <th>weekday</th>\n",
       "      <th></th>\n",
       "    </tr>\n",
       "  </thead>\n",
       "  <tbody>\n",
       "    <tr>\n",
       "      <th>Friday</th>\n",
       "      <td>731.788463</td>\n",
       "    </tr>\n",
       "    <tr>\n",
       "      <th>Monday</th>\n",
       "      <td>760.088338</td>\n",
       "    </tr>\n",
       "    <tr>\n",
       "      <th>Saturday</th>\n",
       "      <td>901.435877</td>\n",
       "    </tr>\n",
       "    <tr>\n",
       "      <th>Sunday</th>\n",
       "      <td>922.493803</td>\n",
       "    </tr>\n",
       "    <tr>\n",
       "      <th>Thursday</th>\n",
       "      <td>739.593441</td>\n",
       "    </tr>\n",
       "    <tr>\n",
       "      <th>Tuesday</th>\n",
       "      <td>755.376005</td>\n",
       "    </tr>\n",
       "    <tr>\n",
       "      <th>Wednesday</th>\n",
       "      <td>754.030000</td>\n",
       "    </tr>\n",
       "  </tbody>\n",
       "</table>\n",
       "</div>"
      ],
      "text/plain": [
       "             duration\n",
       "weekday              \n",
       "Friday     731.788463\n",
       "Monday     760.088338\n",
       "Saturday   901.435877\n",
       "Sunday     922.493803\n",
       "Thursday   739.593441\n",
       "Tuesday    755.376005\n",
       "Wednesday  754.030000"
      ]
     },
     "execution_count": 9,
     "metadata": {},
     "output_type": "execute_result"
    }
   ],
   "source": [
    "# put your code here\n",
    "bike_df.loc[\"2021-08-01\":\"2021-08-28\",:].groupby(\"weekday\").mean()"
   ]
  },
  {
   "cell_type": "markdown",
   "id": "a9768dcd",
   "metadata": {},
   "source": [
    "**Write you answer here:** Sunday\n",
    "    "
   ]
  },
  {
   "cell_type": "markdown",
   "id": "d638c724",
   "metadata": {},
   "source": [
    "**(1.8) Count the number of departures from the following stations on each day of the week in August.**<br>\n",
    "<code>Alexander Kiellands Plass, Ringnes Park, Olaf Ryes plass, Tøyen skole, Bislett Stadion, Jernbanetorget, BI Nydalen.</code>   \n",
    "Expected result:"
   ]
  },
  {
   "cell_type": "markdown",
   "id": "57cdd731",
   "metadata": {},
   "source": [
    "||Monday|Tuesday|Wednesday|Thursday|Friday|Saturday|Sunday|\n",
    "|-:-|-:-|-:-|-:-|-:-|-:-|-:-|-:-|\n",
    "|**Alexander Kiellands Plass**|473|512|...|...|...|...|...|   \n",
    "|**BI Nydalen**|238|...|...|...|...|...|...|   \n",
    "|**Bislett Stadion**|...|...|...|...|...|...|     \n",
    "|**Jernbanetorget**|...|...|...|...|...|...|     \n",
    "|**Olaf Ryes plass**|...|...|...|...|...|...|    \n",
    "|**Ringnes Park**|...|...|...|...|...|...|    \n",
    "|**Tøyen skole**|...|...|...|...|...|...|    "
   ]
  },
  {
   "cell_type": "code",
   "execution_count": 10,
   "id": "c276b0e1",
   "metadata": {},
   "outputs": [
    {
     "data": {
      "text/html": [
       "<div>\n",
       "<style scoped>\n",
       "    .dataframe tbody tr th:only-of-type {\n",
       "        vertical-align: middle;\n",
       "    }\n",
       "\n",
       "    .dataframe tbody tr th {\n",
       "        vertical-align: top;\n",
       "    }\n",
       "\n",
       "    .dataframe thead th {\n",
       "        text-align: right;\n",
       "    }\n",
       "</style>\n",
       "<table border=\"1\" class=\"dataframe\">\n",
       "  <thead>\n",
       "    <tr style=\"text-align: right;\">\n",
       "      <th>weekday</th>\n",
       "      <th>Monday</th>\n",
       "      <th>Tuesday</th>\n",
       "      <th>Wednesday</th>\n",
       "      <th>Thursday</th>\n",
       "      <th>Friday</th>\n",
       "      <th>Saturday</th>\n",
       "      <th>Sunday</th>\n",
       "    </tr>\n",
       "    <tr>\n",
       "      <th>start_station_name</th>\n",
       "      <th></th>\n",
       "      <th></th>\n",
       "      <th></th>\n",
       "      <th></th>\n",
       "      <th></th>\n",
       "      <th></th>\n",
       "      <th></th>\n",
       "    </tr>\n",
       "  </thead>\n",
       "  <tbody>\n",
       "    <tr>\n",
       "      <th>Alexander Kiellands Plass</th>\n",
       "      <td>473</td>\n",
       "      <td>512</td>\n",
       "      <td>463</td>\n",
       "      <td>415</td>\n",
       "      <td>403</td>\n",
       "      <td>284</td>\n",
       "      <td>240</td>\n",
       "    </tr>\n",
       "    <tr>\n",
       "      <th>BI Nydalen</th>\n",
       "      <td>238</td>\n",
       "      <td>230</td>\n",
       "      <td>168</td>\n",
       "      <td>183</td>\n",
       "      <td>149</td>\n",
       "      <td>114</td>\n",
       "      <td>195</td>\n",
       "    </tr>\n",
       "    <tr>\n",
       "      <th>Bislett Stadion</th>\n",
       "      <td>356</td>\n",
       "      <td>391</td>\n",
       "      <td>285</td>\n",
       "      <td>355</td>\n",
       "      <td>300</td>\n",
       "      <td>201</td>\n",
       "      <td>186</td>\n",
       "    </tr>\n",
       "    <tr>\n",
       "      <th>Jernbanetorget</th>\n",
       "      <td>279</td>\n",
       "      <td>309</td>\n",
       "      <td>249</td>\n",
       "      <td>269</td>\n",
       "      <td>237</td>\n",
       "      <td>171</td>\n",
       "      <td>193</td>\n",
       "    </tr>\n",
       "    <tr>\n",
       "      <th>Olaf Ryes plass</th>\n",
       "      <td>372</td>\n",
       "      <td>455</td>\n",
       "      <td>367</td>\n",
       "      <td>347</td>\n",
       "      <td>329</td>\n",
       "      <td>325</td>\n",
       "      <td>273</td>\n",
       "    </tr>\n",
       "    <tr>\n",
       "      <th>Ringnes Park</th>\n",
       "      <td>458</td>\n",
       "      <td>487</td>\n",
       "      <td>396</td>\n",
       "      <td>389</td>\n",
       "      <td>364</td>\n",
       "      <td>286</td>\n",
       "      <td>251</td>\n",
       "    </tr>\n",
       "    <tr>\n",
       "      <th>Tøyen skole</th>\n",
       "      <td>403</td>\n",
       "      <td>419</td>\n",
       "      <td>310</td>\n",
       "      <td>337</td>\n",
       "      <td>286</td>\n",
       "      <td>213</td>\n",
       "      <td>236</td>\n",
       "    </tr>\n",
       "  </tbody>\n",
       "</table>\n",
       "</div>"
      ],
      "text/plain": [
       "weekday                    Monday  Tuesday  Wednesday  Thursday  Friday  \\\n",
       "start_station_name                                                        \n",
       "Alexander Kiellands Plass     473      512        463       415     403   \n",
       "BI Nydalen                    238      230        168       183     149   \n",
       "Bislett Stadion               356      391        285       355     300   \n",
       "Jernbanetorget                279      309        249       269     237   \n",
       "Olaf Ryes plass               372      455        367       347     329   \n",
       "Ringnes Park                  458      487        396       389     364   \n",
       "Tøyen skole                   403      419        310       337     286   \n",
       "\n",
       "weekday                    Saturday  Sunday  \n",
       "start_station_name                           \n",
       "Alexander Kiellands Plass       284     240  \n",
       "BI Nydalen                      114     195  \n",
       "Bislett Stadion                 201     186  \n",
       "Jernbanetorget                  171     193  \n",
       "Olaf Ryes plass                 325     273  \n",
       "Ringnes Park                    286     251  \n",
       "Tøyen skole                     213     236  "
      ]
     },
     "execution_count": 10,
     "metadata": {},
     "output_type": "execute_result"
    }
   ],
   "source": [
    "# put your code here\n",
    "bike_df_sub = bike_df[bike_df.start_station_name.isin([\"Alexander Kiellands Plass\", \"Ringnes Park\", \"Olaf Ryes plass\", \"Tøyen skole\", \"Bislett Stadion\", \"Jernbanetorget\", \"BI Nydalen\"])]\n",
    "bike_ct = pd.crosstab(bike_df_sub[\"start_station_name\"], bike_df_sub[\"weekday\"])\n",
    "bike_ct = bike_ct[[\"Monday\",\"Tuesday\",\"Wednesday\",\"Thursday\",\"Friday\",\"Saturday\",\"Sunday\"]]\n",
    "bike_ct"
   ]
  },
  {
   "cell_type": "markdown",
   "id": "a7a16116",
   "metadata": {},
   "source": [
    "**(1.9) Use a heatmap to display the result obtained in (1.8). List the two stations with the most trips on Tuesday.**"
   ]
  },
  {
   "cell_type": "code",
   "execution_count": 11,
   "id": "75b489db",
   "metadata": {},
   "outputs": [
    {
     "data": {
      "text/plain": [
       "<AxesSubplot:xlabel='weekday', ylabel='start_station_name'>"
      ]
     },
     "execution_count": 11,
     "metadata": {},
     "output_type": "execute_result"
    },
    {
     "data": {
      "image/png": "[encoded data removed]",
      "text/plain": [
       "<Figure size 432x288 with 2 Axes>"
      ]
     },
     "metadata": {
      "needs_background": "light"
     },
     "output_type": "display_data"
    }
   ],
   "source": [
    "# put your code here\n",
    "sns.heatmap(bike_ct)"
   ]
  },
  {
   "cell_type": "markdown",
   "id": "936bc89c",
   "metadata": {},
   "source": [
    "**Write you answer here:** \"Alexander Kiellands Plass\" and \"Ringnes Park\"\n",
    "    "
   ]
  },
  {
   "cell_type": "markdown",
   "id": "cfb5daed",
   "metadata": {},
   "source": [
    "**(1.10) Calculate the number of trips in each hour on August 10.**"
   ]
  },
  {
   "cell_type": "code",
   "execution_count": 12,
   "id": "ce188ee2",
   "metadata": {},
   "outputs": [
    {
     "data": {
      "text/plain": [
       "started_at\n",
       "2021-08-10 03:00:00+00:00     26\n",
       "2021-08-10 04:00:00+00:00    135\n",
       "2021-08-10 05:00:00+00:00    540\n",
       "2021-08-10 06:00:00+00:00    715\n",
       "2021-08-10 07:00:00+00:00    315\n",
       "2021-08-10 08:00:00+00:00    182\n",
       "2021-08-10 09:00:00+00:00    245\n",
       "2021-08-10 10:00:00+00:00    256\n",
       "2021-08-10 11:00:00+00:00    315\n",
       "2021-08-10 12:00:00+00:00    387\n",
       "2021-08-10 13:00:00+00:00    550\n",
       "2021-08-10 14:00:00+00:00    882\n",
       "2021-08-10 15:00:00+00:00    691\n",
       "2021-08-10 16:00:00+00:00    531\n",
       "2021-08-10 17:00:00+00:00    460\n",
       "2021-08-10 18:00:00+00:00    390\n",
       "2021-08-10 19:00:00+00:00    319\n",
       "2021-08-10 20:00:00+00:00    213\n",
       "2021-08-10 21:00:00+00:00    112\n",
       "2021-08-10 22:00:00+00:00     61\n",
       "Freq: H, dtype: int64"
      ]
     },
     "execution_count": 12,
     "metadata": {},
     "output_type": "execute_result"
    }
   ],
   "source": [
    "# put your code here\n",
    "bike_df.loc[\"2021-08-10\"].resample(\"H\").size()"
   ]
  },
  {
   "cell_type": "markdown",
   "id": "9bda7b47",
   "metadata": {},
   "source": [
    "**(1.11) Use a horizontal bar chart to display the result obtained in (1.10).**"
   ]
  },
  {
   "cell_type": "code",
   "execution_count": 13,
   "id": "b293ba16",
   "metadata": {},
   "outputs": [
    {
     "data": {
      "text/plain": [
       "<AxesSubplot:ylabel='started_at'>"
      ]
     },
     "execution_count": 13,
     "metadata": {},
     "output_type": "execute_result"
    },
    {
     "data": {
      "image/png": "[encoded data removed]",
      "text/plain": [
       "<Figure size 432x288 with 1 Axes>"
      ]
     },
     "metadata": {
      "needs_background": "light"
     },
     "output_type": "display_data"
    }
   ],
   "source": [
    "# put your code here\n",
    "bike_df.loc[\"2021-08-10\"].resample(\"H\").size().plot(kind=\"barh\")"
   ]
  },
  {
   "cell_type": "markdown",
   "id": "3862d386",
   "metadata": {},
   "source": [
    "## (2) Complains\n",
    "In the US, 311 is a non-emergency phone number that people can call in many cities to find information about services, make complaints, or report problems like graffiti or road damage.\n"
   ]
  },
  {
   "cell_type": "markdown",
   "id": "1c48312c",
   "metadata": {},
   "source": [
    "**(2.1) Import the dataset <code>complaints.csv</code>. Set the column <code>Created Date</code> as DatetimeIndex.**<br>"
   ]
  },
  {
   "cell_type": "code",
   "execution_count": 14,
   "id": "be1caef8",
   "metadata": {},
   "outputs": [
    {
     "name": "stderr",
     "output_type": "stream",
     "text": [
      "C:\\BI-Apps\\Anaconda3\\lib\\site-packages\\IPython\\core\\interactiveshell.py:3165: DtypeWarning: Columns (8) have mixed types.Specify dtype option on import or set low_memory=False.\n",
      "  has_raised = await self.run_ast_nodes(code_ast.body, cell_name,\n"
     ]
    },
    {
     "data": {
      "text/html": [
       "<div>\n",
       "<style scoped>\n",
       "    .dataframe tbody tr th:only-of-type {\n",
       "        vertical-align: middle;\n",
       "    }\n",
       "\n",
       "    .dataframe tbody tr th {\n",
       "        vertical-align: top;\n",
       "    }\n",
       "\n",
       "    .dataframe thead th {\n",
       "        text-align: right;\n",
       "    }\n",
       "</style>\n",
       "<table border=\"1\" class=\"dataframe\">\n",
       "  <thead>\n",
       "    <tr style=\"text-align: right;\">\n",
       "      <th></th>\n",
       "      <th>Unique Key</th>\n",
       "      <th>Closed Date</th>\n",
       "      <th>Agency</th>\n",
       "      <th>Agency Name</th>\n",
       "      <th>Complaint Type</th>\n",
       "      <th>Descriptor</th>\n",
       "      <th>Location Type</th>\n",
       "      <th>Incident Zip</th>\n",
       "      <th>Incident Address</th>\n",
       "      <th>Street Name</th>\n",
       "      <th>...</th>\n",
       "      <th>Bridge Highway Name</th>\n",
       "      <th>Bridge Highway Direction</th>\n",
       "      <th>Road Ramp</th>\n",
       "      <th>Bridge Highway Segment</th>\n",
       "      <th>Garage Lot Name</th>\n",
       "      <th>Ferry Direction</th>\n",
       "      <th>Ferry Terminal Name</th>\n",
       "      <th>Latitude</th>\n",
       "      <th>Longitude</th>\n",
       "      <th>Location</th>\n",
       "    </tr>\n",
       "    <tr>\n",
       "      <th>Created Date</th>\n",
       "      <th></th>\n",
       "      <th></th>\n",
       "      <th></th>\n",
       "      <th></th>\n",
       "      <th></th>\n",
       "      <th></th>\n",
       "      <th></th>\n",
       "      <th></th>\n",
       "      <th></th>\n",
       "      <th></th>\n",
       "      <th></th>\n",
       "      <th></th>\n",
       "      <th></th>\n",
       "      <th></th>\n",
       "      <th></th>\n",
       "      <th></th>\n",
       "      <th></th>\n",
       "      <th></th>\n",
       "      <th></th>\n",
       "      <th></th>\n",
       "      <th></th>\n",
       "    </tr>\n",
       "  </thead>\n",
       "  <tbody>\n",
       "    <tr>\n",
       "      <th>2013-10-31 02:08:41</th>\n",
       "      <td>26589651</td>\n",
       "      <td>NaN</td>\n",
       "      <td>NYPD</td>\n",
       "      <td>New York City Police Department</td>\n",
       "      <td>Noise - Street/Sidewalk</td>\n",
       "      <td>Loud Talking</td>\n",
       "      <td>Street/Sidewalk</td>\n",
       "      <td>11432.0</td>\n",
       "      <td>90-03 169 STREET</td>\n",
       "      <td>169 STREET</td>\n",
       "      <td>...</td>\n",
       "      <td>NaN</td>\n",
       "      <td>NaN</td>\n",
       "      <td>NaN</td>\n",
       "      <td>NaN</td>\n",
       "      <td>NaN</td>\n",
       "      <td>NaN</td>\n",
       "      <td>NaN</td>\n",
       "      <td>40.708275</td>\n",
       "      <td>-73.791604</td>\n",
       "      <td>(40.70827532593202, -73.79160395779721)</td>\n",
       "    </tr>\n",
       "    <tr>\n",
       "      <th>2013-10-31 02:01:04</th>\n",
       "      <td>26593698</td>\n",
       "      <td>NaN</td>\n",
       "      <td>NYPD</td>\n",
       "      <td>New York City Police Department</td>\n",
       "      <td>Illegal Parking</td>\n",
       "      <td>Commercial Overnight Parking</td>\n",
       "      <td>Street/Sidewalk</td>\n",
       "      <td>11378.0</td>\n",
       "      <td>58 AVENUE</td>\n",
       "      <td>58 AVENUE</td>\n",
       "      <td>...</td>\n",
       "      <td>NaN</td>\n",
       "      <td>NaN</td>\n",
       "      <td>NaN</td>\n",
       "      <td>NaN</td>\n",
       "      <td>NaN</td>\n",
       "      <td>NaN</td>\n",
       "      <td>NaN</td>\n",
       "      <td>40.721041</td>\n",
       "      <td>-73.909453</td>\n",
       "      <td>(40.721040535628305, -73.90945306791765)</td>\n",
       "    </tr>\n",
       "    <tr>\n",
       "      <th>2013-10-31 02:00:24</th>\n",
       "      <td>26594139</td>\n",
       "      <td>10/31/2013 02:40:32 AM</td>\n",
       "      <td>NYPD</td>\n",
       "      <td>New York City Police Department</td>\n",
       "      <td>Noise - Commercial</td>\n",
       "      <td>Loud Music/Party</td>\n",
       "      <td>Club/Bar/Restaurant</td>\n",
       "      <td>10032.0</td>\n",
       "      <td>4060 BROADWAY</td>\n",
       "      <td>BROADWAY</td>\n",
       "      <td>...</td>\n",
       "      <td>NaN</td>\n",
       "      <td>NaN</td>\n",
       "      <td>NaN</td>\n",
       "      <td>NaN</td>\n",
       "      <td>NaN</td>\n",
       "      <td>NaN</td>\n",
       "      <td>NaN</td>\n",
       "      <td>40.843330</td>\n",
       "      <td>-73.939144</td>\n",
       "      <td>(40.84332975466513, -73.93914371913482)</td>\n",
       "    </tr>\n",
       "    <tr>\n",
       "      <th>2013-10-31 01:56:23</th>\n",
       "      <td>26595721</td>\n",
       "      <td>10/31/2013 02:21:48 AM</td>\n",
       "      <td>NYPD</td>\n",
       "      <td>New York City Police Department</td>\n",
       "      <td>Noise - Vehicle</td>\n",
       "      <td>Car/Truck Horn</td>\n",
       "      <td>Street/Sidewalk</td>\n",
       "      <td>10023.0</td>\n",
       "      <td>WEST 72 STREET</td>\n",
       "      <td>WEST 72 STREET</td>\n",
       "      <td>...</td>\n",
       "      <td>NaN</td>\n",
       "      <td>NaN</td>\n",
       "      <td>NaN</td>\n",
       "      <td>NaN</td>\n",
       "      <td>NaN</td>\n",
       "      <td>NaN</td>\n",
       "      <td>NaN</td>\n",
       "      <td>40.778009</td>\n",
       "      <td>-73.980213</td>\n",
       "      <td>(40.7780087446372, -73.98021349023975)</td>\n",
       "    </tr>\n",
       "    <tr>\n",
       "      <th>2013-10-31 01:53:44</th>\n",
       "      <td>26590930</td>\n",
       "      <td>NaN</td>\n",
       "      <td>DOHMH</td>\n",
       "      <td>Department of Health and Mental Hygiene</td>\n",
       "      <td>Rodent</td>\n",
       "      <td>Condition Attracting Rodents</td>\n",
       "      <td>Vacant Lot</td>\n",
       "      <td>10027.0</td>\n",
       "      <td>WEST 124 STREET</td>\n",
       "      <td>WEST 124 STREET</td>\n",
       "      <td>...</td>\n",
       "      <td>NaN</td>\n",
       "      <td>NaN</td>\n",
       "      <td>NaN</td>\n",
       "      <td>NaN</td>\n",
       "      <td>NaN</td>\n",
       "      <td>NaN</td>\n",
       "      <td>NaN</td>\n",
       "      <td>40.807691</td>\n",
       "      <td>-73.947387</td>\n",
       "      <td>(40.80769092704951, -73.94738703491433)</td>\n",
       "    </tr>\n",
       "  </tbody>\n",
       "</table>\n",
       "<p>5 rows × 51 columns</p>\n",
       "</div>"
      ],
      "text/plain": [
       "                     Unique Key             Closed Date Agency  \\\n",
       "Created Date                                                     \n",
       "2013-10-31 02:08:41    26589651                     NaN   NYPD   \n",
       "2013-10-31 02:01:04    26593698                     NaN   NYPD   \n",
       "2013-10-31 02:00:24    26594139  10/31/2013 02:40:32 AM   NYPD   \n",
       "2013-10-31 01:56:23    26595721  10/31/2013 02:21:48 AM   NYPD   \n",
       "2013-10-31 01:53:44    26590930                     NaN  DOHMH   \n",
       "\n",
       "                                                 Agency Name  \\\n",
       "Created Date                                                   \n",
       "2013-10-31 02:08:41          New York City Police Department   \n",
       "2013-10-31 02:01:04          New York City Police Department   \n",
       "2013-10-31 02:00:24          New York City Police Department   \n",
       "2013-10-31 01:56:23          New York City Police Department   \n",
       "2013-10-31 01:53:44  Department of Health and Mental Hygiene   \n",
       "\n",
       "                              Complaint Type                    Descriptor  \\\n",
       "Created Date                                                                 \n",
       "2013-10-31 02:08:41  Noise - Street/Sidewalk                  Loud Talking   \n",
       "2013-10-31 02:01:04          Illegal Parking  Commercial Overnight Parking   \n",
       "2013-10-31 02:00:24       Noise - Commercial              Loud Music/Party   \n",
       "2013-10-31 01:56:23          Noise - Vehicle                Car/Truck Horn   \n",
       "2013-10-31 01:53:44                   Rodent  Condition Attracting Rodents   \n",
       "\n",
       "                           Location Type Incident Zip  Incident Address  \\\n",
       "Created Date                                                              \n",
       "2013-10-31 02:08:41      Street/Sidewalk      11432.0  90-03 169 STREET   \n",
       "2013-10-31 02:01:04      Street/Sidewalk      11378.0         58 AVENUE   \n",
       "2013-10-31 02:00:24  Club/Bar/Restaurant      10032.0     4060 BROADWAY   \n",
       "2013-10-31 01:56:23      Street/Sidewalk      10023.0    WEST 72 STREET   \n",
       "2013-10-31 01:53:44           Vacant Lot      10027.0   WEST 124 STREET   \n",
       "\n",
       "                         Street Name  ... Bridge Highway Name  \\\n",
       "Created Date                          ...                       \n",
       "2013-10-31 02:08:41       169 STREET  ...                 NaN   \n",
       "2013-10-31 02:01:04        58 AVENUE  ...                 NaN   \n",
       "2013-10-31 02:00:24         BROADWAY  ...                 NaN   \n",
       "2013-10-31 01:56:23   WEST 72 STREET  ...                 NaN   \n",
       "2013-10-31 01:53:44  WEST 124 STREET  ...                 NaN   \n",
       "\n",
       "                    Bridge Highway Direction Road Ramp Bridge Highway Segment  \\\n",
       "Created Date                                                                    \n",
       "2013-10-31 02:08:41                      NaN       NaN                    NaN   \n",
       "2013-10-31 02:01:04                      NaN       NaN                    NaN   \n",
       "2013-10-31 02:00:24                      NaN       NaN                    NaN   \n",
       "2013-10-31 01:56:23                      NaN       NaN                    NaN   \n",
       "2013-10-31 01:53:44                      NaN       NaN                    NaN   \n",
       "\n",
       "                    Garage Lot Name Ferry Direction Ferry Terminal Name  \\\n",
       "Created Date                                                              \n",
       "2013-10-31 02:08:41             NaN             NaN                 NaN   \n",
       "2013-10-31 02:01:04             NaN             NaN                 NaN   \n",
       "2013-10-31 02:00:24             NaN             NaN                 NaN   \n",
       "2013-10-31 01:56:23             NaN             NaN                 NaN   \n",
       "2013-10-31 01:53:44             NaN             NaN                 NaN   \n",
       "\n",
       "                      Latitude  Longitude  \\\n",
       "Created Date                                \n",
       "2013-10-31 02:08:41  40.708275 -73.791604   \n",
       "2013-10-31 02:01:04  40.721041 -73.909453   \n",
       "2013-10-31 02:00:24  40.843330 -73.939144   \n",
       "2013-10-31 01:56:23  40.778009 -73.980213   \n",
       "2013-10-31 01:53:44  40.807691 -73.947387   \n",
       "\n",
       "                                                     Location  \n",
       "Created Date                                                   \n",
       "2013-10-31 02:08:41   (40.70827532593202, -73.79160395779721)  \n",
       "2013-10-31 02:01:04  (40.721040535628305, -73.90945306791765)  \n",
       "2013-10-31 02:00:24   (40.84332975466513, -73.93914371913482)  \n",
       "2013-10-31 01:56:23    (40.7780087446372, -73.98021349023975)  \n",
       "2013-10-31 01:53:44   (40.80769092704951, -73.94738703491433)  \n",
       "\n",
       "[5 rows x 51 columns]"
      ]
     },
     "execution_count": 14,
     "metadata": {},
     "output_type": "execute_result"
    }
   ],
   "source": [
    "# put your code here\n",
    "complaint_df = pd.read_csv(\"../dataset/complaints.csv\", parse_dates = [\"Created Date\"], index_col = [1])\n",
    "complaint_df.head(5)"
   ]
  },
  {
   "cell_type": "markdown",
   "id": "72efd6d0",
   "metadata": {},
   "source": [
    "**(2.2) Sort the dataframe from oldest to newest.**<br>\n",
    "Hint: <code>DataFrame.sort_index(inplace = True)</code>"
   ]
  },
  {
   "cell_type": "code",
   "execution_count": 15,
   "id": "40f9c4cc",
   "metadata": {},
   "outputs": [
    {
     "data": {
      "text/html": [
       "<div>\n",
       "<style scoped>\n",
       "    .dataframe tbody tr th:only-of-type {\n",
       "        vertical-align: middle;\n",
       "    }\n",
       "\n",
       "    .dataframe tbody tr th {\n",
       "        vertical-align: top;\n",
       "    }\n",
       "\n",
       "    .dataframe thead th {\n",
       "        text-align: right;\n",
       "    }\n",
       "</style>\n",
       "<table border=\"1\" class=\"dataframe\">\n",
       "  <thead>\n",
       "    <tr style=\"text-align: right;\">\n",
       "      <th></th>\n",
       "      <th>Unique Key</th>\n",
       "      <th>Closed Date</th>\n",
       "      <th>Agency</th>\n",
       "      <th>Agency Name</th>\n",
       "      <th>Complaint Type</th>\n",
       "      <th>Descriptor</th>\n",
       "      <th>Location Type</th>\n",
       "      <th>Incident Zip</th>\n",
       "      <th>Incident Address</th>\n",
       "      <th>Street Name</th>\n",
       "      <th>...</th>\n",
       "      <th>Bridge Highway Name</th>\n",
       "      <th>Bridge Highway Direction</th>\n",
       "      <th>Road Ramp</th>\n",
       "      <th>Bridge Highway Segment</th>\n",
       "      <th>Garage Lot Name</th>\n",
       "      <th>Ferry Direction</th>\n",
       "      <th>Ferry Terminal Name</th>\n",
       "      <th>Latitude</th>\n",
       "      <th>Longitude</th>\n",
       "      <th>Location</th>\n",
       "    </tr>\n",
       "    <tr>\n",
       "      <th>Created Date</th>\n",
       "      <th></th>\n",
       "      <th></th>\n",
       "      <th></th>\n",
       "      <th></th>\n",
       "      <th></th>\n",
       "      <th></th>\n",
       "      <th></th>\n",
       "      <th></th>\n",
       "      <th></th>\n",
       "      <th></th>\n",
       "      <th></th>\n",
       "      <th></th>\n",
       "      <th></th>\n",
       "      <th></th>\n",
       "      <th></th>\n",
       "      <th></th>\n",
       "      <th></th>\n",
       "      <th></th>\n",
       "      <th></th>\n",
       "      <th></th>\n",
       "      <th></th>\n",
       "    </tr>\n",
       "  </thead>\n",
       "  <tbody>\n",
       "    <tr>\n",
       "      <th>2013-10-04 00:00:10</th>\n",
       "      <td>26428033</td>\n",
       "      <td>10/04/2013 01:20:52 AM</td>\n",
       "      <td>NYPD</td>\n",
       "      <td>New York City Police Department</td>\n",
       "      <td>Blocked Driveway</td>\n",
       "      <td>Partial Access</td>\n",
       "      <td>Street/Sidewalk</td>\n",
       "      <td>11236.0</td>\n",
       "      <td>1259 EAST 94 STREET</td>\n",
       "      <td>EAST 94 STREET</td>\n",
       "      <td>...</td>\n",
       "      <td>NaN</td>\n",
       "      <td>NaN</td>\n",
       "      <td>NaN</td>\n",
       "      <td>NaN</td>\n",
       "      <td>NaN</td>\n",
       "      <td>NaN</td>\n",
       "      <td>NaN</td>\n",
       "      <td>40.640024</td>\n",
       "      <td>-73.900717</td>\n",
       "      <td>(40.640024057399216, -73.90071711703163)</td>\n",
       "    </tr>\n",
       "    <tr>\n",
       "      <th>2013-10-04 00:00:28</th>\n",
       "      <td>26426115</td>\n",
       "      <td>10/04/2013 04:17:32 AM</td>\n",
       "      <td>NYPD</td>\n",
       "      <td>New York City Police Department</td>\n",
       "      <td>Noise - Commercial</td>\n",
       "      <td>Loud Talking</td>\n",
       "      <td>Club/Bar/Restaurant</td>\n",
       "      <td>11226.0</td>\n",
       "      <td>1233 FLATBUSH AVENUE</td>\n",
       "      <td>FLATBUSH AVENUE</td>\n",
       "      <td>...</td>\n",
       "      <td>NaN</td>\n",
       "      <td>NaN</td>\n",
       "      <td>NaN</td>\n",
       "      <td>NaN</td>\n",
       "      <td>NaN</td>\n",
       "      <td>NaN</td>\n",
       "      <td>NaN</td>\n",
       "      <td>40.640182</td>\n",
       "      <td>-73.955306</td>\n",
       "      <td>(40.64018174662485, -73.95530566958138)</td>\n",
       "    </tr>\n",
       "    <tr>\n",
       "      <th>2013-10-04 00:00:45</th>\n",
       "      <td>26428987</td>\n",
       "      <td>10/04/2013 01:25:01 AM</td>\n",
       "      <td>NYPD</td>\n",
       "      <td>New York City Police Department</td>\n",
       "      <td>Noise - Street/Sidewalk</td>\n",
       "      <td>Loud Talking</td>\n",
       "      <td>Street/Sidewalk</td>\n",
       "      <td>10016.0</td>\n",
       "      <td>344 EAST 28 STREET</td>\n",
       "      <td>EAST 28 STREET</td>\n",
       "      <td>...</td>\n",
       "      <td>NaN</td>\n",
       "      <td>NaN</td>\n",
       "      <td>NaN</td>\n",
       "      <td>NaN</td>\n",
       "      <td>NaN</td>\n",
       "      <td>NaN</td>\n",
       "      <td>NaN</td>\n",
       "      <td>40.740295</td>\n",
       "      <td>-73.976952</td>\n",
       "      <td>(40.740295354643706, -73.97695165980414)</td>\n",
       "    </tr>\n",
       "    <tr>\n",
       "      <th>2013-10-04 00:01:05</th>\n",
       "      <td>26428083</td>\n",
       "      <td>10/04/2013 02:13:50 AM</td>\n",
       "      <td>NYPD</td>\n",
       "      <td>New York City Police Department</td>\n",
       "      <td>Illegal Parking</td>\n",
       "      <td>Posted Parking Sign Violation</td>\n",
       "      <td>Street/Sidewalk</td>\n",
       "      <td>11434.0</td>\n",
       "      <td>NaN</td>\n",
       "      <td>NaN</td>\n",
       "      <td>...</td>\n",
       "      <td>NaN</td>\n",
       "      <td>NaN</td>\n",
       "      <td>NaN</td>\n",
       "      <td>NaN</td>\n",
       "      <td>NaN</td>\n",
       "      <td>NaN</td>\n",
       "      <td>NaN</td>\n",
       "      <td>40.656160</td>\n",
       "      <td>-73.767353</td>\n",
       "      <td>(40.656160351546845, -73.76735262738222)</td>\n",
       "    </tr>\n",
       "    <tr>\n",
       "      <th>2013-10-04 00:01:13</th>\n",
       "      <td>26426013</td>\n",
       "      <td>10/07/2013 04:07:16 PM</td>\n",
       "      <td>DPR</td>\n",
       "      <td>Department of Parks and Recreation</td>\n",
       "      <td>Maintenance or Facility</td>\n",
       "      <td>Structure - Outdoors</td>\n",
       "      <td>Park</td>\n",
       "      <td>11213.0</td>\n",
       "      <td>NaN</td>\n",
       "      <td>NaN</td>\n",
       "      <td>...</td>\n",
       "      <td>NaN</td>\n",
       "      <td>NaN</td>\n",
       "      <td>NaN</td>\n",
       "      <td>NaN</td>\n",
       "      <td>NaN</td>\n",
       "      <td>NaN</td>\n",
       "      <td>NaN</td>\n",
       "      <td>NaN</td>\n",
       "      <td>NaN</td>\n",
       "      <td>NaN</td>\n",
       "    </tr>\n",
       "  </tbody>\n",
       "</table>\n",
       "<p>5 rows × 51 columns</p>\n",
       "</div>"
      ],
      "text/plain": [
       "                     Unique Key             Closed Date Agency  \\\n",
       "Created Date                                                     \n",
       "2013-10-04 00:00:10    26428033  10/04/2013 01:20:52 AM   NYPD   \n",
       "2013-10-04 00:00:28    26426115  10/04/2013 04:17:32 AM   NYPD   \n",
       "2013-10-04 00:00:45    26428987  10/04/2013 01:25:01 AM   NYPD   \n",
       "2013-10-04 00:01:05    26428083  10/04/2013 02:13:50 AM   NYPD   \n",
       "2013-10-04 00:01:13    26426013  10/07/2013 04:07:16 PM    DPR   \n",
       "\n",
       "                                            Agency Name  \\\n",
       "Created Date                                              \n",
       "2013-10-04 00:00:10     New York City Police Department   \n",
       "2013-10-04 00:00:28     New York City Police Department   \n",
       "2013-10-04 00:00:45     New York City Police Department   \n",
       "2013-10-04 00:01:05     New York City Police Department   \n",
       "2013-10-04 00:01:13  Department of Parks and Recreation   \n",
       "\n",
       "                              Complaint Type                     Descriptor  \\\n",
       "Created Date                                                                  \n",
       "2013-10-04 00:00:10         Blocked Driveway                 Partial Access   \n",
       "2013-10-04 00:00:28       Noise - Commercial                   Loud Talking   \n",
       "2013-10-04 00:00:45  Noise - Street/Sidewalk                   Loud Talking   \n",
       "2013-10-04 00:01:05          Illegal Parking  Posted Parking Sign Violation   \n",
       "2013-10-04 00:01:13  Maintenance or Facility           Structure - Outdoors   \n",
       "\n",
       "                           Location Type Incident Zip      Incident Address  \\\n",
       "Created Date                                                                  \n",
       "2013-10-04 00:00:10      Street/Sidewalk      11236.0   1259 EAST 94 STREET   \n",
       "2013-10-04 00:00:28  Club/Bar/Restaurant      11226.0  1233 FLATBUSH AVENUE   \n",
       "2013-10-04 00:00:45      Street/Sidewalk      10016.0    344 EAST 28 STREET   \n",
       "2013-10-04 00:01:05      Street/Sidewalk      11434.0                   NaN   \n",
       "2013-10-04 00:01:13                 Park      11213.0                   NaN   \n",
       "\n",
       "                         Street Name  ... Bridge Highway Name  \\\n",
       "Created Date                          ...                       \n",
       "2013-10-04 00:00:10   EAST 94 STREET  ...                 NaN   \n",
       "2013-10-04 00:00:28  FLATBUSH AVENUE  ...                 NaN   \n",
       "2013-10-04 00:00:45   EAST 28 STREET  ...                 NaN   \n",
       "2013-10-04 00:01:05              NaN  ...                 NaN   \n",
       "2013-10-04 00:01:13              NaN  ...                 NaN   \n",
       "\n",
       "                    Bridge Highway Direction Road Ramp Bridge Highway Segment  \\\n",
       "Created Date                                                                    \n",
       "2013-10-04 00:00:10                      NaN       NaN                    NaN   \n",
       "2013-10-04 00:00:28                      NaN       NaN                    NaN   \n",
       "2013-10-04 00:00:45                      NaN       NaN                    NaN   \n",
       "2013-10-04 00:01:05                      NaN       NaN                    NaN   \n",
       "2013-10-04 00:01:13                      NaN       NaN                    NaN   \n",
       "\n",
       "                    Garage Lot Name Ferry Direction Ferry Terminal Name  \\\n",
       "Created Date                                                              \n",
       "2013-10-04 00:00:10             NaN             NaN                 NaN   \n",
       "2013-10-04 00:00:28             NaN             NaN                 NaN   \n",
       "2013-10-04 00:00:45             NaN             NaN                 NaN   \n",
       "2013-10-04 00:01:05             NaN             NaN                 NaN   \n",
       "2013-10-04 00:01:13             NaN             NaN                 NaN   \n",
       "\n",
       "                      Latitude  Longitude  \\\n",
       "Created Date                                \n",
       "2013-10-04 00:00:10  40.640024 -73.900717   \n",
       "2013-10-04 00:00:28  40.640182 -73.955306   \n",
       "2013-10-04 00:00:45  40.740295 -73.976952   \n",
       "2013-10-04 00:01:05  40.656160 -73.767353   \n",
       "2013-10-04 00:01:13        NaN        NaN   \n",
       "\n",
       "                                                     Location  \n",
       "Created Date                                                   \n",
       "2013-10-04 00:00:10  (40.640024057399216, -73.90071711703163)  \n",
       "2013-10-04 00:00:28   (40.64018174662485, -73.95530566958138)  \n",
       "2013-10-04 00:00:45  (40.740295354643706, -73.97695165980414)  \n",
       "2013-10-04 00:01:05  (40.656160351546845, -73.76735262738222)  \n",
       "2013-10-04 00:01:13                                       NaN  \n",
       "\n",
       "[5 rows x 51 columns]"
      ]
     },
     "execution_count": 15,
     "metadata": {},
     "output_type": "execute_result"
    }
   ],
   "source": [
    "# put your code here\n",
    "complaint_df.sort_index(inplace = True)\n",
    "complaint_df.head(5)"
   ]
  },
  {
   "cell_type": "markdown",
   "id": "927ef75f",
   "metadata": {},
   "source": [
    "**(2.2) Select the complaint data handled by <code>NYPD</code> with two columns: <code>Closed Date, Complaint Type</code>. Use this subset to solve the following tasks.**<br>\n",
    "Hint: Use column <code>Agency</code> and make a copy."
   ]
  },
  {
   "cell_type": "code",
   "execution_count": 16,
   "id": "57bea78c",
   "metadata": {},
   "outputs": [
    {
     "data": {
      "text/html": [
       "<div>\n",
       "<style scoped>\n",
       "    .dataframe tbody tr th:only-of-type {\n",
       "        vertical-align: middle;\n",
       "    }\n",
       "\n",
       "    .dataframe tbody tr th {\n",
       "        vertical-align: top;\n",
       "    }\n",
       "\n",
       "    .dataframe thead th {\n",
       "        text-align: right;\n",
       "    }\n",
       "</style>\n",
       "<table border=\"1\" class=\"dataframe\">\n",
       "  <thead>\n",
       "    <tr style=\"text-align: right;\">\n",
       "      <th></th>\n",
       "      <th>Closed Date</th>\n",
       "      <th>Complaint Type</th>\n",
       "    </tr>\n",
       "    <tr>\n",
       "      <th>Created Date</th>\n",
       "      <th></th>\n",
       "      <th></th>\n",
       "    </tr>\n",
       "  </thead>\n",
       "  <tbody>\n",
       "    <tr>\n",
       "      <th>2013-10-04 00:00:10</th>\n",
       "      <td>10/04/2013 01:20:52 AM</td>\n",
       "      <td>Blocked Driveway</td>\n",
       "    </tr>\n",
       "    <tr>\n",
       "      <th>2013-10-04 00:00:28</th>\n",
       "      <td>10/04/2013 04:17:32 AM</td>\n",
       "      <td>Noise - Commercial</td>\n",
       "    </tr>\n",
       "    <tr>\n",
       "      <th>2013-10-04 00:00:45</th>\n",
       "      <td>10/04/2013 01:25:01 AM</td>\n",
       "      <td>Noise - Street/Sidewalk</td>\n",
       "    </tr>\n",
       "    <tr>\n",
       "      <th>2013-10-04 00:01:05</th>\n",
       "      <td>10/04/2013 02:13:50 AM</td>\n",
       "      <td>Illegal Parking</td>\n",
       "    </tr>\n",
       "    <tr>\n",
       "      <th>2013-10-04 00:03:00</th>\n",
       "      <td>10/04/2013 02:14:57 AM</td>\n",
       "      <td>Noise - Commercial</td>\n",
       "    </tr>\n",
       "  </tbody>\n",
       "</table>\n",
       "</div>"
      ],
      "text/plain": [
       "                                Closed Date           Complaint Type\n",
       "Created Date                                                        \n",
       "2013-10-04 00:00:10  10/04/2013 01:20:52 AM         Blocked Driveway\n",
       "2013-10-04 00:00:28  10/04/2013 04:17:32 AM       Noise - Commercial\n",
       "2013-10-04 00:00:45  10/04/2013 01:25:01 AM  Noise - Street/Sidewalk\n",
       "2013-10-04 00:01:05  10/04/2013 02:13:50 AM          Illegal Parking\n",
       "2013-10-04 00:03:00  10/04/2013 02:14:57 AM       Noise - Commercial"
      ]
     },
     "execution_count": 16,
     "metadata": {},
     "output_type": "execute_result"
    }
   ],
   "source": [
    "# put your code here\n",
    "nypd_df = complaint_df[complaint_df.Agency == \"NYPD\"].loc[:,[\"Closed Date\", \"Complaint Type\"]].copy()\n",
    "nypd_df.head(5)"
   ]
  },
  {
   "cell_type": "markdown",
   "id": "1251c2d0",
   "metadata": {},
   "source": [
    "**(2.3) Calculate the number of complaints in each day and display the result with a line chart.**<br>\n",
    "Setting: figsize = (15,3), marker = \"o\""
   ]
  },
  {
   "cell_type": "code",
   "execution_count": 17,
   "id": "1e0e5455",
   "metadata": {},
   "outputs": [
    {
     "data": {
      "text/plain": [
       "<AxesSubplot:xlabel='Created Date'>"
      ]
     },
     "execution_count": 17,
     "metadata": {},
     "output_type": "execute_result"
    },
    {
     "data": {
      "image/png": "[encoded data removed]",
      "text/plain": [
       "<Figure size 1080x216 with 1 Axes>"
      ]
     },
     "metadata": {
      "needs_background": "light"
     },
     "output_type": "display_data"
    }
   ],
   "source": [
    "# put your code here\n",
    "nypd_df.resample(\"D\").size().plot(figsize = (15,3), marker = \"o\")"
   ]
  },
  {
   "cell_type": "markdown",
   "id": "8ad706c2",
   "metadata": {},
   "source": [
    "**(2.4) What are the top five types of complaints?**"
   ]
  },
  {
   "cell_type": "code",
   "execution_count": 18,
   "id": "3afedc8a",
   "metadata": {},
   "outputs": [
    {
     "data": {
      "text/plain": [
       "Blocked Driveway           4590\n",
       "Illegal Parking            3343\n",
       "Noise - Commercial         2578\n",
       "Noise - Street/Sidewalk    1928\n",
       "Derelict Vehicle            803\n",
       "Name: Complaint Type, dtype: int64"
      ]
     },
     "execution_count": 18,
     "metadata": {},
     "output_type": "execute_result"
    }
   ],
   "source": [
    "# put your code here\n",
    "nypd_df[\"Complaint Type\"].value_counts().head(5)"
   ]
  },
  {
   "cell_type": "markdown",
   "id": "e43f9c8a",
   "metadata": {},
   "source": [
    "**(2.5) Extract the hour from DatetimeIndex and add it as a new column named <code>Hour</code>.**"
   ]
  },
  {
   "cell_type": "code",
   "execution_count": 19,
   "id": "9c400d09",
   "metadata": {},
   "outputs": [
    {
     "data": {
      "text/html": [
       "<div>\n",
       "<style scoped>\n",
       "    .dataframe tbody tr th:only-of-type {\n",
       "        vertical-align: middle;\n",
       "    }\n",
       "\n",
       "    .dataframe tbody tr th {\n",
       "        vertical-align: top;\n",
       "    }\n",
       "\n",
       "    .dataframe thead th {\n",
       "        text-align: right;\n",
       "    }\n",
       "</style>\n",
       "<table border=\"1\" class=\"dataframe\">\n",
       "  <thead>\n",
       "    <tr style=\"text-align: right;\">\n",
       "      <th></th>\n",
       "      <th>Closed Date</th>\n",
       "      <th>Complaint Type</th>\n",
       "      <th>Hour</th>\n",
       "    </tr>\n",
       "    <tr>\n",
       "      <th>Created Date</th>\n",
       "      <th></th>\n",
       "      <th></th>\n",
       "      <th></th>\n",
       "    </tr>\n",
       "  </thead>\n",
       "  <tbody>\n",
       "    <tr>\n",
       "      <th>2013-10-04 00:00:10</th>\n",
       "      <td>10/04/2013 01:20:52 AM</td>\n",
       "      <td>Blocked Driveway</td>\n",
       "      <td>0</td>\n",
       "    </tr>\n",
       "    <tr>\n",
       "      <th>2013-10-04 00:00:28</th>\n",
       "      <td>10/04/2013 04:17:32 AM</td>\n",
       "      <td>Noise - Commercial</td>\n",
       "      <td>0</td>\n",
       "    </tr>\n",
       "    <tr>\n",
       "      <th>2013-10-04 00:00:45</th>\n",
       "      <td>10/04/2013 01:25:01 AM</td>\n",
       "      <td>Noise - Street/Sidewalk</td>\n",
       "      <td>0</td>\n",
       "    </tr>\n",
       "    <tr>\n",
       "      <th>2013-10-04 00:01:05</th>\n",
       "      <td>10/04/2013 02:13:50 AM</td>\n",
       "      <td>Illegal Parking</td>\n",
       "      <td>0</td>\n",
       "    </tr>\n",
       "    <tr>\n",
       "      <th>2013-10-04 00:03:00</th>\n",
       "      <td>10/04/2013 02:14:57 AM</td>\n",
       "      <td>Noise - Commercial</td>\n",
       "      <td>0</td>\n",
       "    </tr>\n",
       "  </tbody>\n",
       "</table>\n",
       "</div>"
      ],
      "text/plain": [
       "                                Closed Date           Complaint Type  Hour\n",
       "Created Date                                                              \n",
       "2013-10-04 00:00:10  10/04/2013 01:20:52 AM         Blocked Driveway     0\n",
       "2013-10-04 00:00:28  10/04/2013 04:17:32 AM       Noise - Commercial     0\n",
       "2013-10-04 00:00:45  10/04/2013 01:25:01 AM  Noise - Street/Sidewalk     0\n",
       "2013-10-04 00:01:05  10/04/2013 02:13:50 AM          Illegal Parking     0\n",
       "2013-10-04 00:03:00  10/04/2013 02:14:57 AM       Noise - Commercial     0"
      ]
     },
     "execution_count": 19,
     "metadata": {},
     "output_type": "execute_result"
    }
   ],
   "source": [
    "# put your code here\n",
    "nypd_df[\"Hour\"] = nypd_df.index.hour\n",
    "nypd_df.head(5)"
   ]
  },
  {
   "cell_type": "markdown",
   "id": "ec594fc9",
   "metadata": {},
   "source": [
    "**(2.6) Use a heatmap to show the number of complaints of each complaint type at different times. What types of complaints are reported most at midnight?**"
   ]
  },
  {
   "cell_type": "code",
   "execution_count": 20,
   "id": "8492279c",
   "metadata": {},
   "outputs": [
    {
     "data": {
      "text/plain": [
       "<AxesSubplot:xlabel='Hour', ylabel='Complaint Type'>"
      ]
     },
     "execution_count": 20,
     "metadata": {},
     "output_type": "execute_result"
    },
    {
     "data": {
      "image/png": "[encoded data removed]",
      "text/plain": [
       "<Figure size 432x288 with 2 Axes>"
      ]
     },
     "metadata": {
      "needs_background": "light"
     },
     "output_type": "display_data"
    }
   ],
   "source": [
    "# put your code here\n",
    "type_hr_ct = pd.crosstab(nypd_df[\"Complaint Type\"], nypd_df[\"Hour\"])\n",
    "sns.heatmap(type_hr_ct)"
   ]
  },
  {
   "cell_type": "markdown",
   "id": "213fc1b2",
   "metadata": {},
   "source": [
    "**Write you answer here:** Noise - Commercial\n",
    "    "
   ]
  }
 ],
 "metadata": {
  "kernelspec": {
   "display_name": "Python 3",
   "language": "python",
   "name": "python3"
  },
  "language_info": {
   "codemirror_mode": {
    "name": "ipython",
    "version": 3
   },
   "file_extension": ".py",
   "mimetype": "text/x-python",
   "name": "python",
   "nbconvert_exporter": "python",
   "pygments_lexer": "ipython3",
   "version": "3.8.8"
  }
 },
 "nbformat": 4,
 "nbformat_minor": 5
}
