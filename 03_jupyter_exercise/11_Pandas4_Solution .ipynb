{
 "cells": [
  {
   "cell_type": "markdown",
   "id": "8ee20f9b",
   "metadata": {},
   "source": [
    "# Pandas4 - Visualization"
   ]
  },
  {
   "cell_type": "code",
   "execution_count": 2,
   "id": "0053c86f",
   "metadata": {},
   "outputs": [],
   "source": [
    "import pandas as pd"
   ]
  },
  {
   "cell_type": "markdown",
   "id": "be320b1b",
   "metadata": {},
   "source": [
    "## (1) Oslo city bike"
   ]
  },
  {
   "cell_type": "markdown",
   "id": "6d5f3dc9",
   "metadata": {},
   "source": [
    "**(1.1) Download the September 2023 city bike data here https://oslobysykkel.no/en/open-data/historical. Import the dataset.**<br> \n",
    "(The description of each column can be found on the same page.)"
   ]
  },
  {
   "cell_type": "code",
   "execution_count": 3,
   "id": "be932e80",
   "metadata": {},
   "outputs": [
    {
     "data": {
      "text/html": [
       "<div>\n",
       "<style scoped>\n",
       "    .dataframe tbody tr th:only-of-type {\n",
       "        vertical-align: middle;\n",
       "    }\n",
       "\n",
       "    .dataframe tbody tr th {\n",
       "        vertical-align: top;\n",
       "    }\n",
       "\n",
       "    .dataframe thead th {\n",
       "        text-align: right;\n",
       "    }\n",
       "</style>\n",
       "<table border=\"1\" class=\"dataframe\">\n",
       "  <thead>\n",
       "    <tr style=\"text-align: right;\">\n",
       "      <th></th>\n",
       "      <th>started_at</th>\n",
       "      <th>ended_at</th>\n",
       "      <th>duration</th>\n",
       "      <th>start_station_id</th>\n",
       "      <th>start_station_name</th>\n",
       "      <th>start_station_description</th>\n",
       "      <th>start_station_latitude</th>\n",
       "      <th>start_station_longitude</th>\n",
       "      <th>end_station_id</th>\n",
       "      <th>end_station_name</th>\n",
       "      <th>end_station_description</th>\n",
       "      <th>end_station_latitude</th>\n",
       "      <th>end_station_longitude</th>\n",
       "    </tr>\n",
       "  </thead>\n",
       "  <tbody>\n",
       "    <tr>\n",
       "      <th>0</th>\n",
       "      <td>2023-09-01 03:00:13.703000+00:00</td>\n",
       "      <td>2023-09-01 03:04:45.667000+00:00</td>\n",
       "      <td>271</td>\n",
       "      <td>2357</td>\n",
       "      <td>Aker Brygge 2 mot Rådhusplassen</td>\n",
       "      <td>ved plattform H i retning rådhuset</td>\n",
       "      <td>59.911115</td>\n",
       "      <td>10.730397</td>\n",
       "      <td>537</td>\n",
       "      <td>St. Olavs gate</td>\n",
       "      <td>ved Pilestredet</td>\n",
       "      <td>59.917968</td>\n",
       "      <td>10.738629</td>\n",
       "    </tr>\n",
       "    <tr>\n",
       "      <th>1</th>\n",
       "      <td>2023-09-01 03:01:13.151000+00:00</td>\n",
       "      <td>2023-09-01 03:12:47.799000+00:00</td>\n",
       "      <td>694</td>\n",
       "      <td>526</td>\n",
       "      <td>Lille Grensen</td>\n",
       "      <td>Ved Akersgata</td>\n",
       "      <td>59.913897</td>\n",
       "      <td>10.742310</td>\n",
       "      <td>408</td>\n",
       "      <td>Tøyen skole</td>\n",
       "      <td>forsiden av skolebygget</td>\n",
       "      <td>59.914943</td>\n",
       "      <td>10.773977</td>\n",
       "    </tr>\n",
       "    <tr>\n",
       "      <th>2</th>\n",
       "      <td>2023-09-01 03:02:47.838000+00:00</td>\n",
       "      <td>2023-09-01 03:08:53.594000+00:00</td>\n",
       "      <td>365</td>\n",
       "      <td>453</td>\n",
       "      <td>Frogner Stadion</td>\n",
       "      <td>ved hovedinngangen</td>\n",
       "      <td>59.927538</td>\n",
       "      <td>10.710263</td>\n",
       "      <td>511</td>\n",
       "      <td>Henrik Ibsens gate</td>\n",
       "      <td>ved Parkveien</td>\n",
       "      <td>59.915088</td>\n",
       "      <td>10.722280</td>\n",
       "    </tr>\n",
       "    <tr>\n",
       "      <th>3</th>\n",
       "      <td>2023-09-01 03:06:38.884000+00:00</td>\n",
       "      <td>2023-09-01 03:10:42.231000+00:00</td>\n",
       "      <td>243</td>\n",
       "      <td>2339</td>\n",
       "      <td>Elgsletta</td>\n",
       "      <td>langs Nylandsveien</td>\n",
       "      <td>59.915649</td>\n",
       "      <td>10.761725</td>\n",
       "      <td>2328</td>\n",
       "      <td>The Hub</td>\n",
       "      <td>Mellom Oslo City og The Hub hotel</td>\n",
       "      <td>59.912522</td>\n",
       "      <td>10.750910</td>\n",
       "    </tr>\n",
       "    <tr>\n",
       "      <th>4</th>\n",
       "      <td>2023-09-01 03:19:37.513000+00:00</td>\n",
       "      <td>2023-09-01 03:27:15.072000+00:00</td>\n",
       "      <td>457</td>\n",
       "      <td>598</td>\n",
       "      <td>Sofienbergparken nord</td>\n",
       "      <td>langs Helgesens gate</td>\n",
       "      <td>59.923229</td>\n",
       "      <td>10.766171</td>\n",
       "      <td>478</td>\n",
       "      <td>Jernbanetorget</td>\n",
       "      <td>Europarådets plass</td>\n",
       "      <td>59.911901</td>\n",
       "      <td>10.749929</td>\n",
       "    </tr>\n",
       "  </tbody>\n",
       "</table>\n",
       "</div>"
      ],
      "text/plain": [
       "                         started_at                          ended_at  \\\n",
       "0  2023-09-01 03:00:13.703000+00:00  2023-09-01 03:04:45.667000+00:00   \n",
       "1  2023-09-01 03:01:13.151000+00:00  2023-09-01 03:12:47.799000+00:00   \n",
       "2  2023-09-01 03:02:47.838000+00:00  2023-09-01 03:08:53.594000+00:00   \n",
       "3  2023-09-01 03:06:38.884000+00:00  2023-09-01 03:10:42.231000+00:00   \n",
       "4  2023-09-01 03:19:37.513000+00:00  2023-09-01 03:27:15.072000+00:00   \n",
       "\n",
       "   duration  start_station_id               start_station_name  \\\n",
       "0       271              2357  Aker Brygge 2 mot Rådhusplassen   \n",
       "1       694               526                    Lille Grensen   \n",
       "2       365               453                  Frogner Stadion   \n",
       "3       243              2339                        Elgsletta   \n",
       "4       457               598            Sofienbergparken nord   \n",
       "\n",
       "            start_station_description  start_station_latitude  \\\n",
       "0  ved plattform H i retning rådhuset               59.911115   \n",
       "1                       Ved Akersgata               59.913897   \n",
       "2                  ved hovedinngangen               59.927538   \n",
       "3                  langs Nylandsveien               59.915649   \n",
       "4                langs Helgesens gate               59.923229   \n",
       "\n",
       "   start_station_longitude  end_station_id    end_station_name  \\\n",
       "0                10.730397             537      St. Olavs gate   \n",
       "1                10.742310             408         Tøyen skole   \n",
       "2                10.710263             511  Henrik Ibsens gate   \n",
       "3                10.761725            2328             The Hub   \n",
       "4                10.766171             478      Jernbanetorget   \n",
       "\n",
       "             end_station_description  end_station_latitude  \\\n",
       "0                    ved Pilestredet             59.917968   \n",
       "1            forsiden av skolebygget             59.914943   \n",
       "2                      ved Parkveien             59.915088   \n",
       "3  Mellom Oslo City og The Hub hotel             59.912522   \n",
       "4                 Europarådets plass             59.911901   \n",
       "\n",
       "   end_station_longitude  \n",
       "0              10.738629  \n",
       "1              10.773977  \n",
       "2              10.722280  \n",
       "3              10.750910  \n",
       "4              10.749929  "
      ]
     },
     "execution_count": 3,
     "metadata": {},
     "output_type": "execute_result"
    }
   ],
   "source": [
    "bikes_df = pd.read_csv(\"../dataset/09.csv\")\n",
    "bikes_df.head(5)"
   ]
  },
  {
   "cell_type": "markdown",
   "id": "9ae656fd",
   "metadata": {},
   "source": [
    "**(1.2) Extract the date (month-date) from the column \"started_at\" and add it to a new column named \"date\".**<br>\n",
    "Hint: <code>df[\"date\"] = df.column.str[5:10]</code>"
   ]
  },
  {
   "cell_type": "code",
   "execution_count": 3,
   "id": "e42a5dd1",
   "metadata": {},
   "outputs": [
    {
     "data": {
      "text/html": [
       "<div>\n",
       "<style scoped>\n",
       "    .dataframe tbody tr th:only-of-type {\n",
       "        vertical-align: middle;\n",
       "    }\n",
       "\n",
       "    .dataframe tbody tr th {\n",
       "        vertical-align: top;\n",
       "    }\n",
       "\n",
       "    .dataframe thead th {\n",
       "        text-align: right;\n",
       "    }\n",
       "</style>\n",
       "<table border=\"1\" class=\"dataframe\">\n",
       "  <thead>\n",
       "    <tr style=\"text-align: right;\">\n",
       "      <th></th>\n",
       "      <th>started_at</th>\n",
       "      <th>ended_at</th>\n",
       "      <th>duration</th>\n",
       "      <th>start_station_id</th>\n",
       "      <th>start_station_name</th>\n",
       "      <th>start_station_description</th>\n",
       "      <th>start_station_latitude</th>\n",
       "      <th>start_station_longitude</th>\n",
       "      <th>end_station_id</th>\n",
       "      <th>end_station_name</th>\n",
       "      <th>end_station_description</th>\n",
       "      <th>end_station_latitude</th>\n",
       "      <th>end_station_longitude</th>\n",
       "      <th>date</th>\n",
       "    </tr>\n",
       "  </thead>\n",
       "  <tbody>\n",
       "    <tr>\n",
       "      <th>0</th>\n",
       "      <td>2023-09-01 03:00:13.703000+00:00</td>\n",
       "      <td>2023-09-01 03:04:45.667000+00:00</td>\n",
       "      <td>271</td>\n",
       "      <td>2357</td>\n",
       "      <td>Aker Brygge 2 mot Rådhusplassen</td>\n",
       "      <td>ved plattform H i retning rådhuset</td>\n",
       "      <td>59.911115</td>\n",
       "      <td>10.730397</td>\n",
       "      <td>537</td>\n",
       "      <td>St. Olavs gate</td>\n",
       "      <td>ved Pilestredet</td>\n",
       "      <td>59.917968</td>\n",
       "      <td>10.738629</td>\n",
       "      <td>09-01</td>\n",
       "    </tr>\n",
       "    <tr>\n",
       "      <th>1</th>\n",
       "      <td>2023-09-01 03:01:13.151000+00:00</td>\n",
       "      <td>2023-09-01 03:12:47.799000+00:00</td>\n",
       "      <td>694</td>\n",
       "      <td>526</td>\n",
       "      <td>Lille Grensen</td>\n",
       "      <td>Ved Akersgata</td>\n",
       "      <td>59.913897</td>\n",
       "      <td>10.742310</td>\n",
       "      <td>408</td>\n",
       "      <td>Tøyen skole</td>\n",
       "      <td>forsiden av skolebygget</td>\n",
       "      <td>59.914943</td>\n",
       "      <td>10.773977</td>\n",
       "      <td>09-01</td>\n",
       "    </tr>\n",
       "    <tr>\n",
       "      <th>2</th>\n",
       "      <td>2023-09-01 03:02:47.838000+00:00</td>\n",
       "      <td>2023-09-01 03:08:53.594000+00:00</td>\n",
       "      <td>365</td>\n",
       "      <td>453</td>\n",
       "      <td>Frogner Stadion</td>\n",
       "      <td>ved hovedinngangen</td>\n",
       "      <td>59.927538</td>\n",
       "      <td>10.710263</td>\n",
       "      <td>511</td>\n",
       "      <td>Henrik Ibsens gate</td>\n",
       "      <td>ved Parkveien</td>\n",
       "      <td>59.915088</td>\n",
       "      <td>10.722280</td>\n",
       "      <td>09-01</td>\n",
       "    </tr>\n",
       "    <tr>\n",
       "      <th>3</th>\n",
       "      <td>2023-09-01 03:06:38.884000+00:00</td>\n",
       "      <td>2023-09-01 03:10:42.231000+00:00</td>\n",
       "      <td>243</td>\n",
       "      <td>2339</td>\n",
       "      <td>Elgsletta</td>\n",
       "      <td>langs Nylandsveien</td>\n",
       "      <td>59.915649</td>\n",
       "      <td>10.761725</td>\n",
       "      <td>2328</td>\n",
       "      <td>The Hub</td>\n",
       "      <td>Mellom Oslo City og The Hub hotel</td>\n",
       "      <td>59.912522</td>\n",
       "      <td>10.750910</td>\n",
       "      <td>09-01</td>\n",
       "    </tr>\n",
       "    <tr>\n",
       "      <th>4</th>\n",
       "      <td>2023-09-01 03:19:37.513000+00:00</td>\n",
       "      <td>2023-09-01 03:27:15.072000+00:00</td>\n",
       "      <td>457</td>\n",
       "      <td>598</td>\n",
       "      <td>Sofienbergparken nord</td>\n",
       "      <td>langs Helgesens gate</td>\n",
       "      <td>59.923229</td>\n",
       "      <td>10.766171</td>\n",
       "      <td>478</td>\n",
       "      <td>Jernbanetorget</td>\n",
       "      <td>Europarådets plass</td>\n",
       "      <td>59.911901</td>\n",
       "      <td>10.749929</td>\n",
       "      <td>09-01</td>\n",
       "    </tr>\n",
       "  </tbody>\n",
       "</table>\n",
       "</div>"
      ],
      "text/plain": [
       "                         started_at                          ended_at  \\\n",
       "0  2023-09-01 03:00:13.703000+00:00  2023-09-01 03:04:45.667000+00:00   \n",
       "1  2023-09-01 03:01:13.151000+00:00  2023-09-01 03:12:47.799000+00:00   \n",
       "2  2023-09-01 03:02:47.838000+00:00  2023-09-01 03:08:53.594000+00:00   \n",
       "3  2023-09-01 03:06:38.884000+00:00  2023-09-01 03:10:42.231000+00:00   \n",
       "4  2023-09-01 03:19:37.513000+00:00  2023-09-01 03:27:15.072000+00:00   \n",
       "\n",
       "   duration  start_station_id               start_station_name  \\\n",
       "0       271              2357  Aker Brygge 2 mot Rådhusplassen   \n",
       "1       694               526                    Lille Grensen   \n",
       "2       365               453                  Frogner Stadion   \n",
       "3       243              2339                        Elgsletta   \n",
       "4       457               598            Sofienbergparken nord   \n",
       "\n",
       "            start_station_description  start_station_latitude  \\\n",
       "0  ved plattform H i retning rådhuset               59.911115   \n",
       "1                       Ved Akersgata               59.913897   \n",
       "2                  ved hovedinngangen               59.927538   \n",
       "3                  langs Nylandsveien               59.915649   \n",
       "4                langs Helgesens gate               59.923229   \n",
       "\n",
       "   start_station_longitude  end_station_id    end_station_name  \\\n",
       "0                10.730397             537      St. Olavs gate   \n",
       "1                10.742310             408         Tøyen skole   \n",
       "2                10.710263             511  Henrik Ibsens gate   \n",
       "3                10.761725            2328             The Hub   \n",
       "4                10.766171             478      Jernbanetorget   \n",
       "\n",
       "             end_station_description  end_station_latitude  \\\n",
       "0                    ved Pilestredet             59.917968   \n",
       "1            forsiden av skolebygget             59.914943   \n",
       "2                      ved Parkveien             59.915088   \n",
       "3  Mellom Oslo City og The Hub hotel             59.912522   \n",
       "4                 Europarådets plass             59.911901   \n",
       "\n",
       "   end_station_longitude   date  \n",
       "0              10.738629  09-01  \n",
       "1              10.773977  09-01  \n",
       "2              10.722280  09-01  \n",
       "3              10.750910  09-01  \n",
       "4              10.749929  09-01  "
      ]
     },
     "execution_count": 3,
     "metadata": {},
     "output_type": "execute_result"
    }
   ],
   "source": [
    "bikes_df[\"date\"] = bikes_df.started_at.str[5:10]\n",
    "bikes_df.head(5)"
   ]
  },
  {
   "cell_type": "markdown",
   "id": "9b007409",
   "metadata": {},
   "source": [
    "**(1.3) Group the data by the column <code>date</code>. Calculate the total riding time for all trips per day.**<br>\n",
    "Hint: Use column <code>duration</code> to get the riding time."
   ]
  },
  {
   "cell_type": "code",
   "execution_count": 4,
   "id": "fbdb7ed0",
   "metadata": {},
   "outputs": [
    {
     "data": {
      "text/plain": [
       "date\n",
       "09-01    5290311\n",
       "09-02    4211967\n",
       "09-03    3024306\n",
       "09-04    5543577\n",
       "09-05    5432563\n",
       "09-06    4746013\n",
       "09-07    4951538\n",
       "09-08    4016794\n",
       "09-09    4144263\n",
       "09-10    3605407\n",
       "09-11    3104244\n",
       "09-12    4549744\n",
       "09-13    4511032\n",
       "09-14    4111887\n",
       "09-15    3239836\n",
       "09-16    3325643\n",
       "09-17    3114463\n",
       "09-18    1662267\n",
       "09-19    3250629\n",
       "09-20    2547614\n",
       "09-21    2001956\n",
       "09-22    2792952\n",
       "09-23    3509155\n",
       "09-24    2829241\n",
       "09-25    3155826\n",
       "09-26    3857809\n",
       "09-27    3160614\n",
       "09-28    2858428\n",
       "09-29    3349489\n",
       "09-30    2884624\n",
       "Name: duration, dtype: int64"
      ]
     },
     "execution_count": 4,
     "metadata": {},
     "output_type": "execute_result"
    }
   ],
   "source": [
    "# solution-1\n",
    "bikes_df.groupby(\"date\").duration.sum()"
   ]
  },
  {
   "cell_type": "code",
   "execution_count": 5,
   "id": "f09bd639",
   "metadata": {},
   "outputs": [
    {
     "data": {
      "text/html": [
       "<div>\n",
       "<style scoped>\n",
       "    .dataframe tbody tr th:only-of-type {\n",
       "        vertical-align: middle;\n",
       "    }\n",
       "\n",
       "    .dataframe tbody tr th {\n",
       "        vertical-align: top;\n",
       "    }\n",
       "\n",
       "    .dataframe thead th {\n",
       "        text-align: right;\n",
       "    }\n",
       "</style>\n",
       "<table border=\"1\" class=\"dataframe\">\n",
       "  <thead>\n",
       "    <tr style=\"text-align: right;\">\n",
       "      <th></th>\n",
       "      <th>duration</th>\n",
       "    </tr>\n",
       "    <tr>\n",
       "      <th>date</th>\n",
       "      <th></th>\n",
       "    </tr>\n",
       "  </thead>\n",
       "  <tbody>\n",
       "    <tr>\n",
       "      <th>09-01</th>\n",
       "      <td>5290311</td>\n",
       "    </tr>\n",
       "    <tr>\n",
       "      <th>09-02</th>\n",
       "      <td>4211967</td>\n",
       "    </tr>\n",
       "    <tr>\n",
       "      <th>09-03</th>\n",
       "      <td>3024306</td>\n",
       "    </tr>\n",
       "    <tr>\n",
       "      <th>09-04</th>\n",
       "      <td>5543577</td>\n",
       "    </tr>\n",
       "    <tr>\n",
       "      <th>09-05</th>\n",
       "      <td>5432563</td>\n",
       "    </tr>\n",
       "    <tr>\n",
       "      <th>09-06</th>\n",
       "      <td>4746013</td>\n",
       "    </tr>\n",
       "    <tr>\n",
       "      <th>09-07</th>\n",
       "      <td>4951538</td>\n",
       "    </tr>\n",
       "    <tr>\n",
       "      <th>09-08</th>\n",
       "      <td>4016794</td>\n",
       "    </tr>\n",
       "    <tr>\n",
       "      <th>09-09</th>\n",
       "      <td>4144263</td>\n",
       "    </tr>\n",
       "    <tr>\n",
       "      <th>09-10</th>\n",
       "      <td>3605407</td>\n",
       "    </tr>\n",
       "    <tr>\n",
       "      <th>09-11</th>\n",
       "      <td>3104244</td>\n",
       "    </tr>\n",
       "    <tr>\n",
       "      <th>09-12</th>\n",
       "      <td>4549744</td>\n",
       "    </tr>\n",
       "    <tr>\n",
       "      <th>09-13</th>\n",
       "      <td>4511032</td>\n",
       "    </tr>\n",
       "    <tr>\n",
       "      <th>09-14</th>\n",
       "      <td>4111887</td>\n",
       "    </tr>\n",
       "    <tr>\n",
       "      <th>09-15</th>\n",
       "      <td>3239836</td>\n",
       "    </tr>\n",
       "    <tr>\n",
       "      <th>09-16</th>\n",
       "      <td>3325643</td>\n",
       "    </tr>\n",
       "    <tr>\n",
       "      <th>09-17</th>\n",
       "      <td>3114463</td>\n",
       "    </tr>\n",
       "    <tr>\n",
       "      <th>09-18</th>\n",
       "      <td>1662267</td>\n",
       "    </tr>\n",
       "    <tr>\n",
       "      <th>09-19</th>\n",
       "      <td>3250629</td>\n",
       "    </tr>\n",
       "    <tr>\n",
       "      <th>09-20</th>\n",
       "      <td>2547614</td>\n",
       "    </tr>\n",
       "    <tr>\n",
       "      <th>09-21</th>\n",
       "      <td>2001956</td>\n",
       "    </tr>\n",
       "    <tr>\n",
       "      <th>09-22</th>\n",
       "      <td>2792952</td>\n",
       "    </tr>\n",
       "    <tr>\n",
       "      <th>09-23</th>\n",
       "      <td>3509155</td>\n",
       "    </tr>\n",
       "    <tr>\n",
       "      <th>09-24</th>\n",
       "      <td>2829241</td>\n",
       "    </tr>\n",
       "    <tr>\n",
       "      <th>09-25</th>\n",
       "      <td>3155826</td>\n",
       "    </tr>\n",
       "    <tr>\n",
       "      <th>09-26</th>\n",
       "      <td>3857809</td>\n",
       "    </tr>\n",
       "    <tr>\n",
       "      <th>09-27</th>\n",
       "      <td>3160614</td>\n",
       "    </tr>\n",
       "    <tr>\n",
       "      <th>09-28</th>\n",
       "      <td>2858428</td>\n",
       "    </tr>\n",
       "    <tr>\n",
       "      <th>09-29</th>\n",
       "      <td>3349489</td>\n",
       "    </tr>\n",
       "    <tr>\n",
       "      <th>09-30</th>\n",
       "      <td>2884624</td>\n",
       "    </tr>\n",
       "  </tbody>\n",
       "</table>\n",
       "</div>"
      ],
      "text/plain": [
       "       duration\n",
       "date           \n",
       "09-01   5290311\n",
       "09-02   4211967\n",
       "09-03   3024306\n",
       "09-04   5543577\n",
       "09-05   5432563\n",
       "09-06   4746013\n",
       "09-07   4951538\n",
       "09-08   4016794\n",
       "09-09   4144263\n",
       "09-10   3605407\n",
       "09-11   3104244\n",
       "09-12   4549744\n",
       "09-13   4511032\n",
       "09-14   4111887\n",
       "09-15   3239836\n",
       "09-16   3325643\n",
       "09-17   3114463\n",
       "09-18   1662267\n",
       "09-19   3250629\n",
       "09-20   2547614\n",
       "09-21   2001956\n",
       "09-22   2792952\n",
       "09-23   3509155\n",
       "09-24   2829241\n",
       "09-25   3155826\n",
       "09-26   3857809\n",
       "09-27   3160614\n",
       "09-28   2858428\n",
       "09-29   3349489\n",
       "09-30   2884624"
      ]
     },
     "execution_count": 5,
     "metadata": {},
     "output_type": "execute_result"
    }
   ],
   "source": [
    "# solution-2\n",
    "bikes_df.pivot_table(index = \"date\", values = \"duration\", aggfunc= \"sum\")"
   ]
  },
  {
   "cell_type": "markdown",
   "id": "7ea0c51b",
   "metadata": {},
   "source": [
    "**(1.4) Use a line chart to display the result obtained in (1.3). Answer the following question based on the line chart and write your answers in the markdown cell**<br>\n",
    "Setting: Use marker = \"o\" and figsize = (12,4)."
   ]
  },
  {
   "cell_type": "code",
   "execution_count": 6,
   "id": "bbf3ebce",
   "metadata": {},
   "outputs": [
    {
     "data": {
      "text/plain": [
       "<Axes: xlabel='date'>"
      ]
     },
     "execution_count": 6,
     "metadata": {},
     "output_type": "execute_result"
    },
    {
     "data": {
      "image/png": "[encoded data removed]",
      "text/plain": [
       "<Figure size 1200x400 with 1 Axes>"
      ]
     },
     "metadata": {},
     "output_type": "display_data"
    }
   ],
   "source": [
    "bikes_df.groupby(\"date\").duration.sum().plot(marker = \"o\", figsize = (12,4))"
   ]
  },
  {
   "cell_type": "markdown",
   "id": "6ca1eed6",
   "metadata": {},
   "source": [
    "- **Question:** Is the total riding time in September showing an increasing or decreasing trend?<br>\n",
    "- **Answer:** Decreasing trend."
   ]
  },
  {
   "cell_type": "markdown",
   "id": "1a8d38a8",
   "metadata": {},
   "source": [
    "## (2) Customer profile analysis\n",
    "A mall has gathered data on their customers through a loyalty program. They have information about age, gender, annual income and spending score. Spending Score is a measure from 0 to 100, created for each customer based on customer behavior and purchasing data."
   ]
  },
  {
   "cell_type": "markdown",
   "id": "bc695cf4",
   "metadata": {},
   "source": [
    "**(2.1) Import dataset <code>customers.csv</code> and use the column <code>CustomerID</code> as the index. Display the first five rows.**<br>\n",
    "Hint: <code>index_col = \"CustomerID\"</code> or <code>index_col = [0]</code>."
   ]
  },
  {
   "cell_type": "code",
   "execution_count": 7,
   "id": "789f33ef",
   "metadata": {},
   "outputs": [
    {
     "data": {
      "text/html": [
       "<div>\n",
       "<style scoped>\n",
       "    .dataframe tbody tr th:only-of-type {\n",
       "        vertical-align: middle;\n",
       "    }\n",
       "\n",
       "    .dataframe tbody tr th {\n",
       "        vertical-align: top;\n",
       "    }\n",
       "\n",
       "    .dataframe thead th {\n",
       "        text-align: right;\n",
       "    }\n",
       "</style>\n",
       "<table border=\"1\" class=\"dataframe\">\n",
       "  <thead>\n",
       "    <tr style=\"text-align: right;\">\n",
       "      <th></th>\n",
       "      <th>Gender</th>\n",
       "      <th>Age</th>\n",
       "      <th>Annual Income (k$)</th>\n",
       "      <th>Spending Score (1-100)</th>\n",
       "    </tr>\n",
       "    <tr>\n",
       "      <th>CustomerID</th>\n",
       "      <th></th>\n",
       "      <th></th>\n",
       "      <th></th>\n",
       "      <th></th>\n",
       "    </tr>\n",
       "  </thead>\n",
       "  <tbody>\n",
       "    <tr>\n",
       "      <th>1</th>\n",
       "      <td>Male</td>\n",
       "      <td>19</td>\n",
       "      <td>15</td>\n",
       "      <td>39</td>\n",
       "    </tr>\n",
       "    <tr>\n",
       "      <th>2</th>\n",
       "      <td>Male</td>\n",
       "      <td>21</td>\n",
       "      <td>15</td>\n",
       "      <td>81</td>\n",
       "    </tr>\n",
       "    <tr>\n",
       "      <th>3</th>\n",
       "      <td>Female</td>\n",
       "      <td>20</td>\n",
       "      <td>16</td>\n",
       "      <td>6</td>\n",
       "    </tr>\n",
       "    <tr>\n",
       "      <th>4</th>\n",
       "      <td>Female</td>\n",
       "      <td>23</td>\n",
       "      <td>16</td>\n",
       "      <td>77</td>\n",
       "    </tr>\n",
       "    <tr>\n",
       "      <th>5</th>\n",
       "      <td>Female</td>\n",
       "      <td>31</td>\n",
       "      <td>17</td>\n",
       "      <td>40</td>\n",
       "    </tr>\n",
       "  </tbody>\n",
       "</table>\n",
       "</div>"
      ],
      "text/plain": [
       "            Gender  Age  Annual Income (k$)  Spending Score (1-100)\n",
       "CustomerID                                                         \n",
       "1             Male   19                  15                      39\n",
       "2             Male   21                  15                      81\n",
       "3           Female   20                  16                       6\n",
       "4           Female   23                  16                      77\n",
       "5           Female   31                  17                      40"
      ]
     },
     "execution_count": 7,
     "metadata": {},
     "output_type": "execute_result"
    }
   ],
   "source": [
    "customer_df = pd.read_csv(\"../dataset/customers.csv\", index_col = [0])\n",
    "customer_df.head(5)"
   ]
  },
  {
   "cell_type": "markdown",
   "id": "065a3444",
   "metadata": {},
   "source": [
    "**(2.2) Rename the columns according to the table below.**<br>"
   ]
  },
  {
   "cell_type": "markdown",
   "id": "89942048",
   "metadata": {},
   "source": [
    "|column name| new column name|\n",
    "|:-:|:-:|\n",
    "|Gender|gender|\n",
    "|Age|age|\n",
    "|Annual Income (k$)|income|\n",
    "|Spending Score (1-100)|spending_score|"
   ]
  },
  {
   "cell_type": "code",
   "execution_count": 8,
   "id": "7a5a42df",
   "metadata": {},
   "outputs": [],
   "source": [
    "customer_df.columns = ['gender', 'age', 'income', 'spending_score']"
   ]
  },
  {
   "cell_type": "markdown",
   "id": "a40e9f0c",
   "metadata": {},
   "source": [
    "**(2.3) Use a histogram to show the income distribution.**"
   ]
  },
  {
   "cell_type": "code",
   "execution_count": 9,
   "id": "d54e4624",
   "metadata": {},
   "outputs": [
    {
     "data": {
      "text/plain": [
       "<Axes: ylabel='Frequency'>"
      ]
     },
     "execution_count": 9,
     "metadata": {},
     "output_type": "execute_result"
    },
    {
     "data": {
      "image/png": "[encoded data removed]",
      "text/plain": [
       "<Figure size 640x480 with 1 Axes>"
      ]
     },
     "metadata": {},
     "output_type": "display_data"
    }
   ],
   "source": [
    "# solution-1\n",
    "customer_df.plot(kind = \"hist\", y = \"income\")"
   ]
  },
  {
   "cell_type": "code",
   "execution_count": 10,
   "id": "4848821a",
   "metadata": {},
   "outputs": [
    {
     "data": {
      "text/plain": [
       "<Axes: ylabel='Frequency'>"
      ]
     },
     "execution_count": 10,
     "metadata": {},
     "output_type": "execute_result"
    },
    {
     "data": {
      "image/png": "[encoded data removed]",
      "text/plain": [
       "<Figure size 640x480 with 1 Axes>"
      ]
     },
     "metadata": {},
     "output_type": "display_data"
    }
   ],
   "source": [
    "# solution-2\n",
    "customer_df.income.plot(kind = \"hist\")"
   ]
  },
  {
   "cell_type": "markdown",
   "id": "68fbe43b",
   "metadata": {},
   "source": [
    "**(2.4) Use a scatter plot to show the relationship between income and spending_score.**"
   ]
  },
  {
   "cell_type": "code",
   "execution_count": 11,
   "id": "66b59e36",
   "metadata": {},
   "outputs": [
    {
     "data": {
      "text/plain": [
       "<Axes: xlabel='income', ylabel='spending_score'>"
      ]
     },
     "execution_count": 11,
     "metadata": {},
     "output_type": "execute_result"
    },
    {
     "data": {
      "image/png": "[encoded data removed]",
      "text/plain": [
       "<Figure size 640x480 with 1 Axes>"
      ]
     },
     "metadata": {},
     "output_type": "display_data"
    }
   ],
   "source": [
    "customer_df.plot(kind = \"scatter\", x= \"income\", y = \"spending_score\")"
   ]
  },
  {
   "cell_type": "markdown",
   "id": "dec72b4c",
   "metadata": {},
   "source": [
    "**(2.5) Use a scatter plot to show the relationship between income and spending_score, where the points are color-coded based on the <code>age</code> of customers. Answer the following question in a markdown cell.**"
   ]
  },
  {
   "cell_type": "code",
   "execution_count": 12,
   "id": "1cb86295",
   "metadata": {},
   "outputs": [
    {
     "data": {
      "text/plain": [
       "<Axes: xlabel='income', ylabel='spending_score'>"
      ]
     },
     "execution_count": 12,
     "metadata": {},
     "output_type": "execute_result"
    },
    {
     "data": {
      "image/png": "[encoded data removed]",
      "text/plain": [
       "<Figure size 640x480 with 2 Axes>"
      ]
     },
     "metadata": {},
     "output_type": "display_data"
    }
   ],
   "source": [
    "customer_df.plot(kind = \"scatter\", x= \"income\", y = \"spending_score\", c = \"age\", colormap = \"Spectral\")"
   ]
  },
  {
   "cell_type": "markdown",
   "id": "700ffb68",
   "metadata": {},
   "source": [
    "- **Question:** Based on the scatter plot, would you define a customer group with an income below 40 and a spending score above 60 as young or old?<br>\n",
    "- **Answer:** Young"
   ]
  },
  {
   "cell_type": "markdown",
   "id": "dfc5e120",
   "metadata": {},
   "source": [
    "**(2.6) Convert the age to age group according to the table below. Store the result in a new column named <code>age_group</code>.**<br>"
   ]
  },
  {
   "cell_type": "markdown",
   "id": "b0da1c89",
   "metadata": {},
   "source": [
    "|range| label|\n",
    "|:-:|:-:|\n",
    "|18-35| young adults|\n",
    "|36-55| middle-aged adults|\n",
    "|56-75| older adults |"
   ]
  },
  {
   "cell_type": "code",
   "execution_count": 13,
   "id": "720f8157",
   "metadata": {},
   "outputs": [],
   "source": [
    "customer_df[\"age_group\"] = pd.cut(customer_df.age, \n",
    "                                  bins = [18,35,55,75],\n",
    "                                  labels = [\"young adults\",\"middle-aged adults\",\"older adults\"], \n",
    "                                  include_lowest = True)"
   ]
  },
  {
   "cell_type": "markdown",
   "id": "474e1656",
   "metadata": {},
   "source": [
    "**(2.7) Count the number of customers in each age group. Display the results with a horizontal bar graph.**"
   ]
  },
  {
   "cell_type": "code",
   "execution_count": 14,
   "id": "9710c9a0",
   "metadata": {},
   "outputs": [
    {
     "data": {
      "text/plain": [
       "<Axes: >"
      ]
     },
     "execution_count": 14,
     "metadata": {},
     "output_type": "execute_result"
    },
    {
     "data": {
      "image/png": "[encoded data removed]",
      "text/plain": [
       "<Figure size 640x480 with 1 Axes>"
      ]
     },
     "metadata": {},
     "output_type": "display_data"
    }
   ],
   "source": [
    "#solution-1\n",
    "customer_df.age_group.value_counts().plot(kind = \"barh\")"
   ]
  },
  {
   "cell_type": "code",
   "execution_count": 15,
   "id": "344368ac",
   "metadata": {},
   "outputs": [
    {
     "data": {
      "text/plain": [
       "<Axes: ylabel='age_group'>"
      ]
     },
     "execution_count": 15,
     "metadata": {},
     "output_type": "execute_result"
    },
    {
     "data": {
      "image/png": "[encoded data removed]",
      "text/plain": [
       "<Figure size 640x480 with 1 Axes>"
      ]
     },
     "metadata": {},
     "output_type": "display_data"
    }
   ],
   "source": [
    "#solution-2\n",
    "customer_df.groupby(\"age_group\").size().plot(kind = \"barh\")"
   ]
  },
  {
   "cell_type": "markdown",
   "id": "b336d228",
   "metadata": {},
   "source": [
    "**(2.8) Group the data by columns <code>age_group</code> and <code>gender</code>. Count the number of customers in each group. Store the result in a dataframe called <code>customer_df_wide</code> in the following format.**"
   ]
  },
  {
   "cell_type": "markdown",
   "id": "8a7eabde",
   "metadata": {},
   "source": [
    "||Female|Male|\n",
    "|:-:|:-:|:-:|\n",
    "|**young adults**|57|...|\n",
    "|**middle-aged adults**|...|...|\n",
    "|**older adults**|...|...|"
   ]
  },
  {
   "cell_type": "code",
   "execution_count": 16,
   "id": "99afe126",
   "metadata": {},
   "outputs": [
    {
     "data": {
      "text/html": [
       "<div>\n",
       "<style scoped>\n",
       "    .dataframe tbody tr th:only-of-type {\n",
       "        vertical-align: middle;\n",
       "    }\n",
       "\n",
       "    .dataframe tbody tr th {\n",
       "        vertical-align: top;\n",
       "    }\n",
       "\n",
       "    .dataframe thead th {\n",
       "        text-align: right;\n",
       "    }\n",
       "</style>\n",
       "<table border=\"1\" class=\"dataframe\">\n",
       "  <thead>\n",
       "    <tr style=\"text-align: right;\">\n",
       "      <th>gender</th>\n",
       "      <th>Female</th>\n",
       "      <th>Male</th>\n",
       "    </tr>\n",
       "    <tr>\n",
       "      <th>age_group</th>\n",
       "      <th></th>\n",
       "      <th></th>\n",
       "    </tr>\n",
       "  </thead>\n",
       "  <tbody>\n",
       "    <tr>\n",
       "      <th>young adults</th>\n",
       "      <td>57</td>\n",
       "      <td>41</td>\n",
       "    </tr>\n",
       "    <tr>\n",
       "      <th>middle-aged adults</th>\n",
       "      <td>44</td>\n",
       "      <td>29</td>\n",
       "    </tr>\n",
       "    <tr>\n",
       "      <th>older adults</th>\n",
       "      <td>11</td>\n",
       "      <td>18</td>\n",
       "    </tr>\n",
       "  </tbody>\n",
       "</table>\n",
       "</div>"
      ],
      "text/plain": [
       "gender              Female  Male\n",
       "age_group                       \n",
       "young adults            57    41\n",
       "middle-aged adults      44    29\n",
       "older adults            11    18"
      ]
     },
     "execution_count": 16,
     "metadata": {},
     "output_type": "execute_result"
    }
   ],
   "source": [
    "# solution-1  \n",
    "# Without specifying \"values\" and \"aggfunc\", the method \"crosstab\" will calculate the frequency\n",
    "customer_df_wide = pd.crosstab(index = customer_df[\"age_group\"], \n",
    "                               columns = customer_df[\"gender\"])\n",
    "customer_df_wide"
   ]
  },
  {
   "cell_type": "code",
   "execution_count": 17,
   "id": "1830c7c9",
   "metadata": {},
   "outputs": [
    {
     "data": {
      "text/html": [
       "<div>\n",
       "<style scoped>\n",
       "    .dataframe tbody tr th:only-of-type {\n",
       "        vertical-align: middle;\n",
       "    }\n",
       "\n",
       "    .dataframe tbody tr th {\n",
       "        vertical-align: top;\n",
       "    }\n",
       "\n",
       "    .dataframe thead th {\n",
       "        text-align: right;\n",
       "    }\n",
       "</style>\n",
       "<table border=\"1\" class=\"dataframe\">\n",
       "  <thead>\n",
       "    <tr style=\"text-align: right;\">\n",
       "      <th>gender</th>\n",
       "      <th>Female</th>\n",
       "      <th>Male</th>\n",
       "    </tr>\n",
       "    <tr>\n",
       "      <th>age_group</th>\n",
       "      <th></th>\n",
       "      <th></th>\n",
       "    </tr>\n",
       "  </thead>\n",
       "  <tbody>\n",
       "    <tr>\n",
       "      <th>young adults</th>\n",
       "      <td>57</td>\n",
       "      <td>41</td>\n",
       "    </tr>\n",
       "    <tr>\n",
       "      <th>middle-aged adults</th>\n",
       "      <td>44</td>\n",
       "      <td>29</td>\n",
       "    </tr>\n",
       "    <tr>\n",
       "      <th>older adults</th>\n",
       "      <td>11</td>\n",
       "      <td>18</td>\n",
       "    </tr>\n",
       "  </tbody>\n",
       "</table>\n",
       "</div>"
      ],
      "text/plain": [
       "gender              Female  Male\n",
       "age_group                       \n",
       "young adults            57    41\n",
       "middle-aged adults      44    29\n",
       "older adults            11    18"
      ]
     },
     "execution_count": 17,
     "metadata": {},
     "output_type": "execute_result"
    }
   ],
   "source": [
    "# solution-2 \n",
    "# If \"aggfunc = \"count\", you can use any column for the argument \"values\"\n",
    "customer_df_wide = customer_df.pivot_table(index = \"age_group\", \n",
    "                                           columns = \"gender\", \n",
    "                                           values = \"spending_score\", \n",
    "                                           aggfunc = \"count\")\n",
    "customer_df_wide"
   ]
  },
  {
   "cell_type": "markdown",
   "id": "d763206c",
   "metadata": {},
   "source": [
    "**(2.9) Draw a stacked horizontal bar chart to show the number of customers in each age group. Each bar is stacked by two sub-bars: the number of male customers and the number of female customers.** "
   ]
  },
  {
   "cell_type": "code",
   "execution_count": 18,
   "id": "1fc05b97",
   "metadata": {},
   "outputs": [
    {
     "data": {
      "text/plain": [
       "<Axes: ylabel='age_group'>"
      ]
     },
     "execution_count": 18,
     "metadata": {},
     "output_type": "execute_result"
    },
    {
     "data": {
      "image/png": "[encoded data removed]",
      "text/plain": [
       "<Figure size 640x480 with 1 Axes>"
      ]
     },
     "metadata": {},
     "output_type": "display_data"
    }
   ],
   "source": [
    "customer_df_wide.plot(kind = \"barh\", stacked = True)"
   ]
  },
  {
   "cell_type": "markdown",
   "id": "b09b74e1",
   "metadata": {},
   "source": [
    "## (3) Wine dataset\n",
    "Description of each column\n",
    "- **country**: The country that the wine is from\n",
    "- **description**: A few sentences from a sommelier describing the wine's taste, smell, look, feel, etc.\n",
    "- **designation**: The vineyard within the winery where the grapes that made the wine are from\n",
    "- **points**: The number of points WineEnthusiast rated the wine on a scale of 1-100\n",
    "- **price**: The cost for a bottle of the wine\n",
    "- **province**: The province or state that the wine is from\n",
    "- **region_1**: The wine growing area in a province or state\n",
    "- **region_2**: Sometimes there are more specific regions specified within a wine growing area, but this value can sometimes be blank\n",
    "- **variety**: The type of grapes used to make the wine\n",
    "- **winery**: The winery that made the wine"
   ]
  },
  {
   "cell_type": "markdown",
   "id": "e9620a87",
   "metadata": {},
   "source": [
    "**(3.1) Import dataset <code>wine.csv</code> and set the first column as the index.** "
   ]
  },
  {
   "cell_type": "code",
   "execution_count": 19,
   "id": "0b2d8d4c",
   "metadata": {},
   "outputs": [],
   "source": [
    "wine_raw_df = pd.read_csv(\"../dataset/wine.csv\", index_col = [0])"
   ]
  },
  {
   "cell_type": "markdown",
   "id": "31e7effe",
   "metadata": {},
   "source": [
    "**(3.2) Shows the top five grape types most commonly used to produce wine.**<br>\n",
    "Hint: Calculate the frequency of each category in the <code>variety</code> column."
   ]
  },
  {
   "cell_type": "code",
   "execution_count": 20,
   "id": "83edf2b5",
   "metadata": {},
   "outputs": [
    {
     "data": {
      "text/plain": [
       "Chardonnay                  14482\n",
       "Pinot Noir                  14291\n",
       "Cabernet Sauvignon          12800\n",
       "Red Blend                   10062\n",
       "Bordeaux-style Red Blend     7347\n",
       "Name: variety, dtype: int64"
      ]
     },
     "execution_count": 20,
     "metadata": {},
     "output_type": "execute_result"
    }
   ],
   "source": [
    "# solution-1\n",
    "wine_raw_df.variety.value_counts().head(5)"
   ]
  },
  {
   "cell_type": "code",
   "execution_count": 21,
   "id": "a431f9a9",
   "metadata": {},
   "outputs": [
    {
     "data": {
      "text/plain": [
       "variety\n",
       "Chardonnay                  14482\n",
       "Pinot Noir                  14291\n",
       "Cabernet Sauvignon          12800\n",
       "Red Blend                   10062\n",
       "Bordeaux-style Red Blend     7347\n",
       "dtype: int64"
      ]
     },
     "execution_count": 21,
     "metadata": {},
     "output_type": "execute_result"
    }
   ],
   "source": [
    "# solution-2\n",
    "wine_raw_df.groupby(\"variety\").size().sort_values(ascending = False).head(5)"
   ]
  },
  {
   "cell_type": "markdown",
   "id": "727c67a9",
   "metadata": {},
   "source": [
    "**(3.3) Display the result obtained in (3.2) with a pie chart.**"
   ]
  },
  {
   "cell_type": "code",
   "execution_count": 22,
   "id": "bfe87f42",
   "metadata": {},
   "outputs": [
    {
     "data": {
      "text/plain": [
       "<Axes: ylabel='variety'>"
      ]
     },
     "execution_count": 22,
     "metadata": {},
     "output_type": "execute_result"
    },
    {
     "data": {
      "image/png": "[encoded data removed]",
      "text/plain": [
       "<Figure size 640x480 with 1 Axes>"
      ]
     },
     "metadata": {},
     "output_type": "display_data"
    }
   ],
   "source": [
    "wine_raw_df.variety.value_counts().head(5).plot(kind = \"pie\")"
   ]
  },
  {
   "cell_type": "markdown",
   "id": "acba35dd",
   "metadata": {},
   "source": [
    "**(3.4) Select a subset that meets all of the following criteria. Use this subset to solve the following tasks.**<br>\n",
    "- Produced in Spain, Italy or France.\n",
    "- The price is less than 200.\n",
    "- Made from the following grape varieties: Chardonnay, Pinot Noir, Cabernet Sauvignon."
   ]
  },
  {
   "cell_type": "code",
   "execution_count": 23,
   "id": "e0604501",
   "metadata": {},
   "outputs": [
    {
     "data": {
      "text/html": [
       "<div>\n",
       "<style scoped>\n",
       "    .dataframe tbody tr th:only-of-type {\n",
       "        vertical-align: middle;\n",
       "    }\n",
       "\n",
       "    .dataframe tbody tr th {\n",
       "        vertical-align: top;\n",
       "    }\n",
       "\n",
       "    .dataframe thead th {\n",
       "        text-align: right;\n",
       "    }\n",
       "</style>\n",
       "<table border=\"1\" class=\"dataframe\">\n",
       "  <thead>\n",
       "    <tr style=\"text-align: right;\">\n",
       "      <th></th>\n",
       "      <th>country</th>\n",
       "      <th>description</th>\n",
       "      <th>designation</th>\n",
       "      <th>points</th>\n",
       "      <th>price</th>\n",
       "      <th>province</th>\n",
       "      <th>region_1</th>\n",
       "      <th>region_2</th>\n",
       "      <th>variety</th>\n",
       "      <th>winery</th>\n",
       "    </tr>\n",
       "  </thead>\n",
       "  <tbody>\n",
       "    <tr>\n",
       "      <th>51</th>\n",
       "      <td>France</td>\n",
       "      <td>This structured, complex Chardonnay is packed ...</td>\n",
       "      <td>NaN</td>\n",
       "      <td>90</td>\n",
       "      <td>68.0</td>\n",
       "      <td>Burgundy</td>\n",
       "      <td>Chassagne-Montrachet</td>\n",
       "      <td>NaN</td>\n",
       "      <td>Chardonnay</td>\n",
       "      <td>Chartron et Trébuchet</td>\n",
       "    </tr>\n",
       "    <tr>\n",
       "      <th>53</th>\n",
       "      <td>France</td>\n",
       "      <td>With its light color and cool feel, this well-...</td>\n",
       "      <td>L'Inédit</td>\n",
       "      <td>90</td>\n",
       "      <td>28.0</td>\n",
       "      <td>Loire Valley</td>\n",
       "      <td>Coteaux du Giennois</td>\n",
       "      <td>NaN</td>\n",
       "      <td>Pinot Noir</td>\n",
       "      <td>Clement et Florian Berthier</td>\n",
       "    </tr>\n",
       "    <tr>\n",
       "      <th>63</th>\n",
       "      <td>France</td>\n",
       "      <td>L'Homme Mort is a northern extension of the Fo...</td>\n",
       "      <td>L'Homme Mort Premier Cru</td>\n",
       "      <td>91</td>\n",
       "      <td>45.0</td>\n",
       "      <td>Burgundy</td>\n",
       "      <td>Chablis</td>\n",
       "      <td>NaN</td>\n",
       "      <td>Chardonnay</td>\n",
       "      <td>Domaine Chenevières</td>\n",
       "    </tr>\n",
       "    <tr>\n",
       "      <th>66</th>\n",
       "      <td>France</td>\n",
       "      <td>The steely character of a young Chablis is ver...</td>\n",
       "      <td>Fourchaume Premier Cru</td>\n",
       "      <td>91</td>\n",
       "      <td>38.0</td>\n",
       "      <td>Burgundy</td>\n",
       "      <td>Chablis</td>\n",
       "      <td>NaN</td>\n",
       "      <td>Chardonnay</td>\n",
       "      <td>Louis Max</td>\n",
       "    </tr>\n",
       "    <tr>\n",
       "      <th>76</th>\n",
       "      <td>France</td>\n",
       "      <td>This wine is bone-dry, although with some age ...</td>\n",
       "      <td>Le Nombre d'Or Brut Nature</td>\n",
       "      <td>91</td>\n",
       "      <td>85.0</td>\n",
       "      <td>Champagne</td>\n",
       "      <td>Champagne</td>\n",
       "      <td>NaN</td>\n",
       "      <td>Chardonnay</td>\n",
       "      <td>Aubry</td>\n",
       "    </tr>\n",
       "  </tbody>\n",
       "</table>\n",
       "</div>"
      ],
      "text/plain": [
       "   country                                        description  \\\n",
       "51  France  This structured, complex Chardonnay is packed ...   \n",
       "53  France  With its light color and cool feel, this well-...   \n",
       "63  France  L'Homme Mort is a northern extension of the Fo...   \n",
       "66  France  The steely character of a young Chablis is ver...   \n",
       "76  France  This wine is bone-dry, although with some age ...   \n",
       "\n",
       "                   designation  points  price      province  \\\n",
       "51                         NaN      90   68.0      Burgundy   \n",
       "53                    L'Inédit      90   28.0  Loire Valley   \n",
       "63    L'Homme Mort Premier Cru      91   45.0      Burgundy   \n",
       "66      Fourchaume Premier Cru      91   38.0      Burgundy   \n",
       "76  Le Nombre d'Or Brut Nature      91   85.0     Champagne   \n",
       "\n",
       "                region_1 region_2     variety                       winery  \n",
       "51  Chassagne-Montrachet      NaN  Chardonnay        Chartron et Trébuchet  \n",
       "53   Coteaux du Giennois      NaN  Pinot Noir  Clement et Florian Berthier  \n",
       "63               Chablis      NaN  Chardonnay          Domaine Chenevières  \n",
       "66               Chablis      NaN  Chardonnay                    Louis Max  \n",
       "76             Champagne      NaN  Chardonnay                        Aubry  "
      ]
     },
     "execution_count": 23,
     "metadata": {},
     "output_type": "execute_result"
    }
   ],
   "source": [
    "wine_df = wine_raw_df[(wine_raw_df.country.isin([\"Spain\",\"Italy\",\"France\"])\n",
    "                       &(wine_raw_df.price<200)\n",
    "                       &(wine_raw_df.variety.isin([\"Chardonnay\", \"Pinot Noir\", \"Cabernet Sauvignon\"])))]\n",
    "wine_df.head(5)"
   ]
  },
  {
   "cell_type": "markdown",
   "id": "7ad5208c",
   "metadata": {},
   "source": [
    "**(3.5) Export the subset obtaind in (3.4) as a csv file.**<br>\n",
    "Hint: You can search online for \"how to export dataframe to csv in python\".\n",
    "        "
   ]
  },
  {
   "cell_type": "code",
   "execution_count": 24,
   "id": "3fa3d925",
   "metadata": {},
   "outputs": [],
   "source": [
    "wine_df.to_csv(\"wine_subset.csv\")"
   ]
  },
  {
   "cell_type": "markdown",
   "id": "95b1e2d8",
   "metadata": {},
   "source": [
    "**(3.6) For those wines made from the grape variety \"Pinot Noir\", use a histogram to show their distribution of <code>point</code>. Answer the following question in a markdown cell.**"
   ]
  },
  {
   "cell_type": "code",
   "execution_count": 25,
   "id": "ec1eed34",
   "metadata": {},
   "outputs": [
    {
     "data": {
      "text/plain": [
       "<Axes: ylabel='Frequency'>"
      ]
     },
     "execution_count": 25,
     "metadata": {},
     "output_type": "execute_result"
    },
    {
     "data": {
      "image/png": "[encoded data removed]",
      "text/plain": [
       "<Figure size 640x480 with 1 Axes>"
      ]
     },
     "metadata": {},
     "output_type": "display_data"
    }
   ],
   "source": [
    "wine_df[wine_df.variety == \"Pinot Noir\"].points.plot(kind = \"hist\")"
   ]
  },
  {
   "cell_type": "markdown",
   "id": "59045f8b",
   "metadata": {},
   "source": [
    "- **Question:** Based on the distribution of points, which of the following ranges do most wines fall into? [80-83], [84-87], [88-91], [92-95]<br>\n",
    "- **Answer:** 88-91"
   ]
  },
  {
   "cell_type": "markdown",
   "id": "2724c304",
   "metadata": {},
   "source": [
    "**(3.7) Use a horizontal bar chart to display the average price for each grape variety.**"
   ]
  },
  {
   "cell_type": "code",
   "execution_count": 26,
   "id": "a3a967b2",
   "metadata": {},
   "outputs": [
    {
     "data": {
      "text/plain": [
       "<Axes: ylabel='variety'>"
      ]
     },
     "execution_count": 26,
     "metadata": {},
     "output_type": "execute_result"
    },
    {
     "data": {
      "image/png": "[encoded data removed]",
      "text/plain": [
       "<Figure size 640x480 with 1 Axes>"
      ]
     },
     "metadata": {},
     "output_type": "display_data"
    }
   ],
   "source": [
    "# solution-1\n",
    "wine_df.groupby(\"variety\").price.mean().plot(kind = \"barh\")"
   ]
  },
  {
   "cell_type": "code",
   "execution_count": 27,
   "id": "6876eebc",
   "metadata": {},
   "outputs": [
    {
     "data": {
      "text/plain": [
       "<Axes: ylabel='variety'>"
      ]
     },
     "execution_count": 27,
     "metadata": {},
     "output_type": "execute_result"
    },
    {
     "data": {
      "image/png": "[encoded data removed]",
      "text/plain": [
       "<Figure size 640x480 with 1 Axes>"
      ]
     },
     "metadata": {},
     "output_type": "display_data"
    }
   ],
   "source": [
    "# solution-2\n",
    "wine_df.pivot_table(index = \"variety\", values = \"price\", aggfunc = \"mean\").plot(kind = \"barh\", y = \"price\")"
   ]
  },
  {
   "cell_type": "markdown",
   "id": "deb28059",
   "metadata": {},
   "source": [
    "**(3.8) Calculate the average price of each grape variety in each country.**"
   ]
  },
  {
   "cell_type": "code",
   "execution_count": 28,
   "id": "dd6a3e2c",
   "metadata": {},
   "outputs": [
    {
     "data": {
      "text/plain": [
       "country  variety           \n",
       "France   Cabernet Sauvignon    11.477273\n",
       "         Chardonnay            50.222074\n",
       "         Pinot Noir            59.107192\n",
       "Italy    Cabernet Sauvignon    48.612150\n",
       "         Chardonnay            32.188889\n",
       "         Pinot Noir            15.714286\n",
       "Spain    Cabernet Sauvignon    29.770270\n",
       "         Chardonnay            15.626866\n",
       "         Pinot Noir            18.483871\n",
       "Name: price, dtype: float64"
      ]
     },
     "execution_count": 28,
     "metadata": {},
     "output_type": "execute_result"
    }
   ],
   "source": [
    "# solution-1\n",
    "wine_df.groupby([\"country\", \"variety\"]).price.mean()"
   ]
  },
  {
   "cell_type": "code",
   "execution_count": 29,
   "id": "ae72bb68",
   "metadata": {},
   "outputs": [
    {
     "data": {
      "text/html": [
       "<div>\n",
       "<style scoped>\n",
       "    .dataframe tbody tr th:only-of-type {\n",
       "        vertical-align: middle;\n",
       "    }\n",
       "\n",
       "    .dataframe tbody tr th {\n",
       "        vertical-align: top;\n",
       "    }\n",
       "\n",
       "    .dataframe thead th {\n",
       "        text-align: right;\n",
       "    }\n",
       "</style>\n",
       "<table border=\"1\" class=\"dataframe\">\n",
       "  <thead>\n",
       "    <tr style=\"text-align: right;\">\n",
       "      <th>variety</th>\n",
       "      <th>Cabernet Sauvignon</th>\n",
       "      <th>Chardonnay</th>\n",
       "      <th>Pinot Noir</th>\n",
       "    </tr>\n",
       "    <tr>\n",
       "      <th>country</th>\n",
       "      <th></th>\n",
       "      <th></th>\n",
       "      <th></th>\n",
       "    </tr>\n",
       "  </thead>\n",
       "  <tbody>\n",
       "    <tr>\n",
       "      <th>France</th>\n",
       "      <td>11.477273</td>\n",
       "      <td>50.222074</td>\n",
       "      <td>59.107192</td>\n",
       "    </tr>\n",
       "    <tr>\n",
       "      <th>Italy</th>\n",
       "      <td>48.612150</td>\n",
       "      <td>32.188889</td>\n",
       "      <td>15.714286</td>\n",
       "    </tr>\n",
       "    <tr>\n",
       "      <th>Spain</th>\n",
       "      <td>29.770270</td>\n",
       "      <td>15.626866</td>\n",
       "      <td>18.483871</td>\n",
       "    </tr>\n",
       "  </tbody>\n",
       "</table>\n",
       "</div>"
      ],
      "text/plain": [
       "variety  Cabernet Sauvignon  Chardonnay  Pinot Noir\n",
       "country                                            \n",
       "France            11.477273   50.222074   59.107192\n",
       "Italy             48.612150   32.188889   15.714286\n",
       "Spain             29.770270   15.626866   18.483871"
      ]
     },
     "execution_count": 29,
     "metadata": {},
     "output_type": "execute_result"
    }
   ],
   "source": [
    "# solution-2\n",
    "wine_df.pivot_table(index = \"country\", columns =\"variety\", values = \"price\", aggfunc = \"mean\")"
   ]
  },
  {
   "cell_type": "markdown",
   "id": "65727782",
   "metadata": {},
   "source": [
    "**(3.9) Use a horizontal bar chart to display the result obtained in (3.8).**<br>\n",
    "Hint: Use \"country\" as the ylable, and use different colored bars to represent the varieties."
   ]
  },
  {
   "cell_type": "code",
   "execution_count": 30,
   "id": "ddc1961c",
   "metadata": {},
   "outputs": [
    {
     "data": {
      "text/plain": [
       "<Axes: ylabel='country'>"
      ]
     },
     "execution_count": 30,
     "metadata": {},
     "output_type": "execute_result"
    },
    {
     "data": {
      "image/png": "[encoded data removed]",
      "text/plain": [
       "<Figure size 640x480 with 1 Axes>"
      ]
     },
     "metadata": {},
     "output_type": "display_data"
    }
   ],
   "source": [
    "#solution-1\n",
    "wine_df.groupby([\"country\", \"variety\"]).price.mean().unstack().plot(kind = \"barh\")"
   ]
  },
  {
   "cell_type": "code",
   "execution_count": 31,
   "id": "f1ba06f5",
   "metadata": {},
   "outputs": [
    {
     "data": {
      "text/plain": [
       "<Axes: ylabel='country'>"
      ]
     },
     "execution_count": 31,
     "metadata": {},
     "output_type": "execute_result"
    },
    {
     "data": {
      "image/png": "[encoded data removed]",
      "text/plain": [
       "<Figure size 640x480 with 1 Axes>"
      ]
     },
     "metadata": {},
     "output_type": "display_data"
    }
   ],
   "source": [
    "#solution-2\n",
    "wine_df.pivot_table(index = \"country\", columns =\"variety\", values = \"price\", aggfunc = \"mean\").plot(kind = \"barh\")"
   ]
  }
 ],
 "metadata": {
  "kernelspec": {
   "display_name": "Python 3 (ipykernel)",
   "language": "python",
   "name": "python3"
  },
  "language_info": {
   "codemirror_mode": {
    "name": "ipython",
    "version": 3
   },
   "file_extension": ".py",
   "mimetype": "text/x-python",
   "name": "python",
   "nbconvert_exporter": "python",
   "pygments_lexer": "ipython3",
   "version": "3.11.4"
  }
 },
 "nbformat": 4,
 "nbformat_minor": 5
}
