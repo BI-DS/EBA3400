{
 "cells": [
  {
   "cell_type": "markdown",
   "id": "91db6ec3",
   "metadata": {},
   "source": [
    "# Pandas 2 - Data Preprocessing"
   ]
  },
  {
   "cell_type": "code",
   "execution_count": null,
   "id": "3931b1cd",
   "metadata": {},
   "outputs": [],
   "source": [
    "# import package"
   ]
  },
  {
   "cell_type": "markdown",
   "id": "dfe9a722",
   "metadata": {},
   "source": [
    "## (1) Product sales"
   ]
  },
  {
   "cell_type": "markdown",
   "id": "efff2d46",
   "metadata": {},
   "source": [
    "**(1.1) Given the following dataframes <code>df_price</code> and <code>df_sales</code>. Find sales data for all the product listed in <code>df_price</code>. Which product is missing sales data?** (Write your answer in the markdown cell.)"
   ]
  },
  {
   "cell_type": "code",
   "execution_count": null,
   "id": "9695ff5f",
   "metadata": {},
   "outputs": [],
   "source": [
    "df_price = pd.DataFrame({\"product_name\":[\"A\", \"B\", \"C\", \"D\", \"E\"], \"price\":[35, 10, 25, 30, 20]})\n",
    "df_sales = pd.DataFrame({\"product_name\":[\"A\", \"B\", \"C\", \"E\", \"F\"], \"sales\":[360, 470, 150, 290, 210]})\n",
    "display(df_price)\n",
    "display(df_sales)"
   ]
  },
  {
   "cell_type": "code",
   "execution_count": null,
   "id": "905a3354",
   "metadata": {},
   "outputs": [],
   "source": []
  },
  {
   "cell_type": "markdown",
   "id": "98b85d58",
   "metadata": {},
   "source": [
    "**Write your answer here:**<br>\n",
    "Product __ is missing sales data."
   ]
  },
  {
   "cell_type": "markdown",
   "id": "3ff7e6e1",
   "metadata": {},
   "source": [
    "**(1.2) List products with both price and sales data.**"
   ]
  },
  {
   "cell_type": "code",
   "execution_count": null,
   "id": "fe457a60",
   "metadata": {},
   "outputs": [],
   "source": []
  },
  {
   "cell_type": "markdown",
   "id": "205b83ed",
   "metadata": {},
   "source": [
    "**(1.3) Store the result in (1.1) as a new dataframe. Sort the new dataframe in descending order based on the column \"Sales\".**"
   ]
  },
  {
   "cell_type": "code",
   "execution_count": null,
   "id": "9eb2499c",
   "metadata": {},
   "outputs": [],
   "source": []
  },
  {
   "cell_type": "markdown",
   "id": "f6305286",
   "metadata": {},
   "source": [
    "## (2) Score"
   ]
  },
  {
   "cell_type": "markdown",
   "id": "01a4dfef",
   "metadata": {},
   "source": [
    "**(2.1) Concatenate the following series to create a dataframe called <code>score_df</code>, as shown below.**<br> \n",
    "Hint: Rename columns https://pandas.pydata.org/docs/reference/api/pandas.DataFrame.rename.html"
   ]
  },
  {
   "cell_type": "markdown",
   "id": "d5924518",
   "metadata": {},
   "source": [
    "||Exam-1|Exam-2|Average|\n",
    "|:-:|:-:|:-:|:-:|\n",
    "|**S01**|7.0|8.0|7.5|\n",
    "|**S02**|6.5|7.5|7.0|\n",
    "|**S03**|8.5|7.5|8.0|\n",
    "|**S04**|8.0|9.0|8.5|"
   ]
  },
  {
   "cell_type": "code",
   "execution_count": null,
   "id": "6925bfc1",
   "metadata": {},
   "outputs": [],
   "source": [
    "exam1 = pd.Series([7.0,6.5,8.5,8.0], index =  [\"S01\",\"S02\",\"S03\",\"S04\"])\n",
    "exam2 = pd.Series([8.0,7.5,7.5,9.0], index =  [\"S01\",\"S02\",\"S03\",\"S04\"])\n",
    "avg = pd.Series([7.5,7.0,8.0,8.5], index =  [\"S01\",\"S02\",\"S03\",\"S04\"])"
   ]
  },
  {
   "cell_type": "code",
   "execution_count": null,
   "id": "531da4c0",
   "metadata": {},
   "outputs": [],
   "source": []
  },
  {
   "cell_type": "markdown",
   "id": "d7e5244b",
   "metadata": {},
   "source": [
    "**(2.2) Add a new column called <code>Rank</code> which gives the rank based on the <code>Average</code> column.** <br>\n",
    "Expected result:\n",
    "\n"
   ]
  },
  {
   "cell_type": "markdown",
   "id": "223d89a2",
   "metadata": {},
   "source": [
    "||Exam-1|Exam-2|Average|Rank|\n",
    "|:-:|:-:|:-:|:-:|:-:|\n",
    "|**S01**|7.0|8.0|7.5|3.0|\n",
    "|**S02**|6.5|7.5|7.0|4.0|\n",
    "|**S03**|8.5|7.5|8.0|2.0|\n",
    "|**S04**|8.0|9.0|8.5|1.0|"
   ]
  },
  {
   "cell_type": "markdown",
   "id": "32aaf0e3",
   "metadata": {},
   "source": [
    "Hint: Use <code>df[column_name].rank(ascending = False)</code>\n",
    "https://pandas.pydata.org/pandas-docs/stable/reference/api/pandas.DataFrame.rank.html"
   ]
  },
  {
   "cell_type": "code",
   "execution_count": null,
   "id": "f6cfc361",
   "metadata": {},
   "outputs": [],
   "source": []
  },
  {
   "cell_type": "markdown",
   "id": "06e3673d",
   "metadata": {},
   "source": [
    "**(2.3) Sort the dataframe in ascending order based on the <code>Rank</code> column. Apply this change directly to the dataframe.**"
   ]
  },
  {
   "cell_type": "code",
   "execution_count": null,
   "id": "baba5219",
   "metadata": {},
   "outputs": [],
   "source": []
  },
  {
   "cell_type": "markdown",
   "id": "37b6c08a",
   "metadata": {},
   "source": [
    "## (3) Brand sales at online e-tailer"
   ]
  },
  {
   "cell_type": "markdown",
   "id": "27243fc5",
   "metadata": {},
   "source": [
    "**(3.1) Import the dataset <code>fashion.csv</code>. Use info() to show a summary of the dataset. Which columns have missing values? (Non-null count is less than row count.)** Write you answer in markdown cell."
   ]
  },
  {
   "cell_type": "code",
   "execution_count": null,
   "id": "ad78eae8",
   "metadata": {},
   "outputs": [],
   "source": []
  },
  {
   "cell_type": "markdown",
   "id": "4d48c0cd",
   "metadata": {},
   "source": [
    "**Write your answer here:**<br>\n",
    "Columns with missing values: _________"
   ]
  },
  {
   "cell_type": "markdown",
   "id": "956e3b1e",
   "metadata": {},
   "source": [
    "**(3.2) Create a copy of the dataframe obtained in (3.1) and use it to complete the following tasks.**"
   ]
  },
  {
   "cell_type": "code",
   "execution_count": null,
   "id": "9853294b",
   "metadata": {},
   "outputs": [],
   "source": []
  },
  {
   "cell_type": "markdown",
   "id": "85eedfea",
   "metadata": {},
   "source": [
    "**(3.3) Remove columns with missing values and apply this change directly.**"
   ]
  },
  {
   "cell_type": "code",
   "execution_count": null,
   "id": "657a022d",
   "metadata": {},
   "outputs": [],
   "source": []
  },
  {
   "cell_type": "markdown",
   "id": "9bfe1ba1",
   "metadata": {},
   "source": [
    "**(3.4) Extract the years from the column <code>Date</code> and put them in a new column named <code>Year</code>. Display the last 15 rows of the updated dataframe.**<br>\n",
    "Hint: To slice a substring from each element in the series, you can use <code>Series_name.str[start_index:stop_index]</code>\n",
    "https://pandas.pydata.org/docs/reference/api/pandas.Series.str.slice.html"
   ]
  },
  {
   "cell_type": "code",
   "execution_count": null,
   "id": "0ffdd7f8",
   "metadata": {},
   "outputs": [],
   "source": []
  },
  {
   "cell_type": "markdown",
   "id": "9f66eb3b",
   "metadata": {},
   "source": [
    "**(3.5) Select Tiger_of_Sweden's sales data in 2018 and store them in a new dataframe. The new dataframe should include the following columns: <code>Date, Year, Tiger_of_Sweden</code>.**<br>"
   ]
  },
  {
   "cell_type": "code",
   "execution_count": null,
   "id": "e8a3a16d",
   "metadata": {},
   "outputs": [],
   "source": []
  },
  {
   "cell_type": "markdown",
   "id": "bd1989be",
   "metadata": {},
   "source": [
    "**(3.6) Which month did Tiger_of_Sweden have the highest sales in 2018?**<br>"
   ]
  },
  {
   "cell_type": "code",
   "execution_count": null,
   "id": "b010a75f",
   "metadata": {},
   "outputs": [],
   "source": []
  },
  {
   "cell_type": "markdown",
   "id": "51ee36d1",
   "metadata": {},
   "source": [
    "**Write your answer here:**<br>\n",
    "The highest sales in 2018 were in ___."
   ]
  },
  {
   "cell_type": "markdown",
   "id": "91284f96",
   "metadata": {},
   "source": [
    "## (4) Complains\n",
    "In the US, 311 is a non-emergency phone number that people can call in many cities to find information about services, make complaints, or report problems like graffiti or road damage.\n"
   ]
  },
  {
   "cell_type": "markdown",
   "id": "d481eee8",
   "metadata": {},
   "source": [
    "**(4.1) Import the dataset <code>complaints.csv</code>. Show the first 5 rows.**<br>\n",
    "Note: You may receive a warning message (https://pandas.pydata.org/docs/reference/api/pandas.errors.DtypeWarning.html). You can try to solve this little problem. If you don't know how to fix it, , you can still continue with the following tasks."
   ]
  },
  {
   "cell_type": "code",
   "execution_count": null,
   "id": "7245843f",
   "metadata": {},
   "outputs": [],
   "source": []
  },
  {
   "cell_type": "markdown",
   "id": "88746ce2",
   "metadata": {},
   "source": [
    "**(4.2) Show the column names and their data types in this dataset.**"
   ]
  },
  {
   "cell_type": "code",
   "execution_count": null,
   "id": "252e6122",
   "metadata": {},
   "outputs": [],
   "source": []
  },
  {
   "cell_type": "markdown",
   "id": "c03aa10e",
   "metadata": {},
   "source": [
    "**(4.3) How many observations and variables are there in this dataset?**"
   ]
  },
  {
   "cell_type": "code",
   "execution_count": null,
   "id": "c8594a21",
   "metadata": {},
   "outputs": [],
   "source": []
  },
  {
   "cell_type": "markdown",
   "id": "12712a76",
   "metadata": {},
   "source": [
    "**(4.4) Display the first five rows of columns <code>Complaint Type</code> and <code>Borough</code>.**"
   ]
  },
  {
   "cell_type": "code",
   "execution_count": null,
   "id": "6b67abe6",
   "metadata": {},
   "outputs": [],
   "source": []
  },
  {
   "cell_type": "markdown",
   "id": "956548fa",
   "metadata": {},
   "source": [
    "**(4.5) Show the number of complaints recorded in each region (borough).**<br>"
   ]
  },
  {
   "cell_type": "code",
   "execution_count": null,
   "id": "7d6846d2",
   "metadata": {},
   "outputs": [],
   "source": []
  },
  {
   "cell_type": "markdown",
   "id": "c18ae8e0",
   "metadata": {},
   "source": [
    "**(4.6) Create a subset of the MANHATTAN area named <code>manhattan_df</code> and include only columns <code>Complaint Type</code> and <code>Borough</code>.**"
   ]
  },
  {
   "cell_type": "code",
   "execution_count": null,
   "id": "7838b488",
   "metadata": {
    "scrolled": true
   },
   "outputs": [],
   "source": []
  },
  {
   "cell_type": "markdown",
   "id": "e4e25620",
   "metadata": {},
   "source": [
    "**(4.7) Import the dataset <code>complaints_mapping.xlsx</code>. Show the data.**<br>\n",
    "Hint: https://pandas.pydata.org/docs/reference/api/pandas.read_excel.html"
   ]
  },
  {
   "cell_type": "code",
   "execution_count": null,
   "id": "ae9363e0",
   "metadata": {},
   "outputs": [],
   "source": []
  },
  {
   "cell_type": "markdown",
   "id": "841def2c",
   "metadata": {},
   "source": [
    "**(4.8) Use the dataset in (4.7), find the category of each complaint type in <code>manhattan_df</code>.**<br>\n",
    "Example:\n"
   ]
  },
  {
   "cell_type": "markdown",
   "id": "8b4abdb0",
   "metadata": {},
   "source": [
    "||Complaint Type|Borough|Category|\n",
    "|:-:|:-:|:-:|:-:|\n",
    "|0|Noise - Commercial|MANHATTAN|Noise|\n",
    "|1|Noise - Vehicle\t|MANHATTAN|NaN|\n",
    "|2|Rodent|MANHATTAN|Rats|\n",
    "|3|Noise - Commercial|MANHATTAN|Noise|\n",
    "|...|...|...|...|"
   ]
  },
  {
   "cell_type": "code",
   "execution_count": null,
   "id": "05b76f57",
   "metadata": {},
   "outputs": [],
   "source": []
  },
  {
   "cell_type": "markdown",
   "id": "1eeb604e",
   "metadata": {},
   "source": [
    "**(4.9) What are the five most common categories of complaints in Manhattan?.**"
   ]
  },
  {
   "cell_type": "code",
   "execution_count": null,
   "id": "a4a4a45e",
   "metadata": {},
   "outputs": [],
   "source": []
  }
 ],
 "metadata": {
  "kernelspec": {
   "display_name": "Python 3 (ipykernel)",
   "language": "python",
   "name": "python3"
  },
  "language_info": {
   "codemirror_mode": {
    "name": "ipython",
    "version": 3
   },
   "file_extension": ".py",
   "mimetype": "text/x-python",
   "name": "python",
   "nbconvert_exporter": "python",
   "pygments_lexer": "ipython3",
   "version": "3.9.7"
  }
 },
 "nbformat": 4,
 "nbformat_minor": 5
}
