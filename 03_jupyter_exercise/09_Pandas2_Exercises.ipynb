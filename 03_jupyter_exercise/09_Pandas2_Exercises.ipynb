{
 "cells": [
  {
   "cell_type": "markdown",
   "id": "91db6ec3",
   "metadata": {},
   "source": [
    "# Pandas 2 - Data Preprocessing"
   ]
  },
  {
   "cell_type": "code",
   "execution_count": 1,
   "id": "3931b1cd",
   "metadata": {},
   "outputs": [],
   "source": [
    "# import pacakge"
   ]
  },
  {
   "cell_type": "markdown",
   "id": "67846fc6",
   "metadata": {},
   "source": [
    "## (1) Basic operations and data consolidation"
   ]
  },
  {
   "cell_type": "markdown",
   "id": "79e5b55a",
   "metadata": {},
   "source": [
    "**(1.1) Use the following series to create a data frame named <code>score_df</code>, as shown below.**<br> \n",
    "Hint: Rename columns https://pandas.pydata.org/docs/reference/api/pandas.DataFrame.rename.html"
   ]
  },
  {
   "cell_type": "markdown",
   "id": "7880f779",
   "metadata": {},
   "source": [
    "||score1|score2|score3|\n",
    "|:-:|:-:|:-:|:-:|\n",
    "|**S01**|7.0|8.5|7.5|\n",
    "|**S02**|6.5|7.5|7.0|\n",
    "|**S03**|8.0|7.5|8.0|\n",
    "|**S04**|6.0|8.0|8.5|"
   ]
  },
  {
   "cell_type": "code",
   "execution_count": 2,
   "id": "1e01ecaa",
   "metadata": {},
   "outputs": [],
   "source": [
    "s1 = pd.Series([7.0,6.5,8.0,6.0], index =  [\"S01\",\"S02\",\"S03\",\"S04\"])\n",
    "s2 = pd.Series([8.5,7.5,7.5,8.0], index =  [\"S01\",\"S02\",\"S03\",\"S04\"])\n",
    "s3 = pd.Series([7.5,7.0,8.0,8.5], index =  [\"S01\",\"S02\",\"S03\",\"S04\"])"
   ]
  },
  {
   "cell_type": "code",
   "execution_count": 3,
   "id": "531da4c0",
   "metadata": {},
   "outputs": [],
   "source": [
    "# put your code here"
   ]
  },
  {
   "cell_type": "markdown",
   "id": "3e93af00",
   "metadata": {},
   "source": [
    "**(1.2) Calculate the average score of each student and add their average score to a new column called <code>avg_score</code>. Round the number to two decimal places.**<br>\n",
    "Hint: <code>dataframe.mean(axis=1)</code><br>\n",
    "Example: The average score of student \"S01\" is (7.0+8.5+7.5)/3 = 7.67"
   ]
  },
  {
   "cell_type": "code",
   "execution_count": 4,
   "id": "e6352529",
   "metadata": {},
   "outputs": [],
   "source": [
    "# put your code here"
   ]
  },
  {
   "cell_type": "markdown",
   "id": "e2486da5",
   "metadata": {},
   "source": [
    "**(1.3) Use the following data to create a dataframe named <code>product_df</code>.** <br>\n",
    "Hint: <br>\n",
    "Use the argument <code>columns</code> to assign a list of column names. <br>\n",
    "<code>df = pd.DataFrame(nested_list, columns = column_name_list)</code>\n"
   ]
  },
  {
   "cell_type": "code",
   "execution_count": 5,
   "id": "a26739c8",
   "metadata": {},
   "outputs": [],
   "source": [
    "name_list = [\"product_category\",\"product_name\"]\n",
    "product_list = [[\"beverage\",\"coffee\"],[\"dairy\",\"cheeses\"],[\"meat\",\"beef\"],[\"meat\",\"pork\"],[\"beverage\", \"tea\"],[\"dairy\",\"yogurt\"],[\"beverage\", \"soda\"],[\"dairy\",\"milk\"]]"
   ]
  },
  {
   "cell_type": "code",
   "execution_count": 6,
   "id": "3d727c53",
   "metadata": {},
   "outputs": [],
   "source": [
    "# put your code here"
   ]
  },
  {
   "cell_type": "markdown",
   "id": "c3fe67ea",
   "metadata": {},
   "source": [
    "**(1.4) Sort the <code>product_df</code> alphabetically by <code>product_category</code>. Apply this change directly to the dataframe.**"
   ]
  },
  {
   "cell_type": "code",
   "execution_count": 7,
   "id": "1e21ff06",
   "metadata": {},
   "outputs": [],
   "source": [
    "# put your code here"
   ]
  },
  {
   "cell_type": "markdown",
   "id": "e417662a",
   "metadata": {},
   "source": [
    "**(1.5) Rest the index of <code>product_df</code>. Apply this change directly to the dataframe.**"
   ]
  },
  {
   "cell_type": "code",
   "execution_count": 8,
   "id": "02b6eab7",
   "metadata": {},
   "outputs": [],
   "source": [
    "# put your code here"
   ]
  },
  {
   "cell_type": "markdown",
   "id": "42c12254",
   "metadata": {},
   "source": [
    "**(1.6) Given the following dataframe, find the price of each product in <code>product_df</code>.**"
   ]
  },
  {
   "cell_type": "code",
   "execution_count": 9,
   "id": "ba407a0b",
   "metadata": {},
   "outputs": [],
   "source": [
    "price_df = pd.DataFrame({\"product_name\":[\"beef\",\"bread\",\"cheeses\",\"chicken\",\"coffee\",\"egg\",\"ham\",\"milk\",\"pork\",\"soda\",\"tea\",\"yogurt\"],\n",
    "           \"price\":[89, 39, 69, 79, 49, 29, 59, 29, 59, 29, 49, 29]})"
   ]
  },
  {
   "cell_type": "code",
   "execution_count": 10,
   "id": "93d08aec",
   "metadata": {},
   "outputs": [],
   "source": [
    "# put your code here"
   ]
  },
  {
   "cell_type": "markdown",
   "id": "37b6c08a",
   "metadata": {},
   "source": [
    "## (2) Brand sales at online e-tailer"
   ]
  },
  {
   "cell_type": "markdown",
   "id": "27243fc5",
   "metadata": {},
   "source": [
    "**(2.1) Import the dataset <code>fashion.csv</code>. Show the column names and their data types in this dataset.**"
   ]
  },
  {
   "cell_type": "code",
   "execution_count": 11,
   "id": "ad78eae8",
   "metadata": {},
   "outputs": [],
   "source": [
    "# put your code here"
   ]
  },
  {
   "cell_type": "markdown",
   "id": "956e3b1e",
   "metadata": {},
   "source": [
    "**(2.2) Create a copy of the dataframe obtained in (2.1) and use it to complete the following tasks.**"
   ]
  },
  {
   "cell_type": "code",
   "execution_count": 12,
   "id": "9853294b",
   "metadata": {},
   "outputs": [],
   "source": [
    "# put your code here"
   ]
  },
  {
   "cell_type": "markdown",
   "id": "85eedfea",
   "metadata": {},
   "source": [
    "**(2.3) Remove columns with missing values and apply this change directly.**"
   ]
  },
  {
   "cell_type": "code",
   "execution_count": 13,
   "id": "657a022d",
   "metadata": {},
   "outputs": [],
   "source": [
    "# put your code here"
   ]
  },
  {
   "cell_type": "markdown",
   "id": "9bfe1ba1",
   "metadata": {},
   "source": [
    "**(2.4) Extract the years from the column <code>Date</code> and put them in a new column named <code>Year</code>. Display the last 15 rows of the updated dataframe.**<br>\n",
    "Hint: To slice a substring from each element in the series, you can use <code>Series_name.str[start_index:stop_index]</code>\n",
    "https://pandas.pydata.org/docs/reference/api/pandas.Series.str.slice.html"
   ]
  },
  {
   "cell_type": "code",
   "execution_count": 14,
   "id": "0ffdd7f8",
   "metadata": {},
   "outputs": [],
   "source": [
    "# put your code here"
   ]
  },
  {
   "cell_type": "markdown",
   "id": "9f66eb3b",
   "metadata": {},
   "source": [
    "**(2.5) Select Tiger_of_Sweden's sales data in 2018 and store them in a new dataframe. The new dataframe should include the following columns: Date, Year, Tiger_of_Sweden.**<br>"
   ]
  },
  {
   "cell_type": "code",
   "execution_count": 15,
   "id": "e8a3a16d",
   "metadata": {},
   "outputs": [],
   "source": [
    "# put your code here"
   ]
  },
  {
   "cell_type": "markdown",
   "id": "bd1989be",
   "metadata": {},
   "source": [
    "**(2.6) Which month did Tiger_of_Sweden have the highest sales in 2018?**<br>"
   ]
  },
  {
   "cell_type": "code",
   "execution_count": 16,
   "id": "b010a75f",
   "metadata": {},
   "outputs": [],
   "source": [
    "# put your code here"
   ]
  },
  {
   "cell_type": "markdown",
   "id": "91284f96",
   "metadata": {},
   "source": [
    "## (3) Complains\n",
    "In the US, 311 is a non-emergency phone number that people can call in many cities to find information about services, make complaints, or report problems like graffiti or road damage.\n"
   ]
  },
  {
   "cell_type": "markdown",
   "id": "d481eee8",
   "metadata": {},
   "source": [
    "**(3.1) Import the dataset <code>complaints.csv</code>. Show the first 5 rows.**<br>\n",
    "Note: You may receive a warning message (https://pandas.pydata.org/docs/reference/api/pandas.errors.DtypeWarning.html). You can try to fix this little problem. If not, you can still continue with the following tasks."
   ]
  },
  {
   "cell_type": "code",
   "execution_count": 17,
   "id": "7245843f",
   "metadata": {},
   "outputs": [],
   "source": [
    "# put your code here"
   ]
  },
  {
   "cell_type": "markdown",
   "id": "88746ce2",
   "metadata": {},
   "source": [
    "**(3.2) Show the column names and their data types in this dataset.**"
   ]
  },
  {
   "cell_type": "code",
   "execution_count": 18,
   "id": "252e6122",
   "metadata": {},
   "outputs": [],
   "source": [
    "# put your code here"
   ]
  },
  {
   "cell_type": "markdown",
   "id": "c03aa10e",
   "metadata": {},
   "source": [
    "**(3.3) How many observations and variables are there in this dataset?**"
   ]
  },
  {
   "cell_type": "code",
   "execution_count": 19,
   "id": "c8594a21",
   "metadata": {},
   "outputs": [],
   "source": [
    "# put your code here"
   ]
  },
  {
   "cell_type": "markdown",
   "id": "12712a76",
   "metadata": {},
   "source": [
    "**(3.4) Display the first five rows of columns <code>Complaint Type</code> and <code>Borough</code>.**"
   ]
  },
  {
   "cell_type": "code",
   "execution_count": 20,
   "id": "6b67abe6",
   "metadata": {},
   "outputs": [],
   "source": [
    "# put your code here"
   ]
  },
  {
   "cell_type": "markdown",
   "id": "956548fa",
   "metadata": {},
   "source": [
    "**(3.5) Show the number of complaints recorded in each region (borough).**<br>"
   ]
  },
  {
   "cell_type": "code",
   "execution_count": 21,
   "id": "7d6846d2",
   "metadata": {},
   "outputs": [],
   "source": [
    "# put your code here"
   ]
  },
  {
   "cell_type": "markdown",
   "id": "c18ae8e0",
   "metadata": {},
   "source": [
    "**(3.6) Create a subset of the MANHATTAN area named <code>manhattan_df</code> and include only columns <code>Complaint Type</code> and <code>Borough</code>.**"
   ]
  },
  {
   "cell_type": "code",
   "execution_count": 22,
   "id": "7838b488",
   "metadata": {},
   "outputs": [],
   "source": [
    "# put your code here"
   ]
  },
  {
   "cell_type": "markdown",
   "id": "e4e25620",
   "metadata": {},
   "source": [
    "**(3.7) Import the dataset <code>complaints_mapping.xlsx</code>. Show the data.**<br>\n",
    "Hint: https://pandas.pydata.org/docs/reference/api/pandas.read_excel.html"
   ]
  },
  {
   "cell_type": "code",
   "execution_count": 23,
   "id": "ae9363e0",
   "metadata": {},
   "outputs": [],
   "source": [
    "# put your code here"
   ]
  },
  {
   "cell_type": "markdown",
   "id": "841def2c",
   "metadata": {},
   "source": [
    "**(3.8) Based on the dataframe obtained in (3.7), find the category of each complaint type in <code>manhattan_df</code>.**"
   ]
  },
  {
   "cell_type": "code",
   "execution_count": 24,
   "id": "05b76f57",
   "metadata": {},
   "outputs": [],
   "source": [
    "# put your code here"
   ]
  },
  {
   "cell_type": "markdown",
   "id": "1eeb604e",
   "metadata": {},
   "source": [
    "**(3.9) What are the five most common categories of complaints in Manhattan?.**"
   ]
  },
  {
   "cell_type": "code",
   "execution_count": 25,
   "id": "a4a4a45e",
   "metadata": {},
   "outputs": [],
   "source": [
    "# put your code here"
   ]
  }
 ],
 "metadata": {
  "kernelspec": {
   "display_name": "Python 3",
   "language": "python",
   "name": "python3"
  },
  "language_info": {
   "codemirror_mode": {
    "name": "ipython",
    "version": 3
   },
   "file_extension": ".py",
   "mimetype": "text/x-python",
   "name": "python",
   "nbconvert_exporter": "python",
   "pygments_lexer": "ipython3",
   "version": "3.8.8"
  }
 },
 "nbformat": 4,
 "nbformat_minor": 5
}
