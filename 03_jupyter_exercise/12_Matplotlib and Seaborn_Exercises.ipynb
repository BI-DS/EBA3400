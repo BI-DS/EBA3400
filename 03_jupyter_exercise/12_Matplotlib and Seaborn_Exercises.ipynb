{
 "cells": [
  {
   "cell_type": "markdown",
   "id": "e3a10745",
   "metadata": {},
   "source": [
    "# Matplotlib and Seaborn"
   ]
  },
  {
   "cell_type": "markdown",
   "id": "f955eed6",
   "metadata": {},
   "source": [
    "# Searborn"
   ]
  },
  {
   "cell_type": "markdown",
   "id": "43ddca6a",
   "metadata": {},
   "source": [
    "## (1) Customer profile analysis\n",
    "A mall has gathered data on their customers through a loyalty program. They have information about age, gender, annual income and spending score. Spending Score is a measure from 0 to 100, created for each customer based on customer behavior and purchasing data."
   ]
  },
  {
   "cell_type": "markdown",
   "id": "279b3bfa",
   "metadata": {},
   "source": [
    "**(1.1) Import dataset <code>customers.csv</code> and use the column <code>CustomerID</code> as the index. Rename the columns according to the table below.**<br>"
   ]
  },
  {
   "cell_type": "markdown",
   "id": "4710cc91",
   "metadata": {},
   "source": [
    "|column name| new column name|\n",
    "|:-:|:-:|\n",
    "|Gender|gender|\n",
    "|Age|age|\n",
    "|Annual Income (k$)|income|\n",
    "|Spending Score (1-100)|spending_score|"
   ]
  },
  {
   "cell_type": "code",
   "execution_count": null,
   "id": "e8d05f6b",
   "metadata": {},
   "outputs": [],
   "source": []
  },
  {
   "cell_type": "markdown",
   "id": "0d2baba4",
   "metadata": {},
   "source": [
    "**(1.2) Use two histograms to show the distribution of <code>spending_score</code> for males and females, respectively. Both histograms are in the same plot, but with different colors.**<br>\n",
    "Setting: bins = 25."
   ]
  },
  {
   "cell_type": "code",
   "execution_count": null,
   "id": "cf5be451",
   "metadata": {},
   "outputs": [],
   "source": []
  },
  {
   "cell_type": "markdown",
   "id": "4949544c",
   "metadata": {},
   "source": [
    "**(1.3)  Use a scatter plot to show the relationship between <code>income</code> and <code>spending_score</code>. Color points by the column <code>gender</code>.**"
   ]
  },
  {
   "cell_type": "code",
   "execution_count": null,
   "id": "4bb59957",
   "metadata": {},
   "outputs": [],
   "source": []
  },
  {
   "cell_type": "markdown",
   "id": "04fd6c8b",
   "metadata": {},
   "source": [
    "**(1.4) Use a scatter plot to show the relationship between <code>income</code> and <code>spending_score</code>. Color points by the column <code>age</code>.**<br>\n",
    "Setting: palette = \"cool\""
   ]
  },
  {
   "cell_type": "code",
   "execution_count": null,
   "id": "ba9e8eed",
   "metadata": {},
   "outputs": [],
   "source": []
  },
  {
   "cell_type": "markdown",
   "id": "e30a5f43",
   "metadata": {},
   "source": [
    "**(1.5) Use a joint plot to show the relationship between <code>income</code> and <code>spending_score</code>, and their individual distribution.**"
   ]
  },
  {
   "cell_type": "code",
   "execution_count": null,
   "id": "80a78ee0",
   "metadata": {},
   "outputs": [],
   "source": []
  },
  {
   "cell_type": "markdown",
   "id": "6b8bcce0",
   "metadata": {},
   "source": [
    "**(1.6) Use pair plot to show the relationship between the following variables: age, income, spending_score.**"
   ]
  },
  {
   "cell_type": "code",
   "execution_count": null,
   "id": "799c9098",
   "metadata": {},
   "outputs": [],
   "source": []
  },
  {
   "cell_type": "markdown",
   "id": "489622b0",
   "metadata": {},
   "source": [
    "**(1.7) Use pair plot to show the relationship between the following variables: age, income, spending_score. Color points by the column <code>gender</code>.**"
   ]
  },
  {
   "cell_type": "code",
   "execution_count": null,
   "id": "7f88397d",
   "metadata": {},
   "outputs": [],
   "source": []
  },
  {
   "cell_type": "markdown",
   "id": "3f0db9e3",
   "metadata": {},
   "source": [
    "## (2) Titanic\n",
    "The sinking of the Titanic is one of the most infamous shipwrecks in history, resulting in the death of 1502 out of 2224 passengers and crew. \n",
    "- **class**: Ticket class  (First/Second/Third)\n",
    "- **who**: sex (man/woman)\n",
    "- **embarked**: Port of Embarkation \n",
    "- **alive**: yes/no"
   ]
  },
  {
   "cell_type": "markdown",
   "id": "2e3bc49f",
   "metadata": {},
   "source": [
    "**(2.1) Load the seaborn dataset <code>titanic</code>. Select the following columns and save the subset to a csv file.**<br>\n",
    "Hint: https://pandas.pydata.org/docs/reference/api/pandas.DataFrame.to_csv.html <code>DataFrame.to_csv(\"filename.csv\", index = False)</code>\n",
    "- class\t\n",
    "- who\n",
    "- embark_town\n",
    "- alive"
   ]
  },
  {
   "cell_type": "code",
   "execution_count": null,
   "id": "0264a654",
   "metadata": {},
   "outputs": [],
   "source": []
  },
  {
   "cell_type": "markdown",
   "id": "d95c4ae8",
   "metadata": {},
   "source": [
    "**(2.2) Import the dataset you saved in (2.1) and use it to complete the following tasks.** "
   ]
  },
  {
   "cell_type": "code",
   "execution_count": null,
   "id": "76d314a8",
   "metadata": {},
   "outputs": [],
   "source": []
  },
  {
   "cell_type": "markdown",
   "id": "95ffa361",
   "metadata": {},
   "source": [
    "**(2.3) Count the number of passengers in different categories (man/woman/child) according to the column <code>who</code>. Display the result with a count plot.**"
   ]
  },
  {
   "cell_type": "code",
   "execution_count": null,
   "id": "fc9db26b",
   "metadata": {},
   "outputs": [],
   "source": []
  },
  {
   "cell_type": "markdown",
   "id": "164af086",
   "metadata": {},
   "source": [
    "**(2.4) Count the number of passengers in different categories (man/woman/child) according to the column <code>who</code>. Display the result with a count plot and use two bars to display the number of <code>alive</code> (yes/no) passengers in each category. Which category has the lowest survival rate?** "
   ]
  },
  {
   "cell_type": "code",
   "execution_count": null,
   "id": "b8de2183",
   "metadata": {},
   "outputs": [],
   "source": []
  },
  {
   "cell_type": "markdown",
   "id": "af57d2a3",
   "metadata": {},
   "source": [
    "**Write you answer here:**<br>\n",
    "________ have the lowest survival rate."
   ]
  },
  {
   "cell_type": "markdown",
   "id": "f22f8a0c",
   "metadata": {},
   "source": [
    "**(2.5) Use a cross table to display the numbers in (2.4).**<br>\n",
    "Expected result:"
   ]
  },
  {
   "cell_type": "markdown",
   "id": "b655d4b4",
   "metadata": {},
   "source": [
    "|alive<br>who|no|yes|\n",
    "|:-:|:-:|:-:|\n",
    "|**child**|34|49|\n",
    "|**man**|449|88|\n",
    "|**woman**|66|205|"
   ]
  },
  {
   "cell_type": "code",
   "execution_count": null,
   "id": "2dcccf83",
   "metadata": {},
   "outputs": [],
   "source": []
  },
  {
   "cell_type": "markdown",
   "id": "25cbf1ff",
   "metadata": {},
   "source": [
    "**(2.6) Use a heatmap to display the result in (2.5).**<br>\n",
    "Setting: <code>cmap = \"GnBu\"</code>"
   ]
  },
  {
   "cell_type": "code",
   "execution_count": null,
   "id": "b3d7369b",
   "metadata": {},
   "outputs": [],
   "source": []
  },
  {
   "cell_type": "markdown",
   "id": "1cdc6e7a",
   "metadata": {},
   "source": [
    "**(2.7) Use three subplots to compare the survival of passengers in the following three categories: class = First, Class = Second, class = Third. In each subplot, draw two bars, each representing the number of surviving and non-surviving passengers.**<br>\n",
    "Hint: <code>col = \"class\"</code>"
   ]
  },
  {
   "cell_type": "code",
   "execution_count": null,
   "id": "3754f52e",
   "metadata": {},
   "outputs": [],
   "source": []
  },
  {
   "cell_type": "markdown",
   "id": "0ef3e441",
   "metadata": {},
   "source": [
    "## (3) Diamond"
   ]
  },
  {
   "cell_type": "markdown",
   "id": "11a12e7e",
   "metadata": {},
   "source": [
    "**(3.1) Load the seaborn dataset <code>diamonds</code>. Show the name and data type of each column.** "
   ]
  },
  {
   "cell_type": "code",
   "execution_count": null,
   "id": "e35f94a3",
   "metadata": {},
   "outputs": [],
   "source": []
  },
  {
   "cell_type": "markdown",
   "id": "4fbd0ac3",
   "metadata": {},
   "source": [
    "**(3.2) Use countplot to display the number of diamonds in each <code>color</code> category**."
   ]
  },
  {
   "cell_type": "code",
   "execution_count": null,
   "id": "dfd8c262",
   "metadata": {},
   "outputs": [],
   "source": []
  },
  {
   "cell_type": "markdown",
   "id": "26479cef",
   "metadata": {},
   "source": [
    "**(3.3) Calculate the average price for each <code>cut</code> category within each <code>clarity</code> category. Round the numbers to two decimal places.**<br>\n",
    "Expected result:"
   ]
  },
  {
   "cell_type": "markdown",
   "id": "7577bd54",
   "metadata": {},
   "source": [
    "||IF|VVS1|...|...|I1|\n",
    "|--:|--:|--:|--:|--:|--:|\n",
    "|**Ideal**|2272.91|...|...|...|...|\n",
    "|**Premium**|...|...|...|...|...|\n",
    "|**Very Good**|...|...|...|...|...|\n",
    "|**Good**|...|...|...|...|...|\n",
    "|**Fair**|...|...|...|...|...|"
   ]
  },
  {
   "cell_type": "code",
   "execution_count": null,
   "id": "a52b1ee8",
   "metadata": {},
   "outputs": [],
   "source": []
  },
  {
   "cell_type": "markdown",
   "id": "398f9e0d",
   "metadata": {},
   "source": [
    "**(3.4) Use a heatmap to display the result obtained in (3.3).**"
   ]
  },
  {
   "cell_type": "code",
   "execution_count": null,
   "id": "544483b0",
   "metadata": {},
   "outputs": [],
   "source": []
  },
  {
   "cell_type": "markdown",
   "id": "20b02629",
   "metadata": {},
   "source": [
    "**(3.5) Shows the relationship between <code>carat</code> and <code>price</code> for each <code>cut</code> category.**<br>\n",
    "Hint: The figure should contain 5 subplots."
   ]
  },
  {
   "cell_type": "code",
   "execution_count": null,
   "id": "e72613df",
   "metadata": {},
   "outputs": [],
   "source": []
  }
 ],
 "metadata": {
  "kernelspec": {
   "display_name": "Python 3 (ipykernel)",
   "language": "python",
   "name": "python3"
  },
  "language_info": {
   "codemirror_mode": {
    "name": "ipython",
    "version": 3
   },
   "file_extension": ".py",
   "mimetype": "text/x-python",
   "name": "python",
   "nbconvert_exporter": "python",
   "pygments_lexer": "ipython3",
   "version": "3.9.7"
  }
 },
 "nbformat": 4,
 "nbformat_minor": 5
}
