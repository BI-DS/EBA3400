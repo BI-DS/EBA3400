{
 "cells": [
  {
   "cell_type": "markdown",
   "id": "e3a10745",
   "metadata": {},
   "source": [
    "# Matplotlib and Seaborn"
   ]
  },
  {
   "cell_type": "code",
   "execution_count": 1,
   "id": "044be29b",
   "metadata": {},
   "outputs": [],
   "source": [
    "# import package"
   ]
  },
  {
   "cell_type": "markdown",
   "id": "f955eed6",
   "metadata": {},
   "source": [
    "# Searborn"
   ]
  },
  {
   "cell_type": "markdown",
   "id": "43ddca6a",
   "metadata": {},
   "source": [
    "## (1) Customer profile analysis\n",
    "A mall has gathered data on their customers through a loyalty program. They have information about age, gender, annual income and spending score. Spending Score is a measure from 0 to 100, created for each customer based on customer behavior and purchasing data."
   ]
  },
  {
   "cell_type": "markdown",
   "id": "279b3bfa",
   "metadata": {},
   "source": [
    "**(1.1) Import dataset <code>customers.csv</code> and use the column <code>CustomerID</code> as the index. Rename the columns according to the table below.**<br>"
   ]
  },
  {
   "cell_type": "markdown",
   "id": "4710cc91",
   "metadata": {},
   "source": [
    "|column name| new column name|\n",
    "|:-:|:-:|\n",
    "|Gender|gender|\n",
    "|Age|age|\n",
    "|Annual Income (k$)|income|\n",
    "|Spending Score (1-100)|spending_score|"
   ]
  },
  {
   "cell_type": "code",
   "execution_count": 2,
   "id": "e8d05f6b",
   "metadata": {},
   "outputs": [],
   "source": [
    "#put your code here"
   ]
  },
  {
   "cell_type": "markdown",
   "id": "0d2baba4",
   "metadata": {},
   "source": [
    "**(1.2) Use a histogram to show the spending_score distribution of male and female.**<br>"
   ]
  },
  {
   "cell_type": "code",
   "execution_count": 3,
   "id": "cf5be451",
   "metadata": {},
   "outputs": [],
   "source": [
    "#put your code here"
   ]
  },
  {
   "cell_type": "markdown",
   "id": "4949544c",
   "metadata": {},
   "source": [
    "**(1.3)  Use a scatter plot to show the relationship between <code>income</code> and <code>spending_score</code>. Color points by <code>gender</code>.**"
   ]
  },
  {
   "cell_type": "code",
   "execution_count": 4,
   "id": "4bb59957",
   "metadata": {},
   "outputs": [],
   "source": [
    "#put your code here"
   ]
  },
  {
   "cell_type": "markdown",
   "id": "04fd6c8b",
   "metadata": {},
   "source": [
    "**(1.4) Use a scatter plot to show the relationship between <code>income</code> and <code>spending_score</code>. Color points by <code>age</code>.**"
   ]
  },
  {
   "cell_type": "code",
   "execution_count": 5,
   "id": "ba9e8eed",
   "metadata": {},
   "outputs": [],
   "source": [
    "#put your code here"
   ]
  },
  {
   "cell_type": "markdown",
   "id": "e30a5f43",
   "metadata": {},
   "source": [
    "**(1.5) Use a joint plot to show the relationship between <code>income</code> and <code>spending_score</code>, and their individual distribution.**"
   ]
  },
  {
   "cell_type": "code",
   "execution_count": 6,
   "id": "80a78ee0",
   "metadata": {},
   "outputs": [],
   "source": [
    "#put your code here"
   ]
  },
  {
   "cell_type": "markdown",
   "id": "6b8bcce0",
   "metadata": {},
   "source": [
    "**(1.6) Use pair plot to show the relationship between the following variables: age, income, spending_score.**"
   ]
  },
  {
   "cell_type": "code",
   "execution_count": 7,
   "id": "799c9098",
   "metadata": {},
   "outputs": [],
   "source": [
    "#put your code here"
   ]
  },
  {
   "cell_type": "markdown",
   "id": "489622b0",
   "metadata": {},
   "source": [
    "**(1.7) Use pair plot to show the relationship between the following variables: age, income, spending_score. Color points by gender.**"
   ]
  },
  {
   "cell_type": "code",
   "execution_count": 8,
   "id": "7f88397d",
   "metadata": {},
   "outputs": [],
   "source": [
    "#put your code here"
   ]
  },
  {
   "cell_type": "markdown",
   "id": "3f0db9e3",
   "metadata": {},
   "source": [
    "## (2) Titanic\n",
    "The sinking of the Titanic is one of the most infamous shipwrecks in history, resulting in the death of 1502 out of 2224 passengers and crew. \n",
    "- **class**: Ticket class  (First/Second/Third)\n",
    "- **who**: sex (man/woman)\n",
    "- **embarked**: Port of Embarkation \n",
    "- **alive**: yes/no"
   ]
  },
  {
   "cell_type": "markdown",
   "id": "2e3bc49f",
   "metadata": {},
   "source": [
    "**(2.1) Load the seaborn dataset <code>titanic</code>. Select the following columns and save the subset to a csv file.**<br>\n",
    "Hint: <code>DataFrame.to_csv(\"filename.csv\", index = False)</code>\n",
    "- class\t\n",
    "- who\n",
    "- embark_town\n",
    "- alive"
   ]
  },
  {
   "cell_type": "code",
   "execution_count": 9,
   "id": "0264a654",
   "metadata": {},
   "outputs": [],
   "source": [
    "# put your code here"
   ]
  },
  {
   "cell_type": "markdown",
   "id": "d95c4ae8",
   "metadata": {},
   "source": [
    "**(2.2) Import the dataset you saved in (2.1) and use it to complete the following tasks.** "
   ]
  },
  {
   "cell_type": "code",
   "execution_count": 10,
   "id": "76d314a8",
   "metadata": {},
   "outputs": [],
   "source": [
    "# put your code here"
   ]
  },
  {
   "cell_type": "markdown",
   "id": "95ffa361",
   "metadata": {},
   "source": [
    "**(2.3) Count the number of passengers in different categories (man/woman/child) according to the column <code>who</code>. Display the result with a count plot.**"
   ]
  },
  {
   "cell_type": "code",
   "execution_count": 11,
   "id": "fc9db26b",
   "metadata": {},
   "outputs": [],
   "source": [
    "# put your code here"
   ]
  },
  {
   "cell_type": "markdown",
   "id": "164af086",
   "metadata": {},
   "source": [
    "**(2.4) Count the number of passengers in different categories (man/woman/child) according to the column <code>who</code>. Display the result with a count plot and use two bars to display the number of <code>alive</code> (yes/no) passengers in each category. Which category has the lowest survival rate?** "
   ]
  },
  {
   "cell_type": "code",
   "execution_count": 12,
   "id": "b8de2183",
   "metadata": {},
   "outputs": [],
   "source": [
    "# put your code here"
   ]
  },
  {
   "cell_type": "markdown",
   "id": "af57d2a3",
   "metadata": {},
   "source": [
    "**Write you answer here:**<br>\n",
    "_______ have the lowest survival rate."
   ]
  },
  {
   "cell_type": "markdown",
   "id": "f22f8a0c",
   "metadata": {},
   "source": [
    "**(2.5) Use a cross table to display the numbers in (2.4).**<br>\n",
    "Expected result:"
   ]
  },
  {
   "cell_type": "markdown",
   "id": "b655d4b4",
   "metadata": {},
   "source": [
    "|alive<br>who|no|yes|\n",
    "|:-:|:-:|:-:|\n",
    "|**child**|34|49|\n",
    "|**man**|449|88|\n",
    "|**woman**|66|205|"
   ]
  },
  {
   "cell_type": "code",
   "execution_count": 13,
   "id": "2dcccf83",
   "metadata": {},
   "outputs": [],
   "source": [
    "#put your code here"
   ]
  },
  {
   "cell_type": "markdown",
   "id": "25cbf1ff",
   "metadata": {},
   "source": [
    "**(2.6) Use a heat map to display the result in (2.4).**"
   ]
  },
  {
   "cell_type": "code",
   "execution_count": 14,
   "id": "b3d7369b",
   "metadata": {},
   "outputs": [],
   "source": [
    "#put your code here"
   ]
  },
  {
   "cell_type": "markdown",
   "id": "1cdc6e7a",
   "metadata": {},
   "source": [
    "**(2.7) Use three subplots to show the number of surviving and non-surviving passengers in each <code>class</code>. Each subplot includes two bars: the number of surviving and non-surviving passengers.**<br>\n",
    "Hint: <code>col = \"class\"</code>"
   ]
  },
  {
   "cell_type": "code",
   "execution_count": 15,
   "id": "3754f52e",
   "metadata": {},
   "outputs": [],
   "source": [
    "#put your code here"
   ]
  }
 ],
 "metadata": {
  "kernelspec": {
   "display_name": "Python 3",
   "language": "python",
   "name": "python3"
  },
  "language_info": {
   "codemirror_mode": {
    "name": "ipython",
    "version": 3
   },
   "file_extension": ".py",
   "mimetype": "text/x-python",
   "name": "python",
   "nbconvert_exporter": "python",
   "pygments_lexer": "ipython3",
   "version": "3.8.8"
  }
 },
 "nbformat": 4,
 "nbformat_minor": 5
}
