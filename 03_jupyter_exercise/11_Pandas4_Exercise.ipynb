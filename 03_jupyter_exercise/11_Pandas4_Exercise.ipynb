{
 "cells": [
  {
   "cell_type": "markdown",
   "id": "8ee20f9b",
   "metadata": {},
   "source": [
    "# Pandas4 - Visualization"
   ]
  },
  {
   "cell_type": "markdown",
   "id": "be320b1b",
   "metadata": {},
   "source": [
    "## (1) Oslo city bike"
   ]
  },
  {
   "cell_type": "markdown",
   "id": "6d5f3dc9",
   "metadata": {},
   "source": [
    "**(1.1) Download the September 2023 city bike data here https://oslobysykkel.no/en/open-data/historical. Import the dataset.**<br> \n",
    "(The description of each column can be found on the same page.)"
   ]
  },
  {
   "cell_type": "code",
   "execution_count": null,
   "id": "be932e80",
   "metadata": {},
   "outputs": [],
   "source": []
  },
  {
   "cell_type": "markdown",
   "id": "9ae656fd",
   "metadata": {},
   "source": [
    "**(1.2) Extract the date (month-date) from the column \"started_at\" and add it to a new column named \"date\".**<br>\n",
    "Hint: <code>df[\"date\"] = df.column.str[5:10]</code>"
   ]
  },
  {
   "cell_type": "code",
   "execution_count": null,
   "id": "e42a5dd1",
   "metadata": {},
   "outputs": [],
   "source": []
  },
  {
   "cell_type": "markdown",
   "id": "9b007409",
   "metadata": {},
   "source": [
    "**(1.3) Group the data by the column <code>date</code>. Calculate the total riding time for all trips per day.**<br>\n",
    "Hint: Use column <code>duration</code> to get the riding time."
   ]
  },
  {
   "cell_type": "code",
   "execution_count": null,
   "id": "fbdb7ed0",
   "metadata": {},
   "outputs": [],
   "source": []
  },
  {
   "cell_type": "markdown",
   "id": "7ea0c51b",
   "metadata": {},
   "source": [
    "**(1.4) Use a line chart to display the result obtained in (1.3). Answer the following question based on the line chart and write your answers in the markdown cell**<br>\n",
    "Setting: Use marker = \"o\" and figsize = (12,4)."
   ]
  },
  {
   "cell_type": "code",
   "execution_count": null,
   "id": "bbf3ebce",
   "metadata": {},
   "outputs": [],
   "source": []
  },
  {
   "cell_type": "markdown",
   "id": "6ca1eed6",
   "metadata": {},
   "source": [
    "- **Question:** Is the total riding time in September showing an increasing or decreasing trend?<br>\n",
    "- **Answer:** "
   ]
  },
  {
   "cell_type": "markdown",
   "id": "1a8d38a8",
   "metadata": {},
   "source": [
    "## (2) Customer profile analysis\n",
    "A mall has gathered data on their customers through a loyalty program. They have information about age, gender, annual income and spending score. Spending Score is a measure from 0 to 100, created for each customer based on customer behavior and purchasing data."
   ]
  },
  {
   "cell_type": "markdown",
   "id": "bc695cf4",
   "metadata": {},
   "source": [
    "**(2.1) Import dataset <code>customers.csv</code> and use the column <code>CustomerID</code> as the index. Display the first five rows.**<br>\n",
    "Hint: <code>index_col = \"CustomerID\"</code> or <code>index_col = [0]</code>."
   ]
  },
  {
   "cell_type": "code",
   "execution_count": null,
   "id": "789f33ef",
   "metadata": {},
   "outputs": [],
   "source": []
  },
  {
   "cell_type": "markdown",
   "id": "065a3444",
   "metadata": {},
   "source": [
    "**(2.2) Rename the columns according to the table below.**<br>"
   ]
  },
  {
   "cell_type": "markdown",
   "id": "89942048",
   "metadata": {},
   "source": [
    "|column name| new column name|\n",
    "|:-:|:-:|\n",
    "|Gender|gender|\n",
    "|Age|age|\n",
    "|Annual Income (k$)|income|\n",
    "|Spending Score (1-100)|spending_score|"
   ]
  },
  {
   "cell_type": "code",
   "execution_count": null,
   "id": "7a5a42df",
   "metadata": {},
   "outputs": [],
   "source": []
  },
  {
   "cell_type": "markdown",
   "id": "a40e9f0c",
   "metadata": {},
   "source": [
    "**(2.3) Use a histogram to show the income distribution.**"
   ]
  },
  {
   "cell_type": "code",
   "execution_count": null,
   "id": "d54e4624",
   "metadata": {},
   "outputs": [],
   "source": []
  },
  {
   "cell_type": "markdown",
   "id": "68fbe43b",
   "metadata": {},
   "source": [
    "**(2.4) Use a scatter plot to show the relationship between income and spending_score.**"
   ]
  },
  {
   "cell_type": "code",
   "execution_count": null,
   "id": "66b59e36",
   "metadata": {},
   "outputs": [],
   "source": []
  },
  {
   "cell_type": "markdown",
   "id": "dec72b4c",
   "metadata": {},
   "source": [
    "**(2.5) Use a scatter plot to show the relationship between income and spending_score, where the points are color-coded based on the <code>age</code> of customers. Answer the following question in a markdown cell.**"
   ]
  },
  {
   "cell_type": "code",
   "execution_count": null,
   "id": "1cb86295",
   "metadata": {},
   "outputs": [],
   "source": []
  },
  {
   "cell_type": "markdown",
   "id": "700ffb68",
   "metadata": {},
   "source": [
    "- **Question:** Based on the scatter plot, would you define a customer group with an income below 40 and a spending score above 60 as young or old?<br>\n",
    "- **Answer:** "
   ]
  },
  {
   "cell_type": "markdown",
   "id": "dfc5e120",
   "metadata": {},
   "source": [
    "**(2.6) Convert the age to age group according to the table below. Store the result in a new column named <code>age_group</code>.**<br>"
   ]
  },
  {
   "cell_type": "markdown",
   "id": "b0da1c89",
   "metadata": {},
   "source": [
    "|range| label|\n",
    "|:-:|:-:|\n",
    "|18-35| young adults|\n",
    "|36-55| middle-aged adults|\n",
    "|56-75| older adults |"
   ]
  },
  {
   "cell_type": "code",
   "execution_count": null,
   "id": "720f8157",
   "metadata": {},
   "outputs": [],
   "source": []
  },
  {
   "cell_type": "markdown",
   "id": "474e1656",
   "metadata": {},
   "source": [
    "**(2.7) Count the number of customers in each age group. Display the results with a horizontal bar graph.**"
   ]
  },
  {
   "cell_type": "code",
   "execution_count": null,
   "id": "9710c9a0",
   "metadata": {},
   "outputs": [],
   "source": []
  },
  {
   "cell_type": "markdown",
   "id": "b336d228",
   "metadata": {},
   "source": [
    "**(2.8) Group the data by columns <code>age_group</code> and <code>gender</code>. Count the number of customers in each group. Store the result in a dataframe called <code>customer_df_wide</code> in the following format.**"
   ]
  },
  {
   "cell_type": "markdown",
   "id": "8a7eabde",
   "metadata": {},
   "source": [
    "||Female|Male|\n",
    "|:-:|:-:|:-:|\n",
    "|**young adults**|57|...|\n",
    "|**middle-aged adults**|...|...|\n",
    "|**older adults**|...|...|"
   ]
  },
  {
   "cell_type": "code",
   "execution_count": null,
   "id": "99afe126",
   "metadata": {},
   "outputs": [],
   "source": []
  },
  {
   "cell_type": "markdown",
   "id": "d763206c",
   "metadata": {},
   "source": [
    "**(2.9) Draw a stacked horizontal bar chart to show the number of customers in each age group. Each bar is stacked by two sub-bars: the number of male customers and the number of female customers.** "
   ]
  },
  {
   "cell_type": "code",
   "execution_count": null,
   "id": "1fc05b97",
   "metadata": {},
   "outputs": [],
   "source": []
  },
  {
   "cell_type": "markdown",
   "id": "b09b74e1",
   "metadata": {},
   "source": [
    "## (3) Wine dataset\n",
    "Description of each column\n",
    "- **country**: The country that the wine is from\n",
    "- **description**: A few sentences from a sommelier describing the wine's taste, smell, look, feel, etc.\n",
    "- **designation**: The vineyard within the winery where the grapes that made the wine are from\n",
    "- **points**: The number of points WineEnthusiast rated the wine on a scale of 1-100\n",
    "- **price**: The cost for a bottle of the wine\n",
    "- **province**: The province or state that the wine is from\n",
    "- **region_1**: The wine growing area in a province or state\n",
    "- **region_2**: Sometimes there are more specific regions specified within a wine growing area, but this value can sometimes be blank\n",
    "- **variety**: The type of grapes used to make the wine\n",
    "- **winery**: The winery that made the wine"
   ]
  },
  {
   "cell_type": "markdown",
   "id": "e9620a87",
   "metadata": {},
   "source": [
    "**(3.1) Import dataset <code>wine.csv</code> and set the first column as the index.** "
   ]
  },
  {
   "cell_type": "code",
   "execution_count": null,
   "id": "0b2d8d4c",
   "metadata": {},
   "outputs": [],
   "source": []
  },
  {
   "cell_type": "markdown",
   "id": "31e7effe",
   "metadata": {},
   "source": [
    "**(3.2) Shows the top five grape types most commonly used to produce wine.**<br>\n",
    "Hint: Calculate the frequency of each category in the <code>variety</code> column."
   ]
  },
  {
   "cell_type": "code",
   "execution_count": null,
   "id": "83edf2b5",
   "metadata": {},
   "outputs": [],
   "source": []
  },
  {
   "cell_type": "markdown",
   "id": "727c67a9",
   "metadata": {},
   "source": [
    "**(3.3) Display the result obtained in (3.2) with a pie chart.**"
   ]
  },
  {
   "cell_type": "code",
   "execution_count": null,
   "id": "bfe87f42",
   "metadata": {},
   "outputs": [],
   "source": []
  },
  {
   "cell_type": "markdown",
   "id": "acba35dd",
   "metadata": {},
   "source": [
    "**(3.4) Select a subset that meets all of the following criteria. Use this subset to solve the following tasks.**<br>\n",
    "- Produced in Spain, Italy or France.\n",
    "- The price is less than 200.\n",
    "- Made from the following grape varieties: Chardonnay, Pinot Noir, Cabernet Sauvignon."
   ]
  },
  {
   "cell_type": "code",
   "execution_count": null,
   "id": "e0604501",
   "metadata": {},
   "outputs": [],
   "source": []
  },
  {
   "cell_type": "markdown",
   "id": "7ad5208c",
   "metadata": {},
   "source": [
    "**(3.5) Export the subset obtaind in (3.4) as a csv file.**<br>\n",
    "Hint: You can search online for \"how to export dataframe to csv in python\".\n",
    "        "
   ]
  },
  {
   "cell_type": "code",
   "execution_count": null,
   "id": "3fa3d925",
   "metadata": {},
   "outputs": [],
   "source": []
  },
  {
   "cell_type": "markdown",
   "id": "95b1e2d8",
   "metadata": {},
   "source": [
    "**(3.6) For those wines made from the grape variety \"Pinot Noir\", use a histogram to show their distribution of <code>point</code>. Answer the following question in a markdown cell.**"
   ]
  },
  {
   "cell_type": "code",
   "execution_count": null,
   "id": "ec1eed34",
   "metadata": {},
   "outputs": [],
   "source": []
  },
  {
   "cell_type": "markdown",
   "id": "59045f8b",
   "metadata": {},
   "source": [
    "- **Question:** Based on the distribution of points, which of the following ranges do most wines fall into? [80-83], [84-87], [88-91], [92-95]<br>\n",
    "- **Answer:** "
   ]
  },
  {
   "cell_type": "markdown",
   "id": "2724c304",
   "metadata": {},
   "source": [
    "**(3.7) Use a horizontal bar chart to display the average price for each grape variety.**"
   ]
  },
  {
   "cell_type": "code",
   "execution_count": null,
   "id": "a3a967b2",
   "metadata": {},
   "outputs": [],
   "source": []
  },
  {
   "cell_type": "markdown",
   "id": "deb28059",
   "metadata": {},
   "source": [
    "**(3.8) Calculate the average price of each grape variety in each country.**"
   ]
  },
  {
   "cell_type": "code",
   "execution_count": null,
   "id": "dd6a3e2c",
   "metadata": {},
   "outputs": [],
   "source": []
  },
  {
   "cell_type": "markdown",
   "id": "65727782",
   "metadata": {},
   "source": [
    "**(3.9) Use a horizontal bar chart to display the result obtained in (3.8).**<br>\n",
    "Hint: Use \"country\" as the ylabel, and use different colored bars to represent the varieties."
   ]
  },
  {
   "cell_type": "code",
   "execution_count": null,
   "id": "ddc1961c",
   "metadata": {},
   "outputs": [],
   "source": []
  }
 ],
 "metadata": {
  "kernelspec": {
   "display_name": "Python 3 (ipykernel)",
   "language": "python",
   "name": "python3"
  },
  "language_info": {
   "codemirror_mode": {
    "name": "ipython",
    "version": 3
   },
   "file_extension": ".py",
   "mimetype": "text/x-python",
   "name": "python",
   "nbconvert_exporter": "python",
   "pygments_lexer": "ipython3",
   "version": "3.11.4"
  }
 },
 "nbformat": 4,
 "nbformat_minor": 5
}
