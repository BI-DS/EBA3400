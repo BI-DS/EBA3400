{
 "cells": [
  {
   "cell_type": "markdown",
   "id": "65419606",
   "metadata": {},
   "source": [
    "# Pandas1 - Objects"
   ]
  },
  {
   "cell_type": "markdown",
   "id": "4965386a",
   "metadata": {},
   "source": [
    "**Import pandas package.**"
   ]
  },
  {
   "cell_type": "code",
   "execution_count": null,
   "id": "a30c27bd",
   "metadata": {},
   "outputs": [],
   "source": []
  },
  {
   "cell_type": "markdown",
   "id": "8487f01b",
   "metadata": {},
   "source": [
    "## (1) Series"
   ]
  },
  {
   "cell_type": "markdown",
   "id": "098c9e64",
   "metadata": {},
   "source": [
    "**(1.1) Create a pandas series using the following list. Print out the series.**"
   ]
  },
  {
   "cell_type": "code",
   "execution_count": null,
   "id": "d458f7c9",
   "metadata": {},
   "outputs": [],
   "source": [
    "profit_list = [40.4, 63.9, 17.9, 21.3, 51.3, 48.5]"
   ]
  },
  {
   "cell_type": "code",
   "execution_count": null,
   "id": "b3c18552",
   "metadata": {},
   "outputs": [],
   "source": []
  },
  {
   "cell_type": "markdown",
   "id": "e4e5f0b1",
   "metadata": {},
   "source": [
    "**(1.2) Create a pandas series using the list in (1.1) and use the months 'Jan', 'Feb', 'Mar', 'Apr', 'May', 'Jun' as index. Print out the series.**"
   ]
  },
  {
   "cell_type": "code",
   "execution_count": null,
   "id": "c8240ca9",
   "metadata": {},
   "outputs": [],
   "source": []
  },
  {
   "cell_type": "markdown",
   "id": "fd318e82",
   "metadata": {},
   "source": [
    "## (2) DataFrame"
   ]
  },
  {
   "cell_type": "markdown",
   "id": "666a3ba6",
   "metadata": {},
   "source": [
    "**(2.1) Create a dictionary containing three key-value pairs. Use the keys \"company_name\", \"profit\" and \"assets\" and specify the following list as the corresponding values.**"
   ]
  },
  {
   "cell_type": "code",
   "execution_count": null,
   "id": "195e412a",
   "metadata": {},
   "outputs": [],
   "source": [
    "company_list = ['JPMorgan Chase','Apple','Bank of America','Amazon','Microsoft']\n",
    "profit_list = [40.4, 63.9, 17.9, 21.3, 51.3]\n",
    "assets_list = [3689.3, 354.1, 2832.2, 321.2, 304.1]"
   ]
  },
  {
   "cell_type": "code",
   "execution_count": null,
   "id": "a6c802a3",
   "metadata": {},
   "outputs": [],
   "source": []
  },
  {
   "cell_type": "markdown",
   "id": "4abadafe",
   "metadata": {},
   "source": [
    "**(2.2) Create a dataframe from the dictionary you obtained in (2.1). Display the dataframe.**"
   ]
  },
  {
   "cell_type": "code",
   "execution_count": null,
   "id": "66144c7d",
   "metadata": {},
   "outputs": [],
   "source": []
  },
  {
   "cell_type": "markdown",
   "id": "dd400ebf",
   "metadata": {},
   "source": [
    "**(2.3) Using the dataframe obtained in (2.2), print the number of rows and columns.**"
   ]
  },
  {
   "cell_type": "code",
   "execution_count": null,
   "id": "bfcb9ab2",
   "metadata": {},
   "outputs": [],
   "source": []
  },
  {
   "cell_type": "markdown",
   "id": "e0cf6e09",
   "metadata": {},
   "source": [
    "**(2.4) What is the average profit of these five companies?**"
   ]
  },
  {
   "cell_type": "code",
   "execution_count": null,
   "id": "3d772b5b",
   "metadata": {},
   "outputs": [],
   "source": []
  },
  {
   "cell_type": "markdown",
   "id": "e8a3bdce",
   "metadata": {},
   "source": [
    "**(2.5) Using the dataframe obtained in (2.2), arrange the data in alphabetical order based on the \"company_name\" column.**"
   ]
  },
  {
   "cell_type": "code",
   "execution_count": null,
   "id": "4c78585a",
   "metadata": {},
   "outputs": [],
   "source": []
  },
  {
   "cell_type": "markdown",
   "id": "e29f01c7",
   "metadata": {},
   "source": [
    "## (3) Read data from file "
   ]
  },
  {
   "cell_type": "markdown",
   "id": "f21b56dd",
   "metadata": {},
   "source": [
    "All the .csv files used in this exercise can be found under the folder **Resourses/Part2: Data Extraction and Visualizaion/Dataset/** on itslearning"
   ]
  },
  {
   "cell_type": "markdown",
   "id": "8ab556c5",
   "metadata": {},
   "source": [
    "### (3.1) Melbourne housing data"
   ]
  },
  {
   "cell_type": "markdown",
   "id": "7e1f4607",
   "metadata": {},
   "source": [
    "**This file <code>melbourne.csv</code> records property sales prices in Melbourne. Descriptions of some important variables are listed below.**\n",
    "\n",
    "- **Suburb**: Suburb\n",
    "- **Rooms**: Number of rooms\n",
    "- **Type**: type of real estate including: \n",
    "    - br - bedroom(s)\n",
    "    - h - house,cottage,villa, semi,terrace\n",
    "    - u - unit, duplex\n",
    "    - t - townhouse\n",
    "    - dev site - development site;\n",
    "    - o res - other residential.\n",
    "- **Price**: Price in Australian dollars\n",
    "- **Distance**: Distance from Central Business Development (in km)\n",
    "- **Postcode**: Postcode\n",
    "- **Bathroom**: Number of bathrooms\n",
    "- **Region**: General Region (West, North West, North, North east …etc)\n"
   ]
  },
  {
   "cell_type": "markdown",
   "id": "c396cbbd",
   "metadata": {},
   "source": [
    "**(3.1.1) Read the csv file <code>melbourne.csv</code> as a pandas dataframe. Display the first five rows.** "
   ]
  },
  {
   "cell_type": "code",
   "execution_count": null,
   "id": "696237f2",
   "metadata": {},
   "outputs": [],
   "source": []
  },
  {
   "cell_type": "markdown",
   "id": "52ddee6a",
   "metadata": {},
   "source": [
    "**(3.1.2) Using the data frame obtained in (3.1.1), print out the number of rows and columns in the dataframe in the following format.**<br>\n",
    "Expected result:\n",
    "<code>\n",
    "Number of observations: 13580\n",
    "Number of variables: 21\n",
    "</code>    "
   ]
  },
  {
   "cell_type": "code",
   "execution_count": null,
   "id": "ff8800a1",
   "metadata": {},
   "outputs": [],
   "source": []
  },
  {
   "cell_type": "markdown",
   "id": "ba8e06cb",
   "metadata": {},
   "source": [
    "**(3.1.3) Show a summary of the dataframe, including column names and their data types.** "
   ]
  },
  {
   "cell_type": "code",
   "execution_count": null,
   "id": "79ed256b",
   "metadata": {},
   "outputs": [],
   "source": []
  },
  {
   "cell_type": "markdown",
   "id": "336dddc7",
   "metadata": {},
   "source": [
    "**(3.1.4) Show the descriptive statistics for all numerical columns and round the result to one decimal place.**"
   ]
  },
  {
   "cell_type": "code",
   "execution_count": null,
   "id": "d3a1232d",
   "metadata": {},
   "outputs": [],
   "source": []
  },
  {
   "cell_type": "markdown",
   "id": "4896173a",
   "metadata": {},
   "source": [
    "**(3.1.5) Use the result obtained in (3.1.4) to answer the following questions.** (Add your answers to the markdown cell.) "
   ]
  },
  {
   "cell_type": "markdown",
   "id": "84a6ef7b",
   "metadata": {},
   "source": [
    "- What is the average selling price of the properties? \n",
    "- Among these properties, what is the highest number of rooms in a single property? \n",
    "- What is the average number of bathrooms in these properties? \n",
    "- Among these properties, in which year was the oldest property built? "
   ]
  },
  {
   "cell_type": "markdown",
   "id": "ff968705",
   "metadata": {},
   "source": [
    "**(3.1.6) In which three suburbs are most properties located?**"
   ]
  },
  {
   "cell_type": "code",
   "execution_count": null,
   "id": "dff55525",
   "metadata": {},
   "outputs": [],
   "source": []
  },
  {
   "cell_type": "markdown",
   "id": "14cbdd74",
   "metadata": {},
   "source": [
    "**(3.1.7) Display the data of the top five properties with the highest prices.**<br>\n",
    "Hint: sorting"
   ]
  },
  {
   "cell_type": "code",
   "execution_count": null,
   "id": "c69b5880",
   "metadata": {},
   "outputs": [],
   "source": []
  },
  {
   "cell_type": "markdown",
   "id": "4556968f",
   "metadata": {},
   "source": [
    "### (3.2) The Diabetes dataset"
   ]
  },
  {
   "cell_type": "markdown",
   "id": "7b3747e7",
   "metadata": {},
   "source": [
    "• **Pregnancies**: Number of times pregnant<br>\n",
    "• **Glucose**: Plasma glucose concentration over 2 hours in an oral glucose tolerance test<br>\n",
    "• **BloodPressure**: Diastolic blood pressure (mm Hg)<br>\n",
    "• **SkinThickness**: Triceps skin fold thickness (mm)<br>\n",
    "• **Insulin**: 2-Hour serum insulin (mu U/ml)<br>\n",
    "• **BMI**: Body mass index (weight in kg/(height in m)2)<br>\n",
    "• **DiabetesPedigreeFunction**: Diabetes pedigree function (a function which scores likelihood of\n",
    "diabetes based on family history)<br>\n",
    "• **Age**: Age (years)<br>\n",
    "• **Outcome**: Class variable (0 if non-diabetic, 1 if diabetic)<br>"
   ]
  },
  {
   "cell_type": "markdown",
   "id": "0732ea39",
   "metadata": {},
   "source": [
    "**(3.2.1) Import the csv file <code>diabetes.csv</code> and specify the data type for the 'Outcome' column as 'object'. Display the first five rows.** <br>\n",
    "Hint:\n",
    "```Python\n",
    "        pd.read_csv(\"file_name\", dtype = {\"column_name\": object})\n",
    "```"
   ]
  },
  {
   "cell_type": "code",
   "execution_count": null,
   "id": "211004e2",
   "metadata": {},
   "outputs": [],
   "source": []
  },
  {
   "cell_type": "markdown",
   "id": "28a8d5c3",
   "metadata": {},
   "source": [
    "**(3.2.2) Show the descriptive statistics for all numerical variables, rounding the result to the nearest whole number. Then, answer the following questions.**<br>"
   ]
  },
  {
   "cell_type": "code",
   "execution_count": null,
   "id": "44ec0bc6",
   "metadata": {},
   "outputs": [],
   "source": []
  },
  {
   "cell_type": "markdown",
   "id": "221bf1e9",
   "metadata": {},
   "source": [
    "- What is the average age? \n",
    "- What is the maximum BMI? \n",
    "- What is the average BloodPressure? "
   ]
  },
  {
   "cell_type": "markdown",
   "id": "72c06ab7",
   "metadata": {},
   "source": [
    "**(3.2.3) Display data for the top 15 people with the highest BMI. Store the data as a new dataframe.**"
   ]
  },
  {
   "cell_type": "code",
   "execution_count": null,
   "id": "e74c4e6a",
   "metadata": {},
   "outputs": [],
   "source": []
  },
  {
   "cell_type": "markdown",
   "id": "5424dc14",
   "metadata": {},
   "source": [
    "**(3.2.4) Using the dataframe obtained in (3.2.3), count the number of people with and without diabetes.**"
   ]
  },
  {
   "cell_type": "code",
   "execution_count": null,
   "id": "52422b41",
   "metadata": {},
   "outputs": [],
   "source": []
  },
  {
   "cell_type": "markdown",
   "id": "08116de1",
   "metadata": {},
   "source": [
    "### (3.3) Country code"
   ]
  },
  {
   "cell_type": "markdown",
   "id": "2927f9cb",
   "metadata": {},
   "source": [
    "**(3.3.1) Read \"code.csv\" as a dataframe aisplay the first 10 rows.**"
   ]
  },
  {
   "cell_type": "code",
   "execution_count": null,
   "id": "b672129a",
   "metadata": {},
   "outputs": [],
   "source": []
  },
  {
   "cell_type": "markdown",
   "id": "c66f1475",
   "metadata": {},
   "source": [
    "**(3.3.2) Extract the  \"country_code\" column and \"country\" column as two lists.**<br> Hint: <code>df[\"column_name\"].to_list()</code>"
   ]
  },
  {
   "cell_type": "code",
   "execution_count": null,
   "id": "80a4a0f4",
   "metadata": {},
   "outputs": [],
   "source": []
  },
  {
   "cell_type": "markdown",
   "id": "6b02662b",
   "metadata": {},
   "source": [
    "**(3.3.3) Using the two lists obtained in (3.3.2), create a dictionary with \"country code\" as the key and \"country\" as the value.**<br>\n",
    "Example: <br>\n",
    "<code>{\"AFG\": \"Afghanistan\", \"ALA\": \"Åland Islands\",..., \"ZWE\": \"Zimbabwe\"}</code>"
   ]
  },
  {
   "cell_type": "code",
   "execution_count": null,
   "id": "83b4ed4d",
   "metadata": {},
   "outputs": [],
   "source": []
  },
  {
   "cell_type": "markdown",
   "id": "d681bf01",
   "metadata": {},
   "source": [
    "**(3.3.4) Write a program that asks the user to enter a country code, and the program should print out the corresponding country name.**<br>\n",
    "Example-1:<br>\n",
    "Enter a country code: <code>AGO</code>.<br>\n",
    "The country code \"AGO\" is Angola.\n",
    "\n",
    "Example-2:<br>\n",
    "Enter a country code: <code>NOR</code>.<br>\n",
    "The country code \"NOR\" is Norway."
   ]
  },
  {
   "cell_type": "code",
   "execution_count": null,
   "id": "a3018d85",
   "metadata": {},
   "outputs": [],
   "source": []
  }
 ],
 "metadata": {
  "kernelspec": {
   "display_name": "Python 3 (ipykernel)",
   "language": "python",
   "name": "python3"
  },
  "language_info": {
   "codemirror_mode": {
    "name": "ipython",
    "version": 3
   },
   "file_extension": ".py",
   "mimetype": "text/x-python",
   "name": "python",
   "nbconvert_exporter": "python",
   "pygments_lexer": "ipython3",
   "version": "3.11.4"
  }
 },
 "nbformat": 4,
 "nbformat_minor": 5
}
