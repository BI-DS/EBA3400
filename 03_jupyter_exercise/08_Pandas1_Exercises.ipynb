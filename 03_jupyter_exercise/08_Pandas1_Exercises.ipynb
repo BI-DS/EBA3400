{
 "cells": [
  {
   "cell_type": "markdown",
   "id": "65419606",
   "metadata": {},
   "source": [
    "# Pandas1 - Objects"
   ]
  },
  {
   "cell_type": "markdown",
   "id": "4965386a",
   "metadata": {},
   "source": [
    "**Import pandas package.**"
   ]
  },
  {
   "cell_type": "code",
   "execution_count": 1,
   "id": "a30c27bd",
   "metadata": {},
   "outputs": [],
   "source": [
    "# put your code here"
   ]
  },
  {
   "cell_type": "markdown",
   "id": "8487f01b",
   "metadata": {},
   "source": [
    "## (1) Series"
   ]
  },
  {
   "cell_type": "markdown",
   "id": "098c9e64",
   "metadata": {},
   "source": [
    "**(1.1) Create a pandas series using the following list.**"
   ]
  },
  {
   "cell_type": "code",
   "execution_count": 2,
   "id": "d458f7c9",
   "metadata": {},
   "outputs": [],
   "source": [
    "profit_list = [40.4, 63.9, 17.9, 21.3, 51.3]"
   ]
  },
  {
   "cell_type": "code",
   "execution_count": 3,
   "id": "b3c18552",
   "metadata": {},
   "outputs": [],
   "source": [
    "# put your code here"
   ]
  },
  {
   "cell_type": "markdown",
   "id": "0c21f640",
   "metadata": {},
   "source": [
    "**(1.2) Display the values greater 30.**"
   ]
  },
  {
   "cell_type": "code",
   "execution_count": 4,
   "id": "b88ff9ed",
   "metadata": {},
   "outputs": [],
   "source": [
    "# put your code here"
   ]
  },
  {
   "cell_type": "markdown",
   "id": "fd318e82",
   "metadata": {},
   "source": [
    "## (2) DataFrame"
   ]
  },
  {
   "cell_type": "markdown",
   "id": "4abadafe",
   "metadata": {},
   "source": [
    "**(2.1) Use the following list to create a pandas dataframe. The column names are \"company_name\", \"profit\", \"assets\".**"
   ]
  },
  {
   "cell_type": "code",
   "execution_count": 5,
   "id": "195e412a",
   "metadata": {},
   "outputs": [],
   "source": [
    "company_list = ['JPMorgan Chase','Apple','Bank of America','Amazon','Microsoft']\n",
    "profit_list = [40.4, 63.9, 17.9, 21.3, 51.3]\n",
    "assets_list = [3689.3, 354.1, 2832.2, 321.2, 304.1]"
   ]
  },
  {
   "cell_type": "code",
   "execution_count": 6,
   "id": "66144c7d",
   "metadata": {},
   "outputs": [],
   "source": [
    "# put your code here"
   ]
  },
  {
   "cell_type": "markdown",
   "id": "916fc3e5",
   "metadata": {},
   "source": [
    "**(2.2) Use the dataframe in (2.1). Show companies with profits greater than 40 and assets greater than 350.**"
   ]
  },
  {
   "cell_type": "code",
   "execution_count": 7,
   "id": "c2935567",
   "metadata": {},
   "outputs": [],
   "source": [
    "# put your code here"
   ]
  },
  {
   "cell_type": "markdown",
   "id": "fd75a64a",
   "metadata": {},
   "source": [
    "**(2.3) Use <code>iloc</code> to select the first three rows.**"
   ]
  },
  {
   "cell_type": "code",
   "execution_count": 8,
   "id": "0a629ae7",
   "metadata": {},
   "outputs": [],
   "source": [
    "# put your code here"
   ]
  },
  {
   "cell_type": "markdown",
   "id": "92e58c03",
   "metadata": {},
   "source": [
    "**(2.4) Use <code>loc</code> to select the column <code>company_name</code>.**"
   ]
  },
  {
   "cell_type": "code",
   "execution_count": 9,
   "id": "dd4673ea",
   "metadata": {},
   "outputs": [],
   "source": [
    "# put your code here"
   ]
  },
  {
   "cell_type": "markdown",
   "id": "e29f01c7",
   "metadata": {},
   "source": [
    "## (3) Read data from file "
   ]
  },
  {
   "cell_type": "markdown",
   "id": "f21b56dd",
   "metadata": {},
   "source": [
    "Note that all the .csv files used in this exercise can be found under the folder **Resourses/Part2: Data Extraction and Visualizaion/Dataset/** on itslearning"
   ]
  },
  {
   "cell_type": "markdown",
   "id": "8ab556c5",
   "metadata": {},
   "source": [
    "### (3.1) Melbourne housing data"
   ]
  },
  {
   "cell_type": "markdown",
   "id": "c396cbbd",
   "metadata": {},
   "source": [
    "**(3.1.1) Import the csv file <code>melbourne.csv</code> using pandas. Display the first five rows.** "
   ]
  },
  {
   "cell_type": "code",
   "execution_count": 10,
   "id": "696237f2",
   "metadata": {},
   "outputs": [],
   "source": [
    "# put your code here"
   ]
  },
  {
   "cell_type": "markdown",
   "id": "52ddee6a",
   "metadata": {},
   "source": [
    "**(3.1.2) Print out the number of observations and the number of variables.**<br>\n",
    "Expected result:\n",
    "<code>\n",
    "Number of observations: 13580\n",
    "Number of variables: 21\n",
    "</code>    "
   ]
  },
  {
   "cell_type": "code",
   "execution_count": 11,
   "id": "ff8800a1",
   "metadata": {},
   "outputs": [],
   "source": [
    "# put your code here"
   ]
  },
  {
   "cell_type": "markdown",
   "id": "9f7bf598",
   "metadata": {},
   "source": [
    "**(3.1.3) Select a subset of the data consisting of the variables <code>Suburb, Price, Rooms, Type, Bathroom, Car, Landsize, BuildingArea, YearBuilt</code>. Store this subset in a new variable.** "
   ]
  },
  {
   "cell_type": "code",
   "execution_count": 12,
   "id": "a2b315f6",
   "metadata": {},
   "outputs": [],
   "source": [
    "# put your code here"
   ]
  },
  {
   "cell_type": "markdown",
   "id": "4896173a",
   "metadata": {},
   "source": [
    "**(3.1.4) Use the subset obtained in (3.1.3). Show the summary statistics for these variables and answer the following questions.** (Add your answers to the markdown cell.) "
   ]
  },
  {
   "cell_type": "code",
   "execution_count": 13,
   "id": "4feec17d",
   "metadata": {},
   "outputs": [],
   "source": [
    "# put your code here"
   ]
  },
  {
   "cell_type": "markdown",
   "id": "a7a50343",
   "metadata": {},
   "source": [
    "**Write you answers here:**\n",
    "- What is the average price? \n",
    "- What is the maximum number of rooms? \n",
    "- What is the average number of baths? \n",
    "- Are there bathrooms in all houses? \n",
    "- In which year was the newest house built? "
   ]
  },
  {
   "cell_type": "markdown",
   "id": "a4fe0cb8",
   "metadata": {},
   "source": [
    "**(3.1.5) Use the subset obtained in (3.1.3). What is the average price for all houses with at least four rooms and two bathrooms in the Newport area? How many houses are in this area?.** <br>\n",
    "Hint: Filter data by conditions and calculate the statistics."
   ]
  },
  {
   "cell_type": "code",
   "execution_count": 14,
   "id": "0779556d",
   "metadata": {},
   "outputs": [],
   "source": [
    "# put your code here"
   ]
  },
  {
   "cell_type": "markdown",
   "id": "d3d03912",
   "metadata": {},
   "source": [
    "**Write you answers here:**<br>\n",
    "The average price is __. There are __ houses with at least three rooms and two bathrooms in the Newport area. "
   ]
  },
  {
   "cell_type": "markdown",
   "id": "4556968f",
   "metadata": {},
   "source": [
    "### (3.2) The Diabetes dataset"
   ]
  },
  {
   "cell_type": "markdown",
   "id": "7b3747e7",
   "metadata": {},
   "source": [
    "• **Pregnancies**: Number of times pregnant<br>\n",
    "• **Glucose**: Plasma glucose concentration over 2 hours in an oral glucose tolerance test<br>\n",
    "• **BloodPressure**: Diastolic blood pressure (mm Hg)<br>\n",
    "• **SkinThickness**: Triceps skin fold thickness (mm)<br>\n",
    "• **Insulin**: 2-Hour serum insulin (mu U/ml)<br>\n",
    "• **BMI**: Body mass index (weight in kg/(height in m)2)<br>\n",
    "• **DiabetesPedigreeFunction**: Diabetes pedigree function (a function which scores likelihood of\n",
    "diabetes based on family history)<br>\n",
    "• **Age**: Age (years)<br>\n",
    "• **Outcome**: Class variable (0 if non-diabetic, 1 if diabetic)<br>"
   ]
  },
  {
   "cell_type": "markdown",
   "id": "0732ea39",
   "metadata": {},
   "source": [
    "**(3.2.1) Import the csv file <code>diabetes.csv</code> using pandas. Display the first five rows.** "
   ]
  },
  {
   "cell_type": "code",
   "execution_count": 15,
   "id": "211004e2",
   "metadata": {},
   "outputs": [],
   "source": [
    "# put your code here"
   ]
  },
  {
   "cell_type": "markdown",
   "id": "61023e1b",
   "metadata": {},
   "source": [
    "**(3.2.2) Print out the number of observations and the number of variables.**<br>"
   ]
  },
  {
   "cell_type": "code",
   "execution_count": 16,
   "id": "1c9d7ca1",
   "metadata": {},
   "outputs": [],
   "source": [
    "# put your code here"
   ]
  },
  {
   "cell_type": "markdown",
   "id": "28a8d5c3",
   "metadata": {},
   "source": [
    "**(3.2.3) Show the summary statistics for these variables and answer the following questions.**<br>"
   ]
  },
  {
   "cell_type": "code",
   "execution_count": 17,
   "id": "44ec0bc6",
   "metadata": {},
   "outputs": [],
   "source": [
    "# put your code here"
   ]
  },
  {
   "cell_type": "markdown",
   "id": "221bf1e9",
   "metadata": {},
   "source": [
    "- What is the average age? \n",
    "- What is the maximum number of BMI? \n",
    "- What is the minimum of BloodPressure? "
   ]
  },
  {
   "cell_type": "markdown",
   "id": "4a89ef21",
   "metadata": {},
   "source": [
    "**(3.2.4) Select observations with pressure greater than 4 and calculate their average value.**"
   ]
  },
  {
   "cell_type": "code",
   "execution_count": 18,
   "id": "b5ed01fc",
   "metadata": {},
   "outputs": [],
   "source": [
    "# put your code here"
   ]
  },
  {
   "cell_type": "markdown",
   "id": "62a27820",
   "metadata": {},
   "source": [
    "The average price is ___."
   ]
  }
 ],
 "metadata": {
  "kernelspec": {
   "display_name": "Python 3",
   "language": "python",
   "name": "python3"
  },
  "language_info": {
   "codemirror_mode": {
    "name": "ipython",
    "version": 3
   },
   "file_extension": ".py",
   "mimetype": "text/x-python",
   "name": "python",
   "nbconvert_exporter": "python",
   "pygments_lexer": "ipython3",
   "version": "3.8.8"
  }
 },
 "nbformat": 4,
 "nbformat_minor": 5
}
