{
 "cells": [
  {
   "cell_type": "markdown",
   "metadata": {},
   "source": [
    "# Lists"
   ]
  },
  {
   "cell_type": "markdown",
   "metadata": {},
   "source": [
    "## (1) Creating a list"
   ]
  },
  {
   "cell_type": "markdown",
   "metadata": {},
   "source": [
    "**(1.1) Define a list named num_list, which contains the following elements: <code>10,20,30,40,50</code>. Print out the list.**"
   ]
  },
  {
   "cell_type": "code",
   "execution_count": 1,
   "metadata": {},
   "outputs": [
    {
     "data": {
      "text/plain": [
       "[10, 20, 30, 40, 50]"
      ]
     },
     "execution_count": 1,
     "metadata": {},
     "output_type": "execute_result"
    }
   ],
   "source": [
    "# put your code here\n",
    "num_list = [10,20,30,40,50]\n",
    "num_list"
   ]
  },
  {
   "cell_type": "markdown",
   "metadata": {},
   "source": [
    "**(1.2) Define a list named mix_list, which contains the following elements: <code>1.5, test, [10,20,30,40,50]</code>. Print out the list.**"
   ]
  },
  {
   "cell_type": "code",
   "execution_count": 2,
   "metadata": {},
   "outputs": [
    {
     "data": {
      "text/plain": [
       "[1.5, 'test', [10, 20, 30, 40, 50]]"
      ]
     },
     "execution_count": 2,
     "metadata": {},
     "output_type": "execute_result"
    }
   ],
   "source": [
    "# put your code here\n",
    "mix_list = [1.5,'test',[10,20,30,40,50]]\n",
    "mix_list"
   ]
  },
  {
   "cell_type": "markdown",
   "metadata": {},
   "source": [
    "## (2) Indexing and slicing"
   ]
  },
  {
   "cell_type": "markdown",
   "metadata": {},
   "source": [
    "**(2.1) Use num_list defined in (1.1). Print the first element to the third element.**"
   ]
  },
  {
   "cell_type": "code",
   "execution_count": 3,
   "metadata": {},
   "outputs": [
    {
     "data": {
      "text/plain": [
       "[10, 20, 30]"
      ]
     },
     "execution_count": 3,
     "metadata": {},
     "output_type": "execute_result"
    }
   ],
   "source": [
    "# put your code here\n",
    "num_list[0:3]"
   ]
  },
  {
   "cell_type": "markdown",
   "metadata": {},
   "source": [
    "**(2.2) Use num_list defined in (1.1). Print the last two element in the list.**"
   ]
  },
  {
   "cell_type": "code",
   "execution_count": 4,
   "metadata": {},
   "outputs": [
    {
     "data": {
      "text/plain": [
       "[40, 50]"
      ]
     },
     "execution_count": 4,
     "metadata": {},
     "output_type": "execute_result"
    }
   ],
   "source": [
    "# put your code here\n",
    "num_list[-2:]"
   ]
  },
  {
   "cell_type": "markdown",
   "metadata": {},
   "source": [
    "## (3) Methods and operations"
   ]
  },
  {
   "cell_type": "markdown",
   "metadata": {},
   "source": [
    "**(3.1) Considering the list below. Append an element 'Sat' in the list and print out the updated list.**<br>"
   ]
  },
  {
   "cell_type": "code",
   "execution_count": 5,
   "metadata": {},
   "outputs": [],
   "source": [
    "day_list = ['Mon','Tue','Wed','Thu','Fri']"
   ]
  },
  {
   "cell_type": "code",
   "execution_count": 6,
   "metadata": {},
   "outputs": [
    {
     "data": {
      "text/plain": [
       "['Mon', 'Tue', 'Wed', 'Thu', 'Fri', 'Sat']"
      ]
     },
     "execution_count": 6,
     "metadata": {},
     "output_type": "execute_result"
    }
   ],
   "source": [
    "# put your code here\n",
    "day_list.append('Sat')\n",
    "day_list"
   ]
  },
  {
   "cell_type": "markdown",
   "metadata": {},
   "source": [
    "**(3.2) Considering the list below. Insert an element 'C' between B and D. Print out the updated list.**\n"
   ]
  },
  {
   "cell_type": "code",
   "execution_count": 7,
   "metadata": {},
   "outputs": [],
   "source": [
    "score_list = ['A','B','D','E','F']"
   ]
  },
  {
   "cell_type": "code",
   "execution_count": 8,
   "metadata": {},
   "outputs": [
    {
     "data": {
      "text/plain": [
       "['A', 'B', 'C', 'D', 'E', 'F']"
      ]
     },
     "execution_count": 8,
     "metadata": {},
     "output_type": "execute_result"
    }
   ],
   "source": [
    "# put your code here\n",
    "score_list.insert(2, 'C')\n",
    "score_list"
   ]
  },
  {
   "cell_type": "markdown",
   "metadata": {},
   "source": [
    "**(3.3) Considering the list below. Print out the price of apple.**"
   ]
  },
  {
   "cell_type": "code",
   "execution_count": 9,
   "metadata": {},
   "outputs": [],
   "source": [
    "item_list = [[1,'10kr','apple'],[2,'30kr','bread'],[3,'70kr','salmon'],[4,'40kr','juice']]"
   ]
  },
  {
   "cell_type": "code",
   "execution_count": 10,
   "metadata": {},
   "outputs": [
    {
     "data": {
      "text/plain": [
       "'10kr'"
      ]
     },
     "execution_count": 10,
     "metadata": {},
     "output_type": "execute_result"
    }
   ],
   "source": [
    "# put your code here\n",
    "item_list[0][1]"
   ]
  },
  {
   "cell_type": "markdown",
   "metadata": {},
   "source": [
    "**(3.4) Use the list in (3.3). Replace the fourth item with <code>['35kr', 'yogurt']</code>.**<br>\n",
    "Expected result:\n",
    "<code>\n",
    "[[1,'10kr','apple'],\n",
    " [2,'30kr','bread'],\n",
    " [3,'70kr','salmon'],\n",
    " [4,'35kr','yogurt']]\n",
    "</code>    "
   ]
  },
  {
   "cell_type": "code",
   "execution_count": 11,
   "metadata": {},
   "outputs": [
    {
     "data": {
      "text/plain": [
       "[[1, '10kr', 'apple'],\n",
       " [2, '30kr', 'bread'],\n",
       " [3, '70kr', 'salmon'],\n",
       " [4, '35kr', 'yogurt']]"
      ]
     },
     "execution_count": 11,
     "metadata": {},
     "output_type": "execute_result"
    }
   ],
   "source": [
    "# put your code here\n",
    "item_list[3][1:] =['35kr', 'yogurt']\n",
    "item_list"
   ]
  },
  {
   "cell_type": "markdown",
   "metadata": {},
   "source": [
    "**(3.5) Append all items in list_B to list_A.**\n",
    "<br>\n",
    "Expected result:\n",
    "<code>\n",
    "[2, 4, 6, 8, 10, 12]\n",
    "</code>"
   ]
  },
  {
   "cell_type": "code",
   "execution_count": 12,
   "metadata": {},
   "outputs": [],
   "source": [
    "list_A = [2, 4, 6]\n",
    "list_B = [8, 10, 12]"
   ]
  },
  {
   "cell_type": "code",
   "execution_count": 13,
   "metadata": {},
   "outputs": [
    {
     "data": {
      "text/plain": [
       "[2, 4, 6, 8, 10, 12]"
      ]
     },
     "execution_count": 13,
     "metadata": {},
     "output_type": "execute_result"
    }
   ],
   "source": [
    "# put your code here\n",
    "list_A.extend(list_B)  \n",
    "list_A"
   ]
  },
  {
   "cell_type": "markdown",
   "metadata": {},
   "source": [
    "**(3.6) Defind a list named mylist = [10, 4, 8, 2, 12, 6]. Sort the elements of the list in descending order.**<br>"
   ]
  },
  {
   "cell_type": "code",
   "execution_count": 14,
   "metadata": {},
   "outputs": [
    {
     "data": {
      "text/plain": [
       "[12, 10, 8, 6, 4, 2]"
      ]
     },
     "execution_count": 14,
     "metadata": {},
     "output_type": "execute_result"
    }
   ],
   "source": [
    "# put your code here\n",
    "mylist = [10, 4, 8, 2, 12, 6]\n",
    "mylist.sort(reverse = True)\n",
    "mylist"
   ]
  },
  {
   "cell_type": "markdown",
   "metadata": {},
   "source": [
    "**(3.7) Defind a list named mylist = ['Jan', 'Feb', 'Mar', 'Apr', 'May']. Use pop function to remove the second element. Print the updated list and the deleted element.**<br>\n",
    "Expected result:\n",
    "<code>\n",
    "['Jan', 'Mar', 'Apr', 'May']\n",
    "Feb\n",
    "</code>"
   ]
  },
  {
   "cell_type": "code",
   "execution_count": 15,
   "metadata": {},
   "outputs": [
    {
     "name": "stdout",
     "output_type": "stream",
     "text": [
      "['Jan', 'Mar', 'Apr', 'May']\n",
      "Feb\n"
     ]
    }
   ],
   "source": [
    "# put your code here\n",
    "mylist =  ['Jan', 'Feb', 'Mar', 'Apr', 'May']\n",
    "deleted_item = mylist.pop(1)\n",
    "print(mylist)\n",
    "print(deleted_item)"
   ]
  },
  {
   "cell_type": "markdown",
   "metadata": {},
   "source": [
    "**(3.8) Defind a list named mylist = ['x', 'w', 'y', 'z']. Remove the first two elements. Print the updated list.**<br>"
   ]
  },
  {
   "cell_type": "code",
   "execution_count": 16,
   "metadata": {},
   "outputs": [
    {
     "data": {
      "text/plain": [
       "['y', 'z']"
      ]
     },
     "execution_count": 16,
     "metadata": {},
     "output_type": "execute_result"
    }
   ],
   "source": [
    "# put your code here\n",
    "mylist = ['x', 'w', 'y', 'z']\n",
    "del mylist[0:2]\n",
    "mylist"
   ]
  },
  {
   "cell_type": "markdown",
   "metadata": {},
   "source": [
    "**(3.9) Below are the daily reported COVID-19 cases in the past 14 days. Use a list to store these values and calculate the maximum value in the list.**\n",
    "- 207,111,129,154,202,207,215,203,150,145,262,282,293,387\n"
   ]
  },
  {
   "cell_type": "code",
   "execution_count": 17,
   "metadata": {},
   "outputs": [
    {
     "name": "stdout",
     "output_type": "stream",
     "text": [
      "Maximum: 387\n"
     ]
    }
   ],
   "source": [
    "# put your code here\n",
    "mylist = [207,111,129,154,202,207,215,203,150,145,262,282,293,387]\n",
    "print('Maximum:',max(mylist))"
   ]
  },
  {
   "cell_type": "markdown",
   "metadata": {},
   "source": [
    "**(3.10) Use the list in (3.9). Calculate the average number of cases in the first and second weeks.**\n",
    "- First week: Day1~Day7\n",
    "- Second week: Day8~Day14"
   ]
  },
  {
   "cell_type": "code",
   "execution_count": 18,
   "metadata": {},
   "outputs": [
    {
     "name": "stdout",
     "output_type": "stream",
     "text": [
      "175.0\n",
      "246.0\n"
     ]
    }
   ],
   "source": [
    "print(sum(mylist[:7])/7)\n",
    "print(sum(mylist[7:])/7)"
   ]
  },
  {
   "cell_type": "markdown",
   "metadata": {},
   "source": [
    "## (4) Lists and strings"
   ]
  },
  {
   "cell_type": "markdown",
   "metadata": {},
   "source": [
    "**(4.1) Considering the following text. Print out the frequency of the word \"energy\". (Note: Ignore case when calculating frequency.)**<br>\n",
    "'Wind energy is expected by groups including the International Energy Agency and the International Renewables Energy Agency to form the backbone of global electricity generation by 2050.'"
   ]
  },
  {
   "cell_type": "code",
   "execution_count": 19,
   "metadata": {},
   "outputs": [
    {
     "data": {
      "text/plain": [
       "3"
      ]
     },
     "execution_count": 19,
     "metadata": {},
     "output_type": "execute_result"
    }
   ],
   "source": [
    "# put your code here\n",
    "snippet = 'Wind energy is expected by groups including the International Energy Agency and the International Renewables Energy Agency to form the backbone of global electricity generation by 2050.'\n",
    "snippet_new = snippet.casefold()\n",
    "word_list = snippet_new.split()\n",
    "word_list.count('energy')"
   ]
  }
 ],
 "metadata": {
  "kernelspec": {
   "display_name": "Python 3",
   "language": "python",
   "name": "python3"
  },
  "language_info": {
   "codemirror_mode": {
    "name": "ipython",
    "version": 3
   },
   "file_extension": ".py",
   "mimetype": "text/x-python",
   "name": "python",
   "nbconvert_exporter": "python",
   "pygments_lexer": "ipython3",
   "version": "3.8.8"
  }
 },
 "nbformat": 4,
 "nbformat_minor": 4
}
