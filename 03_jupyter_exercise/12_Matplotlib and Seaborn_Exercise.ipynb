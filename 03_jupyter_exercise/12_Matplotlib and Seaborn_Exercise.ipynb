{
 "cells": [
  {
   "cell_type": "markdown",
   "id": "e3a10745",
   "metadata": {},
   "source": [
    "# Matplotlib and Seaborn"
   ]
  },
  {
   "cell_type": "code",
   "execution_count": null,
   "id": "044be29b",
   "metadata": {},
   "outputs": [],
   "source": []
  },
  {
   "cell_type": "markdown",
   "id": "7956e794",
   "metadata": {},
   "source": [
    "# Matplotlib\n",
    "## (1) National Park"
   ]
  },
  {
   "cell_type": "markdown",
   "id": "27f9cac8",
   "metadata": {},
   "source": [
    "**(1.1) Import the dataset <code>park.csv</code>. Show the first five rows.**"
   ]
  },
  {
   "cell_type": "code",
   "execution_count": null,
   "id": "3c5b89ec",
   "metadata": {},
   "outputs": [],
   "source": []
  },
  {
   "cell_type": "markdown",
   "id": "40e7d75c",
   "metadata": {},
   "source": [
    "**(1.2) Create a subset by selecting national parks in the following five states: CA, CO, UT, AK, WA. Use this subset to solve the next task.**"
   ]
  },
  {
   "cell_type": "code",
   "execution_count": null,
   "id": "d0bd28fc",
   "metadata": {},
   "outputs": [],
   "source": []
  },
  {
   "cell_type": "markdown",
   "id": "e335a8e6",
   "metadata": {},
   "source": [
    "**(1.3) Create a figure consisting of two subplots. In the first subplot, use a bar chart to show the count of parks in each state. In the second subplot, use a pie chart to show the total park acreage for each state.**<br>\n",
    "\n",
    "Setting:\n",
    "- Title of the first subplot: Number of Parks by State\n",
    "- Title of the second subplot: Total Park Acreage by State"
   ]
  },
  {
   "cell_type": "code",
   "execution_count": null,
   "id": "4d52871f",
   "metadata": {},
   "outputs": [],
   "source": []
  },
  {
   "cell_type": "markdown",
   "id": "f955eed6",
   "metadata": {},
   "source": [
    "# Seaborn"
   ]
  },
  {
   "cell_type": "markdown",
   "id": "3f0db9e3",
   "metadata": {},
   "source": [
    "## (2) Titanic\n",
    "The sinking of the Titanic is one of the most infamous shipwrecks in history, resulting in the death of 1502 out of 2224 passengers and crew. \n",
    "- **class**: Ticket class  (First/Second/Third)\n",
    "- **who**: sex (man/woman)\n",
    "- **embarked**: Port of Embarkation \n",
    "- **alive**: yes/no"
   ]
  },
  {
   "cell_type": "markdown",
   "id": "2e3bc49f",
   "metadata": {},
   "source": [
    "**(2.1) Load the seaborn dataset <code>titanic</code>. Select the following columns and save the subset to a csv file.**<br>\n",
    "Hint: https://pandas.pydata.org/docs/reference/api/pandas.DataFrame.to_csv.html <code>DataFrame.to_csv(\"filename.csv\", index = False)</code>\n",
    "- class\t\n",
    "- who\n",
    "- embark_town\n",
    "- alive"
   ]
  },
  {
   "cell_type": "code",
   "execution_count": null,
   "id": "0264a654",
   "metadata": {},
   "outputs": [],
   "source": []
  },
  {
   "cell_type": "markdown",
   "id": "d95c4ae8",
   "metadata": {},
   "source": [
    "**(2.2) Import the dataset you saved in (2.1) and use it to complete the following tasks.** "
   ]
  },
  {
   "cell_type": "code",
   "execution_count": null,
   "id": "76d314a8",
   "metadata": {},
   "outputs": [],
   "source": []
  },
  {
   "cell_type": "markdown",
   "id": "95ffa361",
   "metadata": {},
   "source": [
    "**(2.3) Create a count plot to show the number of passengers in each group (man/woman/child).**<br>\n",
    "Hint: Column <code>who</code>"
   ]
  },
  {
   "cell_type": "code",
   "execution_count": null,
   "id": "fc9db26b",
   "metadata": {},
   "outputs": [],
   "source": []
  },
  {
   "cell_type": "markdown",
   "id": "164af086",
   "metadata": {},
   "source": [
    "**(2.4) Create a count plot to show the number of passengers in each group (man/woman/child). Additionally, different colored sub-bars are used to represent the number of passengers who survived and did not survive in each group.** "
   ]
  },
  {
   "cell_type": "code",
   "execution_count": null,
   "id": "b8de2183",
   "metadata": {},
   "outputs": [],
   "source": []
  },
  {
   "cell_type": "markdown",
   "id": "af57d2a3",
   "metadata": {},
   "source": [
    "- **Question**: Among the different passenger groups (man/woman/child), which one exhibits the lowest survival rate?\n",
    "- **Answer**: "
   ]
  },
  {
   "cell_type": "markdown",
   "id": "f22f8a0c",
   "metadata": {},
   "source": [
    "**(2.5) Use a contingency table to display the numbers in (2.4).**<br>\n",
    "Expected result:"
   ]
  },
  {
   "cell_type": "markdown",
   "id": "b655d4b4",
   "metadata": {},
   "source": [
    "|alive<br>who|no|yes|\n",
    "|:-:|:-:|:-:|\n",
    "|**child**|34|49|\n",
    "|**man**|449|88|\n",
    "|**woman**|66|205|"
   ]
  },
  {
   "cell_type": "code",
   "execution_count": null,
   "id": "2dcccf83",
   "metadata": {},
   "outputs": [],
   "source": []
  },
  {
   "cell_type": "markdown",
   "id": "25cbf1ff",
   "metadata": {},
   "source": [
    "**(2.6) Use a heatmap to display the result in (2.5).**<br>\n",
    "Setting: <code>cmap = \"GnBu\"</code>"
   ]
  },
  {
   "cell_type": "code",
   "execution_count": null,
   "id": "b3d7369b",
   "metadata": {},
   "outputs": [],
   "source": []
  },
  {
   "cell_type": "markdown",
   "id": "1cdc6e7a",
   "metadata": {},
   "source": [
    "**(2.7) Use three subplots to compare the survival of passengers in the following three groups: class = First, Class = Second, class = Third. In each subplot, draw two bars, each representing the number of surviving and non-surviving passengers.**<br>\n",
    "Hint: <br>\n",
    "<code>g = sns.FacetGrid(data =     , col = \"   \" )</code><br>\n",
    "<code>g.map(sns.countplot, \"    \", order = [\"yes\",\"no\"])</code>"
   ]
  },
  {
   "cell_type": "code",
   "execution_count": null,
   "id": "3754f52e",
   "metadata": {},
   "outputs": [],
   "source": []
  },
  {
   "cell_type": "markdown",
   "id": "0ef3e441",
   "metadata": {},
   "source": [
    "## (3) Diamond"
   ]
  },
  {
   "cell_type": "markdown",
   "id": "11a12e7e",
   "metadata": {},
   "source": [
    "**(3.1) Load the seaborn dataset <code>diamonds</code>. Show a summary that includes the column names and their corresponding data types.** "
   ]
  },
  {
   "cell_type": "code",
   "execution_count": null,
   "id": "e35f94a3",
   "metadata": {},
   "outputs": [],
   "source": []
  },
  {
   "cell_type": "markdown",
   "id": "4fbd0ac3",
   "metadata": {},
   "source": [
    "**(3.2) Use a count plot to visualize the number of diamonds in each <code>color</code> category**."
   ]
  },
  {
   "cell_type": "code",
   "execution_count": null,
   "id": "dfd8c262",
   "metadata": {},
   "outputs": [],
   "source": []
  },
  {
   "cell_type": "markdown",
   "id": "26479cef",
   "metadata": {},
   "source": [
    "**(3.3) Calculate the average price for each <code>cut</code> category within each <code>color</code> category. Round the numbers to two decimal places.**<br>\n",
    "Expected result:"
   ]
  },
  {
   "cell_type": "markdown",
   "id": "7577bd54",
   "metadata": {},
   "source": [
    "|color<br>cut|D|E|...|...|J|\n",
    "|--:|--:|--:|--:|--:|--:|\n",
    "|**Ideal**|2629.09|...|...|...|...|\n",
    "|**Premium**|...|...|...|...|...|\n",
    "|**Very Good**|...|...|...|...|...|\n",
    "|**Good**|...|...|...|...|...|\n",
    "|**Fair**|...|...|...|...|...|"
   ]
  },
  {
   "cell_type": "code",
   "execution_count": null,
   "id": "a52b1ee8",
   "metadata": {},
   "outputs": [],
   "source": []
  },
  {
   "cell_type": "markdown",
   "id": "398f9e0d",
   "metadata": {},
   "source": [
    "**(3.4) Use a heatmap to display the result obtained in (3.3). Answer the folllowing question in the markdown cell.**"
   ]
  },
  {
   "cell_type": "code",
   "execution_count": null,
   "id": "544483b0",
   "metadata": {},
   "outputs": [],
   "source": []
  },
  {
   "cell_type": "markdown",
   "id": "14f85f89",
   "metadata": {},
   "source": [
    "- **Question**: Within this dataset of diamonds, which combination of \"cut\" category and \"color\" category exhibits the highest average price?\n",
    "- **Answer**: The diamonds with a ___ cut and a color scale of ___ exhibit the highest average price.  "
   ]
  },
  {
   "cell_type": "markdown",
   "id": "bd0e2b4f",
   "metadata": {},
   "source": [
    "**(3.5) Create a subset by selecting the data with color scale \"I\" and \"premium\" cut. Display the price distribution using a histogram.**"
   ]
  },
  {
   "cell_type": "code",
   "execution_count": null,
   "id": "da773e72",
   "metadata": {},
   "outputs": [],
   "source": []
  },
  {
   "cell_type": "markdown",
   "id": "4f778e25",
   "metadata": {},
   "source": [
    "**(3.6) Use the subset obtained in (3.5) to show the relationship between <code>carat</code> and <code>price</code> in a scatter plot.**"
   ]
  },
  {
   "cell_type": "code",
   "execution_count": null,
   "id": "94c76a36",
   "metadata": {},
   "outputs": [],
   "source": []
  },
  {
   "cell_type": "markdown",
   "id": "454d83cf",
   "metadata": {},
   "source": [
    "**(3.7) Using the subset obtained in (3.5), create a joint plot showing the relationship between carat and price, and their individual distribution.**"
   ]
  },
  {
   "cell_type": "code",
   "execution_count": null,
   "id": "77fdba0f",
   "metadata": {},
   "outputs": [],
   "source": []
  },
  {
   "cell_type": "markdown",
   "id": "20b02629",
   "metadata": {},
   "source": [
    "**(3.8) Shows the relationship between <code>carat</code> and <code>price</code> for each <code>cut</code> category.**<br>\n",
    "Hint: The figure should contain 5 subplots."
   ]
  },
  {
   "cell_type": "code",
   "execution_count": null,
   "id": "e72613df",
   "metadata": {},
   "outputs": [],
   "source": []
  }
 ],
 "metadata": {
  "kernelspec": {
   "display_name": "Python 3 (ipykernel)",
   "language": "python",
   "name": "python3"
  },
  "language_info": {
   "codemirror_mode": {
    "name": "ipython",
    "version": 3
   },
   "file_extension": ".py",
   "mimetype": "text/x-python",
   "name": "python",
   "nbconvert_exporter": "python",
   "pygments_lexer": "ipython3",
   "version": "3.11.4"
  }
 },
 "nbformat": 4,
 "nbformat_minor": 5
}
