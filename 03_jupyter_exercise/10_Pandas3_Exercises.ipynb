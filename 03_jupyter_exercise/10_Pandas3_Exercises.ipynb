{
 "cells": [
  {
   "cell_type": "markdown",
   "id": "653b7996",
   "metadata": {},
   "source": [
    "# Pandas3 - Data Preprocessing and Calculation"
   ]
  },
  {
   "cell_type": "code",
   "execution_count": null,
   "id": "ea7f9b4c",
   "metadata": {},
   "outputs": [],
   "source": [
    "#import pacakge"
   ]
  },
  {
   "cell_type": "markdown",
   "id": "c0acb28c",
   "metadata": {},
   "source": [
    "## (1) Oil price"
   ]
  },
  {
   "cell_type": "markdown",
   "id": "de348bd5",
   "metadata": {},
   "source": [
    "**(1.1) Given the following dataframe, calcualte the number of missing values.**"
   ]
  },
  {
   "cell_type": "code",
   "execution_count": null,
   "id": "48fd9623",
   "metadata": {},
   "outputs": [],
   "source": [
    "month = ['Jan 2018','Feb 2018','Mar 2018','Apr 2018','May 2018','Jun 2018','Jul 2018','Aug 2018','Sep 2018','Oct 2018','Nov 2018','Dec 2018','Jan 2019','Feb 2019','Mar 2019','Apr 2019','May 2019','Jun 2019','Jul 2019','Aug 2019','Sep 2019','Oct 2019','Nov 2019','Dec 2019']\n",
    "price = [68.5,63.3,63.7,69.1,74.9,73.4,None,71.7,78.1,79.3,64.8,57.6,None,63.9,66,71.5,70.9,61.9,None,59.4,None,58.5,63.3,64.5]\n",
    "oil_df = pd.DataFrame({\"month\":month,\"price\":price})"
   ]
  },
  {
   "cell_type": "code",
   "execution_count": null,
   "id": "ef1bb866",
   "metadata": {},
   "outputs": [],
   "source": [
    "# put your code here"
   ]
  },
  {
   "cell_type": "markdown",
   "id": "ca3f9a78",
   "metadata": {},
   "source": [
    "**(1.2) Use the dataframe in (1.1). Fill in missing values with the price of the previous month.**"
   ]
  },
  {
   "cell_type": "code",
   "execution_count": null,
   "id": "a0c592e6",
   "metadata": {},
   "outputs": [],
   "source": [
    "# put your code here"
   ]
  },
  {
   "cell_type": "markdown",
   "id": "af1b7652",
   "metadata": {},
   "source": [
    "**(1.3) Use the dataframe in (1.1). Fill in missing values with the average price from 2018 to 2019.**"
   ]
  },
  {
   "cell_type": "code",
   "execution_count": null,
   "id": "fd9d53f5",
   "metadata": {},
   "outputs": [],
   "source": [
    "# put your code here"
   ]
  },
  {
   "cell_type": "markdown",
   "id": "071fd10c",
   "metadata": {},
   "source": [
    "## (2) Melbourne housing data"
   ]
  },
  {
   "cell_type": "markdown",
   "id": "a537350f",
   "metadata": {},
   "source": [
    "**(2.1) Import the dataset <code>melbourne.csv</code>. Show the first five rows.**"
   ]
  },
  {
   "cell_type": "code",
   "execution_count": null,
   "id": "d3736922",
   "metadata": {},
   "outputs": [],
   "source": [
    "# put your code here"
   ]
  },
  {
   "cell_type": "markdown",
   "id": "66b8afb1",
   "metadata": {},
   "source": [
    "**(2.2) Select the data for the following suburbs. Store the result as another data frame.** <br>\n",
    "<code>Reservoir, Richmond, Brunswick, Bentleigh East, Coburg, Preston</code>."
   ]
  },
  {
   "cell_type": "code",
   "execution_count": null,
   "id": "0cd87404",
   "metadata": {},
   "outputs": [],
   "source": [
    "# put your code here"
   ]
  },
  {
   "cell_type": "markdown",
   "id": "43c0f3b4",
   "metadata": {},
   "source": [
    "**(2.3) Calculate the average price in each suburb. Which suburb has the highest average house price?**<br>\n",
    "Add your answers to the markdown cell."
   ]
  },
  {
   "cell_type": "code",
   "execution_count": null,
   "id": "6c8ec3d8",
   "metadata": {},
   "outputs": [],
   "source": [
    "# put your code here"
   ]
  },
  {
   "cell_type": "markdown",
   "id": "6b916238",
   "metadata": {},
   "source": [
    "**Write you answers here:**<br>\n",
    "The average house price in ___ is the highest."
   ]
  },
  {
   "cell_type": "markdown",
   "id": "73a079ce",
   "metadata": {},
   "source": [
    "**(2.4) What is the largest </code>land size</code> in each suburb?**"
   ]
  },
  {
   "cell_type": "code",
   "execution_count": null,
   "id": "e9b15f4e",
   "metadata": {},
   "outputs": [],
   "source": [
    "# put your code here"
   ]
  },
  {
   "cell_type": "markdown",
   "id": "aabfd56f",
   "metadata": {},
   "source": [
    "**(2.5) What is the highest price in each region (use column <code>Regionname</code>).**"
   ]
  },
  {
   "cell_type": "code",
   "execution_count": null,
   "id": "73478fcf",
   "metadata": {},
   "outputs": [],
   "source": [
    "# put your code here"
   ]
  },
  {
   "cell_type": "markdown",
   "id": "fda74ab0",
   "metadata": {},
   "source": [
    "## (3) US National Parks and their animal and plant species\n",
    "The National Park Service publishes a database of animal and plant species identified in individual national parks and verified by evidence — observations, vouchers, or reports that document the presence of a species in a park. All park species records are available to the public on the National Park Species portal; exceptions are made for sensitive, threatened, or endangered species when widespread distribution of information could pose a risk to the species in the park.\n",
    "\n",
    "National Park species lists provide information on the presence and status of species in US national parks. These species lists are works in progress and the absence of a species from a list does not necessarily mean the species is absent from a park. The time and effort spent on species inventories varies from park to park, which may result in data gaps. Species taxonomy changes over time and reflects regional variations or preferences; therefore, records may be listed under a different species name.\n",
    "\n",
    "Each park species record includes a species ID, park name, taxonomic information, scientific name, one or more common names, record status, occurrence (verification of species presence in park), nativeness (species native or foreign to park), abundance (presence and visibility of species in park), seasonality (season and nature of presence in park), and conservation status (species classification according to US Fish & Wildlife Service). Taxonomic classes have been translated from Latin to English for species categorization; order, family, and scientific name (genus, species, subspecies) are in Latin."
   ]
  },
  {
   "cell_type": "markdown",
   "id": "81286399",
   "metadata": {},
   "source": [
    "**(3.1) Import the dataset <code>species.csv</code>. Show the summary of this dataset including column names and their data types.**"
   ]
  },
  {
   "cell_type": "code",
   "execution_count": null,
   "id": "73f7b4ca",
   "metadata": {},
   "outputs": [],
   "source": [
    "# put your code here"
   ]
  },
  {
   "cell_type": "markdown",
   "id": "63376022",
   "metadata": {},
   "source": [
    "**(3.2) Create a subset named <code>species_df</code> with the following columns: <code>'Species ID', 'Park Name', 'Common Names', 'Family', 'Occurrence', 'Nativeness', 'Abundance'</code>.**"
   ]
  },
  {
   "cell_type": "code",
   "execution_count": null,
   "id": "596d0dae",
   "metadata": {},
   "outputs": [],
   "source": [
    "# put your code here"
   ]
  },
  {
   "cell_type": "markdown",
   "id": "75d9de14",
   "metadata": {},
   "source": [
    "**(3.3) Replace missing values with \"Unknown\".**"
   ]
  },
  {
   "cell_type": "code",
   "execution_count": null,
   "id": "06267923",
   "metadata": {},
   "outputs": [],
   "source": [
    "# put your code here"
   ]
  },
  {
   "cell_type": "markdown",
   "id": "6362d82a",
   "metadata": {},
   "source": [
    "**(3.4) Shows the number of species in each \"abundance\" category.**<br>\n",
    "Example:<br>\n",
    "Uncommon:   18779<br>\n",
    "Common:     12913<br>\n",
    "..."
   ]
  },
  {
   "cell_type": "code",
   "execution_count": null,
   "id": "bf6ea344",
   "metadata": {},
   "outputs": [],
   "source": [
    "# put your code here"
   ]
  },
  {
   "cell_type": "markdown",
   "id": "946e20a8",
   "metadata": {},
   "source": [
    "**(3.5) Grouping data based on column <code>Park Name</code>.**"
   ]
  },
  {
   "cell_type": "code",
   "execution_count": null,
   "id": "4e53da2c",
   "metadata": {},
   "outputs": [],
   "source": [
    "# put your code here"
   ]
  },
  {
   "cell_type": "markdown",
   "id": "fca78786",
   "metadata": {},
   "source": [
    "**(3.6) Use the groupby object obtained in (1.5). Calculate the number of species in each park and show the top five parks with the largest number of species.**"
   ]
  },
  {
   "cell_type": "code",
   "execution_count": null,
   "id": "38ab5458",
   "metadata": {},
   "outputs": [],
   "source": [
    "# put your code here"
   ]
  },
  {
   "cell_type": "markdown",
   "id": "c723c3c2",
   "metadata": {},
   "source": [
    "**(3.7) Use the groupby object obtained in (1.5). Calculate the number of species in each park and store the result in a dataframe named <code>species_park_df</code>. The dataframe should contains two columns:<code>Park Name</code> and <code>Number_of_species</code>**<br>\n",
    "For example:"
   ]
  },
  {
   "cell_type": "markdown",
   "id": "c8a2bd9d",
   "metadata": {},
   "source": [
    "||Park Name|Number_of_species|\n",
    "|:-:|:-:|:-:|\n",
    "|**0**|Acadia National Park|1709|\n",
    "|**1**|Arches National Park|1048|\n",
    "|**2**|Badlands National Park|1389|\n",
    "|**3**|...|...|\n",
    "|**4**|...|...|"
   ]
  },
  {
   "cell_type": "code",
   "execution_count": null,
   "id": "8e58ca48",
   "metadata": {},
   "outputs": [],
   "source": [
    "# put your code here"
   ]
  },
  {
   "cell_type": "markdown",
   "id": "1deb1a4c",
   "metadata": {},
   "source": [
    "**(3.8) Import the dataset <code>parks.csv</code> as a dataframe named <code>park_df</code>. Show the first five rows.**"
   ]
  },
  {
   "cell_type": "code",
   "execution_count": null,
   "id": "950b0c20",
   "metadata": {},
   "outputs": [],
   "source": [
    "# put your code here"
   ]
  },
  {
   "cell_type": "markdown",
   "id": "94f04b4f",
   "metadata": {},
   "source": [
    "**(3.9) Use <code>species_park_df</code> obtained in (1.7). Add the acres as a new column.**<br>\n",
    "For example:"
   ]
  },
  {
   "cell_type": "markdown",
   "id": "4a7a0e5f",
   "metadata": {},
   "source": [
    "||Park Name|Number_of_species|Acres|\n",
    "|:-:|:-:|:-:|:-:|\n",
    "|**0**|Acadia National Park|1709|47390|\n",
    "|**1**|Arches National Park|1048|76519|\n",
    "|**2**|Badlands National Park|1389|242756|\n",
    "|**3**|...|...|...|\n",
    "|**4**|...|...|...|"
   ]
  },
  {
   "cell_type": "code",
   "execution_count": null,
   "id": "7d5a34cf",
   "metadata": {},
   "outputs": [],
   "source": [
    "# put your code here"
   ]
  },
  {
   "cell_type": "markdown",
   "id": "9df36383",
   "metadata": {},
   "source": [
    "**(3.10) Use the result obtained in (1.9). Calculate the <code>number of species per acre</code> in each park and list the five national parks with the highest number of species per acre.**"
   ]
  },
  {
   "cell_type": "code",
   "execution_count": null,
   "id": "b33e9182",
   "metadata": {},
   "outputs": [],
   "source": [
    "# put your code here"
   ]
  }
 ],
 "metadata": {
  "kernelspec": {
   "display_name": "Python 3",
   "language": "python",
   "name": "python3"
  },
  "language_info": {
   "codemirror_mode": {
    "name": "ipython",
    "version": 3
   },
   "file_extension": ".py",
   "mimetype": "text/x-python",
   "name": "python",
   "nbconvert_exporter": "python",
   "pygments_lexer": "ipython3",
   "version": "3.8.8"
  }
 },
 "nbformat": 4,
 "nbformat_minor": 5
}
