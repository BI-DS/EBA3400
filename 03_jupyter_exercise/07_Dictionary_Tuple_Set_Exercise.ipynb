{
 "cells": [
  {
   "cell_type": "markdown",
   "id": "3fc2f85c",
   "metadata": {},
   "source": [
    "# Dictionary,Tuple and Set"
   ]
  },
  {
   "cell_type": "markdown",
   "id": "e1c8b201",
   "metadata": {},
   "source": [
    "## (1) Tuple"
   ]
  },
  {
   "cell_type": "markdown",
   "id": "533e27a3",
   "metadata": {},
   "source": [
    "**(1.1) Define a tuple containing the following elements: <code>10,20,30,40,50,60</code>. Print out the tuple.**"
   ]
  },
  {
   "cell_type": "code",
   "execution_count": null,
   "id": "f83763e6",
   "metadata": {},
   "outputs": [],
   "source": []
  },
  {
   "cell_type": "markdown",
   "id": "9a37dcfe",
   "metadata": {},
   "source": [
    "**(1.2) Use the tuple defined in (1.1). Print the last two elements.**"
   ]
  },
  {
   "cell_type": "code",
   "execution_count": null,
   "id": "36026c1e",
   "metadata": {},
   "outputs": [],
   "source": []
  },
  {
   "cell_type": "markdown",
   "id": "de389afc",
   "metadata": {},
   "source": [
    "**(1.3) Create a list of quarterly sales records based on the following table, where each record is represented by a tuple containing the year, quarter, and sales amount. Print out the list.**"
   ]
  },
  {
   "cell_type": "markdown",
   "id": "cc4c94bf",
   "metadata": {},
   "source": [
    "| year | quarter | sales | \n",
    "|:-:|:-:|:-:|\n",
    "|2022|3|450|\n",
    "|2022|4|350|\n",
    "|2023|1|400|\n",
    "|2023|2|300|\n",
    "|2023|3|350|\n",
    "|2023|4|250|"
   ]
  },
  {
   "cell_type": "markdown",
   "id": "7fac6b53",
   "metadata": {},
   "source": [
    "Expected result:<br>\n",
    "<code>[(2022, 3, 450), ..., (2023, 4, 250)]</code>"
   ]
  },
  {
   "cell_type": "code",
   "execution_count": null,
   "id": "11940529",
   "metadata": {},
   "outputs": [],
   "source": []
  },
  {
   "cell_type": "markdown",
   "id": "bc4829b5",
   "metadata": {},
   "source": [
    "**(1.4) Use the list defined in (1.3), print out the sales amount for the second quarter of 2023.**<br>\n",
    "Hint: Access the element by its index."
   ]
  },
  {
   "cell_type": "code",
   "execution_count": null,
   "id": "50ce8dc0",
   "metadata": {},
   "outputs": [],
   "source": []
  },
  {
   "cell_type": "markdown",
   "id": "ee4921fe",
   "metadata": {},
   "source": [
    "**(1.5) Use the list defined in (1.3), print out the quarter and year for which the sales reach or exceed the target of 350.**<br>\n",
    "Expected result:<br>\n",
    "<code>The sales target was reached in 2022-Q3.\n",
    "...\n",
    "...    \n",
    "The sales target was reached in 2023-Q3.</code>"
   ]
  },
  {
   "cell_type": "code",
   "execution_count": null,
   "id": "d486cc58",
   "metadata": {},
   "outputs": [],
   "source": []
  },
  {
   "cell_type": "markdown",
   "id": "3c2a712e",
   "metadata": {},
   "source": [
    "## (2) Set"
   ]
  },
  {
   "cell_type": "markdown",
   "id": "d53498c4",
   "metadata": {},
   "source": [
    "**(2.1) Given two lists, <code>list1</code> and <code>list2</code>, find the unique words in each list and store them in variables named <code>set1</code> and <code>set2</code>. Print all the elements of <code>set1</code> and <code>set2</code>.**\n"
   ]
  },
  {
   "cell_type": "code",
   "execution_count": null,
   "id": "6f1672a2",
   "metadata": {},
   "outputs": [],
   "source": [
    "list1 = ['google', 'collects', 'data', 'to', 'be', 'used', 'for', 'targeted', 'advertising', 'purposes']\n",
    "list2 = ['advertising', 'services', 'are', 'at', 'the', 'heart', 'of', 'how', 'google', 'and', 'publishers', 'monetize', 'their', 'online', 'services']"
   ]
  },
  {
   "cell_type": "code",
   "execution_count": null,
   "id": "1099d8d0",
   "metadata": {},
   "outputs": [],
   "source": []
  },
  {
   "cell_type": "markdown",
   "id": "2944fe48",
   "metadata": {},
   "source": [
    "**(2.2) Which words appear in both <code>set1</code> and <code>set2</code>?**"
   ]
  },
  {
   "cell_type": "code",
   "execution_count": null,
   "id": "91cb1253",
   "metadata": {},
   "outputs": [],
   "source": []
  },
  {
   "cell_type": "markdown",
   "id": "1562a13e",
   "metadata": {},
   "source": [
    "**(2.3) Create a variable named <code>myset</code> to store all unique letters from the following list  <code>mylist</code>.**"
   ]
  },
  {
   "cell_type": "code",
   "execution_count": null,
   "id": "5d1d1097",
   "metadata": {},
   "outputs": [],
   "source": [
    "mylist = ['a','c','e','b','c','b','a','e','d','e','d','a','e','d','b','c','d']"
   ]
  },
  {
   "cell_type": "code",
   "execution_count": null,
   "id": "93b89739",
   "metadata": {},
   "outputs": [],
   "source": []
  },
  {
   "cell_type": "markdown",
   "id": "7e569adc",
   "metadata": {},
   "source": [
    "**(2.4) Use the same list defined in (2.4). Calculate the frequency of each letter in <code>mylist</code>.**<br>\n",
    "Expected result:<br>\n",
    "b: 3 <br>\n",
    "d: 4 <br>\n",
    "e: 4 <br>\n",
    "..."
   ]
  },
  {
   "cell_type": "code",
   "execution_count": null,
   "id": "78b47c41",
   "metadata": {},
   "outputs": [],
   "source": []
  },
  {
   "cell_type": "markdown",
   "id": "ca6f6b1f",
   "metadata": {},
   "source": [
    "## (3) Dictionary"
   ]
  },
  {
   "cell_type": "markdown",
   "id": "f5fbdff6",
   "metadata": {},
   "source": [
    "**(3.1) Given the following table. Define a dictionary using \"course_ID\" as keys and \"number_of_students\" as values. Print out the dictionary.**"
   ]
  },
  {
   "cell_type": "markdown",
   "id": "860df954",
   "metadata": {},
   "source": [
    "| course_ID |number_of_students |\n",
    "|:-:|:-:|\n",
    "|EBA3400|79|\n",
    "|EBA3420|82|\n",
    "|EBA3500|64|"
   ]
  },
  {
   "cell_type": "code",
   "execution_count": null,
   "id": "9d16caad",
   "metadata": {},
   "outputs": [],
   "source": []
  },
  {
   "cell_type": "markdown",
   "id": "b3236dae",
   "metadata": {},
   "source": [
    "**(3.2) How many students have signed up for the \"EBA3420\" course?**"
   ]
  },
  {
   "cell_type": "code",
   "execution_count": null,
   "id": "604ba799",
   "metadata": {},
   "outputs": [],
   "source": []
  },
  {
   "cell_type": "markdown",
   "id": "a6217fb0",
   "metadata": {},
   "source": [
    "**(3.3) Given the sales of different products in each quarter as follows, use a dictionary to store this data. Print out the dictionary.**<br>\n",
    "Hint: Use the product names as keys, and the values should be lists containing sales figures for each quarter."
   ]
  },
  {
   "cell_type": "markdown",
   "id": "8988b895",
   "metadata": {},
   "source": [
    "| product name | Q1 | Q2 | Q3 | Q4 |\n",
    "|:-:|:-:|:-:|:-:|:-:|\n",
    "|A|150|180|200|190|\n",
    "|B|140|160|150|155|\n",
    "|C|180|130|125|--|"
   ]
  },
  {
   "cell_type": "markdown",
   "id": "fcaf0518",
   "metadata": {},
   "source": [
    "Expected result:<br>\n",
    "<code>{'A': [150, 180, 200, 190], 'B': [140, 160, 150, 155], 'C': [175, 130, 120]}</code>"
   ]
  },
  {
   "cell_type": "code",
   "execution_count": null,
   "id": "20c09687",
   "metadata": {},
   "outputs": [],
   "source": []
  },
  {
   "cell_type": "markdown",
   "id": "6010a620",
   "metadata": {},
   "source": [
    "**(3.4) Calculate the average sales of the first three quarters for product-C and store the result as an integer in a variable named <code>c_avg</code>.**"
   ]
  },
  {
   "cell_type": "code",
   "execution_count": null,
   "id": "eee64d5f",
   "metadata": {},
   "outputs": [],
   "source": []
  },
  {
   "cell_type": "markdown",
   "id": "cb6329f1",
   "metadata": {},
   "source": [
    "**(3.5) Fill in the missing Q4 sales data for product C with <code>c_avg</code>. Print out the updated dictionary.**<br>"
   ]
  },
  {
   "cell_type": "code",
   "execution_count": null,
   "id": "f4d98c53",
   "metadata": {},
   "outputs": [],
   "source": []
  },
  {
   "cell_type": "markdown",
   "id": "83b1815a",
   "metadata": {},
   "source": [
    "**(3.6) Using the dictionary obtained in (3.5), calculate and print out the total annual sales for each product.**<br>\n",
    "Expected result:\n",
    "<code>\n",
    "A: 720\n",
    "B: ...\n",
    "C: ...\n",
    "</code>"
   ]
  },
  {
   "cell_type": "code",
   "execution_count": null,
   "id": "c62a4ec7",
   "metadata": {},
   "outputs": [],
   "source": []
  },
  {
   "cell_type": "markdown",
   "id": "aad2bee1",
   "metadata": {},
   "source": [
    "## (4) Zip"
   ]
  },
  {
   "cell_type": "markdown",
   "id": "05e698a3",
   "metadata": {},
   "source": [
    "**(4.1) Given the following four lists, create a zip object by zipping these lists together. Then convert the zip object into a list named <code>sales_list</code>. Print out the list.**<br>\n",
    "Expected result:<br>\n",
    "<code>[('A', 150, 180, 200, 190), ('B', 140, 160, 150, 155), ('C', 180, 130, 125, 145)]</code>"
   ]
  },
  {
   "cell_type": "code",
   "execution_count": null,
   "id": "84f5009e",
   "metadata": {},
   "outputs": [],
   "source": [
    "product_name = ['A', 'B', 'C']\n",
    "Q1_sales = [150, 140, 180]\n",
    "Q2_sales = [180, 160, 130]\n",
    "Q3_sales = [200, 150, 125]\n",
    "Q4_sales = [190, 155, 145]"
   ]
  },
  {
   "cell_type": "code",
   "execution_count": null,
   "id": "81783f55",
   "metadata": {},
   "outputs": [],
   "source": []
  },
  {
   "cell_type": "markdown",
   "id": "d77a25bf",
   "metadata": {},
   "source": [
    "**(4.2) Using the list obtained in (4.1), calculate and print the total sales for each product in the first half of the year (Q1 + Q2).**<br>\n",
    "Expected result:<br>\n",
    "A: 330<br>\n",
    "B: 300<br>\n",
    "C: 310"
   ]
  },
  {
   "cell_type": "code",
   "execution_count": null,
   "id": "407fbd9f",
   "metadata": {},
   "outputs": [],
   "source": []
  },
  {
   "cell_type": "markdown",
   "id": "75e69872",
   "metadata": {},
   "source": [
    "**(4.3) Given the following two lists. Create a dictionary using \"course_ID\" as keys and \"number_of_students\" as value. Print out the dictionary.**<br>"
   ]
  },
  {
   "cell_type": "code",
   "execution_count": null,
   "id": "cbfcc603",
   "metadata": {},
   "outputs": [],
   "source": [
    "course_id = [\"EBA3400\", \"EBA3420\", \"EBA3500\"]\n",
    "num_students = [79, 85, 64]"
   ]
  },
  {
   "cell_type": "code",
   "execution_count": null,
   "id": "c74a5616",
   "metadata": {},
   "outputs": [],
   "source": []
  },
  {
   "cell_type": "markdown",
   "id": "f04db645",
   "metadata": {},
   "source": [
    "**(4.4) Use the dictionary obtaind in (4.3). Print out all the keys.**"
   ]
  },
  {
   "cell_type": "code",
   "execution_count": null,
   "id": "655b0ac2",
   "metadata": {},
   "outputs": [],
   "source": []
  }
 ],
 "metadata": {
  "kernelspec": {
   "display_name": "Python 3 (ipykernel)",
   "language": "python",
   "name": "python3"
  },
  "language_info": {
   "codemirror_mode": {
    "name": "ipython",
    "version": 3
   },
   "file_extension": ".py",
   "mimetype": "text/x-python",
   "name": "python",
   "nbconvert_exporter": "python",
   "pygments_lexer": "ipython3",
   "version": "3.11.4"
  }
 },
 "nbformat": 4,
 "nbformat_minor": 5
}
