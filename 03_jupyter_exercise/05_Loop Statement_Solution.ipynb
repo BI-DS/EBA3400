{
 "cells": [
  {
   "cell_type": "markdown",
   "metadata": {},
   "source": [
    "# Loop Statements"
   ]
  },
  {
   "cell_type": "markdown",
   "metadata": {},
   "source": [
    "## (1) While loop"
   ]
  },
  {
   "cell_type": "markdown",
   "metadata": {},
   "source": [
    "**(1.1) Write a while loop to print out the following sequence of numbers.**<br>\n",
    "Hint: To print all numbers in one line, you can use the argument <code>end = \" \".</code><br>\n",
    "Expected result:<br>\n",
    "<code>3 6 9 12 15 18 21 24 27 30 </code>"
   ]
  },
  {
   "cell_type": "code",
   "execution_count": 1,
   "metadata": {},
   "outputs": [
    {
     "name": "stdout",
     "output_type": "stream",
     "text": [
      "3 6 9 12 15 18 21 24 27 30 "
     ]
    }
   ],
   "source": [
    "# put your code here\n",
    "n = 3\n",
    "while n <= 30:\n",
    "    print(n, end = \" \")\n",
    "    n = n + 3"
   ]
  },
  {
   "cell_type": "markdown",
   "metadata": {},
   "source": [
    "**(1.2) Write a program that requires the user to enter a range. Use a while loop to print all even numbers in this range.**\n",
    "<br>\n",
    "Expected result:\n",
    "<code>\n",
    "from: 18\n",
    "to: 30\n",
    "18 20 22 24 26 28 30 \n",
    "</code>"
   ]
  },
  {
   "cell_type": "code",
   "execution_count": 2,
   "metadata": {},
   "outputs": [
    {
     "name": "stdout",
     "output_type": "stream",
     "text": [
      "Enter a number: 18\n",
      "Enter a number: 30\n",
      "18 20 22 24 26 28 30 "
     ]
    }
   ],
   "source": [
    "# put your code here\n",
    "n1 = int(input(\"Enter a number: \"))\n",
    "n2 = int(input(\"Enter a number: \"))\n",
    "\n",
    "while n1 <= n2:\n",
    "    if n1%2 == 0:\n",
    "        print(n1, end = \" \") \n",
    "    n1 = n1 + 1"
   ]
  },
  {
   "cell_type": "markdown",
   "metadata": {},
   "source": [
    "**(1.3) Suppose you deposit $10,000 in a bank account with an annual interest rate of 5%. Print out the annual balance every year until your balance reaches 15,000. (Round the number to two decimal places)**<br>\n",
    "Hint: interest = balance*0.05<br>\n",
    "Expected result:\n",
    "<code>\n",
    "10500.0\n",
    "11025.0\n",
    "11576.25\n",
    "12155.06\n",
    "12762.82\n",
    "13400.96\n",
    "14071.0\n",
    "14774.55\n",
    "15513.28\n",
    "</code>"
   ]
  },
  {
   "cell_type": "code",
   "execution_count": 3,
   "metadata": {},
   "outputs": [
    {
     "name": "stdout",
     "output_type": "stream",
     "text": [
      "10500.0\n",
      "11025.0\n",
      "11576.25\n",
      "12155.06\n",
      "12762.82\n",
      "13400.96\n",
      "14071.0\n",
      "14774.55\n",
      "15513.28\n"
     ]
    }
   ],
   "source": [
    "# put your code here\n",
    "balance = 10000\n",
    "while balance <= 15000:\n",
    "    interest = balance*0.05\n",
    "    balance = balance + interest\n",
    "    print(round(balance,2))"
   ]
  },
  {
   "cell_type": "markdown",
   "metadata": {},
   "source": [
    "**(1.4) Define an input box named <code>pw</code> to require the user to enter a password. If pw is 'python2021', print 'Successful login'; if not, print 'Wrong password' and ask again.**<br>\n",
    "Hint: Put the input box in the while loop.<br>\n",
    "Expected result:\n",
    "<code>\n",
    "Enter your password: test\n",
    "Wrong password\n",
    "Enter your password: 1234\n",
    "Wrong password\n",
    "Enter your password: python2021\n",
    "Successful login\n",
    "</code>   "
   ]
  },
  {
   "cell_type": "code",
   "execution_count": 4,
   "metadata": {},
   "outputs": [
    {
     "name": "stdout",
     "output_type": "stream",
     "text": [
      "Enter your password: test\n",
      "Wrong password\n",
      "Enter your password: 1234\n",
      "Wrong password\n",
      "Enter your password: python2021\n",
      "Successful login\n"
     ]
    }
   ],
   "source": [
    "# put your code here\n",
    "while True:\n",
    "    pw = input(\"Enter your password: \")\n",
    "    if pw == \"python2021\":\n",
    "        print(\"Successful login\")\n",
    "        break\n",
    "    else:\n",
    "        print(\"Wrong password\")"
   ]
  },
  {
   "cell_type": "markdown",
   "metadata": {},
   "source": [
    "## (2) For loop"
   ]
  },
  {
   "cell_type": "markdown",
   "metadata": {},
   "source": [
    "**(2.1) Write a for loop to print out the following result.<br>**\n",
    "Expected result:\n",
    "<code>    \n",
    "Happy New Year 2021\n",
    "Happy New Year 2022\n",
    "Happy New Year 2023\n",
    "Happy New Year 2024\n",
    "</code>"
   ]
  },
  {
   "cell_type": "code",
   "execution_count": 5,
   "metadata": {},
   "outputs": [
    {
     "name": "stdout",
     "output_type": "stream",
     "text": [
      "Happy New Year 2021\n",
      "Happy New Year 2022\n",
      "Happy New Year 2023\n",
      "Happy New Year 2024\n"
     ]
    }
   ],
   "source": [
    "# put your code here\n",
    "for i in range(2021,2025):\n",
    "    print(\"Happy New Year\",i)"
   ]
  },
  {
   "cell_type": "markdown",
   "metadata": {},
   "source": [
    "**(2.2) Write a program that asks the user to enter a positive number. Calculate the factorial of this number.**<br> \n",
    "Hint: The factorial of n is the product of all the integers from 1 to n. It is denoted by an exclamation sign (!).<br> \n",
    "For example, the factorial of 6 is $6! = 1\\times2\\times3\\times 4\\times5\\times6 = 720$.<br> \n",
    "Expected result:\n",
    "<code>    \n",
    "Enter a positive number: 6\n",
    "720\n",
    "</code>"
   ]
  },
  {
   "cell_type": "code",
   "execution_count": 6,
   "metadata": {},
   "outputs": [
    {
     "name": "stdout",
     "output_type": "stream",
     "text": [
      "Enter a positive number: 6\n",
      "720\n"
     ]
    }
   ],
   "source": [
    "# put your code here\n",
    "n = int(input(\"Enter a positive number: \"))\n",
    "factorial = 1  \n",
    "for i in range(1,n+1):\n",
    "    factorial*= i\n",
    "print(factorial)"
   ]
  },
  {
   "cell_type": "markdown",
   "metadata": {},
   "source": [
    "**(2.3) Write a program that requires the user to enter a range. Use a for loop to print all even numbers in this range.**\n",
    "<br>\n",
    "Expected result:\n",
    "<code>\n",
    "from: 18\n",
    "to: 30\n",
    "18 20 22 24 26 28 30 \n",
    "</code>"
   ]
  },
  {
   "cell_type": "code",
   "execution_count": 7,
   "metadata": {},
   "outputs": [
    {
     "name": "stdout",
     "output_type": "stream",
     "text": [
      "Enter a number: 18\n",
      "Enter a number: 30\n",
      "18 20 22 24 26 28 30 "
     ]
    }
   ],
   "source": [
    "# put your code here\n",
    "n1 = int(input(\"Enter a number: \"))\n",
    "n2 = int(input(\"Enter a number: \"))\n",
    "for i in range(n1, n2+1):\n",
    "    if i%2 == 0:\n",
    "        print(i, end = \" \")"
   ]
  },
  {
   "cell_type": "markdown",
   "metadata": {},
   "source": [
    "**(2.4) Suppose you deposit $10,000 in a bank account with an annual interest rate of 5%. Print out the annual balance for the next five years.**<br>\n",
    "Hint: interest = balance*0.05<br>\n",
    "Expected result:\n",
    "<code>\n",
    "Year-1: 10500.00\n",
    "Year-2: 11025.00\n",
    "Year-3: 11576.25\n",
    "Year-4: 12155.06\n",
    "Year-5: 12762.82\n",
    "</code>"
   ]
  },
  {
   "cell_type": "code",
   "execution_count": 8,
   "metadata": {},
   "outputs": [
    {
     "name": "stdout",
     "output_type": "stream",
     "text": [
      "Year-1: 10500.00\n",
      "Year-2: 11025.00\n",
      "Year-3: 11576.25\n",
      "Year-4: 12155.06\n",
      "Year-5: 12762.82\n"
     ]
    }
   ],
   "source": [
    "# put your code here\n",
    "balance = 10000\n",
    "for i in range(1,6):\n",
    "    balance = balance + balance*0.05\n",
    "    print(\"Year-{}: {:.2f}\".format(i, balance))"
   ]
  },
  {
   "cell_type": "markdown",
   "metadata": {},
   "source": [
    "**(2.5) Considering the following list. Use a for loop to print all names starting with 'S'.**"
   ]
  },
  {
   "cell_type": "code",
   "execution_count": 9,
   "metadata": {},
   "outputs": [],
   "source": [
    "friend_list = [\"Henry\", \"Victoria\",\"Isaac\", \"Sara\", \"Zoe\",\"Isabelle\", \"Nora\", \"Madelyn\", \"Sophia\",\n",
    "             \"Charlotte\", \"Michael\",\"Sebastian\",\"Leah\", \"Ryan\", 'Matthew', \"Mila\"]"
   ]
  },
  {
   "cell_type": "code",
   "execution_count": 10,
   "metadata": {},
   "outputs": [
    {
     "name": "stdout",
     "output_type": "stream",
     "text": [
      "Sara\n",
      "Sophia\n",
      "Sebastian\n"
     ]
    }
   ],
   "source": [
    "# put your code here\n",
    "for friend in friend_list:\n",
    "    if friend[0] == \"S\":\n",
    "        print(friend)"
   ]
  },
  {
   "cell_type": "markdown",
   "metadata": {},
   "source": [
    "**(2.6) Considering the list below. Calculate the number of elements in the list are above 100.**"
   ]
  },
  {
   "cell_type": "code",
   "execution_count": 11,
   "metadata": {},
   "outputs": [],
   "source": [
    "numbers = [10, 40, 199, 20, 344, 300, 4, 55, 1, 4000, 99, 320, 32, 300, 22,\n",
    "           12, 99, 111, 23, 93, 44, 93, 2, 3, 9, 100, 399, 33, 99, 555, 43]"
   ]
  },
  {
   "cell_type": "code",
   "execution_count": 12,
   "metadata": {},
   "outputs": [
    {
     "name": "stdout",
     "output_type": "stream",
     "text": [
      "9\n"
     ]
    }
   ],
   "source": [
    "# put your code here\n",
    "counter = 0\n",
    "for i in numbers:\n",
    "    if i >100:\n",
    "        counter = counter + 1 \n",
    "\n",
    "print (counter)"
   ]
  },
  {
   "cell_type": "markdown",
   "metadata": {},
   "source": [
    "**(2.7) Count the number of uppercase letters in <code>mystr</code>.**<br>\n",
    "Hint: Try <code>str.isupper?</code> to see how to check if a letter is uppercase."
   ]
  },
  {
   "cell_type": "code",
   "execution_count": 13,
   "metadata": {},
   "outputs": [],
   "source": [
    "mystr = \"Tesla started deliveries of the Model Y in Europe last month, and within a week it became the best-selling vehicle in Norway.\""
   ]
  },
  {
   "cell_type": "code",
   "execution_count": 14,
   "metadata": {},
   "outputs": [
    {
     "name": "stdout",
     "output_type": "stream",
     "text": [
      "5\n"
     ]
    }
   ],
   "source": [
    "# put your code here\n",
    "cnt = 0\n",
    "for i in mystr:\n",
    "    if i.isupper():\n",
    "        cnt +=1\n",
    "print(cnt)"
   ]
  },
  {
   "cell_type": "markdown",
   "metadata": {},
   "source": [
    "**(2.8) In statisitcs, SSE (Sum of Squared Error) is used to see the difference between each observation and its group mean. It can be used as a measure of variation within a group. If all numbers within a group are identical the SSE would then be equal to 0.**<br> \n",
    "The formula for SSE is:\n",
    "\n",
    "<center>$SSE = \\sum_{i=1}^{n}(X_{i} -\\bar{X})^{2}$, where $X_{i}$ is the $i$th observation and $\\bar{X}$ is the group's mean.</center><br>\n",
    "\n",
    "\n",
    "Suppose you have a list of numbers, <code>1, 2, 3, 4, 5</code>.<br>\n",
    "The group mean  $\\bar{X}=\\dfrac{(1+2+3+4+5)}{5}=3$ <br> \n",
    "The Sum of Squared Error $SSE =(1-3)^{2} + (2-3)^{2}+ (3-3)^{2}+ (4-3)^{2}+ (5-3)^{2} = 10 $<br>\n",
    "\n",
    "**(step1) Calculate the group mean of <code>mylist</code>.<br>\n",
    "(step2) Use a for loop to calculate the SSE of the numbers in <code>mylist</code>.**"
   ]
  },
  {
   "cell_type": "code",
   "execution_count": 15,
   "metadata": {},
   "outputs": [],
   "source": [
    "mylist = [1,2,3,4,5]"
   ]
  },
  {
   "cell_type": "code",
   "execution_count": 16,
   "metadata": {},
   "outputs": [
    {
     "name": "stdout",
     "output_type": "stream",
     "text": [
      "10.0\n"
     ]
    }
   ],
   "source": [
    "# put your code here\n",
    "group_mean = sum(mylist)/len(mylist)\n",
    "SSE = 0\n",
    "for i in mylist:\n",
    "    SSE += (i-group_mean)**2\n",
    "print(SSE)"
   ]
  },
  {
   "cell_type": "markdown",
   "metadata": {},
   "source": [
    "**(2.9) Suppose you are rolling a pair of dice. Print out all possible results.**<br>\n",
    "Example:<br>\n",
    "1&1 1&2 ... 1&6 <br>\n",
    "2&1 2&2 ... 2&6  <br>\n",
    "...<br>\n",
    "...<br>\n",
    "...<br>\n",
    "6&1 6&2 ... 6&6"
   ]
  },
  {
   "cell_type": "code",
   "execution_count": 17,
   "metadata": {},
   "outputs": [
    {
     "name": "stdout",
     "output_type": "stream",
     "text": [
      "1&1 1&2 1&3 1&4 1&5 1&6 \n",
      "2&1 2&2 2&3 2&4 2&5 2&6 \n",
      "3&1 3&2 3&3 3&4 3&5 3&6 \n",
      "4&1 4&2 4&3 4&4 4&5 4&6 \n",
      "5&1 5&2 5&3 5&4 5&5 5&6 \n",
      "6&1 6&2 6&3 6&4 6&5 6&6 \n"
     ]
    }
   ],
   "source": [
    "# put your code here\n",
    "for i in range(1,7):\n",
    "    for j in range(1,7):\n",
    "        print(i,j,sep = \"&\", end = \" \")\n",
    "    print(end = \"\\n\")"
   ]
  },
  {
   "cell_type": "markdown",
   "metadata": {},
   "source": [
    "**(2.10) The profit of selling a unit of product A is 10, and the profit of selling a unit of product B is 15. Let <code>q_a</code> and <code>q_b</code> be the sales units of product A and product B, respectively. Calculate profit with sales <code>q_a</code> ranging from 5 to 15 and sales <code>q_b</code> ranging from 5 to 10.**<br>\n",
    "Expected result:\n",
    "<code>\n",
    "The profit of selling 5 units of product A and 5 units of product B is 125.\n",
    "The profit of selling 5 units of product A and 6 units of product B is 140.\n",
    "The profit of selling 5 units of product A and 7 units of product B is 155.   \n",
    "...\n",
    "The profit of selling 15 units of product A and 10 units of product B is 300.\n",
    "</code>"
   ]
  },
  {
   "cell_type": "code",
   "execution_count": 18,
   "metadata": {},
   "outputs": [
    {
     "name": "stdout",
     "output_type": "stream",
     "text": [
      "The profit of selling 5 units of product A and 5 units of product B is 125.\n",
      "The profit of selling 5 units of product A and 6 units of product B is 140.\n",
      "The profit of selling 5 units of product A and 7 units of product B is 155.\n",
      "The profit of selling 5 units of product A and 8 units of product B is 170.\n",
      "The profit of selling 5 units of product A and 9 units of product B is 185.\n",
      "The profit of selling 5 units of product A and 10 units of product B is 200.\n",
      "The profit of selling 6 units of product A and 5 units of product B is 135.\n",
      "The profit of selling 6 units of product A and 6 units of product B is 150.\n",
      "The profit of selling 6 units of product A and 7 units of product B is 165.\n",
      "The profit of selling 6 units of product A and 8 units of product B is 180.\n",
      "The profit of selling 6 units of product A and 9 units of product B is 195.\n",
      "The profit of selling 6 units of product A and 10 units of product B is 210.\n",
      "The profit of selling 7 units of product A and 5 units of product B is 145.\n",
      "The profit of selling 7 units of product A and 6 units of product B is 160.\n",
      "The profit of selling 7 units of product A and 7 units of product B is 175.\n",
      "The profit of selling 7 units of product A and 8 units of product B is 190.\n",
      "The profit of selling 7 units of product A and 9 units of product B is 205.\n",
      "The profit of selling 7 units of product A and 10 units of product B is 220.\n",
      "The profit of selling 8 units of product A and 5 units of product B is 155.\n",
      "The profit of selling 8 units of product A and 6 units of product B is 170.\n",
      "The profit of selling 8 units of product A and 7 units of product B is 185.\n",
      "The profit of selling 8 units of product A and 8 units of product B is 200.\n",
      "The profit of selling 8 units of product A and 9 units of product B is 215.\n",
      "The profit of selling 8 units of product A and 10 units of product B is 230.\n",
      "The profit of selling 9 units of product A and 5 units of product B is 165.\n",
      "The profit of selling 9 units of product A and 6 units of product B is 180.\n",
      "The profit of selling 9 units of product A and 7 units of product B is 195.\n",
      "The profit of selling 9 units of product A and 8 units of product B is 210.\n",
      "The profit of selling 9 units of product A and 9 units of product B is 225.\n",
      "The profit of selling 9 units of product A and 10 units of product B is 240.\n",
      "The profit of selling 10 units of product A and 5 units of product B is 175.\n",
      "The profit of selling 10 units of product A and 6 units of product B is 190.\n",
      "The profit of selling 10 units of product A and 7 units of product B is 205.\n",
      "The profit of selling 10 units of product A and 8 units of product B is 220.\n",
      "The profit of selling 10 units of product A and 9 units of product B is 235.\n",
      "The profit of selling 10 units of product A and 10 units of product B is 250.\n",
      "The profit of selling 11 units of product A and 5 units of product B is 185.\n",
      "The profit of selling 11 units of product A and 6 units of product B is 200.\n",
      "The profit of selling 11 units of product A and 7 units of product B is 215.\n",
      "The profit of selling 11 units of product A and 8 units of product B is 230.\n",
      "The profit of selling 11 units of product A and 9 units of product B is 245.\n",
      "The profit of selling 11 units of product A and 10 units of product B is 260.\n",
      "The profit of selling 12 units of product A and 5 units of product B is 195.\n",
      "The profit of selling 12 units of product A and 6 units of product B is 210.\n",
      "The profit of selling 12 units of product A and 7 units of product B is 225.\n",
      "The profit of selling 12 units of product A and 8 units of product B is 240.\n",
      "The profit of selling 12 units of product A and 9 units of product B is 255.\n",
      "The profit of selling 12 units of product A and 10 units of product B is 270.\n",
      "The profit of selling 13 units of product A and 5 units of product B is 205.\n",
      "The profit of selling 13 units of product A and 6 units of product B is 220.\n",
      "The profit of selling 13 units of product A and 7 units of product B is 235.\n",
      "The profit of selling 13 units of product A and 8 units of product B is 250.\n",
      "The profit of selling 13 units of product A and 9 units of product B is 265.\n",
      "The profit of selling 13 units of product A and 10 units of product B is 280.\n",
      "The profit of selling 14 units of product A and 5 units of product B is 215.\n",
      "The profit of selling 14 units of product A and 6 units of product B is 230.\n",
      "The profit of selling 14 units of product A and 7 units of product B is 245.\n",
      "The profit of selling 14 units of product A and 8 units of product B is 260.\n",
      "The profit of selling 14 units of product A and 9 units of product B is 275.\n",
      "The profit of selling 14 units of product A and 10 units of product B is 290.\n",
      "The profit of selling 15 units of product A and 5 units of product B is 225.\n",
      "The profit of selling 15 units of product A and 6 units of product B is 240.\n",
      "The profit of selling 15 units of product A and 7 units of product B is 255.\n",
      "The profit of selling 15 units of product A and 8 units of product B is 270.\n",
      "The profit of selling 15 units of product A and 9 units of product B is 285.\n",
      "The profit of selling 15 units of product A and 10 units of product B is 300.\n"
     ]
    }
   ],
   "source": [
    "# put your code here\n",
    "for i in range(5,16):\n",
    "    for j in range(5,11):\n",
    "        print(\"The profit of selling {} units of product A and {} units of product B is {}.\".format(i, j, 10*i+15*j))    "
   ]
  }
 ],
 "metadata": {
  "kernelspec": {
   "display_name": "Python 3",
   "language": "python",
   "name": "python3"
  },
  "language_info": {
   "codemirror_mode": {
    "name": "ipython",
    "version": 3
   },
   "file_extension": ".py",
   "mimetype": "text/x-python",
   "name": "python",
   "nbconvert_exporter": "python",
   "pygments_lexer": "ipython3",
   "version": "3.8.8"
  }
 },
 "nbformat": 4,
 "nbformat_minor": 4
}
