{
 "cells": [
  {
   "cell_type": "markdown",
   "metadata": {},
   "source": [
    "## (1) While loop"
   ]
  },
  {
   "cell_type": "markdown",
   "metadata": {},
   "source": [
    "**(1.1) Write a while loop to print out the following sequence of numbers in one line.**<br>\n",
    "Expected result:<br>\n",
    "<code>3 6 9 12 15 18 21 24 27 30 </code>"
   ]
  },
  {
   "cell_type": "code",
   "execution_count": 1,
   "metadata": {},
   "outputs": [
    {
     "name": "stdout",
     "output_type": "stream",
     "text": [
      "3 6 9 12 15 18 21 24 27 30 "
     ]
    }
   ],
   "source": [
    "n = 3\n",
    "while n <= 30:\n",
    "    print(n, end = \" \")\n",
    "    n = n + 3"
   ]
  },
  {
   "cell_type": "markdown",
   "metadata": {},
   "source": [
    "**(1.2) Write a program that requires the user to enter a range. Use a while loop to print all even numbers in this range.**\n",
    "<br>\n",
    "Example:<br>\n",
    "From: <code>18</code><br>\n",
    "To: <code>30</code><br>\n",
    "**18** 20 22 24 26 28 **30** \n"
   ]
  },
  {
   "cell_type": "code",
   "execution_count": 2,
   "metadata": {},
   "outputs": [
    {
     "name": "stdout",
     "output_type": "stream",
     "text": [
      "From: 18\n",
      "To: 30\n",
      "18 20 22 24 26 28 30 "
     ]
    }
   ],
   "source": [
    "n1 = int(input(\"From: \"))\n",
    "n2 = int(input(\"To: \"))\n",
    "\n",
    "while n1 <= n2:\n",
    "    if n1%2 == 0:\n",
    "        print(n1, end = \" \") \n",
    "    n1 += 1"
   ]
  },
  {
   "cell_type": "markdown",
   "metadata": {},
   "source": [
    "**(1.3) Suppose you deposit $10,000 in a bank account with an annual interest rate of 5%. Print out the annual balance every year until your balance reaches 15,000.** (Round the number to two decimal places.)<br>\n",
    "Hint: interest = balance*0.05<br>\n",
    "\n",
    "Expected result:\n",
    "<code>\n",
    "10500.00\n",
    "11025.00\n",
    "11576.25\n",
    "12155.06\n",
    "12762.82\n",
    "13400.96\n",
    "14071.00\n",
    "14774.55\n",
    "15513.28\n",
    "</code>"
   ]
  },
  {
   "cell_type": "code",
   "execution_count": 3,
   "metadata": {},
   "outputs": [
    {
     "name": "stdout",
     "output_type": "stream",
     "text": [
      "10500.00\n",
      "11025.00\n",
      "11576.25\n",
      "12155.06\n",
      "12762.82\n",
      "13400.96\n",
      "14071.00\n",
      "14774.55\n",
      "15513.28\n"
     ]
    }
   ],
   "source": [
    "balance = 10000\n",
    "while balance <= 15000:\n",
    "    interest = balance*0.05\n",
    "    balance = balance + interest\n",
    "    print(f\"{balance:.2f}\")"
   ]
  },
  {
   "cell_type": "markdown",
   "metadata": {},
   "source": [
    "**(1.4) Write a program that asks the user to enter a password. If the entered password is <code>python123</code>, print <code>'Successful login'</code>, otherwise, print <code>'Wrong password'</code> and ask again.**<br>\n",
    "Hint: Put the input box in the while loop.<br>\n",
    "\n",
    "Example:<br>\n",
    "\n",
    "Enter your password: <code>test</code><br>\n",
    "Wrong password<br>\n",
    "Enter your password: <code>1234</code><br>\n",
    "Wrong password<br>\n",
    "Enter your password:<code>python123</code><br>\n",
    "Successful login<br>\n"
   ]
  },
  {
   "cell_type": "code",
   "execution_count": 4,
   "metadata": {},
   "outputs": [
    {
     "name": "stdout",
     "output_type": "stream",
     "text": [
      "Enter your password: test\n",
      "Wrong password\n",
      "Enter your password: 1234\n",
      "Wrong password\n",
      "Enter your password: python123\n",
      "Successful login\n"
     ]
    }
   ],
   "source": [
    "while True:\n",
    "    pw = input(\"Enter your password: \")\n",
    "    if pw == \"python123\":\n",
    "        print(\"Successful login\")\n",
    "        break\n",
    "    else:\n",
    "        print(\"Wrong password\")"
   ]
  },
  {
   "cell_type": "markdown",
   "metadata": {},
   "source": [
    "## (2) For loop"
   ]
  },
  {
   "cell_type": "markdown",
   "metadata": {},
   "source": [
    "**(2.1) Write a for loop to print out the following result.<br>**\n",
    "Expected result:\n",
    "<code>    \n",
    "Happy New Year 2021!\n",
    "Happy New Year 2022!\n",
    "Happy New Year 2023!\n",
    "Happy New Year 2024!\n",
    "</code>"
   ]
  },
  {
   "cell_type": "code",
   "execution_count": 5,
   "metadata": {},
   "outputs": [
    {
     "name": "stdout",
     "output_type": "stream",
     "text": [
      "Happy New Year 2021!\n",
      "Happy New Year 2022!\n",
      "Happy New Year 2023!\n",
      "Happy New Year 2024!\n"
     ]
    }
   ],
   "source": [
    "for i in range(2021,2025):\n",
    "    print(f\"Happy New Year {i}!\")"
   ]
  },
  {
   "cell_type": "markdown",
   "metadata": {},
   "source": [
    "**(2.2) Write a program that asks the user to enter a positive number. Calculate the factorial of this number.**<br> \n",
    "Hint: The factorial of $n$ is the product of all the integers from $1$ to $n$. It is denoted by an exclamation sign (!). For example, the factorial of 6 is $6! = 1\\times2\\times3\\times 4\\times5\\times6 = 720$.<br> \n",
    "\n",
    "\n",
    "Expected result:<br> \n",
    "Enter a positive number:<code>6</code>   \n",
    "720\n"
   ]
  },
  {
   "cell_type": "code",
   "execution_count": 6,
   "metadata": {},
   "outputs": [
    {
     "name": "stdout",
     "output_type": "stream",
     "text": [
      "Enter a positive number: 6\n",
      "720\n"
     ]
    }
   ],
   "source": [
    "n = int(input(\"Enter a positive number: \"))\n",
    "factorial = 1  \n",
    "for i in range(1,n+1):\n",
    "    factorial*= i\n",
    "print(factorial)"
   ]
  },
  {
   "cell_type": "markdown",
   "metadata": {},
   "source": [
    "**(2.3) Write a program that requires the user to enter a range. Use a for loop to print all numbers in this range that are divisible by 5.**\n",
    "\n",
    "<br>\n",
    "Example:<br>\n",
    "From: <code>20</code><br>\n",
    "To: <code>55</code><br>\n",
    "20 25 30 35 40 45 50 55"
   ]
  },
  {
   "cell_type": "code",
   "execution_count": 7,
   "metadata": {},
   "outputs": [
    {
     "name": "stdout",
     "output_type": "stream",
     "text": [
      "From: 20\n",
      "To: 55\n",
      "20 25 30 35 40 45 50 55 "
     ]
    }
   ],
   "source": [
    "n1 = int(input(\"From: \"))\n",
    "n2 = int(input(\"To: \"))\n",
    "for i in range(n1, n2+1):\n",
    "    if i%5 == 0:\n",
    "        print(i, end = \" \")"
   ]
  },
  {
   "cell_type": "markdown",
   "metadata": {},
   "source": [
    "**(2.4) Suppose you deposit $10,000 in a bank account with an annual interest rate of 5%. Print out the annual balance for the next five years and round the number to two decimal places.**<br>\n",
    "Hint: interest = balance*0.05<br>\n",
    "\n",
    "Expected result:\n",
    "<code>\n",
    "Year-1: 10500.00\n",
    "Year-2: 11025.00\n",
    "Year-3: 11576.25\n",
    "Year-4: 12155.06\n",
    "Year-5: 12762.82\n",
    "</code>"
   ]
  },
  {
   "cell_type": "code",
   "execution_count": 8,
   "metadata": {},
   "outputs": [
    {
     "name": "stdout",
     "output_type": "stream",
     "text": [
      "Year-1: 10500.00\n",
      "Year-2: 11025.00\n",
      "Year-3: 11576.25\n",
      "Year-4: 12155.06\n",
      "Year-5: 12762.82\n"
     ]
    }
   ],
   "source": [
    "balance = 10000\n",
    "for i in range(1,6):\n",
    "    interest =  balance*0.05\n",
    "    balance = balance + interest\n",
    "    print(f\"Year-{i}: {balance:.2f}\")"
   ]
  },
  {
   "cell_type": "markdown",
   "metadata": {},
   "source": [
    "**(2.5) Given the list below that represents your daily spend for 10 days. Assuming you have a balance of 3000 on day 0, print the balance for each day from day 1 to day 10.** The balance at the end of day 1 is 3000-340 = 2660.<br>\n",
    "\n",
    "Expected result:<br>\n",
    "2660<br>\n",
    "2430<br>\n",
    "...<br>\n",
    "...<br>\n",
    "560"
   ]
  },
  {
   "cell_type": "code",
   "execution_count": 9,
   "metadata": {},
   "outputs": [],
   "source": [
    "spend = [340, 230, 150, 180, 350, 110, 490, 210, 260, 120]"
   ]
  },
  {
   "cell_type": "code",
   "execution_count": 10,
   "metadata": {},
   "outputs": [
    {
     "name": "stdout",
     "output_type": "stream",
     "text": [
      "2660\n",
      "2430\n",
      "2280\n",
      "2100\n",
      "1750\n",
      "1640\n",
      "1150\n",
      "940\n",
      "680\n",
      "560\n"
     ]
    }
   ],
   "source": [
    "balance = 3000\n",
    "for s in spend:\n",
    "    balance -= s\n",
    "    print(balance)"
   ]
  },
  {
   "cell_type": "markdown",
   "metadata": {},
   "source": [
    "**(2.6) Considering the list below. How many elements in the list are greater than 100?**"
   ]
  },
  {
   "cell_type": "code",
   "execution_count": 11,
   "metadata": {},
   "outputs": [],
   "source": [
    "numbers = [10, 40, 199, 20, 344, 300, 4, 55, 1, 4000, 99, 320, 32, 300, 22,\n",
    "           12, 99, 111, 23, 93, 44, 93, 2, 3, 9, 100, 399, 33, 99, 555, 43]"
   ]
  },
  {
   "cell_type": "code",
   "execution_count": 12,
   "metadata": {},
   "outputs": [
    {
     "name": "stdout",
     "output_type": "stream",
     "text": [
      "9\n"
     ]
    }
   ],
   "source": [
    "counter = 0\n",
    "for i in numbers:\n",
    "    if i >100:\n",
    "        counter += 1 \n",
    "\n",
    "print (counter)"
   ]
  },
  {
   "cell_type": "markdown",
   "metadata": {},
   "source": [
    "**(2.7) Given the following list of sublists, where the first element in the sublist is \"customer name\" and the second element is \"age\". Count the number of customers between the ages of 20 and 25 (inclusive).**"
   ]
  },
  {
   "cell_type": "code",
   "execution_count": 13,
   "metadata": {},
   "outputs": [],
   "source": [
    "customer_list = [[\"Henry\",28],[\"Victoria\",33], [\"Issac\",19],[\"Maya\",20],[\"Zoe\",25],\n",
    "                [\"Nora\",21],[\"Madelyn\",29], [\"Michael\",35],[\"Mathew\",23],[\"Sophia\", 18]]"
   ]
  },
  {
   "cell_type": "code",
   "execution_count": 14,
   "metadata": {},
   "outputs": [
    {
     "name": "stdout",
     "output_type": "stream",
     "text": [
      "4\n"
     ]
    }
   ],
   "source": [
    "counter = 0\n",
    "for c in customer_list:\n",
    "    if 20 <= c[1] <= 25:\n",
    "        counter += 1\n",
    "        \n",
    "print(counter)"
   ]
  },
  {
   "cell_type": "markdown",
   "metadata": {},
   "source": [
    "**(2.8) Find the shortest company name in <code>company_list</code> and print that company name.**"
   ]
  },
  {
   "cell_type": "code",
   "execution_count": 15,
   "metadata": {},
   "outputs": [],
   "source": [
    "company_list = [\"AirGarage\",\"Airtable\", \"DoorDash\",\"Dave\",\"Bloomscape\",\"Robinhood\"]"
   ]
  },
  {
   "cell_type": "code",
   "execution_count": 16,
   "metadata": {},
   "outputs": [
    {
     "name": "stdout",
     "output_type": "stream",
     "text": [
      "Dave\n"
     ]
    }
   ],
   "source": [
    "# initialize two variables\n",
    "min_len = len(company_list[0])     # integer (length of the company name)\n",
    "min_len_company = company_list[0]  # string (company name)\n",
    "\n",
    "for c in company_list:\n",
    "    if len(c) < min_len:\n",
    "        min_len = len(c)\n",
    "        min_len_company = c\n",
    "        \n",
    "print(min_len_company)"
   ]
  },
  {
   "cell_type": "markdown",
   "metadata": {},
   "source": [
    "**(2.9) Suppose you are rolling a pair of dice. Print out all possible results.**<br>\n",
    "Expected result:<br>\n",
    "1&1 1&2 1&3 1&4 1&5 1&6 <br>\n",
    "2&1 2&2 2&3 2&4 2&5 2&6 <br>\n",
    "3&1 3&2 3&3 3&4 3&5 3&6 <br>\n",
    "4&1 4&2 4&3 4&4 4&5 4&6 <br>\n",
    "5&1 5&2 5&3 5&4 5&5 5&6 <br>\n",
    "6&1 6&2 6&3 6&4 6&5 6&6"
   ]
  },
  {
   "cell_type": "code",
   "execution_count": 17,
   "metadata": {},
   "outputs": [
    {
     "name": "stdout",
     "output_type": "stream",
     "text": [
      "1&1 1&2 1&3 1&4 1&5 1&6 \n",
      "2&1 2&2 2&3 2&4 2&5 2&6 \n",
      "3&1 3&2 3&3 3&4 3&5 3&6 \n",
      "4&1 4&2 4&3 4&4 4&5 4&6 \n",
      "5&1 5&2 5&3 5&4 5&5 5&6 \n",
      "6&1 6&2 6&3 6&4 6&5 6&6 \n"
     ]
    }
   ],
   "source": [
    "for i in range(1,7):\n",
    "    for j in range(1,7):\n",
    "        print(f\"{i}&{j}\", end = \" \") \n",
    "    print(end = \"\\n\")"
   ]
  },
  {
   "cell_type": "markdown",
   "metadata": {},
   "source": [
    "**(2.10) Write a nested for loop to print out the following pyramid pattern.**<br>\n",
    "1 <br>\n",
    "2 2 <br>\n",
    "3 3 3 <br>\n",
    "4 4 4 4 <br>\n",
    "5 5 5 5 5 <br>\n",
    "6 6 6 6 6 6 <br>"
   ]
  },
  {
   "cell_type": "code",
   "execution_count": 18,
   "metadata": {},
   "outputs": [
    {
     "name": "stdout",
     "output_type": "stream",
     "text": [
      "1 \n",
      "2 2 \n",
      "3 3 3 \n",
      "4 4 4 4 \n",
      "5 5 5 5 5 \n",
      "6 6 6 6 6 6 \n"
     ]
    }
   ],
   "source": [
    "for i in range(1,7):\n",
    "    for j in range(i):\n",
    "        print(i, end = \" \")\n",
    "    print(end = \"\\n\")"
   ]
  },
  {
   "cell_type": "markdown",
   "metadata": {},
   "source": [
    "**(2.11) The profit of selling a unit of product A is 10, and the profit of selling a unit of product B is 15. Let $q_A$ and $q_B$ be the sales units of product A and product B, respectively. Calculate profit with sales $q_A$ ranging from 3 to 5 and sales $q_B$ ranging from 5 to 10.**<br>\n",
    "\n",
    "Expected result:<br>\n",
    "The profit of selling 3 units of product A and 5 units of product B is 105.<br>\n",
    "The profit of selling 3 units of product A and 6 units of product B is 120.<br>\n",
    "...  \n",
    "The profit of selling 3 units of product A and 10 units of product B is 180.<br>\n",
    "...<br> \n",
    "...<br> \n",
    "The profit of selling 5 units of product A and 9 units of product B is 185.  \n",
    "The profit of selling 5 units of product A and 10 units of product B is 200.<br>"
   ]
  },
  {
   "cell_type": "code",
   "execution_count": 19,
   "metadata": {},
   "outputs": [
    {
     "name": "stdout",
     "output_type": "stream",
     "text": [
      "The profit of selling 3 units of product A and 5 units of product B is 105.\n",
      "The profit of selling 3 units of product A and 6 units of product B is 120.\n",
      "The profit of selling 3 units of product A and 7 units of product B is 135.\n",
      "The profit of selling 3 units of product A and 8 units of product B is 150.\n",
      "The profit of selling 3 units of product A and 9 units of product B is 165.\n",
      "The profit of selling 3 units of product A and 10 units of product B is 180.\n",
      "The profit of selling 4 units of product A and 5 units of product B is 115.\n",
      "The profit of selling 4 units of product A and 6 units of product B is 130.\n",
      "The profit of selling 4 units of product A and 7 units of product B is 145.\n",
      "The profit of selling 4 units of product A and 8 units of product B is 160.\n",
      "The profit of selling 4 units of product A and 9 units of product B is 175.\n",
      "The profit of selling 4 units of product A and 10 units of product B is 190.\n",
      "The profit of selling 5 units of product A and 5 units of product B is 125.\n",
      "The profit of selling 5 units of product A and 6 units of product B is 140.\n",
      "The profit of selling 5 units of product A and 7 units of product B is 155.\n",
      "The profit of selling 5 units of product A and 8 units of product B is 170.\n",
      "The profit of selling 5 units of product A and 9 units of product B is 185.\n",
      "The profit of selling 5 units of product A and 10 units of product B is 200.\n"
     ]
    }
   ],
   "source": [
    "for i in range(3,6):\n",
    "    for j in range(5,11):\n",
    "        print(f\"The profit of selling {i} units of product A and {j} units of product B is {10*i+15*j}.\")    "
   ]
  },
  {
   "cell_type": "markdown",
   "metadata": {},
   "source": [
    "**(2.12) Write a program that asks user to enter a password. Given the following rules, check if the entered password is valid. If yes, print \"Valid password\", if not, print \"Invalid password\".**<br>\n",
    "- Contains at least one number. (Hint: use string method <code>isdigit()</code>)\n",
    "- Contains at least one uppercase letter. (Hint: use string method <code>isupper()</code>)\n",
    "\n",
    "Example-1:<br>\n",
    "Enter your password: <code>python_@!</code><br>\n",
    "Invalid password<br>\n",
    "\n",
    "Example-2:<br>\n",
    "Enter your password: <code>Python123</code><br>\n",
    "Valid password<br>"
   ]
  },
  {
   "cell_type": "code",
   "execution_count": 20,
   "metadata": {},
   "outputs": [
    {
     "name": "stdout",
     "output_type": "stream",
     "text": [
      "Enter  your password: python_@!\n",
      "Invalid password\n"
     ]
    }
   ],
   "source": [
    "pw = input(\"Enter  your password: \")\n",
    "cnt_digit = 0\n",
    "cnt_upper = 0\n",
    "for s in pw:\n",
    "    if s.isdigit():\n",
    "        cnt_digit+=1\n",
    "    elif s.isupper():\n",
    "        cnt_upper +=1\n",
    "    else:\n",
    "        pass\n",
    "\n",
    "if cnt_digit > 0 and cnt_upper > 0:\n",
    "    print(\"Valid password\")\n",
    "else:\n",
    "    print(\"Invalid password\")"
   ]
  }
 ],
 "metadata": {
  "kernelspec": {
   "display_name": "Python 3 (ipykernel)",
   "language": "python",
   "name": "python3"
  },
  "language_info": {
   "codemirror_mode": {
    "name": "ipython",
    "version": 3
   },
   "file_extension": ".py",
   "mimetype": "text/x-python",
   "name": "python",
   "nbconvert_exporter": "python",
   "pygments_lexer": "ipython3",
   "version": "3.9.12"
  }
 },
 "nbformat": 4,
 "nbformat_minor": 4
}
