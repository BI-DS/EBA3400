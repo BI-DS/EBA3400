{
 "cells": [
  {
   "cell_type": "markdown",
   "id": "11ca5efe",
   "metadata": {},
   "source": [
    "# Time Series"
   ]
  },
  {
   "cell_type": "code",
   "execution_count": null,
   "id": "fcd6d2b2",
   "metadata": {},
   "outputs": [],
   "source": [
    "# import package"
   ]
  },
  {
   "cell_type": "markdown",
   "id": "a7043fd8",
   "metadata": {},
   "source": [
    "## (1) Oslo city bike"
   ]
  },
  {
   "cell_type": "markdown",
   "id": "65071582",
   "metadata": {},
   "source": [
    "**(1.1) Download the August 2021 city bike data here https://oslobysykkel.no/en/open-data/historical. Import the dataset and set the column <code>started_at</code> as DatetimeIndex.**<br> \n",
    "(The description of each column can be found on the same page.)"
   ]
  },
  {
   "cell_type": "code",
   "execution_count": null,
   "id": "c159e444",
   "metadata": {},
   "outputs": [],
   "source": [
    "# put your code here"
   ]
  },
  {
   "cell_type": "markdown",
   "id": "84630c37",
   "metadata": {},
   "source": [
    "**(1.2) Select a subset with two columns: <code>duration</code> and <code>start_station_name</code>. Use this subset to solve the following tasks.**<br>\n",
    "Hint: <code>copy()</code>"
   ]
  },
  {
   "cell_type": "code",
   "execution_count": null,
   "id": "de964714",
   "metadata": {},
   "outputs": [],
   "source": [
    "# put your code here"
   ]
  },
  {
   "cell_type": "markdown",
   "id": "737a1a56",
   "metadata": {},
   "source": [
    "**(1.3) Show the riding time for each trip between 8 a.m. and 11 a.m. on August 10.**<br>\n",
    "Hint: Use column <code>duration</code><br>\n",
    "Setting: figsize = (18,3)"
   ]
  },
  {
   "cell_type": "code",
   "execution_count": null,
   "id": "a334bcce",
   "metadata": {},
   "outputs": [],
   "source": [
    "# put your code here"
   ]
  },
  {
   "cell_type": "markdown",
   "id": "b0bf3248",
   "metadata": {},
   "source": [
    "**(1.4) How many trips departed from <code>Olaf Ryes Plastic</code> Station on August 10?**"
   ]
  },
  {
   "cell_type": "code",
   "execution_count": null,
   "id": "e319680a",
   "metadata": {},
   "outputs": [],
   "source": [
    "# put your code here"
   ]
  },
  {
   "cell_type": "markdown",
   "id": "7e5c5cce",
   "metadata": {},
   "source": [
    "**(1.5) Calculate the total riding time per day. Use a horizontal bar chart to display the result.**"
   ]
  },
  {
   "cell_type": "code",
   "execution_count": null,
   "id": "4cdbcc23",
   "metadata": {},
   "outputs": [],
   "source": [
    "# put your code here"
   ]
  },
  {
   "cell_type": "markdown",
   "id": "4588231e",
   "metadata": {},
   "source": [
    "**(1.5) Extract the day of the week from the DatetimeIndex and add it a as new column named <code>weekday</code>.**"
   ]
  },
  {
   "cell_type": "code",
   "execution_count": null,
   "id": "d1a212a0",
   "metadata": {},
   "outputs": [],
   "source": [
    "# put your code here"
   ]
  },
  {
   "cell_type": "markdown",
   "id": "94fc2dcb",
   "metadata": {},
   "source": [
    "**(1.6) Group the data from Auguest 1 to 28 by the column <code>weekday</code>. Calcuate the number of trips for each group. Which day of the week has the most trips?**"
   ]
  },
  {
   "cell_type": "code",
   "execution_count": null,
   "id": "39a0f8d5",
   "metadata": {},
   "outputs": [],
   "source": [
    "# put your code here"
   ]
  },
  {
   "cell_type": "markdown",
   "id": "c41321c2",
   "metadata": {},
   "source": [
    "**Write you answer here:** ____\n",
    "    "
   ]
  },
  {
   "cell_type": "markdown",
   "id": "5ec7d816",
   "metadata": {},
   "source": [
    "**(1.7) Which day of the week has the longest average riding time?**<br>\n",
    "Hint: Use the data from Auguest 1 to 28."
   ]
  },
  {
   "cell_type": "code",
   "execution_count": null,
   "id": "b40f2bf6",
   "metadata": {},
   "outputs": [],
   "source": [
    "# put your code here"
   ]
  },
  {
   "cell_type": "markdown",
   "id": "a9768dcd",
   "metadata": {},
   "source": [
    "**Write you answer here:** ____\n",
    "    "
   ]
  },
  {
   "cell_type": "markdown",
   "id": "d638c724",
   "metadata": {},
   "source": [
    "**(1.8) Count the number of departures from the following stations on each day of the week in August.**<br>\n",
    "<code>Alexander Kiellands Plass, Ringnes Park, Olaf Ryes plass, Tøyen skole, Bislett Stadion, Jernbanetorget, BI Nydalen.</code>   \n",
    "Expected result:"
   ]
  },
  {
   "cell_type": "markdown",
   "id": "57cdd731",
   "metadata": {},
   "source": [
    "||Monday|Tuesday|Wednesday|Thursday|Friday|Saturday|Sunday|\n",
    "|-:-|-:-|-:-|-:-|-:-|-:-|-:-|-:-|\n",
    "|**Alexander Kiellands Plass**|473|512|...|...|...|...|...|   \n",
    "|**BI Nydalen**|238|...|...|...|...|...|...|   \n",
    "|**Bislett Stadion**|...|...|...|...|...|...|     \n",
    "|**Jernbanetorget**|...|...|...|...|...|...|     \n",
    "|**Olaf Ryes plass**|...|...|...|...|...|...|    \n",
    "|**Ringnes Park**|...|...|...|...|...|...|    \n",
    "|**Tøyen skole**|...|...|...|...|...|...|    "
   ]
  },
  {
   "cell_type": "code",
   "execution_count": null,
   "id": "c276b0e1",
   "metadata": {},
   "outputs": [],
   "source": [
    "# put your code here"
   ]
  },
  {
   "cell_type": "markdown",
   "id": "a7a16116",
   "metadata": {},
   "source": [
    "**(1.9) Use a heatmap to display the result obtained in (1.8). List the two stations with the most trips on Tuesday.**"
   ]
  },
  {
   "cell_type": "code",
   "execution_count": null,
   "id": "75b489db",
   "metadata": {},
   "outputs": [],
   "source": [
    "# put your code here"
   ]
  },
  {
   "cell_type": "markdown",
   "id": "936bc89c",
   "metadata": {},
   "source": [
    "**Write you answer here:**____\n",
    "    "
   ]
  },
  {
   "cell_type": "markdown",
   "id": "cfb5daed",
   "metadata": {},
   "source": [
    "**(1.10) Calculate the number of trips in each hour on August 10.**"
   ]
  },
  {
   "cell_type": "code",
   "execution_count": null,
   "id": "ce188ee2",
   "metadata": {},
   "outputs": [],
   "source": [
    "# put your code here"
   ]
  },
  {
   "cell_type": "markdown",
   "id": "9bda7b47",
   "metadata": {},
   "source": [
    "**(1.11) Use a horizontal bar chart to display the result obtained in (1.10).**"
   ]
  },
  {
   "cell_type": "code",
   "execution_count": null,
   "id": "b293ba16",
   "metadata": {},
   "outputs": [],
   "source": [
    "# put your code here"
   ]
  },
  {
   "cell_type": "markdown",
   "id": "3862d386",
   "metadata": {},
   "source": [
    "## (2) Complains\n",
    "In the US, 311 is a non-emergency phone number that people can call in many cities to find information about services, make complaints, or report problems like graffiti or road damage.\n"
   ]
  },
  {
   "cell_type": "markdown",
   "id": "1c48312c",
   "metadata": {},
   "source": [
    "**(2.1) Import the dataset <code>complaints.csv</code>. Set the column <code>Created Date</code> as DatetimeIndex.**<br>"
   ]
  },
  {
   "cell_type": "code",
   "execution_count": null,
   "id": "be1caef8",
   "metadata": {},
   "outputs": [],
   "source": [
    "# put your code here"
   ]
  },
  {
   "cell_type": "markdown",
   "id": "72efd6d0",
   "metadata": {},
   "source": [
    "**(2.2) Sort the dataframe from oldest to newest.**<br>\n",
    "Hint: <code>DataFrame.sort_index(inplace = True)</code>"
   ]
  },
  {
   "cell_type": "code",
   "execution_count": null,
   "id": "40f9c4cc",
   "metadata": {},
   "outputs": [],
   "source": [
    "# put your code here"
   ]
  },
  {
   "cell_type": "markdown",
   "id": "927ef75f",
   "metadata": {},
   "source": [
    "**(2.2) Select the complaint data handled by <code>NYPD</code> with two columns: <code>Closed Date, Complaint Type</code>. Use this subset to solve the following tasks.**<br>\n",
    "Hint: Use column <code>Agency</code> and make a copy."
   ]
  },
  {
   "cell_type": "code",
   "execution_count": null,
   "id": "57bea78c",
   "metadata": {},
   "outputs": [],
   "source": [
    "# put your code here"
   ]
  },
  {
   "cell_type": "markdown",
   "id": "1251c2d0",
   "metadata": {},
   "source": [
    "**(2.3) Calculate the number of complaints in each day and display the result with a line chart.**<br>\n",
    "Setting: figsize = (15,3), marker = \"o\""
   ]
  },
  {
   "cell_type": "code",
   "execution_count": null,
   "id": "1e0e5455",
   "metadata": {},
   "outputs": [],
   "source": [
    "# put your code here"
   ]
  },
  {
   "cell_type": "markdown",
   "id": "8ad706c2",
   "metadata": {},
   "source": [
    "**(2.4) What are the top five types of complaints?**"
   ]
  },
  {
   "cell_type": "code",
   "execution_count": null,
   "id": "3afedc8a",
   "metadata": {},
   "outputs": [],
   "source": [
    "# put your code here"
   ]
  },
  {
   "cell_type": "markdown",
   "id": "e43f9c8a",
   "metadata": {},
   "source": [
    "**(2.5) Extract the hour from DatetimeIndex and add it as a new column named <code>Hour</code>.**"
   ]
  },
  {
   "cell_type": "code",
   "execution_count": null,
   "id": "9c400d09",
   "metadata": {},
   "outputs": [],
   "source": [
    "# put your code here"
   ]
  },
  {
   "cell_type": "markdown",
   "id": "ec594fc9",
   "metadata": {},
   "source": [
    "**(2.6) Use a heatmap to show the number of complaints of each complaint type at different times. What types of complaints are reported most at midnight?**"
   ]
  },
  {
   "cell_type": "code",
   "execution_count": null,
   "id": "8492279c",
   "metadata": {},
   "outputs": [],
   "source": [
    "# put your code here"
   ]
  },
  {
   "cell_type": "markdown",
   "id": "213fc1b2",
   "metadata": {},
   "source": [
    "**Write you answer here:** ____\n",
    "    "
   ]
  }
 ],
 "metadata": {
  "kernelspec": {
   "display_name": "Python 3",
   "language": "python",
   "name": "python3"
  },
  "language_info": {
   "codemirror_mode": {
    "name": "ipython",
    "version": 3
   },
   "file_extension": ".py",
   "mimetype": "text/x-python",
   "name": "python",
   "nbconvert_exporter": "python",
   "pygments_lexer": "ipython3",
   "version": "3.8.8"
  }
 },
 "nbformat": 4,
 "nbformat_minor": 5
}
