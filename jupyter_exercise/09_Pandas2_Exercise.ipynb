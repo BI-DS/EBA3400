{
 "cells": [
  {
   "cell_type": "markdown",
   "id": "91db6ec3",
   "metadata": {},
   "source": [
    "# Pandas 2 - Data Preprocessing"
   ]
  },
  {
   "cell_type": "code",
   "execution_count": null,
   "id": "3931b1cd",
   "metadata": {},
   "outputs": [],
   "source": []
  },
  {
   "cell_type": "markdown",
   "id": "dfe9a722",
   "metadata": {},
   "source": [
    "## (1) Product sales"
   ]
  },
  {
   "cell_type": "markdown",
   "id": "efff2d46",
   "metadata": {},
   "source": [
    "**(1.1) Given the following dataframes <code>df_price</code> and <code>df_sales</code>. Find the sales data for all the products listed in <code>df_price</code>. Which product is missing sales data?** (Write your answer in the markdown cell.)"
   ]
  },
  {
   "cell_type": "code",
   "execution_count": null,
   "id": "9695ff5f",
   "metadata": {},
   "outputs": [],
   "source": [
    "df_price = pd.DataFrame({\"product_name\":[\"A\", \"B\", \"C\", \"D\", \"E\"], \"price\":[35, 10, 25, 30, 20]})\n",
    "df_sales = pd.DataFrame({\"product_name\":[\"A\", \"B\", \"C\", \"E\", \"F\"], \"sales\":[360, 470, 150, 290, 210]})\n",
    "display(df_price)\n",
    "display(df_sales)"
   ]
  },
  {
   "cell_type": "code",
   "execution_count": null,
   "id": "905a3354",
   "metadata": {},
   "outputs": [],
   "source": []
  },
  {
   "cell_type": "markdown",
   "id": "98b85d58",
   "metadata": {},
   "source": [
    "**Write your answer here:**<br>\n",
    "Product __ is missing sales data."
   ]
  },
  {
   "cell_type": "markdown",
   "id": "3ff7e6e1",
   "metadata": {},
   "source": [
    "**(1.2) List the products for which both price and sales data are available.**"
   ]
  },
  {
   "cell_type": "code",
   "execution_count": null,
   "id": "fe457a60",
   "metadata": {},
   "outputs": [],
   "source": []
  },
  {
   "cell_type": "markdown",
   "id": "205b83ed",
   "metadata": {},
   "source": [
    "**(1.3) Take the result from (1.2) and save it as a new dataframe. Sort this new dataframe in descending order based on the 'Sales' column.**"
   ]
  },
  {
   "cell_type": "code",
   "execution_count": null,
   "id": "9eb2499c",
   "metadata": {},
   "outputs": [],
   "source": []
  },
  {
   "cell_type": "markdown",
   "id": "7340dc04",
   "metadata": {},
   "source": [
    "**(1.4) Using the result from (1.2), display information for products with sales less than 300.**"
   ]
  },
  {
   "cell_type": "code",
   "execution_count": null,
   "id": "46ddb43b",
   "metadata": {},
   "outputs": [],
   "source": []
  },
  {
   "cell_type": "markdown",
   "id": "12e0e55d",
   "metadata": {},
   "source": [
    "## (2) Oslo city bike"
   ]
  },
  {
   "cell_type": "markdown",
   "id": "2e92e0ee",
   "metadata": {},
   "source": [
    "**(2.1) Download the three months of Oslo city bike data from May to July 2023 using this link https://oslobysykkel.no/en/open-data/historical. Read these file as three dataframes and print out the dimensions of each file. Each row in the file represents a trip. Below are descriptions of some important variables (columns). A full description of each variable can be found at the link above.**<br> \n",
    "- **started_at**: Timestamp of when the trip started\n",
    "- **ended_at**: Timestamp of when the trip ended\n",
    "- **duration**: Duration of trip in seconds\n",
    "- **start_station_name**: Name of the start station\n",
    "- **end_station_name**: Name of the end station<br>\n",
    "\n",
    "Map: https://oslobysykkel.no/en/stations"
   ]
  },
  {
   "cell_type": "code",
   "execution_count": null,
   "id": "0de3204d",
   "metadata": {},
   "outputs": [],
   "source": []
  },
  {
   "cell_type": "markdown",
   "id": "643e8fa8",
   "metadata": {},
   "source": [
    "**(2.2) Combine the three dataframes obtaind in (2.1) into one dataframe. And use it to get the total number of trips recorded over the three months.** "
   ]
  },
  {
   "cell_type": "code",
   "execution_count": null,
   "id": "d5d50fc3",
   "metadata": {},
   "outputs": [],
   "source": []
  },
  {
   "cell_type": "markdown",
   "id": "9b7faa8e",
   "metadata": {},
   "source": [
    "**(2.3) Using the dataframe obtained in (2.2), extract a subset that includes the important columns listed in (2.1) and save this subset as a new dataframe. Use this new dataframe to solve the remaining tasks. Display the first five rows of this new dataframe.**"
   ]
  },
  {
   "cell_type": "code",
   "execution_count": null,
   "id": "f29d51ac",
   "metadata": {},
   "outputs": [],
   "source": []
  },
  {
   "cell_type": "markdown",
   "id": "bb4e6eca",
   "metadata": {},
   "source": [
    "**(2.4) Using the dataframe obtained in (2.3), display the data for trips that started at the station \"BI Nydalen\" and ended at the station \"Alexander Kiellands Plass\".**<br>"
   ]
  },
  {
   "cell_type": "code",
   "execution_count": null,
   "id": "46e77723",
   "metadata": {},
   "outputs": [],
   "source": []
  },
  {
   "cell_type": "markdown",
   "id": "eed89061",
   "metadata": {},
   "source": [
    "**(2.5) Calculate the average riding time in seconds for trips from \"BI Nydalen\" to \"Alexander Kiellands Plass\". Round the result to two decimal places.**"
   ]
  },
  {
   "cell_type": "code",
   "execution_count": null,
   "id": "ccb6efb1",
   "metadata": {},
   "outputs": [],
   "source": []
  },
  {
   "cell_type": "markdown",
   "id": "5f35c32a",
   "metadata": {},
   "source": [
    "**(2.6) For trips starting from \"BI Nydalen\", what are the top 3 most popular destination stations?**"
   ]
  },
  {
   "cell_type": "code",
   "execution_count": null,
   "id": "df3babce",
   "metadata": {},
   "outputs": [],
   "source": []
  },
  {
   "cell_type": "markdown",
   "id": "2301a143",
   "metadata": {},
   "source": [
    "**(2.7) What is the total number of trips that started from any of the following stations: <code>Stensparken</code>, <code>Thereses gate</code>, <code>Bislett Stadion</code>, or <code>Bislettgata</code>?**<br>\n",
    "Hint: <code>isin()</code> https://www.geeksforgeeks.org/python-pandas-dataframe-isin/"
   ]
  },
  {
   "cell_type": "code",
   "execution_count": null,
   "id": "cf5af405",
   "metadata": {},
   "outputs": [],
   "source": []
  },
  {
   "cell_type": "markdown",
   "id": "91284f96",
   "metadata": {},
   "source": [
    "## (3) Complains\n",
    "In the US, 311 is a non-emergency phone number that people can call in many cities to find information about services, make complaints, or report problems like graffiti or road damage.\n"
   ]
  },
  {
   "cell_type": "markdown",
   "id": "d481eee8",
   "metadata": {},
   "source": [
    "**(3.1) Import the dataset <code>complaints.csv</code>. Show the first 5 rows.**<br>\n",
    "Note: You may receive a warning message (https://pandas.pydata.org/docs/reference/api/pandas.errors.DtypeWarning.html). You can try to solve this little problem. If you don't know how to fix it, you can still continue with the following tasks."
   ]
  },
  {
   "cell_type": "code",
   "execution_count": null,
   "id": "7245843f",
   "metadata": {},
   "outputs": [],
   "source": []
  },
  {
   "cell_type": "markdown",
   "id": "88746ce2",
   "metadata": {},
   "source": [
    "**(3.2) Show the column names and their data types in this dataset.**"
   ]
  },
  {
   "cell_type": "code",
   "execution_count": null,
   "id": "252e6122",
   "metadata": {},
   "outputs": [],
   "source": []
  },
  {
   "cell_type": "markdown",
   "id": "c03aa10e",
   "metadata": {},
   "source": [
    "**(3.3) How many rows and columns are there in the dataset?**<br>"
   ]
  },
  {
   "cell_type": "code",
   "execution_count": null,
   "id": "c8594a21",
   "metadata": {},
   "outputs": [],
   "source": []
  },
  {
   "cell_type": "markdown",
   "id": "12712a76",
   "metadata": {},
   "source": [
    "**(3.4) Display the first five rows of columns <code>Complaint Type</code> and <code>Borough</code>.**"
   ]
  },
  {
   "cell_type": "code",
   "execution_count": null,
   "id": "6b67abe6",
   "metadata": {},
   "outputs": [],
   "source": []
  },
  {
   "cell_type": "markdown",
   "id": "956548fa",
   "metadata": {},
   "source": [
    "**(3.5) Show the number of complaints recorded in each region (borough).**<br>"
   ]
  },
  {
   "cell_type": "code",
   "execution_count": null,
   "id": "7d6846d2",
   "metadata": {},
   "outputs": [],
   "source": []
  },
  {
   "cell_type": "markdown",
   "id": "c18ae8e0",
   "metadata": {},
   "source": [
    "**(3.6) Create a subset of the MANHATTAN area named <code>manhattan_df</code> and include only columns <code>Complaint Type</code> and <code>Borough</code>.**"
   ]
  },
  {
   "cell_type": "code",
   "execution_count": null,
   "id": "917491fa",
   "metadata": {},
   "outputs": [],
   "source": []
  },
  {
   "cell_type": "markdown",
   "id": "e4e25620",
   "metadata": {},
   "source": [
    "**(3.7) Import the dataset <code>complaints_mapping.xlsx</code>. Show the data.**<br>\n",
    "Hint: https://pandas.pydata.org/docs/reference/api/pandas.read_excel.html"
   ]
  },
  {
   "cell_type": "code",
   "execution_count": null,
   "id": "ae9363e0",
   "metadata": {},
   "outputs": [],
   "source": []
  },
  {
   "cell_type": "markdown",
   "id": "841def2c",
   "metadata": {},
   "source": [
    "**(3.8) Use the dataset in (3.7), find the category of each complaint type in <code>manhattan_df</code>.**<br>\n",
    "Example:\n"
   ]
  },
  {
   "cell_type": "markdown",
   "id": "8b4abdb0",
   "metadata": {},
   "source": [
    "||Complaint Type|Borough|Category|\n",
    "|:-:|:-:|:-:|:-:|\n",
    "|0|Noise - Commercial|MANHATTAN|Noise|\n",
    "|1|Noise - Vehicle\t|MANHATTAN|NaN|\n",
    "|2|Rodent|MANHATTAN|Rats|\n",
    "|3|Noise - Commercial|MANHATTAN|Noise|\n",
    "|...|...|...|...|"
   ]
  },
  {
   "cell_type": "code",
   "execution_count": null,
   "id": "05b76f57",
   "metadata": {},
   "outputs": [],
   "source": []
  },
  {
   "cell_type": "markdown",
   "id": "1eeb604e",
   "metadata": {},
   "source": [
    "**(3.9) What are the five most common categories of complaints in Manhattan?**"
   ]
  },
  {
   "cell_type": "code",
   "execution_count": null,
   "id": "a4a4a45e",
   "metadata": {},
   "outputs": [],
   "source": []
  }
 ],
 "metadata": {
  "kernelspec": {
   "display_name": "Python 3 (ipykernel)",
   "language": "python",
   "name": "python3"
  },
  "language_info": {
   "codemirror_mode": {
    "name": "ipython",
    "version": 3
   },
   "file_extension": ".py",
   "mimetype": "text/x-python",
   "name": "python",
   "nbconvert_exporter": "python",
   "pygments_lexer": "ipython3",
   "version": "3.11.4"
  }
 },
 "nbformat": 4,
 "nbformat_minor": 5
}
