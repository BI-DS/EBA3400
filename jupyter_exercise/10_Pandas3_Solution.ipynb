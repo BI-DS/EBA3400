{
 "cells": [
  {
   "cell_type": "markdown",
   "id": "653b7996",
   "metadata": {},
   "source": [
    "# Pandas3 - Data Preprocessing and Calculation"
   ]
  },
  {
   "cell_type": "code",
   "execution_count": 1,
   "id": "ea7f9b4c",
   "metadata": {},
   "outputs": [],
   "source": [
    "import pandas as pd"
   ]
  },
  {
   "cell_type": "markdown",
   "id": "c0acb28c",
   "metadata": {},
   "source": [
    "## (1) Oil price"
   ]
  },
  {
   "cell_type": "markdown",
   "id": "de348bd5",
   "metadata": {},
   "source": [
    "**(1.1) Given the following dataframe, calcualte the number of missing values in each column.**"
   ]
  },
  {
   "cell_type": "code",
   "execution_count": 2,
   "id": "b97f0cc8",
   "metadata": {},
   "outputs": [
    {
     "data": {
      "text/html": [
       "<div>\n",
       "<style scoped>\n",
       "    .dataframe tbody tr th:only-of-type {\n",
       "        vertical-align: middle;\n",
       "    }\n",
       "\n",
       "    .dataframe tbody tr th {\n",
       "        vertical-align: top;\n",
       "    }\n",
       "\n",
       "    .dataframe thead th {\n",
       "        text-align: right;\n",
       "    }\n",
       "</style>\n",
       "<table border=\"1\" class=\"dataframe\">\n",
       "  <thead>\n",
       "    <tr style=\"text-align: right;\">\n",
       "      <th></th>\n",
       "      <th>month</th>\n",
       "      <th>price</th>\n",
       "    </tr>\n",
       "  </thead>\n",
       "  <tbody>\n",
       "    <tr>\n",
       "      <th>0</th>\n",
       "      <td>Jan</td>\n",
       "      <td>63.9</td>\n",
       "    </tr>\n",
       "    <tr>\n",
       "      <th>1</th>\n",
       "      <td>Feb</td>\n",
       "      <td>NaN</td>\n",
       "    </tr>\n",
       "    <tr>\n",
       "      <th>2</th>\n",
       "      <td>Mar</td>\n",
       "      <td>66.0</td>\n",
       "    </tr>\n",
       "    <tr>\n",
       "      <th>3</th>\n",
       "      <td>Apr</td>\n",
       "      <td>71.5</td>\n",
       "    </tr>\n",
       "    <tr>\n",
       "      <th>4</th>\n",
       "      <td>May</td>\n",
       "      <td>70.9</td>\n",
       "    </tr>\n",
       "    <tr>\n",
       "      <th>5</th>\n",
       "      <td>Jun</td>\n",
       "      <td>61.9</td>\n",
       "    </tr>\n",
       "    <tr>\n",
       "      <th>6</th>\n",
       "      <td>Jul</td>\n",
       "      <td>NaN</td>\n",
       "    </tr>\n",
       "    <tr>\n",
       "      <th>7</th>\n",
       "      <td>Aug</td>\n",
       "      <td>59.4</td>\n",
       "    </tr>\n",
       "    <tr>\n",
       "      <th>8</th>\n",
       "      <td>Sep</td>\n",
       "      <td>NaN</td>\n",
       "    </tr>\n",
       "    <tr>\n",
       "      <th>9</th>\n",
       "      <td>Oct</td>\n",
       "      <td>58.5</td>\n",
       "    </tr>\n",
       "    <tr>\n",
       "      <th>10</th>\n",
       "      <td>Nov</td>\n",
       "      <td>63.3</td>\n",
       "    </tr>\n",
       "    <tr>\n",
       "      <th>11</th>\n",
       "      <td>Dec</td>\n",
       "      <td>64.5</td>\n",
       "    </tr>\n",
       "  </tbody>\n",
       "</table>\n",
       "</div>"
      ],
      "text/plain": [
       "   month  price\n",
       "0    Jan   63.9\n",
       "1    Feb    NaN\n",
       "2    Mar   66.0\n",
       "3    Apr   71.5\n",
       "4    May   70.9\n",
       "5    Jun   61.9\n",
       "6    Jul    NaN\n",
       "7    Aug   59.4\n",
       "8    Sep    NaN\n",
       "9    Oct   58.5\n",
       "10   Nov   63.3\n",
       "11   Dec   64.5"
      ]
     },
     "execution_count": 2,
     "metadata": {},
     "output_type": "execute_result"
    }
   ],
   "source": [
    "month = ['Jan','Feb','Mar','Apr','May','Jun','Jul','Aug','Sep','Oct','Nov','Dec']\n",
    "price = [63.9,None,66,71.5,70.9,61.9,None,59.4,None,58.5,63.3,64.5]\n",
    "oil_df = pd.DataFrame({\"month\":month,\"price\":price})\n",
    "oil_df"
   ]
  },
  {
   "cell_type": "code",
   "execution_count": 3,
   "id": "ef1bb866",
   "metadata": {},
   "outputs": [
    {
     "data": {
      "text/plain": [
       "month    0\n",
       "price    3\n",
       "dtype: int64"
      ]
     },
     "execution_count": 3,
     "metadata": {},
     "output_type": "execute_result"
    }
   ],
   "source": [
    "oil_df.isnull().sum()"
   ]
  },
  {
   "cell_type": "markdown",
   "id": "ca3f9a78",
   "metadata": {},
   "source": [
    "**(1.2) Use the dataframe in (1.1). Fill in missing values with the price of the previous month.**"
   ]
  },
  {
   "cell_type": "code",
   "execution_count": 4,
   "id": "a0c592e6",
   "metadata": {},
   "outputs": [
    {
     "data": {
      "text/html": [
       "<div>\n",
       "<style scoped>\n",
       "    .dataframe tbody tr th:only-of-type {\n",
       "        vertical-align: middle;\n",
       "    }\n",
       "\n",
       "    .dataframe tbody tr th {\n",
       "        vertical-align: top;\n",
       "    }\n",
       "\n",
       "    .dataframe thead th {\n",
       "        text-align: right;\n",
       "    }\n",
       "</style>\n",
       "<table border=\"1\" class=\"dataframe\">\n",
       "  <thead>\n",
       "    <tr style=\"text-align: right;\">\n",
       "      <th></th>\n",
       "      <th>month</th>\n",
       "      <th>price</th>\n",
       "    </tr>\n",
       "  </thead>\n",
       "  <tbody>\n",
       "    <tr>\n",
       "      <th>0</th>\n",
       "      <td>Jan</td>\n",
       "      <td>63.9</td>\n",
       "    </tr>\n",
       "    <tr>\n",
       "      <th>1</th>\n",
       "      <td>Feb</td>\n",
       "      <td>63.9</td>\n",
       "    </tr>\n",
       "    <tr>\n",
       "      <th>2</th>\n",
       "      <td>Mar</td>\n",
       "      <td>66.0</td>\n",
       "    </tr>\n",
       "    <tr>\n",
       "      <th>3</th>\n",
       "      <td>Apr</td>\n",
       "      <td>71.5</td>\n",
       "    </tr>\n",
       "    <tr>\n",
       "      <th>4</th>\n",
       "      <td>May</td>\n",
       "      <td>70.9</td>\n",
       "    </tr>\n",
       "    <tr>\n",
       "      <th>5</th>\n",
       "      <td>Jun</td>\n",
       "      <td>61.9</td>\n",
       "    </tr>\n",
       "    <tr>\n",
       "      <th>6</th>\n",
       "      <td>Jul</td>\n",
       "      <td>61.9</td>\n",
       "    </tr>\n",
       "    <tr>\n",
       "      <th>7</th>\n",
       "      <td>Aug</td>\n",
       "      <td>59.4</td>\n",
       "    </tr>\n",
       "    <tr>\n",
       "      <th>8</th>\n",
       "      <td>Sep</td>\n",
       "      <td>59.4</td>\n",
       "    </tr>\n",
       "    <tr>\n",
       "      <th>9</th>\n",
       "      <td>Oct</td>\n",
       "      <td>58.5</td>\n",
       "    </tr>\n",
       "    <tr>\n",
       "      <th>10</th>\n",
       "      <td>Nov</td>\n",
       "      <td>63.3</td>\n",
       "    </tr>\n",
       "    <tr>\n",
       "      <th>11</th>\n",
       "      <td>Dec</td>\n",
       "      <td>64.5</td>\n",
       "    </tr>\n",
       "  </tbody>\n",
       "</table>\n",
       "</div>"
      ],
      "text/plain": [
       "   month  price\n",
       "0    Jan   63.9\n",
       "1    Feb   63.9\n",
       "2    Mar   66.0\n",
       "3    Apr   71.5\n",
       "4    May   70.9\n",
       "5    Jun   61.9\n",
       "6    Jul   61.9\n",
       "7    Aug   59.4\n",
       "8    Sep   59.4\n",
       "9    Oct   58.5\n",
       "10   Nov   63.3\n",
       "11   Dec   64.5"
      ]
     },
     "execution_count": 4,
     "metadata": {},
     "output_type": "execute_result"
    }
   ],
   "source": [
    "oil_df.fillna(method = 'ffill')"
   ]
  },
  {
   "cell_type": "markdown",
   "id": "af1b7652",
   "metadata": {},
   "source": [
    "**(1.3) Use the dataframe in (1.1). Fill in missing values with the average price. Round numbers to one decimal place.**"
   ]
  },
  {
   "cell_type": "code",
   "execution_count": 5,
   "id": "fd9d53f5",
   "metadata": {},
   "outputs": [
    {
     "data": {
      "text/html": [
       "<div>\n",
       "<style scoped>\n",
       "    .dataframe tbody tr th:only-of-type {\n",
       "        vertical-align: middle;\n",
       "    }\n",
       "\n",
       "    .dataframe tbody tr th {\n",
       "        vertical-align: top;\n",
       "    }\n",
       "\n",
       "    .dataframe thead th {\n",
       "        text-align: right;\n",
       "    }\n",
       "</style>\n",
       "<table border=\"1\" class=\"dataframe\">\n",
       "  <thead>\n",
       "    <tr style=\"text-align: right;\">\n",
       "      <th></th>\n",
       "      <th>month</th>\n",
       "      <th>price</th>\n",
       "    </tr>\n",
       "  </thead>\n",
       "  <tbody>\n",
       "    <tr>\n",
       "      <th>0</th>\n",
       "      <td>Jan</td>\n",
       "      <td>63.9</td>\n",
       "    </tr>\n",
       "    <tr>\n",
       "      <th>1</th>\n",
       "      <td>Feb</td>\n",
       "      <td>64.4</td>\n",
       "    </tr>\n",
       "    <tr>\n",
       "      <th>2</th>\n",
       "      <td>Mar</td>\n",
       "      <td>66.0</td>\n",
       "    </tr>\n",
       "    <tr>\n",
       "      <th>3</th>\n",
       "      <td>Apr</td>\n",
       "      <td>71.5</td>\n",
       "    </tr>\n",
       "    <tr>\n",
       "      <th>4</th>\n",
       "      <td>May</td>\n",
       "      <td>70.9</td>\n",
       "    </tr>\n",
       "    <tr>\n",
       "      <th>5</th>\n",
       "      <td>Jun</td>\n",
       "      <td>61.9</td>\n",
       "    </tr>\n",
       "    <tr>\n",
       "      <th>6</th>\n",
       "      <td>Jul</td>\n",
       "      <td>64.4</td>\n",
       "    </tr>\n",
       "    <tr>\n",
       "      <th>7</th>\n",
       "      <td>Aug</td>\n",
       "      <td>59.4</td>\n",
       "    </tr>\n",
       "    <tr>\n",
       "      <th>8</th>\n",
       "      <td>Sep</td>\n",
       "      <td>64.4</td>\n",
       "    </tr>\n",
       "    <tr>\n",
       "      <th>9</th>\n",
       "      <td>Oct</td>\n",
       "      <td>58.5</td>\n",
       "    </tr>\n",
       "    <tr>\n",
       "      <th>10</th>\n",
       "      <td>Nov</td>\n",
       "      <td>63.3</td>\n",
       "    </tr>\n",
       "    <tr>\n",
       "      <th>11</th>\n",
       "      <td>Dec</td>\n",
       "      <td>64.5</td>\n",
       "    </tr>\n",
       "  </tbody>\n",
       "</table>\n",
       "</div>"
      ],
      "text/plain": [
       "   month  price\n",
       "0    Jan   63.9\n",
       "1    Feb   64.4\n",
       "2    Mar   66.0\n",
       "3    Apr   71.5\n",
       "4    May   70.9\n",
       "5    Jun   61.9\n",
       "6    Jul   64.4\n",
       "7    Aug   59.4\n",
       "8    Sep   64.4\n",
       "9    Oct   58.5\n",
       "10   Nov   63.3\n",
       "11   Dec   64.5"
      ]
     },
     "execution_count": 5,
     "metadata": {},
     "output_type": "execute_result"
    }
   ],
   "source": [
    "oil_df.fillna(round(oil_df.price.mean(),1))"
   ]
  },
  {
   "cell_type": "markdown",
   "id": "071fd10c",
   "metadata": {},
   "source": [
    "## (2) Melbourne housing data"
   ]
  },
  {
   "cell_type": "markdown",
   "id": "a537350f",
   "metadata": {},
   "source": [
    "**(2.1) Import the dataset <code>melbourne.csv</code>. Show the first five rows.**"
   ]
  },
  {
   "cell_type": "code",
   "execution_count": 6,
   "id": "d3736922",
   "metadata": {},
   "outputs": [
    {
     "data": {
      "text/html": [
       "<div>\n",
       "<style scoped>\n",
       "    .dataframe tbody tr th:only-of-type {\n",
       "        vertical-align: middle;\n",
       "    }\n",
       "\n",
       "    .dataframe tbody tr th {\n",
       "        vertical-align: top;\n",
       "    }\n",
       "\n",
       "    .dataframe thead th {\n",
       "        text-align: right;\n",
       "    }\n",
       "</style>\n",
       "<table border=\"1\" class=\"dataframe\">\n",
       "  <thead>\n",
       "    <tr style=\"text-align: right;\">\n",
       "      <th></th>\n",
       "      <th>Suburb</th>\n",
       "      <th>Address</th>\n",
       "      <th>Rooms</th>\n",
       "      <th>Type</th>\n",
       "      <th>Price</th>\n",
       "      <th>Method</th>\n",
       "      <th>SellerG</th>\n",
       "      <th>Date</th>\n",
       "      <th>Distance</th>\n",
       "      <th>Postcode</th>\n",
       "      <th>...</th>\n",
       "      <th>Bathroom</th>\n",
       "      <th>Car</th>\n",
       "      <th>Landsize</th>\n",
       "      <th>BuildingArea</th>\n",
       "      <th>YearBuilt</th>\n",
       "      <th>CouncilArea</th>\n",
       "      <th>Lattitude</th>\n",
       "      <th>Longtitude</th>\n",
       "      <th>Regionname</th>\n",
       "      <th>Propertycount</th>\n",
       "    </tr>\n",
       "  </thead>\n",
       "  <tbody>\n",
       "    <tr>\n",
       "      <th>0</th>\n",
       "      <td>Abbotsford</td>\n",
       "      <td>85 Turner St</td>\n",
       "      <td>2</td>\n",
       "      <td>h</td>\n",
       "      <td>1480000.0</td>\n",
       "      <td>S</td>\n",
       "      <td>Biggin</td>\n",
       "      <td>3/12/2016</td>\n",
       "      <td>2.5</td>\n",
       "      <td>3067.0</td>\n",
       "      <td>...</td>\n",
       "      <td>1.0</td>\n",
       "      <td>1.0</td>\n",
       "      <td>202.0</td>\n",
       "      <td>NaN</td>\n",
       "      <td>NaN</td>\n",
       "      <td>Yarra</td>\n",
       "      <td>-37.7996</td>\n",
       "      <td>144.9984</td>\n",
       "      <td>Northern Metropolitan</td>\n",
       "      <td>4019.0</td>\n",
       "    </tr>\n",
       "    <tr>\n",
       "      <th>1</th>\n",
       "      <td>Abbotsford</td>\n",
       "      <td>25 Bloomburg St</td>\n",
       "      <td>2</td>\n",
       "      <td>h</td>\n",
       "      <td>1035000.0</td>\n",
       "      <td>S</td>\n",
       "      <td>Biggin</td>\n",
       "      <td>4/02/2016</td>\n",
       "      <td>2.5</td>\n",
       "      <td>3067.0</td>\n",
       "      <td>...</td>\n",
       "      <td>1.0</td>\n",
       "      <td>0.0</td>\n",
       "      <td>156.0</td>\n",
       "      <td>79.0</td>\n",
       "      <td>1900.0</td>\n",
       "      <td>Yarra</td>\n",
       "      <td>-37.8079</td>\n",
       "      <td>144.9934</td>\n",
       "      <td>Northern Metropolitan</td>\n",
       "      <td>4019.0</td>\n",
       "    </tr>\n",
       "    <tr>\n",
       "      <th>2</th>\n",
       "      <td>Abbotsford</td>\n",
       "      <td>5 Charles St</td>\n",
       "      <td>3</td>\n",
       "      <td>h</td>\n",
       "      <td>1465000.0</td>\n",
       "      <td>SP</td>\n",
       "      <td>Biggin</td>\n",
       "      <td>4/03/2017</td>\n",
       "      <td>2.5</td>\n",
       "      <td>3067.0</td>\n",
       "      <td>...</td>\n",
       "      <td>2.0</td>\n",
       "      <td>0.0</td>\n",
       "      <td>134.0</td>\n",
       "      <td>150.0</td>\n",
       "      <td>1900.0</td>\n",
       "      <td>Yarra</td>\n",
       "      <td>-37.8093</td>\n",
       "      <td>144.9944</td>\n",
       "      <td>Northern Metropolitan</td>\n",
       "      <td>4019.0</td>\n",
       "    </tr>\n",
       "    <tr>\n",
       "      <th>3</th>\n",
       "      <td>Abbotsford</td>\n",
       "      <td>40 Federation La</td>\n",
       "      <td>3</td>\n",
       "      <td>h</td>\n",
       "      <td>850000.0</td>\n",
       "      <td>PI</td>\n",
       "      <td>Biggin</td>\n",
       "      <td>4/03/2017</td>\n",
       "      <td>2.5</td>\n",
       "      <td>3067.0</td>\n",
       "      <td>...</td>\n",
       "      <td>2.0</td>\n",
       "      <td>1.0</td>\n",
       "      <td>94.0</td>\n",
       "      <td>NaN</td>\n",
       "      <td>NaN</td>\n",
       "      <td>Yarra</td>\n",
       "      <td>-37.7969</td>\n",
       "      <td>144.9969</td>\n",
       "      <td>Northern Metropolitan</td>\n",
       "      <td>4019.0</td>\n",
       "    </tr>\n",
       "    <tr>\n",
       "      <th>4</th>\n",
       "      <td>Abbotsford</td>\n",
       "      <td>55a Park St</td>\n",
       "      <td>4</td>\n",
       "      <td>h</td>\n",
       "      <td>1600000.0</td>\n",
       "      <td>VB</td>\n",
       "      <td>Nelson</td>\n",
       "      <td>4/06/2016</td>\n",
       "      <td>2.5</td>\n",
       "      <td>3067.0</td>\n",
       "      <td>...</td>\n",
       "      <td>1.0</td>\n",
       "      <td>2.0</td>\n",
       "      <td>120.0</td>\n",
       "      <td>142.0</td>\n",
       "      <td>2014.0</td>\n",
       "      <td>Yarra</td>\n",
       "      <td>-37.8072</td>\n",
       "      <td>144.9941</td>\n",
       "      <td>Northern Metropolitan</td>\n",
       "      <td>4019.0</td>\n",
       "    </tr>\n",
       "  </tbody>\n",
       "</table>\n",
       "<p>5 rows × 21 columns</p>\n",
       "</div>"
      ],
      "text/plain": [
       "       Suburb           Address  Rooms Type      Price Method SellerG  \\\n",
       "0  Abbotsford      85 Turner St      2    h  1480000.0      S  Biggin   \n",
       "1  Abbotsford   25 Bloomburg St      2    h  1035000.0      S  Biggin   \n",
       "2  Abbotsford      5 Charles St      3    h  1465000.0     SP  Biggin   \n",
       "3  Abbotsford  40 Federation La      3    h   850000.0     PI  Biggin   \n",
       "4  Abbotsford       55a Park St      4    h  1600000.0     VB  Nelson   \n",
       "\n",
       "        Date  Distance  Postcode  ...  Bathroom  Car  Landsize  BuildingArea  \\\n",
       "0  3/12/2016       2.5    3067.0  ...       1.0  1.0     202.0           NaN   \n",
       "1  4/02/2016       2.5    3067.0  ...       1.0  0.0     156.0          79.0   \n",
       "2  4/03/2017       2.5    3067.0  ...       2.0  0.0     134.0         150.0   \n",
       "3  4/03/2017       2.5    3067.0  ...       2.0  1.0      94.0           NaN   \n",
       "4  4/06/2016       2.5    3067.0  ...       1.0  2.0     120.0         142.0   \n",
       "\n",
       "   YearBuilt  CouncilArea Lattitude  Longtitude             Regionname  \\\n",
       "0        NaN        Yarra  -37.7996    144.9984  Northern Metropolitan   \n",
       "1     1900.0        Yarra  -37.8079    144.9934  Northern Metropolitan   \n",
       "2     1900.0        Yarra  -37.8093    144.9944  Northern Metropolitan   \n",
       "3        NaN        Yarra  -37.7969    144.9969  Northern Metropolitan   \n",
       "4     2014.0        Yarra  -37.8072    144.9941  Northern Metropolitan   \n",
       "\n",
       "  Propertycount  \n",
       "0        4019.0  \n",
       "1        4019.0  \n",
       "2        4019.0  \n",
       "3        4019.0  \n",
       "4        4019.0  \n",
       "\n",
       "[5 rows x 21 columns]"
      ]
     },
     "execution_count": 6,
     "metadata": {},
     "output_type": "execute_result"
    }
   ],
   "source": [
    "melbourne_df = pd.read_csv(\"../dataset/melbourne.csv\")\n",
    "melbourne_df.head(5)"
   ]
  },
  {
   "cell_type": "markdown",
   "id": "66b8afb1",
   "metadata": {},
   "source": [
    "**(2.2) Select the data for the following suburbs. Store the result as a new dataframe and use it to answer the remaining questions. Show the first five rows.** <br>\n",
    "<code>Reservoir, Richmond, Brunswick, Bentleigh East, Coburg, Preston</code>"
   ]
  },
  {
   "cell_type": "code",
   "execution_count": 7,
   "id": "0cd87404",
   "metadata": {},
   "outputs": [
    {
     "data": {
      "text/html": [
       "<div>\n",
       "<style scoped>\n",
       "    .dataframe tbody tr th:only-of-type {\n",
       "        vertical-align: middle;\n",
       "    }\n",
       "\n",
       "    .dataframe tbody tr th {\n",
       "        vertical-align: top;\n",
       "    }\n",
       "\n",
       "    .dataframe thead th {\n",
       "        text-align: right;\n",
       "    }\n",
       "</style>\n",
       "<table border=\"1\" class=\"dataframe\">\n",
       "  <thead>\n",
       "    <tr style=\"text-align: right;\">\n",
       "      <th></th>\n",
       "      <th>Suburb</th>\n",
       "      <th>Address</th>\n",
       "      <th>Rooms</th>\n",
       "      <th>Type</th>\n",
       "      <th>Price</th>\n",
       "      <th>Method</th>\n",
       "      <th>SellerG</th>\n",
       "      <th>Date</th>\n",
       "      <th>Distance</th>\n",
       "      <th>Postcode</th>\n",
       "      <th>...</th>\n",
       "      <th>Bathroom</th>\n",
       "      <th>Car</th>\n",
       "      <th>Landsize</th>\n",
       "      <th>BuildingArea</th>\n",
       "      <th>YearBuilt</th>\n",
       "      <th>CouncilArea</th>\n",
       "      <th>Lattitude</th>\n",
       "      <th>Longtitude</th>\n",
       "      <th>Regionname</th>\n",
       "      <th>Propertycount</th>\n",
       "    </tr>\n",
       "  </thead>\n",
       "  <tbody>\n",
       "    <tr>\n",
       "      <th>787</th>\n",
       "      <td>Bentleigh East</td>\n",
       "      <td>18 Mervin St</td>\n",
       "      <td>2</td>\n",
       "      <td>h</td>\n",
       "      <td>1410000.0</td>\n",
       "      <td>S</td>\n",
       "      <td>hockingstuart</td>\n",
       "      <td>3/09/2016</td>\n",
       "      <td>13.9</td>\n",
       "      <td>3165.0</td>\n",
       "      <td>...</td>\n",
       "      <td>1.0</td>\n",
       "      <td>2.0</td>\n",
       "      <td>768.0</td>\n",
       "      <td>NaN</td>\n",
       "      <td>NaN</td>\n",
       "      <td>Glen Eira</td>\n",
       "      <td>-37.9305</td>\n",
       "      <td>145.0547</td>\n",
       "      <td>Southern Metropolitan</td>\n",
       "      <td>10969.0</td>\n",
       "    </tr>\n",
       "    <tr>\n",
       "      <th>788</th>\n",
       "      <td>Bentleigh East</td>\n",
       "      <td>1/69 Purtell St</td>\n",
       "      <td>3</td>\n",
       "      <td>t</td>\n",
       "      <td>760000.0</td>\n",
       "      <td>PI</td>\n",
       "      <td>hockingstuart</td>\n",
       "      <td>3/09/2016</td>\n",
       "      <td>13.9</td>\n",
       "      <td>3165.0</td>\n",
       "      <td>...</td>\n",
       "      <td>1.0</td>\n",
       "      <td>2.0</td>\n",
       "      <td>287.0</td>\n",
       "      <td>NaN</td>\n",
       "      <td>NaN</td>\n",
       "      <td>Glen Eira</td>\n",
       "      <td>-37.9261</td>\n",
       "      <td>145.0566</td>\n",
       "      <td>Southern Metropolitan</td>\n",
       "      <td>10969.0</td>\n",
       "    </tr>\n",
       "    <tr>\n",
       "      <th>789</th>\n",
       "      <td>Bentleigh East</td>\n",
       "      <td>30 Veronica St</td>\n",
       "      <td>2</td>\n",
       "      <td>h</td>\n",
       "      <td>825000.0</td>\n",
       "      <td>S</td>\n",
       "      <td>Buxton</td>\n",
       "      <td>3/09/2016</td>\n",
       "      <td>13.9</td>\n",
       "      <td>3165.0</td>\n",
       "      <td>...</td>\n",
       "      <td>2.0</td>\n",
       "      <td>1.0</td>\n",
       "      <td>176.0</td>\n",
       "      <td>125.0</td>\n",
       "      <td>2008.0</td>\n",
       "      <td>Glen Eira</td>\n",
       "      <td>-37.9237</td>\n",
       "      <td>145.0763</td>\n",
       "      <td>Southern Metropolitan</td>\n",
       "      <td>10969.0</td>\n",
       "    </tr>\n",
       "    <tr>\n",
       "      <th>790</th>\n",
       "      <td>Bentleigh East</td>\n",
       "      <td>2a Bessie St</td>\n",
       "      <td>2</td>\n",
       "      <td>u</td>\n",
       "      <td>746000.0</td>\n",
       "      <td>S</td>\n",
       "      <td>hockingstuart</td>\n",
       "      <td>3/12/2016</td>\n",
       "      <td>13.9</td>\n",
       "      <td>3165.0</td>\n",
       "      <td>...</td>\n",
       "      <td>1.0</td>\n",
       "      <td>2.0</td>\n",
       "      <td>281.0</td>\n",
       "      <td>95.0</td>\n",
       "      <td>2002.0</td>\n",
       "      <td>Glen Eira</td>\n",
       "      <td>-37.9255</td>\n",
       "      <td>145.0796</td>\n",
       "      <td>Southern Metropolitan</td>\n",
       "      <td>10969.0</td>\n",
       "    </tr>\n",
       "    <tr>\n",
       "      <th>791</th>\n",
       "      <td>Bentleigh East</td>\n",
       "      <td>14a Daphne St</td>\n",
       "      <td>1</td>\n",
       "      <td>u</td>\n",
       "      <td>580000.0</td>\n",
       "      <td>S</td>\n",
       "      <td>Woodards</td>\n",
       "      <td>3/12/2016</td>\n",
       "      <td>13.9</td>\n",
       "      <td>3165.0</td>\n",
       "      <td>...</td>\n",
       "      <td>1.0</td>\n",
       "      <td>1.0</td>\n",
       "      <td>105.0</td>\n",
       "      <td>NaN</td>\n",
       "      <td>NaN</td>\n",
       "      <td>Glen Eira</td>\n",
       "      <td>-37.9181</td>\n",
       "      <td>145.0586</td>\n",
       "      <td>Southern Metropolitan</td>\n",
       "      <td>10969.0</td>\n",
       "    </tr>\n",
       "  </tbody>\n",
       "</table>\n",
       "<p>5 rows × 21 columns</p>\n",
       "</div>"
      ],
      "text/plain": [
       "             Suburb          Address  Rooms Type      Price Method  \\\n",
       "787  Bentleigh East     18 Mervin St      2    h  1410000.0      S   \n",
       "788  Bentleigh East  1/69 Purtell St      3    t   760000.0     PI   \n",
       "789  Bentleigh East   30 Veronica St      2    h   825000.0      S   \n",
       "790  Bentleigh East     2a Bessie St      2    u   746000.0      S   \n",
       "791  Bentleigh East    14a Daphne St      1    u   580000.0      S   \n",
       "\n",
       "           SellerG       Date  Distance  Postcode  ...  Bathroom  Car  \\\n",
       "787  hockingstuart  3/09/2016      13.9    3165.0  ...       1.0  2.0   \n",
       "788  hockingstuart  3/09/2016      13.9    3165.0  ...       1.0  2.0   \n",
       "789         Buxton  3/09/2016      13.9    3165.0  ...       2.0  1.0   \n",
       "790  hockingstuart  3/12/2016      13.9    3165.0  ...       1.0  2.0   \n",
       "791       Woodards  3/12/2016      13.9    3165.0  ...       1.0  1.0   \n",
       "\n",
       "     Landsize  BuildingArea  YearBuilt  CouncilArea Lattitude  Longtitude  \\\n",
       "787     768.0           NaN        NaN    Glen Eira  -37.9305    145.0547   \n",
       "788     287.0           NaN        NaN    Glen Eira  -37.9261    145.0566   \n",
       "789     176.0         125.0     2008.0    Glen Eira  -37.9237    145.0763   \n",
       "790     281.0          95.0     2002.0    Glen Eira  -37.9255    145.0796   \n",
       "791     105.0           NaN        NaN    Glen Eira  -37.9181    145.0586   \n",
       "\n",
       "                Regionname Propertycount  \n",
       "787  Southern Metropolitan       10969.0  \n",
       "788  Southern Metropolitan       10969.0  \n",
       "789  Southern Metropolitan       10969.0  \n",
       "790  Southern Metropolitan       10969.0  \n",
       "791  Southern Metropolitan       10969.0  \n",
       "\n",
       "[5 rows x 21 columns]"
      ]
     },
     "execution_count": 7,
     "metadata": {},
     "output_type": "execute_result"
    }
   ],
   "source": [
    "melbourne_sub = melbourne_df[melbourne_df.Suburb.isin(['Reservoir', 'Richmond', 'Brunswick', 'Bentleigh East', 'Coburg', 'Preston'])]\n",
    "melbourne_sub.head(5)"
   ]
  },
  {
   "cell_type": "markdown",
   "id": "43c0f3b4",
   "metadata": {},
   "source": [
    "**(2.3) Calculate the average price in each suburb. Display the top three suburbs with the highest average price and round the result to one decimal place.**<br>"
   ]
  },
  {
   "cell_type": "code",
   "execution_count": 8,
   "id": "5c720cc2",
   "metadata": {},
   "outputs": [
    {
     "data": {
      "text/plain": [
       "Suburb\n",
       "Bentleigh East    1085591.9\n",
       "Richmond          1083564.4\n",
       "Brunswick         1013171.2\n",
       "Name: Price, dtype: float64"
      ]
     },
     "execution_count": 8,
     "metadata": {},
     "output_type": "execute_result"
    }
   ],
   "source": [
    "# [solution-1] Use groupby\n",
    "\n",
    "# step1: Get groupby object\n",
    "gb_suburb = melbourne_sub.groupby(\"Suburb\")\n",
    "\n",
    "# step2: Calculate the average price for each suburb\n",
    "avg_price = gb_suburb.Price.mean()\n",
    "\n",
    "# step3: Sort the series\n",
    "avg_price.sort_values(ascending = False).head(3).round(1)\n",
    "\n",
    "# Write step1-3 in one line\n",
    "#melbourne_sub.groupby(\"Suburb\").Price.mean().sort_values(ascending = False).head(3).round(1)"
   ]
  },
  {
   "cell_type": "code",
   "execution_count": 9,
   "id": "a79b7076",
   "metadata": {},
   "outputs": [
    {
     "data": {
      "text/html": [
       "<div>\n",
       "<style scoped>\n",
       "    .dataframe tbody tr th:only-of-type {\n",
       "        vertical-align: middle;\n",
       "    }\n",
       "\n",
       "    .dataframe tbody tr th {\n",
       "        vertical-align: top;\n",
       "    }\n",
       "\n",
       "    .dataframe thead th {\n",
       "        text-align: right;\n",
       "    }\n",
       "</style>\n",
       "<table border=\"1\" class=\"dataframe\">\n",
       "  <thead>\n",
       "    <tr style=\"text-align: right;\">\n",
       "      <th></th>\n",
       "      <th>Price</th>\n",
       "    </tr>\n",
       "    <tr>\n",
       "      <th>Suburb</th>\n",
       "      <th></th>\n",
       "    </tr>\n",
       "  </thead>\n",
       "  <tbody>\n",
       "    <tr>\n",
       "      <th>Bentleigh East</th>\n",
       "      <td>1085591.9</td>\n",
       "    </tr>\n",
       "    <tr>\n",
       "      <th>Richmond</th>\n",
       "      <td>1083564.4</td>\n",
       "    </tr>\n",
       "    <tr>\n",
       "      <th>Brunswick</th>\n",
       "      <td>1013171.2</td>\n",
       "    </tr>\n",
       "  </tbody>\n",
       "</table>\n",
       "</div>"
      ],
      "text/plain": [
       "                    Price\n",
       "Suburb                   \n",
       "Bentleigh East  1085591.9\n",
       "Richmond        1083564.4\n",
       "Brunswick       1013171.2"
      ]
     },
     "execution_count": 9,
     "metadata": {},
     "output_type": "execute_result"
    }
   ],
   "source": [
    "# [solution-2] Use pivot_table\n",
    "melbourne_sub.pivot_table(index = \"Suburb\", values = \"Price\", aggfunc = \"mean\").sort_values(by = \"Price\",ascending = False).head(3).round(1)"
   ]
  },
  {
   "cell_type": "markdown",
   "id": "73a079ce",
   "metadata": {},
   "source": [
    "**(2.4) What is the largest </code>land size</code> in each suburb?**<br>\n",
    "Hint: Column \"Landsize\""
   ]
  },
  {
   "cell_type": "code",
   "execution_count": 10,
   "id": "e9b15f4e",
   "metadata": {},
   "outputs": [
    {
     "data": {
      "text/plain": [
       "Suburb\n",
       "Bentleigh East     1080.0\n",
       "Brunswick          4676.0\n",
       "Coburg             3747.0\n",
       "Preston            3037.0\n",
       "Reservoir         41400.0\n",
       "Richmond          14294.0\n",
       "Name: Landsize, dtype: float64"
      ]
     },
     "execution_count": 10,
     "metadata": {},
     "output_type": "execute_result"
    }
   ],
   "source": [
    "melbourne_sub.groupby(\"Suburb\").Landsize.max()"
   ]
  },
  {
   "cell_type": "markdown",
   "id": "aabfd56f",
   "metadata": {},
   "source": [
    "**(2.5) What is the highest price in each region?**<br>\n",
    "Hint: Column \"Regionname\""
   ]
  },
  {
   "cell_type": "code",
   "execution_count": 11,
   "id": "73478fcf",
   "metadata": {},
   "outputs": [
    {
     "data": {
      "text/plain": [
       "Regionname\n",
       "Northern Metropolitan    3335000.0\n",
       "Southern Metropolitan    1962000.0\n",
       "Name: Price, dtype: float64"
      ]
     },
     "execution_count": 11,
     "metadata": {},
     "output_type": "execute_result"
    }
   ],
   "source": [
    "melbourne_sub.groupby(\"Regionname\").Price.max()"
   ]
  },
  {
   "cell_type": "markdown",
   "id": "fda74ab0",
   "metadata": {},
   "source": [
    "## (3) US National Parks and their animal and plant species\n",
    "\n",
    "The dataset \"species.csv\" provides information on the presence and status of species in US national parks. Each park species record includes a species ID, park name, taxonomic information, scientific name, one or more common names, record status, occurrence (verification of species presence in park), nativeness (species native or foreign to park), abundance (presence and visibility of species in park), seasonality (season and nature of presence in park), and conservation status (species classification according to US Fish & Wildlife Service). Taxonomic classes have been translated from Latin to English for species categorization; order, family, and scientific name (genus, species, subspecies) are in Latin."
   ]
  },
  {
   "cell_type": "markdown",
   "id": "81286399",
   "metadata": {},
   "source": [
    "**(3.1) Import the dataset <code>species.csv</code>. Show the summary of this dataset including column names and their data types.** (You will get a warning message about the data type. You can ignore this message, it will not affect the following exercises.)"
   ]
  },
  {
   "cell_type": "code",
   "execution_count": 12,
   "id": "73f7b4ca",
   "metadata": {},
   "outputs": [
    {
     "name": "stdout",
     "output_type": "stream",
     "text": [
      "<class 'pandas.core.frame.DataFrame'>\n",
      "RangeIndex: 119248 entries, 0 to 119247\n",
      "Data columns (total 14 columns):\n",
      " #   Column               Non-Null Count   Dtype \n",
      "---  ------               --------------   ----- \n",
      " 0   Species ID           119248 non-null  object\n",
      " 1   Park Name            119248 non-null  object\n",
      " 2   Category             119248 non-null  object\n",
      " 3   Order                117776 non-null  object\n",
      " 4   Family               117736 non-null  object\n",
      " 5   Scientific Name      119248 non-null  object\n",
      " 6   Common Names         119248 non-null  object\n",
      " 7   Record Status        119248 non-null  object\n",
      " 8   Occurrence           99106 non-null   object\n",
      " 9   Nativeness           94203 non-null   object\n",
      " 10  Abundance            76306 non-null   object\n",
      " 11  Seasonality          20157 non-null   object\n",
      " 12  Conservation Status  4718 non-null    object\n",
      " 13  Unnamed: 13          5 non-null       object\n",
      "dtypes: object(14)\n",
      "memory usage: 12.7+ MB\n"
     ]
    },
    {
     "name": "stderr",
     "output_type": "stream",
     "text": [
      "/var/folders/hx/z23rbxyx5xv63zy53xdl10qw0000gp/T/ipykernel_65265/2837194896.py:1: DtypeWarning: Columns (13) have mixed types. Specify dtype option on import or set low_memory=False.\n",
      "  species_raw_df = pd.read_csv(\"../dataset/species.csv\")\n"
     ]
    }
   ],
   "source": [
    "species_raw_df = pd.read_csv(\"../dataset/species.csv\")\n",
    "species_raw_df.info()"
   ]
  },
  {
   "cell_type": "markdown",
   "id": "3f3c0a57",
   "metadata": {},
   "source": [
    "**(3.2) Select all species belonging to \"Canidae\" family. Store the data as a new dataframe called <code>species_df</code> with the following columns: <code>'Species ID', 'Park Name', 'Common Names', 'Family', 'Abundance'</code>. Use this dataframe to answer questions 3.3 to 3.5.**"
   ]
  },
  {
   "cell_type": "code",
   "execution_count": 13,
   "id": "56fa48ba",
   "metadata": {},
   "outputs": [
    {
     "data": {
      "text/html": [
       "<div>\n",
       "<style scoped>\n",
       "    .dataframe tbody tr th:only-of-type {\n",
       "        vertical-align: middle;\n",
       "    }\n",
       "\n",
       "    .dataframe tbody tr th {\n",
       "        vertical-align: top;\n",
       "    }\n",
       "\n",
       "    .dataframe thead th {\n",
       "        text-align: right;\n",
       "    }\n",
       "</style>\n",
       "<table border=\"1\" class=\"dataframe\">\n",
       "  <thead>\n",
       "    <tr style=\"text-align: right;\">\n",
       "      <th></th>\n",
       "      <th>Species ID</th>\n",
       "      <th>Park Name</th>\n",
       "      <th>Common Names</th>\n",
       "      <th>Family</th>\n",
       "      <th>Abundance</th>\n",
       "    </tr>\n",
       "  </thead>\n",
       "  <tbody>\n",
       "    <tr>\n",
       "      <th>2</th>\n",
       "      <td>ACAD-1002</td>\n",
       "      <td>Acadia National Park</td>\n",
       "      <td>Coyote, Eastern Coyote</td>\n",
       "      <td>Canidae</td>\n",
       "      <td>Common</td>\n",
       "    </tr>\n",
       "    <tr>\n",
       "      <th>3</th>\n",
       "      <td>ACAD-1003</td>\n",
       "      <td>Acadia National Park</td>\n",
       "      <td>Eastern Timber Wolf, Gray Wolf, Timber Wolf</td>\n",
       "      <td>Canidae</td>\n",
       "      <td>NaN</td>\n",
       "    </tr>\n",
       "    <tr>\n",
       "      <th>4</th>\n",
       "      <td>ACAD-1004</td>\n",
       "      <td>Acadia National Park</td>\n",
       "      <td>Black Fox, Cross Fox, Eastern Red Fox, Fox, Re...</td>\n",
       "      <td>Canidae</td>\n",
       "      <td>Common</td>\n",
       "    </tr>\n",
       "    <tr>\n",
       "      <th>1713</th>\n",
       "      <td>ARCH-1004</td>\n",
       "      <td>Arches National Park</td>\n",
       "      <td>Coyote</td>\n",
       "      <td>Canidae</td>\n",
       "      <td>Uncommon</td>\n",
       "    </tr>\n",
       "    <tr>\n",
       "      <th>1714</th>\n",
       "      <td>ARCH-1005</td>\n",
       "      <td>Arches National Park</td>\n",
       "      <td>Common Gray Fox</td>\n",
       "      <td>Canidae</td>\n",
       "      <td>Uncommon</td>\n",
       "    </tr>\n",
       "  </tbody>\n",
       "</table>\n",
       "</div>"
      ],
      "text/plain": [
       "     Species ID             Park Name  \\\n",
       "2     ACAD-1002  Acadia National Park   \n",
       "3     ACAD-1003  Acadia National Park   \n",
       "4     ACAD-1004  Acadia National Park   \n",
       "1713  ARCH-1004  Arches National Park   \n",
       "1714  ARCH-1005  Arches National Park   \n",
       "\n",
       "                                           Common Names   Family Abundance  \n",
       "2                                Coyote, Eastern Coyote  Canidae    Common  \n",
       "3           Eastern Timber Wolf, Gray Wolf, Timber Wolf  Canidae       NaN  \n",
       "4     Black Fox, Cross Fox, Eastern Red Fox, Fox, Re...  Canidae    Common  \n",
       "1713                                             Coyote  Canidae  Uncommon  \n",
       "1714                                    Common Gray Fox  Canidae  Uncommon  "
      ]
     },
     "execution_count": 13,
     "metadata": {},
     "output_type": "execute_result"
    }
   ],
   "source": [
    "# [solution-1] \n",
    "\n",
    "# step1: Select the species belonging to \"Canidae\" family \n",
    "df_temp = species_raw_df[species_raw_df[\"Family\"]==\"Canidae\"]\n",
    "\n",
    "# step2: Select columns\n",
    "species_df = df_temp.loc[:,['Species ID', 'Park Name', 'Common Names', 'Family', 'Abundance']]\n",
    "\n",
    "species_df.head(5)"
   ]
  },
  {
   "cell_type": "code",
   "execution_count": 14,
   "id": "29219777",
   "metadata": {},
   "outputs": [
    {
     "data": {
      "text/html": [
       "<div>\n",
       "<style scoped>\n",
       "    .dataframe tbody tr th:only-of-type {\n",
       "        vertical-align: middle;\n",
       "    }\n",
       "\n",
       "    .dataframe tbody tr th {\n",
       "        vertical-align: top;\n",
       "    }\n",
       "\n",
       "    .dataframe thead th {\n",
       "        text-align: right;\n",
       "    }\n",
       "</style>\n",
       "<table border=\"1\" class=\"dataframe\">\n",
       "  <thead>\n",
       "    <tr style=\"text-align: right;\">\n",
       "      <th></th>\n",
       "      <th>Species ID</th>\n",
       "      <th>Park Name</th>\n",
       "      <th>Common Names</th>\n",
       "      <th>Family</th>\n",
       "      <th>Abundance</th>\n",
       "    </tr>\n",
       "  </thead>\n",
       "  <tbody>\n",
       "    <tr>\n",
       "      <th>2</th>\n",
       "      <td>ACAD-1002</td>\n",
       "      <td>Acadia National Park</td>\n",
       "      <td>Coyote, Eastern Coyote</td>\n",
       "      <td>Canidae</td>\n",
       "      <td>Common</td>\n",
       "    </tr>\n",
       "    <tr>\n",
       "      <th>3</th>\n",
       "      <td>ACAD-1003</td>\n",
       "      <td>Acadia National Park</td>\n",
       "      <td>Eastern Timber Wolf, Gray Wolf, Timber Wolf</td>\n",
       "      <td>Canidae</td>\n",
       "      <td>NaN</td>\n",
       "    </tr>\n",
       "    <tr>\n",
       "      <th>4</th>\n",
       "      <td>ACAD-1004</td>\n",
       "      <td>Acadia National Park</td>\n",
       "      <td>Black Fox, Cross Fox, Eastern Red Fox, Fox, Re...</td>\n",
       "      <td>Canidae</td>\n",
       "      <td>Common</td>\n",
       "    </tr>\n",
       "    <tr>\n",
       "      <th>1713</th>\n",
       "      <td>ARCH-1004</td>\n",
       "      <td>Arches National Park</td>\n",
       "      <td>Coyote</td>\n",
       "      <td>Canidae</td>\n",
       "      <td>Uncommon</td>\n",
       "    </tr>\n",
       "    <tr>\n",
       "      <th>1714</th>\n",
       "      <td>ARCH-1005</td>\n",
       "      <td>Arches National Park</td>\n",
       "      <td>Common Gray Fox</td>\n",
       "      <td>Canidae</td>\n",
       "      <td>Uncommon</td>\n",
       "    </tr>\n",
       "  </tbody>\n",
       "</table>\n",
       "</div>"
      ],
      "text/plain": [
       "     Species ID             Park Name  \\\n",
       "2     ACAD-1002  Acadia National Park   \n",
       "3     ACAD-1003  Acadia National Park   \n",
       "4     ACAD-1004  Acadia National Park   \n",
       "1713  ARCH-1004  Arches National Park   \n",
       "1714  ARCH-1005  Arches National Park   \n",
       "\n",
       "                                           Common Names   Family Abundance  \n",
       "2                                Coyote, Eastern Coyote  Canidae    Common  \n",
       "3           Eastern Timber Wolf, Gray Wolf, Timber Wolf  Canidae       NaN  \n",
       "4     Black Fox, Cross Fox, Eastern Red Fox, Fox, Re...  Canidae    Common  \n",
       "1713                                             Coyote  Canidae  Uncommon  \n",
       "1714                                    Common Gray Fox  Canidae  Uncommon  "
      ]
     },
     "execution_count": 14,
     "metadata": {},
     "output_type": "execute_result"
    }
   ],
   "source": [
    "# [solution-2] step1+step2\n",
    "species_df = species_raw_df.loc[species_raw_df[\"Family\"]==\"Canidae\",['Species ID','Park Name', 'Common Names', 'Family', 'Abundance']]\n",
    "species_df.head(5)"
   ]
  },
  {
   "cell_type": "markdown",
   "id": "75d9de14",
   "metadata": {},
   "source": [
    "**(3.3) Replace missing values with \"Unknown\".** (Apply this change directly to the dataframe.)"
   ]
  },
  {
   "cell_type": "code",
   "execution_count": 15,
   "id": "06267923",
   "metadata": {},
   "outputs": [],
   "source": [
    "species_df.fillna(\"Unknown\", inplace = True)"
   ]
  },
  {
   "cell_type": "markdown",
   "id": "6362d82a",
   "metadata": {},
   "source": [
    "**(3.4) Shows the number of species in each <code>Abundance</code> category.**<br>\n",
    "Example:<br>\n",
    "Uncommon:   95<br>\n",
    "Common:     42<br>\n",
    "...<br>\n",
    "..."
   ]
  },
  {
   "cell_type": "code",
   "execution_count": 16,
   "id": "bf6ea344",
   "metadata": {},
   "outputs": [
    {
     "data": {
      "text/plain": [
       "Unknown       95\n",
       "Common        42\n",
       "Uncommon      37\n",
       "Rare          15\n",
       "Occasional     7\n",
       "Abundant       4\n",
       "Name: Abundance, dtype: int64"
      ]
     },
     "execution_count": 16,
     "metadata": {},
     "output_type": "execute_result"
    }
   ],
   "source": [
    "# [solution-1] Calculate the frequency of each unique value (sort in descending order)\n",
    "species_df.Abundance.value_counts()"
   ]
  },
  {
   "cell_type": "code",
   "execution_count": 17,
   "id": "21a3c805",
   "metadata": {},
   "outputs": [
    {
     "data": {
      "text/plain": [
       "Abundance\n",
       "Abundant       4\n",
       "Common        42\n",
       "Occasional     7\n",
       "Rare          15\n",
       "Uncommon      37\n",
       "Unknown       95\n",
       "dtype: int64"
      ]
     },
     "execution_count": 17,
     "metadata": {},
     "output_type": "execute_result"
    }
   ],
   "source": [
    "# [solution-2] Group the data by the categorical column and count the number of rows (species) in each group \n",
    "species_df.groupby(\"Abundance\").size()"
   ]
  },
  {
   "cell_type": "markdown",
   "id": "fca78786",
   "metadata": {},
   "source": [
    "**(3.5) Calculate the number of species in each park and show the top five parks with the largest number of species.**<br>\n",
    "Hint: column <code>Park Name</code>."
   ]
  },
  {
   "cell_type": "code",
   "execution_count": 18,
   "id": "89e2a5e1",
   "metadata": {},
   "outputs": [
    {
     "data": {
      "text/plain": [
       "Park Name\n",
       "Death Valley National Park             9\n",
       "Great Basin National Park              7\n",
       "Great Smoky Mountains National Park    7\n",
       "Mesa Verde National Park               5\n",
       "Petrified Forest National Park         5\n",
       "dtype: int64"
      ]
     },
     "execution_count": 18,
     "metadata": {},
     "output_type": "execute_result"
    }
   ],
   "source": [
    "# [solution-1]\n",
    "species_df.value_counts(\"Park Name\").head()"
   ]
  },
  {
   "cell_type": "code",
   "execution_count": 19,
   "id": "9e00ffc2",
   "metadata": {},
   "outputs": [
    {
     "data": {
      "text/plain": [
       "Park Name\n",
       "Death Valley National Park             9\n",
       "Great Basin National Park              7\n",
       "Great Smoky Mountains National Park    7\n",
       "Mesa Verde National Park               5\n",
       "Petrified Forest National Park         5\n",
       "dtype: int64"
      ]
     },
     "execution_count": 19,
     "metadata": {},
     "output_type": "execute_result"
    }
   ],
   "source": [
    "# [solution-2]\n",
    "species_df.groupby(\"Park Name\").size().sort_values(ascending = False).head()"
   ]
  },
  {
   "cell_type": "markdown",
   "id": "e8b3d5f7",
   "metadata": {},
   "source": [
    "## (4) Customer profile analysis\n",
    "A mall has gathered data on their customers through a loyalty program. They have information about age, gender, annual income and spending score. Spending Score is a measure from 0 to 100, created for each customer based on customer behavior and purchasing data."
   ]
  },
  {
   "cell_type": "markdown",
   "id": "e54be660",
   "metadata": {},
   "source": [
    "**(4.1) Import dataset <code>customers.csv</code> and use the column <code>CustomerID</code> as the index. Display the first five rows.**<br>\n",
    "Hint: pd.read_csv(\"filename\", index_col = \"CustomerID\")"
   ]
  },
  {
   "cell_type": "code",
   "execution_count": 20,
   "id": "1b95771f",
   "metadata": {},
   "outputs": [
    {
     "data": {
      "text/html": [
       "<div>\n",
       "<style scoped>\n",
       "    .dataframe tbody tr th:only-of-type {\n",
       "        vertical-align: middle;\n",
       "    }\n",
       "\n",
       "    .dataframe tbody tr th {\n",
       "        vertical-align: top;\n",
       "    }\n",
       "\n",
       "    .dataframe thead th {\n",
       "        text-align: right;\n",
       "    }\n",
       "</style>\n",
       "<table border=\"1\" class=\"dataframe\">\n",
       "  <thead>\n",
       "    <tr style=\"text-align: right;\">\n",
       "      <th></th>\n",
       "      <th>Gender</th>\n",
       "      <th>Age</th>\n",
       "      <th>Annual Income (k$)</th>\n",
       "      <th>Spending Score (1-100)</th>\n",
       "    </tr>\n",
       "    <tr>\n",
       "      <th>CustomerID</th>\n",
       "      <th></th>\n",
       "      <th></th>\n",
       "      <th></th>\n",
       "      <th></th>\n",
       "    </tr>\n",
       "  </thead>\n",
       "  <tbody>\n",
       "    <tr>\n",
       "      <th>1</th>\n",
       "      <td>Male</td>\n",
       "      <td>19</td>\n",
       "      <td>15</td>\n",
       "      <td>39</td>\n",
       "    </tr>\n",
       "    <tr>\n",
       "      <th>2</th>\n",
       "      <td>Male</td>\n",
       "      <td>21</td>\n",
       "      <td>15</td>\n",
       "      <td>81</td>\n",
       "    </tr>\n",
       "    <tr>\n",
       "      <th>3</th>\n",
       "      <td>Female</td>\n",
       "      <td>20</td>\n",
       "      <td>16</td>\n",
       "      <td>6</td>\n",
       "    </tr>\n",
       "    <tr>\n",
       "      <th>4</th>\n",
       "      <td>Female</td>\n",
       "      <td>23</td>\n",
       "      <td>16</td>\n",
       "      <td>77</td>\n",
       "    </tr>\n",
       "    <tr>\n",
       "      <th>5</th>\n",
       "      <td>Female</td>\n",
       "      <td>31</td>\n",
       "      <td>17</td>\n",
       "      <td>40</td>\n",
       "    </tr>\n",
       "  </tbody>\n",
       "</table>\n",
       "</div>"
      ],
      "text/plain": [
       "            Gender  Age  Annual Income (k$)  Spending Score (1-100)\n",
       "CustomerID                                                         \n",
       "1             Male   19                  15                      39\n",
       "2             Male   21                  15                      81\n",
       "3           Female   20                  16                       6\n",
       "4           Female   23                  16                      77\n",
       "5           Female   31                  17                      40"
      ]
     },
     "execution_count": 20,
     "metadata": {},
     "output_type": "execute_result"
    }
   ],
   "source": [
    "customer_df = pd.read_csv(\"../dataset/customers.csv\", index_col = \"CustomerID\")\n",
    "customer_df.head(5)"
   ]
  },
  {
   "cell_type": "markdown",
   "id": "630f9e12",
   "metadata": {},
   "source": [
    "**(4.2) Rename the columns according to the table below.**<br>\n",
    "Hint: df.columns = ['gender', 'age', 'income', 'spending_score']"
   ]
  },
  {
   "cell_type": "markdown",
   "id": "716521ad",
   "metadata": {},
   "source": [
    "|column name| new column name|\n",
    "|:-:|:-:|\n",
    "|Gender|gender|\n",
    "|Age|age|\n",
    "|Annual Income (k$)|income|\n",
    "|Spending Score (1-100)|spending_score|"
   ]
  },
  {
   "cell_type": "code",
   "execution_count": 21,
   "id": "0184c03f",
   "metadata": {},
   "outputs": [
    {
     "data": {
      "text/html": [
       "<div>\n",
       "<style scoped>\n",
       "    .dataframe tbody tr th:only-of-type {\n",
       "        vertical-align: middle;\n",
       "    }\n",
       "\n",
       "    .dataframe tbody tr th {\n",
       "        vertical-align: top;\n",
       "    }\n",
       "\n",
       "    .dataframe thead th {\n",
       "        text-align: right;\n",
       "    }\n",
       "</style>\n",
       "<table border=\"1\" class=\"dataframe\">\n",
       "  <thead>\n",
       "    <tr style=\"text-align: right;\">\n",
       "      <th></th>\n",
       "      <th>gender</th>\n",
       "      <th>age</th>\n",
       "      <th>income</th>\n",
       "      <th>spending_score</th>\n",
       "    </tr>\n",
       "    <tr>\n",
       "      <th>CustomerID</th>\n",
       "      <th></th>\n",
       "      <th></th>\n",
       "      <th></th>\n",
       "      <th></th>\n",
       "    </tr>\n",
       "  </thead>\n",
       "  <tbody>\n",
       "    <tr>\n",
       "      <th>1</th>\n",
       "      <td>Male</td>\n",
       "      <td>19</td>\n",
       "      <td>15</td>\n",
       "      <td>39</td>\n",
       "    </tr>\n",
       "    <tr>\n",
       "      <th>2</th>\n",
       "      <td>Male</td>\n",
       "      <td>21</td>\n",
       "      <td>15</td>\n",
       "      <td>81</td>\n",
       "    </tr>\n",
       "    <tr>\n",
       "      <th>3</th>\n",
       "      <td>Female</td>\n",
       "      <td>20</td>\n",
       "      <td>16</td>\n",
       "      <td>6</td>\n",
       "    </tr>\n",
       "    <tr>\n",
       "      <th>4</th>\n",
       "      <td>Female</td>\n",
       "      <td>23</td>\n",
       "      <td>16</td>\n",
       "      <td>77</td>\n",
       "    </tr>\n",
       "    <tr>\n",
       "      <th>5</th>\n",
       "      <td>Female</td>\n",
       "      <td>31</td>\n",
       "      <td>17</td>\n",
       "      <td>40</td>\n",
       "    </tr>\n",
       "  </tbody>\n",
       "</table>\n",
       "</div>"
      ],
      "text/plain": [
       "            gender  age  income  spending_score\n",
       "CustomerID                                     \n",
       "1             Male   19      15              39\n",
       "2             Male   21      15              81\n",
       "3           Female   20      16               6\n",
       "4           Female   23      16              77\n",
       "5           Female   31      17              40"
      ]
     },
     "execution_count": 21,
     "metadata": {},
     "output_type": "execute_result"
    }
   ],
   "source": [
    "customer_df.columns = ['gender', 'age', 'income', 'spending_score']\n",
    "customer_df.head(5)"
   ]
  },
  {
   "cell_type": "markdown",
   "id": "29fa3783",
   "metadata": {},
   "source": [
    "**(4.3) Calculate the average age for each gender group. Round the numbers to whole numbers.**<br>"
   ]
  },
  {
   "cell_type": "code",
   "execution_count": 22,
   "id": "02d1a71d",
   "metadata": {},
   "outputs": [
    {
     "data": {
      "text/plain": [
       "gender\n",
       "Female    38.0\n",
       "Male      40.0\n",
       "Name: age, dtype: float64"
      ]
     },
     "execution_count": 22,
     "metadata": {},
     "output_type": "execute_result"
    }
   ],
   "source": [
    "customer_df.groupby(\"gender\").age.mean().round()"
   ]
  },
  {
   "cell_type": "markdown",
   "id": "5e7240d0",
   "metadata": {},
   "source": [
    "**(4.4) Convert the column <code>age</code> to age group according to the table below. Store the result in a new column named <code>age_group</code>.**<br>\n",
    "Hint: pd.cut()"
   ]
  },
  {
   "cell_type": "markdown",
   "id": "ca3d3c69",
   "metadata": {},
   "source": [
    "|range| label|\n",
    "|:-:|:-:|\n",
    "|18-35| young adults|\n",
    "|36-55| middle-aged adults|\n",
    "|56-75| older adults |"
   ]
  },
  {
   "cell_type": "code",
   "execution_count": 23,
   "id": "e64b99b3",
   "metadata": {},
   "outputs": [
    {
     "data": {
      "text/html": [
       "<div>\n",
       "<style scoped>\n",
       "    .dataframe tbody tr th:only-of-type {\n",
       "        vertical-align: middle;\n",
       "    }\n",
       "\n",
       "    .dataframe tbody tr th {\n",
       "        vertical-align: top;\n",
       "    }\n",
       "\n",
       "    .dataframe thead th {\n",
       "        text-align: right;\n",
       "    }\n",
       "</style>\n",
       "<table border=\"1\" class=\"dataframe\">\n",
       "  <thead>\n",
       "    <tr style=\"text-align: right;\">\n",
       "      <th></th>\n",
       "      <th>gender</th>\n",
       "      <th>age</th>\n",
       "      <th>income</th>\n",
       "      <th>spending_score</th>\n",
       "      <th>age_group</th>\n",
       "    </tr>\n",
       "    <tr>\n",
       "      <th>CustomerID</th>\n",
       "      <th></th>\n",
       "      <th></th>\n",
       "      <th></th>\n",
       "      <th></th>\n",
       "      <th></th>\n",
       "    </tr>\n",
       "  </thead>\n",
       "  <tbody>\n",
       "    <tr>\n",
       "      <th>1</th>\n",
       "      <td>Male</td>\n",
       "      <td>19</td>\n",
       "      <td>15</td>\n",
       "      <td>39</td>\n",
       "      <td>young adults</td>\n",
       "    </tr>\n",
       "    <tr>\n",
       "      <th>2</th>\n",
       "      <td>Male</td>\n",
       "      <td>21</td>\n",
       "      <td>15</td>\n",
       "      <td>81</td>\n",
       "      <td>young adults</td>\n",
       "    </tr>\n",
       "    <tr>\n",
       "      <th>3</th>\n",
       "      <td>Female</td>\n",
       "      <td>20</td>\n",
       "      <td>16</td>\n",
       "      <td>6</td>\n",
       "      <td>young adults</td>\n",
       "    </tr>\n",
       "    <tr>\n",
       "      <th>4</th>\n",
       "      <td>Female</td>\n",
       "      <td>23</td>\n",
       "      <td>16</td>\n",
       "      <td>77</td>\n",
       "      <td>young adults</td>\n",
       "    </tr>\n",
       "    <tr>\n",
       "      <th>5</th>\n",
       "      <td>Female</td>\n",
       "      <td>31</td>\n",
       "      <td>17</td>\n",
       "      <td>40</td>\n",
       "      <td>young adults</td>\n",
       "    </tr>\n",
       "  </tbody>\n",
       "</table>\n",
       "</div>"
      ],
      "text/plain": [
       "            gender  age  income  spending_score     age_group\n",
       "CustomerID                                                   \n",
       "1             Male   19      15              39  young adults\n",
       "2             Male   21      15              81  young adults\n",
       "3           Female   20      16               6  young adults\n",
       "4           Female   23      16              77  young adults\n",
       "5           Female   31      17              40  young adults"
      ]
     },
     "execution_count": 23,
     "metadata": {},
     "output_type": "execute_result"
    }
   ],
   "source": [
    "customer_df[\"age_group\"] = pd.cut(customer_df.age, \n",
    "                                  bins = [18,35,55,75],\n",
    "                                  labels = [\"young adults\",\"middle-aged adults\",\"older adults\"], \n",
    "                                  include_lowest = True)\n",
    "customer_df.head(5)"
   ]
  },
  {
   "cell_type": "markdown",
   "id": "65380143",
   "metadata": {},
   "source": [
    "**(4.5) Calculate the average income for each age group. Round the numbers to two decimal places.**<br>"
   ]
  },
  {
   "cell_type": "code",
   "execution_count": 24,
   "id": "43606994",
   "metadata": {},
   "outputs": [
    {
     "data": {
      "text/plain": [
       "age_group\n",
       "young adults          59.44\n",
       "middle-aged adults    64.79\n",
       "older adults          53.69\n",
       "Name: income, dtype: float64"
      ]
     },
     "execution_count": 24,
     "metadata": {},
     "output_type": "execute_result"
    }
   ],
   "source": [
    "customer_df.groupby(\"age_group\").income.mean().round(2)"
   ]
  },
  {
   "cell_type": "markdown",
   "id": "8e5cb540",
   "metadata": {},
   "source": [
    "**(4.6) Group the data by columns <code>age_group</code> and <code>gender</code>. Calculate the average spending score for each group. Round the numbers to two decimal places.**"
   ]
  },
  {
   "cell_type": "code",
   "execution_count": 25,
   "id": "77b1f898",
   "metadata": {},
   "outputs": [
    {
     "data": {
      "text/plain": [
       "age_group           gender\n",
       "young adults        Female    62.54\n",
       "                    Male      58.29\n",
       "middle-aged adults  Female    40.07\n",
       "                    Male      41.69\n",
       "older adults        Female    40.27\n",
       "                    Male      37.22\n",
       "Name: spending_score, dtype: float64"
      ]
     },
     "execution_count": 25,
     "metadata": {},
     "output_type": "execute_result"
    }
   ],
   "source": [
    "# [solution-1] \n",
    "customer_df.groupby([\"age_group\", \"gender\"]).spending_score.mean().round(2)"
   ]
  },
  {
   "cell_type": "code",
   "execution_count": 26,
   "id": "9ee4d6eb",
   "metadata": {},
   "outputs": [
    {
     "data": {
      "text/html": [
       "<div>\n",
       "<style scoped>\n",
       "    .dataframe tbody tr th:only-of-type {\n",
       "        vertical-align: middle;\n",
       "    }\n",
       "\n",
       "    .dataframe tbody tr th {\n",
       "        vertical-align: top;\n",
       "    }\n",
       "\n",
       "    .dataframe thead th {\n",
       "        text-align: right;\n",
       "    }\n",
       "</style>\n",
       "<table border=\"1\" class=\"dataframe\">\n",
       "  <thead>\n",
       "    <tr style=\"text-align: right;\">\n",
       "      <th>gender</th>\n",
       "      <th>Female</th>\n",
       "      <th>Male</th>\n",
       "    </tr>\n",
       "    <tr>\n",
       "      <th>age_group</th>\n",
       "      <th></th>\n",
       "      <th></th>\n",
       "    </tr>\n",
       "  </thead>\n",
       "  <tbody>\n",
       "    <tr>\n",
       "      <th>young adults</th>\n",
       "      <td>62.54</td>\n",
       "      <td>58.29</td>\n",
       "    </tr>\n",
       "    <tr>\n",
       "      <th>middle-aged adults</th>\n",
       "      <td>40.07</td>\n",
       "      <td>41.69</td>\n",
       "    </tr>\n",
       "    <tr>\n",
       "      <th>older adults</th>\n",
       "      <td>40.27</td>\n",
       "      <td>37.22</td>\n",
       "    </tr>\n",
       "  </tbody>\n",
       "</table>\n",
       "</div>"
      ],
      "text/plain": [
       "gender              Female   Male\n",
       "age_group                        \n",
       "young adults         62.54  58.29\n",
       "middle-aged adults   40.07  41.69\n",
       "older adults         40.27  37.22"
      ]
     },
     "execution_count": 26,
     "metadata": {},
     "output_type": "execute_result"
    }
   ],
   "source": [
    "# [solution-2]\n",
    "customer_df.pivot_table(index = \"age_group\", \n",
    "                        columns = \"gender\", \n",
    "                        values = \"spending_score\", \n",
    "                        aggfunc = \"mean\").round(2)"
   ]
  },
  {
   "cell_type": "code",
   "execution_count": 27,
   "id": "69e00842",
   "metadata": {},
   "outputs": [
    {
     "data": {
      "text/html": [
       "<div>\n",
       "<style scoped>\n",
       "    .dataframe tbody tr th:only-of-type {\n",
       "        vertical-align: middle;\n",
       "    }\n",
       "\n",
       "    .dataframe tbody tr th {\n",
       "        vertical-align: top;\n",
       "    }\n",
       "\n",
       "    .dataframe thead th {\n",
       "        text-align: right;\n",
       "    }\n",
       "</style>\n",
       "<table border=\"1\" class=\"dataframe\">\n",
       "  <thead>\n",
       "    <tr style=\"text-align: right;\">\n",
       "      <th>gender</th>\n",
       "      <th>Female</th>\n",
       "      <th>Male</th>\n",
       "    </tr>\n",
       "    <tr>\n",
       "      <th>age_group</th>\n",
       "      <th></th>\n",
       "      <th></th>\n",
       "    </tr>\n",
       "  </thead>\n",
       "  <tbody>\n",
       "    <tr>\n",
       "      <th>young adults</th>\n",
       "      <td>62.54</td>\n",
       "      <td>58.29</td>\n",
       "    </tr>\n",
       "    <tr>\n",
       "      <th>middle-aged adults</th>\n",
       "      <td>40.07</td>\n",
       "      <td>41.69</td>\n",
       "    </tr>\n",
       "    <tr>\n",
       "      <th>older adults</th>\n",
       "      <td>40.27</td>\n",
       "      <td>37.22</td>\n",
       "    </tr>\n",
       "  </tbody>\n",
       "</table>\n",
       "</div>"
      ],
      "text/plain": [
       "gender              Female   Male\n",
       "age_group                        \n",
       "young adults         62.54  58.29\n",
       "middle-aged adults   40.07  41.69\n",
       "older adults         40.27  37.22"
      ]
     },
     "execution_count": 27,
     "metadata": {},
     "output_type": "execute_result"
    }
   ],
   "source": [
    "# [solution-3]\n",
    "pd.crosstab(index = customer_df.age_group, \n",
    "             columns = customer_df.gender, \n",
    "             values = customer_df.spending_score, \n",
    "             aggfunc = \"mean\").round(2)"
   ]
  }
 ],
 "metadata": {
  "kernelspec": {
   "display_name": "Python 3 (ipykernel)",
   "language": "python",
   "name": "python3"
  },
  "language_info": {
   "codemirror_mode": {
    "name": "ipython",
    "version": 3
   },
   "file_extension": ".py",
   "mimetype": "text/x-python",
   "name": "python",
   "nbconvert_exporter": "python",
   "pygments_lexer": "ipython3",
   "version": "3.11.4"
  }
 },
 "nbformat": 4,
 "nbformat_minor": 5
}
