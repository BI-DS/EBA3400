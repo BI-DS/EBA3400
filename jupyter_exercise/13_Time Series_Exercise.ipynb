{
 "cells": [
  {
   "cell_type": "markdown",
   "id": "11ca5efe",
   "metadata": {},
   "source": [
    "# Time Series"
   ]
  },
  {
   "cell_type": "code",
   "execution_count": null,
   "id": "fcd6d2b2",
   "metadata": {},
   "outputs": [],
   "source": []
  },
  {
   "cell_type": "markdown",
   "id": "a7043fd8",
   "metadata": {},
   "source": [
    "## (1) Oslo city bike"
   ]
  },
  {
   "cell_type": "markdown",
   "id": "65071582",
   "metadata": {},
   "source": [
    "**(1.1) Download the September 2023 city bike data here https://oslobysykkel.no/en/open-data/historical. Import the dataset and set the column <code>started_at</code> as DatetimeIndex.**<br> \n",
    "(The description of each column can be found on the same page.)"
   ]
  },
  {
   "cell_type": "code",
   "execution_count": null,
   "id": "c159e444",
   "metadata": {},
   "outputs": [],
   "source": []
  },
  {
   "cell_type": "markdown",
   "id": "84630c37",
   "metadata": {},
   "source": [
    "**(1.2) Select a subset with two columns: <code>duration</code> and <code>start_station_name</code>. Use this subset to solve the following tasks.**<br>\n",
    "Hint: <code>copy()</code>"
   ]
  },
  {
   "cell_type": "code",
   "execution_count": null,
   "id": "de964714",
   "metadata": {
    "scrolled": true
   },
   "outputs": [],
   "source": []
  },
  {
   "cell_type": "markdown",
   "id": "b0bf3248",
   "metadata": {},
   "source": [
    "**(1.3) How many trips departed from <code>Olaf Ryes plass</code> station on September 10?**"
   ]
  },
  {
   "cell_type": "code",
   "execution_count": null,
   "id": "e319680a",
   "metadata": {},
   "outputs": [],
   "source": []
  },
  {
   "cell_type": "markdown",
   "id": "4588231e",
   "metadata": {},
   "source": [
    "**(1.4) Extract the day of the week from the DatetimeIndex and add it a as new column named <code>day_of_week</code>.**"
   ]
  },
  {
   "cell_type": "code",
   "execution_count": null,
   "id": "d1a212a0",
   "metadata": {},
   "outputs": [],
   "source": []
  },
  {
   "cell_type": "markdown",
   "id": "d638c724",
   "metadata": {},
   "source": [
    "**(1.5) Select the data from September 4 to 24. Count the number of trips departing from the following stations on each day of the week.**<br>\n",
    "<code>Alexander Kiellands Plass, Ringnes Park, Olaf Ryes plass, Tøyen skole, Bislett Stadion, Jernbanetorget, BI Nydalen.</code>   \n",
    "Expected result:"
   ]
  },
  {
   "cell_type": "markdown",
   "id": "57cdd731",
   "metadata": {},
   "source": [
    "||Monday|Tuesday|Wednesday|Thursday|Friday|Saturday|Sunday|\n",
    "|:-:|:-:|:-:|:-:|:-:|:-:|:-:|:-:|\n",
    "|**Alexander Kiellands Plass**|158|239|...|...|...|...|...|   \n",
    "|**BI Nydalen**|92|...|...|...|...|...|...|   \n",
    "|**Bislett Stadion**|...|...|...|...|...|...|     \n",
    "|**Jernbanetorget**|...|...|...|...|...|...|     \n",
    "|**Olaf Ryes plass**|...|...|...|...|...|...|    \n",
    "|**Ringnes Park**|...|...|...|...|...|...|    \n",
    "|**Tøyen skole**|...|...|...|...|...|...|    "
   ]
  },
  {
   "cell_type": "code",
   "execution_count": null,
   "id": "c276b0e1",
   "metadata": {},
   "outputs": [],
   "source": []
  },
  {
   "cell_type": "markdown",
   "id": "a7a16116",
   "metadata": {},
   "source": [
    "**(1.6) Use a heatmap to display the result obtained in (1.5). Answer the following question.**"
   ]
  },
  {
   "cell_type": "code",
   "execution_count": null,
   "id": "75b489db",
   "metadata": {},
   "outputs": [],
   "source": []
  },
  {
   "cell_type": "markdown",
   "id": "936bc89c",
   "metadata": {},
   "source": [
    "**Question:** What is the busiest day of the week (with the highest number of departures) at \"Ringnes Park\" station?<br>\n",
    "**Answer:** \n",
    "    "
   ]
  },
  {
   "cell_type": "markdown",
   "id": "cfb5daed",
   "metadata": {},
   "source": [
    "**(1.7) Calculate the number of trips in each hour on September 10 and display the result with a horizontal bar chart.**"
   ]
  },
  {
   "cell_type": "code",
   "execution_count": null,
   "id": "ce188ee2",
   "metadata": {},
   "outputs": [],
   "source": []
  },
  {
   "cell_type": "markdown",
   "id": "3862d386",
   "metadata": {},
   "source": [
    "## (2) Complains\n",
    "In the US, 311 is a non-emergency phone number that people can call in many cities to find information about services, make complaints, or report problems like graffiti or road damage.\n"
   ]
  },
  {
   "cell_type": "markdown",
   "id": "1c48312c",
   "metadata": {},
   "source": [
    "**(2.1) Import the dataset <code>complaints.csv</code>. Set the column <code>Created Date</code> as DatetimeIndex.**<br>\n",
    "Setting: dtype = {\"Incident Zip\": object}"
   ]
  },
  {
   "cell_type": "code",
   "execution_count": null,
   "id": "62b015ba",
   "metadata": {},
   "outputs": [],
   "source": []
  },
  {
   "cell_type": "markdown",
   "id": "72efd6d0",
   "metadata": {},
   "source": [
    "**(2.2) Sort the dataframe from oldest to newest.**<br>\n",
    "Hint: <code>DataFrame.sort_index(inplace = True)</code>"
   ]
  },
  {
   "cell_type": "code",
   "execution_count": null,
   "id": "40f9c4cc",
   "metadata": {},
   "outputs": [],
   "source": []
  },
  {
   "cell_type": "markdown",
   "id": "927ef75f",
   "metadata": {},
   "source": [
    "**(2.3) Select the complaint data handled by <code>NYPD</code>and use this subset to solve the following tasks.**<br>\n",
    "Hint: Use <code>Agency</code> column"
   ]
  },
  {
   "cell_type": "code",
   "execution_count": null,
   "id": "57bea78c",
   "metadata": {},
   "outputs": [],
   "source": []
  },
  {
   "cell_type": "markdown",
   "id": "1251c2d0",
   "metadata": {},
   "source": [
    "**(2.4) Use the subset obtained in (2.3). Calculate the number of complaints in each day and display the result with a line chart.**<br>\n",
    "Setting: figsize = (15, 3), marker = \"o\""
   ]
  },
  {
   "cell_type": "code",
   "execution_count": null,
   "id": "1e0e5455",
   "metadata": {},
   "outputs": [],
   "source": []
  },
  {
   "cell_type": "markdown",
   "id": "8ad706c2",
   "metadata": {},
   "source": [
    "**(2.5) Use the subset obtained in (2.3). Calculate the number of complaints per hour on October 19 and display the results with a line chart.**<br>\n",
    "Setting: figsize = (15, 3), marker = \"o\", color = \"green\""
   ]
  },
  {
   "cell_type": "code",
   "execution_count": null,
   "id": "3afedc8a",
   "metadata": {},
   "outputs": [],
   "source": []
  },
  {
   "cell_type": "markdown",
   "id": "213fc1b2",
   "metadata": {},
   "source": [
    "**Question:** Are there more complaints during the day or at night?<br>\n",
    "**Answer:** \n",
    "    "
   ]
  },
  {
   "cell_type": "markdown",
   "id": "fb1e2352",
   "metadata": {},
   "source": [
    "## (3) Melbourne\n",
    "**This file <code>melbourne.csv</code> records property sales prices in Melbourne. Descriptions of some important variables are listed below.**\n",
    "- **Suburb**: Suburb\n",
    "- **Price**: Price in Australian dollars"
   ]
  },
  {
   "cell_type": "markdown",
   "id": "8d3abe03",
   "metadata": {},
   "source": [
    "**(3.1) Import the dataset <code>melbourne.csv</code>. Set the column <code>Date</code> as DatetimeIndex.**<br>\n",
    "Hint: Use argument <code>dayfirst = True</code>"
   ]
  },
  {
   "cell_type": "code",
   "execution_count": null,
   "id": "9f67f105",
   "metadata": {},
   "outputs": [],
   "source": []
  },
  {
   "cell_type": "markdown",
   "id": "8acfab7d",
   "metadata": {},
   "source": [
    "**(3.2) Sort the dataframe from oldest to newest. Display the first five rows of the updated dataframe.**<br>"
   ]
  },
  {
   "cell_type": "code",
   "execution_count": null,
   "id": "4f5cea1e",
   "metadata": {},
   "outputs": [],
   "source": []
  },
  {
   "cell_type": "markdown",
   "id": "3278aa64",
   "metadata": {},
   "source": [
    "**(3.3) What are the start and end dates of this dataset?**"
   ]
  },
  {
   "cell_type": "code",
   "execution_count": null,
   "id": "a056ec96",
   "metadata": {},
   "outputs": [],
   "source": []
  },
  {
   "cell_type": "markdown",
   "id": "10282eb3",
   "metadata": {},
   "source": [
    "**(3.4) How many properties were sold between June and August 2016?**"
   ]
  },
  {
   "cell_type": "code",
   "execution_count": null,
   "id": "4aef1715",
   "metadata": {},
   "outputs": [],
   "source": []
  },
  {
   "cell_type": "markdown",
   "id": "29a935d1",
   "metadata": {},
   "source": [
    "**(3.5) Use a bar chart to show the number of properties sold each month.**"
   ]
  },
  {
   "cell_type": "code",
   "execution_count": null,
   "id": "622cdc90",
   "metadata": {},
   "outputs": [],
   "source": []
  },
  {
   "cell_type": "markdown",
   "id": "2f178332",
   "metadata": {},
   "source": [
    "**(3.6) Use a line chart to display the average sales price for each month in \"Richmond\".**<br>\n",
    "Setting: figsize = (15, 3), marker = \"s\", color = \"orange\""
   ]
  },
  {
   "cell_type": "code",
   "execution_count": null,
   "id": "9cceb577",
   "metadata": {},
   "outputs": [],
   "source": []
  },
  {
   "cell_type": "markdown",
   "id": "1ce3c44a",
   "metadata": {},
   "source": [
    "**Question:** During which months were no properties sold in Richmond?<br>\n",
    "**Answer:** \n",
    "    "
   ]
  },
  {
   "cell_type": "markdown",
   "id": "11de7b2b",
   "metadata": {},
   "source": [
    "## (4) Calls"
   ]
  },
  {
   "cell_type": "markdown",
   "id": "de2c9a56",
   "metadata": {},
   "source": [
    "**The following dictionary stores information about three phone calls, where the keys are the call IDs (C01, C02, and C03) and the values are tuples representing the start time and end time. Use a for loop to calculate and print out the duration of each call.**<br>\n",
    "\n",
    "Expected result:<br>\n",
    "\n",
    "C01: 32 seconds<br>\n",
    "C02: ...<br>\n",
    "C03: ..."
   ]
  },
  {
   "cell_type": "code",
   "execution_count": null,
   "id": "1b38fb84",
   "metadata": {},
   "outputs": [],
   "source": [
    "call_data = {\"C01\": (\"2023-08-01 18:11:07\", \"2023-08-01 18:11:39\"), \n",
    "             \"C02\": (\"2023-08-07 09:57:04\", \"2023-08-07 10:04:01\"), \n",
    "             \"C03\": (\"2023-08-11 13:30:51\", \"2023-08-11 13:32:17\")}"
   ]
  },
  {
   "cell_type": "code",
   "execution_count": null,
   "id": "78135ba0",
   "metadata": {},
   "outputs": [],
   "source": []
  }
 ],
 "metadata": {
  "kernelspec": {
   "display_name": "Python 3 (ipykernel)",
   "language": "python",
   "name": "python3"
  },
  "language_info": {
   "codemirror_mode": {
    "name": "ipython",
    "version": 3
   },
   "file_extension": ".py",
   "mimetype": "text/x-python",
   "name": "python",
   "nbconvert_exporter": "python",
   "pygments_lexer": "ipython3",
   "version": "3.11.4"
  }
 },
 "nbformat": 4,
 "nbformat_minor": 5
}
