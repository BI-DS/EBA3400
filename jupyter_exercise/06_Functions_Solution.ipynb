{
 "cells": [
  {
   "cell_type": "markdown",
   "metadata": {},
   "source": [
    "**(1) Write a program that takes the temperature in Celsius (c) as a parameter. The function should convert the temperature to Fahrenheit and print the result. Test your function with  (1) <code>c = 20</code> (2) <code>c = 35</code>.**<br> \n",
    "Hint: Fahrenheit = ( Celsius $\\times 9 $ ) $\\div 5 + 32$<br>"
   ]
  },
  {
   "cell_type": "code",
   "execution_count": 1,
   "metadata": {},
   "outputs": [],
   "source": [
    "# define\n",
    "def convert(c):\n",
    "    print (c*9/5+32)"
   ]
  },
  {
   "cell_type": "code",
   "execution_count": 2,
   "metadata": {},
   "outputs": [
    {
     "name": "stdout",
     "output_type": "stream",
     "text": [
      "68.0\n"
     ]
    }
   ],
   "source": [
    "# call\n",
    "convert(20)"
   ]
  },
  {
   "cell_type": "code",
   "execution_count": 3,
   "metadata": {},
   "outputs": [
    {
     "name": "stdout",
     "output_type": "stream",
     "text": [
      "95.0\n"
     ]
    }
   ],
   "source": [
    "# call\n",
    "convert(35)"
   ]
  },
  {
   "cell_type": "markdown",
   "metadata": {},
   "source": [
    "**(2) The Body mass index (BMI) is a value derived from a person's weight (kg) and height (m) and can be calculated using the following formula. Write a function that takes weight and height as parameters and prints the BMI. Round the number to two decimal places.** \n",
    "\n",
    "<center>$BMI = \\frac{weight}{(height)^2}$</center>\n",
    "\n",
    "**Test your function with: <br>\n",
    "(1) <code>weight = 70, height = 1.68 </code><br>\n",
    "(2) <code>weight = 85, height = 1.76</code>.**"
   ]
  },
  {
   "cell_type": "code",
   "execution_count": 4,
   "metadata": {},
   "outputs": [],
   "source": [
    "# define\n",
    "def bmi(w, h):\n",
    "    print(round(w/h**2, 2))"
   ]
  },
  {
   "cell_type": "code",
   "execution_count": 5,
   "metadata": {},
   "outputs": [
    {
     "name": "stdout",
     "output_type": "stream",
     "text": [
      "21.26\n"
     ]
    }
   ],
   "source": [
    "# call\n",
    "bmi(60, 1.68)"
   ]
  },
  {
   "cell_type": "code",
   "execution_count": 6,
   "metadata": {},
   "outputs": [
    {
     "name": "stdout",
     "output_type": "stream",
     "text": [
      "27.44\n"
     ]
    }
   ],
   "source": [
    "# call\n",
    "bmi(85, 1.76)"
   ]
  },
  {
   "cell_type": "markdown",
   "metadata": {},
   "source": [
    "**(3) Write a function named <code>count_vowels</code> that takes a string as an argument.  This function should count and print the number of vowels in the string (A, E, I, O, U, case insensitive). Test your function by passing  (1)<code>\"hello world\"</code> (2) <code>\"PYTHON\"</code>.**"
   ]
  },
  {
   "cell_type": "code",
   "execution_count": 7,
   "metadata": {},
   "outputs": [],
   "source": [
    "# define\n",
    "def count_vowels(mystr):\n",
    "    cnt = 0\n",
    "    vowels  = [\"a\", \"e\", \"i\", \"o\", \"u\"]\n",
    "    for s in mystr:\n",
    "        if s.lower() in vowels:\n",
    "            cnt += 1\n",
    "    print(cnt)"
   ]
  },
  {
   "cell_type": "code",
   "execution_count": 8,
   "metadata": {},
   "outputs": [
    {
     "name": "stdout",
     "output_type": "stream",
     "text": [
      "3\n"
     ]
    }
   ],
   "source": [
    "# call\n",
    "count_vowels(\"hello world\")"
   ]
  },
  {
   "cell_type": "code",
   "execution_count": 9,
   "metadata": {},
   "outputs": [
    {
     "name": "stdout",
     "output_type": "stream",
     "text": [
      "1\n"
     ]
    }
   ],
   "source": [
    "# call\n",
    "count_vowels(\"PYTHON\")"
   ]
  },
  {
   "cell_type": "markdown",
   "metadata": {},
   "source": [
    "**(4) The table below shows the cost of riding a scooter, depending on the ride time and the user's membership. Write a function to calculate and print the user's ride cost.**   \n"
   ]
  },
  {
   "cell_type": "markdown",
   "metadata": {},
   "source": [
    "|cost|non-member|member|\n",
    "|:-:|:-:|:-:|\n",
    "|ride time $ \\le 5$ mins|20 kr |15 kr |\n",
    "|ride time $ > 5$ mins| The first 5 minutes is 20 kr. <br>After 5 minutes, it will cost 2.5 kr per minute|The first 5 minutes is 15 kr. <br>After 5 minutes, it will cost 2 kr per minute|"
   ]
  },
  {
   "cell_type": "markdown",
   "metadata": {},
   "source": [
    "**Use the function to calculate the ride cost of the following two users:**<br>\n",
    "(1) User-A: non-member, ride time is 10 mins<br>\n",
    "(2) User-B: member, ride time is 8 mins<br>"
   ]
  },
  {
   "cell_type": "code",
   "execution_count": 10,
   "metadata": {},
   "outputs": [],
   "source": [
    "# define\n",
    "def compute_cost(t, member):\n",
    "    if member == False:\n",
    "        if t <= 5:\n",
    "            cost = 20\n",
    "        else:\n",
    "            cost = 20+(t-5)*2.5\n",
    "    else:\n",
    "        if t <= 5:\n",
    "            cost = 15\n",
    "        else:\n",
    "            cost = 15+(t-5)*2\n",
    "    print(cost)"
   ]
  },
  {
   "cell_type": "code",
   "execution_count": 11,
   "metadata": {},
   "outputs": [
    {
     "name": "stdout",
     "output_type": "stream",
     "text": [
      "32.5\n"
     ]
    }
   ],
   "source": [
    "# call\n",
    "compute_cost(10, False)"
   ]
  },
  {
   "cell_type": "code",
   "execution_count": 12,
   "metadata": {},
   "outputs": [
    {
     "name": "stdout",
     "output_type": "stream",
     "text": [
      "21\n"
     ]
    }
   ],
   "source": [
    "# call\n",
    "compute_cost(8, True)"
   ]
  },
  {
   "cell_type": "markdown",
   "metadata": {},
   "source": [
    "**(5) Write a function that takes a string as an argument. If the string contains at least 8 characters, the function should return \"valid password\", otherwise, the function returns \"invalid password\".\" Test your function by passing (1)<code>\"python123\" </code>(2)<code>\"abc123\"</code>. Print out the returned values.**"
   ]
  },
  {
   "cell_type": "code",
   "execution_count": 13,
   "metadata": {},
   "outputs": [],
   "source": [
    "# define \n",
    "def password_check(pw):\n",
    "    if len(pw)>=8:\n",
    "        return \"valid password\"\n",
    "    else:\n",
    "        return \"invalid password\""
   ]
  },
  {
   "cell_type": "code",
   "execution_count": 14,
   "metadata": {},
   "outputs": [
    {
     "name": "stdout",
     "output_type": "stream",
     "text": [
      "valid password\n"
     ]
    }
   ],
   "source": [
    "# call and print\n",
    "print(password_check(\"python123\"))"
   ]
  },
  {
   "cell_type": "code",
   "execution_count": 15,
   "metadata": {},
   "outputs": [
    {
     "name": "stdout",
     "output_type": "stream",
     "text": [
      "invalid password\n"
     ]
    }
   ],
   "source": [
    "# call and print\n",
    "print(password_check(\"abc123\"))"
   ]
  },
  {
   "cell_type": "markdown",
   "metadata": {},
   "source": [
    "**(6) Suppose you go to a restaurant and the amount spent is <code>a</code>. You want to tip <code>p*a</code> (usually <code>p</code> is a number between 5% and 25%). Write a function that takes <code>a</code> and <code>p</code> as parameters and returns the final amount including the tip. Note that the final amount should be rounded to the nearest whole number. Test your functon with (1)<code>a = 1000, p = 0.1</code> (2) <code>a = 585, p = 0.05</code>**"
   ]
  },
  {
   "cell_type": "code",
   "execution_count": 16,
   "metadata": {},
   "outputs": [],
   "source": [
    "# define \n",
    "def amount (a, p):\n",
    "    t = round(a*(1+p))\n",
    "    return t"
   ]
  },
  {
   "cell_type": "code",
   "execution_count": 17,
   "metadata": {},
   "outputs": [
    {
     "data": {
      "text/plain": [
       "1100"
      ]
     },
     "execution_count": 17,
     "metadata": {},
     "output_type": "execute_result"
    }
   ],
   "source": [
    "# call \n",
    "amount(1000, 0.1)"
   ]
  },
  {
   "cell_type": "code",
   "execution_count": 18,
   "metadata": {},
   "outputs": [
    {
     "data": {
      "text/plain": [
       "614"
      ]
     },
     "execution_count": 18,
     "metadata": {},
     "output_type": "execute_result"
    }
   ],
   "source": [
    "# call \n",
    "amount(585, 0.05)"
   ]
  },
  {
   "cell_type": "markdown",
   "metadata": {},
   "source": [
    "**(7) The weighted average is a statistical metric that considers the importance of each data point. Write a function called <code>get_weighted_mean</code> that takes a list of sublists as a parameter. Each sublist contains two elements $[x_i, w_i]$, where $x_i$ represents individual data values and $w_i$ represents the corresponding weights for each data value.\n",
    "The function should calculate and return the weighted mean using the following formula. Round the result to one decimal place.** \n",
    "\n",
    "$$\n",
    "\\bar{x} = \\frac{\\sum_{i=1}^{n} (x_i \\cdot w_i)}{\\sum_{i=1}^{n} w_i}\n",
    "$$\n",
    "**where:**\n",
    "- $n$ is is the number of data points.\n",
    "- $\\sum_{i=1}^{n} (x_i \\cdot w_i)$ is the sum of the products of data values and their corresponding weights.\n",
    "- $\\sum_{i=1}^{n} w_i$ is the sum of all the weights.\n",
    "\n",
    "**For example, if you have taken three quizzes with scores are 80, 75, 85, and the weights are 0.5, 0.3, 0.2 respectively, the function should calculate the weighted mean as follows: <br>**\n",
    "$$\\bar{x} = \\frac{(80 \\times 0.5) + (75 \\times 0.3) + (85 \\times 0.2) }{0.5+0.3+0.2} = 79.5$$\n"
   ]
  },
  {
   "cell_type": "code",
   "execution_count": 19,
   "metadata": {},
   "outputs": [],
   "source": [
    "# define\n",
    "def get_weighted_mean(data):\n",
    "    sum_xw = 0\n",
    "    sum_w = 0\n",
    "    \n",
    "    for sublist in data:\n",
    "        xi = sublist[0]\n",
    "        wi = sublist[1]\n",
    "        sum_xw += xi*wi\n",
    "        sum_w += wi\n",
    "    \n",
    "    return round(sum_xw/sum_w, 1)\n",
    "    "
   ]
  },
  {
   "cell_type": "code",
   "execution_count": 20,
   "metadata": {},
   "outputs": [
    {
     "data": {
      "text/plain": [
       "79.5"
      ]
     },
     "execution_count": 20,
     "metadata": {},
     "output_type": "execute_result"
    }
   ],
   "source": [
    "# call\n",
    "data_1 = [[80, 0.5], [75, 0.3], [85, 0.2]]\n",
    "get_weighted_mean(data_1)"
   ]
  },
  {
   "cell_type": "code",
   "execution_count": 21,
   "metadata": {},
   "outputs": [
    {
     "data": {
      "text/plain": [
       "68.8"
      ]
     },
     "execution_count": 21,
     "metadata": {},
     "output_type": "execute_result"
    }
   ],
   "source": [
    "# call\n",
    "data_2 = [[60, 0.3], [70, 0.3], [65, 0.3], [80, 0.2], [75, 0.2]]\n",
    "get_weighted_mean(data_2)"
   ]
  },
  {
   "cell_type": "markdown",
   "metadata": {},
   "source": [
    "**(8) Modify the following function  by adding a conditional statement to check the data type of the input argument for \"text\". If the argument is not of string data type, the function should print \"Please pass a valid string variable.\" Otherwise, it should count and print the number of words in the text. Test your functon with (1) <code>text = \"hello world\"</code> (2) <code>text = 123</code>.** <br>\n",
    "\n",
    "Hint: Search online 'How to check if a value is of a certain type in python'.<br>"
   ]
  },
  {
   "cell_type": "code",
   "execution_count": 22,
   "metadata": {},
   "outputs": [],
   "source": [
    "# define \n",
    "def word_counter(text):\n",
    "    word_list = text.split()\n",
    "    print(\"number of words: \", len(word_list))"
   ]
  },
  {
   "cell_type": "code",
   "execution_count": 23,
   "metadata": {},
   "outputs": [],
   "source": [
    "# define \n",
    "def word_counter(text):\n",
    "    if isinstance(text, str):\n",
    "        word_list = text.split()\n",
    "        print(\"number of words: \", len(word_list))\n",
    "    else:\n",
    "        print(\"Please pass a valid string variable.\")"
   ]
  },
  {
   "cell_type": "code",
   "execution_count": 24,
   "metadata": {},
   "outputs": [
    {
     "name": "stdout",
     "output_type": "stream",
     "text": [
      "number of words:  2\n"
     ]
    }
   ],
   "source": [
    "# call \n",
    "word_counter('hello world')"
   ]
  },
  {
   "cell_type": "code",
   "execution_count": 25,
   "metadata": {},
   "outputs": [
    {
     "name": "stdout",
     "output_type": "stream",
     "text": [
      "Please pass a valid string variable.\n"
     ]
    }
   ],
   "source": [
    "# call \n",
    "word_counter(123)"
   ]
  },
  {
   "cell_type": "markdown",
   "metadata": {},
   "source": [
    "**(9) Write a function called <code>count_passing_students</code> that takes two parameters:**\n",
    "\n",
    "- **scores** (a list of numbers) represents student scores.\n",
    "- **h** (an integer) represents the minimum threshold to pass the course, and the default value is 6.\n",
    "\n",
    "**The function should count and return the number of students who passed the course (i.e., whose scores are greater than or equal to the threshold h). Use the following list <code>exam_scores</code> to test your function and see how many students passed the course. If the threshold is 5 instead, see how many students passed the course.**"
   ]
  },
  {
   "cell_type": "code",
   "execution_count": 26,
   "metadata": {},
   "outputs": [],
   "source": [
    "# define\n",
    "def count_passing_students(scores, h = 6):\n",
    "    cnt = 0\n",
    "    for s in scores:\n",
    "        if s >= h:\n",
    "            cnt += 1\n",
    "    return cnt"
   ]
  },
  {
   "cell_type": "code",
   "execution_count": 27,
   "metadata": {},
   "outputs": [],
   "source": [
    "exam_scores = [6, 10, 5, 8, 8.5, 4.5, 9, 7.5, 6.5, 9, 4, 6.5, 5.5, 9.5]"
   ]
  },
  {
   "cell_type": "code",
   "execution_count": 28,
   "metadata": {},
   "outputs": [
    {
     "data": {
      "text/plain": [
       "10"
      ]
     },
     "execution_count": 28,
     "metadata": {},
     "output_type": "execute_result"
    }
   ],
   "source": [
    "# call \n",
    "count_passing_students(scores = exam_scores)"
   ]
  },
  {
   "cell_type": "code",
   "execution_count": 29,
   "metadata": {},
   "outputs": [
    {
     "data": {
      "text/plain": [
       "12"
      ]
     },
     "execution_count": 29,
     "metadata": {},
     "output_type": "execute_result"
    }
   ],
   "source": [
    "# call \n",
    "count_passing_students(scores = exam_scores, h = 5)"
   ]
  },
  {
   "cell_type": "markdown",
   "metadata": {},
   "source": [
    "**(10) The table below shows tax rates based on income range. For example, if your income is 400000, the tax payable is 400000*0.3 = 120000.**"
   ]
  },
  {
   "cell_type": "markdown",
   "metadata": {},
   "source": [
    "|income| tax rate | \n",
    "|:-:|:-:|\n",
    "|income $<$ 300000 | 25%  |\n",
    "|300000 $\\le $ income $<$ 600000  | 30% |\n",
    "|income $\\ge$ 600000 | 35% |"
   ]
  },
  {
   "cell_type": "markdown",
   "metadata": {},
   "source": [
    "**The list <code>income_list</code> records the income of 8 residents. Help them calculate the taxes they need to pay and store the results in a new list. Print out the new list.** "
   ]
  },
  {
   "cell_type": "code",
   "execution_count": 30,
   "metadata": {},
   "outputs": [],
   "source": [
    "income_list = [550000, 750000, 480000, 320000, 270000, 640000, 250000, 590000]"
   ]
  },
  {
   "cell_type": "code",
   "execution_count": 31,
   "metadata": {},
   "outputs": [],
   "source": [
    "# define\n",
    "def compute_taxes(income):\n",
    "    if income < 300000:\n",
    "        return income*0.25\n",
    "    elif income < 600000:\n",
    "        return income*0.3\n",
    "    else:\n",
    "        return income*0.35\n"
   ]
  },
  {
   "cell_type": "code",
   "execution_count": 32,
   "metadata": {},
   "outputs": [
    {
     "name": "stdout",
     "output_type": "stream",
     "text": [
      "[165000.0, 262500.0, 144000.0, 96000.0, 67500.0, 224000.0, 62500.0, 177000.0]\n"
     ]
    }
   ],
   "source": [
    "# call\n",
    "payable_tax_list = []\n",
    "for i in income_list:\n",
    "    payable_tax_list.append(compute_taxes(i))\n",
    "    \n",
    "print(payable_tax_list)"
   ]
  },
  {
   "cell_type": "markdown",
   "metadata": {},
   "source": [
    "**(11) The Strawberry Company makes a smartphone. The profit from selling <code>q</code> smartphones can be calculated by the following function. What is the profit of selling 150 smartphones?**"
   ]
  },
  {
   "cell_type": "code",
   "execution_count": 33,
   "metadata": {},
   "outputs": [],
   "source": [
    "def compute_profit(q):\n",
    "    \n",
    "    profit = (9500-4000)*q-1000000\n",
    "    \n",
    "    return profit"
   ]
  },
  {
   "cell_type": "code",
   "execution_count": 34,
   "metadata": {},
   "outputs": [
    {
     "data": {
      "text/plain": [
       "-175000"
      ]
     },
     "execution_count": 34,
     "metadata": {},
     "output_type": "execute_result"
    }
   ],
   "source": [
    "compute_profit(150)"
   ]
  },
  {
   "cell_type": "markdown",
   "metadata": {},
   "source": [
    "**(12) Use the function defined in (11) and write a loop to determine the minimum number of phones\n",
    "that Strawberry AS can sell and still avoid losing money, i.e. the profit should be greater than zero.**"
   ]
  },
  {
   "cell_type": "code",
   "execution_count": 35,
   "metadata": {},
   "outputs": [
    {
     "name": "stdout",
     "output_type": "stream",
     "text": [
      "182\n"
     ]
    }
   ],
   "source": [
    "min_q = 0                   # Number of phones sold\n",
    "p = compute_profit(min_q)   # Profit from q phones\n",
    "\n",
    "while p < 0:\n",
    "    min_q +=1\n",
    "    p = compute_profit(min_q)\n",
    "    \n",
    "print(min_q)"
   ]
  }
 ],
 "metadata": {
  "kernelspec": {
   "display_name": "Python 3 (ipykernel)",
   "language": "python",
   "name": "python3"
  },
  "language_info": {
   "codemirror_mode": {
    "name": "ipython",
    "version": 3
   },
   "file_extension": ".py",
   "mimetype": "text/x-python",
   "name": "python",
   "nbconvert_exporter": "python",
   "pygments_lexer": "ipython3",
   "version": "3.11.4"
  }
 },
 "nbformat": 4,
 "nbformat_minor": 4
}
