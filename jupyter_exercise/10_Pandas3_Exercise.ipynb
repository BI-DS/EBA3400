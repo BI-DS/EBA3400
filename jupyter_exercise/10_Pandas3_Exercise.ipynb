{
 "cells": [
  {
   "cell_type": "markdown",
   "id": "653b7996",
   "metadata": {},
   "source": [
    "# Pandas3 - Data Preprocessing and Calculation"
   ]
  },
  {
   "cell_type": "code",
   "execution_count": null,
   "id": "bb9d7241",
   "metadata": {},
   "outputs": [],
   "source": []
  },
  {
   "cell_type": "markdown",
   "id": "c0acb28c",
   "metadata": {},
   "source": [
    "## (1) Oil price"
   ]
  },
  {
   "cell_type": "markdown",
   "id": "de348bd5",
   "metadata": {},
   "source": [
    "**(1.1) Given the following dataframe, calcualte the number of missing values in each column.**"
   ]
  },
  {
   "cell_type": "code",
   "execution_count": null,
   "id": "b97f0cc8",
   "metadata": {},
   "outputs": [],
   "source": [
    "month = ['Jan','Feb','Mar','Apr','May','Jun','Jul','Aug','Sep','Oct','Nov','Dec']\n",
    "price = [63.9,None,66,71.5,70.9,61.9,None,59.4,None,58.5,63.3,64.5]\n",
    "oil_df = pd.DataFrame({\"month\":month,\"price\":price})\n",
    "oil_df"
   ]
  },
  {
   "cell_type": "code",
   "execution_count": null,
   "id": "e3d8e523",
   "metadata": {},
   "outputs": [],
   "source": []
  },
  {
   "cell_type": "markdown",
   "id": "ca3f9a78",
   "metadata": {},
   "source": [
    "**(1.2) Use the dataframe in (1.1). Fill in missing values with the price of the previous month.**"
   ]
  },
  {
   "cell_type": "code",
   "execution_count": null,
   "id": "a74c1728",
   "metadata": {},
   "outputs": [],
   "source": []
  },
  {
   "cell_type": "markdown",
   "id": "af1b7652",
   "metadata": {},
   "source": [
    "**(1.3) Use the dataframe in (1.1). Fill in missing values with the average price. Round numbers to one decimal place.**"
   ]
  },
  {
   "cell_type": "code",
   "execution_count": null,
   "id": "5399b299",
   "metadata": {},
   "outputs": [],
   "source": []
  },
  {
   "cell_type": "markdown",
   "id": "071fd10c",
   "metadata": {},
   "source": [
    "## (2) Melbourne housing data"
   ]
  },
  {
   "cell_type": "markdown",
   "id": "a537350f",
   "metadata": {},
   "source": [
    "**(2.1) Import the dataset <code>melbourne.csv</code>. Show the first five rows.**"
   ]
  },
  {
   "cell_type": "code",
   "execution_count": null,
   "id": "d3736922",
   "metadata": {},
   "outputs": [],
   "source": []
  },
  {
   "cell_type": "markdown",
   "id": "66b8afb1",
   "metadata": {},
   "source": [
    "**(2.2) Select the data for the following suburbs. Store the result as a new dataframe and use it to answer the remaining questions. Show the first five rows.** <br>\n",
    "<code>Reservoir, Richmond, Brunswick, Bentleigh East, Coburg, Preston</code>"
   ]
  },
  {
   "cell_type": "code",
   "execution_count": null,
   "id": "0cd87404",
   "metadata": {},
   "outputs": [],
   "source": []
  },
  {
   "cell_type": "markdown",
   "id": "43c0f3b4",
   "metadata": {},
   "source": [
    "**(2.3) Calculate the average price in each suburb. Display the top three suburbs with the highest average price and round the result to one decimal place.**<br>"
   ]
  },
  {
   "cell_type": "code",
   "execution_count": null,
   "id": "5c720cc2",
   "metadata": {},
   "outputs": [],
   "source": []
  },
  {
   "cell_type": "markdown",
   "id": "73a079ce",
   "metadata": {},
   "source": [
    "**(2.4) What is the largest </code>land size</code> in each suburb?**<br>\n",
    "Hint: Column \"Landsize\""
   ]
  },
  {
   "cell_type": "code",
   "execution_count": null,
   "id": "e9b15f4e",
   "metadata": {},
   "outputs": [],
   "source": []
  },
  {
   "cell_type": "markdown",
   "id": "aabfd56f",
   "metadata": {},
   "source": [
    "**(2.5) What is the highest price in each region?**<br>\n",
    "Hint: Column \"Regionname\""
   ]
  },
  {
   "cell_type": "code",
   "execution_count": null,
   "id": "73478fcf",
   "metadata": {},
   "outputs": [],
   "source": []
  },
  {
   "cell_type": "markdown",
   "id": "fda74ab0",
   "metadata": {},
   "source": [
    "## (3) US National Parks and their animal and plant species\n",
    "\n",
    "The dataset \"species.csv\" provides information on the presence and status of species in US national parks. Each park species record includes a species ID, park name, taxonomic information, scientific name, one or more common names, record status, occurrence (verification of species presence in park), nativeness (species native or foreign to park), abundance (presence and visibility of species in park), seasonality (season and nature of presence in park), and conservation status (species classification according to US Fish & Wildlife Service). Taxonomic classes have been translated from Latin to English for species categorization; order, family, and scientific name (genus, species, subspecies) are in Latin."
   ]
  },
  {
   "cell_type": "markdown",
   "id": "81286399",
   "metadata": {},
   "source": [
    "**(3.1) Import the dataset <code>species.csv</code>. Show the summary of this dataset including column names and their data types.** (You will get a warning message about the data type. You can ignore this message, it will not affect the following exercises.)"
   ]
  },
  {
   "cell_type": "code",
   "execution_count": null,
   "id": "73f7b4ca",
   "metadata": {},
   "outputs": [],
   "source": []
  },
  {
   "cell_type": "markdown",
   "id": "3f3c0a57",
   "metadata": {},
   "source": [
    "**(3.2) Select all species belonging to \"Canidae\" family. Store the data as a new dataframe called <code>species_df</code> with the following columns: <code>'Species ID', 'Park Name', 'Common Names', 'Family', 'Abundance'</code>. Use this dataframe to answer questions 3.3 to 3.5.**"
   ]
  },
  {
   "cell_type": "code",
   "execution_count": null,
   "id": "56fa48ba",
   "metadata": {},
   "outputs": [],
   "source": []
  },
  {
   "cell_type": "markdown",
   "id": "75d9de14",
   "metadata": {},
   "source": [
    "**(3.3) Replace missing values with \"Unknown\".** (Apply this change directly to the dataframe.)"
   ]
  },
  {
   "cell_type": "code",
   "execution_count": null,
   "id": "06267923",
   "metadata": {},
   "outputs": [],
   "source": []
  },
  {
   "cell_type": "markdown",
   "id": "6362d82a",
   "metadata": {},
   "source": [
    "**(3.4) Shows the number of species in each <code>Abundance</code> category.**<br>\n",
    "Example:<br>\n",
    "Uncommon:   95<br>\n",
    "Common:     42<br>\n",
    "...<br>\n",
    "..."
   ]
  },
  {
   "cell_type": "code",
   "execution_count": null,
   "id": "bf6ea344",
   "metadata": {},
   "outputs": [],
   "source": []
  },
  {
   "cell_type": "markdown",
   "id": "fca78786",
   "metadata": {},
   "source": [
    "**(3.5) Calculate the number of species in each park and show the top five parks with the largest number of species.**<br>\n",
    "Hint: column <code>Park Name</code>."
   ]
  },
  {
   "cell_type": "code",
   "execution_count": null,
   "id": "89e2a5e1",
   "metadata": {},
   "outputs": [],
   "source": []
  },
  {
   "cell_type": "markdown",
   "id": "e8b3d5f7",
   "metadata": {},
   "source": [
    "## (4) Customer profile analysis\n",
    "A mall has gathered data on their customers through a loyalty program. They have information about age, gender, annual income and spending score. Spending Score is a measure from 0 to 100, created for each customer based on customer behavior and purchasing data."
   ]
  },
  {
   "cell_type": "markdown",
   "id": "e54be660",
   "metadata": {},
   "source": [
    "**(4.1) Import dataset <code>customers.csv</code> and use the column <code>CustomerID</code> as the index. Display the first five rows.**<br>\n",
    "Hint: pd.read_csv(\"filename\", index_col = \"CustomerID\")"
   ]
  },
  {
   "cell_type": "code",
   "execution_count": null,
   "id": "1b95771f",
   "metadata": {},
   "outputs": [],
   "source": []
  },
  {
   "cell_type": "markdown",
   "id": "630f9e12",
   "metadata": {},
   "source": [
    "**(4.2) Rename the columns according to the table below.**<br>\n",
    "Hint: df.columns = ['gender', 'age', 'income', 'spending_score']"
   ]
  },
  {
   "cell_type": "markdown",
   "id": "716521ad",
   "metadata": {},
   "source": [
    "|column name| new column name|\n",
    "|:-:|:-:|\n",
    "|Gender|gender|\n",
    "|Age|age|\n",
    "|Annual Income (k$)|income|\n",
    "|Spending Score (1-100)|spending_score|"
   ]
  },
  {
   "cell_type": "code",
   "execution_count": null,
   "id": "2e058441",
   "metadata": {},
   "outputs": [],
   "source": []
  },
  {
   "cell_type": "markdown",
   "id": "29fa3783",
   "metadata": {},
   "source": [
    "**(4.3) Calculate the average age for each gender group. Round the numbers to whole numbers.**<br>"
   ]
  },
  {
   "cell_type": "code",
   "execution_count": null,
   "id": "02d1a71d",
   "metadata": {},
   "outputs": [],
   "source": []
  },
  {
   "cell_type": "markdown",
   "id": "5e7240d0",
   "metadata": {},
   "source": [
    "**(4.4) Convert the column <code>age</code> to age group according to the table below. Store the result in a new column named <code>age_group</code>.**<br>\n",
    "Hint: pd.cut()"
   ]
  },
  {
   "cell_type": "markdown",
   "id": "ca3d3c69",
   "metadata": {},
   "source": [
    "|range| label|\n",
    "|:-:|:-:|\n",
    "|18-35| young adults|\n",
    "|36-55| middle-aged adults|\n",
    "|56-75| older adults |"
   ]
  },
  {
   "cell_type": "code",
   "execution_count": null,
   "id": "e64b99b3",
   "metadata": {},
   "outputs": [],
   "source": []
  },
  {
   "cell_type": "markdown",
   "id": "65380143",
   "metadata": {},
   "source": [
    "**(4.5) Calculate the average income for each age group. Round the numbers to two decimal places.**<br>"
   ]
  },
  {
   "cell_type": "code",
   "execution_count": null,
   "id": "43606994",
   "metadata": {},
   "outputs": [],
   "source": []
  },
  {
   "cell_type": "markdown",
   "id": "8e5cb540",
   "metadata": {},
   "source": [
    "**(4.6) Group the data by columns <code>age_group</code> and <code>gender</code>. Calculate the average spending score for each group. Round the numbers to two decimal places.**"
   ]
  },
  {
   "cell_type": "code",
   "execution_count": null,
   "id": "77b1f898",
   "metadata": {},
   "outputs": [],
   "source": []
  }
 ],
 "metadata": {
  "kernelspec": {
   "display_name": "Python 3 (ipykernel)",
   "language": "python",
   "name": "python3"
  },
  "language_info": {
   "codemirror_mode": {
    "name": "ipython",
    "version": 3
   },
   "file_extension": ".py",
   "mimetype": "text/x-python",
   "name": "python",
   "nbconvert_exporter": "python",
   "pygments_lexer": "ipython3",
   "version": "3.11.4"
  }
 },
 "nbformat": 4,
 "nbformat_minor": 5
}
