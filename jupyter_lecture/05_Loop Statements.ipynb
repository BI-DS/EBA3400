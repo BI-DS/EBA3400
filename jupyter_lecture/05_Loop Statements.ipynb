{
 "cells": [
  {
   "cell_type": "markdown",
   "metadata": {},
   "source": [
    "# Loops Statements\n",
    "**[1] Updating variables**<br>\n",
    "**[2] While loops**<br>\n",
    "    - Updating variables<br>\n",
    "    - Break & continue<br>\n",
    "    - Infinite loops<br>\n",
    "**[3] For loops**<br>\n",
    "    - Iterable objects<br>\n",
    "    - Updating variables<br>\n",
    "    - Break & continue<br>\n",
    "    - Applications<br>\n",
    "    - Nested loops"
   ]
  },
  {
   "cell_type": "markdown",
   "metadata": {},
   "source": [
    "## [1] Updating variables"
   ]
  },
  {
   "cell_type": "code",
   "execution_count": null,
   "metadata": {},
   "outputs": [],
   "source": [
    "x = 10\n",
    "x = x + 1  #same as x+=1\n",
    "print (x)\n",
    "x = x + 1\n",
    "print (x)\n",
    "x = x + 1\n",
    "print (x)"
   ]
  },
  {
   "cell_type": "code",
   "execution_count": null,
   "metadata": {},
   "outputs": [],
   "source": [
    "x = 10\n",
    "x = x - 1  #same as x-=1\n",
    "print (x)\n",
    "x = x - 1\n",
    "print (x)\n",
    "x = x - 1\n",
    "print (x)"
   ]
  },
  {
   "cell_type": "markdown",
   "metadata": {},
   "source": [
    "## [2] While loop"
   ]
  },
  {
   "cell_type": "markdown",
   "metadata": {},
   "source": [
    "### [2.1] Updating variables"
   ]
  },
  {
   "cell_type": "markdown",
   "metadata": {},
   "source": [
    "- **<code>while</code>**"
   ]
  },
  {
   "cell_type": "code",
   "execution_count": null,
   "metadata": {},
   "outputs": [],
   "source": [
    "n = 5\n",
    "while n > 0:\n",
    "    print(n)\n",
    "    n = n - 1"
   ]
  },
  {
   "cell_type": "markdown",
   "metadata": {},
   "source": [
    "- **<code>while, else</code>**"
   ]
  },
  {
   "cell_type": "code",
   "execution_count": null,
   "metadata": {},
   "outputs": [],
   "source": [
    "n = 5\n",
    "while n > 0:\n",
    "    print(n)\n",
    "    n = n - 1\n",
    "else:\n",
    "    print(\"Blastoff!\")"
   ]
  },
  {
   "cell_type": "markdown",
   "metadata": {},
   "source": [
    "## Excercies.A"
   ]
  },
  {
   "cell_type": "markdown",
   "metadata": {},
   "source": [
    "**(A.1) Define a variable <code>n=1</code>. Write a program to print out the following results.**\n",
    "<code>\n",
    "1\n",
    "2\n",
    "3\n",
    "4\n",
    "5\n",
    "</code>"
   ]
  },
  {
   "cell_type": "code",
   "execution_count": null,
   "metadata": {},
   "outputs": [],
   "source": []
  },
  {
   "cell_type": "markdown",
   "metadata": {},
   "source": [
    "**(A.2) Define a variable <code>n=2</code>. Write a program to print out the following results.**\n",
    "<code>\n",
    "2\n",
    "4\n",
    "6\n",
    "8\n",
    "10\n",
    "done\n",
    "</code>"
   ]
  },
  {
   "cell_type": "code",
   "execution_count": null,
   "metadata": {},
   "outputs": [],
   "source": []
  },
  {
   "cell_type": "markdown",
   "metadata": {},
   "source": [
    "### [2.2] Break & continue"
   ]
  },
  {
   "cell_type": "markdown",
   "metadata": {},
   "source": [
    "- **break**"
   ]
  },
  {
   "cell_type": "code",
   "execution_count": null,
   "metadata": {},
   "outputs": [],
   "source": [
    "n = 0\n",
    "while n<10:\n",
    "    n = n + 1\n",
    "    if n==5:\n",
    "        break   \n",
    "    print(n) "
   ]
  },
  {
   "cell_type": "markdown",
   "metadata": {},
   "source": [
    "- **continue**"
   ]
  },
  {
   "cell_type": "code",
   "execution_count": null,
   "metadata": {},
   "outputs": [],
   "source": [
    "n = 0\n",
    "while n<10:\n",
    "    n = n + 1\n",
    "    if n==5:\n",
    "        continue \n",
    "    print(n)    "
   ]
  },
  {
   "cell_type": "markdown",
   "metadata": {},
   "source": [
    "- **Infinite loops**"
   ]
  },
  {
   "cell_type": "code",
   "execution_count": null,
   "metadata": {},
   "outputs": [],
   "source": [
    "n = 10\n",
    "while True:\n",
    "    print(n)\n",
    "    n = n - 1\n",
    "print('Done!')"
   ]
  },
  {
   "cell_type": "markdown",
   "metadata": {},
   "source": [
    "## Exercise.B"
   ]
  },
  {
   "cell_type": "markdown",
   "metadata": {},
   "source": [
    "**(B.1) Assume you have a part-time job with a daily income of 300 kr, and your goal is to reach a total of 2500 kr. You work for two days, then have a day off, and continue this pattern until you reach or exceed your target income of 2500 kr. Write a program using a while loop to calculate and print out the cumulative income for each working day until you reach your goal.**<br>\n",
    "\n",
    "Expected output:<br>\n",
    "Day-1: 300<br>\n",
    "Day-2: 600<br>\n",
    "Day-4: 900<br>\n",
    "Day-5: 1200<br>\n",
    "...<br>\n",
    "Day-13: 2700<br>"
   ]
  },
  {
   "cell_type": "code",
   "execution_count": null,
   "metadata": {},
   "outputs": [],
   "source": []
  },
  {
   "cell_type": "markdown",
   "metadata": {},
   "source": [
    "## [3] For loop"
   ]
  },
  {
   "cell_type": "markdown",
   "metadata": {},
   "source": [
    "### [3.1] Iterable objects - string, list and range"
   ]
  },
  {
   "cell_type": "markdown",
   "metadata": {},
   "source": [
    "- **string**"
   ]
  },
  {
   "cell_type": "code",
   "execution_count": null,
   "metadata": {},
   "outputs": [],
   "source": [
    "mystr = \"python\"\n",
    "for i in mystr:\n",
    "    print(i)"
   ]
  },
  {
   "cell_type": "markdown",
   "metadata": {},
   "source": [
    "- **list**"
   ]
  },
  {
   "cell_type": "code",
   "execution_count": null,
   "metadata": {},
   "outputs": [],
   "source": [
    "mylist = [5, 4, 3, 2, 1]\n",
    "for i in mylist:\n",
    "    print(i)"
   ]
  },
  {
   "cell_type": "code",
   "execution_count": null,
   "metadata": {},
   "outputs": [],
   "source": [
    "mylist = ['John', 'Leo', 'Emma']\n",
    "for i in mylist:\n",
    "    print('Happy New Year,', i)"
   ]
  },
  {
   "cell_type": "markdown",
   "metadata": {},
   "source": [
    "- **range**"
   ]
  },
  {
   "cell_type": "code",
   "execution_count": null,
   "metadata": {},
   "outputs": [],
   "source": [
    "for i in range(10):  #same as range(0,10)\n",
    "    print(i)"
   ]
  },
  {
   "cell_type": "code",
   "execution_count": null,
   "metadata": {
    "scrolled": true
   },
   "outputs": [],
   "source": [
    "for i in range(1,5):\n",
    "    print(i)"
   ]
  },
  {
   "cell_type": "code",
   "execution_count": null,
   "metadata": {},
   "outputs": [],
   "source": [
    "for i in range(5):\n",
    "    print(\"hello world\")"
   ]
  },
  {
   "cell_type": "markdown",
   "metadata": {},
   "source": [
    "## Exercise.C"
   ]
  },
  {
   "cell_type": "markdown",
   "metadata": {},
   "source": [
    "**(C.1) Given the list below, use a for loop to generate the following output for each item in the list.**<br>\n",
    "\n",
    "Expected result:<br>\n",
    "Apple has been added to your shopping cart.<br>\n",
    "Yogurt has been added to your shopping cart.<br>\n",
    "Avocado has been added to your shopping cart.<br>\n",
    "Salmon has been added to your shopping cart.<br>"
   ]
  },
  {
   "cell_type": "code",
   "execution_count": null,
   "metadata": {},
   "outputs": [],
   "source": [
    "item_list = [\"Apple\", \"Yogurt\", \"Avocado\", \"Salmon\"]"
   ]
  },
  {
   "cell_type": "code",
   "execution_count": null,
   "metadata": {},
   "outputs": [],
   "source": []
  },
  {
   "cell_type": "markdown",
   "metadata": {},
   "source": [
    "**(C.2) Print a sequence of numbers from 15 to 25 on one line.**<br>\n",
    "Expected result:<br>\n",
    "15 16 17 18 19 20 21 22 23 24 25 "
   ]
  },
  {
   "cell_type": "code",
   "execution_count": null,
   "metadata": {},
   "outputs": [],
   "source": []
  },
  {
   "cell_type": "markdown",
   "metadata": {},
   "source": [
    "### [3.2] Updating variables"
   ]
  },
  {
   "cell_type": "code",
   "execution_count": null,
   "metadata": {},
   "outputs": [],
   "source": [
    "# Initialise a variable\n",
    "x = 0\n",
    "\n",
    "# For each iteration, we update the variable \"x\"\n",
    "for i in range(0,5):\n",
    "    x = x + i\n",
    "    print(x)"
   ]
  },
  {
   "cell_type": "code",
   "execution_count": null,
   "metadata": {},
   "outputs": [],
   "source": [
    "# Each item represents the number of confirmed cases per day\n",
    "covid_list = [10, 15, 12, 10, 18] \n",
    "\n",
    "# Initialise a variable (cumulative number of cases)\n",
    "cum_case = 0\n",
    "\n",
    "# For each iteration, we update the variable \"cum_case\"\n",
    "for daily_case in covid_list:\n",
    "    cum_case = cum_case + daily_case\n",
    "    print(cum_case)"
   ]
  },
  {
   "cell_type": "markdown",
   "metadata": {},
   "source": [
    "## Exercise.D"
   ]
  },
  {
   "cell_type": "markdown",
   "metadata": {},
   "source": [
    "**(D.1) You have taken five consecutive daily quizzes, and you want to calculate your cumulative score for each day. Given  the following list of quiz scores for each day, use a for loop to print out the cumulative score of each day.**<br>\n",
    "Expected result:\n",
    "<code>\n",
    "15\n",
    "25\n",
    "38\n",
    "55\n",
    "67\n",
    "</code>   "
   ]
  },
  {
   "cell_type": "code",
   "execution_count": null,
   "metadata": {},
   "outputs": [],
   "source": [
    "scores = [15, 10, 13, 17, 12]"
   ]
  },
  {
   "cell_type": "code",
   "execution_count": null,
   "metadata": {},
   "outputs": [],
   "source": []
  },
  {
   "cell_type": "markdown",
   "metadata": {},
   "source": [
    "### [3.3] Break & continue"
   ]
  },
  {
   "cell_type": "markdown",
   "metadata": {},
   "source": [
    "- **break**"
   ]
  },
  {
   "cell_type": "code",
   "execution_count": null,
   "metadata": {},
   "outputs": [],
   "source": [
    "for i in range(0,10):\n",
    "    if i == 5:\n",
    "        break\n",
    "    print(i)"
   ]
  },
  {
   "cell_type": "markdown",
   "metadata": {},
   "source": [
    "- **continue**"
   ]
  },
  {
   "cell_type": "code",
   "execution_count": null,
   "metadata": {},
   "outputs": [],
   "source": [
    "for i in range(0,10):\n",
    "    if i == 5:\n",
    "        continue\n",
    "    print(i)"
   ]
  },
  {
   "cell_type": "markdown",
   "metadata": {},
   "source": [
    "### [3.4] Applications"
   ]
  },
  {
   "cell_type": "markdown",
   "metadata": {},
   "source": [
    "- **Adding up**"
   ]
  },
  {
   "cell_type": "code",
   "execution_count": null,
   "metadata": {},
   "outputs": [],
   "source": [
    "# Initialise a variable\n",
    "total = 0\n",
    "\n",
    "# For each iteration, we update the variable \"total\"\n",
    "for n in range(1,11):\n",
    "    total = total + n\n",
    "    print(total) "
   ]
  },
  {
   "cell_type": "markdown",
   "metadata": {},
   "source": [
    "- **Counter**"
   ]
  },
  {
   "cell_type": "code",
   "execution_count": null,
   "metadata": {},
   "outputs": [],
   "source": [
    "animal_list = ['dog', 'dog', 'cat', 'dog', 'cat', 'cat', 'dog', 'cat', 'dog', 'cat']\n",
    "\n",
    "# Initialise a variable\n",
    "counter = 0\n",
    "\n",
    "# For each iteration, we update the variable \"counter\"\n",
    "for animal in animal_list:\n",
    "    if animal == 'dog':\n",
    "        counter = counter +1\n",
    "    \n",
    "print('# of dogs:', counter)"
   ]
  },
  {
   "cell_type": "markdown",
   "metadata": {},
   "source": [
    "- **Find the maximum number**"
   ]
  },
  {
   "cell_type": "code",
   "execution_count": null,
   "metadata": {},
   "outputs": [],
   "source": [
    "price_list = [100, 450, 200, 250, 300, 500, 150]\n",
    "\n",
    "# Initialise a variable\n",
    "max_price = price_list[0]\n",
    "\n",
    "\n",
    "# For each iteration, if the test is true, we update the variable \"max_price\"\n",
    "for price in price_list:\n",
    "    if price > max_price:\n",
    "        max_price = price\n",
    "\n",
    "print(\"Maximum:\", max_price) "
   ]
  },
  {
   "cell_type": "markdown",
   "metadata": {},
   "source": [
    "## Exercise.E"
   ]
  },
  {
   "cell_type": "markdown",
   "metadata": {},
   "source": [
    "**(E.1) Print all numbers from the list <code>numbers</code> until you encounter a number that is divisible by 7.**"
   ]
  },
  {
   "cell_type": "code",
   "execution_count": null,
   "metadata": {},
   "outputs": [],
   "source": [
    "numbers = [88, 36, 139, 12, 24, 158, 29, 16, 152, 98, 45, 184, 191, 92, 117]"
   ]
  },
  {
   "cell_type": "code",
   "execution_count": null,
   "metadata": {},
   "outputs": [],
   "source": []
  },
  {
   "cell_type": "markdown",
   "metadata": {},
   "source": [
    "**(E.2) Given the following list. How many names start with \"S\"?**<br>\n",
    "Hint: Initialize a variable as a counter."
   ]
  },
  {
   "cell_type": "code",
   "execution_count": null,
   "metadata": {},
   "outputs": [],
   "source": [
    "name_list = [\"Henry\", \"Victoria\", \"Isaac\", \"Sara\", \"Maya\", \"Zoe\", \"Isabelle\", \"Nora\", \"Madelyn\", \n",
    "             \"Sophia\", \"Charlotte\", \"Michael\", \"Sebastian\", \"Leah\", \"Ryan\", 'Matthew', \"Mila\"]"
   ]
  },
  {
   "cell_type": "code",
   "execution_count": null,
   "metadata": {},
   "outputs": [],
   "source": []
  },
  {
   "cell_type": "markdown",
   "metadata": {},
   "source": [
    "### [3.5] Nested loops"
   ]
  },
  {
   "cell_type": "code",
   "execution_count": null,
   "metadata": {},
   "outputs": [],
   "source": [
    "list_1 = [\"A\", \"B\", \"C\"]\n",
    "list_2 = [1, 2, 3, 4]\n",
    "\n",
    "for i in list_1:\n",
    "    for j in list_2:\n",
    "        print(i, j)"
   ]
  },
  {
   "cell_type": "code",
   "execution_count": null,
   "metadata": {},
   "outputs": [],
   "source": [
    "for i in range(1,4):\n",
    "    for j in range(1,4):\n",
    "        print (f\"{i}-{j}\")"
   ]
  },
  {
   "cell_type": "code",
   "execution_count": null,
   "metadata": {},
   "outputs": [],
   "source": [
    "# Start a new line after each iteration of the outer for loop.\n",
    "for i in range(1,4):\n",
    "    for j in range(1,4):\n",
    "        print (f\"{i}-{j}\", end = \" \")\n",
    "    print()  #same as print(end = \"\\n\")"
   ]
  },
  {
   "cell_type": "markdown",
   "metadata": {},
   "source": [
    "## Exercise.F"
   ]
  },
  {
   "cell_type": "markdown",
   "metadata": {},
   "source": [
    "**(F.1) Suppose you want to order a drink and a dessert, print out all possible combinations.**<br>\n",
    "\n",
    "Example:<br>\n",
    "Tea & Carrot cake<br>\n",
    "Tea & Lemon tart<br>\n",
    "...<br>\n",
    "...<br>\n",
    "Juice & Cheesecake<br>"
   ]
  },
  {
   "cell_type": "code",
   "execution_count": null,
   "metadata": {},
   "outputs": [],
   "source": [
    "menu_drink = [\"Tea\", \"Coffee\", \"Juice\"]\n",
    "menu_dessert = [\"Carrot cake\", \"Lemon tart\", \"Tiramisu\", \"Cheesecake\"]"
   ]
  },
  {
   "cell_type": "code",
   "execution_count": null,
   "metadata": {},
   "outputs": [],
   "source": []
  },
  {
   "cell_type": "markdown",
   "metadata": {},
   "source": [
    "**(F.2) Write a program to print out the following results.**\n",
    "<code>\n",
    "1+1=2\n",
    "1+2=3\n",
    "1+3=4\n",
    "2+1=3\n",
    "2+2=4\n",
    "2+3=5\n",
    "3+1=4\n",
    "3+2=5\n",
    "3+3=6\n",
    "</code>    "
   ]
  },
  {
   "cell_type": "code",
   "execution_count": null,
   "metadata": {},
   "outputs": [],
   "source": []
  }
 ],
 "metadata": {
  "kernelspec": {
   "display_name": "Python 3 (ipykernel)",
   "language": "python",
   "name": "python3"
  },
  "language_info": {
   "codemirror_mode": {
    "name": "ipython",
    "version": 3
   },
   "file_extension": ".py",
   "mimetype": "text/x-python",
   "name": "python",
   "nbconvert_exporter": "python",
   "pygments_lexer": "ipython3",
   "version": "3.11.4"
  }
 },
 "nbformat": 4,
 "nbformat_minor": 4
}
