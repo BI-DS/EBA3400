{
 "cells": [
  {
   "cell_type": "markdown",
   "metadata": {},
   "source": [
    "# Pandas4 - Visualization"
   ]
  },
  {
   "cell_type": "markdown",
   "metadata": {},
   "source": [
    "**[1] Reshape DataFrame for visualization**<br>\n",
    "\n",
    "**[2] X-axis with categorical data**<br>\n",
    "- (Line chart)\n",
    "- Bar chart\n",
    "- Area chart\n",
    "- Pie chart\n",
    "\n",
    "**[3] Numerical data**<br>\n",
    "- Histogram\n",
    "- Scatter plot\n",
    "- Hexagon plot"
   ]
  },
  {
   "cell_type": "code",
   "execution_count": null,
   "metadata": {},
   "outputs": [],
   "source": [
    "import pandas as pd"
   ]
  },
  {
   "cell_type": "markdown",
   "metadata": {},
   "source": [
    "## [1] Reshape DataFrame for visualization"
   ]
  },
  {
   "cell_type": "code",
   "execution_count": null,
   "metadata": {},
   "outputs": [],
   "source": [
    "score_df = pd.DataFrame({\"ID\":[\"S01\",\"S02\",\"S03\",\"S04\",\"S05\",\"S01\",\"S02\",\"S03\",\"S04\",\"S05\"],\n",
    "                        \"Exam\":[\"Exam-1\",\"Exam-1\",\"Exam-1\",\"Exam-1\",\"Exam-1\",\"Exam-2\",\"Exam-2\",\"Exam-2\",\"Exam-2\",\"Exam-2\"],\n",
    "                        \"Score\":[95, 75, 70, 65, 85, 85, 70, 90, 55, 60]})\n",
    "score_df"
   ]
  },
  {
   "cell_type": "markdown",
   "metadata": {},
   "source": [
    "- **Use <code>pivot_table()</code> to convert a dataframe from long-from to wide-form.**"
   ]
  },
  {
   "cell_type": "code",
   "execution_count": null,
   "metadata": {
    "scrolled": true
   },
   "outputs": [],
   "source": [
    "# Target: \"ID\"\n",
    "score_df.pivot_table(index = \"ID\", columns = \"Exam\", values = \"Score\")"
   ]
  },
  {
   "cell_type": "markdown",
   "metadata": {},
   "source": [
    "- **Change the target**"
   ]
  },
  {
   "cell_type": "code",
   "execution_count": null,
   "metadata": {
    "scrolled": true
   },
   "outputs": [],
   "source": [
    "# Target: \"Exam\"\n",
    "score_df.pivot_table(index = \"Exam\", columns = \"ID\", values = \"Score\")"
   ]
  },
  {
   "cell_type": "markdown",
   "metadata": {},
   "source": [
    "## [2] X-axis with categorical data\n",
    "### [2.1] Line chart\n",
    "\n",
    "A line chart is usually used to visualize the trend of data over a period of time."
   ]
  },
  {
   "cell_type": "markdown",
   "metadata": {},
   "source": [
    "- **Series**"
   ]
  },
  {
   "cell_type": "code",
   "execution_count": null,
   "metadata": {},
   "outputs": [],
   "source": [
    "series_A = pd.Series([67, 57, 87, 50, 97, 68], \n",
    "                     index = [\"Jan\",\"Feb\",\"Mar\",\"Apr\",\"May\",\"Jun\"])\n",
    "series_A"
   ]
  },
  {
   "cell_type": "code",
   "execution_count": null,
   "metadata": {},
   "outputs": [],
   "source": [
    "series_A.plot()"
   ]
  },
  {
   "cell_type": "markdown",
   "metadata": {},
   "source": [
    "- **DataFrame: single line chart**"
   ]
  },
  {
   "cell_type": "code",
   "execution_count": null,
   "metadata": {},
   "outputs": [],
   "source": [
    "product_df = pd.DataFrame({\"month\":[\"Jan\",\"Feb\",\"Mar\",\"Apr\",\"May\",\"Jun\"],\n",
    "                           \"sales_A\":[67, 57, 87, 50, 97, 68],\n",
    "                           \"sales_B\":[78, 102, 113, 98, 80, 84]})\n",
    "product_df "
   ]
  },
  {
   "cell_type": "code",
   "execution_count": null,
   "metadata": {},
   "outputs": [],
   "source": [
    "product_df.plot(x = \"month\", y = \"sales_A\")"
   ]
  },
  {
   "cell_type": "markdown",
   "metadata": {},
   "source": [
    "- **DataFrame: multiple line chart**"
   ]
  },
  {
   "cell_type": "code",
   "execution_count": null,
   "metadata": {
    "scrolled": true
   },
   "outputs": [],
   "source": [
    "product_df.plot(x = \"month\", y= [\"sales_A\",\"sales_B\"])"
   ]
  },
  {
   "cell_type": "markdown",
   "metadata": {},
   "source": [
    "- **DataFrame - custom style**"
   ]
  },
  {
   "cell_type": "code",
   "execution_count": null,
   "metadata": {},
   "outputs": [],
   "source": [
    "product_df.plot(x = \"month\",\n",
    "                y = [\"sales_A\",\"sales_B\"], \n",
    "                marker = \"o\", \n",
    "                color = [\"red\",\"green\"],\n",
    "                linestyle = 'dashed',\n",
    "                figsize = (8,3))"
   ]
  },
  {
   "cell_type": "markdown",
   "metadata": {},
   "source": [
    "## Exercise.A"
   ]
  },
  {
   "cell_type": "markdown",
   "metadata": {},
   "source": [
    "**(A.1) Given the dataframe <code>expense_df</code>. Convert the dataframe to the following format (wide-form) and store the result in a new variable named <code>expense_df_wide</code>.**<br>\n",
    "\n",
    "Expected result:\n",
    "\n",
    "||grocery|transportation|\n",
    "|:-:|:-:|:-:|\n",
    "|**01-2022**|3050|1050|\n",
    "|**02-2022**|2800|900|\n",
    "|**03-2022**|2750|1150|\n",
    "|**04-2022**|2300|1850|\n",
    "|**05-2022**|3150|1250|\n",
    "|**06-2022**|2900|950|"
   ]
  },
  {
   "cell_type": "code",
   "execution_count": null,
   "metadata": {},
   "outputs": [],
   "source": [
    "expense_df = pd.DataFrame({'month':['01-2022','02-2022','03-2022','04-2022','05-2022','06-2022', '01-2022','02-2022','03-2022','04-2022','05-2022','06-2022'],\n",
    "                            'expense':[3050, 2800, 2750, 2300, 3150, 2900,1050, 900, 1150, 1850, 1250, 950],\n",
    "                            'category':['grocery', 'grocery', 'grocery', 'grocery', 'grocery', 'grocery', 'transportation','transportation','transportation','transportation','transportation','transportation']})\n",
    "expense_df"
   ]
  },
  {
   "cell_type": "code",
   "execution_count": null,
   "metadata": {},
   "outputs": [],
   "source": []
  },
  {
   "cell_type": "markdown",
   "metadata": {},
   "source": [
    "**(A.2) Use the dataframe <code>expense_df_wide</code> obtained in (A.1). Draw a multiple line chart to show the monthly groceries and transportation expenses.**"
   ]
  },
  {
   "cell_type": "code",
   "execution_count": null,
   "metadata": {},
   "outputs": [],
   "source": []
  },
  {
   "cell_type": "markdown",
   "metadata": {},
   "source": [
    "**(A.3) Import dataset <code>fashion.csv</code>. Show the first five rows.**<br>"
   ]
  },
  {
   "cell_type": "code",
   "execution_count": null,
   "metadata": {},
   "outputs": [],
   "source": []
  },
  {
   "cell_type": "markdown",
   "metadata": {},
   "source": [
    "**(A.4) Show the sales trends of <code>Tiger_of_Sweden</code> with a line chart.**"
   ]
  },
  {
   "cell_type": "code",
   "execution_count": null,
   "metadata": {},
   "outputs": [],
   "source": []
  },
  {
   "cell_type": "markdown",
   "metadata": {},
   "source": [
    "**(A.5) Show the sales trends of <code>Eton</code>, <code>Levi_s</code>, and <code>Tiger_of_Sweden</code> with a multiple line chart.**<br>\n",
    "\n",
    "Settings: Use <code>marker = \"D\"</code>, <code>figsize = (12,4)</code>,  <code>title = \"Monthly Sales\"</code>, <code>ylabel = \"Sales\"</code>. "
   ]
  },
  {
   "cell_type": "code",
   "execution_count": null,
   "metadata": {},
   "outputs": [],
   "source": []
  },
  {
   "cell_type": "markdown",
   "metadata": {},
   "source": [
    "### [2.2] Bar chart\n",
    "\n",
    "A bar chart is used to compare values of different categories."
   ]
  },
  {
   "cell_type": "markdown",
   "metadata": {},
   "source": [
    "- **Series**"
   ]
  },
  {
   "cell_type": "code",
   "execution_count": null,
   "metadata": {},
   "outputs": [],
   "source": [
    "series_A.plot(kind = 'bar')"
   ]
  },
  {
   "cell_type": "code",
   "execution_count": null,
   "metadata": {},
   "outputs": [],
   "source": [
    "series_A.plot(kind = 'barh')"
   ]
  },
  {
   "cell_type": "markdown",
   "metadata": {},
   "source": [
    "- **DataFrame: single bar chart**"
   ]
  },
  {
   "cell_type": "code",
   "execution_count": null,
   "metadata": {},
   "outputs": [],
   "source": [
    "product_df.plot(kind = \"bar\", x = \"month\", y = \"sales_A\")"
   ]
  },
  {
   "cell_type": "markdown",
   "metadata": {},
   "source": [
    "- **DataFrame: multiple bars**"
   ]
  },
  {
   "cell_type": "code",
   "execution_count": null,
   "metadata": {},
   "outputs": [],
   "source": [
    "product_df.plot(kind = \"bar\", x = \"month\", y= [\"sales_A\",\"sales_B\"])"
   ]
  },
  {
   "cell_type": "markdown",
   "metadata": {},
   "source": [
    "- **DataFrame - stacked bar chart**"
   ]
  },
  {
   "cell_type": "code",
   "execution_count": null,
   "metadata": {},
   "outputs": [],
   "source": [
    "product_df.plot(kind = \"bar\", x = \"month\", y = [\"sales_A\",\"sales_B\"], stacked = True)"
   ]
  },
  {
   "cell_type": "markdown",
   "metadata": {},
   "source": [
    "### [2.3] Area"
   ]
  },
  {
   "cell_type": "markdown",
   "metadata": {},
   "source": [
    "- **Stacked area chart**"
   ]
  },
  {
   "cell_type": "code",
   "execution_count": null,
   "metadata": {},
   "outputs": [],
   "source": [
    "product_df.plot(kind = \"area\",  \n",
    "                x = \"month\", \n",
    "                y = [\"sales_A\",\"sales_B\"])  #By default, stacked = False"
   ]
  },
  {
   "cell_type": "markdown",
   "metadata": {},
   "source": [
    "- **Unstacked area chart**"
   ]
  },
  {
   "cell_type": "code",
   "execution_count": null,
   "metadata": {
    "scrolled": true
   },
   "outputs": [],
   "source": [
    "product_df.plot(kind = \"area\", \n",
    "                x = \"month\", \n",
    "                y = [\"sales_A\",\"sales_B\"], \n",
    "                stacked = False)"
   ]
  },
  {
   "cell_type": "markdown",
   "metadata": {},
   "source": [
    "### [2.4] Pie chart\n",
    "A pie chart is used to show the proportion of each category to the whole."
   ]
  },
  {
   "cell_type": "code",
   "execution_count": null,
   "metadata": {
    "scrolled": true
   },
   "outputs": [],
   "source": [
    "spend_df = pd.DataFrame({'Jan':[1050, 250, 850, 3750],\n",
    "                         'Feb':[1750, 850, 1050, 3050],\n",
    "                         'Mar':[1150, 450, 950, 3250]},\n",
    "                         index = ['transportation','dining out',\"entertainment\", 'grocery'])\n",
    "spend_df"
   ]
  },
  {
   "cell_type": "markdown",
   "metadata": {},
   "source": [
    "- **One pie chart**"
   ]
  },
  {
   "cell_type": "code",
   "execution_count": null,
   "metadata": {},
   "outputs": [],
   "source": [
    "spend_df.plot(kind = \"pie\", y = \"Jan\")"
   ]
  },
  {
   "cell_type": "markdown",
   "metadata": {},
   "source": [
    "- **Multiple pie charts**"
   ]
  },
  {
   "cell_type": "code",
   "execution_count": null,
   "metadata": {},
   "outputs": [],
   "source": [
    "spend_df.plot.pie(subplots = True , figsize= (18,5), legend = False);"
   ]
  },
  {
   "cell_type": "markdown",
   "metadata": {},
   "source": [
    "## Exercise.B"
   ]
  },
  {
   "cell_type": "markdown",
   "metadata": {},
   "source": [
    "**(B.1) Import dataset <code>parks.csv</code>. Show the first five rows.**"
   ]
  },
  {
   "cell_type": "code",
   "execution_count": null,
   "metadata": {},
   "outputs": [],
   "source": []
  },
  {
   "cell_type": "markdown",
   "metadata": {},
   "source": [
    "**(B.2) Select the national parks in the following five states and keep columns <code>Park Name</code>, <code>State</code>, and <code>Acres</code>. Use this subset to answer the following questions.**<br>\n",
    "State: CA, CO, UT, AK, WA"
   ]
  },
  {
   "cell_type": "code",
   "execution_count": null,
   "metadata": {},
   "outputs": [],
   "source": []
  },
  {
   "cell_type": "markdown",
   "metadata": {},
   "source": [
    "**(B.3) Count the number of national parks in each state. Display the result using a bar graph.**<br>\n",
    "Hint: (1) Group data using column \"State\". (2) The x-axis shows each state, and each bar is the number of national parks in each state."
   ]
  },
  {
   "cell_type": "code",
   "execution_count": null,
   "metadata": {},
   "outputs": [],
   "source": []
  },
  {
   "cell_type": "markdown",
   "metadata": {},
   "source": [
    "**(B.4) Calculate the total area of national parks in each state. Display the result using a pie chart.**"
   ]
  },
  {
   "cell_type": "code",
   "execution_count": null,
   "metadata": {},
   "outputs": [],
   "source": []
  },
  {
   "cell_type": "markdown",
   "metadata": {},
   "source": [
    "## [3] Numerical data"
   ]
  },
  {
   "cell_type": "code",
   "execution_count": null,
   "metadata": {},
   "outputs": [],
   "source": [
    "diabetes_df = pd.read_csv(\"../dataset/diabetes.csv\", dtype = {\"Outcome\":object})\n",
    "diabetes_df.head(5)"
   ]
  },
  {
   "cell_type": "code",
   "execution_count": null,
   "metadata": {},
   "outputs": [],
   "source": [
    "# Select observations with pressure greater than 0 (remove outliers)\n",
    "diabetes_df = diabetes_df[diabetes_df.BloodPressure>0]"
   ]
  },
  {
   "cell_type": "markdown",
   "metadata": {},
   "source": [
    "### [3.1] Histogram"
   ]
  },
  {
   "cell_type": "markdown",
   "metadata": {},
   "source": [
    "A histogram is used to display the distribution of numerical data."
   ]
  },
  {
   "cell_type": "code",
   "execution_count": null,
   "metadata": {},
   "outputs": [],
   "source": [
    "diabetes_df.plot(kind = \"hist\", y = \"BloodPressure\")"
   ]
  },
  {
   "cell_type": "code",
   "execution_count": null,
   "metadata": {},
   "outputs": [],
   "source": [
    "print(\"min:\", diabetes_df.BloodPressure.min())\n",
    "print(\"max:\", diabetes_df.BloodPressure.max())\n",
    "print(\"bin width:\", (diabetes_df.BloodPressure.max()-diabetes_df.BloodPressure.min())/10)"
   ]
  },
  {
   "cell_type": "markdown",
   "metadata": {},
   "source": [
    "- **Custom bins**"
   ]
  },
  {
   "cell_type": "code",
   "execution_count": null,
   "metadata": {},
   "outputs": [],
   "source": [
    "diabetes_df.plot(kind = \"hist\", \n",
    "                 y = \"BloodPressure\", \n",
    "                 bins = 15, \n",
    "                 edgecolor = \"black\")"
   ]
  },
  {
   "cell_type": "code",
   "execution_count": null,
   "metadata": {
    "scrolled": true
   },
   "outputs": [],
   "source": [
    "diabetes_df.plot(kind = \"hist\", \n",
    "                 y = \"BloodPressure\", \n",
    "                 bins = range(0,130,5), \n",
    "                 edgecolor = \"black\")"
   ]
  },
  {
   "cell_type": "markdown",
   "metadata": {},
   "source": [
    "### [3.2] Scatter plot\n",
    "Scatter plots are used to observe the relationship between two variables."
   ]
  },
  {
   "cell_type": "code",
   "execution_count": null,
   "metadata": {},
   "outputs": [],
   "source": [
    "diabetes_df.plot(kind = \"scatter\", x = \"Age\", y = \"BloodPressure\")"
   ]
  },
  {
   "cell_type": "code",
   "execution_count": null,
   "metadata": {},
   "outputs": [],
   "source": [
    "diabetes_df.plot(kind = \"scatter\", x = \"Age\", y = \"BloodPressure\", c = \"BMI\", cmap = \"viridis\")"
   ]
  },
  {
   "cell_type": "markdown",
   "metadata": {},
   "source": [
    "### [3.3] Hexagon plot"
   ]
  },
  {
   "cell_type": "code",
   "execution_count": null,
   "metadata": {},
   "outputs": [],
   "source": [
    "diabetes_df.plot(kind = \"hexbin\", x = \"Age\", y= \"BloodPressure\", gridsize = 15)"
   ]
  },
  {
   "cell_type": "markdown",
   "metadata": {},
   "source": [
    "## Exercise.C"
   ]
  },
  {
   "cell_type": "markdown",
   "metadata": {},
   "source": [
    "**(C.1) Import dataset <code>wine.csv</code> and set the first column as the index. Display the first 5 rows.** <br>\n",
    "Hint: <code>index_col = [0]</code>"
   ]
  },
  {
   "cell_type": "markdown",
   "metadata": {},
   "source": [
    "Description of each column\n",
    "- **country**: The country that the wine is from\n",
    "- **description**: A few sentences from a sommelier describing the wine's taste, smell, look, feel, etc.\n",
    "- **designation**: The vineyard within the winery where the grapes that made the wine are from\n",
    "- **points**: The number of points WineEnthusiast rated the wine on a scale of 1-100\n",
    "- **price**: The cost for a bottle of the wine\n",
    "- **province**: The province or state that the wine is from\n",
    "- **region_1**: The wine growing area in a province or state\n",
    "- **region_2**: Sometimes there are more specific regions specified within a wine growing area, but this value can sometimes be blank\n",
    "- **variety**: The type of grapes used to make the wine\n",
    "- **winery**: The winery that made the wine"
   ]
  },
  {
   "cell_type": "code",
   "execution_count": null,
   "metadata": {},
   "outputs": [],
   "source": []
  },
  {
   "cell_type": "markdown",
   "metadata": {},
   "source": [
    "**(C.2) Select a subset that satisfies the following two conditions. Use this subset for the following tasks.**<br>\n",
    "- Select wines (rows) from Spain, Italy or France (use column <code>country</code>).\n",
    "- Select wines (rows) with a price of less than 200 (use column <code>price</code>)."
   ]
  },
  {
   "cell_type": "code",
   "execution_count": null,
   "metadata": {},
   "outputs": [],
   "source": []
  },
  {
   "cell_type": "markdown",
   "metadata": {},
   "source": [
    "**(C.3) Use a histogram to show the price distribution of French wines.**<br>\n",
    "Hint: Use column <code>price</code>."
   ]
  },
  {
   "cell_type": "code",
   "execution_count": null,
   "metadata": {},
   "outputs": [],
   "source": []
  },
  {
   "cell_type": "markdown",
   "metadata": {},
   "source": [
    "**(C.4) Use a scatter plot to show the relationship between price and the points received in the review.**<br>\n",
    "Hint: Use column <code>price</code> and <code>points</code>."
   ]
  },
  {
   "cell_type": "code",
   "execution_count": null,
   "metadata": {},
   "outputs": [],
   "source": []
  }
 ],
 "metadata": {
  "kernelspec": {
   "display_name": "Python 3 (ipykernel)",
   "language": "python",
   "name": "python3"
  },
  "language_info": {
   "codemirror_mode": {
    "name": "ipython",
    "version": 3
   },
   "file_extension": ".py",
   "mimetype": "text/x-python",
   "name": "python",
   "nbconvert_exporter": "python",
   "pygments_lexer": "ipython3",
   "version": "3.11.4"
  }
 },
 "nbformat": 4,
 "nbformat_minor": 4
}
