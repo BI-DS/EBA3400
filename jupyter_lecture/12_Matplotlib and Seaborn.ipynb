{
 "cells": [
  {
   "cell_type": "markdown",
   "metadata": {},
   "source": [
    "# 12_Matplotlib and Seaborn"
   ]
  },
  {
   "cell_type": "markdown",
   "metadata": {},
   "source": [
    "**[1] Matplotlib**<br>\n",
    "- Single plot <br>\n",
    "- Multiple plots <br>\n",
    "- Secondary axis<br>\n",
    "\n",
    "**[2] Seaborn**<br>\n",
    "- X-axis with categorical data: (<code>lineplot</code>), <code>countplot</code>, <code>barplot</code>, <code>heatmap</code><br>\n",
    "- Numbercial data: <code>histogram</code>, <code>scatterplot</code><br>\n",
    "- Multiple plot: <code>jointplot</code>, <code>pairplot</code>, <code>FacetGrid</code><br>"
   ]
  },
  {
   "cell_type": "code",
   "execution_count": null,
   "metadata": {},
   "outputs": [],
   "source": [
    "import pandas as pd"
   ]
  },
  {
   "cell_type": "markdown",
   "metadata": {},
   "source": [
    "## [1] matplotlib"
   ]
  },
  {
   "cell_type": "code",
   "execution_count": null,
   "metadata": {},
   "outputs": [],
   "source": [
    "import matplotlib.pyplot as plt"
   ]
  },
  {
   "cell_type": "code",
   "execution_count": null,
   "metadata": {},
   "outputs": [],
   "source": [
    "sales_df = pd.DataFrame({\"Sales\":[113, 84, 87, 50, 97, 68, 48, 54, 37, 38, 40, 57],\n",
    "                         \"Cumulative_sales\":[113, 197, 284, 334, 431, 499, 547, 601, 638, 676, 716, 773]}, \n",
    "                        index = [\"Jan\",\"Feb\",\"Mar\",\"Apr\",\"May\",\"Jun\",\"Jul\",\"Aug\",\"Sep\",\"Oct\",\"Nov\",\"Dec\"])\n",
    "sales_df "
   ]
  },
  {
   "cell_type": "markdown",
   "metadata": {},
   "source": [
    "- **Single plot**"
   ]
  },
  {
   "cell_type": "code",
   "execution_count": null,
   "metadata": {},
   "outputs": [],
   "source": [
    "#step1: Create a figure and axes\n",
    "fig, ax = plt.subplots()\n",
    "\n",
    "#step2: Plot a chart in axes\n",
    "sales_df.plot(kind = \"bar\", y = \"Sales\", ax = ax)\n",
    "\n",
    "#step3: Format the style\n",
    "ax.set_title(\"Monthly sales report\", fontsize = 18)\n",
    "ax.set_xlabel(\"Month\", fontsize = 12)\n",
    "ax.set_ylabel(\"Sales\", fontsize = 12);"
   ]
  },
  {
   "cell_type": "markdown",
   "metadata": {},
   "source": [
    "- **Multiple subplots**"
   ]
  },
  {
   "cell_type": "code",
   "execution_count": null,
   "metadata": {
    "scrolled": false
   },
   "outputs": [],
   "source": [
    "#step1: Create a figure and axes\n",
    "fig, ax = plt.subplots(nrows = 1, ncols = 2, figsize = (12,4))\n",
    "\n",
    "#step2: Plot a chart in axes\n",
    "sales_df.plot(kind = \"bar\", y = \"Sales\", ax=ax[0])\n",
    "sales_df.plot(kind = \"line\", y = \"Cumulative_sales\", ax = ax[1], color = \"red\", marker = \"o\")\n",
    "\n",
    "#step3: Format the style\n",
    "ax[0].set_title(\"Monthly sales\", fontsize = 18)\n",
    "ax[1].set_title(\"Cumulative monthly sales\", fontsize = 18)\n",
    "ax[1].set_ylim([0,1000]);"
   ]
  },
  {
   "cell_type": "markdown",
   "metadata": {},
   "source": [
    "## Exercise.A"
   ]
  },
  {
   "cell_type": "code",
   "execution_count": null,
   "metadata": {},
   "outputs": [],
   "source": [
    "import random\n",
    "random.seed(0)\n",
    "product_df = pd.DataFrame({\"A\":[random.randint(100,150) for i in range(6)],\"B\":[random.randint(20,150) for i in range(6)],\n",
    "                           \"C\":[random.randint(120,150) for i in range(6)]}, index = [\"Jan\",\"Feb\",\"Mar\",\"Apr\",\"May\",\"Jun\"])\n",
    "product_df"
   ]
  },
  {
   "cell_type": "markdown",
   "metadata": {},
   "source": [
    "**(A.1) Given the synthetic dataset above, each column represents the quarterly sales of products A, B, and C. Create a figure with three bar charts to show the sales data of each product.**<br>\n",
    "Setting: <code>figsize = (15,4)</code>"
   ]
  },
  {
   "cell_type": "code",
   "execution_count": null,
   "metadata": {},
   "outputs": [],
   "source": []
  },
  {
   "cell_type": "markdown",
   "metadata": {},
   "source": [
    "- **Secondary y-axis**"
   ]
  },
  {
   "cell_type": "code",
   "execution_count": null,
   "metadata": {},
   "outputs": [],
   "source": [
    "#step1: Create a figure and axes\n",
    "fig, ax1 = plt.subplots(figsize = (12, 3)) \n",
    "ax2 = ax1.twinx() \n",
    "\n",
    "#step2: Plot a chart in axes\n",
    "sales_df.plot(kind = \"bar\", y = \"Sales\", ax = ax1)\n",
    "sales_df.plot(kind = \"line\", y = \"Cumulative_sales\", ax = ax2, color = \"red\", marker = \"o\")\n",
    "#step3: Format the style\n",
    "ax1.set_xlabel(\"date\", fontsize = 18)\n",
    "ax1.set_ylabel(\"Sales\", fontsize = 18)\n",
    "ax1.legend(loc=\"upper left\")\n",
    "ax2.set_ylabel(\"Cumulative sales\", fontsize = 18)\n",
    "ax2.set_ylim([0,1000])\n",
    "ax2.legend(loc=\"upper right\");"
   ]
  },
  {
   "cell_type": "markdown",
   "metadata": {},
   "source": [
    "## [2] Seaborn"
   ]
  },
  {
   "cell_type": "code",
   "execution_count": null,
   "metadata": {},
   "outputs": [],
   "source": [
    "# !pip install seaborn"
   ]
  },
  {
   "cell_type": "code",
   "execution_count": null,
   "metadata": {},
   "outputs": [],
   "source": [
    "import seaborn as sns"
   ]
  },
  {
   "cell_type": "markdown",
   "metadata": {},
   "source": [
    "### [2.1] X-axis with categorical data"
   ]
  },
  {
   "cell_type": "markdown",
   "metadata": {},
   "source": [
    "- **Lineplot (wide form)**"
   ]
  },
  {
   "cell_type": "code",
   "execution_count": null,
   "metadata": {},
   "outputs": [],
   "source": [
    "product_df_wide = pd.DataFrame({\"A\":[67, 57, 87, 50, 97, 68],\n",
    "                                \"B\":[78, 102, 113, 98, 80, 84]}, \n",
    "                                index = [\"Jan\",\"Feb\",\"Mar\",\"Apr\",\"May\",\"Jun\"])\n",
    "\n",
    "product_df_wide"
   ]
  },
  {
   "cell_type": "code",
   "execution_count": null,
   "metadata": {},
   "outputs": [],
   "source": [
    "sns.lineplot(product_df_wide)"
   ]
  },
  {
   "cell_type": "markdown",
   "metadata": {},
   "source": [
    "- **Lineplot (long form)**<br>\n",
    "Use <code>hue</code> to specify which categorical column should be used to define the subsets."
   ]
  },
  {
   "cell_type": "code",
   "execution_count": null,
   "metadata": {},
   "outputs": [],
   "source": [
    "product_df_long = pd.DataFrame({\"month\":[\"Jan\",\"Feb\",\"Mar\",\"Apr\",\"May\",\"Jun\",\"Jan\",\"Feb\",\"Mar\",\"Apr\",\"May\",\"Jun\"],\n",
    "                        \"product\":[\"A\",\"A\",\"A\",\"A\",\"A\",\"A\",\"B\",\"B\",\"B\",\"B\",\"B\",\"B\"],\n",
    "                        \"sales\":[67, 57, 87, 50, 97, 68, 78, 102, 113, 98, 80, 84]})\n",
    "product_df_long"
   ]
  },
  {
   "cell_type": "code",
   "execution_count": null,
   "metadata": {},
   "outputs": [],
   "source": [
    "sns.lineplot(data = product_df_long, x = \"month\", y = \"sales\", hue = \"product\")"
   ]
  },
  {
   "cell_type": "markdown",
   "metadata": {},
   "source": [
    "*(The following charts all use the wine dataset)*\n"
   ]
  },
  {
   "cell_type": "code",
   "execution_count": null,
   "metadata": {},
   "outputs": [],
   "source": [
    "# Select a subset\n",
    "wine_raw_df = pd.read_csv(\"../dataset/wine.csv\", index_col = [0])\n",
    "wine_df = wine_raw_df[(wine_raw_df.country.isin([\"Italy\",\"France\",\"Spain\"])&\n",
    "                       (wine_raw_df.price < 200)&\n",
    "                       (wine_raw_df.variety.isin([\"Red Blend\",\"Tempranillo\",\"Chardonnay\", \"Pinot Noir\", \"Cabernet Sauvignon\"])))].loc[:,[\"country\",\"price\",\"variety\"]]\n",
    "wine_df"
   ]
  },
  {
   "cell_type": "markdown",
   "metadata": {},
   "source": [
    "- **Countplot**<br>\n",
    "It shows the number of occurrences of each category in the variable."
   ]
  },
  {
   "cell_type": "code",
   "execution_count": null,
   "metadata": {},
   "outputs": [],
   "source": [
    "sns.countplot(data = wine_df, x = \"country\")"
   ]
  },
  {
   "cell_type": "markdown",
   "metadata": {},
   "source": [
    "- **Countplot - Use the parameter <code>hue</code> to divide each bar into sub-bars**"
   ]
  },
  {
   "cell_type": "code",
   "execution_count": null,
   "metadata": {},
   "outputs": [],
   "source": [
    "sns.countplot(data = wine_df, x = \"country\", hue = \"variety\")"
   ]
  },
  {
   "cell_type": "markdown",
   "metadata": {},
   "source": [
    "- **Bar plot**<br>\n",
    "It shows the mean, median, or other statistics for each category."
   ]
  },
  {
   "cell_type": "code",
   "execution_count": null,
   "metadata": {},
   "outputs": [],
   "source": [
    "sns.barplot(data = wine_df, x = \"variety\", y = \"price\", estimator = \"mean\")"
   ]
  },
  {
   "cell_type": "markdown",
   "metadata": {},
   "source": [
    "- **Heatmap**<br>\n",
    "A two-dimensional visual representation of data, where colors represent different values."
   ]
  },
  {
   "cell_type": "code",
   "execution_count": null,
   "metadata": {
    "scrolled": true
   },
   "outputs": [],
   "source": [
    "# data preparation\n",
    "heatmap_data = pd.crosstab(wine_df[\"variety\"], wine_df[\"country\"])\n",
    "heatmap_data"
   ]
  },
  {
   "cell_type": "code",
   "execution_count": null,
   "metadata": {},
   "outputs": [],
   "source": [
    "sns.heatmap(data = heatmap_data, annot = True, fmt = \"d\", cmap = \"RdYlGn\")"
   ]
  },
  {
   "cell_type": "markdown",
   "metadata": {},
   "source": [
    "## Exercise.B"
   ]
  },
  {
   "cell_type": "markdown",
   "metadata": {},
   "source": [
    "The sinking of the Titanic is one of the most infamous shipwrecks in history, resulting in the death of 1502 out of 2224 passengers and crew. \n",
    "- **survived**: 0 = No, 1 = Yes\n",
    "- **pclass**: Ticket class (1 = 1st, 2 = 2nd, 3 = 3rd)\n",
    "- **sex**: sex\n",
    "- **age**: Age\n",
    "- **sibsp**: number of siblings / spouses aboard the Titanic\n",
    "- **parch**: number of parents / children aboard the Titanic  \n",
    "- **fare**: Passenger fare\n",
    "- **embarked**: Port of Embarkation (C = Cherbourg, Q = Queenstown, S = Southampton)    "
   ]
  },
  {
   "cell_type": "code",
   "execution_count": null,
   "metadata": {},
   "outputs": [],
   "source": [
    "titanic_df = sns.load_dataset(\"titanic\", dtype = {\"survived\": object, \"pclass\":object})"
   ]
  },
  {
   "cell_type": "markdown",
   "metadata": {},
   "source": [
    "**(B.1) Show the first 10 rows of the dataset.**"
   ]
  },
  {
   "cell_type": "code",
   "execution_count": null,
   "metadata": {},
   "outputs": [],
   "source": []
  },
  {
   "cell_type": "markdown",
   "metadata": {},
   "source": [
    "**(B.2) Use a count plot to display the number of male and female passengers.**"
   ]
  },
  {
   "cell_type": "code",
   "execution_count": null,
   "metadata": {},
   "outputs": [],
   "source": []
  },
  {
   "cell_type": "markdown",
   "metadata": {},
   "source": [
    "**(B.3) Use a count plot to display the number of male and female passengers, and use the column <code>survived</code> to divide each bar into two subbars.**<br>\n",
    "Hint: <code>hue</code>"
   ]
  },
  {
   "cell_type": "code",
   "execution_count": null,
   "metadata": {},
   "outputs": [],
   "source": []
  },
  {
   "cell_type": "markdown",
   "metadata": {},
   "source": [
    "**(B.4) Count the number of surviving and non-surviving passengers in each class.**<br>\n",
    "Hint: Use <code>crosstab()</code> to create a contingency table based on \"pclass\" and \"survived\" columns."
   ]
  },
  {
   "cell_type": "code",
   "execution_count": null,
   "metadata": {},
   "outputs": [],
   "source": []
  },
  {
   "cell_type": "markdown",
   "metadata": {},
   "source": [
    "**(B.5) Use the result obtained in (B.4) to draw a heatmap.**<br>\n",
    "Setting: <code>cmap = \"coolwarm\"</code>"
   ]
  },
  {
   "cell_type": "code",
   "execution_count": null,
   "metadata": {},
   "outputs": [],
   "source": []
  },
  {
   "cell_type": "markdown",
   "metadata": {},
   "source": [
    "### [2.2] Numerical data"
   ]
  },
  {
   "cell_type": "markdown",
   "metadata": {},
   "source": [
    "*(The following charts all use the diabetes dataset)*"
   ]
  },
  {
   "cell_type": "code",
   "execution_count": null,
   "metadata": {},
   "outputs": [],
   "source": [
    "# Import data and select observations with pressure greater than 0 (remove outliers)\n",
    "diabetes_df = pd.read_csv(\"../dataset/diabetes.csv\", dtype = {\"Outcome\":object})\n",
    "diabetes_df = diabetes_df[diabetes_df.BloodPressure>0]"
   ]
  },
  {
   "cell_type": "markdown",
   "metadata": {},
   "source": [
    "- **Histogram**"
   ]
  },
  {
   "cell_type": "code",
   "execution_count": null,
   "metadata": {},
   "outputs": [],
   "source": [
    "sns.histplot(data = diabetes_df, x = \"BloodPressure\")"
   ]
  },
  {
   "cell_type": "markdown",
   "metadata": {},
   "source": [
    "- **Histogram - group by a categorical variable**"
   ]
  },
  {
   "cell_type": "code",
   "execution_count": null,
   "metadata": {},
   "outputs": [],
   "source": [
    "sns.histplot(data = diabetes_df, x = \"BloodPressure\", hue = \"Outcome\")"
   ]
  },
  {
   "cell_type": "markdown",
   "metadata": {},
   "source": [
    "- **Scatter plot**"
   ]
  },
  {
   "cell_type": "code",
   "execution_count": null,
   "metadata": {},
   "outputs": [],
   "source": [
    "sns.scatterplot(data = diabetes_df, x = \"Age\", y = \"BloodPressure\")"
   ]
  },
  {
   "cell_type": "markdown",
   "metadata": {},
   "source": [
    "- **Scatter plot - group by a categorical variable**"
   ]
  },
  {
   "cell_type": "code",
   "execution_count": null,
   "metadata": {},
   "outputs": [],
   "source": [
    "sns.scatterplot(data = diabetes_df, x = \"Age\", y = \"BloodPressure\", hue = \"Outcome\")"
   ]
  },
  {
   "cell_type": "markdown",
   "metadata": {},
   "source": [
    "### [2.3] Multiple plots "
   ]
  },
  {
   "cell_type": "markdown",
   "metadata": {},
   "source": [
    "- **Joint plot** <br>\n",
    "To show the relationship between two variables and their respective distributions."
   ]
  },
  {
   "cell_type": "code",
   "execution_count": null,
   "metadata": {},
   "outputs": [],
   "source": [
    "sns.jointplot(data = diabetes_df, x = \"Age\", y = \"BloodPressure\")"
   ]
  },
  {
   "cell_type": "markdown",
   "metadata": {},
   "source": [
    "- **Joint plot - group by a categorical variable**"
   ]
  },
  {
   "cell_type": "code",
   "execution_count": null,
   "metadata": {},
   "outputs": [],
   "source": [
    "sns.jointplot(data = diabetes_df, x = \"Age\", y = \"BloodPressure\", hue = \"Outcome\", height = 5)"
   ]
  },
  {
   "cell_type": "markdown",
   "metadata": {},
   "source": [
    "- **Pairplot**"
   ]
  },
  {
   "cell_type": "code",
   "execution_count": null,
   "metadata": {},
   "outputs": [],
   "source": [
    "sns.pairplot(data = diabetes_df.loc[:,[\"BloodPressure\", \"BMI\", \"Age\"]], height = 2)"
   ]
  },
  {
   "cell_type": "markdown",
   "metadata": {},
   "source": [
    "## Exercise.C"
   ]
  },
  {
   "cell_type": "markdown",
   "metadata": {},
   "source": [
    "The \"diamonds\" dataset contains information about diamond characteristics, including price, carat (weight), cut, color, clarity, depth, table (width), and dimensions such as width, length, and depth. Below are descriptions of some of the variables used in this exercise.\n",
    "\n",
    "- **price**: Price (USD)\n",
    "- **carat**: Weight of the diamond \n",
    "- **cut**: Quality of the cut (Fair, Good, Very Good, Premium, Ideal)\n",
    "- **clarity**: A measurement of how clear the diamond is (I1 (worst), SI2, SI1, VS2, VS1, VVS2, VVS1, IF (best))"
   ]
  },
  {
   "cell_type": "markdown",
   "metadata": {},
   "source": [
    "**(C.1) Load the dataset \"diamonds\" from searbon, and display the first 5 rows of the dataset.**<br>\n",
    "Hint: <code>sns.load_dataset()</code>"
   ]
  },
  {
   "cell_type": "code",
   "execution_count": null,
   "metadata": {},
   "outputs": [],
   "source": []
  },
  {
   "cell_type": "markdown",
   "metadata": {},
   "source": [
    "**(C.2) Show the distribution of the price.**<br>\n",
    "Hint: <code>histplot()</code>"
   ]
  },
  {
   "cell_type": "code",
   "execution_count": null,
   "metadata": {},
   "outputs": [],
   "source": []
  },
  {
   "cell_type": "markdown",
   "metadata": {},
   "source": [
    "**(C.3) Use a scatter plot to show the relathionship between <code>carat</code> and <code>price</code> of the \"best\" clarity diamonds.**<br>\n",
    "Hint: Select a subset by using <code>diamond_df.clarity == \"IF\"</code>"
   ]
  },
  {
   "cell_type": "code",
   "execution_count": null,
   "metadata": {},
   "outputs": [],
   "source": []
  },
  {
   "cell_type": "markdown",
   "metadata": {},
   "source": [
    "**(C.4) Use a join plot to show the relathionship between <code>carat</code> and <code>price</code> of the best clarity diamonds and their individual distributions.**"
   ]
  },
  {
   "cell_type": "code",
   "execution_count": null,
   "metadata": {},
   "outputs": [],
   "source": []
  },
  {
   "cell_type": "markdown",
   "metadata": {},
   "source": [
    "- **FacetGrid**"
   ]
  },
  {
   "cell_type": "code",
   "execution_count": null,
   "metadata": {},
   "outputs": [],
   "source": [
    "# Initialize the grid\n",
    "g =  sns.FacetGrid(data = diabetes_df, col = \"Outcome\")"
   ]
  },
  {
   "cell_type": "code",
   "execution_count": null,
   "metadata": {},
   "outputs": [],
   "source": [
    "# Draw a plot on every facet\n",
    "g = sns.FacetGrid(data = diabetes_df, col = \"Outcome\")\n",
    "g.map(sns.histplot, \"BloodPressure\")"
   ]
  },
  {
   "cell_type": "code",
   "execution_count": null,
   "metadata": {},
   "outputs": [],
   "source": [
    "g = sns.FacetGrid(data = diabetes_df, col = \"Outcome\")\n",
    "g.map(sns.kdeplot, \"BloodPressure\")"
   ]
  },
  {
   "cell_type": "code",
   "execution_count": null,
   "metadata": {},
   "outputs": [],
   "source": [
    "g = sns.FacetGrid(data = diabetes_df, col = \"Outcome\")\n",
    "g.map(sns.scatterplot,\"Age\", \"BloodPressure\")"
   ]
  },
  {
   "cell_type": "markdown",
   "metadata": {},
   "source": [
    "## Exercise.D"
   ]
  },
  {
   "cell_type": "markdown",
   "metadata": {},
   "source": [
    "Below are descriptions of some of the variables in the \"diamonds\" dataset.\n",
    "\n",
    "- **price**: Price (USD)\n",
    "- **carat**: Weight of the diamond \n",
    "- **cut**: Quality of the cut (Fair, Good, Very Good, Premium, Ideal)\n",
    "- **clarity**: A measurement of how clear the diamond is (I1 (worst), SI2, SI1, VS2, VS1, VVS2, VVS1, IF (best))"
   ]
  },
  {
   "cell_type": "markdown",
   "metadata": {},
   "source": [
    "**(D.1) Use the dataframe <code>diamond_df</code> in (C.1). Draw a price histogram for each <code>cut</code> category.**<br>\n",
    "Hint: <code>col=\"cut\"</code>"
   ]
  },
  {
   "cell_type": "code",
   "execution_count": null,
   "metadata": {},
   "outputs": [],
   "source": []
  }
 ],
 "metadata": {
  "kernelspec": {
   "display_name": "Python 3 (ipykernel)",
   "language": "python",
   "name": "python3"
  },
  "language_info": {
   "codemirror_mode": {
    "name": "ipython",
    "version": 3
   },
   "file_extension": ".py",
   "mimetype": "text/x-python",
   "name": "python",
   "nbconvert_exporter": "python",
   "pygments_lexer": "ipython3",
   "version": "3.11.4"
  }
 },
 "nbformat": 4,
 "nbformat_minor": 4
}
