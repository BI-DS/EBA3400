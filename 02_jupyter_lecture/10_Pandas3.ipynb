{
 "cells": [
  {
   "cell_type": "markdown",
   "metadata": {},
   "source": [
    "## Pandas 3\n",
    "**[1] Missing data handling**<br>\n",
    "- Pandas missing values<br>\n",
    "- Detect missing values<br>\n",
    "- Drop missing values<br>\n",
    "- Fill in missing values<br>\n",
    "\n",
    "**[2] Calcualtion**<br>\n",
    "- Basic operations<br>\n",
    "- Data aggregation<br>"
   ]
  },
  {
   "cell_type": "code",
   "execution_count": 1,
   "metadata": {},
   "outputs": [],
   "source": [
    "import pandas as pd"
   ]
  },
  {
   "cell_type": "markdown",
   "metadata": {},
   "source": [
    "## [1] Missing data handling"
   ]
  },
  {
   "cell_type": "markdown",
   "metadata": {},
   "source": [
    "### [1.1] Pandas values"
   ]
  },
  {
   "cell_type": "markdown",
   "metadata": {},
   "source": [
    "- **Python None object**"
   ]
  },
  {
   "cell_type": "code",
   "execution_count": 2,
   "metadata": {},
   "outputs": [
    {
     "data": {
      "text/plain": [
       "NoneType"
      ]
     },
     "execution_count": 2,
     "metadata": {},
     "output_type": "execute_result"
    }
   ],
   "source": [
    "x = None\n",
    "type(x)"
   ]
  },
  {
   "cell_type": "markdown",
   "metadata": {},
   "source": [
    "- **Pandas NaN** "
   ]
  },
  {
   "cell_type": "code",
   "execution_count": 3,
   "metadata": {},
   "outputs": [
    {
     "data": {
      "text/plain": [
       "0    1.0\n",
       "1    2.0\n",
       "2    NaN\n",
       "3    4.0\n",
       "dtype: float64"
      ]
     },
     "execution_count": 3,
     "metadata": {},
     "output_type": "execute_result"
    }
   ],
   "source": [
    "mySeries = pd.Series([1,2, None, 4])\n",
    "mySeries"
   ]
  },
  {
   "cell_type": "code",
   "execution_count": 4,
   "metadata": {},
   "outputs": [
    {
     "data": {
      "text/plain": [
       "numpy.float64"
      ]
     },
     "execution_count": 4,
     "metadata": {},
     "output_type": "execute_result"
    }
   ],
   "source": [
    "type(mySeries[2])"
   ]
  },
  {
   "cell_type": "markdown",
   "metadata": {},
   "source": [
    "- **Dataset with missing values**"
   ]
  },
  {
   "cell_type": "code",
   "execution_count": 5,
   "metadata": {},
   "outputs": [
    {
     "data": {
      "text/html": [
       "<div>\n",
       "<style scoped>\n",
       "    .dataframe tbody tr th:only-of-type {\n",
       "        vertical-align: middle;\n",
       "    }\n",
       "\n",
       "    .dataframe tbody tr th {\n",
       "        vertical-align: top;\n",
       "    }\n",
       "\n",
       "    .dataframe thead th {\n",
       "        text-align: right;\n",
       "    }\n",
       "</style>\n",
       "<table border=\"1\" class=\"dataframe\">\n",
       "  <thead>\n",
       "    <tr style=\"text-align: right;\">\n",
       "      <th></th>\n",
       "      <th>Date</th>\n",
       "      <th>Amanda_Christensen</th>\n",
       "      <th>Calvin_Klein</th>\n",
       "      <th>Eton</th>\n",
       "      <th>J_Lindeberg</th>\n",
       "      <th>Lacoste</th>\n",
       "      <th>Levi_s</th>\n",
       "      <th>Oscar_Jacobson</th>\n",
       "      <th>Ray_Ban</th>\n",
       "      <th>Tiger_of_Sweden</th>\n",
       "    </tr>\n",
       "  </thead>\n",
       "  <tbody>\n",
       "    <tr>\n",
       "      <th>0</th>\n",
       "      <td>2014-07-01</td>\n",
       "      <td>5744.00000</td>\n",
       "      <td>29976.0000</td>\n",
       "      <td>78835.127273</td>\n",
       "      <td>89833.846154</td>\n",
       "      <td>65226.40000</td>\n",
       "      <td>63884.8</td>\n",
       "      <td>18971.813333</td>\n",
       "      <td>NaN</td>\n",
       "      <td>287420.566400</td>\n",
       "    </tr>\n",
       "    <tr>\n",
       "      <th>1</th>\n",
       "      <td>2014-08-01</td>\n",
       "      <td>7372.80000</td>\n",
       "      <td>33969.0000</td>\n",
       "      <td>98835.054545</td>\n",
       "      <td>153530.892308</td>\n",
       "      <td>43368.68000</td>\n",
       "      <td>57153.6</td>\n",
       "      <td>48796.800000</td>\n",
       "      <td>NaN</td>\n",
       "      <td>322481.827200</td>\n",
       "    </tr>\n",
       "    <tr>\n",
       "      <th>2</th>\n",
       "      <td>2014-09-01</td>\n",
       "      <td>8881.00000</td>\n",
       "      <td>28602.0000</td>\n",
       "      <td>70640.000000</td>\n",
       "      <td>146138.461538</td>\n",
       "      <td>26553.20000</td>\n",
       "      <td>47048.0</td>\n",
       "      <td>37864.266667</td>\n",
       "      <td>NaN</td>\n",
       "      <td>263211.054400</td>\n",
       "    </tr>\n",
       "    <tr>\n",
       "      <th>3</th>\n",
       "      <td>2014-10-01</td>\n",
       "      <td>10693.21500</td>\n",
       "      <td>23257.0000</td>\n",
       "      <td>70230.181818</td>\n",
       "      <td>151481.846154</td>\n",
       "      <td>37045.60000</td>\n",
       "      <td>33032.0</td>\n",
       "      <td>23762.000000</td>\n",
       "      <td>NaN</td>\n",
       "      <td>295135.536000</td>\n",
       "    </tr>\n",
       "    <tr>\n",
       "      <th>4</th>\n",
       "      <td>2014-11-01</td>\n",
       "      <td>17121.80000</td>\n",
       "      <td>29817.0000</td>\n",
       "      <td>96073.745455</td>\n",
       "      <td>180756.000000</td>\n",
       "      <td>35666.80000</td>\n",
       "      <td>25476.0</td>\n",
       "      <td>41173.600000</td>\n",
       "      <td>NaN</td>\n",
       "      <td>328531.016000</td>\n",
       "    </tr>\n",
       "    <tr>\n",
       "      <th>5</th>\n",
       "      <td>2014-12-01</td>\n",
       "      <td>34321.60000</td>\n",
       "      <td>43738.5000</td>\n",
       "      <td>143256.363636</td>\n",
       "      <td>144416.615385</td>\n",
       "      <td>33796.40000</td>\n",
       "      <td>25960.8</td>\n",
       "      <td>47829.466667</td>\n",
       "      <td>NaN</td>\n",
       "      <td>519894.808000</td>\n",
       "    </tr>\n",
       "    <tr>\n",
       "      <th>6</th>\n",
       "      <td>2015-01-01</td>\n",
       "      <td>7085.20000</td>\n",
       "      <td>28526.5000</td>\n",
       "      <td>120765.818182</td>\n",
       "      <td>182552.492308</td>\n",
       "      <td>31064.80000</td>\n",
       "      <td>55235.2</td>\n",
       "      <td>30837.733333</td>\n",
       "      <td>NaN</td>\n",
       "      <td>300741.560000</td>\n",
       "    </tr>\n",
       "    <tr>\n",
       "      <th>7</th>\n",
       "      <td>2015-02-01</td>\n",
       "      <td>7233.60000</td>\n",
       "      <td>27148.4658</td>\n",
       "      <td>82245.672727</td>\n",
       "      <td>134998.584492</td>\n",
       "      <td>29403.62392</td>\n",
       "      <td>30020.8</td>\n",
       "      <td>21506.095840</td>\n",
       "      <td>19107.20000</td>\n",
       "      <td>270403.424000</td>\n",
       "    </tr>\n",
       "    <tr>\n",
       "      <th>8</th>\n",
       "      <td>2015-03-01</td>\n",
       "      <td>7635.20568</td>\n",
       "      <td>48290.5000</td>\n",
       "      <td>81373.939491</td>\n",
       "      <td>189940.558031</td>\n",
       "      <td>62399.68420</td>\n",
       "      <td>302.4</td>\n",
       "      <td>66656.124907</td>\n",
       "      <td>67636.40000</td>\n",
       "      <td>260036.051003</td>\n",
       "    </tr>\n",
       "    <tr>\n",
       "      <th>9</th>\n",
       "      <td>2015-04-01</td>\n",
       "      <td>8710.55292</td>\n",
       "      <td>30567.9132</td>\n",
       "      <td>80840.245018</td>\n",
       "      <td>136470.398400</td>\n",
       "      <td>73999.01736</td>\n",
       "      <td>NaN</td>\n",
       "      <td>52975.765947</td>\n",
       "      <td>57623.21312</td>\n",
       "      <td>200100.461966</td>\n",
       "    </tr>\n",
       "  </tbody>\n",
       "</table>\n",
       "</div>"
      ],
      "text/plain": [
       "         Date  Amanda_Christensen  Calvin_Klein           Eton    J_Lindeberg  \\\n",
       "0  2014-07-01          5744.00000    29976.0000   78835.127273   89833.846154   \n",
       "1  2014-08-01          7372.80000    33969.0000   98835.054545  153530.892308   \n",
       "2  2014-09-01          8881.00000    28602.0000   70640.000000  146138.461538   \n",
       "3  2014-10-01         10693.21500    23257.0000   70230.181818  151481.846154   \n",
       "4  2014-11-01         17121.80000    29817.0000   96073.745455  180756.000000   \n",
       "5  2014-12-01         34321.60000    43738.5000  143256.363636  144416.615385   \n",
       "6  2015-01-01          7085.20000    28526.5000  120765.818182  182552.492308   \n",
       "7  2015-02-01          7233.60000    27148.4658   82245.672727  134998.584492   \n",
       "8  2015-03-01          7635.20568    48290.5000   81373.939491  189940.558031   \n",
       "9  2015-04-01          8710.55292    30567.9132   80840.245018  136470.398400   \n",
       "\n",
       "       Lacoste   Levi_s  Oscar_Jacobson      Ray_Ban  Tiger_of_Sweden  \n",
       "0  65226.40000  63884.8    18971.813333          NaN    287420.566400  \n",
       "1  43368.68000  57153.6    48796.800000          NaN    322481.827200  \n",
       "2  26553.20000  47048.0    37864.266667          NaN    263211.054400  \n",
       "3  37045.60000  33032.0    23762.000000          NaN    295135.536000  \n",
       "4  35666.80000  25476.0    41173.600000          NaN    328531.016000  \n",
       "5  33796.40000  25960.8    47829.466667          NaN    519894.808000  \n",
       "6  31064.80000  55235.2    30837.733333          NaN    300741.560000  \n",
       "7  29403.62392  30020.8    21506.095840  19107.20000    270403.424000  \n",
       "8  62399.68420    302.4    66656.124907  67636.40000    260036.051003  \n",
       "9  73999.01736      NaN    52975.765947  57623.21312    200100.461966  "
      ]
     },
     "execution_count": 5,
     "metadata": {},
     "output_type": "execute_result"
    }
   ],
   "source": [
    "fashion_df = pd.read_csv(\"../dataset/fashion.csv\")  \n",
    "fashion_df.head(10)"
   ]
  },
  {
   "cell_type": "markdown",
   "metadata": {},
   "source": [
    "- **Use info() to see the number of non-missing values in each columns** "
   ]
  },
  {
   "cell_type": "code",
   "execution_count": 6,
   "metadata": {},
   "outputs": [
    {
     "name": "stdout",
     "output_type": "stream",
     "text": [
      "<class 'pandas.core.frame.DataFrame'>\n",
      "RangeIndex: 51 entries, 0 to 50\n",
      "Data columns (total 10 columns):\n",
      " #   Column              Non-Null Count  Dtype  \n",
      "---  ------              --------------  -----  \n",
      " 0   Date                51 non-null     object \n",
      " 1   Amanda_Christensen  51 non-null     float64\n",
      " 2   Calvin_Klein        51 non-null     float64\n",
      " 3   Eton                51 non-null     float64\n",
      " 4   J_Lindeberg         51 non-null     float64\n",
      " 5   Lacoste             51 non-null     float64\n",
      " 6   Levi_s              22 non-null     float64\n",
      " 7   Oscar_Jacobson      51 non-null     float64\n",
      " 8   Ray_Ban             44 non-null     float64\n",
      " 9   Tiger_of_Sweden     51 non-null     float64\n",
      "dtypes: float64(9), object(1)\n",
      "memory usage: 4.1+ KB\n"
     ]
    }
   ],
   "source": [
    "fashion_df.info()"
   ]
  },
  {
   "cell_type": "markdown",
   "metadata": {},
   "source": [
    "### [1.2] Detect missing values"
   ]
  },
  {
   "cell_type": "code",
   "execution_count": 7,
   "metadata": {},
   "outputs": [
    {
     "data": {
      "text/html": [
       "<div>\n",
       "<style scoped>\n",
       "    .dataframe tbody tr th:only-of-type {\n",
       "        vertical-align: middle;\n",
       "    }\n",
       "\n",
       "    .dataframe tbody tr th {\n",
       "        vertical-align: top;\n",
       "    }\n",
       "\n",
       "    .dataframe thead th {\n",
       "        text-align: right;\n",
       "    }\n",
       "</style>\n",
       "<table border=\"1\" class=\"dataframe\">\n",
       "  <thead>\n",
       "    <tr style=\"text-align: right;\">\n",
       "      <th></th>\n",
       "      <th>winery</th>\n",
       "      <th>country</th>\n",
       "      <th>price</th>\n",
       "      <th>province</th>\n",
       "    </tr>\n",
       "  </thead>\n",
       "  <tbody>\n",
       "    <tr>\n",
       "      <th>0</th>\n",
       "      <td>Domaine Vincent Girardin</td>\n",
       "      <td>France</td>\n",
       "      <td>94.0</td>\n",
       "      <td>Burgundy</td>\n",
       "    </tr>\n",
       "    <tr>\n",
       "      <th>1</th>\n",
       "      <td>None</td>\n",
       "      <td>None</td>\n",
       "      <td>NaN</td>\n",
       "      <td>None</td>\n",
       "    </tr>\n",
       "    <tr>\n",
       "      <th>2</th>\n",
       "      <td>Au Pied du Mont Chauve</td>\n",
       "      <td>France</td>\n",
       "      <td>43.0</td>\n",
       "      <td>Burgundy</td>\n",
       "    </tr>\n",
       "    <tr>\n",
       "      <th>3</th>\n",
       "      <td>Chateau Raymond-Lafon</td>\n",
       "      <td>France</td>\n",
       "      <td>120.0</td>\n",
       "      <td>Bordeaux</td>\n",
       "    </tr>\n",
       "    <tr>\n",
       "      <th>4</th>\n",
       "      <td>Chateau Balac</td>\n",
       "      <td>France</td>\n",
       "      <td>45.0</td>\n",
       "      <td>Bordeaux</td>\n",
       "    </tr>\n",
       "    <tr>\n",
       "      <th>5</th>\n",
       "      <td>Etienne de Tauriac</td>\n",
       "      <td>France</td>\n",
       "      <td>25.0</td>\n",
       "      <td>Bordeaux</td>\n",
       "    </tr>\n",
       "    <tr>\n",
       "      <th>6</th>\n",
       "      <td>Borgogno</td>\n",
       "      <td>Italy</td>\n",
       "      <td>80.0</td>\n",
       "      <td>Piedmont</td>\n",
       "    </tr>\n",
       "    <tr>\n",
       "      <th>7</th>\n",
       "      <td>Sottimano</td>\n",
       "      <td>Italy</td>\n",
       "      <td>58.0</td>\n",
       "      <td>Piedmont</td>\n",
       "    </tr>\n",
       "    <tr>\n",
       "      <th>8</th>\n",
       "      <td>Punset</td>\n",
       "      <td>None</td>\n",
       "      <td>43.0</td>\n",
       "      <td>None</td>\n",
       "    </tr>\n",
       "    <tr>\n",
       "      <th>9</th>\n",
       "      <td>La Fiorita</td>\n",
       "      <td>Italy</td>\n",
       "      <td>60.0</td>\n",
       "      <td>Tuscany</td>\n",
       "    </tr>\n",
       "    <tr>\n",
       "      <th>10</th>\n",
       "      <td>Piccini</td>\n",
       "      <td>Italy</td>\n",
       "      <td>NaN</td>\n",
       "      <td>Tuscany</td>\n",
       "    </tr>\n",
       "    <tr>\n",
       "      <th>11</th>\n",
       "      <td>Pietranera</td>\n",
       "      <td>Italy</td>\n",
       "      <td>75.0</td>\n",
       "      <td>Tuscany</td>\n",
       "    </tr>\n",
       "  </tbody>\n",
       "</table>\n",
       "</div>"
      ],
      "text/plain": [
       "                      winery country  price  province\n",
       "0   Domaine Vincent Girardin  France   94.0  Burgundy\n",
       "1                       None    None    NaN      None\n",
       "2     Au Pied du Mont Chauve  France   43.0  Burgundy\n",
       "3      Chateau Raymond-Lafon  France  120.0  Bordeaux\n",
       "4              Chateau Balac  France   45.0  Bordeaux\n",
       "5         Etienne de Tauriac  France   25.0  Bordeaux\n",
       "6                   Borgogno   Italy   80.0  Piedmont\n",
       "7                  Sottimano   Italy   58.0  Piedmont\n",
       "8                     Punset    None   43.0      None\n",
       "9                 La Fiorita   Italy   60.0   Tuscany\n",
       "10                   Piccini   Italy    NaN   Tuscany\n",
       "11                Pietranera   Italy   75.0   Tuscany"
      ]
     },
     "execution_count": 7,
     "metadata": {},
     "output_type": "execute_result"
    }
   ],
   "source": [
    "winery = ['Domaine Vincent Girardin',None,'Au Pied du Mont Chauve','Chateau Raymond-Lafon','Chateau Balac','Etienne de Tauriac','Borgogno','Sottimano','Punset','La Fiorita','Piccini','Pietranera']\n",
    "country = ['France',None,'France','France','France','France','Italy','Italy',None,'Italy','Italy','Italy']\n",
    "price = [94,None,43,120,45,25,80,58,43,60,None,75]\n",
    "province = ['Burgundy',None,'Burgundy','Bordeaux','Bordeaux','Bordeaux','Piedmont','Piedmont',None,'Tuscany','Tuscany','Tuscany']\n",
    "wine_df1 = pd.DataFrame({\"winery\":winery, \"country\":country, \"price\":price, \"province\":province})\n",
    "wine_df1"
   ]
  },
  {
   "cell_type": "markdown",
   "metadata": {},
   "source": [
    "- **Use isna() to detect if the value is missing**"
   ]
  },
  {
   "cell_type": "code",
   "execution_count": 8,
   "metadata": {},
   "outputs": [
    {
     "data": {
      "text/html": [
       "<div>\n",
       "<style scoped>\n",
       "    .dataframe tbody tr th:only-of-type {\n",
       "        vertical-align: middle;\n",
       "    }\n",
       "\n",
       "    .dataframe tbody tr th {\n",
       "        vertical-align: top;\n",
       "    }\n",
       "\n",
       "    .dataframe thead th {\n",
       "        text-align: right;\n",
       "    }\n",
       "</style>\n",
       "<table border=\"1\" class=\"dataframe\">\n",
       "  <thead>\n",
       "    <tr style=\"text-align: right;\">\n",
       "      <th></th>\n",
       "      <th>winery</th>\n",
       "      <th>country</th>\n",
       "      <th>price</th>\n",
       "      <th>province</th>\n",
       "    </tr>\n",
       "  </thead>\n",
       "  <tbody>\n",
       "    <tr>\n",
       "      <th>0</th>\n",
       "      <td>False</td>\n",
       "      <td>False</td>\n",
       "      <td>False</td>\n",
       "      <td>False</td>\n",
       "    </tr>\n",
       "    <tr>\n",
       "      <th>1</th>\n",
       "      <td>True</td>\n",
       "      <td>True</td>\n",
       "      <td>True</td>\n",
       "      <td>True</td>\n",
       "    </tr>\n",
       "    <tr>\n",
       "      <th>2</th>\n",
       "      <td>False</td>\n",
       "      <td>False</td>\n",
       "      <td>False</td>\n",
       "      <td>False</td>\n",
       "    </tr>\n",
       "    <tr>\n",
       "      <th>3</th>\n",
       "      <td>False</td>\n",
       "      <td>False</td>\n",
       "      <td>False</td>\n",
       "      <td>False</td>\n",
       "    </tr>\n",
       "    <tr>\n",
       "      <th>4</th>\n",
       "      <td>False</td>\n",
       "      <td>False</td>\n",
       "      <td>False</td>\n",
       "      <td>False</td>\n",
       "    </tr>\n",
       "    <tr>\n",
       "      <th>5</th>\n",
       "      <td>False</td>\n",
       "      <td>False</td>\n",
       "      <td>False</td>\n",
       "      <td>False</td>\n",
       "    </tr>\n",
       "    <tr>\n",
       "      <th>6</th>\n",
       "      <td>False</td>\n",
       "      <td>False</td>\n",
       "      <td>False</td>\n",
       "      <td>False</td>\n",
       "    </tr>\n",
       "    <tr>\n",
       "      <th>7</th>\n",
       "      <td>False</td>\n",
       "      <td>False</td>\n",
       "      <td>False</td>\n",
       "      <td>False</td>\n",
       "    </tr>\n",
       "    <tr>\n",
       "      <th>8</th>\n",
       "      <td>False</td>\n",
       "      <td>True</td>\n",
       "      <td>False</td>\n",
       "      <td>True</td>\n",
       "    </tr>\n",
       "    <tr>\n",
       "      <th>9</th>\n",
       "      <td>False</td>\n",
       "      <td>False</td>\n",
       "      <td>False</td>\n",
       "      <td>False</td>\n",
       "    </tr>\n",
       "    <tr>\n",
       "      <th>10</th>\n",
       "      <td>False</td>\n",
       "      <td>False</td>\n",
       "      <td>True</td>\n",
       "      <td>False</td>\n",
       "    </tr>\n",
       "    <tr>\n",
       "      <th>11</th>\n",
       "      <td>False</td>\n",
       "      <td>False</td>\n",
       "      <td>False</td>\n",
       "      <td>False</td>\n",
       "    </tr>\n",
       "  </tbody>\n",
       "</table>\n",
       "</div>"
      ],
      "text/plain": [
       "    winery  country  price  province\n",
       "0    False    False  False     False\n",
       "1     True     True   True      True\n",
       "2    False    False  False     False\n",
       "3    False    False  False     False\n",
       "4    False    False  False     False\n",
       "5    False    False  False     False\n",
       "6    False    False  False     False\n",
       "7    False    False  False     False\n",
       "8    False     True  False      True\n",
       "9    False    False  False     False\n",
       "10   False    False   True     False\n",
       "11   False    False  False     False"
      ]
     },
     "execution_count": 8,
     "metadata": {},
     "output_type": "execute_result"
    }
   ],
   "source": [
    "wine_df1.isna()"
   ]
  },
  {
   "cell_type": "code",
   "execution_count": 9,
   "metadata": {},
   "outputs": [
    {
     "data": {
      "text/plain": [
       "winery      1\n",
       "country     2\n",
       "price       2\n",
       "province    2\n",
       "dtype: int64"
      ]
     },
     "execution_count": 9,
     "metadata": {},
     "output_type": "execute_result"
    }
   ],
   "source": [
    "wine_df1.isna().sum()"
   ]
  },
  {
   "cell_type": "code",
   "execution_count": 10,
   "metadata": {},
   "outputs": [
    {
     "data": {
      "text/plain": [
       "winery      11\n",
       "country     10\n",
       "price       10\n",
       "province    10\n",
       "dtype: int64"
      ]
     },
     "execution_count": 10,
     "metadata": {},
     "output_type": "execute_result"
    }
   ],
   "source": [
    "wine_df1.notna().sum()"
   ]
  },
  {
   "cell_type": "code",
   "execution_count": 11,
   "metadata": {},
   "outputs": [
    {
     "data": {
      "text/plain": [
       "0     0\n",
       "1     4\n",
       "2     0\n",
       "3     0\n",
       "4     0\n",
       "5     0\n",
       "6     0\n",
       "7     0\n",
       "8     2\n",
       "9     0\n",
       "10    1\n",
       "11    0\n",
       "dtype: int64"
      ]
     },
     "execution_count": 11,
     "metadata": {},
     "output_type": "execute_result"
    }
   ],
   "source": [
    "wine_df1.isna().sum(axis = 1)"
   ]
  },
  {
   "cell_type": "markdown",
   "metadata": {},
   "source": [
    "- **Use isna() to filter data**"
   ]
  },
  {
   "cell_type": "code",
   "execution_count": 12,
   "metadata": {},
   "outputs": [
    {
     "data": {
      "text/plain": [
       "0     False\n",
       "1      True\n",
       "2     False\n",
       "3     False\n",
       "4     False\n",
       "5     False\n",
       "6     False\n",
       "7     False\n",
       "8     False\n",
       "9     False\n",
       "10     True\n",
       "11    False\n",
       "Name: price, dtype: bool"
      ]
     },
     "execution_count": 12,
     "metadata": {},
     "output_type": "execute_result"
    }
   ],
   "source": [
    "wine_df1.price.isna()"
   ]
  },
  {
   "cell_type": "code",
   "execution_count": 13,
   "metadata": {},
   "outputs": [
    {
     "data": {
      "text/html": [
       "<div>\n",
       "<style scoped>\n",
       "    .dataframe tbody tr th:only-of-type {\n",
       "        vertical-align: middle;\n",
       "    }\n",
       "\n",
       "    .dataframe tbody tr th {\n",
       "        vertical-align: top;\n",
       "    }\n",
       "\n",
       "    .dataframe thead th {\n",
       "        text-align: right;\n",
       "    }\n",
       "</style>\n",
       "<table border=\"1\" class=\"dataframe\">\n",
       "  <thead>\n",
       "    <tr style=\"text-align: right;\">\n",
       "      <th></th>\n",
       "      <th>winery</th>\n",
       "      <th>country</th>\n",
       "      <th>price</th>\n",
       "      <th>province</th>\n",
       "    </tr>\n",
       "  </thead>\n",
       "  <tbody>\n",
       "    <tr>\n",
       "      <th>0</th>\n",
       "      <td>Domaine Vincent Girardin</td>\n",
       "      <td>France</td>\n",
       "      <td>94.0</td>\n",
       "      <td>Burgundy</td>\n",
       "    </tr>\n",
       "    <tr>\n",
       "      <th>2</th>\n",
       "      <td>Au Pied du Mont Chauve</td>\n",
       "      <td>France</td>\n",
       "      <td>43.0</td>\n",
       "      <td>Burgundy</td>\n",
       "    </tr>\n",
       "    <tr>\n",
       "      <th>3</th>\n",
       "      <td>Chateau Raymond-Lafon</td>\n",
       "      <td>France</td>\n",
       "      <td>120.0</td>\n",
       "      <td>Bordeaux</td>\n",
       "    </tr>\n",
       "    <tr>\n",
       "      <th>4</th>\n",
       "      <td>Chateau Balac</td>\n",
       "      <td>France</td>\n",
       "      <td>45.0</td>\n",
       "      <td>Bordeaux</td>\n",
       "    </tr>\n",
       "    <tr>\n",
       "      <th>5</th>\n",
       "      <td>Etienne de Tauriac</td>\n",
       "      <td>France</td>\n",
       "      <td>25.0</td>\n",
       "      <td>Bordeaux</td>\n",
       "    </tr>\n",
       "    <tr>\n",
       "      <th>6</th>\n",
       "      <td>Borgogno</td>\n",
       "      <td>Italy</td>\n",
       "      <td>80.0</td>\n",
       "      <td>Piedmont</td>\n",
       "    </tr>\n",
       "    <tr>\n",
       "      <th>7</th>\n",
       "      <td>Sottimano</td>\n",
       "      <td>Italy</td>\n",
       "      <td>58.0</td>\n",
       "      <td>Piedmont</td>\n",
       "    </tr>\n",
       "    <tr>\n",
       "      <th>8</th>\n",
       "      <td>Punset</td>\n",
       "      <td>None</td>\n",
       "      <td>43.0</td>\n",
       "      <td>None</td>\n",
       "    </tr>\n",
       "    <tr>\n",
       "      <th>9</th>\n",
       "      <td>La Fiorita</td>\n",
       "      <td>Italy</td>\n",
       "      <td>60.0</td>\n",
       "      <td>Tuscany</td>\n",
       "    </tr>\n",
       "    <tr>\n",
       "      <th>11</th>\n",
       "      <td>Pietranera</td>\n",
       "      <td>Italy</td>\n",
       "      <td>75.0</td>\n",
       "      <td>Tuscany</td>\n",
       "    </tr>\n",
       "  </tbody>\n",
       "</table>\n",
       "</div>"
      ],
      "text/plain": [
       "                      winery country  price  province\n",
       "0   Domaine Vincent Girardin  France   94.0  Burgundy\n",
       "2     Au Pied du Mont Chauve  France   43.0  Burgundy\n",
       "3      Chateau Raymond-Lafon  France  120.0  Bordeaux\n",
       "4              Chateau Balac  France   45.0  Bordeaux\n",
       "5         Etienne de Tauriac  France   25.0  Bordeaux\n",
       "6                   Borgogno   Italy   80.0  Piedmont\n",
       "7                  Sottimano   Italy   58.0  Piedmont\n",
       "8                     Punset    None   43.0      None\n",
       "9                 La Fiorita   Italy   60.0   Tuscany\n",
       "11                Pietranera   Italy   75.0   Tuscany"
      ]
     },
     "execution_count": 13,
     "metadata": {},
     "output_type": "execute_result"
    }
   ],
   "source": [
    "wine_df1[wine_df1.price.notna()]"
   ]
  },
  {
   "cell_type": "markdown",
   "metadata": {},
   "source": [
    "### [1.3] Drop missing values"
   ]
  },
  {
   "cell_type": "markdown",
   "metadata": {},
   "source": [
    "- **Drop rows containing any NaNs**"
   ]
  },
  {
   "cell_type": "code",
   "execution_count": 14,
   "metadata": {},
   "outputs": [
    {
     "data": {
      "text/html": [
       "<div>\n",
       "<style scoped>\n",
       "    .dataframe tbody tr th:only-of-type {\n",
       "        vertical-align: middle;\n",
       "    }\n",
       "\n",
       "    .dataframe tbody tr th {\n",
       "        vertical-align: top;\n",
       "    }\n",
       "\n",
       "    .dataframe thead th {\n",
       "        text-align: right;\n",
       "    }\n",
       "</style>\n",
       "<table border=\"1\" class=\"dataframe\">\n",
       "  <thead>\n",
       "    <tr style=\"text-align: right;\">\n",
       "      <th></th>\n",
       "      <th>winery</th>\n",
       "      <th>country</th>\n",
       "      <th>price</th>\n",
       "      <th>province</th>\n",
       "    </tr>\n",
       "  </thead>\n",
       "  <tbody>\n",
       "    <tr>\n",
       "      <th>0</th>\n",
       "      <td>Domaine Vincent Girardin</td>\n",
       "      <td>France</td>\n",
       "      <td>94.0</td>\n",
       "      <td>Burgundy</td>\n",
       "    </tr>\n",
       "    <tr>\n",
       "      <th>2</th>\n",
       "      <td>Au Pied du Mont Chauve</td>\n",
       "      <td>France</td>\n",
       "      <td>43.0</td>\n",
       "      <td>Burgundy</td>\n",
       "    </tr>\n",
       "    <tr>\n",
       "      <th>3</th>\n",
       "      <td>Chateau Raymond-Lafon</td>\n",
       "      <td>France</td>\n",
       "      <td>120.0</td>\n",
       "      <td>Bordeaux</td>\n",
       "    </tr>\n",
       "    <tr>\n",
       "      <th>4</th>\n",
       "      <td>Chateau Balac</td>\n",
       "      <td>France</td>\n",
       "      <td>45.0</td>\n",
       "      <td>Bordeaux</td>\n",
       "    </tr>\n",
       "    <tr>\n",
       "      <th>5</th>\n",
       "      <td>Etienne de Tauriac</td>\n",
       "      <td>France</td>\n",
       "      <td>25.0</td>\n",
       "      <td>Bordeaux</td>\n",
       "    </tr>\n",
       "    <tr>\n",
       "      <th>6</th>\n",
       "      <td>Borgogno</td>\n",
       "      <td>Italy</td>\n",
       "      <td>80.0</td>\n",
       "      <td>Piedmont</td>\n",
       "    </tr>\n",
       "    <tr>\n",
       "      <th>7</th>\n",
       "      <td>Sottimano</td>\n",
       "      <td>Italy</td>\n",
       "      <td>58.0</td>\n",
       "      <td>Piedmont</td>\n",
       "    </tr>\n",
       "    <tr>\n",
       "      <th>9</th>\n",
       "      <td>La Fiorita</td>\n",
       "      <td>Italy</td>\n",
       "      <td>60.0</td>\n",
       "      <td>Tuscany</td>\n",
       "    </tr>\n",
       "    <tr>\n",
       "      <th>11</th>\n",
       "      <td>Pietranera</td>\n",
       "      <td>Italy</td>\n",
       "      <td>75.0</td>\n",
       "      <td>Tuscany</td>\n",
       "    </tr>\n",
       "  </tbody>\n",
       "</table>\n",
       "</div>"
      ],
      "text/plain": [
       "                      winery country  price  province\n",
       "0   Domaine Vincent Girardin  France   94.0  Burgundy\n",
       "2     Au Pied du Mont Chauve  France   43.0  Burgundy\n",
       "3      Chateau Raymond-Lafon  France  120.0  Bordeaux\n",
       "4              Chateau Balac  France   45.0  Bordeaux\n",
       "5         Etienne de Tauriac  France   25.0  Bordeaux\n",
       "6                   Borgogno   Italy   80.0  Piedmont\n",
       "7                  Sottimano   Italy   58.0  Piedmont\n",
       "9                 La Fiorita   Italy   60.0   Tuscany\n",
       "11                Pietranera   Italy   75.0   Tuscany"
      ]
     },
     "execution_count": 14,
     "metadata": {},
     "output_type": "execute_result"
    }
   ],
   "source": [
    "wine_df1.dropna() "
   ]
  },
  {
   "cell_type": "markdown",
   "metadata": {},
   "source": [
    "- **Drop rows that are all NaNs**"
   ]
  },
  {
   "cell_type": "code",
   "execution_count": 15,
   "metadata": {},
   "outputs": [
    {
     "data": {
      "text/html": [
       "<div>\n",
       "<style scoped>\n",
       "    .dataframe tbody tr th:only-of-type {\n",
       "        vertical-align: middle;\n",
       "    }\n",
       "\n",
       "    .dataframe tbody tr th {\n",
       "        vertical-align: top;\n",
       "    }\n",
       "\n",
       "    .dataframe thead th {\n",
       "        text-align: right;\n",
       "    }\n",
       "</style>\n",
       "<table border=\"1\" class=\"dataframe\">\n",
       "  <thead>\n",
       "    <tr style=\"text-align: right;\">\n",
       "      <th></th>\n",
       "      <th>winery</th>\n",
       "      <th>country</th>\n",
       "      <th>price</th>\n",
       "      <th>province</th>\n",
       "    </tr>\n",
       "  </thead>\n",
       "  <tbody>\n",
       "    <tr>\n",
       "      <th>0</th>\n",
       "      <td>Domaine Vincent Girardin</td>\n",
       "      <td>France</td>\n",
       "      <td>94.0</td>\n",
       "      <td>Burgundy</td>\n",
       "    </tr>\n",
       "    <tr>\n",
       "      <th>2</th>\n",
       "      <td>Au Pied du Mont Chauve</td>\n",
       "      <td>France</td>\n",
       "      <td>43.0</td>\n",
       "      <td>Burgundy</td>\n",
       "    </tr>\n",
       "    <tr>\n",
       "      <th>3</th>\n",
       "      <td>Chateau Raymond-Lafon</td>\n",
       "      <td>France</td>\n",
       "      <td>120.0</td>\n",
       "      <td>Bordeaux</td>\n",
       "    </tr>\n",
       "    <tr>\n",
       "      <th>4</th>\n",
       "      <td>Chateau Balac</td>\n",
       "      <td>France</td>\n",
       "      <td>45.0</td>\n",
       "      <td>Bordeaux</td>\n",
       "    </tr>\n",
       "    <tr>\n",
       "      <th>5</th>\n",
       "      <td>Etienne de Tauriac</td>\n",
       "      <td>France</td>\n",
       "      <td>25.0</td>\n",
       "      <td>Bordeaux</td>\n",
       "    </tr>\n",
       "    <tr>\n",
       "      <th>6</th>\n",
       "      <td>Borgogno</td>\n",
       "      <td>Italy</td>\n",
       "      <td>80.0</td>\n",
       "      <td>Piedmont</td>\n",
       "    </tr>\n",
       "    <tr>\n",
       "      <th>7</th>\n",
       "      <td>Sottimano</td>\n",
       "      <td>Italy</td>\n",
       "      <td>58.0</td>\n",
       "      <td>Piedmont</td>\n",
       "    </tr>\n",
       "    <tr>\n",
       "      <th>8</th>\n",
       "      <td>Punset</td>\n",
       "      <td>None</td>\n",
       "      <td>43.0</td>\n",
       "      <td>None</td>\n",
       "    </tr>\n",
       "    <tr>\n",
       "      <th>9</th>\n",
       "      <td>La Fiorita</td>\n",
       "      <td>Italy</td>\n",
       "      <td>60.0</td>\n",
       "      <td>Tuscany</td>\n",
       "    </tr>\n",
       "    <tr>\n",
       "      <th>10</th>\n",
       "      <td>Piccini</td>\n",
       "      <td>Italy</td>\n",
       "      <td>NaN</td>\n",
       "      <td>Tuscany</td>\n",
       "    </tr>\n",
       "    <tr>\n",
       "      <th>11</th>\n",
       "      <td>Pietranera</td>\n",
       "      <td>Italy</td>\n",
       "      <td>75.0</td>\n",
       "      <td>Tuscany</td>\n",
       "    </tr>\n",
       "  </tbody>\n",
       "</table>\n",
       "</div>"
      ],
      "text/plain": [
       "                      winery country  price  province\n",
       "0   Domaine Vincent Girardin  France   94.0  Burgundy\n",
       "2     Au Pied du Mont Chauve  France   43.0  Burgundy\n",
       "3      Chateau Raymond-Lafon  France  120.0  Bordeaux\n",
       "4              Chateau Balac  France   45.0  Bordeaux\n",
       "5         Etienne de Tauriac  France   25.0  Bordeaux\n",
       "6                   Borgogno   Italy   80.0  Piedmont\n",
       "7                  Sottimano   Italy   58.0  Piedmont\n",
       "8                     Punset    None   43.0      None\n",
       "9                 La Fiorita   Italy   60.0   Tuscany\n",
       "10                   Piccini   Italy    NaN   Tuscany\n",
       "11                Pietranera   Italy   75.0   Tuscany"
      ]
     },
     "execution_count": 15,
     "metadata": {},
     "output_type": "execute_result"
    }
   ],
   "source": [
    "wine_df1.dropna(how = \"all\")"
   ]
  },
  {
   "cell_type": "markdown",
   "metadata": {},
   "source": [
    "- **Drop rows that are all NaNs**"
   ]
  },
  {
   "cell_type": "code",
   "execution_count": 16,
   "metadata": {},
   "outputs": [
    {
     "data": {
      "text/html": [
       "<div>\n",
       "<style scoped>\n",
       "    .dataframe tbody tr th:only-of-type {\n",
       "        vertical-align: middle;\n",
       "    }\n",
       "\n",
       "    .dataframe tbody tr th {\n",
       "        vertical-align: top;\n",
       "    }\n",
       "\n",
       "    .dataframe thead th {\n",
       "        text-align: right;\n",
       "    }\n",
       "</style>\n",
       "<table border=\"1\" class=\"dataframe\">\n",
       "  <thead>\n",
       "    <tr style=\"text-align: right;\">\n",
       "      <th></th>\n",
       "      <th>winery</th>\n",
       "      <th>country</th>\n",
       "      <th>price</th>\n",
       "      <th>province</th>\n",
       "    </tr>\n",
       "  </thead>\n",
       "  <tbody>\n",
       "    <tr>\n",
       "      <th>0</th>\n",
       "      <td>Domaine Vincent Girardin</td>\n",
       "      <td>France</td>\n",
       "      <td>94.0</td>\n",
       "      <td>Burgundy</td>\n",
       "    </tr>\n",
       "    <tr>\n",
       "      <th>2</th>\n",
       "      <td>Au Pied du Mont Chauve</td>\n",
       "      <td>France</td>\n",
       "      <td>43.0</td>\n",
       "      <td>Burgundy</td>\n",
       "    </tr>\n",
       "    <tr>\n",
       "      <th>3</th>\n",
       "      <td>Chateau Raymond-Lafon</td>\n",
       "      <td>France</td>\n",
       "      <td>120.0</td>\n",
       "      <td>Bordeaux</td>\n",
       "    </tr>\n",
       "    <tr>\n",
       "      <th>4</th>\n",
       "      <td>Chateau Balac</td>\n",
       "      <td>France</td>\n",
       "      <td>45.0</td>\n",
       "      <td>Bordeaux</td>\n",
       "    </tr>\n",
       "    <tr>\n",
       "      <th>5</th>\n",
       "      <td>Etienne de Tauriac</td>\n",
       "      <td>France</td>\n",
       "      <td>25.0</td>\n",
       "      <td>Bordeaux</td>\n",
       "    </tr>\n",
       "    <tr>\n",
       "      <th>6</th>\n",
       "      <td>Borgogno</td>\n",
       "      <td>Italy</td>\n",
       "      <td>80.0</td>\n",
       "      <td>Piedmont</td>\n",
       "    </tr>\n",
       "    <tr>\n",
       "      <th>7</th>\n",
       "      <td>Sottimano</td>\n",
       "      <td>Italy</td>\n",
       "      <td>58.0</td>\n",
       "      <td>Piedmont</td>\n",
       "    </tr>\n",
       "    <tr>\n",
       "      <th>9</th>\n",
       "      <td>La Fiorita</td>\n",
       "      <td>Italy</td>\n",
       "      <td>60.0</td>\n",
       "      <td>Tuscany</td>\n",
       "    </tr>\n",
       "    <tr>\n",
       "      <th>10</th>\n",
       "      <td>Piccini</td>\n",
       "      <td>Italy</td>\n",
       "      <td>NaN</td>\n",
       "      <td>Tuscany</td>\n",
       "    </tr>\n",
       "    <tr>\n",
       "      <th>11</th>\n",
       "      <td>Pietranera</td>\n",
       "      <td>Italy</td>\n",
       "      <td>75.0</td>\n",
       "      <td>Tuscany</td>\n",
       "    </tr>\n",
       "  </tbody>\n",
       "</table>\n",
       "</div>"
      ],
      "text/plain": [
       "                      winery country  price  province\n",
       "0   Domaine Vincent Girardin  France   94.0  Burgundy\n",
       "2     Au Pied du Mont Chauve  France   43.0  Burgundy\n",
       "3      Chateau Raymond-Lafon  France  120.0  Bordeaux\n",
       "4              Chateau Balac  France   45.0  Bordeaux\n",
       "5         Etienne de Tauriac  France   25.0  Bordeaux\n",
       "6                   Borgogno   Italy   80.0  Piedmont\n",
       "7                  Sottimano   Italy   58.0  Piedmont\n",
       "9                 La Fiorita   Italy   60.0   Tuscany\n",
       "10                   Piccini   Italy    NaN   Tuscany\n",
       "11                Pietranera   Italy   75.0   Tuscany"
      ]
     },
     "execution_count": 16,
     "metadata": {},
     "output_type": "execute_result"
    }
   ],
   "source": [
    "wine_df1.dropna(subset = ['country', 'province'], how = \"all\")"
   ]
  },
  {
   "cell_type": "markdown",
   "metadata": {},
   "source": [
    "- **Drop columns**"
   ]
  },
  {
   "cell_type": "code",
   "execution_count": 17,
   "metadata": {},
   "outputs": [
    {
     "data": {
      "text/html": [
       "<div>\n",
       "<style scoped>\n",
       "    .dataframe tbody tr th:only-of-type {\n",
       "        vertical-align: middle;\n",
       "    }\n",
       "\n",
       "    .dataframe tbody tr th {\n",
       "        vertical-align: top;\n",
       "    }\n",
       "\n",
       "    .dataframe thead th {\n",
       "        text-align: right;\n",
       "    }\n",
       "</style>\n",
       "<table border=\"1\" class=\"dataframe\">\n",
       "  <thead>\n",
       "    <tr style=\"text-align: right;\">\n",
       "      <th></th>\n",
       "      <th>winery</th>\n",
       "      <th>country</th>\n",
       "      <th>price</th>\n",
       "      <th>province</th>\n",
       "      <th>description</th>\n",
       "    </tr>\n",
       "  </thead>\n",
       "  <tbody>\n",
       "    <tr>\n",
       "      <th>0</th>\n",
       "      <td>Domaine Vincent Girardin</td>\n",
       "      <td>France</td>\n",
       "      <td>94</td>\n",
       "      <td>Burgundy</td>\n",
       "      <td>None</td>\n",
       "    </tr>\n",
       "    <tr>\n",
       "      <th>1</th>\n",
       "      <td>Domaine de Bellene</td>\n",
       "      <td>France</td>\n",
       "      <td>60</td>\n",
       "      <td>Burgundy</td>\n",
       "      <td>None</td>\n",
       "    </tr>\n",
       "    <tr>\n",
       "      <th>2</th>\n",
       "      <td>Au Pied du Mont Chauve</td>\n",
       "      <td>France</td>\n",
       "      <td>43</td>\n",
       "      <td>Burgundy</td>\n",
       "      <td>None</td>\n",
       "    </tr>\n",
       "    <tr>\n",
       "      <th>3</th>\n",
       "      <td>Chateau Raymond-Lafon</td>\n",
       "      <td>None</td>\n",
       "      <td>120</td>\n",
       "      <td>Bordeaux</td>\n",
       "      <td>None</td>\n",
       "    </tr>\n",
       "    <tr>\n",
       "      <th>4</th>\n",
       "      <td>Chateau Balac</td>\n",
       "      <td>France</td>\n",
       "      <td>45</td>\n",
       "      <td>Bordeaux</td>\n",
       "      <td>None</td>\n",
       "    </tr>\n",
       "    <tr>\n",
       "      <th>5</th>\n",
       "      <td>Etienne de Tauriac</td>\n",
       "      <td>France</td>\n",
       "      <td>25</td>\n",
       "      <td>Bordeaux</td>\n",
       "      <td>None</td>\n",
       "    </tr>\n",
       "    <tr>\n",
       "      <th>6</th>\n",
       "      <td>Borgogno</td>\n",
       "      <td>Italy</td>\n",
       "      <td>80</td>\n",
       "      <td>Piedmont</td>\n",
       "      <td>None</td>\n",
       "    </tr>\n",
       "    <tr>\n",
       "      <th>7</th>\n",
       "      <td>Sottimano</td>\n",
       "      <td>Italy</td>\n",
       "      <td>58</td>\n",
       "      <td>Piedmont</td>\n",
       "      <td>None</td>\n",
       "    </tr>\n",
       "    <tr>\n",
       "      <th>8</th>\n",
       "      <td>Punset</td>\n",
       "      <td>Italy</td>\n",
       "      <td>43</td>\n",
       "      <td>Piedmont</td>\n",
       "      <td>None</td>\n",
       "    </tr>\n",
       "    <tr>\n",
       "      <th>9</th>\n",
       "      <td>La Fiorita</td>\n",
       "      <td>Italy</td>\n",
       "      <td>60</td>\n",
       "      <td>Tuscany</td>\n",
       "      <td>None</td>\n",
       "    </tr>\n",
       "    <tr>\n",
       "      <th>10</th>\n",
       "      <td>Piccini</td>\n",
       "      <td>Italy</td>\n",
       "      <td>60</td>\n",
       "      <td>Tuscany</td>\n",
       "      <td>None</td>\n",
       "    </tr>\n",
       "    <tr>\n",
       "      <th>11</th>\n",
       "      <td>Pietranera</td>\n",
       "      <td>Italy</td>\n",
       "      <td>75</td>\n",
       "      <td>Tuscany</td>\n",
       "      <td>None</td>\n",
       "    </tr>\n",
       "  </tbody>\n",
       "</table>\n",
       "</div>"
      ],
      "text/plain": [
       "                      winery country  price  province description\n",
       "0   Domaine Vincent Girardin  France     94  Burgundy        None\n",
       "1         Domaine de Bellene  France     60  Burgundy        None\n",
       "2     Au Pied du Mont Chauve  France     43  Burgundy        None\n",
       "3      Chateau Raymond-Lafon    None    120  Bordeaux        None\n",
       "4              Chateau Balac  France     45  Bordeaux        None\n",
       "5         Etienne de Tauriac  France     25  Bordeaux        None\n",
       "6                   Borgogno   Italy     80  Piedmont        None\n",
       "7                  Sottimano   Italy     58  Piedmont        None\n",
       "8                     Punset   Italy     43  Piedmont        None\n",
       "9                 La Fiorita   Italy     60   Tuscany        None\n",
       "10                   Piccini   Italy     60   Tuscany        None\n",
       "11                Pietranera   Italy     75   Tuscany        None"
      ]
     },
     "execution_count": 17,
     "metadata": {},
     "output_type": "execute_result"
    }
   ],
   "source": [
    "winery = ['Domaine Vincent Girardin','Domaine de Bellene','Au Pied du Mont Chauve','Chateau Raymond-Lafon','Chateau Balac','Etienne de Tauriac','Borgogno','Sottimano','Punset','La Fiorita','Piccini','Pietranera']\n",
    "country = ['France','France','France',None,'France','France','Italy','Italy','Italy','Italy','Italy','Italy']\n",
    "price = [94,60,43,120,45,25,80,58,43,60,60,75]\n",
    "province = ['Burgundy','Burgundy','Burgundy','Bordeaux','Bordeaux','Bordeaux','Piedmont','Piedmont','Piedmont','Tuscany','Tuscany','Tuscany']\n",
    "wine_df2 = pd.DataFrame({\"winery\":winery, \"country\":country, \"price\":price, \"province\":province, \"description\": None})\n",
    "wine_df2"
   ]
  },
  {
   "cell_type": "markdown",
   "metadata": {},
   "source": [
    "- **Drop columns containing any NaNs**"
   ]
  },
  {
   "cell_type": "code",
   "execution_count": 18,
   "metadata": {},
   "outputs": [
    {
     "data": {
      "text/html": [
       "<div>\n",
       "<style scoped>\n",
       "    .dataframe tbody tr th:only-of-type {\n",
       "        vertical-align: middle;\n",
       "    }\n",
       "\n",
       "    .dataframe tbody tr th {\n",
       "        vertical-align: top;\n",
       "    }\n",
       "\n",
       "    .dataframe thead th {\n",
       "        text-align: right;\n",
       "    }\n",
       "</style>\n",
       "<table border=\"1\" class=\"dataframe\">\n",
       "  <thead>\n",
       "    <tr style=\"text-align: right;\">\n",
       "      <th></th>\n",
       "      <th>winery</th>\n",
       "      <th>price</th>\n",
       "      <th>province</th>\n",
       "    </tr>\n",
       "  </thead>\n",
       "  <tbody>\n",
       "    <tr>\n",
       "      <th>0</th>\n",
       "      <td>Domaine Vincent Girardin</td>\n",
       "      <td>94</td>\n",
       "      <td>Burgundy</td>\n",
       "    </tr>\n",
       "    <tr>\n",
       "      <th>1</th>\n",
       "      <td>Domaine de Bellene</td>\n",
       "      <td>60</td>\n",
       "      <td>Burgundy</td>\n",
       "    </tr>\n",
       "    <tr>\n",
       "      <th>2</th>\n",
       "      <td>Au Pied du Mont Chauve</td>\n",
       "      <td>43</td>\n",
       "      <td>Burgundy</td>\n",
       "    </tr>\n",
       "    <tr>\n",
       "      <th>3</th>\n",
       "      <td>Chateau Raymond-Lafon</td>\n",
       "      <td>120</td>\n",
       "      <td>Bordeaux</td>\n",
       "    </tr>\n",
       "    <tr>\n",
       "      <th>4</th>\n",
       "      <td>Chateau Balac</td>\n",
       "      <td>45</td>\n",
       "      <td>Bordeaux</td>\n",
       "    </tr>\n",
       "    <tr>\n",
       "      <th>5</th>\n",
       "      <td>Etienne de Tauriac</td>\n",
       "      <td>25</td>\n",
       "      <td>Bordeaux</td>\n",
       "    </tr>\n",
       "    <tr>\n",
       "      <th>6</th>\n",
       "      <td>Borgogno</td>\n",
       "      <td>80</td>\n",
       "      <td>Piedmont</td>\n",
       "    </tr>\n",
       "    <tr>\n",
       "      <th>7</th>\n",
       "      <td>Sottimano</td>\n",
       "      <td>58</td>\n",
       "      <td>Piedmont</td>\n",
       "    </tr>\n",
       "    <tr>\n",
       "      <th>8</th>\n",
       "      <td>Punset</td>\n",
       "      <td>43</td>\n",
       "      <td>Piedmont</td>\n",
       "    </tr>\n",
       "    <tr>\n",
       "      <th>9</th>\n",
       "      <td>La Fiorita</td>\n",
       "      <td>60</td>\n",
       "      <td>Tuscany</td>\n",
       "    </tr>\n",
       "    <tr>\n",
       "      <th>10</th>\n",
       "      <td>Piccini</td>\n",
       "      <td>60</td>\n",
       "      <td>Tuscany</td>\n",
       "    </tr>\n",
       "    <tr>\n",
       "      <th>11</th>\n",
       "      <td>Pietranera</td>\n",
       "      <td>75</td>\n",
       "      <td>Tuscany</td>\n",
       "    </tr>\n",
       "  </tbody>\n",
       "</table>\n",
       "</div>"
      ],
      "text/plain": [
       "                      winery  price  province\n",
       "0   Domaine Vincent Girardin     94  Burgundy\n",
       "1         Domaine de Bellene     60  Burgundy\n",
       "2     Au Pied du Mont Chauve     43  Burgundy\n",
       "3      Chateau Raymond-Lafon    120  Bordeaux\n",
       "4              Chateau Balac     45  Bordeaux\n",
       "5         Etienne de Tauriac     25  Bordeaux\n",
       "6                   Borgogno     80  Piedmont\n",
       "7                  Sottimano     58  Piedmont\n",
       "8                     Punset     43  Piedmont\n",
       "9                 La Fiorita     60   Tuscany\n",
       "10                   Piccini     60   Tuscany\n",
       "11                Pietranera     75   Tuscany"
      ]
     },
     "execution_count": 18,
     "metadata": {},
     "output_type": "execute_result"
    }
   ],
   "source": [
    "wine_df2.dropna(axis = 1)"
   ]
  },
  {
   "cell_type": "markdown",
   "metadata": {},
   "source": [
    "### [1.4] Filling in missing values"
   ]
  },
  {
   "cell_type": "code",
   "execution_count": 19,
   "metadata": {},
   "outputs": [
    {
     "data": {
      "text/html": [
       "<div>\n",
       "<style scoped>\n",
       "    .dataframe tbody tr th:only-of-type {\n",
       "        vertical-align: middle;\n",
       "    }\n",
       "\n",
       "    .dataframe tbody tr th {\n",
       "        vertical-align: top;\n",
       "    }\n",
       "\n",
       "    .dataframe thead th {\n",
       "        text-align: right;\n",
       "    }\n",
       "</style>\n",
       "<table border=\"1\" class=\"dataframe\">\n",
       "  <thead>\n",
       "    <tr style=\"text-align: right;\">\n",
       "      <th></th>\n",
       "      <th>Month</th>\n",
       "      <th>Sales</th>\n",
       "    </tr>\n",
       "  </thead>\n",
       "  <tbody>\n",
       "    <tr>\n",
       "      <th>0</th>\n",
       "      <td>Jan</td>\n",
       "      <td>266.0</td>\n",
       "    </tr>\n",
       "    <tr>\n",
       "      <th>1</th>\n",
       "      <td>Feb</td>\n",
       "      <td>145.9</td>\n",
       "    </tr>\n",
       "    <tr>\n",
       "      <th>2</th>\n",
       "      <td>Mar</td>\n",
       "      <td>183.1</td>\n",
       "    </tr>\n",
       "    <tr>\n",
       "      <th>3</th>\n",
       "      <td>Apr</td>\n",
       "      <td>NaN</td>\n",
       "    </tr>\n",
       "    <tr>\n",
       "      <th>4</th>\n",
       "      <td>May</td>\n",
       "      <td>180.3</td>\n",
       "    </tr>\n",
       "    <tr>\n",
       "      <th>5</th>\n",
       "      <td>Jun</td>\n",
       "      <td>168.5</td>\n",
       "    </tr>\n",
       "    <tr>\n",
       "      <th>6</th>\n",
       "      <td>Jul</td>\n",
       "      <td>231.8</td>\n",
       "    </tr>\n",
       "    <tr>\n",
       "      <th>7</th>\n",
       "      <td>Aug</td>\n",
       "      <td>NaN</td>\n",
       "    </tr>\n",
       "    <tr>\n",
       "      <th>8</th>\n",
       "      <td>Sep</td>\n",
       "      <td>192.8</td>\n",
       "    </tr>\n",
       "    <tr>\n",
       "      <th>9</th>\n",
       "      <td>Oct</td>\n",
       "      <td>122.9</td>\n",
       "    </tr>\n",
       "    <tr>\n",
       "      <th>10</th>\n",
       "      <td>Nov</td>\n",
       "      <td>203.4</td>\n",
       "    </tr>\n",
       "    <tr>\n",
       "      <th>11</th>\n",
       "      <td>Dec</td>\n",
       "      <td>211.7</td>\n",
       "    </tr>\n",
       "  </tbody>\n",
       "</table>\n",
       "</div>"
      ],
      "text/plain": [
       "   Month  Sales\n",
       "0    Jan  266.0\n",
       "1    Feb  145.9\n",
       "2    Mar  183.1\n",
       "3    Apr    NaN\n",
       "4    May  180.3\n",
       "5    Jun  168.5\n",
       "6    Jul  231.8\n",
       "7    Aug    NaN\n",
       "8    Sep  192.8\n",
       "9    Oct  122.9\n",
       "10   Nov  203.4\n",
       "11   Dec  211.7"
      ]
     },
     "execution_count": 19,
     "metadata": {},
     "output_type": "execute_result"
    }
   ],
   "source": [
    "sales_df = pd.DataFrame({\"Month\":[\"Jan\",\"Feb\",\"Mar\",\"Apr\",\"May\",\"Jun\",\"Jul\",\"Aug\",\"Sep\",\"Oct\",\"Nov\",\"Dec\"],\n",
    "                        \"Sales\":[266.0, 145.9, 183.1, None, 180.3, 168.5, 231.8, None, 192.8, 122.9, 203.4, 211.7]})\n",
    "sales_df"
   ]
  },
  {
   "cell_type": "code",
   "execution_count": 20,
   "metadata": {},
   "outputs": [
    {
     "data": {
      "text/html": [
       "<div>\n",
       "<style scoped>\n",
       "    .dataframe tbody tr th:only-of-type {\n",
       "        vertical-align: middle;\n",
       "    }\n",
       "\n",
       "    .dataframe tbody tr th {\n",
       "        vertical-align: top;\n",
       "    }\n",
       "\n",
       "    .dataframe thead th {\n",
       "        text-align: right;\n",
       "    }\n",
       "</style>\n",
       "<table border=\"1\" class=\"dataframe\">\n",
       "  <thead>\n",
       "    <tr style=\"text-align: right;\">\n",
       "      <th></th>\n",
       "      <th>Month</th>\n",
       "      <th>Sales</th>\n",
       "    </tr>\n",
       "  </thead>\n",
       "  <tbody>\n",
       "    <tr>\n",
       "      <th>0</th>\n",
       "      <td>Jan</td>\n",
       "      <td>266.0</td>\n",
       "    </tr>\n",
       "    <tr>\n",
       "      <th>1</th>\n",
       "      <td>Feb</td>\n",
       "      <td>145.9</td>\n",
       "    </tr>\n",
       "    <tr>\n",
       "      <th>2</th>\n",
       "      <td>Mar</td>\n",
       "      <td>183.1</td>\n",
       "    </tr>\n",
       "    <tr>\n",
       "      <th>3</th>\n",
       "      <td>Apr</td>\n",
       "      <td>NaN</td>\n",
       "    </tr>\n",
       "    <tr>\n",
       "      <th>4</th>\n",
       "      <td>May</td>\n",
       "      <td>180.3</td>\n",
       "    </tr>\n",
       "    <tr>\n",
       "      <th>5</th>\n",
       "      <td>Jun</td>\n",
       "      <td>168.5</td>\n",
       "    </tr>\n",
       "    <tr>\n",
       "      <th>6</th>\n",
       "      <td>Jul</td>\n",
       "      <td>231.8</td>\n",
       "    </tr>\n",
       "    <tr>\n",
       "      <th>7</th>\n",
       "      <td>Aug</td>\n",
       "      <td>NaN</td>\n",
       "    </tr>\n",
       "    <tr>\n",
       "      <th>8</th>\n",
       "      <td>Sep</td>\n",
       "      <td>192.8</td>\n",
       "    </tr>\n",
       "    <tr>\n",
       "      <th>9</th>\n",
       "      <td>Oct</td>\n",
       "      <td>122.9</td>\n",
       "    </tr>\n",
       "    <tr>\n",
       "      <th>10</th>\n",
       "      <td>Nov</td>\n",
       "      <td>203.4</td>\n",
       "    </tr>\n",
       "    <tr>\n",
       "      <th>11</th>\n",
       "      <td>Dec</td>\n",
       "      <td>211.7</td>\n",
       "    </tr>\n",
       "  </tbody>\n",
       "</table>\n",
       "</div>"
      ],
      "text/plain": [
       "   Month  Sales\n",
       "0    Jan  266.0\n",
       "1    Feb  145.9\n",
       "2    Mar  183.1\n",
       "3    Apr    NaN\n",
       "4    May  180.3\n",
       "5    Jun  168.5\n",
       "6    Jul  231.8\n",
       "7    Aug    NaN\n",
       "8    Sep  192.8\n",
       "9    Oct  122.9\n",
       "10   Nov  203.4\n",
       "11   Dec  211.7"
      ]
     },
     "execution_count": 20,
     "metadata": {},
     "output_type": "execute_result"
    }
   ],
   "source": [
    "sales_df"
   ]
  },
  {
   "cell_type": "markdown",
   "metadata": {},
   "source": [
    "- **Replace missing values with a constant**"
   ]
  },
  {
   "cell_type": "code",
   "execution_count": 21,
   "metadata": {},
   "outputs": [
    {
     "data": {
      "text/html": [
       "<div>\n",
       "<style scoped>\n",
       "    .dataframe tbody tr th:only-of-type {\n",
       "        vertical-align: middle;\n",
       "    }\n",
       "\n",
       "    .dataframe tbody tr th {\n",
       "        vertical-align: top;\n",
       "    }\n",
       "\n",
       "    .dataframe thead th {\n",
       "        text-align: right;\n",
       "    }\n",
       "</style>\n",
       "<table border=\"1\" class=\"dataframe\">\n",
       "  <thead>\n",
       "    <tr style=\"text-align: right;\">\n",
       "      <th></th>\n",
       "      <th>Month</th>\n",
       "      <th>Sales</th>\n",
       "    </tr>\n",
       "  </thead>\n",
       "  <tbody>\n",
       "    <tr>\n",
       "      <th>0</th>\n",
       "      <td>Jan</td>\n",
       "      <td>266.0</td>\n",
       "    </tr>\n",
       "    <tr>\n",
       "      <th>1</th>\n",
       "      <td>Feb</td>\n",
       "      <td>145.9</td>\n",
       "    </tr>\n",
       "    <tr>\n",
       "      <th>2</th>\n",
       "      <td>Mar</td>\n",
       "      <td>183.1</td>\n",
       "    </tr>\n",
       "    <tr>\n",
       "      <th>3</th>\n",
       "      <td>Apr</td>\n",
       "      <td>0.0</td>\n",
       "    </tr>\n",
       "    <tr>\n",
       "      <th>4</th>\n",
       "      <td>May</td>\n",
       "      <td>180.3</td>\n",
       "    </tr>\n",
       "    <tr>\n",
       "      <th>5</th>\n",
       "      <td>Jun</td>\n",
       "      <td>168.5</td>\n",
       "    </tr>\n",
       "    <tr>\n",
       "      <th>6</th>\n",
       "      <td>Jul</td>\n",
       "      <td>231.8</td>\n",
       "    </tr>\n",
       "    <tr>\n",
       "      <th>7</th>\n",
       "      <td>Aug</td>\n",
       "      <td>0.0</td>\n",
       "    </tr>\n",
       "    <tr>\n",
       "      <th>8</th>\n",
       "      <td>Sep</td>\n",
       "      <td>192.8</td>\n",
       "    </tr>\n",
       "    <tr>\n",
       "      <th>9</th>\n",
       "      <td>Oct</td>\n",
       "      <td>122.9</td>\n",
       "    </tr>\n",
       "    <tr>\n",
       "      <th>10</th>\n",
       "      <td>Nov</td>\n",
       "      <td>203.4</td>\n",
       "    </tr>\n",
       "    <tr>\n",
       "      <th>11</th>\n",
       "      <td>Dec</td>\n",
       "      <td>211.7</td>\n",
       "    </tr>\n",
       "  </tbody>\n",
       "</table>\n",
       "</div>"
      ],
      "text/plain": [
       "   Month  Sales\n",
       "0    Jan  266.0\n",
       "1    Feb  145.9\n",
       "2    Mar  183.1\n",
       "3    Apr    0.0\n",
       "4    May  180.3\n",
       "5    Jun  168.5\n",
       "6    Jul  231.8\n",
       "7    Aug    0.0\n",
       "8    Sep  192.8\n",
       "9    Oct  122.9\n",
       "10   Nov  203.4\n",
       "11   Dec  211.7"
      ]
     },
     "execution_count": 21,
     "metadata": {},
     "output_type": "execute_result"
    }
   ],
   "source": [
    "sales_df.fillna(0)"
   ]
  },
  {
   "cell_type": "markdown",
   "metadata": {},
   "source": [
    "- **Replace missing values with the last valid observation**"
   ]
  },
  {
   "cell_type": "code",
   "execution_count": 22,
   "metadata": {},
   "outputs": [
    {
     "data": {
      "text/html": [
       "<div>\n",
       "<style scoped>\n",
       "    .dataframe tbody tr th:only-of-type {\n",
       "        vertical-align: middle;\n",
       "    }\n",
       "\n",
       "    .dataframe tbody tr th {\n",
       "        vertical-align: top;\n",
       "    }\n",
       "\n",
       "    .dataframe thead th {\n",
       "        text-align: right;\n",
       "    }\n",
       "</style>\n",
       "<table border=\"1\" class=\"dataframe\">\n",
       "  <thead>\n",
       "    <tr style=\"text-align: right;\">\n",
       "      <th></th>\n",
       "      <th>Month</th>\n",
       "      <th>Sales</th>\n",
       "    </tr>\n",
       "  </thead>\n",
       "  <tbody>\n",
       "    <tr>\n",
       "      <th>0</th>\n",
       "      <td>Jan</td>\n",
       "      <td>266.0</td>\n",
       "    </tr>\n",
       "    <tr>\n",
       "      <th>1</th>\n",
       "      <td>Feb</td>\n",
       "      <td>145.9</td>\n",
       "    </tr>\n",
       "    <tr>\n",
       "      <th>2</th>\n",
       "      <td>Mar</td>\n",
       "      <td>183.1</td>\n",
       "    </tr>\n",
       "    <tr>\n",
       "      <th>3</th>\n",
       "      <td>Apr</td>\n",
       "      <td>183.1</td>\n",
       "    </tr>\n",
       "    <tr>\n",
       "      <th>4</th>\n",
       "      <td>May</td>\n",
       "      <td>180.3</td>\n",
       "    </tr>\n",
       "    <tr>\n",
       "      <th>5</th>\n",
       "      <td>Jun</td>\n",
       "      <td>168.5</td>\n",
       "    </tr>\n",
       "    <tr>\n",
       "      <th>6</th>\n",
       "      <td>Jul</td>\n",
       "      <td>231.8</td>\n",
       "    </tr>\n",
       "    <tr>\n",
       "      <th>7</th>\n",
       "      <td>Aug</td>\n",
       "      <td>231.8</td>\n",
       "    </tr>\n",
       "    <tr>\n",
       "      <th>8</th>\n",
       "      <td>Sep</td>\n",
       "      <td>192.8</td>\n",
       "    </tr>\n",
       "    <tr>\n",
       "      <th>9</th>\n",
       "      <td>Oct</td>\n",
       "      <td>122.9</td>\n",
       "    </tr>\n",
       "    <tr>\n",
       "      <th>10</th>\n",
       "      <td>Nov</td>\n",
       "      <td>203.4</td>\n",
       "    </tr>\n",
       "    <tr>\n",
       "      <th>11</th>\n",
       "      <td>Dec</td>\n",
       "      <td>211.7</td>\n",
       "    </tr>\n",
       "  </tbody>\n",
       "</table>\n",
       "</div>"
      ],
      "text/plain": [
       "   Month  Sales\n",
       "0    Jan  266.0\n",
       "1    Feb  145.9\n",
       "2    Mar  183.1\n",
       "3    Apr  183.1\n",
       "4    May  180.3\n",
       "5    Jun  168.5\n",
       "6    Jul  231.8\n",
       "7    Aug  231.8\n",
       "8    Sep  192.8\n",
       "9    Oct  122.9\n",
       "10   Nov  203.4\n",
       "11   Dec  211.7"
      ]
     },
     "execution_count": 22,
     "metadata": {},
     "output_type": "execute_result"
    }
   ],
   "source": [
    "sales_df.fillna(method = \"ffill\")"
   ]
  },
  {
   "cell_type": "markdown",
   "metadata": {},
   "source": [
    "- **Replace missing values with the next valid observation**"
   ]
  },
  {
   "cell_type": "code",
   "execution_count": 23,
   "metadata": {},
   "outputs": [
    {
     "data": {
      "text/html": [
       "<div>\n",
       "<style scoped>\n",
       "    .dataframe tbody tr th:only-of-type {\n",
       "        vertical-align: middle;\n",
       "    }\n",
       "\n",
       "    .dataframe tbody tr th {\n",
       "        vertical-align: top;\n",
       "    }\n",
       "\n",
       "    .dataframe thead th {\n",
       "        text-align: right;\n",
       "    }\n",
       "</style>\n",
       "<table border=\"1\" class=\"dataframe\">\n",
       "  <thead>\n",
       "    <tr style=\"text-align: right;\">\n",
       "      <th></th>\n",
       "      <th>Month</th>\n",
       "      <th>Sales</th>\n",
       "    </tr>\n",
       "  </thead>\n",
       "  <tbody>\n",
       "    <tr>\n",
       "      <th>0</th>\n",
       "      <td>Jan</td>\n",
       "      <td>266.0</td>\n",
       "    </tr>\n",
       "    <tr>\n",
       "      <th>1</th>\n",
       "      <td>Feb</td>\n",
       "      <td>145.9</td>\n",
       "    </tr>\n",
       "    <tr>\n",
       "      <th>2</th>\n",
       "      <td>Mar</td>\n",
       "      <td>183.1</td>\n",
       "    </tr>\n",
       "    <tr>\n",
       "      <th>3</th>\n",
       "      <td>Apr</td>\n",
       "      <td>180.3</td>\n",
       "    </tr>\n",
       "    <tr>\n",
       "      <th>4</th>\n",
       "      <td>May</td>\n",
       "      <td>180.3</td>\n",
       "    </tr>\n",
       "    <tr>\n",
       "      <th>5</th>\n",
       "      <td>Jun</td>\n",
       "      <td>168.5</td>\n",
       "    </tr>\n",
       "    <tr>\n",
       "      <th>6</th>\n",
       "      <td>Jul</td>\n",
       "      <td>231.8</td>\n",
       "    </tr>\n",
       "    <tr>\n",
       "      <th>7</th>\n",
       "      <td>Aug</td>\n",
       "      <td>192.8</td>\n",
       "    </tr>\n",
       "    <tr>\n",
       "      <th>8</th>\n",
       "      <td>Sep</td>\n",
       "      <td>192.8</td>\n",
       "    </tr>\n",
       "    <tr>\n",
       "      <th>9</th>\n",
       "      <td>Oct</td>\n",
       "      <td>122.9</td>\n",
       "    </tr>\n",
       "    <tr>\n",
       "      <th>10</th>\n",
       "      <td>Nov</td>\n",
       "      <td>203.4</td>\n",
       "    </tr>\n",
       "    <tr>\n",
       "      <th>11</th>\n",
       "      <td>Dec</td>\n",
       "      <td>211.7</td>\n",
       "    </tr>\n",
       "  </tbody>\n",
       "</table>\n",
       "</div>"
      ],
      "text/plain": [
       "   Month  Sales\n",
       "0    Jan  266.0\n",
       "1    Feb  145.9\n",
       "2    Mar  183.1\n",
       "3    Apr  180.3\n",
       "4    May  180.3\n",
       "5    Jun  168.5\n",
       "6    Jul  231.8\n",
       "7    Aug  192.8\n",
       "8    Sep  192.8\n",
       "9    Oct  122.9\n",
       "10   Nov  203.4\n",
       "11   Dec  211.7"
      ]
     },
     "execution_count": 23,
     "metadata": {},
     "output_type": "execute_result"
    }
   ],
   "source": [
    "sales_df.fillna(method = \"bfill\")"
   ]
  },
  {
   "cell_type": "markdown",
   "metadata": {},
   "source": [
    "## Exercise.A"
   ]
  },
  {
   "cell_type": "markdown",
   "metadata": {},
   "source": [
    "**(A.1) Import the dataset <code>melbourne.csv</code>. Calculate the number of rows and columns.**"
   ]
  },
  {
   "cell_type": "code",
   "execution_count": 24,
   "metadata": {},
   "outputs": [
    {
     "data": {
      "text/plain": [
       "(13580, 21)"
      ]
     },
     "execution_count": 24,
     "metadata": {},
     "output_type": "execute_result"
    }
   ],
   "source": [
    "house_df = pd.read_csv(\"../dataset/melbourne.csv\")\n",
    "house_df.shape"
   ]
  },
  {
   "cell_type": "markdown",
   "metadata": {},
   "source": [
    "**(A.2) Delete the row containing any NaN. Calculate the number of rows and columns.**"
   ]
  },
  {
   "cell_type": "code",
   "execution_count": 25,
   "metadata": {},
   "outputs": [
    {
     "data": {
      "text/plain": [
       "(6196, 21)"
      ]
     },
     "execution_count": 25,
     "metadata": {},
     "output_type": "execute_result"
    }
   ],
   "source": [
    "house_df.dropna(how = \"any\").shape"
   ]
  },
  {
   "cell_type": "markdown",
   "metadata": {},
   "source": [
    "**(A.3) Use the dataframe in (A.1). Calculate the number of missing value in each columns.**"
   ]
  },
  {
   "cell_type": "code",
   "execution_count": 26,
   "metadata": {},
   "outputs": [
    {
     "data": {
      "text/plain": [
       "Suburb              0\n",
       "Address             0\n",
       "Rooms               0\n",
       "Type                0\n",
       "Price               0\n",
       "Method              0\n",
       "SellerG             0\n",
       "Date                0\n",
       "Distance            0\n",
       "Postcode            0\n",
       "Bedroom2            0\n",
       "Bathroom            0\n",
       "Car                62\n",
       "Landsize            0\n",
       "BuildingArea     6450\n",
       "YearBuilt        5375\n",
       "CouncilArea      1369\n",
       "Lattitude           0\n",
       "Longtitude          0\n",
       "Regionname          0\n",
       "Propertycount       0\n",
       "dtype: int64"
      ]
     },
     "execution_count": 26,
     "metadata": {},
     "output_type": "execute_result"
    }
   ],
   "source": [
    "house_df.isna().sum() #axis=0"
   ]
  },
  {
   "cell_type": "markdown",
   "metadata": {},
   "source": [
    "**(A.4) What is the average number of parking space (column <code>Car</code>)?**"
   ]
  },
  {
   "cell_type": "code",
   "execution_count": 27,
   "metadata": {},
   "outputs": [
    {
     "data": {
      "text/plain": [
       "1.6100754549489569"
      ]
     },
     "execution_count": 27,
     "metadata": {},
     "output_type": "execute_result"
    }
   ],
   "source": [
    "house_df.Car.mean()"
   ]
  },
  {
   "cell_type": "code",
   "execution_count": 28,
   "metadata": {},
   "outputs": [
    {
     "data": {
      "text/plain": [
       "1.6100754549489569"
      ]
     },
     "execution_count": 28,
     "metadata": {},
     "output_type": "execute_result"
    }
   ],
   "source": [
    "house_df[\"Car\"].mean()"
   ]
  },
  {
   "cell_type": "markdown",
   "metadata": {},
   "source": [
    "**(A.5) Fill the missing values in the <code>Car</code> column with 0 and apply this change directly to the data frame. What is the average number of parking space?**<br>"
   ]
  },
  {
   "cell_type": "code",
   "execution_count": 29,
   "metadata": {},
   "outputs": [],
   "source": [
    "house_df.Car.fillna(0, inplace = True)"
   ]
  },
  {
   "cell_type": "code",
   "execution_count": 30,
   "metadata": {},
   "outputs": [
    {
     "data": {
      "text/plain": [
       "Suburb              0\n",
       "Address             0\n",
       "Rooms               0\n",
       "Type                0\n",
       "Price               0\n",
       "Method              0\n",
       "SellerG             0\n",
       "Date                0\n",
       "Distance            0\n",
       "Postcode            0\n",
       "Bedroom2            0\n",
       "Bathroom            0\n",
       "Car                 0\n",
       "Landsize            0\n",
       "BuildingArea     6450\n",
       "YearBuilt        5375\n",
       "CouncilArea      1369\n",
       "Lattitude           0\n",
       "Longtitude          0\n",
       "Regionname          0\n",
       "Propertycount       0\n",
       "dtype: int64"
      ]
     },
     "execution_count": 30,
     "metadata": {},
     "output_type": "execute_result"
    }
   ],
   "source": [
    "house_df.isna().sum()"
   ]
  },
  {
   "cell_type": "code",
   "execution_count": 31,
   "metadata": {},
   "outputs": [
    {
     "data": {
      "text/plain": [
       "1.6027245949926363"
      ]
     },
     "execution_count": 31,
     "metadata": {},
     "output_type": "execute_result"
    }
   ],
   "source": [
    "house_df.Car.mean()"
   ]
  },
  {
   "cell_type": "markdown",
   "metadata": {},
   "source": [
    "## [2] Calculation"
   ]
  },
  {
   "cell_type": "markdown",
   "metadata": {},
   "source": [
    "### [2.1] Basic operations"
   ]
  },
  {
   "cell_type": "markdown",
   "metadata": {},
   "source": [
    "- **Series**"
   ]
  },
  {
   "cell_type": "code",
   "execution_count": 32,
   "metadata": {},
   "outputs": [
    {
     "name": "stdout",
     "output_type": "stream",
     "text": [
      "3.0\n",
      "15\n",
      "5\n",
      "5\n"
     ]
    }
   ],
   "source": [
    "s1 = pd.Series([1,2,3,4,5])\n",
    "print(s1.mean())\n",
    "print(s1.sum())\n",
    "print(s1.max())\n",
    "print(s1.count())"
   ]
  },
  {
   "cell_type": "code",
   "execution_count": 33,
   "metadata": {},
   "outputs": [
    {
     "name": "stdout",
     "output_type": "stream",
     "text": [
      "2.5\n",
      "10.0\n",
      "4.0\n",
      "4\n"
     ]
    }
   ],
   "source": [
    "s2 = pd.Series([1,2,3,4,None])\n",
    "print(s2.mean())\n",
    "print(s2.sum())\n",
    "print(s2.max())\n",
    "print(s2.count())"
   ]
  },
  {
   "cell_type": "markdown",
   "metadata": {},
   "source": [
    "- **Calculate the sum of all the values over the column axis**"
   ]
  },
  {
   "cell_type": "code",
   "execution_count": 34,
   "metadata": {},
   "outputs": [
    {
     "data": {
      "text/html": [
       "<div>\n",
       "<style scoped>\n",
       "    .dataframe tbody tr th:only-of-type {\n",
       "        vertical-align: middle;\n",
       "    }\n",
       "\n",
       "    .dataframe tbody tr th {\n",
       "        vertical-align: top;\n",
       "    }\n",
       "\n",
       "    .dataframe thead th {\n",
       "        text-align: right;\n",
       "    }\n",
       "</style>\n",
       "<table border=\"1\" class=\"dataframe\">\n",
       "  <thead>\n",
       "    <tr style=\"text-align: right;\">\n",
       "      <th></th>\n",
       "      <th>grocery</th>\n",
       "      <th>transportation</th>\n",
       "      <th>dining out</th>\n",
       "      <th>entertainment</th>\n",
       "    </tr>\n",
       "  </thead>\n",
       "  <tbody>\n",
       "    <tr>\n",
       "      <th>Jan</th>\n",
       "      <td>3050</td>\n",
       "      <td>1050</td>\n",
       "      <td>1200</td>\n",
       "      <td>1250</td>\n",
       "    </tr>\n",
       "    <tr>\n",
       "      <th>Feb</th>\n",
       "      <td>2800</td>\n",
       "      <td>900</td>\n",
       "      <td>1950</td>\n",
       "      <td>1050</td>\n",
       "    </tr>\n",
       "    <tr>\n",
       "      <th>Mar</th>\n",
       "      <td>2750</td>\n",
       "      <td>1150</td>\n",
       "      <td>1350</td>\n",
       "      <td>2500</td>\n",
       "    </tr>\n",
       "    <tr>\n",
       "      <th>Apr</th>\n",
       "      <td>2300</td>\n",
       "      <td>1850</td>\n",
       "      <td>3250</td>\n",
       "      <td>3150</td>\n",
       "    </tr>\n",
       "    <tr>\n",
       "      <th>May</th>\n",
       "      <td>3150</td>\n",
       "      <td>1250</td>\n",
       "      <td>1050</td>\n",
       "      <td>2000</td>\n",
       "    </tr>\n",
       "    <tr>\n",
       "      <th>Jun</th>\n",
       "      <td>2900</td>\n",
       "      <td>950</td>\n",
       "      <td>2800</td>\n",
       "      <td>1050</td>\n",
       "    </tr>\n",
       "  </tbody>\n",
       "</table>\n",
       "</div>"
      ],
      "text/plain": [
       "     grocery  transportation  dining out  entertainment\n",
       "Jan     3050            1050        1200           1250\n",
       "Feb     2800             900        1950           1050\n",
       "Mar     2750            1150        1350           2500\n",
       "Apr     2300            1850        3250           3150\n",
       "May     3150            1250        1050           2000\n",
       "Jun     2900             950        2800           1050"
      ]
     },
     "execution_count": 34,
     "metadata": {},
     "output_type": "execute_result"
    }
   ],
   "source": [
    "df_expense = pd.DataFrame({'grocery':[3050, 2800, 2750, 2300, 3150, 2900],\n",
    "                         'transportation':[1050, 900, 1150, 1850, 1250, 950],\n",
    "                         'dining out':[1200, 1950, 1350, 3250, 1050, 2800],\n",
    "                         'entertainment':[1250, 1050, 2500, 3150, 2000, 1050]},\n",
    "                        index =['Jan','Feb','Mar','Apr','May','Jun'])\n",
    "df_expense"
   ]
  },
  {
   "cell_type": "code",
   "execution_count": 35,
   "metadata": {},
   "outputs": [
    {
     "data": {
      "text/html": [
       "<div>\n",
       "<style scoped>\n",
       "    .dataframe tbody tr th:only-of-type {\n",
       "        vertical-align: middle;\n",
       "    }\n",
       "\n",
       "    .dataframe tbody tr th {\n",
       "        vertical-align: top;\n",
       "    }\n",
       "\n",
       "    .dataframe thead th {\n",
       "        text-align: right;\n",
       "    }\n",
       "</style>\n",
       "<table border=\"1\" class=\"dataframe\">\n",
       "  <thead>\n",
       "    <tr style=\"text-align: right;\">\n",
       "      <th></th>\n",
       "      <th>grocery</th>\n",
       "      <th>transportation</th>\n",
       "      <th>dining out</th>\n",
       "      <th>entertainment</th>\n",
       "      <th>total_expense</th>\n",
       "    </tr>\n",
       "  </thead>\n",
       "  <tbody>\n",
       "    <tr>\n",
       "      <th>Jan</th>\n",
       "      <td>3050</td>\n",
       "      <td>1050</td>\n",
       "      <td>1200</td>\n",
       "      <td>1250</td>\n",
       "      <td>6550</td>\n",
       "    </tr>\n",
       "    <tr>\n",
       "      <th>Feb</th>\n",
       "      <td>2800</td>\n",
       "      <td>900</td>\n",
       "      <td>1950</td>\n",
       "      <td>1050</td>\n",
       "      <td>6700</td>\n",
       "    </tr>\n",
       "    <tr>\n",
       "      <th>Mar</th>\n",
       "      <td>2750</td>\n",
       "      <td>1150</td>\n",
       "      <td>1350</td>\n",
       "      <td>2500</td>\n",
       "      <td>7750</td>\n",
       "    </tr>\n",
       "    <tr>\n",
       "      <th>Apr</th>\n",
       "      <td>2300</td>\n",
       "      <td>1850</td>\n",
       "      <td>3250</td>\n",
       "      <td>3150</td>\n",
       "      <td>10550</td>\n",
       "    </tr>\n",
       "    <tr>\n",
       "      <th>May</th>\n",
       "      <td>3150</td>\n",
       "      <td>1250</td>\n",
       "      <td>1050</td>\n",
       "      <td>2000</td>\n",
       "      <td>7450</td>\n",
       "    </tr>\n",
       "    <tr>\n",
       "      <th>Jun</th>\n",
       "      <td>2900</td>\n",
       "      <td>950</td>\n",
       "      <td>2800</td>\n",
       "      <td>1050</td>\n",
       "      <td>7700</td>\n",
       "    </tr>\n",
       "  </tbody>\n",
       "</table>\n",
       "</div>"
      ],
      "text/plain": [
       "     grocery  transportation  dining out  entertainment  total_expense\n",
       "Jan     3050            1050        1200           1250           6550\n",
       "Feb     2800             900        1950           1050           6700\n",
       "Mar     2750            1150        1350           2500           7750\n",
       "Apr     2300            1850        3250           3150          10550\n",
       "May     3150            1250        1050           2000           7450\n",
       "Jun     2900             950        2800           1050           7700"
      ]
     },
     "execution_count": 35,
     "metadata": {},
     "output_type": "execute_result"
    }
   ],
   "source": [
    "df_expense[\"total_expense\"] = df_expense.sum(axis = 1)\n",
    "df_expense"
   ]
  },
  {
   "cell_type": "markdown",
   "metadata": {},
   "source": [
    "- **Calculate the sum of the values of two columns**"
   ]
  },
  {
   "cell_type": "code",
   "execution_count": 36,
   "metadata": {},
   "outputs": [
    {
     "data": {
      "text/html": [
       "<div>\n",
       "<style scoped>\n",
       "    .dataframe tbody tr th:only-of-type {\n",
       "        vertical-align: middle;\n",
       "    }\n",
       "\n",
       "    .dataframe tbody tr th {\n",
       "        vertical-align: top;\n",
       "    }\n",
       "\n",
       "    .dataframe thead th {\n",
       "        text-align: right;\n",
       "    }\n",
       "</style>\n",
       "<table border=\"1\" class=\"dataframe\">\n",
       "  <thead>\n",
       "    <tr style=\"text-align: right;\">\n",
       "      <th></th>\n",
       "      <th>grocery</th>\n",
       "      <th>transportation</th>\n",
       "      <th>dining out</th>\n",
       "      <th>entertainment</th>\n",
       "      <th>total_expense</th>\n",
       "      <th>necessary_expense</th>\n",
       "    </tr>\n",
       "  </thead>\n",
       "  <tbody>\n",
       "    <tr>\n",
       "      <th>Jan</th>\n",
       "      <td>3050</td>\n",
       "      <td>1050</td>\n",
       "      <td>1200</td>\n",
       "      <td>1250</td>\n",
       "      <td>6550</td>\n",
       "      <td>4100</td>\n",
       "    </tr>\n",
       "    <tr>\n",
       "      <th>Feb</th>\n",
       "      <td>2800</td>\n",
       "      <td>900</td>\n",
       "      <td>1950</td>\n",
       "      <td>1050</td>\n",
       "      <td>6700</td>\n",
       "      <td>3700</td>\n",
       "    </tr>\n",
       "    <tr>\n",
       "      <th>Mar</th>\n",
       "      <td>2750</td>\n",
       "      <td>1150</td>\n",
       "      <td>1350</td>\n",
       "      <td>2500</td>\n",
       "      <td>7750</td>\n",
       "      <td>3900</td>\n",
       "    </tr>\n",
       "    <tr>\n",
       "      <th>Apr</th>\n",
       "      <td>2300</td>\n",
       "      <td>1850</td>\n",
       "      <td>3250</td>\n",
       "      <td>3150</td>\n",
       "      <td>10550</td>\n",
       "      <td>4150</td>\n",
       "    </tr>\n",
       "    <tr>\n",
       "      <th>May</th>\n",
       "      <td>3150</td>\n",
       "      <td>1250</td>\n",
       "      <td>1050</td>\n",
       "      <td>2000</td>\n",
       "      <td>7450</td>\n",
       "      <td>4400</td>\n",
       "    </tr>\n",
       "    <tr>\n",
       "      <th>Jun</th>\n",
       "      <td>2900</td>\n",
       "      <td>950</td>\n",
       "      <td>2800</td>\n",
       "      <td>1050</td>\n",
       "      <td>7700</td>\n",
       "      <td>3850</td>\n",
       "    </tr>\n",
       "  </tbody>\n",
       "</table>\n",
       "</div>"
      ],
      "text/plain": [
       "     grocery  transportation  dining out  entertainment  total_expense  \\\n",
       "Jan     3050            1050        1200           1250           6550   \n",
       "Feb     2800             900        1950           1050           6700   \n",
       "Mar     2750            1150        1350           2500           7750   \n",
       "Apr     2300            1850        3250           3150          10550   \n",
       "May     3150            1250        1050           2000           7450   \n",
       "Jun     2900             950        2800           1050           7700   \n",
       "\n",
       "     necessary_expense  \n",
       "Jan               4100  \n",
       "Feb               3700  \n",
       "Mar               3900  \n",
       "Apr               4150  \n",
       "May               4400  \n",
       "Jun               3850  "
      ]
     },
     "execution_count": 36,
     "metadata": {},
     "output_type": "execute_result"
    }
   ],
   "source": [
    "df_expense['necessary_expense']  = df_expense.grocery + df_expense.transportation\n",
    "df_expense"
   ]
  },
  {
   "cell_type": "markdown",
   "metadata": {},
   "source": [
    "- **Calculate the percentage**"
   ]
  },
  {
   "cell_type": "code",
   "execution_count": 37,
   "metadata": {},
   "outputs": [
    {
     "data": {
      "text/html": [
       "<div>\n",
       "<style scoped>\n",
       "    .dataframe tbody tr th:only-of-type {\n",
       "        vertical-align: middle;\n",
       "    }\n",
       "\n",
       "    .dataframe tbody tr th {\n",
       "        vertical-align: top;\n",
       "    }\n",
       "\n",
       "    .dataframe thead th {\n",
       "        text-align: right;\n",
       "    }\n",
       "</style>\n",
       "<table border=\"1\" class=\"dataframe\">\n",
       "  <thead>\n",
       "    <tr style=\"text-align: right;\">\n",
       "      <th></th>\n",
       "      <th>grocery</th>\n",
       "      <th>transportation</th>\n",
       "      <th>dining out</th>\n",
       "      <th>entertainment</th>\n",
       "      <th>total_expense</th>\n",
       "      <th>necessary_expense</th>\n",
       "      <th>necessary_expense(%)</th>\n",
       "    </tr>\n",
       "  </thead>\n",
       "  <tbody>\n",
       "    <tr>\n",
       "      <th>Jan</th>\n",
       "      <td>3050</td>\n",
       "      <td>1050</td>\n",
       "      <td>1200</td>\n",
       "      <td>1250</td>\n",
       "      <td>6550</td>\n",
       "      <td>4100</td>\n",
       "      <td>62.60</td>\n",
       "    </tr>\n",
       "    <tr>\n",
       "      <th>Feb</th>\n",
       "      <td>2800</td>\n",
       "      <td>900</td>\n",
       "      <td>1950</td>\n",
       "      <td>1050</td>\n",
       "      <td>6700</td>\n",
       "      <td>3700</td>\n",
       "      <td>55.22</td>\n",
       "    </tr>\n",
       "    <tr>\n",
       "      <th>Mar</th>\n",
       "      <td>2750</td>\n",
       "      <td>1150</td>\n",
       "      <td>1350</td>\n",
       "      <td>2500</td>\n",
       "      <td>7750</td>\n",
       "      <td>3900</td>\n",
       "      <td>50.32</td>\n",
       "    </tr>\n",
       "    <tr>\n",
       "      <th>Apr</th>\n",
       "      <td>2300</td>\n",
       "      <td>1850</td>\n",
       "      <td>3250</td>\n",
       "      <td>3150</td>\n",
       "      <td>10550</td>\n",
       "      <td>4150</td>\n",
       "      <td>39.34</td>\n",
       "    </tr>\n",
       "    <tr>\n",
       "      <th>May</th>\n",
       "      <td>3150</td>\n",
       "      <td>1250</td>\n",
       "      <td>1050</td>\n",
       "      <td>2000</td>\n",
       "      <td>7450</td>\n",
       "      <td>4400</td>\n",
       "      <td>59.06</td>\n",
       "    </tr>\n",
       "    <tr>\n",
       "      <th>Jun</th>\n",
       "      <td>2900</td>\n",
       "      <td>950</td>\n",
       "      <td>2800</td>\n",
       "      <td>1050</td>\n",
       "      <td>7700</td>\n",
       "      <td>3850</td>\n",
       "      <td>50.00</td>\n",
       "    </tr>\n",
       "  </tbody>\n",
       "</table>\n",
       "</div>"
      ],
      "text/plain": [
       "     grocery  transportation  dining out  entertainment  total_expense  \\\n",
       "Jan     3050            1050        1200           1250           6550   \n",
       "Feb     2800             900        1950           1050           6700   \n",
       "Mar     2750            1150        1350           2500           7750   \n",
       "Apr     2300            1850        3250           3150          10550   \n",
       "May     3150            1250        1050           2000           7450   \n",
       "Jun     2900             950        2800           1050           7700   \n",
       "\n",
       "     necessary_expense  necessary_expense(%)  \n",
       "Jan               4100                 62.60  \n",
       "Feb               3700                 55.22  \n",
       "Mar               3900                 50.32  \n",
       "Apr               4150                 39.34  \n",
       "May               4400                 59.06  \n",
       "Jun               3850                 50.00  "
      ]
     },
     "execution_count": 37,
     "metadata": {},
     "output_type": "execute_result"
    }
   ],
   "source": [
    "df_expense['necessary_expense(%)'] =  round((df_expense.necessary_expense/ df_expense.total_expense)*100,2)\n",
    "df_expense"
   ]
  },
  {
   "cell_type": "markdown",
   "metadata": {},
   "source": [
    "- **Convert continuous data to categorical data**"
   ]
  },
  {
   "cell_type": "code",
   "execution_count": 38,
   "metadata": {},
   "outputs": [
    {
     "data": {
      "text/html": [
       "<div>\n",
       "<style scoped>\n",
       "    .dataframe tbody tr th:only-of-type {\n",
       "        vertical-align: middle;\n",
       "    }\n",
       "\n",
       "    .dataframe tbody tr th {\n",
       "        vertical-align: top;\n",
       "    }\n",
       "\n",
       "    .dataframe thead th {\n",
       "        text-align: right;\n",
       "    }\n",
       "</style>\n",
       "<table border=\"1\" class=\"dataframe\">\n",
       "  <thead>\n",
       "    <tr style=\"text-align: right;\">\n",
       "      <th></th>\n",
       "      <th>score</th>\n",
       "    </tr>\n",
       "  </thead>\n",
       "  <tbody>\n",
       "    <tr>\n",
       "      <th>0</th>\n",
       "      <td>75</td>\n",
       "    </tr>\n",
       "    <tr>\n",
       "      <th>1</th>\n",
       "      <td>60</td>\n",
       "    </tr>\n",
       "    <tr>\n",
       "      <th>2</th>\n",
       "      <td>40</td>\n",
       "    </tr>\n",
       "    <tr>\n",
       "      <th>3</th>\n",
       "      <td>100</td>\n",
       "    </tr>\n",
       "    <tr>\n",
       "      <th>4</th>\n",
       "      <td>85</td>\n",
       "    </tr>\n",
       "    <tr>\n",
       "      <th>5</th>\n",
       "      <td>55</td>\n",
       "    </tr>\n",
       "    <tr>\n",
       "      <th>6</th>\n",
       "      <td>65</td>\n",
       "    </tr>\n",
       "    <tr>\n",
       "      <th>7</th>\n",
       "      <td>20</td>\n",
       "    </tr>\n",
       "    <tr>\n",
       "      <th>8</th>\n",
       "      <td>70</td>\n",
       "    </tr>\n",
       "    <tr>\n",
       "      <th>9</th>\n",
       "      <td>0</td>\n",
       "    </tr>\n",
       "  </tbody>\n",
       "</table>\n",
       "</div>"
      ],
      "text/plain": [
       "   score\n",
       "0     75\n",
       "1     60\n",
       "2     40\n",
       "3    100\n",
       "4     85\n",
       "5     55\n",
       "6     65\n",
       "7     20\n",
       "8     70\n",
       "9      0"
      ]
     },
     "execution_count": 38,
     "metadata": {},
     "output_type": "execute_result"
    }
   ],
   "source": [
    "score_df = pd.DataFrame({\"score\":[75,60,40,100,85,55,65,20,70,0]})\n",
    "score_df"
   ]
  },
  {
   "cell_type": "code",
   "execution_count": 39,
   "metadata": {},
   "outputs": [
    {
     "data": {
      "text/html": [
       "<div>\n",
       "<style scoped>\n",
       "    .dataframe tbody tr th:only-of-type {\n",
       "        vertical-align: middle;\n",
       "    }\n",
       "\n",
       "    .dataframe tbody tr th {\n",
       "        vertical-align: top;\n",
       "    }\n",
       "\n",
       "    .dataframe thead th {\n",
       "        text-align: right;\n",
       "    }\n",
       "</style>\n",
       "<table border=\"1\" class=\"dataframe\">\n",
       "  <thead>\n",
       "    <tr style=\"text-align: right;\">\n",
       "      <th></th>\n",
       "      <th>score</th>\n",
       "      <th>grade</th>\n",
       "    </tr>\n",
       "  </thead>\n",
       "  <tbody>\n",
       "    <tr>\n",
       "      <th>0</th>\n",
       "      <td>75</td>\n",
       "      <td>A</td>\n",
       "    </tr>\n",
       "    <tr>\n",
       "      <th>1</th>\n",
       "      <td>60</td>\n",
       "      <td>C</td>\n",
       "    </tr>\n",
       "    <tr>\n",
       "      <th>2</th>\n",
       "      <td>40</td>\n",
       "      <td>E</td>\n",
       "    </tr>\n",
       "    <tr>\n",
       "      <th>3</th>\n",
       "      <td>100</td>\n",
       "      <td>A</td>\n",
       "    </tr>\n",
       "    <tr>\n",
       "      <th>4</th>\n",
       "      <td>85</td>\n",
       "      <td>A</td>\n",
       "    </tr>\n",
       "    <tr>\n",
       "      <th>5</th>\n",
       "      <td>55</td>\n",
       "      <td>C</td>\n",
       "    </tr>\n",
       "    <tr>\n",
       "      <th>6</th>\n",
       "      <td>65</td>\n",
       "      <td>B</td>\n",
       "    </tr>\n",
       "    <tr>\n",
       "      <th>7</th>\n",
       "      <td>20</td>\n",
       "      <td>F</td>\n",
       "    </tr>\n",
       "    <tr>\n",
       "      <th>8</th>\n",
       "      <td>70</td>\n",
       "      <td>B</td>\n",
       "    </tr>\n",
       "    <tr>\n",
       "      <th>9</th>\n",
       "      <td>0</td>\n",
       "      <td>F</td>\n",
       "    </tr>\n",
       "  </tbody>\n",
       "</table>\n",
       "</div>"
      ],
      "text/plain": [
       "   score grade\n",
       "0     75     A\n",
       "1     60     C\n",
       "2     40     E\n",
       "3    100     A\n",
       "4     85     A\n",
       "5     55     C\n",
       "6     65     B\n",
       "7     20     F\n",
       "8     70     B\n",
       "9      0     F"
      ]
     },
     "execution_count": 39,
     "metadata": {},
     "output_type": "execute_result"
    }
   ],
   "source": [
    "score_df[\"grade\"] = pd.cut(score_df.score, bins = [0,34,44,54,64,74,100], \n",
    "                           labels = [\"F\",\"E\",\"D\",\"C\",\"B\",\"A\"],\n",
    "                           include_lowest= True)\n",
    "score_df"
   ]
  },
  {
   "cell_type": "markdown",
   "metadata": {},
   "source": [
    "## Exercise.B"
   ]
  },
  {
   "cell_type": "code",
   "execution_count": 40,
   "metadata": {},
   "outputs": [
    {
     "data": {
      "text/html": [
       "<div>\n",
       "<style scoped>\n",
       "    .dataframe tbody tr th:only-of-type {\n",
       "        vertical-align: middle;\n",
       "    }\n",
       "\n",
       "    .dataframe tbody tr th {\n",
       "        vertical-align: top;\n",
       "    }\n",
       "\n",
       "    .dataframe thead th {\n",
       "        text-align: right;\n",
       "    }\n",
       "</style>\n",
       "<table border=\"1\" class=\"dataframe\">\n",
       "  <thead>\n",
       "    <tr style=\"text-align: right;\">\n",
       "      <th></th>\n",
       "      <th>Q1</th>\n",
       "      <th>Q2</th>\n",
       "      <th>Q3</th>\n",
       "      <th>Q4</th>\n",
       "    </tr>\n",
       "  </thead>\n",
       "  <tbody>\n",
       "    <tr>\n",
       "      <th>A</th>\n",
       "      <td>124</td>\n",
       "      <td>132</td>\n",
       "      <td>150</td>\n",
       "      <td>128</td>\n",
       "    </tr>\n",
       "    <tr>\n",
       "      <th>B</th>\n",
       "      <td>148</td>\n",
       "      <td>131</td>\n",
       "      <td>142</td>\n",
       "      <td>138</td>\n",
       "    </tr>\n",
       "    <tr>\n",
       "      <th>C</th>\n",
       "      <td>126</td>\n",
       "      <td>125</td>\n",
       "      <td>157</td>\n",
       "      <td>128</td>\n",
       "    </tr>\n",
       "    <tr>\n",
       "      <th>D</th>\n",
       "      <td>102</td>\n",
       "      <td>150</td>\n",
       "      <td>133</td>\n",
       "      <td>126</td>\n",
       "    </tr>\n",
       "    <tr>\n",
       "      <th>E</th>\n",
       "      <td>116</td>\n",
       "      <td>119</td>\n",
       "      <td>152</td>\n",
       "      <td>159</td>\n",
       "    </tr>\n",
       "  </tbody>\n",
       "</table>\n",
       "</div>"
      ],
      "text/plain": [
       "    Q1   Q2   Q3   Q4\n",
       "A  124  132  150  128\n",
       "B  148  131  142  138\n",
       "C  126  125  157  128\n",
       "D  102  150  133  126\n",
       "E  116  119  152  159"
      ]
     },
     "execution_count": 40,
     "metadata": {},
     "output_type": "execute_result"
    }
   ],
   "source": [
    "import random\n",
    "random.seed(0)\n",
    "product_df = pd.DataFrame({\"Q1\":[random.randint(100,150) for i in range(5)],\"Q2\":[random.randint(100,150) for i in range(5)],\n",
    "                           \"Q3\":[random.randint(120,160) for i in range(5)],\"Q4\":[random.randint(120,160) for i in range(5)]}, index = [\"A\",\"B\",\"C\",\"D\",\"E\"])\n",
    "product_df"
   ]
  },
  {
   "cell_type": "markdown",
   "metadata": {},
   "source": [
    "**(B.1) Given the synthetic dataset above, each column represents quarterly sales, and the index is the product name. Caculate the annual sales of each product.**"
   ]
  },
  {
   "cell_type": "code",
   "execution_count": 41,
   "metadata": {},
   "outputs": [
    {
     "data": {
      "text/html": [
       "<div>\n",
       "<style scoped>\n",
       "    .dataframe tbody tr th:only-of-type {\n",
       "        vertical-align: middle;\n",
       "    }\n",
       "\n",
       "    .dataframe tbody tr th {\n",
       "        vertical-align: top;\n",
       "    }\n",
       "\n",
       "    .dataframe thead th {\n",
       "        text-align: right;\n",
       "    }\n",
       "</style>\n",
       "<table border=\"1\" class=\"dataframe\">\n",
       "  <thead>\n",
       "    <tr style=\"text-align: right;\">\n",
       "      <th></th>\n",
       "      <th>Q1</th>\n",
       "      <th>Q2</th>\n",
       "      <th>Q3</th>\n",
       "      <th>Q4</th>\n",
       "      <th>annual</th>\n",
       "    </tr>\n",
       "  </thead>\n",
       "  <tbody>\n",
       "    <tr>\n",
       "      <th>A</th>\n",
       "      <td>124</td>\n",
       "      <td>132</td>\n",
       "      <td>150</td>\n",
       "      <td>128</td>\n",
       "      <td>534</td>\n",
       "    </tr>\n",
       "    <tr>\n",
       "      <th>B</th>\n",
       "      <td>148</td>\n",
       "      <td>131</td>\n",
       "      <td>142</td>\n",
       "      <td>138</td>\n",
       "      <td>559</td>\n",
       "    </tr>\n",
       "    <tr>\n",
       "      <th>C</th>\n",
       "      <td>126</td>\n",
       "      <td>125</td>\n",
       "      <td>157</td>\n",
       "      <td>128</td>\n",
       "      <td>536</td>\n",
       "    </tr>\n",
       "    <tr>\n",
       "      <th>D</th>\n",
       "      <td>102</td>\n",
       "      <td>150</td>\n",
       "      <td>133</td>\n",
       "      <td>126</td>\n",
       "      <td>511</td>\n",
       "    </tr>\n",
       "    <tr>\n",
       "      <th>E</th>\n",
       "      <td>116</td>\n",
       "      <td>119</td>\n",
       "      <td>152</td>\n",
       "      <td>159</td>\n",
       "      <td>546</td>\n",
       "    </tr>\n",
       "  </tbody>\n",
       "</table>\n",
       "</div>"
      ],
      "text/plain": [
       "    Q1   Q2   Q3   Q4  annual\n",
       "A  124  132  150  128     534\n",
       "B  148  131  142  138     559\n",
       "C  126  125  157  128     536\n",
       "D  102  150  133  126     511\n",
       "E  116  119  152  159     546"
      ]
     },
     "execution_count": 41,
     "metadata": {},
     "output_type": "execute_result"
    }
   ],
   "source": [
    "product_df[\"annual\"] = product_df.sum(axis = 1)\n",
    "product_df"
   ]
  },
  {
   "cell_type": "markdown",
   "metadata": {},
   "source": [
    "**(B.2) Calculate the average quarterly sales for each product.**"
   ]
  },
  {
   "cell_type": "code",
   "execution_count": 42,
   "metadata": {},
   "outputs": [
    {
     "data": {
      "text/html": [
       "<div>\n",
       "<style scoped>\n",
       "    .dataframe tbody tr th:only-of-type {\n",
       "        vertical-align: middle;\n",
       "    }\n",
       "\n",
       "    .dataframe tbody tr th {\n",
       "        vertical-align: top;\n",
       "    }\n",
       "\n",
       "    .dataframe thead th {\n",
       "        text-align: right;\n",
       "    }\n",
       "</style>\n",
       "<table border=\"1\" class=\"dataframe\">\n",
       "  <thead>\n",
       "    <tr style=\"text-align: right;\">\n",
       "      <th></th>\n",
       "      <th>Q1</th>\n",
       "      <th>Q2</th>\n",
       "      <th>Q3</th>\n",
       "      <th>Q4</th>\n",
       "      <th>annual</th>\n",
       "      <th>Q_avg</th>\n",
       "    </tr>\n",
       "  </thead>\n",
       "  <tbody>\n",
       "    <tr>\n",
       "      <th>A</th>\n",
       "      <td>124</td>\n",
       "      <td>132</td>\n",
       "      <td>150</td>\n",
       "      <td>128</td>\n",
       "      <td>534</td>\n",
       "      <td>133.50</td>\n",
       "    </tr>\n",
       "    <tr>\n",
       "      <th>B</th>\n",
       "      <td>148</td>\n",
       "      <td>131</td>\n",
       "      <td>142</td>\n",
       "      <td>138</td>\n",
       "      <td>559</td>\n",
       "      <td>139.75</td>\n",
       "    </tr>\n",
       "    <tr>\n",
       "      <th>C</th>\n",
       "      <td>126</td>\n",
       "      <td>125</td>\n",
       "      <td>157</td>\n",
       "      <td>128</td>\n",
       "      <td>536</td>\n",
       "      <td>134.00</td>\n",
       "    </tr>\n",
       "    <tr>\n",
       "      <th>D</th>\n",
       "      <td>102</td>\n",
       "      <td>150</td>\n",
       "      <td>133</td>\n",
       "      <td>126</td>\n",
       "      <td>511</td>\n",
       "      <td>127.75</td>\n",
       "    </tr>\n",
       "    <tr>\n",
       "      <th>E</th>\n",
       "      <td>116</td>\n",
       "      <td>119</td>\n",
       "      <td>152</td>\n",
       "      <td>159</td>\n",
       "      <td>546</td>\n",
       "      <td>136.50</td>\n",
       "    </tr>\n",
       "  </tbody>\n",
       "</table>\n",
       "</div>"
      ],
      "text/plain": [
       "    Q1   Q2   Q3   Q4  annual   Q_avg\n",
       "A  124  132  150  128     534  133.50\n",
       "B  148  131  142  138     559  139.75\n",
       "C  126  125  157  128     536  134.00\n",
       "D  102  150  133  126     511  127.75\n",
       "E  116  119  152  159     546  136.50"
      ]
     },
     "execution_count": 42,
     "metadata": {},
     "output_type": "execute_result"
    }
   ],
   "source": [
    "product_df[\"Q_avg\"] =  product_df.iloc[:,0:4].mean(axis = 1)\n",
    "product_df"
   ]
  },
  {
   "cell_type": "markdown",
   "metadata": {},
   "source": [
    "**(B.3) For each product, calculate the proportion of sales in the first half of the year to annual sales. Round the number to the two decimal place.**"
   ]
  },
  {
   "cell_type": "code",
   "execution_count": 43,
   "metadata": {},
   "outputs": [
    {
     "data": {
      "text/html": [
       "<div>\n",
       "<style scoped>\n",
       "    .dataframe tbody tr th:only-of-type {\n",
       "        vertical-align: middle;\n",
       "    }\n",
       "\n",
       "    .dataframe tbody tr th {\n",
       "        vertical-align: top;\n",
       "    }\n",
       "\n",
       "    .dataframe thead th {\n",
       "        text-align: right;\n",
       "    }\n",
       "</style>\n",
       "<table border=\"1\" class=\"dataframe\">\n",
       "  <thead>\n",
       "    <tr style=\"text-align: right;\">\n",
       "      <th></th>\n",
       "      <th>Q1</th>\n",
       "      <th>Q2</th>\n",
       "      <th>Q3</th>\n",
       "      <th>Q4</th>\n",
       "      <th>annual</th>\n",
       "      <th>Q_avg</th>\n",
       "      <th>H1(%)</th>\n",
       "    </tr>\n",
       "  </thead>\n",
       "  <tbody>\n",
       "    <tr>\n",
       "      <th>A</th>\n",
       "      <td>124</td>\n",
       "      <td>132</td>\n",
       "      <td>150</td>\n",
       "      <td>128</td>\n",
       "      <td>534</td>\n",
       "      <td>133.50</td>\n",
       "      <td>47.94</td>\n",
       "    </tr>\n",
       "    <tr>\n",
       "      <th>B</th>\n",
       "      <td>148</td>\n",
       "      <td>131</td>\n",
       "      <td>142</td>\n",
       "      <td>138</td>\n",
       "      <td>559</td>\n",
       "      <td>139.75</td>\n",
       "      <td>49.91</td>\n",
       "    </tr>\n",
       "    <tr>\n",
       "      <th>C</th>\n",
       "      <td>126</td>\n",
       "      <td>125</td>\n",
       "      <td>157</td>\n",
       "      <td>128</td>\n",
       "      <td>536</td>\n",
       "      <td>134.00</td>\n",
       "      <td>46.83</td>\n",
       "    </tr>\n",
       "    <tr>\n",
       "      <th>D</th>\n",
       "      <td>102</td>\n",
       "      <td>150</td>\n",
       "      <td>133</td>\n",
       "      <td>126</td>\n",
       "      <td>511</td>\n",
       "      <td>127.75</td>\n",
       "      <td>49.32</td>\n",
       "    </tr>\n",
       "    <tr>\n",
       "      <th>E</th>\n",
       "      <td>116</td>\n",
       "      <td>119</td>\n",
       "      <td>152</td>\n",
       "      <td>159</td>\n",
       "      <td>546</td>\n",
       "      <td>136.50</td>\n",
       "      <td>43.04</td>\n",
       "    </tr>\n",
       "  </tbody>\n",
       "</table>\n",
       "</div>"
      ],
      "text/plain": [
       "    Q1   Q2   Q3   Q4  annual   Q_avg  H1(%)\n",
       "A  124  132  150  128     534  133.50  47.94\n",
       "B  148  131  142  138     559  139.75  49.91\n",
       "C  126  125  157  128     536  134.00  46.83\n",
       "D  102  150  133  126     511  127.75  49.32\n",
       "E  116  119  152  159     546  136.50  43.04"
      ]
     },
     "execution_count": 43,
     "metadata": {},
     "output_type": "execute_result"
    }
   ],
   "source": [
    "# (Q1+Q2)/(Q1+Q2+Q3+Q4)\n",
    "product_df[\"H1(%)\"] = round((product_df.Q1 + product_df.Q2 )/product_df.annual*100,2)\n",
    "product_df"
   ]
  },
  {
   "cell_type": "markdown",
   "metadata": {},
   "source": [
    "**(B.4) For each product, calculate the percentage increase in sales in the second quarter compared to the first quarter.  Round the number to the two decimal place.**"
   ]
  },
  {
   "cell_type": "code",
   "execution_count": 44,
   "metadata": {},
   "outputs": [
    {
     "data": {
      "text/html": [
       "<div>\n",
       "<style scoped>\n",
       "    .dataframe tbody tr th:only-of-type {\n",
       "        vertical-align: middle;\n",
       "    }\n",
       "\n",
       "    .dataframe tbody tr th {\n",
       "        vertical-align: top;\n",
       "    }\n",
       "\n",
       "    .dataframe thead th {\n",
       "        text-align: right;\n",
       "    }\n",
       "</style>\n",
       "<table border=\"1\" class=\"dataframe\">\n",
       "  <thead>\n",
       "    <tr style=\"text-align: right;\">\n",
       "      <th></th>\n",
       "      <th>Q1</th>\n",
       "      <th>Q2</th>\n",
       "      <th>Q3</th>\n",
       "      <th>Q4</th>\n",
       "      <th>annual</th>\n",
       "      <th>Q_avg</th>\n",
       "      <th>H1(%)</th>\n",
       "      <th>Q2-Q1(%)</th>\n",
       "    </tr>\n",
       "  </thead>\n",
       "  <tbody>\n",
       "    <tr>\n",
       "      <th>A</th>\n",
       "      <td>124</td>\n",
       "      <td>132</td>\n",
       "      <td>150</td>\n",
       "      <td>128</td>\n",
       "      <td>534</td>\n",
       "      <td>133.50</td>\n",
       "      <td>47.94</td>\n",
       "      <td>6.45</td>\n",
       "    </tr>\n",
       "    <tr>\n",
       "      <th>B</th>\n",
       "      <td>148</td>\n",
       "      <td>131</td>\n",
       "      <td>142</td>\n",
       "      <td>138</td>\n",
       "      <td>559</td>\n",
       "      <td>139.75</td>\n",
       "      <td>49.91</td>\n",
       "      <td>-11.49</td>\n",
       "    </tr>\n",
       "    <tr>\n",
       "      <th>C</th>\n",
       "      <td>126</td>\n",
       "      <td>125</td>\n",
       "      <td>157</td>\n",
       "      <td>128</td>\n",
       "      <td>536</td>\n",
       "      <td>134.00</td>\n",
       "      <td>46.83</td>\n",
       "      <td>-0.79</td>\n",
       "    </tr>\n",
       "    <tr>\n",
       "      <th>D</th>\n",
       "      <td>102</td>\n",
       "      <td>150</td>\n",
       "      <td>133</td>\n",
       "      <td>126</td>\n",
       "      <td>511</td>\n",
       "      <td>127.75</td>\n",
       "      <td>49.32</td>\n",
       "      <td>47.06</td>\n",
       "    </tr>\n",
       "    <tr>\n",
       "      <th>E</th>\n",
       "      <td>116</td>\n",
       "      <td>119</td>\n",
       "      <td>152</td>\n",
       "      <td>159</td>\n",
       "      <td>546</td>\n",
       "      <td>136.50</td>\n",
       "      <td>43.04</td>\n",
       "      <td>2.59</td>\n",
       "    </tr>\n",
       "  </tbody>\n",
       "</table>\n",
       "</div>"
      ],
      "text/plain": [
       "    Q1   Q2   Q3   Q4  annual   Q_avg  H1(%)  Q2-Q1(%)\n",
       "A  124  132  150  128     534  133.50  47.94      6.45\n",
       "B  148  131  142  138     559  139.75  49.91    -11.49\n",
       "C  126  125  157  128     536  134.00  46.83     -0.79\n",
       "D  102  150  133  126     511  127.75  49.32     47.06\n",
       "E  116  119  152  159     546  136.50  43.04      2.59"
      ]
     },
     "execution_count": 44,
     "metadata": {},
     "output_type": "execute_result"
    }
   ],
   "source": [
    "# (Q2-Q1)/Q1\n",
    "product_df[\"Q2-Q1(%)\"] = round((product_df.Q2 - product_df.Q1 )/product_df.Q1*100,2)\n",
    "product_df"
   ]
  },
  {
   "cell_type": "markdown",
   "metadata": {},
   "source": [
    "### [2.2] GroupBy"
   ]
  },
  {
   "cell_type": "code",
   "execution_count": 45,
   "metadata": {},
   "outputs": [
    {
     "data": {
      "text/html": [
       "<div>\n",
       "<style scoped>\n",
       "    .dataframe tbody tr th:only-of-type {\n",
       "        vertical-align: middle;\n",
       "    }\n",
       "\n",
       "    .dataframe tbody tr th {\n",
       "        vertical-align: top;\n",
       "    }\n",
       "\n",
       "    .dataframe thead th {\n",
       "        text-align: right;\n",
       "    }\n",
       "</style>\n",
       "<table border=\"1\" class=\"dataframe\">\n",
       "  <thead>\n",
       "    <tr style=\"text-align: right;\">\n",
       "      <th></th>\n",
       "      <th>Product</th>\n",
       "      <th>Quarter</th>\n",
       "      <th>Month</th>\n",
       "      <th>Sales</th>\n",
       "    </tr>\n",
       "  </thead>\n",
       "  <tbody>\n",
       "    <tr>\n",
       "      <th>0</th>\n",
       "      <td>A</td>\n",
       "      <td>Q1</td>\n",
       "      <td>Jan</td>\n",
       "      <td>67</td>\n",
       "    </tr>\n",
       "    <tr>\n",
       "      <th>1</th>\n",
       "      <td>A</td>\n",
       "      <td>Q1</td>\n",
       "      <td>Feb</td>\n",
       "      <td>57</td>\n",
       "    </tr>\n",
       "    <tr>\n",
       "      <th>2</th>\n",
       "      <td>A</td>\n",
       "      <td>Q1</td>\n",
       "      <td>Mar</td>\n",
       "      <td>87</td>\n",
       "    </tr>\n",
       "    <tr>\n",
       "      <th>3</th>\n",
       "      <td>A</td>\n",
       "      <td>Q2</td>\n",
       "      <td>Apr</td>\n",
       "      <td>50</td>\n",
       "    </tr>\n",
       "    <tr>\n",
       "      <th>4</th>\n",
       "      <td>A</td>\n",
       "      <td>Q2</td>\n",
       "      <td>May</td>\n",
       "      <td>97</td>\n",
       "    </tr>\n",
       "    <tr>\n",
       "      <th>5</th>\n",
       "      <td>A</td>\n",
       "      <td>Q2</td>\n",
       "      <td>Jun</td>\n",
       "      <td>68</td>\n",
       "    </tr>\n",
       "    <tr>\n",
       "      <th>6</th>\n",
       "      <td>B</td>\n",
       "      <td>Q1</td>\n",
       "      <td>Jan</td>\n",
       "      <td>78</td>\n",
       "    </tr>\n",
       "    <tr>\n",
       "      <th>7</th>\n",
       "      <td>B</td>\n",
       "      <td>Q1</td>\n",
       "      <td>Feb</td>\n",
       "      <td>102</td>\n",
       "    </tr>\n",
       "    <tr>\n",
       "      <th>8</th>\n",
       "      <td>B</td>\n",
       "      <td>Q1</td>\n",
       "      <td>Mar</td>\n",
       "      <td>113</td>\n",
       "    </tr>\n",
       "    <tr>\n",
       "      <th>9</th>\n",
       "      <td>B</td>\n",
       "      <td>Q2</td>\n",
       "      <td>Apr</td>\n",
       "      <td>98</td>\n",
       "    </tr>\n",
       "    <tr>\n",
       "      <th>10</th>\n",
       "      <td>B</td>\n",
       "      <td>Q2</td>\n",
       "      <td>May</td>\n",
       "      <td>80</td>\n",
       "    </tr>\n",
       "    <tr>\n",
       "      <th>11</th>\n",
       "      <td>B</td>\n",
       "      <td>Q2</td>\n",
       "      <td>Jun</td>\n",
       "      <td>84</td>\n",
       "    </tr>\n",
       "  </tbody>\n",
       "</table>\n",
       "</div>"
      ],
      "text/plain": [
       "   Product Quarter Month  Sales\n",
       "0        A      Q1   Jan     67\n",
       "1        A      Q1   Feb     57\n",
       "2        A      Q1   Mar     87\n",
       "3        A      Q2   Apr     50\n",
       "4        A      Q2   May     97\n",
       "5        A      Q2   Jun     68\n",
       "6        B      Q1   Jan     78\n",
       "7        B      Q1   Feb    102\n",
       "8        B      Q1   Mar    113\n",
       "9        B      Q2   Apr     98\n",
       "10       B      Q2   May     80\n",
       "11       B      Q2   Jun     84"
      ]
     },
     "execution_count": 45,
     "metadata": {},
     "output_type": "execute_result"
    }
   ],
   "source": [
    "sales_df = pd.DataFrame({ \"Product\":[\"A\",\"A\",\"A\",\"A\",\"A\",\"A\",\"B\",\"B\",\"B\",\"B\",\"B\",\"B\"],\n",
    "                           \"Quarter\":[\"Q1\",\"Q1\",\"Q1\",\"Q2\",\"Q2\",\"Q2\",\"Q1\",\"Q1\",\"Q1\",\"Q2\",\"Q2\",\"Q2\"],\n",
    "                           \"Month\":[\"Jan\",\"Feb\",\"Mar\",\"Apr\",\"May\",\"Jun\",\"Jan\",\"Feb\",\"Mar\",\"Apr\",\"May\",\"Jun\"],\n",
    "                           \"Sales\":[67, 57, 87, 50, 97, 68, 78, 102, 113, 98, 80, 84]})\n",
    "sales_df "
   ]
  },
  {
   "cell_type": "markdown",
   "metadata": {},
   "source": [
    "- **GroupBy based on one key**"
   ]
  },
  {
   "cell_type": "code",
   "execution_count": 46,
   "metadata": {},
   "outputs": [
    {
     "data": {
      "text/plain": [
       "pandas.core.groupby.generic.DataFrameGroupBy"
      ]
     },
     "execution_count": 46,
     "metadata": {},
     "output_type": "execute_result"
    }
   ],
   "source": [
    "sales_gb_product = sales_df.groupby(\"Product\") \n",
    "type(sales_gb_product)"
   ]
  },
  {
   "cell_type": "markdown",
   "metadata": {},
   "source": [
    "- **GroupBy obejct - attribute**"
   ]
  },
  {
   "cell_type": "code",
   "execution_count": 47,
   "metadata": {},
   "outputs": [
    {
     "data": {
      "text/plain": [
       "{'A': [0, 1, 2, 3, 4, 5], 'B': [6, 7, 8, 9, 10, 11]}"
      ]
     },
     "execution_count": 47,
     "metadata": {},
     "output_type": "execute_result"
    }
   ],
   "source": [
    "sales_gb_product.groups"
   ]
  },
  {
   "cell_type": "markdown",
   "metadata": {},
   "source": [
    "- **GroupBy obejct - methods**"
   ]
  },
  {
   "cell_type": "code",
   "execution_count": 48,
   "metadata": {},
   "outputs": [
    {
     "data": {
      "text/plain": [
       "Product\n",
       "A    6\n",
       "B    6\n",
       "dtype: int64"
      ]
     },
     "execution_count": 48,
     "metadata": {},
     "output_type": "execute_result"
    }
   ],
   "source": [
    "sales_gb_product.size()"
   ]
  },
  {
   "cell_type": "code",
   "execution_count": 49,
   "metadata": {},
   "outputs": [
    {
     "data": {
      "text/html": [
       "<div>\n",
       "<style scoped>\n",
       "    .dataframe tbody tr th:only-of-type {\n",
       "        vertical-align: middle;\n",
       "    }\n",
       "\n",
       "    .dataframe tbody tr th {\n",
       "        vertical-align: top;\n",
       "    }\n",
       "\n",
       "    .dataframe thead th {\n",
       "        text-align: right;\n",
       "    }\n",
       "</style>\n",
       "<table border=\"1\" class=\"dataframe\">\n",
       "  <thead>\n",
       "    <tr style=\"text-align: right;\">\n",
       "      <th></th>\n",
       "      <th>Sales</th>\n",
       "    </tr>\n",
       "    <tr>\n",
       "      <th>Product</th>\n",
       "      <th></th>\n",
       "    </tr>\n",
       "  </thead>\n",
       "  <tbody>\n",
       "    <tr>\n",
       "      <th>A</th>\n",
       "      <td>71.0</td>\n",
       "    </tr>\n",
       "    <tr>\n",
       "      <th>B</th>\n",
       "      <td>92.5</td>\n",
       "    </tr>\n",
       "  </tbody>\n",
       "</table>\n",
       "</div>"
      ],
      "text/plain": [
       "         Sales\n",
       "Product       \n",
       "A         71.0\n",
       "B         92.5"
      ]
     },
     "execution_count": 49,
     "metadata": {},
     "output_type": "execute_result"
    }
   ],
   "source": [
    "sales_gb_product.mean()"
   ]
  },
  {
   "cell_type": "code",
   "execution_count": 50,
   "metadata": {},
   "outputs": [
    {
     "data": {
      "text/html": [
       "<div>\n",
       "<style scoped>\n",
       "    .dataframe tbody tr th:only-of-type {\n",
       "        vertical-align: middle;\n",
       "    }\n",
       "\n",
       "    .dataframe tbody tr th {\n",
       "        vertical-align: top;\n",
       "    }\n",
       "\n",
       "    .dataframe thead th {\n",
       "        text-align: right;\n",
       "    }\n",
       "</style>\n",
       "<table border=\"1\" class=\"dataframe\">\n",
       "  <thead>\n",
       "    <tr style=\"text-align: right;\">\n",
       "      <th></th>\n",
       "      <th>Quarter</th>\n",
       "      <th>Month</th>\n",
       "      <th>Sales</th>\n",
       "    </tr>\n",
       "    <tr>\n",
       "      <th>Product</th>\n",
       "      <th></th>\n",
       "      <th></th>\n",
       "      <th></th>\n",
       "    </tr>\n",
       "  </thead>\n",
       "  <tbody>\n",
       "    <tr>\n",
       "      <th>A</th>\n",
       "      <td>Q2</td>\n",
       "      <td>May</td>\n",
       "      <td>97</td>\n",
       "    </tr>\n",
       "    <tr>\n",
       "      <th>B</th>\n",
       "      <td>Q2</td>\n",
       "      <td>May</td>\n",
       "      <td>113</td>\n",
       "    </tr>\n",
       "  </tbody>\n",
       "</table>\n",
       "</div>"
      ],
      "text/plain": [
       "        Quarter Month  Sales\n",
       "Product                     \n",
       "A            Q2   May     97\n",
       "B            Q2   May    113"
      ]
     },
     "execution_count": 50,
     "metadata": {},
     "output_type": "execute_result"
    }
   ],
   "source": [
    "sales_gb_product.max()"
   ]
  },
  {
   "cell_type": "code",
   "execution_count": 51,
   "metadata": {},
   "outputs": [
    {
     "data": {
      "text/plain": [
       "Product\n",
       "A     97\n",
       "B    113\n",
       "Name: Sales, dtype: int64"
      ]
     },
     "execution_count": 51,
     "metadata": {},
     "output_type": "execute_result"
    }
   ],
   "source": [
    "sales_gb_product.Sales.max()"
   ]
  },
  {
   "cell_type": "code",
   "execution_count": 52,
   "metadata": {},
   "outputs": [
    {
     "data": {
      "text/html": [
       "<div>\n",
       "<style scoped>\n",
       "    .dataframe tbody tr th:only-of-type {\n",
       "        vertical-align: middle;\n",
       "    }\n",
       "\n",
       "    .dataframe tbody tr th {\n",
       "        vertical-align: top;\n",
       "    }\n",
       "\n",
       "    .dataframe thead th {\n",
       "        text-align: right;\n",
       "    }\n",
       "</style>\n",
       "<table border=\"1\" class=\"dataframe\">\n",
       "  <thead>\n",
       "    <tr style=\"text-align: right;\">\n",
       "      <th></th>\n",
       "      <th>mean</th>\n",
       "      <th>min</th>\n",
       "      <th>max</th>\n",
       "    </tr>\n",
       "    <tr>\n",
       "      <th>Product</th>\n",
       "      <th></th>\n",
       "      <th></th>\n",
       "      <th></th>\n",
       "    </tr>\n",
       "  </thead>\n",
       "  <tbody>\n",
       "    <tr>\n",
       "      <th>A</th>\n",
       "      <td>71.0</td>\n",
       "      <td>50</td>\n",
       "      <td>97</td>\n",
       "    </tr>\n",
       "    <tr>\n",
       "      <th>B</th>\n",
       "      <td>92.5</td>\n",
       "      <td>78</td>\n",
       "      <td>113</td>\n",
       "    </tr>\n",
       "  </tbody>\n",
       "</table>\n",
       "</div>"
      ],
      "text/plain": [
       "         mean  min  max\n",
       "Product                \n",
       "A        71.0   50   97\n",
       "B        92.5   78  113"
      ]
     },
     "execution_count": 52,
     "metadata": {},
     "output_type": "execute_result"
    }
   ],
   "source": [
    "sales_gb_product.Sales.agg(['mean','min','max'])"
   ]
  },
  {
   "cell_type": "markdown",
   "metadata": {},
   "source": [
    "- **GroupBy based on two keys**"
   ]
  },
  {
   "cell_type": "code",
   "execution_count": 53,
   "metadata": {},
   "outputs": [],
   "source": [
    "sales_gb_product_Q = sales_df.groupby(['Product','Quarter'])"
   ]
  },
  {
   "cell_type": "code",
   "execution_count": 54,
   "metadata": {},
   "outputs": [
    {
     "data": {
      "text/plain": [
       "{('A', 'Q1'): [0, 1, 2], ('A', 'Q2'): [3, 4, 5], ('B', 'Q1'): [6, 7, 8], ('B', 'Q2'): [9, 10, 11]}"
      ]
     },
     "execution_count": 54,
     "metadata": {},
     "output_type": "execute_result"
    }
   ],
   "source": [
    "sales_gb_product_Q.groups"
   ]
  },
  {
   "cell_type": "code",
   "execution_count": 55,
   "metadata": {},
   "outputs": [
    {
     "data": {
      "text/plain": [
       "Product  Quarter\n",
       "A        Q1         211\n",
       "         Q2         215\n",
       "B        Q1         293\n",
       "         Q2         262\n",
       "Name: Sales, dtype: int64"
      ]
     },
     "execution_count": 55,
     "metadata": {},
     "output_type": "execute_result"
    }
   ],
   "source": [
    "sales_gb_product_Q.Sales.sum()"
   ]
  },
  {
   "cell_type": "code",
   "execution_count": 56,
   "metadata": {},
   "outputs": [
    {
     "data": {
      "text/plain": [
       "Product  Quarter\n",
       "A        Q1         70.33\n",
       "         Q2         71.67\n",
       "B        Q1         97.67\n",
       "         Q2         87.33\n",
       "Name: Sales, dtype: float64"
      ]
     },
     "execution_count": 56,
     "metadata": {},
     "output_type": "execute_result"
    }
   ],
   "source": [
    "round(sales_gb_product_Q.Sales.mean(),2)"
   ]
  },
  {
   "cell_type": "markdown",
   "metadata": {},
   "source": [
    "- **Convert Series to DataFrame**<br>"
   ]
  },
  {
   "cell_type": "code",
   "execution_count": 57,
   "metadata": {},
   "outputs": [
    {
     "data": {
      "text/plain": [
       "pandas.core.series.Series"
      ]
     },
     "execution_count": 57,
     "metadata": {},
     "output_type": "execute_result"
    }
   ],
   "source": [
    "type(sales_gb_product_Q.Sales.sum())"
   ]
  },
  {
   "cell_type": "code",
   "execution_count": 58,
   "metadata": {},
   "outputs": [
    {
     "data": {
      "text/html": [
       "<div>\n",
       "<style scoped>\n",
       "    .dataframe tbody tr th:only-of-type {\n",
       "        vertical-align: middle;\n",
       "    }\n",
       "\n",
       "    .dataframe tbody tr th {\n",
       "        vertical-align: top;\n",
       "    }\n",
       "\n",
       "    .dataframe thead th {\n",
       "        text-align: right;\n",
       "    }\n",
       "</style>\n",
       "<table border=\"1\" class=\"dataframe\">\n",
       "  <thead>\n",
       "    <tr style=\"text-align: right;\">\n",
       "      <th></th>\n",
       "      <th></th>\n",
       "      <th>Q_sales</th>\n",
       "    </tr>\n",
       "    <tr>\n",
       "      <th>Product</th>\n",
       "      <th>Quarter</th>\n",
       "      <th></th>\n",
       "    </tr>\n",
       "  </thead>\n",
       "  <tbody>\n",
       "    <tr>\n",
       "      <th rowspan=\"2\" valign=\"top\">A</th>\n",
       "      <th>Q1</th>\n",
       "      <td>211</td>\n",
       "    </tr>\n",
       "    <tr>\n",
       "      <th>Q2</th>\n",
       "      <td>215</td>\n",
       "    </tr>\n",
       "    <tr>\n",
       "      <th rowspan=\"2\" valign=\"top\">B</th>\n",
       "      <th>Q1</th>\n",
       "      <td>293</td>\n",
       "    </tr>\n",
       "    <tr>\n",
       "      <th>Q2</th>\n",
       "      <td>262</td>\n",
       "    </tr>\n",
       "  </tbody>\n",
       "</table>\n",
       "</div>"
      ],
      "text/plain": [
       "                 Q_sales\n",
       "Product Quarter         \n",
       "A       Q1           211\n",
       "        Q2           215\n",
       "B       Q1           293\n",
       "        Q2           262"
      ]
     },
     "execution_count": 58,
     "metadata": {},
     "output_type": "execute_result"
    }
   ],
   "source": [
    "# Convert the series to dataframe with the column name “Q_sales”\n",
    "quarterly_sales = sales_gb_product_Q.Sales.sum().to_frame(name = \"Q_sales\")\n",
    "quarterly_sales"
   ]
  },
  {
   "cell_type": "code",
   "execution_count": 59,
   "metadata": {},
   "outputs": [
    {
     "data": {
      "text/plain": [
       "MultiIndex([('A', 'Q1'),\n",
       "            ('A', 'Q2'),\n",
       "            ('B', 'Q1'),\n",
       "            ('B', 'Q2')],\n",
       "           names=['Product', 'Quarter'])"
      ]
     },
     "execution_count": 59,
     "metadata": {},
     "output_type": "execute_result"
    }
   ],
   "source": [
    "# Multiple index\n",
    "quarterly_sales.index"
   ]
  },
  {
   "cell_type": "code",
   "execution_count": 60,
   "metadata": {},
   "outputs": [
    {
     "data": {
      "text/html": [
       "<div>\n",
       "<style scoped>\n",
       "    .dataframe tbody tr th:only-of-type {\n",
       "        vertical-align: middle;\n",
       "    }\n",
       "\n",
       "    .dataframe tbody tr th {\n",
       "        vertical-align: top;\n",
       "    }\n",
       "\n",
       "    .dataframe thead th {\n",
       "        text-align: right;\n",
       "    }\n",
       "</style>\n",
       "<table border=\"1\" class=\"dataframe\">\n",
       "  <thead>\n",
       "    <tr style=\"text-align: right;\">\n",
       "      <th></th>\n",
       "      <th>Product</th>\n",
       "      <th>Quarter</th>\n",
       "      <th>Q_sales</th>\n",
       "    </tr>\n",
       "  </thead>\n",
       "  <tbody>\n",
       "    <tr>\n",
       "      <th>0</th>\n",
       "      <td>A</td>\n",
       "      <td>Q1</td>\n",
       "      <td>211</td>\n",
       "    </tr>\n",
       "    <tr>\n",
       "      <th>1</th>\n",
       "      <td>A</td>\n",
       "      <td>Q2</td>\n",
       "      <td>215</td>\n",
       "    </tr>\n",
       "    <tr>\n",
       "      <th>2</th>\n",
       "      <td>B</td>\n",
       "      <td>Q1</td>\n",
       "      <td>293</td>\n",
       "    </tr>\n",
       "    <tr>\n",
       "      <th>3</th>\n",
       "      <td>B</td>\n",
       "      <td>Q2</td>\n",
       "      <td>262</td>\n",
       "    </tr>\n",
       "  </tbody>\n",
       "</table>\n",
       "</div>"
      ],
      "text/plain": [
       "  Product Quarter  Q_sales\n",
       "0       A      Q1      211\n",
       "1       A      Q2      215\n",
       "2       B      Q1      293\n",
       "3       B      Q2      262"
      ]
     },
     "execution_count": 60,
     "metadata": {},
     "output_type": "execute_result"
    }
   ],
   "source": [
    "# Add group keys to new columns\n",
    "quarterly_sales.reset_index(inplace = True)\n",
    "quarterly_sales"
   ]
  },
  {
   "cell_type": "markdown",
   "metadata": {},
   "source": [
    "## Exercise.C"
   ]
  },
  {
   "cell_type": "markdown",
   "metadata": {},
   "source": [
    "**(C.1) Given the following data, calculate the average price of wine in each province.**"
   ]
  },
  {
   "cell_type": "code",
   "execution_count": 61,
   "metadata": {},
   "outputs": [],
   "source": [
    "winery = ['Domaine Vincent Girardin','Domaine de Bellene','Au Pied du Mont Chauve','Chateau Raymond-Lafon','Chateau Balac','Etienne de Tauriac','Borgogno','Sottimano','Punset','La Fiorita','Piccini','Pietranera']\n",
    "country = ['France','France','France','France','France','France','Italy','Italy','Italy','Italy','Italy','Italy']\n",
    "price = [94,60,43,120,45,25,80,58,43,60,60,75]\n",
    "province = ['Burgundy','Burgundy','Burgundy','Bordeaux','Bordeaux','Bordeaux','Piedmont','Piedmont','Piedmont','Tuscany','Tuscany','Tuscany']\n",
    "wine_df = pd.DataFrame({\"winery\":winery, \"country\":country, \"price\":price, \"province\":province})"
   ]
  },
  {
   "cell_type": "code",
   "execution_count": 63,
   "metadata": {},
   "outputs": [
    {
     "data": {
      "text/html": [
       "<div>\n",
       "<style scoped>\n",
       "    .dataframe tbody tr th:only-of-type {\n",
       "        vertical-align: middle;\n",
       "    }\n",
       "\n",
       "    .dataframe tbody tr th {\n",
       "        vertical-align: top;\n",
       "    }\n",
       "\n",
       "    .dataframe thead th {\n",
       "        text-align: right;\n",
       "    }\n",
       "</style>\n",
       "<table border=\"1\" class=\"dataframe\">\n",
       "  <thead>\n",
       "    <tr style=\"text-align: right;\">\n",
       "      <th></th>\n",
       "      <th>winery</th>\n",
       "      <th>country</th>\n",
       "      <th>price</th>\n",
       "      <th>province</th>\n",
       "    </tr>\n",
       "  </thead>\n",
       "  <tbody>\n",
       "    <tr>\n",
       "      <th>0</th>\n",
       "      <td>Domaine Vincent Girardin</td>\n",
       "      <td>France</td>\n",
       "      <td>94</td>\n",
       "      <td>Burgundy</td>\n",
       "    </tr>\n",
       "    <tr>\n",
       "      <th>1</th>\n",
       "      <td>Domaine de Bellene</td>\n",
       "      <td>France</td>\n",
       "      <td>60</td>\n",
       "      <td>Burgundy</td>\n",
       "    </tr>\n",
       "    <tr>\n",
       "      <th>2</th>\n",
       "      <td>Au Pied du Mont Chauve</td>\n",
       "      <td>France</td>\n",
       "      <td>43</td>\n",
       "      <td>Burgundy</td>\n",
       "    </tr>\n",
       "    <tr>\n",
       "      <th>3</th>\n",
       "      <td>Chateau Raymond-Lafon</td>\n",
       "      <td>France</td>\n",
       "      <td>120</td>\n",
       "      <td>Bordeaux</td>\n",
       "    </tr>\n",
       "    <tr>\n",
       "      <th>4</th>\n",
       "      <td>Chateau Balac</td>\n",
       "      <td>France</td>\n",
       "      <td>45</td>\n",
       "      <td>Bordeaux</td>\n",
       "    </tr>\n",
       "    <tr>\n",
       "      <th>5</th>\n",
       "      <td>Etienne de Tauriac</td>\n",
       "      <td>France</td>\n",
       "      <td>25</td>\n",
       "      <td>Bordeaux</td>\n",
       "    </tr>\n",
       "    <tr>\n",
       "      <th>6</th>\n",
       "      <td>Borgogno</td>\n",
       "      <td>Italy</td>\n",
       "      <td>80</td>\n",
       "      <td>Piedmont</td>\n",
       "    </tr>\n",
       "    <tr>\n",
       "      <th>7</th>\n",
       "      <td>Sottimano</td>\n",
       "      <td>Italy</td>\n",
       "      <td>58</td>\n",
       "      <td>Piedmont</td>\n",
       "    </tr>\n",
       "    <tr>\n",
       "      <th>8</th>\n",
       "      <td>Punset</td>\n",
       "      <td>Italy</td>\n",
       "      <td>43</td>\n",
       "      <td>Piedmont</td>\n",
       "    </tr>\n",
       "    <tr>\n",
       "      <th>9</th>\n",
       "      <td>La Fiorita</td>\n",
       "      <td>Italy</td>\n",
       "      <td>60</td>\n",
       "      <td>Tuscany</td>\n",
       "    </tr>\n",
       "    <tr>\n",
       "      <th>10</th>\n",
       "      <td>Piccini</td>\n",
       "      <td>Italy</td>\n",
       "      <td>60</td>\n",
       "      <td>Tuscany</td>\n",
       "    </tr>\n",
       "    <tr>\n",
       "      <th>11</th>\n",
       "      <td>Pietranera</td>\n",
       "      <td>Italy</td>\n",
       "      <td>75</td>\n",
       "      <td>Tuscany</td>\n",
       "    </tr>\n",
       "  </tbody>\n",
       "</table>\n",
       "</div>"
      ],
      "text/plain": [
       "                      winery country  price  province\n",
       "0   Domaine Vincent Girardin  France     94  Burgundy\n",
       "1         Domaine de Bellene  France     60  Burgundy\n",
       "2     Au Pied du Mont Chauve  France     43  Burgundy\n",
       "3      Chateau Raymond-Lafon  France    120  Bordeaux\n",
       "4              Chateau Balac  France     45  Bordeaux\n",
       "5         Etienne de Tauriac  France     25  Bordeaux\n",
       "6                   Borgogno   Italy     80  Piedmont\n",
       "7                  Sottimano   Italy     58  Piedmont\n",
       "8                     Punset   Italy     43  Piedmont\n",
       "9                 La Fiorita   Italy     60   Tuscany\n",
       "10                   Piccini   Italy     60   Tuscany\n",
       "11                Pietranera   Italy     75   Tuscany"
      ]
     },
     "execution_count": 63,
     "metadata": {},
     "output_type": "execute_result"
    }
   ],
   "source": [
    "wine_df"
   ]
  },
  {
   "cell_type": "code",
   "execution_count": 65,
   "metadata": {},
   "outputs": [
    {
     "data": {
      "text/html": [
       "<div>\n",
       "<style scoped>\n",
       "    .dataframe tbody tr th:only-of-type {\n",
       "        vertical-align: middle;\n",
       "    }\n",
       "\n",
       "    .dataframe tbody tr th {\n",
       "        vertical-align: top;\n",
       "    }\n",
       "\n",
       "    .dataframe thead th {\n",
       "        text-align: right;\n",
       "    }\n",
       "</style>\n",
       "<table border=\"1\" class=\"dataframe\">\n",
       "  <thead>\n",
       "    <tr style=\"text-align: right;\">\n",
       "      <th></th>\n",
       "      <th>price</th>\n",
       "    </tr>\n",
       "    <tr>\n",
       "      <th>province</th>\n",
       "      <th></th>\n",
       "    </tr>\n",
       "  </thead>\n",
       "  <tbody>\n",
       "    <tr>\n",
       "      <th>Bordeaux</th>\n",
       "      <td>63.333333</td>\n",
       "    </tr>\n",
       "    <tr>\n",
       "      <th>Burgundy</th>\n",
       "      <td>65.666667</td>\n",
       "    </tr>\n",
       "    <tr>\n",
       "      <th>Piedmont</th>\n",
       "      <td>60.333333</td>\n",
       "    </tr>\n",
       "    <tr>\n",
       "      <th>Tuscany</th>\n",
       "      <td>65.000000</td>\n",
       "    </tr>\n",
       "  </tbody>\n",
       "</table>\n",
       "</div>"
      ],
      "text/plain": [
       "              price\n",
       "province           \n",
       "Bordeaux  63.333333\n",
       "Burgundy  65.666667\n",
       "Piedmont  60.333333\n",
       "Tuscany   65.000000"
      ]
     },
     "execution_count": 65,
     "metadata": {},
     "output_type": "execute_result"
    }
   ],
   "source": [
    "wine_df.groupby(\"province\").mean()"
   ]
  },
  {
   "cell_type": "markdown",
   "metadata": {},
   "source": [
    "**(C.2) Import the dataset <code>fashion.csv</code>. Remove the columns with missing values.**"
   ]
  },
  {
   "cell_type": "code",
   "execution_count": 67,
   "metadata": {},
   "outputs": [
    {
     "data": {
      "text/plain": [
       "(51, 10)"
      ]
     },
     "execution_count": 67,
     "metadata": {},
     "output_type": "execute_result"
    }
   ],
   "source": [
    "fashion_df = pd.read_csv(\"../dataset/fashion.csv\")\n",
    "fashion_df.shape"
   ]
  },
  {
   "cell_type": "code",
   "execution_count": 69,
   "metadata": {},
   "outputs": [
    {
     "data": {
      "text/plain": [
       "Date                   0\n",
       "Amanda_Christensen     0\n",
       "Calvin_Klein           0\n",
       "Eton                   0\n",
       "J_Lindeberg            0\n",
       "Lacoste                0\n",
       "Levi_s                29\n",
       "Oscar_Jacobson         0\n",
       "Ray_Ban                7\n",
       "Tiger_of_Sweden        0\n",
       "dtype: int64"
      ]
     },
     "execution_count": 69,
     "metadata": {},
     "output_type": "execute_result"
    }
   ],
   "source": [
    "fashion_df.isnull().sum()"
   ]
  },
  {
   "cell_type": "code",
   "execution_count": 71,
   "metadata": {},
   "outputs": [],
   "source": [
    "fashion_df.dropna(axis=1, inplace= True)"
   ]
  },
  {
   "cell_type": "code",
   "execution_count": 73,
   "metadata": {},
   "outputs": [
    {
     "data": {
      "text/plain": [
       "(51, 8)"
      ]
     },
     "execution_count": 73,
     "metadata": {},
     "output_type": "execute_result"
    }
   ],
   "source": [
    "fashion_df.shape"
   ]
  },
  {
   "cell_type": "markdown",
   "metadata": {},
   "source": [
    "**(C.3)  Extract the years from the column Date and put them in a new column named <code>Year</code>. Display the first 10 rows.**"
   ]
  },
  {
   "cell_type": "code",
   "execution_count": 77,
   "metadata": {},
   "outputs": [
    {
     "data": {
      "text/html": [
       "<div>\n",
       "<style scoped>\n",
       "    .dataframe tbody tr th:only-of-type {\n",
       "        vertical-align: middle;\n",
       "    }\n",
       "\n",
       "    .dataframe tbody tr th {\n",
       "        vertical-align: top;\n",
       "    }\n",
       "\n",
       "    .dataframe thead th {\n",
       "        text-align: right;\n",
       "    }\n",
       "</style>\n",
       "<table border=\"1\" class=\"dataframe\">\n",
       "  <thead>\n",
       "    <tr style=\"text-align: right;\">\n",
       "      <th></th>\n",
       "      <th>Date</th>\n",
       "      <th>Amanda_Christensen</th>\n",
       "      <th>Calvin_Klein</th>\n",
       "      <th>Eton</th>\n",
       "      <th>J_Lindeberg</th>\n",
       "      <th>Lacoste</th>\n",
       "      <th>Oscar_Jacobson</th>\n",
       "      <th>Tiger_of_Sweden</th>\n",
       "      <th>Year</th>\n",
       "    </tr>\n",
       "  </thead>\n",
       "  <tbody>\n",
       "    <tr>\n",
       "      <th>0</th>\n",
       "      <td>2014-07-01</td>\n",
       "      <td>5744.00000</td>\n",
       "      <td>29976.0000</td>\n",
       "      <td>78835.127273</td>\n",
       "      <td>89833.846154</td>\n",
       "      <td>65226.40000</td>\n",
       "      <td>18971.813333</td>\n",
       "      <td>287420.566400</td>\n",
       "      <td>2014</td>\n",
       "    </tr>\n",
       "    <tr>\n",
       "      <th>1</th>\n",
       "      <td>2014-08-01</td>\n",
       "      <td>7372.80000</td>\n",
       "      <td>33969.0000</td>\n",
       "      <td>98835.054545</td>\n",
       "      <td>153530.892308</td>\n",
       "      <td>43368.68000</td>\n",
       "      <td>48796.800000</td>\n",
       "      <td>322481.827200</td>\n",
       "      <td>2014</td>\n",
       "    </tr>\n",
       "    <tr>\n",
       "      <th>2</th>\n",
       "      <td>2014-09-01</td>\n",
       "      <td>8881.00000</td>\n",
       "      <td>28602.0000</td>\n",
       "      <td>70640.000000</td>\n",
       "      <td>146138.461538</td>\n",
       "      <td>26553.20000</td>\n",
       "      <td>37864.266667</td>\n",
       "      <td>263211.054400</td>\n",
       "      <td>2014</td>\n",
       "    </tr>\n",
       "    <tr>\n",
       "      <th>3</th>\n",
       "      <td>2014-10-01</td>\n",
       "      <td>10693.21500</td>\n",
       "      <td>23257.0000</td>\n",
       "      <td>70230.181818</td>\n",
       "      <td>151481.846154</td>\n",
       "      <td>37045.60000</td>\n",
       "      <td>23762.000000</td>\n",
       "      <td>295135.536000</td>\n",
       "      <td>2014</td>\n",
       "    </tr>\n",
       "    <tr>\n",
       "      <th>4</th>\n",
       "      <td>2014-11-01</td>\n",
       "      <td>17121.80000</td>\n",
       "      <td>29817.0000</td>\n",
       "      <td>96073.745455</td>\n",
       "      <td>180756.000000</td>\n",
       "      <td>35666.80000</td>\n",
       "      <td>41173.600000</td>\n",
       "      <td>328531.016000</td>\n",
       "      <td>2014</td>\n",
       "    </tr>\n",
       "    <tr>\n",
       "      <th>5</th>\n",
       "      <td>2014-12-01</td>\n",
       "      <td>34321.60000</td>\n",
       "      <td>43738.5000</td>\n",
       "      <td>143256.363636</td>\n",
       "      <td>144416.615385</td>\n",
       "      <td>33796.40000</td>\n",
       "      <td>47829.466667</td>\n",
       "      <td>519894.808000</td>\n",
       "      <td>2014</td>\n",
       "    </tr>\n",
       "    <tr>\n",
       "      <th>6</th>\n",
       "      <td>2015-01-01</td>\n",
       "      <td>7085.20000</td>\n",
       "      <td>28526.5000</td>\n",
       "      <td>120765.818182</td>\n",
       "      <td>182552.492308</td>\n",
       "      <td>31064.80000</td>\n",
       "      <td>30837.733333</td>\n",
       "      <td>300741.560000</td>\n",
       "      <td>2015</td>\n",
       "    </tr>\n",
       "    <tr>\n",
       "      <th>7</th>\n",
       "      <td>2015-02-01</td>\n",
       "      <td>7233.60000</td>\n",
       "      <td>27148.4658</td>\n",
       "      <td>82245.672727</td>\n",
       "      <td>134998.584492</td>\n",
       "      <td>29403.62392</td>\n",
       "      <td>21506.095840</td>\n",
       "      <td>270403.424000</td>\n",
       "      <td>2015</td>\n",
       "    </tr>\n",
       "    <tr>\n",
       "      <th>8</th>\n",
       "      <td>2015-03-01</td>\n",
       "      <td>7635.20568</td>\n",
       "      <td>48290.5000</td>\n",
       "      <td>81373.939491</td>\n",
       "      <td>189940.558031</td>\n",
       "      <td>62399.68420</td>\n",
       "      <td>66656.124907</td>\n",
       "      <td>260036.051003</td>\n",
       "      <td>2015</td>\n",
       "    </tr>\n",
       "    <tr>\n",
       "      <th>9</th>\n",
       "      <td>2015-04-01</td>\n",
       "      <td>8710.55292</td>\n",
       "      <td>30567.9132</td>\n",
       "      <td>80840.245018</td>\n",
       "      <td>136470.398400</td>\n",
       "      <td>73999.01736</td>\n",
       "      <td>52975.765947</td>\n",
       "      <td>200100.461966</td>\n",
       "      <td>2015</td>\n",
       "    </tr>\n",
       "  </tbody>\n",
       "</table>\n",
       "</div>"
      ],
      "text/plain": [
       "         Date  Amanda_Christensen  Calvin_Klein           Eton    J_Lindeberg  \\\n",
       "0  2014-07-01          5744.00000    29976.0000   78835.127273   89833.846154   \n",
       "1  2014-08-01          7372.80000    33969.0000   98835.054545  153530.892308   \n",
       "2  2014-09-01          8881.00000    28602.0000   70640.000000  146138.461538   \n",
       "3  2014-10-01         10693.21500    23257.0000   70230.181818  151481.846154   \n",
       "4  2014-11-01         17121.80000    29817.0000   96073.745455  180756.000000   \n",
       "5  2014-12-01         34321.60000    43738.5000  143256.363636  144416.615385   \n",
       "6  2015-01-01          7085.20000    28526.5000  120765.818182  182552.492308   \n",
       "7  2015-02-01          7233.60000    27148.4658   82245.672727  134998.584492   \n",
       "8  2015-03-01          7635.20568    48290.5000   81373.939491  189940.558031   \n",
       "9  2015-04-01          8710.55292    30567.9132   80840.245018  136470.398400   \n",
       "\n",
       "       Lacoste  Oscar_Jacobson  Tiger_of_Sweden  Year  \n",
       "0  65226.40000    18971.813333    287420.566400  2014  \n",
       "1  43368.68000    48796.800000    322481.827200  2014  \n",
       "2  26553.20000    37864.266667    263211.054400  2014  \n",
       "3  37045.60000    23762.000000    295135.536000  2014  \n",
       "4  35666.80000    41173.600000    328531.016000  2014  \n",
       "5  33796.40000    47829.466667    519894.808000  2014  \n",
       "6  31064.80000    30837.733333    300741.560000  2015  \n",
       "7  29403.62392    21506.095840    270403.424000  2015  \n",
       "8  62399.68420    66656.124907    260036.051003  2015  \n",
       "9  73999.01736    52975.765947    200100.461966  2015  "
      ]
     },
     "execution_count": 77,
     "metadata": {},
     "output_type": "execute_result"
    }
   ],
   "source": [
    "fashion_df[\"Year\"] = fashion_df.Date.str[0:4]\n",
    "fashion_df.head(10)"
   ]
  },
  {
   "cell_type": "markdown",
   "metadata": {},
   "source": [
    "**(C.4) Grouping data based on column <code>Year</code>.**"
   ]
  },
  {
   "cell_type": "code",
   "execution_count": 79,
   "metadata": {},
   "outputs": [
    {
     "data": {
      "text/plain": [
       "{'2014': [0, 1, 2, 3, 4, 5], '2015': [6, 7, 8, 9, 10, 11, 12, 13, 14, 15, 16, 17], '2016': [18, 19, 20, 21, 22, 23, 24, 25, 26, 27, 28, 29], '2017': [30, 31, 32, 33, 34, 35, 36, 37, 38, 39, 40, 41], '2018': [42, 43, 44, 45, 46, 47, 48, 49, 50]}"
      ]
     },
     "execution_count": 79,
     "metadata": {},
     "output_type": "execute_result"
    }
   ],
   "source": [
    "fashion_gb =  fashion_df.groupby(\"Year\")\n",
    "fashion_gb.groups"
   ]
  },
  {
   "cell_type": "markdown",
   "metadata": {},
   "source": [
    "**(C.5) Calculate the total annual sales of each brand.**"
   ]
  },
  {
   "cell_type": "code",
   "execution_count": 80,
   "metadata": {},
   "outputs": [
    {
     "data": {
      "text/html": [
       "<div>\n",
       "<style scoped>\n",
       "    .dataframe tbody tr th:only-of-type {\n",
       "        vertical-align: middle;\n",
       "    }\n",
       "\n",
       "    .dataframe tbody tr th {\n",
       "        vertical-align: top;\n",
       "    }\n",
       "\n",
       "    .dataframe thead th {\n",
       "        text-align: right;\n",
       "    }\n",
       "</style>\n",
       "<table border=\"1\" class=\"dataframe\">\n",
       "  <thead>\n",
       "    <tr style=\"text-align: right;\">\n",
       "      <th></th>\n",
       "      <th>Amanda_Christensen</th>\n",
       "      <th>Calvin_Klein</th>\n",
       "      <th>Eton</th>\n",
       "      <th>J_Lindeberg</th>\n",
       "      <th>Lacoste</th>\n",
       "      <th>Oscar_Jacobson</th>\n",
       "      <th>Tiger_of_Sweden</th>\n",
       "    </tr>\n",
       "    <tr>\n",
       "      <th>Year</th>\n",
       "      <th></th>\n",
       "      <th></th>\n",
       "      <th></th>\n",
       "      <th></th>\n",
       "      <th></th>\n",
       "      <th></th>\n",
       "      <th></th>\n",
       "    </tr>\n",
       "  </thead>\n",
       "  <tbody>\n",
       "    <tr>\n",
       "      <th>2014</th>\n",
       "      <td>84134.415000</td>\n",
       "      <td>1.893595e+05</td>\n",
       "      <td>5.578705e+05</td>\n",
       "      <td>8.661577e+05</td>\n",
       "      <td>2.416571e+05</td>\n",
       "      <td>2.183979e+05</td>\n",
       "      <td>2.016675e+06</td>\n",
       "    </tr>\n",
       "    <tr>\n",
       "      <th>2015</th>\n",
       "      <td>167430.129835</td>\n",
       "      <td>5.941004e+05</td>\n",
       "      <td>1.428274e+06</td>\n",
       "      <td>2.117095e+06</td>\n",
       "      <td>6.407895e+05</td>\n",
       "      <td>6.076360e+05</td>\n",
       "      <td>3.659951e+06</td>\n",
       "    </tr>\n",
       "    <tr>\n",
       "      <th>2016</th>\n",
       "      <td>191030.996260</td>\n",
       "      <td>1.058004e+06</td>\n",
       "      <td>1.864815e+06</td>\n",
       "      <td>2.952878e+06</td>\n",
       "      <td>8.809577e+05</td>\n",
       "      <td>8.366341e+05</td>\n",
       "      <td>3.477013e+06</td>\n",
       "    </tr>\n",
       "    <tr>\n",
       "      <th>2017</th>\n",
       "      <td>250064.914292</td>\n",
       "      <td>1.223611e+06</td>\n",
       "      <td>2.175278e+06</td>\n",
       "      <td>3.311648e+06</td>\n",
       "      <td>1.068541e+06</td>\n",
       "      <td>1.061889e+06</td>\n",
       "      <td>3.283573e+06</td>\n",
       "    </tr>\n",
       "    <tr>\n",
       "      <th>2018</th>\n",
       "      <td>155101.878409</td>\n",
       "      <td>1.227815e+06</td>\n",
       "      <td>1.659610e+06</td>\n",
       "      <td>1.881761e+06</td>\n",
       "      <td>1.010485e+06</td>\n",
       "      <td>8.733544e+05</td>\n",
       "      <td>1.999529e+06</td>\n",
       "    </tr>\n",
       "  </tbody>\n",
       "</table>\n",
       "</div>"
      ],
      "text/plain": [
       "      Amanda_Christensen  Calvin_Klein          Eton   J_Lindeberg  \\\n",
       "Year                                                                 \n",
       "2014        84134.415000  1.893595e+05  5.578705e+05  8.661577e+05   \n",
       "2015       167430.129835  5.941004e+05  1.428274e+06  2.117095e+06   \n",
       "2016       191030.996260  1.058004e+06  1.864815e+06  2.952878e+06   \n",
       "2017       250064.914292  1.223611e+06  2.175278e+06  3.311648e+06   \n",
       "2018       155101.878409  1.227815e+06  1.659610e+06  1.881761e+06   \n",
       "\n",
       "           Lacoste  Oscar_Jacobson  Tiger_of_Sweden  \n",
       "Year                                                 \n",
       "2014  2.416571e+05    2.183979e+05     2.016675e+06  \n",
       "2015  6.407895e+05    6.076360e+05     3.659951e+06  \n",
       "2016  8.809577e+05    8.366341e+05     3.477013e+06  \n",
       "2017  1.068541e+06    1.061889e+06     3.283573e+06  \n",
       "2018  1.010485e+06    8.733544e+05     1.999529e+06  "
      ]
     },
     "execution_count": 80,
     "metadata": {},
     "output_type": "execute_result"
    }
   ],
   "source": [
    "fashion_gb.sum()"
   ]
  },
  {
   "cell_type": "code",
   "execution_count": null,
   "metadata": {},
   "outputs": [],
   "source": []
  }
 ],
 "metadata": {
  "kernelspec": {
   "display_name": "Python 3",
   "language": "python",
   "name": "python3"
  },
  "language_info": {
   "codemirror_mode": {
    "name": "ipython",
    "version": 3
   },
   "file_extension": ".py",
   "mimetype": "text/x-python",
   "name": "python",
   "nbconvert_exporter": "python",
   "pygments_lexer": "ipython3",
   "version": "3.8.8"
  }
 },
 "nbformat": 4,
 "nbformat_minor": 4
}
