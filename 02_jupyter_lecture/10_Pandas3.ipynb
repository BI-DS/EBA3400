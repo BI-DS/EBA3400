{
 "cells": [
  {
   "cell_type": "markdown",
   "metadata": {},
   "source": [
    "## Pandas 3\n",
    "**[1] Missing data handling**<br>\n",
    "- Pandas missing values<br>\n",
    "- Detect missing values<br>\n",
    "- Drop missing values<br>\n",
    "- Fill in missing values<br>\n",
    "\n",
    "**[2] Basic calcualtion**<br>\n",
    "- Series<br>\n",
    "- DataFrame<br>\n",
    "\n",
    "**[3] Data aggregation**<br>\n",
    "- GroupBy<br>\n",
    "- pivot_table<br>\n",
    "- crosstab<br>"
   ]
  },
  {
   "cell_type": "code",
   "execution_count": null,
   "metadata": {},
   "outputs": [],
   "source": [
    "import pandas as pd"
   ]
  },
  {
   "cell_type": "markdown",
   "metadata": {},
   "source": [
    "## [1] Missing data handling"
   ]
  },
  {
   "cell_type": "markdown",
   "metadata": {},
   "source": [
    "### [1.1] Pandas values"
   ]
  },
  {
   "cell_type": "markdown",
   "metadata": {},
   "source": [
    "- **Python None object**"
   ]
  },
  {
   "cell_type": "code",
   "execution_count": null,
   "metadata": {},
   "outputs": [],
   "source": [
    "x = None\n",
    "type(x)"
   ]
  },
  {
   "cell_type": "markdown",
   "metadata": {},
   "source": [
    "- **Pandas NaN** "
   ]
  },
  {
   "cell_type": "code",
   "execution_count": null,
   "metadata": {},
   "outputs": [],
   "source": [
    "mySeries = pd.Series([1,2, None, 4])  # or mySeries = pd.Series([1,2, np.nan, 4])\n",
    "mySeries"
   ]
  },
  {
   "cell_type": "code",
   "execution_count": null,
   "metadata": {},
   "outputs": [],
   "source": [
    "type(mySeries[2])"
   ]
  },
  {
   "cell_type": "markdown",
   "metadata": {},
   "source": [
    "### [1.2] Detect missing values"
   ]
  },
  {
   "cell_type": "code",
   "execution_count": null,
   "metadata": {},
   "outputs": [],
   "source": [
    "sales_df = pd.DataFrame({\"Q1\":[176, 132, 157, None, 135, 108, None, 191, 191, 136], \n",
    "                         \"Q2\":[214, 180, 230, None, 185, 123, 213, 143, 245, 213], \n",
    "                         \"Q3\":[78, 232, 218, None, 175, 188, 129, None, 80, 71], \n",
    "                         \"Q4\":[219, 158, 188, None, 203, 163, None, 189, 242, 204]},\n",
    "                           index = [\"A\",\"B\",\"C\",\"D\",\"E\",\"F\",\"G\",\"H\",\"I\",\"J\"])\n",
    "sales_df"
   ]
  },
  {
   "cell_type": "markdown",
   "metadata": {},
   "source": [
    "- **Use <code>isna()</code> to detect if the value is missing**"
   ]
  },
  {
   "cell_type": "code",
   "execution_count": null,
   "metadata": {},
   "outputs": [],
   "source": [
    "sales_df.isna()"
   ]
  },
  {
   "cell_type": "markdown",
   "metadata": {},
   "source": [
    "- **Use <code>isna()</code> to filter data**"
   ]
  },
  {
   "cell_type": "code",
   "execution_count": null,
   "metadata": {},
   "outputs": [],
   "source": [
    "sales_df[sales_df.Q1.isna()]"
   ]
  },
  {
   "cell_type": "markdown",
   "metadata": {},
   "source": [
    "### [1.3] Drop missing values"
   ]
  },
  {
   "cell_type": "markdown",
   "metadata": {},
   "source": [
    "- **Use <code>dropna()</code> to drop rows containing any NaNs**"
   ]
  },
  {
   "cell_type": "code",
   "execution_count": null,
   "metadata": {},
   "outputs": [],
   "source": [
    "sales_df.dropna() # same as dropna(how = \"any\")"
   ]
  },
  {
   "cell_type": "markdown",
   "metadata": {},
   "source": [
    "- **Use <code>dropna()</code> to drop rows that are all NaNs**"
   ]
  },
  {
   "cell_type": "code",
   "execution_count": null,
   "metadata": {
    "scrolled": true
   },
   "outputs": [],
   "source": [
    "sales_df.dropna(how = \"all\")"
   ]
  },
  {
   "cell_type": "markdown",
   "metadata": {},
   "source": [
    "- **Use the argument <code>subset</code> to define in which columns to look for missing values**<br>"
   ]
  },
  {
   "cell_type": "code",
   "execution_count": null,
   "metadata": {},
   "outputs": [],
   "source": [
    "sales_df.dropna(subset = ['Q1', 'Q3'], how = \"all\")"
   ]
  },
  {
   "cell_type": "markdown",
   "metadata": {},
   "source": [
    "- **Drop columns**"
   ]
  },
  {
   "cell_type": "code",
   "execution_count": null,
   "metadata": {},
   "outputs": [],
   "source": [
    "sales_df2 = pd.DataFrame({\"Q1\":[176, 132, 157, 212, 135, 108, 151, 191, 191, 136], \n",
    "                         \"Q2\":[214, 180, 230, 192, 185, 123, 213, 143, 245, 213], \n",
    "                         \"Q3\":[78, 232, 218, None, 175, 188, 129, None, 80, 71], \n",
    "                         \"Q4\":[219, 158, None, None, 203, 163, None, 189, 242, 204]},\n",
    "                           index = [\"A\",\"B\",\"C\",\"D\",\"E\",\"F\",\"G\",\"H\",\"I\",\"J\"])\n",
    "sales_df2"
   ]
  },
  {
   "cell_type": "code",
   "execution_count": null,
   "metadata": {},
   "outputs": [],
   "source": [
    "sales_df2.dropna(axis = 1)"
   ]
  },
  {
   "cell_type": "markdown",
   "metadata": {},
   "source": [
    "### [1.4] Filling in missing values"
   ]
  },
  {
   "cell_type": "code",
   "execution_count": null,
   "metadata": {},
   "outputs": [],
   "source": [
    "month_sales_df = pd.DataFrame({\"Month\":[\"Jan\",\"Feb\",\"Mar\",\"Apr\",\"May\",\"Jun\",\"Jul\",\"Aug\",\"Sep\",\"Oct\",\"Nov\",\"Dec\"],\n",
    "                        \"Sales\":[266.0, 145.9, 183.1, None, 180.3, 168.5, 231.8, None, 192.8, 122.9, 203.4, 211.7]})\n",
    "month_sales_df"
   ]
  },
  {
   "cell_type": "markdown",
   "metadata": {},
   "source": [
    "- **Replace missing values with a constant**"
   ]
  },
  {
   "cell_type": "code",
   "execution_count": null,
   "metadata": {},
   "outputs": [],
   "source": [
    "month_sales_df.fillna(0)"
   ]
  },
  {
   "cell_type": "markdown",
   "metadata": {},
   "source": [
    "- **Replace missing values with the last valid observation**"
   ]
  },
  {
   "cell_type": "code",
   "execution_count": null,
   "metadata": {},
   "outputs": [],
   "source": [
    "month_sales_df.fillna(method = \"ffill\")"
   ]
  },
  {
   "cell_type": "markdown",
   "metadata": {},
   "source": [
    "- **Replace missing values with the next valid observation**"
   ]
  },
  {
   "cell_type": "code",
   "execution_count": null,
   "metadata": {},
   "outputs": [],
   "source": [
    "month_sales_df.fillna(method = \"bfill\")"
   ]
  },
  {
   "cell_type": "markdown",
   "metadata": {},
   "source": [
    "## Exercise.A"
   ]
  },
  {
   "cell_type": "markdown",
   "metadata": {},
   "source": [
    "**(A.1) Import the dataset <code>melbourne.csv</code>. Show the number of rows and columns.**"
   ]
  },
  {
   "cell_type": "code",
   "execution_count": null,
   "metadata": {},
   "outputs": [],
   "source": []
  },
  {
   "cell_type": "markdown",
   "metadata": {},
   "source": [
    "**(A.2) Delete the row containing any NaN. Show the number of rows and columns in the updated dataframe.**"
   ]
  },
  {
   "cell_type": "code",
   "execution_count": null,
   "metadata": {},
   "outputs": [],
   "source": []
  },
  {
   "cell_type": "markdown",
   "metadata": {},
   "source": [
    "**(A.3) Use the dataframe in (A.1). Calculate the number of missing value in each columns.**"
   ]
  },
  {
   "cell_type": "code",
   "execution_count": null,
   "metadata": {},
   "outputs": [],
   "source": []
  },
  {
   "cell_type": "markdown",
   "metadata": {},
   "source": [
    "**(A.4) Use the dataframe in (A.1).  The <code>Car</code> column records the number of parking spaces for each property. What is the average number of parking spaces in this dataset?**<br>\n",
    "Hint: <code>df.column.mean()</code>"
   ]
  },
  {
   "cell_type": "code",
   "execution_count": null,
   "metadata": {},
   "outputs": [],
   "source": []
  },
  {
   "cell_type": "markdown",
   "metadata": {},
   "source": [
    "**(A.5)  Use the dataframe in (A.1). Fill the missing values in the <code>Car</code> column with 0 and apply this change directly to the data frame. What is the average number of parking space?**<br>"
   ]
  },
  {
   "cell_type": "code",
   "execution_count": null,
   "metadata": {},
   "outputs": [],
   "source": []
  },
  {
   "cell_type": "markdown",
   "metadata": {},
   "source": [
    "## [2] Basic Calculation"
   ]
  },
  {
   "cell_type": "markdown",
   "metadata": {},
   "source": [
    "### [2.1] Series: Calculate statistics"
   ]
  },
  {
   "cell_type": "markdown",
   "metadata": {},
   "source": [
    "- **Without missing values**"
   ]
  },
  {
   "cell_type": "code",
   "execution_count": null,
   "metadata": {},
   "outputs": [],
   "source": [
    "s1 = pd.Series([1,2,3,4,5])\n",
    "print(s1.mean())\n",
    "print(s1.sum())\n",
    "print(s1.max())\n",
    "print(s1.count())"
   ]
  },
  {
   "cell_type": "markdown",
   "metadata": {},
   "source": [
    "- **With missing values**"
   ]
  },
  {
   "cell_type": "code",
   "execution_count": null,
   "metadata": {},
   "outputs": [],
   "source": [
    "s2 = pd.Series([1,2,3,4,None])\n",
    "print(s2.mean())\n",
    "print(s2.sum())\n",
    "print(s2.max())\n",
    "print(s2.count())"
   ]
  },
  {
   "cell_type": "markdown",
   "metadata": {},
   "source": [
    "### [2.2] DataFrame: Create a new column derived from existing columns"
   ]
  },
  {
   "cell_type": "code",
   "execution_count": null,
   "metadata": {},
   "outputs": [],
   "source": [
    "df_expense = pd.DataFrame({'grocery':[3050, 2800, 2750, 2300, 3150, 2900],\n",
    "                         'transportation':[1050, 900, 1150, 1850, 1250, 950],\n",
    "                         'dining out':[1200, 1950, 1350, 3250, 1050, 2800],\n",
    "                         'entertainment':[1250, 1050, 2500, 3150, 2000, 1050]},\n",
    "                        index =['Jan','Feb','Mar','Apr','May','Jun'])\n",
    "df_expense"
   ]
  },
  {
   "cell_type": "markdown",
   "metadata": {},
   "source": [
    "- **Exampl-1: Calculate the sum of all the values over the column axis**"
   ]
  },
  {
   "cell_type": "code",
   "execution_count": null,
   "metadata": {},
   "outputs": [],
   "source": [
    "df_expense[\"total_expense\"] = df_expense.sum(axis = 1)\n",
    "df_expense"
   ]
  },
  {
   "cell_type": "markdown",
   "metadata": {},
   "source": [
    "- **Example-2: Calculate the sum of the values of two columns**"
   ]
  },
  {
   "cell_type": "code",
   "execution_count": null,
   "metadata": {},
   "outputs": [],
   "source": [
    "df_expense['necessary_expense']  = df_expense.grocery + df_expense.transportation\n",
    "df_expense"
   ]
  },
  {
   "cell_type": "markdown",
   "metadata": {},
   "source": [
    "- **Example-3: Calculate the percentage**"
   ]
  },
  {
   "cell_type": "code",
   "execution_count": null,
   "metadata": {},
   "outputs": [],
   "source": [
    "df_expense['necessary_expense(%)'] =  round((df_expense.necessary_expense/ df_expense.total_expense)*100,2)\n",
    "df_expense"
   ]
  },
  {
   "cell_type": "markdown",
   "metadata": {},
   "source": [
    "- **Example-4: Convert continuous data to categorical data using <code>cut()</code>.**"
   ]
  },
  {
   "cell_type": "code",
   "execution_count": null,
   "metadata": {},
   "outputs": [],
   "source": [
    "score_df = pd.DataFrame({\"score\":[75,60,40,100,85,55,65,20,70,0]})\n",
    "score_df"
   ]
  },
  {
   "cell_type": "code",
   "execution_count": null,
   "metadata": {},
   "outputs": [],
   "source": [
    "score_df[\"grade\"] = pd.cut(score_df.score, bins = [0,34,44,54,64,74,100], \n",
    "                           labels = [\"F\",\"E\",\"D\",\"C\",\"B\",\"A\"],\n",
    "                           include_lowest= True)\n",
    "score_df"
   ]
  },
  {
   "cell_type": "markdown",
   "metadata": {},
   "source": [
    "## Exercise.B"
   ]
  },
  {
   "cell_type": "code",
   "execution_count": null,
   "metadata": {},
   "outputs": [],
   "source": [
    "import random\n",
    "random.seed(0)\n",
    "product_df = pd.DataFrame({\"Q1\":[random.randint(100,150) for i in range(5)],\"Q2\":[random.randint(100,150) for i in range(5)],\n",
    "                           \"Q3\":[random.randint(120,160) for i in range(5)],\"Q4\":[random.randint(120,160) for i in range(5)]}, index = [\"A\",\"B\",\"C\",\"D\",\"E\"])\n",
    "product_df"
   ]
  },
  {
   "cell_type": "markdown",
   "metadata": {},
   "source": [
    "**(B.1) Given the dataframe <code>product_df</code> above, each column represents quarterly sales, and the index is the product name. Caculate the annual sales of each product.**<br>\n",
    "Expected output:"
   ]
  },
  {
   "cell_type": "markdown",
   "metadata": {},
   "source": [
    "||Q1|Q2|Q3|Q4|Annual|\n",
    "|--:|--:|--:|--:|--:|--:|\n",
    "|**A**|124|132|150|128|534|\n",
    "|**B**|...|...|...|...|...|\n",
    "|**C**|...|...|...|...|...|"
   ]
  },
  {
   "cell_type": "code",
   "execution_count": null,
   "metadata": {},
   "outputs": [],
   "source": []
  },
  {
   "cell_type": "markdown",
   "metadata": {},
   "source": [
    "**(B.2) Calculate quarterly average sales for each product.**<br>\n",
    "Expected output:"
   ]
  },
  {
   "cell_type": "markdown",
   "metadata": {},
   "source": [
    "||Q1|Q2|Q3|Q4|Annual|Avg_Q|\n",
    "|--:|--:|--:|--:|--:|--:|--:|\n",
    "|**A**|124|132|150|128|534|133.50|\n",
    "|**B**|...|...|...|...|...|--:|\n",
    "|**C**|...|...|...|...|...|--:|"
   ]
  },
  {
   "cell_type": "code",
   "execution_count": null,
   "metadata": {},
   "outputs": [],
   "source": []
  },
  {
   "cell_type": "markdown",
   "metadata": {},
   "source": [
    "**(B.3) For each product, calculate first-half sales as a percentage of annual sales. Round numbers to two decimal places.**<br>\n",
    "Expected output:\n"
   ]
  },
  {
   "cell_type": "markdown",
   "metadata": {},
   "source": [
    "||Q1|Q2|Q3|Q4|Annual|Avg_Q|H1(%)|\n",
    "|--:|--:|--:|--:|--:|--:|--:|--:|\n",
    "|**A**|124|132|150|128|534|133.50|48.94|\n",
    "|**B**|...|...|...|...|...|...|...|\n",
    "|**C**|...|...|...|...|...|...|...|"
   ]
  },
  {
   "cell_type": "code",
   "execution_count": null,
   "metadata": {},
   "outputs": [],
   "source": []
  },
  {
   "cell_type": "markdown",
   "metadata": {},
   "source": [
    "## [3] Data aggregation"
   ]
  },
  {
   "cell_type": "code",
   "execution_count": null,
   "metadata": {},
   "outputs": [],
   "source": [
    "sales_df = pd.DataFrame({ \"Product\":[\"A\",\"A\",\"A\",\"A\",\"A\",\"A\",\"B\",\"B\",\"B\",\"B\",\"B\",\"B\"],\n",
    "                           \"Quarter\":[\"Q1\",\"Q1\",\"Q1\",\"Q2\",\"Q2\",\"Q2\",\"Q1\",\"Q1\",\"Q1\",\"Q2\",\"Q2\",\"Q2\"],\n",
    "                           \"Month\":[\"Jan\",\"Feb\",\"Mar\",\"Apr\",\"May\",\"Jun\",\"Jan\",\"Feb\",\"Mar\",\"Apr\",\"May\",\"Jun\"],\n",
    "                           \"Sales\":[67, 57, 87, 50, 97, 68, 78, 102, 113, 98, 80, 84]})\n",
    "sales_df "
   ]
  },
  {
   "cell_type": "markdown",
   "metadata": {},
   "source": [
    "- **The method <code>groupby()</code> returns a GroupBy object.**"
   ]
  },
  {
   "cell_type": "code",
   "execution_count": null,
   "metadata": {},
   "outputs": [],
   "source": [
    "sales_gb_product = sales_df.groupby(\"Product\") \n",
    "type(sales_gb_product)"
   ]
  },
  {
   "cell_type": "markdown",
   "metadata": {},
   "source": [
    "- **GroupBy obejct - attribute**"
   ]
  },
  {
   "cell_type": "code",
   "execution_count": null,
   "metadata": {},
   "outputs": [],
   "source": [
    "sales_gb_product.groups"
   ]
  },
  {
   "cell_type": "markdown",
   "metadata": {},
   "source": [
    "- **GroupBy obejct - methods**"
   ]
  },
  {
   "cell_type": "code",
   "execution_count": null,
   "metadata": {},
   "outputs": [],
   "source": [
    "sales_gb_product.size()"
   ]
  },
  {
   "cell_type": "code",
   "execution_count": null,
   "metadata": {},
   "outputs": [],
   "source": [
    "sales_gb_product.mean()"
   ]
  },
  {
   "cell_type": "code",
   "execution_count": null,
   "metadata": {},
   "outputs": [],
   "source": [
    "sales_gb_product.max()"
   ]
  },
  {
   "cell_type": "code",
   "execution_count": null,
   "metadata": {},
   "outputs": [],
   "source": [
    "sales_gb_product.Sales.max()"
   ]
  },
  {
   "cell_type": "code",
   "execution_count": null,
   "metadata": {},
   "outputs": [],
   "source": [
    "sales_gb_product.Sales.agg(['mean','min','max'])"
   ]
  },
  {
   "cell_type": "markdown",
   "metadata": {},
   "source": [
    "- **GroupBy based on two keys**"
   ]
  },
  {
   "cell_type": "code",
   "execution_count": null,
   "metadata": {},
   "outputs": [],
   "source": [
    "# Step1: Get a groupby object\n",
    "sales_gb_product_Q = sales_df.groupby(['Product','Quarter'])\n",
    "\n",
    "# Step2: Calculate the sum within each group\n",
    "sales_gb_product_Q.Sales.sum()"
   ]
  },
  {
   "cell_type": "code",
   "execution_count": null,
   "metadata": {},
   "outputs": [],
   "source": [
    "# Write the above steps in one line\n",
    "sales_df.groupby(['Product','Quarter']).Sales.sum()"
   ]
  },
  {
   "cell_type": "markdown",
   "metadata": {},
   "source": [
    "- **Other methods: (1) <code>pivot_table()</code>**"
   ]
  },
  {
   "cell_type": "code",
   "execution_count": null,
   "metadata": {},
   "outputs": [],
   "source": [
    "sales_df.pivot_table(index = \"Product\", \n",
    "                     columns = \"Quarter\", \n",
    "                     values = \"Sales\", \n",
    "                     aggfunc = sum)"
   ]
  },
  {
   "cell_type": "markdown",
   "metadata": {},
   "source": [
    "- **Other methods: (2) <code>crosstab()</code>**"
   ]
  },
  {
   "cell_type": "code",
   "execution_count": null,
   "metadata": {},
   "outputs": [],
   "source": [
    "pd.crosstab(index = sales_df.Product, \n",
    "            columns = sales_df.Quarter, \n",
    "            values = sales_df.Sales, \n",
    "            aggfunc = sum)"
   ]
  },
  {
   "cell_type": "markdown",
   "metadata": {},
   "source": [
    "## Exercise.C"
   ]
  },
  {
   "cell_type": "markdown",
   "metadata": {},
   "source": [
    "**(C.1) Given the following data frame. What is the highest score for the midterm exam and the highest score for the final exam?**"
   ]
  },
  {
   "cell_type": "code",
   "execution_count": null,
   "metadata": {},
   "outputs": [],
   "source": [
    "exam_df = pd.DataFrame({\"ID\":[\"S01\",\"S02\",\"S03\",\"S04\",\"S01\",\"S02\",\"S03\",\"S04\"],\n",
    "                       \"Exam\":[\"midterm\",\"midterm\",\"midterm\",\"midterm\",\"final\",\"final\",\"final\",\"final\"],\n",
    "                       \"Score\":[79, 56, 75, 93, 73, 73, 65, 87]})\n",
    "exam_df                   "
   ]
  },
  {
   "cell_type": "code",
   "execution_count": null,
   "metadata": {},
   "outputs": [],
   "source": []
  },
  {
   "cell_type": "markdown",
   "metadata": {},
   "source": [
    "**(C.2) The final grade is calculated from the average of the midterm and final exam scores. Calculate final grades for all students.**"
   ]
  },
  {
   "cell_type": "code",
   "execution_count": null,
   "metadata": {},
   "outputs": [],
   "source": []
  },
  {
   "cell_type": "markdown",
   "metadata": {},
   "source": [
    "**(C.3) The data below records quarterly sales for two stores in Bergen and Oslo. \n",
    "What are the total annual sales in 2019 and 2020?**"
   ]
  },
  {
   "cell_type": "code",
   "execution_count": null,
   "metadata": {},
   "outputs": [],
   "source": [
    "product_df = pd.DataFrame({\"Year\":[\"2019\",\"2019\",\"2019\",\"2019\",\"2019\",\"2019\",\"2019\",\"2019\",\"2020\",\"2020\",\"2020\",\"2020\",\"2020\",\"2020\",\"2020\",\"2020\"],\n",
    "                           \"Quarter\":[\"Q1\",\"Q2\",\"Q3\",\"Q4\",\"Q1\",\"Q2\",\"Q3\",\"Q4\",\"Q1\",\"Q2\",\"Q3\",\"Q4\",\"Q1\",\"Q2\",\"Q3\",\"Q4\"],\n",
    "                       \"Location\":[\"Oslo\",\"Oslo\",\"Oslo\",\"Oslo\",\"Bergen\",\"Bergen\",\"Bergen\",\"Bergen\",\"Oslo\",\"Oslo\",\"Oslo\",\"Oslo\",\"Bergen\",\"Bergen\",\"Bergen\",\"Bergen\"],\n",
    "                       \"Sales\":[136, 146, 147, 214, 178, 188, 210, 111, 203, 100, 144, 197, 177, 100, 189, 194]})\n",
    "product_df    "
   ]
  },
  {
   "cell_type": "code",
   "execution_count": null,
   "metadata": {},
   "outputs": [],
   "source": []
  },
  {
   "cell_type": "markdown",
   "metadata": {},
   "source": [
    "**(C.4) What are the annual sales of the two stores in 2019 and 2020?**"
   ]
  },
  {
   "cell_type": "code",
   "execution_count": null,
   "metadata": {},
   "outputs": [],
   "source": []
  }
 ],
 "metadata": {
  "kernelspec": {
   "display_name": "Python 3 (ipykernel)",
   "language": "python",
   "name": "python3"
  },
  "language_info": {
   "codemirror_mode": {
    "name": "ipython",
    "version": 3
   },
   "file_extension": ".py",
   "mimetype": "text/x-python",
   "name": "python",
   "nbconvert_exporter": "python",
   "pygments_lexer": "ipython3",
   "version": "3.9.7"
  }
 },
 "nbformat": 4,
 "nbformat_minor": 4
}
