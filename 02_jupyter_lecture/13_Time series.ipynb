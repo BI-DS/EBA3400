{
 "cells": [
  {
   "cell_type": "markdown",
   "metadata": {},
   "source": [
    "# Time Series "
   ]
  },
  {
   "cell_type": "markdown",
   "metadata": {},
   "source": [
    "**[1] Python datetime module**<br>\n",
    "- Datetime object<br>\n",
    "    - Method: Conversion from string to datetime<br>\n",
    "    - Method: Conversion from datetime to string<br>\n",
    "- Timedelta object<br>\n",
    "\n",
    "**[2] Pandas**<br>\n",
    "- Function <code>to_datetime()</code><br>\n",
    "- DatetimeIndex<br>\n",
    "    - Subset selection<br>\n",
    "    - Information extraction<br>\n",
    "    - Method <code>resample()</code><br>"
   ]
  },
  {
   "cell_type": "markdown",
   "metadata": {},
   "source": [
    "## [1] Python dateTime module"
   ]
  },
  {
   "cell_type": "code",
   "execution_count": null,
   "metadata": {},
   "outputs": [],
   "source": [
    "import datetime as dt"
   ]
  },
  {
   "cell_type": "markdown",
   "metadata": {},
   "source": [
    "- **Datetime object - creation**"
   ]
  },
  {
   "cell_type": "code",
   "execution_count": null,
   "metadata": {},
   "outputs": [],
   "source": [
    "# Use datetime()\n",
    "mydt = dt.datetime(2021, 7, 1)\n",
    "mydt"
   ]
  },
  {
   "cell_type": "code",
   "execution_count": null,
   "metadata": {},
   "outputs": [],
   "source": [
    "# Get current time by using datetime.now()\n",
    "datetime_now = dt.datetime.now()\n",
    "datetime_now"
   ]
  },
  {
   "cell_type": "markdown",
   "metadata": {},
   "source": [
    "- **Datetime object - attributes**"
   ]
  },
  {
   "cell_type": "code",
   "execution_count": null,
   "metadata": {},
   "outputs": [],
   "source": [
    "mydt = dt.datetime(year = 2021, month = 7, day = 6, hour = 11, minute = 21)\n",
    "mydt"
   ]
  },
  {
   "cell_type": "code",
   "execution_count": null,
   "metadata": {},
   "outputs": [],
   "source": [
    "print(mydt.year)\n",
    "print(mydt.month)\n",
    "print(mydt.day)\n",
    "print(mydt.hour)\n",
    "print(mydt.minute)"
   ]
  },
  {
   "cell_type": "markdown",
   "metadata": {},
   "source": [
    "- **Format codes**"
   ]
  },
  {
   "cell_type": "markdown",
   "metadata": {},
   "source": [
    "|Directive|Meaning|\n",
    "|:--|:--|\n",
    "|%Y|Four-digit year|\n",
    "|%y|Two-digit year|\n",
    "|%m|Two-digit month [01,12]|\n",
    "|%d|Two-digit day [01,31]|\n",
    "|%H|Hour (24-hour clock) [00,23]|\n",
    "|%M|Two-digit minute [00,59]|\n",
    "|%S|Two-digit minute [00,59]|\n"
   ]
  },
  {
   "cell_type": "markdown",
   "metadata": {},
   "source": [
    "- **Method - <code>strptime()</code>**<br>\n",
    "\n",
    "Returns a DateTime object corresponding to the string."
   ]
  },
  {
   "cell_type": "code",
   "execution_count": null,
   "metadata": {},
   "outputs": [],
   "source": [
    "s1 = '2019-01-03'\n",
    "t1 = dt.datetime.strptime(s1, '%Y-%m-%d')\n",
    "t1"
   ]
  },
  {
   "cell_type": "code",
   "execution_count": null,
   "metadata": {},
   "outputs": [],
   "source": [
    "s2 = '03/01/2019'\n",
    "t2 = dt.datetime.strptime(s2, '%d/%m/%Y')\n",
    "t2"
   ]
  },
  {
   "cell_type": "code",
   "execution_count": null,
   "metadata": {},
   "outputs": [],
   "source": [
    "s3 = '03/01/19'\n",
    "t3 = dt.datetime.strptime(s3, '%d/%m/%y')\n",
    "t3"
   ]
  },
  {
   "cell_type": "code",
   "execution_count": null,
   "metadata": {},
   "outputs": [],
   "source": [
    "s4 = '10:30 03/01/19'\n",
    "t4 = dt.datetime.strptime(s4, '%H:%M %d/%m/%y')\n",
    "t4"
   ]
  },
  {
   "cell_type": "markdown",
   "metadata": {},
   "source": [
    "- **Method - <code>strftime()</code>**<br>\n",
    "\n",
    "Returns a string representation of the DateTime object with the given format."
   ]
  },
  {
   "cell_type": "code",
   "execution_count": null,
   "metadata": {},
   "outputs": [],
   "source": [
    "t5 = dt.datetime(2019,1,3)\n",
    "t5"
   ]
  },
  {
   "cell_type": "code",
   "execution_count": null,
   "metadata": {},
   "outputs": [],
   "source": [
    "s5 = t5.strftime('%d-%m-%Y')\n",
    "s5"
   ]
  },
  {
   "cell_type": "markdown",
   "metadata": {},
   "source": [
    "- **Timedelta object**<br>\n",
    "\n",
    "The difference between two datetime objects."
   ]
  },
  {
   "cell_type": "markdown",
   "metadata": {},
   "source": [
    "- Example-1"
   ]
  },
  {
   "cell_type": "code",
   "execution_count": null,
   "metadata": {},
   "outputs": [],
   "source": [
    "# Create two datetime objects\n",
    "t1 = dt.datetime(2021, 6, 15)\n",
    "t2 = dt.datetime(2021, 7, 6)\n",
    "\n",
    "# Create a timedelta obejct\n",
    "diff_12 = t2 - t1\n",
    "diff_12"
   ]
  },
  {
   "cell_type": "code",
   "execution_count": null,
   "metadata": {},
   "outputs": [],
   "source": [
    "# Access attribute of a timedelta object\n",
    "diff_34.seconds"
   ]
  },
  {
   "cell_type": "markdown",
   "metadata": {},
   "source": [
    "- Example-2"
   ]
  },
  {
   "cell_type": "code",
   "execution_count": null,
   "metadata": {},
   "outputs": [],
   "source": [
    "# Create two datetime objects\n",
    "t3 = dt.datetime(2021, 6, 15, 10, 12, 40)\n",
    "t4 = dt.datetime(2021, 6, 15, 10, 13, 20)\n",
    "\n",
    "# Create a timedelta obejct\n",
    "diff_34 = t4 - t3\n",
    "diff_34"
   ]
  },
  {
   "cell_type": "code",
   "execution_count": null,
   "metadata": {},
   "outputs": [],
   "source": [
    "# Access attribute of a timedelta object\n",
    "diff_34.seconds"
   ]
  },
  {
   "cell_type": "markdown",
   "metadata": {},
   "source": [
    "## Exercise.A"
   ]
  },
  {
   "cell_type": "markdown",
   "metadata": {},
   "source": [
    "**(A.1) Create a datetime object named <code>dt_start</code> with the following arguments: year = 2022, month = 8, day = 15.**"
   ]
  },
  {
   "cell_type": "code",
   "execution_count": null,
   "metadata": {},
   "outputs": [],
   "source": []
  },
  {
   "cell_type": "markdown",
   "metadata": {},
   "source": [
    "**(A.2) Convert the following variable <code>str1</code> to a datetime object named <code>dt_end</code>.**"
   ]
  },
  {
   "cell_type": "code",
   "execution_count": null,
   "metadata": {},
   "outputs": [],
   "source": [
    "str1 = \"2022-11-13\""
   ]
  },
  {
   "cell_type": "code",
   "execution_count": null,
   "metadata": {},
   "outputs": [],
   "source": []
  },
  {
   "cell_type": "markdown",
   "metadata": {},
   "source": [
    "**(A.3) How many days between <code>dt_start</code> and <code>dt_end</code>?**"
   ]
  },
  {
   "cell_type": "code",
   "execution_count": null,
   "metadata": {},
   "outputs": [],
   "source": []
  },
  {
   "cell_type": "markdown",
   "metadata": {},
   "source": [
    "## [2] Pandas "
   ]
  },
  {
   "cell_type": "code",
   "execution_count": null,
   "metadata": {},
   "outputs": [],
   "source": [
    "import pandas as pd"
   ]
  },
  {
   "cell_type": "markdown",
   "metadata": {},
   "source": [
    "### [2.1] Function <code>to_datetime()</code>"
   ]
  },
  {
   "cell_type": "markdown",
   "metadata": {},
   "source": [
    "- **Import dataset with datetime column**"
   ]
  },
  {
   "cell_type": "code",
   "execution_count": null,
   "metadata": {},
   "outputs": [],
   "source": [
    "covid_df = pd.read_csv(\"../dataset/covid_2021.csv\")\n",
    "covid_df"
   ]
  },
  {
   "cell_type": "markdown",
   "metadata": {},
   "source": [
    "- **Convert a column to a datetime type**"
   ]
  },
  {
   "cell_type": "code",
   "execution_count": null,
   "metadata": {},
   "outputs": [],
   "source": [
    "covid_df[\"date\"] = pd.to_datetime(covid_df[\"date\"])\n",
    "\n",
    "covid_df.info()"
   ]
  },
  {
   "cell_type": "markdown",
   "metadata": {},
   "source": [
    "### [2.2] DatetimeIndex"
   ]
  },
  {
   "cell_type": "markdown",
   "metadata": {},
   "source": [
    "- **Import dataset and parse datetime columns**<br>\n",
    "    - <code>parse_date</code>: Specify the column names that should be parsed as dates.\n",
    "    - <code>index_col</code>: Specify which column should be used as the index."
   ]
  },
  {
   "cell_type": "code",
   "execution_count": null,
   "metadata": {},
   "outputs": [],
   "source": [
    "covid_df = pd.read_csv(\"../dataset/covid_2021.csv\", \n",
    "                       parse_dates = [\"date\"], \n",
    "                       index_col = 0)   # or index_col = \"date\"\n",
    "covid_df.head(10)"
   ]
  },
  {
   "cell_type": "markdown",
   "metadata": {},
   "source": [
    "### [2.2.1] DatetimeIndex: Subset selection"
   ]
  },
  {
   "cell_type": "markdown",
   "metadata": {},
   "source": [
    "- **Subset selection using DatetimeIndex**"
   ]
  },
  {
   "cell_type": "code",
   "execution_count": null,
   "metadata": {},
   "outputs": [],
   "source": [
    "# by month\n",
    "covid_df.loc['2021-05',:]"
   ]
  },
  {
   "cell_type": "code",
   "execution_count": null,
   "metadata": {},
   "outputs": [],
   "source": [
    "# range\n",
    "covid_df.loc['2021-05-25':'2021-06-01',:]"
   ]
  },
  {
   "cell_type": "markdown",
   "metadata": {},
   "source": [
    "- **Line chart**"
   ]
  },
  {
   "cell_type": "code",
   "execution_count": null,
   "metadata": {},
   "outputs": [],
   "source": [
    "covid_df.plot(y = 'positive', figsize = (12,4))"
   ]
  },
  {
   "cell_type": "markdown",
   "metadata": {},
   "source": [
    "## Exercise.B"
   ]
  },
  {
   "cell_type": "markdown",
   "metadata": {},
   "source": [
    "**(B.1) Import dataset <code>fashion.csv</code> and set the column <code>Date</code>as DatetimeIndex.**"
   ]
  },
  {
   "cell_type": "code",
   "execution_count": null,
   "metadata": {},
   "outputs": [],
   "source": []
  },
  {
   "cell_type": "markdown",
   "metadata": {},
   "source": [
    "**(B.2) Draw a line chart to show Tiger_of_Sweden’s sales in 2016.**"
   ]
  },
  {
   "cell_type": "code",
   "execution_count": null,
   "metadata": {},
   "outputs": [],
   "source": []
  },
  {
   "cell_type": "markdown",
   "metadata": {},
   "source": [
    "**(B.3) Use a multiple line chart to show the sales of Eton, Levi_s, and Tiger_of_Sweden from 2014 to 2016.**"
   ]
  },
  {
   "cell_type": "code",
   "execution_count": null,
   "metadata": {},
   "outputs": [],
   "source": []
  },
  {
   "cell_type": "markdown",
   "metadata": {},
   "source": [
    "### [2.2.2] DatetimeIndex: Information extraction"
   ]
  },
  {
   "cell_type": "markdown",
   "metadata": {},
   "source": [
    "- **Add \"month\" as a new column**"
   ]
  },
  {
   "cell_type": "code",
   "execution_count": null,
   "metadata": {},
   "outputs": [],
   "source": [
    "covid_df[\"month\"] = covid_df.index.month\n",
    "covid_df"
   ]
  },
  {
   "cell_type": "markdown",
   "metadata": {},
   "source": [
    "- **Add \"day_of_week\" as a new column**\n",
    "    - Attribute <code>weekday</code>: 0, 1, ..., 6 (Sunday).\n",
    "    - Method <code>day_name()</code>: Monday, Tuesday, ..., Sunday."
   ]
  },
  {
   "cell_type": "code",
   "execution_count": null,
   "metadata": {
    "scrolled": true
   },
   "outputs": [],
   "source": [
    "covid_df[\"day_of_week\"] = covid_df.index.day_name()\n",
    "covid_df"
   ]
  },
  {
   "cell_type": "markdown",
   "metadata": {},
   "source": [
    "- **Group data by new column**"
   ]
  },
  {
   "cell_type": "code",
   "execution_count": null,
   "metadata": {},
   "outputs": [],
   "source": [
    "covid_df.groupby(\"day_of_week\").positive.mean()"
   ]
  },
  {
   "cell_type": "markdown",
   "metadata": {},
   "source": [
    "### [2.2.3] DatetimeIndex: Resampling"
   ]
  },
  {
   "cell_type": "markdown",
   "metadata": {},
   "source": [
    "- **Aggregate daily data to monthly data**"
   ]
  },
  {
   "cell_type": "code",
   "execution_count": null,
   "metadata": {},
   "outputs": [],
   "source": [
    "# Step1: Get a Resampler object  \n",
    "covid_rs = covid_df.resample('M')\n",
    "type(covid_rs)"
   ]
  },
  {
   "cell_type": "code",
   "execution_count": null,
   "metadata": {},
   "outputs": [],
   "source": [
    "#Step2: Call an aggregate function\n",
    "covid_month = covid_rs.positive.sum()\n",
    "covid_month"
   ]
  },
  {
   "cell_type": "markdown",
   "metadata": {},
   "source": [
    "- **Cast to index at a particular frequency**"
   ]
  },
  {
   "cell_type": "code",
   "execution_count": null,
   "metadata": {},
   "outputs": [],
   "source": [
    "covid_month.index = covid_month.index.to_period('M')\n",
    "covid_month"
   ]
  },
  {
   "cell_type": "markdown",
   "metadata": {},
   "source": [
    "- **Visualize monthly data**"
   ]
  },
  {
   "cell_type": "code",
   "execution_count": null,
   "metadata": {},
   "outputs": [],
   "source": [
    "covid_month.plot(kind = \"bar\", y = \"positive\")"
   ]
  },
  {
   "cell_type": "markdown",
   "metadata": {},
   "source": [
    "- **Example-1:** Calculate weekly total number of positive cases"
   ]
  },
  {
   "cell_type": "code",
   "execution_count": null,
   "metadata": {},
   "outputs": [],
   "source": [
    "# Aggregate the \"positive\" column weekly and calculate the sum of cases\n",
    "covid_df.resample('W').positive.sum()"
   ]
  },
  {
   "cell_type": "markdown",
   "metadata": {},
   "source": [
    "- **Example-1:** Calculate the number of complaints per day"
   ]
  },
  {
   "cell_type": "code",
   "execution_count": null,
   "metadata": {},
   "outputs": [],
   "source": [
    "complain_df = pd.read_csv(\"../dataset/complaints.csv\", \n",
    "                          parse_dates = [\"Created Date\"], \n",
    "                          index_col = [1], \n",
    "                          dtype = {\"Incident Zip\":object})\n",
    "complain_df.sort_index(inplace = True)\n",
    "complain_df.head()"
   ]
  },
  {
   "cell_type": "code",
   "execution_count": null,
   "metadata": {},
   "outputs": [],
   "source": [
    "complain_df.resample(\"D\").size().plot(figsize = (10, 4))"
   ]
  },
  {
   "cell_type": "markdown",
   "metadata": {},
   "source": [
    "## Exercise.C"
   ]
  },
  {
   "cell_type": "markdown",
   "metadata": {},
   "source": [
    "**(C.1) Use the dataframe obtained in Exercise B. Group the data by year and calculate the total annual sales of each brand. Store the result in a new variable named <code>year_df</code>.**<br>\n",
    "Hint: <code>resample(\"Y\").sum()</code>"
   ]
  },
  {
   "cell_type": "code",
   "execution_count": null,
   "metadata": {},
   "outputs": [],
   "source": []
  },
  {
   "cell_type": "markdown",
   "metadata": {},
   "source": [
    "**(C.2) Use the year as the index of <code>year_df</code>.**<br>\n",
    "Hint: <code>to_period()</code>"
   ]
  },
  {
   "cell_type": "code",
   "execution_count": null,
   "metadata": {},
   "outputs": [],
   "source": []
  },
  {
   "cell_type": "markdown",
   "metadata": {},
   "source": [
    "**(C.3) Display the result obtained in (C.2) with a heatmap.**"
   ]
  },
  {
   "cell_type": "code",
   "execution_count": null,
   "metadata": {},
   "outputs": [],
   "source": []
  },
  {
   "cell_type": "markdown",
   "metadata": {},
   "source": [
    "- **Question**: In which year did Tiger of Sweden have the highest annual sales?\n",
    "- **Answer**:     "
   ]
  }
 ],
 "metadata": {
  "kernelspec": {
   "display_name": "Python 3 (ipykernel)",
   "language": "python",
   "name": "python3"
  },
  "language_info": {
   "codemirror_mode": {
    "name": "ipython",
    "version": 3
   },
   "file_extension": ".py",
   "mimetype": "text/x-python",
   "name": "python",
   "nbconvert_exporter": "python",
   "pygments_lexer": "ipython3",
   "version": "3.11.4"
  }
 },
 "nbformat": 4,
 "nbformat_minor": 4
}
