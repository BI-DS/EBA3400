{
 "cells": [
  {
   "cell_type": "markdown",
   "id": "07e050aa",
   "metadata": {},
   "source": [
    "# Summary"
   ]
  },
  {
   "cell_type": "markdown",
   "id": "2b3739a7",
   "metadata": {},
   "source": [
    "**[1] Review and supplement**<br>\n",
    "- Variable names<br>\n",
    "- Function – global variable and local variable\n",
    "- Absolute path and relative path\n",
    "\n",
    "**[2] Going further**<br>\n",
    "- Lambda function, map, applymap, apply\n",
    "- Other packages: numpy, scikit-learn\n",
    "\n",
    "**[3] Exercises**<br>"
   ]
  },
  {
   "cell_type": "markdown",
   "id": "47f3a69b",
   "metadata": {},
   "source": [
    "## [1] Review and supplement"
   ]
  },
  {
   "cell_type": "markdown",
   "id": "3b26f8b1",
   "metadata": {},
   "source": [
    "### [1.1] Variable names"
   ]
  },
  {
   "cell_type": "markdown",
   "id": "b9792576",
   "metadata": {},
   "source": [
    "- **Use build-in function name as variable name**"
   ]
  },
  {
   "cell_type": "code",
   "execution_count": 1,
   "id": "c2bb74cc",
   "metadata": {},
   "outputs": [],
   "source": [
    "# Create a list named \"list\"\n",
    "list = [1,2,3]"
   ]
  },
  {
   "cell_type": "code",
   "execution_count": 2,
   "id": "dcb7843b",
   "metadata": {},
   "outputs": [
    {
     "ename": "TypeError",
     "evalue": "'list' object is not callable",
     "output_type": "error",
     "traceback": [
      "\u001b[1;31m---------------------------------------------------------------------------\u001b[0m",
      "\u001b[1;31mTypeError\u001b[0m                                 Traceback (most recent call last)",
      "\u001b[1;32m<ipython-input-2-a330993f5158>\u001b[0m in \u001b[0;36m<module>\u001b[1;34m\u001b[0m\n\u001b[0;32m      1\u001b[0m \u001b[1;31m# Use function list() to create a list\u001b[0m\u001b[1;33m\u001b[0m\u001b[1;33m\u001b[0m\u001b[1;33m\u001b[0m\u001b[0m\n\u001b[1;32m----> 2\u001b[1;33m \u001b[0mmylist\u001b[0m \u001b[1;33m=\u001b[0m \u001b[0mlist\u001b[0m\u001b[1;33m(\u001b[0m\u001b[1;33m)\u001b[0m\u001b[1;33m\u001b[0m\u001b[1;33m\u001b[0m\u001b[0m\n\u001b[0m",
      "\u001b[1;31mTypeError\u001b[0m: 'list' object is not callable"
     ]
    }
   ],
   "source": [
    "# Use function list() to create a list\n",
    "mylist = list() "
   ]
  },
  {
   "cell_type": "markdown",
   "id": "47608f76",
   "metadata": {},
   "source": [
    "### [1.2] Variable names"
   ]
  },
  {
   "cell_type": "markdown",
   "id": "4d93da03",
   "metadata": {},
   "source": [
    "- **Local variable**"
   ]
  },
  {
   "cell_type": "code",
   "execution_count": 3,
   "id": "f333d108",
   "metadata": {},
   "outputs": [],
   "source": [
    "def add_number(x, y):\n",
    "    z = x + y"
   ]
  },
  {
   "cell_type": "code",
   "execution_count": 4,
   "id": "519d1c70",
   "metadata": {},
   "outputs": [
    {
     "ename": "NameError",
     "evalue": "name 'z' is not defined",
     "output_type": "error",
     "traceback": [
      "\u001b[1;31m---------------------------------------------------------------------------\u001b[0m",
      "\u001b[1;31mNameError\u001b[0m                                 Traceback (most recent call last)",
      "\u001b[1;32m<ipython-input-4-2e634e5a9155>\u001b[0m in \u001b[0;36m<module>\u001b[1;34m\u001b[0m\n\u001b[0;32m      1\u001b[0m \u001b[0madd_number\u001b[0m\u001b[1;33m(\u001b[0m\u001b[1;36m2\u001b[0m\u001b[1;33m,\u001b[0m \u001b[1;36m5\u001b[0m\u001b[1;33m)\u001b[0m\u001b[1;33m\u001b[0m\u001b[1;33m\u001b[0m\u001b[0m\n\u001b[1;32m----> 2\u001b[1;33m \u001b[0mprint\u001b[0m\u001b[1;33m(\u001b[0m\u001b[0mz\u001b[0m\u001b[1;33m)\u001b[0m\u001b[1;33m\u001b[0m\u001b[1;33m\u001b[0m\u001b[0m\n\u001b[0m",
      "\u001b[1;31mNameError\u001b[0m: name 'z' is not defined"
     ]
    }
   ],
   "source": [
    "add_number(2, 5)\n",
    "print(z)"
   ]
  },
  {
   "cell_type": "markdown",
   "id": "be0bae11",
   "metadata": {},
   "source": [
    "- **Global variable**"
   ]
  },
  {
   "cell_type": "code",
   "execution_count": 5,
   "id": "6c7cc902",
   "metadata": {},
   "outputs": [],
   "source": [
    "threshold = 6\n",
    "\n",
    "def grade(score):\n",
    "    if score >= threshold:\n",
    "        print(\"pass\")\n",
    "    else:\n",
    "        print(\"fail\")"
   ]
  },
  {
   "cell_type": "code",
   "execution_count": 6,
   "id": "d370030f",
   "metadata": {},
   "outputs": [
    {
     "name": "stdout",
     "output_type": "stream",
     "text": [
      "pass\n"
     ]
    }
   ],
   "source": [
    "grade(7)"
   ]
  },
  {
   "cell_type": "code",
   "execution_count": 7,
   "id": "296eadfd",
   "metadata": {},
   "outputs": [
    {
     "name": "stdout",
     "output_type": "stream",
     "text": [
      "6\n"
     ]
    }
   ],
   "source": [
    "print(threshold)"
   ]
  },
  {
   "cell_type": "markdown",
   "id": "2e60b610",
   "metadata": {},
   "source": [
    "- **Global variable and local variable with same name**"
   ]
  },
  {
   "cell_type": "code",
   "execution_count": 8,
   "id": "d3513f22",
   "metadata": {},
   "outputs": [],
   "source": [
    "name = \"Lucas\"\n",
    "\n",
    "def greeting():\n",
    "    name = \"Maya\"\n",
    "    print(\"Hi,\", name)"
   ]
  },
  {
   "cell_type": "code",
   "execution_count": 9,
   "id": "006f0385",
   "metadata": {},
   "outputs": [
    {
     "name": "stdout",
     "output_type": "stream",
     "text": [
      "Hi, Maya\n"
     ]
    }
   ],
   "source": [
    "greeting()"
   ]
  },
  {
   "cell_type": "code",
   "execution_count": 10,
   "id": "899bdba8",
   "metadata": {},
   "outputs": [
    {
     "name": "stdout",
     "output_type": "stream",
     "text": [
      "Lucas\n"
     ]
    }
   ],
   "source": [
    "print(name)  "
   ]
  },
  {
   "cell_type": "markdown",
   "id": "3bc01678",
   "metadata": {},
   "source": [
    "## [2] Going further"
   ]
  },
  {
   "cell_type": "markdown",
   "id": "8df76056",
   "metadata": {},
   "source": [
    "### [2.1] Lambda function, map, applymap, apply"
   ]
  },
  {
   "cell_type": "markdown",
   "id": "7b2a57c8",
   "metadata": {},
   "source": [
    "- **Lambda function:**"
   ]
  },
  {
   "cell_type": "code",
   "execution_count": 11,
   "id": "e9820b9d",
   "metadata": {},
   "outputs": [
    {
     "data": {
      "text/plain": [
       "15"
      ]
     },
     "execution_count": 11,
     "metadata": {},
     "output_type": "execute_result"
    }
   ],
   "source": [
    "def add_10(a):\n",
    "    return a + 10\n",
    "\n",
    "\n",
    "add_10(5)"
   ]
  },
  {
   "cell_type": "code",
   "execution_count": 12,
   "id": "fd3584ec",
   "metadata": {},
   "outputs": [
    {
     "data": {
      "text/plain": [
       "<function __main__.<lambda>(a)>"
      ]
     },
     "execution_count": 12,
     "metadata": {},
     "output_type": "execute_result"
    }
   ],
   "source": [
    "lambda a : a + 10"
   ]
  },
  {
   "cell_type": "code",
   "execution_count": 13,
   "id": "7844418b",
   "metadata": {},
   "outputs": [
    {
     "data": {
      "text/plain": [
       "15"
      ]
     },
     "execution_count": 13,
     "metadata": {},
     "output_type": "execute_result"
    }
   ],
   "source": [
    "(lambda a : a + 10)(5)"
   ]
  },
  {
   "cell_type": "markdown",
   "id": "0e21bb77",
   "metadata": {},
   "source": [
    "- **Use lambda function in pandas - map**"
   ]
  },
  {
   "cell_type": "code",
   "execution_count": 14,
   "id": "05663584",
   "metadata": {},
   "outputs": [],
   "source": [
    "import pandas as pd"
   ]
  },
  {
   "cell_type": "code",
   "execution_count": 15,
   "id": "b316cd37",
   "metadata": {},
   "outputs": [
    {
     "data": {
      "text/html": [
       "<div>\n",
       "<style scoped>\n",
       "    .dataframe tbody tr th:only-of-type {\n",
       "        vertical-align: middle;\n",
       "    }\n",
       "\n",
       "    .dataframe tbody tr th {\n",
       "        vertical-align: top;\n",
       "    }\n",
       "\n",
       "    .dataframe thead th {\n",
       "        text-align: right;\n",
       "    }\n",
       "</style>\n",
       "<table border=\"1\" class=\"dataframe\">\n",
       "  <thead>\n",
       "    <tr style=\"text-align: right;\">\n",
       "      <th></th>\n",
       "      <th>score</th>\n",
       "    </tr>\n",
       "  </thead>\n",
       "  <tbody>\n",
       "    <tr>\n",
       "      <th>S01</th>\n",
       "      <td>7</td>\n",
       "    </tr>\n",
       "    <tr>\n",
       "      <th>S02</th>\n",
       "      <td>5</td>\n",
       "    </tr>\n",
       "    <tr>\n",
       "      <th>S03</th>\n",
       "      <td>8</td>\n",
       "    </tr>\n",
       "    <tr>\n",
       "      <th>S04</th>\n",
       "      <td>6</td>\n",
       "    </tr>\n",
       "    <tr>\n",
       "      <th>S05</th>\n",
       "      <td>4</td>\n",
       "    </tr>\n",
       "  </tbody>\n",
       "</table>\n",
       "</div>"
      ],
      "text/plain": [
       "     score\n",
       "S01      7\n",
       "S02      5\n",
       "S03      8\n",
       "S04      6\n",
       "S05      4"
      ]
     },
     "execution_count": 15,
     "metadata": {},
     "output_type": "execute_result"
    }
   ],
   "source": [
    "score_df = pd.DataFrame({\"score\":[7, 5, 8 ,6 ,4]}, index =  [\"S01\",\"S02\",\"S03\",\"S04\",\"S05\"])\n",
    "score_df"
   ]
  },
  {
   "cell_type": "code",
   "execution_count": 16,
   "id": "d0636bc8",
   "metadata": {},
   "outputs": [
    {
     "data": {
      "text/html": [
       "<div>\n",
       "<style scoped>\n",
       "    .dataframe tbody tr th:only-of-type {\n",
       "        vertical-align: middle;\n",
       "    }\n",
       "\n",
       "    .dataframe tbody tr th {\n",
       "        vertical-align: top;\n",
       "    }\n",
       "\n",
       "    .dataframe thead th {\n",
       "        text-align: right;\n",
       "    }\n",
       "</style>\n",
       "<table border=\"1\" class=\"dataframe\">\n",
       "  <thead>\n",
       "    <tr style=\"text-align: right;\">\n",
       "      <th></th>\n",
       "      <th>score</th>\n",
       "      <th>result</th>\n",
       "    </tr>\n",
       "  </thead>\n",
       "  <tbody>\n",
       "    <tr>\n",
       "      <th>S01</th>\n",
       "      <td>7</td>\n",
       "      <td>pass</td>\n",
       "    </tr>\n",
       "    <tr>\n",
       "      <th>S02</th>\n",
       "      <td>5</td>\n",
       "      <td>fail</td>\n",
       "    </tr>\n",
       "    <tr>\n",
       "      <th>S03</th>\n",
       "      <td>8</td>\n",
       "      <td>pass</td>\n",
       "    </tr>\n",
       "    <tr>\n",
       "      <th>S04</th>\n",
       "      <td>6</td>\n",
       "      <td>pass</td>\n",
       "    </tr>\n",
       "    <tr>\n",
       "      <th>S05</th>\n",
       "      <td>4</td>\n",
       "      <td>fail</td>\n",
       "    </tr>\n",
       "  </tbody>\n",
       "</table>\n",
       "</div>"
      ],
      "text/plain": [
       "     score result\n",
       "S01      7   pass\n",
       "S02      5   fail\n",
       "S03      8   pass\n",
       "S04      6   pass\n",
       "S05      4   fail"
      ]
     },
     "execution_count": 16,
     "metadata": {},
     "output_type": "execute_result"
    }
   ],
   "source": [
    "score_df[\"result\"] = score_df.score.map(lambda score: \"pass\" if score >= 6 else \"fail\")\n",
    "score_df"
   ]
  },
  {
   "cell_type": "markdown",
   "id": "bc1fcf17",
   "metadata": {},
   "source": [
    "- **Use lambda function in pandas - applymap**"
   ]
  },
  {
   "cell_type": "code",
   "execution_count": 17,
   "id": "c43563d1",
   "metadata": {},
   "outputs": [
    {
     "data": {
      "text/html": [
       "<div>\n",
       "<style scoped>\n",
       "    .dataframe tbody tr th:only-of-type {\n",
       "        vertical-align: middle;\n",
       "    }\n",
       "\n",
       "    .dataframe tbody tr th {\n",
       "        vertical-align: top;\n",
       "    }\n",
       "\n",
       "    .dataframe thead th {\n",
       "        text-align: right;\n",
       "    }\n",
       "</style>\n",
       "<table border=\"1\" class=\"dataframe\">\n",
       "  <thead>\n",
       "    <tr style=\"text-align: right;\">\n",
       "      <th></th>\n",
       "      <th>6AM</th>\n",
       "      <th>12AM</th>\n",
       "      <th>6PM</th>\n",
       "    </tr>\n",
       "  </thead>\n",
       "  <tbody>\n",
       "    <tr>\n",
       "      <th>Day1</th>\n",
       "      <td>12</td>\n",
       "      <td>15</td>\n",
       "      <td>10</td>\n",
       "    </tr>\n",
       "    <tr>\n",
       "      <th>Day2</th>\n",
       "      <td>13</td>\n",
       "      <td>18</td>\n",
       "      <td>11</td>\n",
       "    </tr>\n",
       "    <tr>\n",
       "      <th>Day3</th>\n",
       "      <td>13</td>\n",
       "      <td>19</td>\n",
       "      <td>13</td>\n",
       "    </tr>\n",
       "  </tbody>\n",
       "</table>\n",
       "</div>"
      ],
      "text/plain": [
       "      6AM  12AM  6PM\n",
       "Day1   12    15   10\n",
       "Day2   13    18   11\n",
       "Day3   13    19   13"
      ]
     },
     "execution_count": 17,
     "metadata": {},
     "output_type": "execute_result"
    }
   ],
   "source": [
    "temp_df = pd.DataFrame({\"6AM\":[12, 13, 13], \"12AM\":[15, 18, 19], \"6PM\":[10, 11, 13]}, index = [\"Day1\", \"Day2\",\"Day3\"])\n",
    "temp_df"
   ]
  },
  {
   "cell_type": "code",
   "execution_count": 18,
   "id": "b9f8d8e2",
   "metadata": {},
   "outputs": [
    {
     "data": {
      "text/html": [
       "<div>\n",
       "<style scoped>\n",
       "    .dataframe tbody tr th:only-of-type {\n",
       "        vertical-align: middle;\n",
       "    }\n",
       "\n",
       "    .dataframe tbody tr th {\n",
       "        vertical-align: top;\n",
       "    }\n",
       "\n",
       "    .dataframe thead th {\n",
       "        text-align: right;\n",
       "    }\n",
       "</style>\n",
       "<table border=\"1\" class=\"dataframe\">\n",
       "  <thead>\n",
       "    <tr style=\"text-align: right;\">\n",
       "      <th></th>\n",
       "      <th>6AM</th>\n",
       "      <th>12AM</th>\n",
       "      <th>6PM</th>\n",
       "    </tr>\n",
       "  </thead>\n",
       "  <tbody>\n",
       "    <tr>\n",
       "      <th>Day1</th>\n",
       "      <td>53.6</td>\n",
       "      <td>59.0</td>\n",
       "      <td>50.0</td>\n",
       "    </tr>\n",
       "    <tr>\n",
       "      <th>Day2</th>\n",
       "      <td>55.4</td>\n",
       "      <td>64.4</td>\n",
       "      <td>51.8</td>\n",
       "    </tr>\n",
       "    <tr>\n",
       "      <th>Day3</th>\n",
       "      <td>55.4</td>\n",
       "      <td>66.2</td>\n",
       "      <td>55.4</td>\n",
       "    </tr>\n",
       "  </tbody>\n",
       "</table>\n",
       "</div>"
      ],
      "text/plain": [
       "       6AM  12AM   6PM\n",
       "Day1  53.6  59.0  50.0\n",
       "Day2  55.4  64.4  51.8\n",
       "Day3  55.4  66.2  55.4"
      ]
     },
     "execution_count": 18,
     "metadata": {},
     "output_type": "execute_result"
    }
   ],
   "source": [
    "# Convert Celsius to Fahrenheit \n",
    "# Fahrenheit = Celsius * (9/5) +32 \n",
    "temp_df = temp_df.applymap(lambda x: x*(9/5)+32)\n",
    "temp_df"
   ]
  },
  {
   "cell_type": "markdown",
   "id": "5ce63f92",
   "metadata": {},
   "source": [
    "- **Use lambda function in pandas - apply**"
   ]
  },
  {
   "cell_type": "code",
   "execution_count": 19,
   "id": "e4a4a007",
   "metadata": {},
   "outputs": [
    {
     "data": {
      "text/html": [
       "<div>\n",
       "<style scoped>\n",
       "    .dataframe tbody tr th:only-of-type {\n",
       "        vertical-align: middle;\n",
       "    }\n",
       "\n",
       "    .dataframe tbody tr th {\n",
       "        vertical-align: top;\n",
       "    }\n",
       "\n",
       "    .dataframe thead th {\n",
       "        text-align: right;\n",
       "    }\n",
       "</style>\n",
       "<table border=\"1\" class=\"dataframe\">\n",
       "  <thead>\n",
       "    <tr style=\"text-align: right;\">\n",
       "      <th></th>\n",
       "      <th>6AM</th>\n",
       "      <th>12AM</th>\n",
       "      <th>6PM</th>\n",
       "    </tr>\n",
       "  </thead>\n",
       "  <tbody>\n",
       "    <tr>\n",
       "      <th>Day1</th>\n",
       "      <td>12</td>\n",
       "      <td>15</td>\n",
       "      <td>10</td>\n",
       "    </tr>\n",
       "    <tr>\n",
       "      <th>Day2</th>\n",
       "      <td>13</td>\n",
       "      <td>18</td>\n",
       "      <td>11</td>\n",
       "    </tr>\n",
       "    <tr>\n",
       "      <th>Day3</th>\n",
       "      <td>13</td>\n",
       "      <td>19</td>\n",
       "      <td>13</td>\n",
       "    </tr>\n",
       "  </tbody>\n",
       "</table>\n",
       "</div>"
      ],
      "text/plain": [
       "      6AM  12AM  6PM\n",
       "Day1   12    15   10\n",
       "Day2   13    18   11\n",
       "Day3   13    19   13"
      ]
     },
     "execution_count": 19,
     "metadata": {},
     "output_type": "execute_result"
    }
   ],
   "source": [
    "temp_df = pd.DataFrame({\"6AM\":[12, 13, 13], \"12AM\":[15, 18, 19], \"6PM\":[10, 11, 13]}, index = [\"Day1\", \"Day2\",\"Day3\"])\n",
    "temp_df"
   ]
  },
  {
   "cell_type": "code",
   "execution_count": 20,
   "id": "e094f2c7",
   "metadata": {},
   "outputs": [
    {
     "data": {
      "text/html": [
       "<div>\n",
       "<style scoped>\n",
       "    .dataframe tbody tr th:only-of-type {\n",
       "        vertical-align: middle;\n",
       "    }\n",
       "\n",
       "    .dataframe tbody tr th {\n",
       "        vertical-align: top;\n",
       "    }\n",
       "\n",
       "    .dataframe thead th {\n",
       "        text-align: right;\n",
       "    }\n",
       "</style>\n",
       "<table border=\"1\" class=\"dataframe\">\n",
       "  <thead>\n",
       "    <tr style=\"text-align: right;\">\n",
       "      <th></th>\n",
       "      <th>6AM</th>\n",
       "      <th>12AM</th>\n",
       "      <th>6PM</th>\n",
       "      <th>Range</th>\n",
       "    </tr>\n",
       "  </thead>\n",
       "  <tbody>\n",
       "    <tr>\n",
       "      <th>Day1</th>\n",
       "      <td>12</td>\n",
       "      <td>15</td>\n",
       "      <td>10</td>\n",
       "      <td>5</td>\n",
       "    </tr>\n",
       "    <tr>\n",
       "      <th>Day2</th>\n",
       "      <td>13</td>\n",
       "      <td>18</td>\n",
       "      <td>11</td>\n",
       "      <td>7</td>\n",
       "    </tr>\n",
       "    <tr>\n",
       "      <th>Day3</th>\n",
       "      <td>13</td>\n",
       "      <td>19</td>\n",
       "      <td>13</td>\n",
       "      <td>6</td>\n",
       "    </tr>\n",
       "  </tbody>\n",
       "</table>\n",
       "</div>"
      ],
      "text/plain": [
       "      6AM  12AM  6PM  Range\n",
       "Day1   12    15   10      5\n",
       "Day2   13    18   11      7\n",
       "Day3   13    19   13      6"
      ]
     },
     "execution_count": 20,
     "metadata": {},
     "output_type": "execute_result"
    }
   ],
   "source": [
    "temp_df[\"Range\"] = temp_df.apply(lambda x: x.max()-x.min(), axis = 1)\n",
    "temp_df"
   ]
  },
  {
   "cell_type": "markdown",
   "id": "7846e47b",
   "metadata": {},
   "source": [
    "### [2.2] Other packages"
   ]
  },
  {
   "cell_type": "markdown",
   "id": "7b16dbbf",
   "metadata": {},
   "source": [
    "- **numpy**"
   ]
  },
  {
   "cell_type": "code",
   "execution_count": 21,
   "id": "7ca0135d",
   "metadata": {},
   "outputs": [],
   "source": [
    "import numpy as np"
   ]
  },
  {
   "cell_type": "code",
   "execution_count": 22,
   "id": "4816aaf4",
   "metadata": {},
   "outputs": [
    {
     "data": {
      "text/plain": [
       "array([1, 2, 3])"
      ]
     },
     "execution_count": 22,
     "metadata": {},
     "output_type": "execute_result"
    }
   ],
   "source": [
    "# 1-dimensional array \n",
    "x = np.array([1, 2, 3])  \n",
    "x"
   ]
  },
  {
   "cell_type": "code",
   "execution_count": 23,
   "id": "a277bfb5",
   "metadata": {},
   "outputs": [
    {
     "data": {
      "text/plain": [
       "array([[1, 2, 3],\n",
       "       [4, 5, 6]])"
      ]
     },
     "execution_count": 23,
     "metadata": {},
     "output_type": "execute_result"
    }
   ],
   "source": [
    "# 2-dimensional array \n",
    "y = np.array([[1, 2, 3],\n",
    "              [4, 5, 6]])  \n",
    "y"
   ]
  },
  {
   "cell_type": "code",
   "execution_count": 24,
   "id": "89700845",
   "metadata": {},
   "outputs": [
    {
     "name": "stdout",
     "output_type": "stream",
     "text": [
      "[0.         0.69314718 1.09861229]\n",
      "[1.         1.41421356 1.73205081]\n"
     ]
    }
   ],
   "source": [
    "# apply mathematical functions\n",
    "print(np.log(x))\n",
    "print(np.sqrt(x))"
   ]
  },
  {
   "cell_type": "code",
   "execution_count": 25,
   "id": "5b4e16a2",
   "metadata": {},
   "outputs": [
    {
     "data": {
      "text/plain": [
       "array([14, 32])"
      ]
     },
     "execution_count": 25,
     "metadata": {},
     "output_type": "execute_result"
    }
   ],
   "source": [
    "# matrix multiplication (same as y@x)\n",
    "np.matmul(y,x)"
   ]
  },
  {
   "cell_type": "markdown",
   "id": "9fa96adb",
   "metadata": {},
   "source": [
    "- **sklearn**"
   ]
  },
  {
   "cell_type": "code",
   "execution_count": 26,
   "id": "2313bc35",
   "metadata": {},
   "outputs": [
    {
     "data": {
      "text/html": [
       "<div>\n",
       "<style scoped>\n",
       "    .dataframe tbody tr th:only-of-type {\n",
       "        vertical-align: middle;\n",
       "    }\n",
       "\n",
       "    .dataframe tbody tr th {\n",
       "        vertical-align: top;\n",
       "    }\n",
       "\n",
       "    .dataframe thead th {\n",
       "        text-align: right;\n",
       "    }\n",
       "</style>\n",
       "<table border=\"1\" class=\"dataframe\">\n",
       "  <thead>\n",
       "    <tr style=\"text-align: right;\">\n",
       "      <th></th>\n",
       "      <th>Gender</th>\n",
       "      <th>Age</th>\n",
       "      <th>Annual Income (k$)</th>\n",
       "      <th>Spending Score (1-100)</th>\n",
       "    </tr>\n",
       "    <tr>\n",
       "      <th>CustomerID</th>\n",
       "      <th></th>\n",
       "      <th></th>\n",
       "      <th></th>\n",
       "      <th></th>\n",
       "    </tr>\n",
       "  </thead>\n",
       "  <tbody>\n",
       "    <tr>\n",
       "      <th>1</th>\n",
       "      <td>Male</td>\n",
       "      <td>19</td>\n",
       "      <td>15</td>\n",
       "      <td>39</td>\n",
       "    </tr>\n",
       "    <tr>\n",
       "      <th>2</th>\n",
       "      <td>Male</td>\n",
       "      <td>21</td>\n",
       "      <td>15</td>\n",
       "      <td>81</td>\n",
       "    </tr>\n",
       "    <tr>\n",
       "      <th>3</th>\n",
       "      <td>Female</td>\n",
       "      <td>20</td>\n",
       "      <td>16</td>\n",
       "      <td>6</td>\n",
       "    </tr>\n",
       "    <tr>\n",
       "      <th>4</th>\n",
       "      <td>Female</td>\n",
       "      <td>23</td>\n",
       "      <td>16</td>\n",
       "      <td>77</td>\n",
       "    </tr>\n",
       "    <tr>\n",
       "      <th>5</th>\n",
       "      <td>Female</td>\n",
       "      <td>31</td>\n",
       "      <td>17</td>\n",
       "      <td>40</td>\n",
       "    </tr>\n",
       "    <tr>\n",
       "      <th>...</th>\n",
       "      <td>...</td>\n",
       "      <td>...</td>\n",
       "      <td>...</td>\n",
       "      <td>...</td>\n",
       "    </tr>\n",
       "    <tr>\n",
       "      <th>196</th>\n",
       "      <td>Female</td>\n",
       "      <td>35</td>\n",
       "      <td>120</td>\n",
       "      <td>79</td>\n",
       "    </tr>\n",
       "    <tr>\n",
       "      <th>197</th>\n",
       "      <td>Female</td>\n",
       "      <td>45</td>\n",
       "      <td>126</td>\n",
       "      <td>28</td>\n",
       "    </tr>\n",
       "    <tr>\n",
       "      <th>198</th>\n",
       "      <td>Male</td>\n",
       "      <td>32</td>\n",
       "      <td>126</td>\n",
       "      <td>74</td>\n",
       "    </tr>\n",
       "    <tr>\n",
       "      <th>199</th>\n",
       "      <td>Male</td>\n",
       "      <td>32</td>\n",
       "      <td>137</td>\n",
       "      <td>18</td>\n",
       "    </tr>\n",
       "    <tr>\n",
       "      <th>200</th>\n",
       "      <td>Male</td>\n",
       "      <td>30</td>\n",
       "      <td>137</td>\n",
       "      <td>83</td>\n",
       "    </tr>\n",
       "  </tbody>\n",
       "</table>\n",
       "<p>200 rows × 4 columns</p>\n",
       "</div>"
      ],
      "text/plain": [
       "            Gender  Age  Annual Income (k$)  Spending Score (1-100)\n",
       "CustomerID                                                         \n",
       "1             Male   19                  15                      39\n",
       "2             Male   21                  15                      81\n",
       "3           Female   20                  16                       6\n",
       "4           Female   23                  16                      77\n",
       "5           Female   31                  17                      40\n",
       "...            ...  ...                 ...                     ...\n",
       "196         Female   35                 120                      79\n",
       "197         Female   45                 126                      28\n",
       "198           Male   32                 126                      74\n",
       "199           Male   32                 137                      18\n",
       "200           Male   30                 137                      83\n",
       "\n",
       "[200 rows x 4 columns]"
      ]
     },
     "execution_count": 26,
     "metadata": {},
     "output_type": "execute_result"
    }
   ],
   "source": [
    "customer_df = pd.read_csv('../dataset/customers.csv', index_col = ['CustomerID'])\n",
    "customer_df"
   ]
  },
  {
   "cell_type": "code",
   "execution_count": 27,
   "id": "3765bb85",
   "metadata": {},
   "outputs": [],
   "source": [
    "from sklearn.preprocessing import StandardScaler\n",
    "from sklearn.cluster import KMeans\n",
    "import seaborn as sns"
   ]
  },
  {
   "cell_type": "code",
   "execution_count": 28,
   "id": "15aab4b1",
   "metadata": {},
   "outputs": [],
   "source": [
    "# Scale the data\n",
    "X = customer_df[['Annual Income (k$)', 'Spending Score (1-100)']]\n",
    "Xtr =  StandardScaler().fit_transform(X)\n",
    "\n",
    "# Fitting the K-Means Clustering Algorithm with 5 clusters\n",
    "km = KMeans(n_clusters = 5)\n",
    "y = km.fit_predict(Xtr)\n",
    "\n",
    "# Add cluster data to data frame\n",
    "customer_df['clusters'] = y"
   ]
  },
  {
   "cell_type": "code",
   "execution_count": 29,
   "id": "78a064f1",
   "metadata": {},
   "outputs": [
    {
     "data": {
      "image/png": "[encoded data removed]",
      "text/plain": [
       "<Figure size 432x288 with 1 Axes>"
      ]
     },
     "metadata": {
      "needs_background": "light"
     },
     "output_type": "display_data"
    }
   ],
   "source": [
    "# Plot results\n",
    "sns.scatterplot(data = customer_df, \n",
    "                y = 'Spending Score (1-100)', \n",
    "                x = 'Annual Income (k$)', \n",
    "                hue = 'clusters', palette = \"pastel\");"
   ]
  },
  {
   "cell_type": "markdown",
   "id": "8a427a71",
   "metadata": {},
   "source": [
    "## [3] Exercises"
   ]
  },
  {
   "cell_type": "markdown",
   "id": "09a83ffa",
   "metadata": {},
   "source": [
    "Questions will be given in class."
   ]
  },
  {
   "cell_type": "code",
   "execution_count": 17,
   "id": "b08bf402",
   "metadata": {},
   "outputs": [],
   "source": [
    "list1 = [\"apple\", \"yogurt\", \"yogurt\", \"salmon\", \"apple\", \"apple\", \"cheese\"]\n",
    "list2 = ['tea', 'juice', 'juice', 'grape', 'avocado', 'almond', 'juice', 'coffee', 'tea', 'coffee', 'tea', 'coffee']"
   ]
  },
  {
   "cell_type": "code",
   "execution_count": 23,
   "id": "0ea96a0e",
   "metadata": {},
   "outputs": [],
   "source": [
    "def cart(item_list):\n",
    "    item_set = set(item_list)\n",
    "    \n",
    "    for i in item_set:\n",
    "        q = item_list.count(i)\n",
    "        print(\"{}: {}\".format(i, q))"
   ]
  },
  {
   "cell_type": "code",
   "execution_count": 24,
   "id": "a7d65cdd",
   "metadata": {},
   "outputs": [
    {
     "name": "stdout",
     "output_type": "stream",
     "text": [
      "apple: 3\n",
      "salmon: 1\n",
      "cheese: 1\n",
      "yogurt: 2\n"
     ]
    }
   ],
   "source": [
    "cart(list1)"
   ]
  },
  {
   "cell_type": "code",
   "execution_count": 25,
   "id": "db33b024",
   "metadata": {},
   "outputs": [
    {
     "name": "stdout",
     "output_type": "stream",
     "text": [
      "juice: 3\n",
      "coffee: 3\n",
      "grape: 1\n",
      "tea: 3\n",
      "almond: 1\n",
      "avocado: 1\n"
     ]
    }
   ],
   "source": [
    "cart(list2)"
   ]
  },
  {
   "cell_type": "code",
   "execution_count": 27,
   "id": "b0e40719",
   "metadata": {},
   "outputs": [
    {
     "data": {
      "text/plain": [
       "2021-11-01    1974\n",
       "2021-11-02    1414\n",
       "2021-11-03    1648\n",
       "2021-11-04    1497\n",
       "2021-11-05    1454\n",
       "2021-11-06     883\n",
       "2021-11-07     955\n",
       "dtype: int64"
      ]
     },
     "execution_count": 27,
     "metadata": {},
     "output_type": "execute_result"
    }
   ],
   "source": [
    "s1 = pd.Series([1974 ,1414 ,1648 ,1497 ,1454 ,883 ,955],\n",
    "              index = pd.to_datetime([\"2021-11-01\",\"2021-11-02\",\"2021-11-03\",\"2021-11-04\",\"2021-11-05\",\"2021-11-06\",\"2021-11-07\"]))\n",
    "s1"
   ]
  },
  {
   "cell_type": "code",
   "execution_count": 28,
   "id": "afebbe76",
   "metadata": {},
   "outputs": [
    {
     "data": {
      "text/plain": [
       "2021-11-08    2387.0\n",
       "2021-11-09    1753.0\n",
       "2021-11-10    1966.0\n",
       "2021-11-11    1771.0\n",
       "2021-11-12    1784.0\n",
       "2021-11-13    1088.0\n",
       "2021-11-14    1057.0\n",
       "dtype: float64"
      ]
     },
     "execution_count": 28,
     "metadata": {},
     "output_type": "execute_result"
    }
   ],
   "source": [
    "s2 = pd.Series([2387 ,1753 ,1966 ,1771 ,1784 ,1088 ,1057.],\n",
    "              index = pd.to_datetime([\"2021-11-08\",\"2021-11-09\",\"2021-11-10\",\"2021-11-11\",\"2021-11-12\",\"2021-11-13\",\"2021-11-14\"]))\n",
    "s2"
   ]
  },
  {
   "cell_type": "code",
   "execution_count": 30,
   "id": "a685388a",
   "metadata": {},
   "outputs": [
    {
     "data": {
      "text/plain": [
       "<AxesSubplot:>"
      ]
     },
     "execution_count": 30,
     "metadata": {},
     "output_type": "execute_result"
    },
    {
     "data": {
      "image/png": "[encoded data removed]",
      "text/plain": [
       "<Figure size 432x288 with 1 Axes>"
      ]
     },
     "metadata": {
      "needs_background": "light"
     },
     "output_type": "display_data"
    }
   ],
   "source": [
    "s3 = pd.concat([s1, s2])\n",
    "s3.plot()"
   ]
  },
  {
   "cell_type": "code",
   "execution_count": 32,
   "id": "a389bced",
   "metadata": {},
   "outputs": [
    {
     "data": {
      "text/plain": [
       "2021-11-08    2387.0\n",
       "2021-11-01    1974.0\n",
       "2021-11-10    1966.0\n",
       "2021-11-12    1784.0\n",
       "2021-11-11    1771.0\n",
       "2021-11-09    1753.0\n",
       "2021-11-03    1648.0\n",
       "2021-11-04    1497.0\n",
       "2021-11-05    1454.0\n",
       "2021-11-02    1414.0\n",
       "2021-11-13    1088.0\n",
       "2021-11-14    1057.0\n",
       "2021-11-07     955.0\n",
       "2021-11-06     883.0\n",
       "dtype: float64"
      ]
     },
     "execution_count": 32,
     "metadata": {},
     "output_type": "execute_result"
    }
   ],
   "source": [
    "s3.sort_values(ascending = False)"
   ]
  },
  {
   "cell_type": "code",
   "execution_count": null,
   "id": "2e891d0d",
   "metadata": {},
   "outputs": [],
   "source": []
  }
 ],
 "metadata": {
  "kernelspec": {
   "display_name": "Python 3",
   "language": "python",
   "name": "python3"
  },
  "language_info": {
   "codemirror_mode": {
    "name": "ipython",
    "version": 3
   },
   "file_extension": ".py",
   "mimetype": "text/x-python",
   "name": "python",
   "nbconvert_exporter": "python",
   "pygments_lexer": "ipython3",
   "version": "3.8.8"
  }
 },
 "nbformat": 4,
 "nbformat_minor": 5
}
