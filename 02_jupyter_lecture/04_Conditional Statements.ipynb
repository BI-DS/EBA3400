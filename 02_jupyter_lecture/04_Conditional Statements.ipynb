{
 "cells": [
  {
   "cell_type": "markdown",
   "metadata": {},
   "source": [
    "# Conditional Statements\n",
    "**[1] Bloolean Expressions**<br>\n",
    "**[2] Flowcharts**<br>\n",
    "**[3] Conditional Statements**\n",
    "- if\n",
    "- if, else\n",
    "- Chained conditional statements\n",
    "- Nested conditional statements\n",
    "- Conditional statements with logical operators<br>\n",
    "\n",
    "**[4] Exception handling**\n"
   ]
  },
  {
   "cell_type": "markdown",
   "metadata": {},
   "source": [
    "## [1] Boolean Expressions"
   ]
  },
  {
   "cell_type": "markdown",
   "metadata": {},
   "source": [
    "- **Boolean expressions**"
   ]
  },
  {
   "cell_type": "code",
   "execution_count": null,
   "metadata": {},
   "outputs": [],
   "source": [
    "x = 5"
   ]
  },
  {
   "cell_type": "code",
   "execution_count": null,
   "metadata": {},
   "outputs": [],
   "source": [
    "x > 10"
   ]
  },
  {
   "cell_type": "code",
   "execution_count": null,
   "metadata": {},
   "outputs": [],
   "source": [
    "x <= 5"
   ]
  },
  {
   "cell_type": "code",
   "execution_count": null,
   "metadata": {},
   "outputs": [],
   "source": [
    "print(type(True))\n",
    "print(type(False))"
   ]
  },
  {
   "cell_type": "markdown",
   "metadata": {},
   "source": [
    "- **Boolean expression – comparison operators**"
   ]
  },
  {
   "cell_type": "code",
   "execution_count": null,
   "metadata": {},
   "outputs": [],
   "source": [
    "x = 5\n",
    "y = 2"
   ]
  },
  {
   "cell_type": "code",
   "execution_count": null,
   "metadata": {},
   "outputs": [],
   "source": [
    "x > y"
   ]
  },
  {
   "cell_type": "code",
   "execution_count": null,
   "metadata": {},
   "outputs": [],
   "source": [
    "x == y"
   ]
  },
  {
   "cell_type": "code",
   "execution_count": null,
   "metadata": {},
   "outputs": [],
   "source": [
    "x <= 10"
   ]
  },
  {
   "cell_type": "markdown",
   "metadata": {},
   "source": [
    "## [2] Flowcharts\n",
    "(Reference slides)"
   ]
  },
  {
   "cell_type": "markdown",
   "metadata": {},
   "source": [
    "## [3] Conditional statements"
   ]
  },
  {
   "cell_type": "markdown",
   "metadata": {},
   "source": [
    "### [3.1] <code>if</code>"
   ]
  },
  {
   "cell_type": "markdown",
   "metadata": {},
   "source": [
    "Example-1: Check if a number is larger than zero."
   ]
  },
  {
   "cell_type": "code",
   "execution_count": null,
   "metadata": {},
   "outputs": [],
   "source": [
    "x = 10\n",
    "if x > 0 :\n",
    "    print('x > 0')"
   ]
  },
  {
   "cell_type": "markdown",
   "metadata": {},
   "source": [
    "Example-2: Check if a string contains a substring."
   ]
  },
  {
   "cell_type": "code",
   "execution_count": null,
   "metadata": {},
   "outputs": [],
   "source": [
    "text = \"hello world\"\n",
    "if \"hello\" in text:\n",
    "    print(\"This is a greeting message.\")"
   ]
  },
  {
   "cell_type": "markdown",
   "metadata": {},
   "source": [
    "### [3.2] <code>if, else</code>"
   ]
  },
  {
   "cell_type": "markdown",
   "metadata": {},
   "source": [
    "Example-1: Checks if x is greater than zero"
   ]
  },
  {
   "cell_type": "code",
   "execution_count": null,
   "metadata": {},
   "outputs": [],
   "source": [
    "x = -5\n",
    "if x > 0 :\n",
    "    print('x > 0')\n",
    "else:\n",
    "    print('x <= 0')"
   ]
  },
  {
   "cell_type": "markdown",
   "metadata": {},
   "source": [
    "Example-2: Check if y is not equal to zero"
   ]
  },
  {
   "cell_type": "code",
   "execution_count": null,
   "metadata": {},
   "outputs": [],
   "source": [
    "x = float(input(\"Enter a number: \"))\n",
    "y = float(input(\"Enter a number: \"))\n",
    "\n",
    "if y!=0:\n",
    "    print(x/y)\n",
    "else:\n",
    "    print(\"error\")"
   ]
  },
  {
   "cell_type": "markdown",
   "metadata": {},
   "source": [
    "## Exercise.A"
   ]
  },
  {
   "cell_type": "markdown",
   "metadata": {},
   "source": [
    "**(A.1) Define a variable <code>score = 6.5</code>. Write a conditional statement to check if the score is greater than 5. If yes, print <code>Pass</code>; otherwise, print <code>Fail</code>.**"
   ]
  },
  {
   "cell_type": "code",
   "execution_count": null,
   "metadata": {},
   "outputs": [],
   "source": []
  },
  {
   "cell_type": "markdown",
   "metadata": {},
   "source": [
    "**(A.2) Write a program that asks users to enter a value. The program should check if the entered value is an integer. If yes, print \"integer\", otherwise, print \"not an integer\".**<br>\n",
    "Hint: Use string method <code>isdigit()</code> to check if the entered value consists only of digits. <br>\n",
    "\n",
    "Example-1:<br>\n",
    "Enter an integer: <code>abc123</code><br>\n",
    "<code>not an integer.</code>\n",
    "\n",
    "Example-2:<br>\n",
    "Enter an integer: <code>123</code><br>\n",
    "<code>integer.</code>"
   ]
  },
  {
   "cell_type": "code",
   "execution_count": null,
   "metadata": {},
   "outputs": [],
   "source": []
  },
  {
   "cell_type": "code",
   "execution_count": null,
   "metadata": {},
   "outputs": [],
   "source": [
    "# Example of using the string method \"isdigit()\"\n",
    "\n",
    "s1 = \"abc123\"\n",
    "print(s1.isdigit())\n",
    "\n",
    "s2 = \"123\"\n",
    "print(s2.isdigit())"
   ]
  },
  {
   "cell_type": "markdown",
   "metadata": {},
   "source": [
    "### [3.3] Chain conditional statements <code>if, elif, else</code>"
   ]
  },
  {
   "cell_type": "markdown",
   "metadata": {},
   "source": [
    "Example-1: Compare the values of x and y"
   ]
  },
  {
   "cell_type": "code",
   "execution_count": null,
   "metadata": {},
   "outputs": [],
   "source": [
    "x = 5\n",
    "y = 2"
   ]
  },
  {
   "cell_type": "code",
   "execution_count": null,
   "metadata": {},
   "outputs": [],
   "source": [
    "if x < y:\n",
    "    print (\"x is less than y\")\n",
    "elif x > y: \n",
    "    print (\"x is greater than y\")\n",
    "else:\n",
    "    print (\"x and y are equal\")"
   ]
  },
  {
   "cell_type": "markdown",
   "metadata": {},
   "source": [
    "Example-2: Print age group"
   ]
  },
  {
   "cell_type": "code",
   "execution_count": null,
   "metadata": {},
   "outputs": [],
   "source": [
    "age = 16"
   ]
  },
  {
   "cell_type": "code",
   "execution_count": null,
   "metadata": {},
   "outputs": [],
   "source": [
    "# solution-1\n",
    "if age < 16:\n",
    "    print(\"Child\")\n",
    "elif 16 <= age < 65:\n",
    "    print(\"Adult\")\n",
    "else:\n",
    "    print(\"Senior\")"
   ]
  },
  {
   "cell_type": "code",
   "execution_count": null,
   "metadata": {},
   "outputs": [],
   "source": [
    "# solution-2\n",
    "if age < 16:\n",
    "    print(\"Child\")\n",
    "elif age < 65:\n",
    "    print(\"Adult\")\n",
    "else:\n",
    "    print(\"Senior\")"
   ]
  },
  {
   "cell_type": "markdown",
   "metadata": {},
   "source": [
    "Example-3: Country code"
   ]
  },
  {
   "cell_type": "code",
   "execution_count": null,
   "metadata": {},
   "outputs": [],
   "source": [
    "phone = \"+4746410000\"\n",
    "\n",
    "if \"+47\" in phone:\n",
    "    print(\"Norway\")\n",
    "    \n",
    "elif \"+46\" in phone:\n",
    "    print(\"Sweden\")\n",
    "    \n",
    "elif \"+45\" in phone:\n",
    "    print(\"Denmark\")\n",
    "    \n",
    "else:\n",
    "    print(\"Others\")"
   ]
  },
  {
   "cell_type": "markdown",
   "metadata": {},
   "source": [
    "## Exercise.B"
   ]
  },
  {
   "cell_type": "markdown",
   "metadata": {},
   "source": [
    "**(B.1) Define a variable <code>y = -3</code>. Write a conditional statement and print out the description of $y$.**"
   ]
  },
  {
   "cell_type": "markdown",
   "metadata": {},
   "source": [
    "| test | print out |\n",
    "|:-:|:-:|\n",
    "|$y>0$|positive|\n",
    "|$y<0$|negative|\n",
    "|None of the above expression are true|zero|"
   ]
  },
  {
   "cell_type": "code",
   "execution_count": null,
   "metadata": {},
   "outputs": [],
   "source": []
  },
  {
   "cell_type": "markdown",
   "metadata": {},
   "source": [
    "**(B.2) Considering the following lists. Write a program that asks the user to enter an item, and then print out the category of the input item.**"
   ]
  },
  {
   "cell_type": "markdown",
   "metadata": {},
   "source": [
    "| test | print out|\n",
    "|:-:|:-:|\n",
    "|item in list_1|beverages|\n",
    "|item in list_2|dairy|\n",
    "|item in list_3|meat|\n",
    "|None of the above expression are true|others|"
   ]
  },
  {
   "cell_type": "markdown",
   "metadata": {},
   "source": [
    "Example:<br>\n",
    "Item: <code>tea</code><br>\n",
    "Category: beverage"
   ]
  },
  {
   "cell_type": "code",
   "execution_count": null,
   "metadata": {},
   "outputs": [],
   "source": [
    "list_1  = [\"coffee\",\"tea\",\"juice\", \"soda\"]\n",
    "list_2 =  [\"cheeses\", \"eggs\", \"milk\", \"yogurt\", \"butter\"]\n",
    "list_3 = [\"poultry\", \"beef\", \"pork\"] "
   ]
  },
  {
   "cell_type": "code",
   "execution_count": null,
   "metadata": {},
   "outputs": [],
   "source": []
  },
  {
   "cell_type": "markdown",
   "metadata": {},
   "source": [
    "### [3.4] Nested conditional statements"
   ]
  },
  {
   "cell_type": "markdown",
   "metadata": {},
   "source": [
    "Example-1: Compare the values of x and y"
   ]
  },
  {
   "cell_type": "code",
   "execution_count": null,
   "metadata": {},
   "outputs": [],
   "source": [
    "x = 5\n",
    "y = 2"
   ]
  },
  {
   "cell_type": "code",
   "execution_count": null,
   "metadata": {},
   "outputs": [],
   "source": [
    "if x == y:\n",
    "    print('x and y are equal')\n",
    "else:\n",
    "    if x < y:\n",
    "        print('x is less than y')\n",
    "    else:\n",
    "        print('x is greater than y')"
   ]
  },
  {
   "cell_type": "markdown",
   "metadata": {},
   "source": [
    "Example-2: Risk of contracting Covid-19"
   ]
  },
  {
   "cell_type": "code",
   "execution_count": null,
   "metadata": {},
   "outputs": [],
   "source": [
    "vaccinated = \"yes\"\n",
    "age = 50"
   ]
  },
  {
   "cell_type": "code",
   "execution_count": null,
   "metadata": {},
   "outputs": [],
   "source": [
    "if age > 60:\n",
    "    if vaccinated == \"no\":\n",
    "        risk = \"high\"\n",
    "    else:\n",
    "        risk = \"low/medium\"\n",
    "else:\n",
    "    if vaccinated == \"no\":\n",
    "        risk = \"medium/high\"\n",
    "    else:\n",
    "        risk = \"low\"\n",
    "print(f\"The risk of contracting covid-19 is {risk}.\")    "
   ]
  },
  {
   "cell_type": "markdown",
   "metadata": {},
   "source": [
    "## Exercise.C"
   ]
  },
  {
   "cell_type": "markdown",
   "metadata": {},
   "source": [
    "**(C.1) Write a program that asks the user to enter an amount and whether they are a member. Print shipping fee according to the table below.**<br>\n",
    "- Free shipping if the user is a member.\n",
    "- If the user is not a member, the shipping fee will depend on the amount entered."
   ]
  },
  {
   "cell_type": "markdown",
   "metadata": {},
   "source": [
    "| Shipping fee | Amount < 500 |Amount >= 500|\n",
    "|:-:|:-:|:-:|\n",
    "|Non-members|69 kr|49 kr|\n",
    "|Member|0 kr|0 kr|"
   ]
  },
  {
   "cell_type": "markdown",
   "metadata": {},
   "source": [
    "Example:<br>\n",
    "Amount: <code>350</code><br>\n",
    "Are you a member (yes/no)? <code>no</code><br>\n",
    "The shipping fee is 69 kr."
   ]
  },
  {
   "cell_type": "code",
   "execution_count": null,
   "metadata": {},
   "outputs": [],
   "source": []
  },
  {
   "cell_type": "markdown",
   "metadata": {},
   "source": [
    "### [3.5] Conditional statements with logical operators"
   ]
  },
  {
   "cell_type": "markdown",
   "metadata": {},
   "source": [
    "- **Logical operators**"
   ]
  },
  {
   "cell_type": "code",
   "execution_count": null,
   "metadata": {},
   "outputs": [],
   "source": [
    "x = 2\n",
    "y = 5"
   ]
  },
  {
   "cell_type": "code",
   "execution_count": null,
   "metadata": {},
   "outputs": [],
   "source": [
    "x == 2 and y == 5"
   ]
  },
  {
   "cell_type": "code",
   "execution_count": null,
   "metadata": {},
   "outputs": [],
   "source": [
    "x < 0 and y == 5"
   ]
  },
  {
   "cell_type": "code",
   "execution_count": null,
   "metadata": {},
   "outputs": [],
   "source": [
    "x < 0 or y == 5"
   ]
  },
  {
   "cell_type": "markdown",
   "metadata": {},
   "source": [
    "- **Conditional statements with logical operators**"
   ]
  },
  {
   "cell_type": "markdown",
   "metadata": {},
   "source": [
    "Example-1: If at least one of these two numbers is greater than zero"
   ]
  },
  {
   "cell_type": "code",
   "execution_count": null,
   "metadata": {},
   "outputs": [],
   "source": [
    "x = 10\n",
    "y = -5"
   ]
  },
  {
   "cell_type": "code",
   "execution_count": null,
   "metadata": {},
   "outputs": [],
   "source": [
    "if x > 0 or y > 0:\n",
    "    print(\"At least one of these two numbers is greater than zero.\")\n",
    "else:\n",
    "    print(\"None of them are greater than zero.\")"
   ]
  },
  {
   "cell_type": "markdown",
   "metadata": {},
   "source": [
    "Exmple-2: Risk of contracting Covid-19"
   ]
  },
  {
   "cell_type": "code",
   "execution_count": null,
   "metadata": {},
   "outputs": [],
   "source": [
    "vaccinated = \"yes\"\n",
    "age = 50"
   ]
  },
  {
   "cell_type": "code",
   "execution_count": null,
   "metadata": {},
   "outputs": [],
   "source": [
    "if (age > 60 and vaccinated == \"no\"):\n",
    "    print (\"high risk\")\n",
    "    \n",
    "elif (age <= 60 and vaccinated == \"no\"):\n",
    "    print (\"medium/high risk\")\n",
    "    \n",
    "elif (age > 60 and vaccinated == \"yes\"):\n",
    "    print (\"low/medium risk\")\n",
    "    \n",
    "else:\n",
    "    print (\"low risk\")"
   ]
  },
  {
   "cell_type": "markdown",
   "metadata": {},
   "source": [
    "## Exercise.D"
   ]
  },
  {
   "cell_type": "markdown",
   "metadata": {},
   "source": [
    "**(D.1) Write a program that asks the user to enter their phone number. The program should check if the entered phone number consists of exactly 8 digits. If it does, print <code>Your phone number has been updated</code>. Otherwise, print <code>This is not a valid phone number</code>.**<br>\n",
    "\n",
    "Example:<br>\n",
    "Enter your phone number: <code>464100xx</code><br>\n",
    "This is not a valid phone number."
   ]
  },
  {
   "cell_type": "code",
   "execution_count": null,
   "metadata": {},
   "outputs": [],
   "source": []
  },
  {
   "cell_type": "markdown",
   "metadata": {},
   "source": [
    "**(D.2) Write a program that asks the user to enter an amount and whether they are a member. Print shipping fee according to the table below.**<br> \n",
    "Hint: This exercise is similar to (C.1), but now you can try using logical operators to create conditions instead of nested conditionals."
   ]
  },
  {
   "cell_type": "markdown",
   "metadata": {},
   "source": [
    "| Shipping fee | Amount < 500 |Amount >= 500|\n",
    "|:-:|:-:|:-:|\n",
    "|Non-members|69 kr|49 kr|\n",
    "|Member|29 kr|0 kr|"
   ]
  },
  {
   "cell_type": "markdown",
   "metadata": {},
   "source": [
    "Example:<br>\n",
    "Amount: <code>350</code><br>\n",
    "Are you a member (yes/no)? <code>no</code><br>\n",
    "The shipping fee is 69 kr."
   ]
  },
  {
   "cell_type": "code",
   "execution_count": null,
   "metadata": {},
   "outputs": [],
   "source": []
  },
  {
   "cell_type": "markdown",
   "metadata": {},
   "source": [
    "## [4] Exception handling"
   ]
  },
  {
   "cell_type": "code",
   "execution_count": null,
   "metadata": {},
   "outputs": [],
   "source": [
    "x = \"10\"       # x is incorrectly defined\n",
    "print(x/2)     # cause a TypeError exception"
   ]
  },
  {
   "cell_type": "markdown",
   "metadata": {},
   "source": [
    "- **Catch \"TypeError\"** "
   ]
  },
  {
   "cell_type": "code",
   "execution_count": null,
   "metadata": {},
   "outputs": [],
   "source": [
    "x = \"10\"\n",
    "try:\n",
    "    print(x/2)\n",
    "except TypeError:\n",
    "    print(\"The data type of x is incorrect.\")"
   ]
  },
  {
   "cell_type": "markdown",
   "metadata": {},
   "source": [
    "- **Catch \"ValueError\"** "
   ]
  },
  {
   "cell_type": "code",
   "execution_count": null,
   "metadata": {},
   "outputs": [],
   "source": [
    "try:\n",
    "    y = float(input(\"Enter a number: \"))\n",
    "    print(y)\n",
    "except ValueError:\n",
    "    print(\"The value entered is not a valid floating point number.\")"
   ]
  },
  {
   "cell_type": "markdown",
   "metadata": {},
   "source": [
    "- **Catch all unknown errors** "
   ]
  },
  {
   "cell_type": "code",
   "execution_count": null,
   "metadata": {},
   "outputs": [],
   "source": [
    "try:\n",
    "    print(x[3])\n",
    "except:\n",
    "    print(\"Something went wrong\")"
   ]
  }
 ],
 "metadata": {
  "kernelspec": {
   "display_name": "Python 3 (ipykernel)",
   "language": "python",
   "name": "python3"
  },
  "language_info": {
   "codemirror_mode": {
    "name": "ipython",
    "version": 3
   },
   "file_extension": ".py",
   "mimetype": "text/x-python",
   "name": "python",
   "nbconvert_exporter": "python",
   "pygments_lexer": "ipython3",
   "version": "3.11.4"
  }
 },
 "nbformat": 4,
 "nbformat_minor": 4
}
