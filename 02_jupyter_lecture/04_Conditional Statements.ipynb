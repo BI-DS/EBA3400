{
 "cells": [
  {
   "cell_type": "markdown",
   "metadata": {},
   "source": [
    "# Conditional Statements\n",
    "**[1] Bloolean Expressions**<br>\n",
    "**[2] Statements**<br>\n",
    "**[3] Flowcharts**<br>\n",
    "**[4] Conditional Statements**\n",
    "- Conditional excution\n",
    "- Alternative excution\n",
    "- Chained conditional statements\n",
    "- Nested conditional statements\n",
    "- Conditional statements with logical operators"
   ]
  },
  {
   "cell_type": "markdown",
   "metadata": {},
   "source": [
    "## [1] Boolean Expressions"
   ]
  },
  {
   "cell_type": "markdown",
   "metadata": {},
   "source": [
    "- **Boolean expressions**"
   ]
  },
  {
   "cell_type": "code",
   "execution_count": 1,
   "metadata": {},
   "outputs": [
    {
     "data": {
      "text/plain": [
       "True"
      ]
     },
     "execution_count": 1,
     "metadata": {},
     "output_type": "execute_result"
    }
   ],
   "source": [
    "5 == 5"
   ]
  },
  {
   "cell_type": "code",
   "execution_count": 2,
   "metadata": {},
   "outputs": [
    {
     "data": {
      "text/plain": [
       "False"
      ]
     },
     "execution_count": 2,
     "metadata": {},
     "output_type": "execute_result"
    }
   ],
   "source": [
    "5 == 6"
   ]
  },
  {
   "cell_type": "code",
   "execution_count": 3,
   "metadata": {},
   "outputs": [
    {
     "name": "stdout",
     "output_type": "stream",
     "text": [
      "<class 'bool'>\n",
      "<class 'bool'>\n"
     ]
    }
   ],
   "source": [
    "print(type(True))\n",
    "print(type(False))"
   ]
  },
  {
   "cell_type": "markdown",
   "metadata": {},
   "source": [
    "- **Boolean expression – comparison operators**"
   ]
  },
  {
   "cell_type": "code",
   "execution_count": 4,
   "metadata": {},
   "outputs": [],
   "source": [
    "x = 5\n",
    "y = 2"
   ]
  },
  {
   "cell_type": "code",
   "execution_count": 5,
   "metadata": {},
   "outputs": [
    {
     "name": "stdout",
     "output_type": "stream",
     "text": [
      "x > y is True\n"
     ]
    }
   ],
   "source": [
    "print('x > y is', x>y)"
   ]
  },
  {
   "cell_type": "code",
   "execution_count": 6,
   "metadata": {},
   "outputs": [
    {
     "name": "stdout",
     "output_type": "stream",
     "text": [
      "x == y is False\n"
     ]
    }
   ],
   "source": [
    "print('x == y is', x==y)"
   ]
  },
  {
   "cell_type": "code",
   "execution_count": 7,
   "metadata": {},
   "outputs": [
    {
     "name": "stdout",
     "output_type": "stream",
     "text": [
      "x <= y is False\n"
     ]
    }
   ],
   "source": [
    "print('x <= y is', x<=y)"
   ]
  },
  {
   "cell_type": "markdown",
   "metadata": {},
   "source": [
    "## [2] Statements\n",
    "- Assignment statement\n",
    "- Conditional statement\n",
    "- Loop statement"
   ]
  },
  {
   "cell_type": "markdown",
   "metadata": {},
   "source": [
    "## [3] Flowcharts\n",
    "(Reference slides)"
   ]
  },
  {
   "cell_type": "markdown",
   "metadata": {},
   "source": [
    "## [4] Conditional statements"
   ]
  },
  {
   "cell_type": "markdown",
   "metadata": {},
   "source": [
    "### [4.1] Conditional excution "
   ]
  },
  {
   "cell_type": "markdown",
   "metadata": {},
   "source": [
    "- **Check if a number is larger than zero**"
   ]
  },
  {
   "cell_type": "code",
   "execution_count": 8,
   "metadata": {},
   "outputs": [
    {
     "name": "stdout",
     "output_type": "stream",
     "text": [
      "x > 0\n"
     ]
    }
   ],
   "source": [
    "x = 10\n",
    "if x > 0 :\n",
    "    print('x > 0')"
   ]
  },
  {
   "cell_type": "markdown",
   "metadata": {},
   "source": [
    "- **Check if a string contains a substring**"
   ]
  },
  {
   "cell_type": "code",
   "execution_count": 9,
   "metadata": {},
   "outputs": [
    {
     "name": "stdout",
     "output_type": "stream",
     "text": [
      "This is a greeting message.\n"
     ]
    }
   ],
   "source": [
    "text = \"hello world\"\n",
    "if \"hello\" in text:\n",
    "    print(\"This is a greeting message.\")"
   ]
  },
  {
   "cell_type": "markdown",
   "metadata": {},
   "source": [
    "### [4.2] Alternative excution"
   ]
  },
  {
   "cell_type": "markdown",
   "metadata": {},
   "source": [
    "- **Check if x>0 or x<=0**"
   ]
  },
  {
   "cell_type": "code",
   "execution_count": 10,
   "metadata": {},
   "outputs": [
    {
     "name": "stdout",
     "output_type": "stream",
     "text": [
      "x <= 0\n"
     ]
    }
   ],
   "source": [
    "x = -5\n",
    "if x > 0 :\n",
    "    print('x > 0')\n",
    "else:\n",
    "    print('x <= 0')"
   ]
  },
  {
   "cell_type": "markdown",
   "metadata": {},
   "source": [
    "- **Check if x>0 or x<=0**"
   ]
  },
  {
   "cell_type": "code",
   "execution_count": 12,
   "metadata": {},
   "outputs": [
    {
     "name": "stdout",
     "output_type": "stream",
     "text": [
      "Enter a number: 10\n",
      "Enter a number: 0\n",
      "error\n"
     ]
    }
   ],
   "source": [
    "x = float(input(\"Enter a number: \"))\n",
    "y = float(input(\"Enter a number: \"))\n",
    "\n",
    "if y!=0:\n",
    "    print(x/y)\n",
    "else:\n",
    "    print(\"error\")"
   ]
  },
  {
   "cell_type": "markdown",
   "metadata": {},
   "source": [
    "## Exercise.A"
   ]
  },
  {
   "cell_type": "markdown",
   "metadata": {},
   "source": [
    "**(A.1) Define a variable <code>score = 6.5</code>. Write a conditional statement and print out \"pass\" if the score is larger than 5.**"
   ]
  },
  {
   "cell_type": "code",
   "execution_count": 13,
   "metadata": {},
   "outputs": [
    {
     "name": "stdout",
     "output_type": "stream",
     "text": [
      "pass\n"
     ]
    }
   ],
   "source": [
    "score = 6.5\n",
    "if score > 5:\n",
    "    print(\"pass\")"
   ]
  },
  {
   "cell_type": "markdown",
   "metadata": {},
   "source": [
    "**(A.2) Define an input box named <code>amount</code>. Write a conditional statement to check if the amount > 300. If yes, print out \"Free delivery\"; if not, print out \"Delivery fee is 59kr\"**"
   ]
  },
  {
   "cell_type": "code",
   "execution_count": 14,
   "metadata": {},
   "outputs": [
    {
     "name": "stdout",
     "output_type": "stream",
     "text": [
      "Delivery fee is 59kr\n"
     ]
    }
   ],
   "source": [
    "amount = 250\n",
    "if amount > 300:\n",
    "    print(\"Free delivery\")\n",
    "else:\n",
    "    print(\"Delivery fee is 59kr\")"
   ]
  },
  {
   "cell_type": "code",
   "execution_count": 16,
   "metadata": {},
   "outputs": [
    {
     "name": "stdout",
     "output_type": "stream",
     "text": [
      "amount:250\n",
      "Delivery fee is 59kr\n"
     ]
    }
   ],
   "source": [
    "amount = int(input(\"amount:\"))\n",
    "if amount > 300:\n",
    "    print(\"Free delivery\")\n",
    "else:\n",
    "    print(\"Delivery fee is 59kr\")"
   ]
  },
  {
   "cell_type": "markdown",
   "metadata": {},
   "source": [
    "**(A.3) Write a program to prompt for a 4-digit zip code. Check if the first two numbers of the input value can be found in the list <code>oslo_zipcode</code>, if yes, print \"Oslo\", otherwise print \"Others\".**  "
   ]
  },
  {
   "cell_type": "code",
   "execution_count": 17,
   "metadata": {},
   "outputs": [],
   "source": [
    "oslo_zipcode = [\"00\",\"01\",\"02\",\"03\",\"04\",\"05\",\"06\",\"07\",\"08\",\"09\",\"10\",\"11\",\"12\"]"
   ]
  },
  {
   "cell_type": "code",
   "execution_count": 19,
   "metadata": {},
   "outputs": [
    {
     "name": "stdout",
     "output_type": "stream",
     "text": [
      "zip code: 1300\n",
      "Others\n"
     ]
    }
   ],
   "source": [
    "zipcode = input(\"zip code: \")\n",
    "if zipcode[0:2] in oslo_zipcode:\n",
    "    print(\"Oslo\")\n",
    "else:\n",
    "    print(\"Others\")"
   ]
  },
  {
   "cell_type": "markdown",
   "metadata": {},
   "source": [
    "### [4.3] Chain conditional statements"
   ]
  },
  {
   "cell_type": "code",
   "execution_count": null,
   "metadata": {},
   "outputs": [],
   "source": [
    "x = 5\n",
    "y = 2"
   ]
  },
  {
   "cell_type": "code",
   "execution_count": null,
   "metadata": {},
   "outputs": [],
   "source": [
    "if x < y:\n",
    "    print (\"x is less than y\")\n",
    "elif x > y: \n",
    "    print (\"x is greater than y\")\n",
    "else:\n",
    "    print (\"x and y are equal\")"
   ]
  },
  {
   "cell_type": "markdown",
   "metadata": {},
   "source": [
    "## Exercise.B"
   ]
  },
  {
   "cell_type": "markdown",
   "metadata": {},
   "source": [
    "**(B.1) Define a variable <code>y = -3</code>. Write a conditional statement and print out the description of $y$.**"
   ]
  },
  {
   "cell_type": "markdown",
   "metadata": {},
   "source": [
    "| test | print out |\n",
    "|:-:|:-:|\n",
    "|$y>0$|positive|\n",
    "|$y<0$|negative|\n",
    "|None of the above expression are true|zero|"
   ]
  },
  {
   "cell_type": "code",
   "execution_count": 22,
   "metadata": {},
   "outputs": [
    {
     "name": "stdout",
     "output_type": "stream",
     "text": [
      "positive\n"
     ]
    }
   ],
   "source": [
    "y = 10\n",
    "if y>0:\n",
    "    print(\"positive\")\n",
    "elif y<0:\n",
    "    print(\"negative\")\n",
    "else:\n",
    "    print(\"zero\")"
   ]
  },
  {
   "cell_type": "markdown",
   "metadata": {},
   "source": [
    "**(B.2) Considering the following lists. Write a program that asks the user to enter an item, and then print out the category of the input item.**"
   ]
  },
  {
   "cell_type": "markdown",
   "metadata": {},
   "source": [
    "| test | print out|\n",
    "|:-:|:-:|\n",
    "|item in list_1|beverages|\n",
    "|item in list_2|dairy|\n",
    "|item in list_3|meat|\n",
    "|None of the above expression are true|others|"
   ]
  },
  {
   "cell_type": "markdown",
   "metadata": {},
   "source": [
    "Expected result:\n",
    "<code>\n",
    "Input item: tea\n",
    "Category: beverage\n",
    "</code>"
   ]
  },
  {
   "cell_type": "code",
   "execution_count": 24,
   "metadata": {},
   "outputs": [],
   "source": [
    "list_1  = [\"coffee\",\"tea\",\"juice\", \"soda\"]\n",
    "list_2 =  [\"cheeses\", \"eggs\", \"milk\", \"yogurt\", \"butter\"]\n",
    "list_3 = [\"poultry\", \"beef\", \"pork\"] "
   ]
  },
  {
   "cell_type": "code",
   "execution_count": 27,
   "metadata": {},
   "outputs": [
    {
     "name": "stdout",
     "output_type": "stream",
     "text": [
      "Input item: pork\n",
      "meat\n"
     ]
    }
   ],
   "source": [
    "item = input(\"Input item: \")\n",
    "if item in list_1:\n",
    "    print(\"beverages\")\n",
    "elif item in list_2:\n",
    "    print(\"dairy\")\n",
    "elif item in list_3:\n",
    "    print(\"meat\")\n",
    "else:\n",
    "    print(\"others\")"
   ]
  },
  {
   "cell_type": "markdown",
   "metadata": {},
   "source": [
    "### [4.4] Nested conditional statements"
   ]
  },
  {
   "cell_type": "code",
   "execution_count": null,
   "metadata": {},
   "outputs": [],
   "source": [
    "x = 5\n",
    "y = 2"
   ]
  },
  {
   "cell_type": "code",
   "execution_count": null,
   "metadata": {},
   "outputs": [],
   "source": [
    "if x == y:\n",
    "    print('x and y are equal')\n",
    "else:\n",
    "    if x < y:\n",
    "        print('x is less than y')\n",
    "    else:\n",
    "        print('x is greater than y')"
   ]
  },
  {
   "cell_type": "markdown",
   "metadata": {},
   "source": [
    "## Exercise.C"
   ]
  },
  {
   "cell_type": "markdown",
   "metadata": {},
   "source": [
    "**(C.1) Define two input boxes named <code>prime_membership</code> and <code>amount</code>. Write a program to compute the shipping fee.**<br>\n",
    "- if prime_membership == 'Yes', the shipping fee is 0.\n",
    "- if prime_membership == 'No', the shipping fee will depend on the amount entered. If the amount is greater than or equal to 300, the shipping fee is 0. If amount less than 300, the shipping fee is 59kr."
   ]
  },
  {
   "cell_type": "code",
   "execution_count": 32,
   "metadata": {},
   "outputs": [
    {
     "name": "stdout",
     "output_type": "stream",
     "text": [
      "member(Yes/No): No\n",
      "amount: 200\n",
      "The shipping fee is 59kr.\n"
     ]
    }
   ],
   "source": [
    "prime_membership = input(\"member(Yes/No): \")\n",
    "amount = int(input(\"amount: \"))\n",
    "if prime_membership == \"Yes\":\n",
    "    print(\"The shipping fee is 0.\")\n",
    "else:\n",
    "    if amount >= 300:\n",
    "        print(\"The shipping fee is 0.\")\n",
    "    else:\n",
    "        print(\"The shipping fee is 59kr.\")\n"
   ]
  },
  {
   "cell_type": "markdown",
   "metadata": {},
   "source": [
    "**(C.2) Write a program to prompt for a 4-digit zip code. Print messages according to the following rules.**<br>\n",
    "- Check if the entered value consists only of digits (Hint: use string method <code>isdigit()</code>). If yes, then check the first two numbers. If they are in the <code>oslo_zipcode</code>, then print \"Oslo\", otherwise print \"Others\".\n",
    "- If the entered value contains other characters, print \"Please enter a valid zip code\"."
   ]
  },
  {
   "cell_type": "code",
   "execution_count": 33,
   "metadata": {},
   "outputs": [],
   "source": [
    "oslo_zipcode = [\"00\",\"01\",\"02\",\"03\",\"04\",\"05\",\"06\",\"07\",\"08\",\"09\",\"10\",\"11\",\"12\"]"
   ]
  },
  {
   "cell_type": "code",
   "execution_count": 37,
   "metadata": {},
   "outputs": [
    {
     "name": "stdout",
     "output_type": "stream",
     "text": [
      "zip code: 048a\n",
      "Please enter a valid zip code\n"
     ]
    }
   ],
   "source": [
    "zipcode = input(\"zip code: \")\n",
    "if zipcode.isdigit():\n",
    "    if zipcode[:2] in oslo_zipcode:\n",
    "        print(\"Oslo\")\n",
    "    else:\n",
    "        print(\"Others\")\n",
    "else:\n",
    "    print(\"Please enter a valid zip code\")"
   ]
  },
  {
   "cell_type": "markdown",
   "metadata": {},
   "source": [
    "### [4.5] Conditional statements with logical operators"
   ]
  },
  {
   "cell_type": "markdown",
   "metadata": {},
   "source": [
    "- **Logical operators**"
   ]
  },
  {
   "cell_type": "code",
   "execution_count": null,
   "metadata": {},
   "outputs": [],
   "source": [
    "x = 2\n",
    "y = 5"
   ]
  },
  {
   "cell_type": "code",
   "execution_count": null,
   "metadata": {},
   "outputs": [],
   "source": [
    "x == 2 and y == 5"
   ]
  },
  {
   "cell_type": "code",
   "execution_count": null,
   "metadata": {},
   "outputs": [],
   "source": [
    "x < 0 and y == 5"
   ]
  },
  {
   "cell_type": "code",
   "execution_count": null,
   "metadata": {},
   "outputs": [],
   "source": [
    "x < 0 or y == 5"
   ]
  },
  {
   "cell_type": "markdown",
   "metadata": {},
   "source": [
    "- **Conditional statements with logical operators**"
   ]
  },
  {
   "cell_type": "code",
   "execution_count": null,
   "metadata": {},
   "outputs": [],
   "source": [
    "vaccinated = \"yes\"\n",
    "age = 50"
   ]
  },
  {
   "cell_type": "code",
   "execution_count": null,
   "metadata": {},
   "outputs": [],
   "source": [
    "if (age > 60 and vaccinated == \"no\"):\n",
    "    print (\"high risk\")\n",
    "    \n",
    "elif (age <= 60 and vaccinated == \"no\"):\n",
    "    print (\"medium/high risk\")\n",
    "    \n",
    "elif (age > 60 and vaccinated == \"yes\"):\n",
    "    print (\"low/medium risk\")\n",
    "    \n",
    "else:\n",
    "    print (\"low risk\")"
   ]
  },
  {
   "cell_type": "markdown",
   "metadata": {},
   "source": [
    "## Exercise.D"
   ]
  },
  {
   "cell_type": "markdown",
   "metadata": {},
   "source": [
    "**(D.1) Define two input boxes named <code>temperature</code> and <code>sunny_day</code>. Write a program to decide (print) your transportation mode.**<br>"
   ]
  },
  {
   "cell_type": "markdown",
   "metadata": {},
   "source": [
    "|| sunny_day = no | sunny_day = yes |\n",
    "|:-:|:-:|:-:|\n",
    "|<b>temperature > 25</b>|bus|scooter|\n",
    "|<b>temperature <= 25</b>|bike|walk|"
   ]
  },
  {
   "cell_type": "code",
   "execution_count": 43,
   "metadata": {},
   "outputs": [
    {
     "name": "stdout",
     "output_type": "stream",
     "text": [
      "temperature: 29\n",
      "sunny day: YES\n",
      "scooter\n"
     ]
    }
   ],
   "source": [
    "t = int(input(\"temperature: \"))\n",
    "sunny = input(\"sunny day: \")\n",
    "if (t > 25 and sunny == \"no\"):\n",
    "    print(\"bus\")\n",
    "elif (t <= 25 and sunny == \"no\" ):\n",
    "    print(\"bike\")\n",
    "elif (t > 25 and sunny.casefold() == \"yes\"):\n",
    "    print(\"scooter\")\n",
    "elif (t <= 25 and sunny == \"yes\"):\n",
    "    print(\"walk\")\n",
    "else:\n",
    "    print(\"please enter valid values\")"
   ]
  },
  {
   "cell_type": "markdown",
   "metadata": {},
   "source": [
    "**(D.2) Write a program that asks if the user is a student. If the entered value is 'yes' or 'no', then print out \"Thank you for your answer. If not, print out \"Please enter yes or no\".**<br>"
   ]
  },
  {
   "cell_type": "code",
   "execution_count": 45,
   "metadata": {},
   "outputs": [
    {
     "name": "stdout",
     "output_type": "stream",
     "text": [
      "are you a student? test\n",
      "Please enter yes or no\n"
     ]
    }
   ],
   "source": [
    "student = input(\"are you a student? \")\n",
    "if (student.casefold() == \"yes\" or student.casefold() == \"no\"):\n",
    "    print( \"Thank you for your answer\")\n",
    "else:\n",
    "    print(\"Please enter yes or no\")"
   ]
  },
  {
   "cell_type": "code",
   "execution_count": null,
   "metadata": {},
   "outputs": [],
   "source": []
  }
 ],
 "metadata": {
  "kernelspec": {
   "display_name": "Python 3",
   "language": "python",
   "name": "python3"
  },
  "language_info": {
   "codemirror_mode": {
    "name": "ipython",
    "version": 3
   },
   "file_extension": ".py",
   "mimetype": "text/x-python",
   "name": "python",
   "nbconvert_exporter": "python",
   "pygments_lexer": "ipython3",
   "version": "3.8.8"
  }
 },
 "nbformat": 4,
 "nbformat_minor": 4
}
